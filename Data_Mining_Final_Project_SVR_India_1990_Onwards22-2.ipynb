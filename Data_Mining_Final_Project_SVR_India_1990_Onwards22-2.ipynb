{
 "cells": [
  {
   "cell_type": "code",
   "execution_count": 343,
   "id": "e06adb01",
   "metadata": {
    "id": "e06adb01"
   },
   "outputs": [],
   "source": [
    "# Data Manipulation\n",
    "import pandas as pd # for data manipulation\n",
    "import numpy as np # for data manipulation\n",
    "\n",
    "# Sklearn\n",
    "from sklearn.linear_model import LinearRegression # for building a linear regression model\n",
    "from sklearn.svm import SVR # for building SVR model\n",
    "from sklearn.preprocessing import MinMaxScaler\n",
    "from sklearn.model_selection import train_test_split\n",
    "from sklearn import metrics\n",
    "\n",
    "# Visualizations\n",
    "import plotly.graph_objects as go # for data visualization\n",
    "import plotly.express as px # for data visualization\n",
    "import matplotlib.pyplot as plt"
   ]
  },
  {
   "cell_type": "code",
   "execution_count": 344,
   "id": "efa65db4",
   "metadata": {
    "id": "efa65db4"
   },
   "outputs": [],
   "source": [
    "df = pd.read_csv('merged-population-asia.csv')"
   ]
  },
  {
   "cell_type": "code",
   "execution_count": 345,
   "id": "7c464698",
   "metadata": {
    "colab": {
     "base_uri": "https://localhost:8080/"
    },
    "id": "7c464698",
    "outputId": "729ed010-0268-445e-e1fb-bee573d02eb2"
   },
   "outputs": [
    {
     "data": {
      "text/plain": [
       "<bound method NDFrame.head of    Country Name  Year  Hydropower (terawatt-hours)  Solar (terawatt-hours)  \\\n",
       "28        India  1990                    66.397066                0.000000   \n",
       "29        India  1991                    73.918884                0.000000   \n",
       "30        India  1992                    70.060748                0.000000   \n",
       "31        India  1993                    70.732497                0.000000   \n",
       "32        India  1994                    80.212110                0.000000   \n",
       "33        India  1995                    75.920873                0.001010   \n",
       "34        India  1996                    69.057544                0.006061   \n",
       "35        India  1997                    70.211008                0.006061   \n",
       "36        India  1998                    83.632726                0.006061   \n",
       "37        India  1999                    82.249453                0.006061   \n",
       "38        India  2000                    76.990367                0.007071   \n",
       "39        India  2001                    72.022962                0.011111   \n",
       "40        India  2002                    68.544894                0.013131   \n",
       "41        India  2003                    69.296192                0.016162   \n",
       "42        India  2004                    83.840437                0.018182   \n",
       "43        India  2005                    97.420000                0.018182   \n",
       "44        India  2006                   112.617332                0.007200   \n",
       "45        India  2007                   122.613097                0.059000   \n",
       "46        India  2008                   115.169020                0.063000   \n",
       "47        India  2009                   106.338027                0.075000   \n",
       "48        India  2010                   108.744097                0.113000   \n",
       "49        India  2011                   131.704598                0.827000   \n",
       "50        India  2012                   115.776375                2.099000   \n",
       "51        India  2013                   131.983020                3.433000   \n",
       "52        India  2014                   138.996293                4.909000   \n",
       "53        India  2015                   133.282537                6.566380   \n",
       "54        India  2016                   128.381614               11.555980   \n",
       "55        India  2017                   135.668322               21.522210   \n",
       "\n",
       "    Wind (terawatt-hours)  Other renewables (terawatt-hours)  Population  \n",
       "28               0.030303                           0.037586   873277798  \n",
       "29               0.112910                           0.095071   891273209  \n",
       "30               0.088470                           0.119392   909307016  \n",
       "31               0.094770                           0.252050   927403860  \n",
       "32               0.191280                           0.380285   945601831  \n",
       "33               0.496470                           0.563795   963922588  \n",
       "34               0.878380                           0.756149   982365243  \n",
       "35               0.988000                           0.981667  1000900030  \n",
       "36               1.079000                           1.292528  1019483581  \n",
       "37               1.446000                           1.686079  1038058156  \n",
       "38               1.582000                           1.686079  1056575549  \n",
       "39               2.085000                           2.069150  1075000085  \n",
       "40               2.085000                           2.139901  1093317189  \n",
       "41               2.604480                           2.712540  1111523144  \n",
       "42               5.225430                           3.314363  1129623456  \n",
       "43               5.991000                           4.035136  1147609927  \n",
       "44               9.337300                           5.587000  1165486291  \n",
       "45              11.682800                           7.403000  1183209472  \n",
       "46              14.378200                           9.302000  1200669765  \n",
       "47              16.271000                          11.642000  1217726215  \n",
       "48              19.456400                          14.295000  1234281170  \n",
       "49              23.952300                          17.137000  1250288729  \n",
       "50              27.432600                          19.936000  1265782790  \n",
       "51              30.007400                          22.478000  1280846129  \n",
       "52              33.454900                          24.676000  1295604184  \n",
       "53              32.741380                          25.818000  1310152403  \n",
       "54              43.452830                          24.816846  1324509589  \n",
       "55              52.624950                          21.619790  1338658835  >"
      ]
     },
     "execution_count": 345,
     "metadata": {},
     "output_type": "execute_result"
    }
   ],
   "source": [
    "df = df[df['Country Name'] == 'India']\n",
    "df = df.drop(['Unnamed: 0'], axis=1)\n",
    "#df.drop(df[df['Year'] <= 1998].index, inplace = True)\n",
    "df.head"
   ]
  },
  {
   "cell_type": "code",
   "execution_count": 346,
   "id": "QjIANYGo7f5T",
   "metadata": {
    "colab": {
     "base_uri": "https://localhost:8080/"
    },
    "id": "QjIANYGo7f5T",
    "outputId": "c4f73537-f027-4acc-a297-e0f80052fe31"
   },
   "outputs": [
    {
     "name": "stdout",
     "output_type": "stream",
     "text": [
      "Pearsons correlation for Hydropower: 0.899\n",
      "Pearsons correlation for Solar Power: 0.573\n",
      "Pearsons correlation for Wind: 0.877\n",
      "Pearsons correlation for other renewables: 0.898\n"
     ]
    }
   ],
   "source": [
    "# Finding the correlation between consumption and population\n",
    "from scipy.stats import pearsonr\n",
    "\n",
    "corr, _ = pearsonr(df['Hydropower (terawatt-hours)'], df['Population'])\n",
    "print('Pearsons correlation for Hydropower: %.3f' % corr)\n",
    "\n",
    "corr, _ = pearsonr(df['Solar (terawatt-hours)'], df['Population'])\n",
    "print('Pearsons correlation for Solar Power: %.3f' % corr)\n",
    "\n",
    "corr, _ = pearsonr(df['Wind (terawatt-hours)'], df['Population'])\n",
    "print('Pearsons correlation for Wind: %.3f' % corr)\n",
    "\n",
    "corr, _ = pearsonr(df['Other renewables (terawatt-hours)'], df['Population'])\n",
    "print('Pearsons correlation for other renewables: %.3f' % corr)\n",
    "\n",
    "# With the high correlation for Hydropower and population (0.899) in India, we\n",
    "# can support our claim that an increase in population leads to an increase in\n",
    "# need for hydropower.\n"
   ]
  },
  {
   "cell_type": "markdown",
   "id": "66cdb892",
   "metadata": {
    "id": "66cdb892"
   },
   "source": [
    "# Hydropower"
   ]
  },
  {
   "cell_type": "code",
   "execution_count": 347,
   "id": "bbddefed",
   "metadata": {
    "id": "bbddefed"
   },
   "outputs": [],
   "source": [
    "# Use MinMax Scaling on Year and Hydropower\n",
    "scaler=MinMaxScaler()\n",
    "df['Year (scaled)']=scaler.fit_transform(df[['Year']])\n",
    "df['Hydropower (scaled)']=scaler.fit_transform(df[['Hydropower (terawatt-hours)']])"
   ]
  },
  {
   "cell_type": "code",
   "execution_count": 348,
   "id": "4c1cf523",
   "metadata": {
    "colab": {
     "base_uri": "https://localhost:8080/",
     "height": 542
    },
    "id": "4c1cf523",
    "outputId": "c49a4506-b677-4c57-cd20-c1a065eae409"
   },
   "outputs": [
    {
     "data": {
      "application/vnd.plotly.v1+json": {
       "config": {
        "plotlyServerURL": "https://plot.ly"
       },
       "data": [
        {
         "hovertemplate": "Year=%{x}<br>Hydropower (terawatt-hours)=%{y}<extra></extra>",
         "legendgroup": "",
         "marker": {
          "color": "black",
          "opacity": 0.8,
          "size": 3,
          "symbol": "circle"
         },
         "mode": "markers",
         "name": "",
         "orientation": "v",
         "showlegend": false,
         "type": "scatter",
         "x": [
          1990,
          1991,
          1992,
          1993,
          1994,
          1995,
          1996,
          1997,
          1998,
          1999,
          2000,
          2001,
          2002,
          2003,
          2004,
          2005,
          2006,
          2007,
          2008,
          2009,
          2010,
          2011,
          2012,
          2013,
          2014,
          2015,
          2016,
          2017
         ],
         "xaxis": "x",
         "y": [
          66.3970656,
          73.9188844,
          70.0607482,
          70.732497,
          80.21211,
          75.9208726,
          69.0575444,
          70.2110078,
          83.6327256,
          82.2494534,
          76.9903674,
          72.0229618,
          68.544894,
          69.296192,
          83.8404374,
          97.42,
          112.617332315068,
          122.6130975,
          115.16902,
          106.3380275,
          108.7440975,
          131.7045975,
          115.776375,
          131.98302,
          138.9962925,
          133.2825367375,
          128.38161390475,
          135.668322227574
         ],
         "yaxis": "y"
        }
       ],
       "layout": {
        "legend": {
         "tracegroupgap": 0
        },
        "margin": {
         "t": 60
        },
        "plot_bgcolor": "white",
        "template": {
         "data": {
          "bar": [
           {
            "error_x": {
             "color": "#2a3f5f"
            },
            "error_y": {
             "color": "#2a3f5f"
            },
            "marker": {
             "line": {
              "color": "#E5ECF6",
              "width": 0.5
             },
             "pattern": {
              "fillmode": "overlay",
              "size": 10,
              "solidity": 0.2
             }
            },
            "type": "bar"
           }
          ],
          "barpolar": [
           {
            "marker": {
             "line": {
              "color": "#E5ECF6",
              "width": 0.5
             },
             "pattern": {
              "fillmode": "overlay",
              "size": 10,
              "solidity": 0.2
             }
            },
            "type": "barpolar"
           }
          ],
          "carpet": [
           {
            "aaxis": {
             "endlinecolor": "#2a3f5f",
             "gridcolor": "white",
             "linecolor": "white",
             "minorgridcolor": "white",
             "startlinecolor": "#2a3f5f"
            },
            "baxis": {
             "endlinecolor": "#2a3f5f",
             "gridcolor": "white",
             "linecolor": "white",
             "minorgridcolor": "white",
             "startlinecolor": "#2a3f5f"
            },
            "type": "carpet"
           }
          ],
          "choropleth": [
           {
            "colorbar": {
             "outlinewidth": 0,
             "ticks": ""
            },
            "type": "choropleth"
           }
          ],
          "contour": [
           {
            "colorbar": {
             "outlinewidth": 0,
             "ticks": ""
            },
            "colorscale": [
             [
              0,
              "#0d0887"
             ],
             [
              0.1111111111111111,
              "#46039f"
             ],
             [
              0.2222222222222222,
              "#7201a8"
             ],
             [
              0.3333333333333333,
              "#9c179e"
             ],
             [
              0.4444444444444444,
              "#bd3786"
             ],
             [
              0.5555555555555556,
              "#d8576b"
             ],
             [
              0.6666666666666666,
              "#ed7953"
             ],
             [
              0.7777777777777778,
              "#fb9f3a"
             ],
             [
              0.8888888888888888,
              "#fdca26"
             ],
             [
              1,
              "#f0f921"
             ]
            ],
            "type": "contour"
           }
          ],
          "contourcarpet": [
           {
            "colorbar": {
             "outlinewidth": 0,
             "ticks": ""
            },
            "type": "contourcarpet"
           }
          ],
          "heatmap": [
           {
            "colorbar": {
             "outlinewidth": 0,
             "ticks": ""
            },
            "colorscale": [
             [
              0,
              "#0d0887"
             ],
             [
              0.1111111111111111,
              "#46039f"
             ],
             [
              0.2222222222222222,
              "#7201a8"
             ],
             [
              0.3333333333333333,
              "#9c179e"
             ],
             [
              0.4444444444444444,
              "#bd3786"
             ],
             [
              0.5555555555555556,
              "#d8576b"
             ],
             [
              0.6666666666666666,
              "#ed7953"
             ],
             [
              0.7777777777777778,
              "#fb9f3a"
             ],
             [
              0.8888888888888888,
              "#fdca26"
             ],
             [
              1,
              "#f0f921"
             ]
            ],
            "type": "heatmap"
           }
          ],
          "heatmapgl": [
           {
            "colorbar": {
             "outlinewidth": 0,
             "ticks": ""
            },
            "colorscale": [
             [
              0,
              "#0d0887"
             ],
             [
              0.1111111111111111,
              "#46039f"
             ],
             [
              0.2222222222222222,
              "#7201a8"
             ],
             [
              0.3333333333333333,
              "#9c179e"
             ],
             [
              0.4444444444444444,
              "#bd3786"
             ],
             [
              0.5555555555555556,
              "#d8576b"
             ],
             [
              0.6666666666666666,
              "#ed7953"
             ],
             [
              0.7777777777777778,
              "#fb9f3a"
             ],
             [
              0.8888888888888888,
              "#fdca26"
             ],
             [
              1,
              "#f0f921"
             ]
            ],
            "type": "heatmapgl"
           }
          ],
          "histogram": [
           {
            "marker": {
             "pattern": {
              "fillmode": "overlay",
              "size": 10,
              "solidity": 0.2
             }
            },
            "type": "histogram"
           }
          ],
          "histogram2d": [
           {
            "colorbar": {
             "outlinewidth": 0,
             "ticks": ""
            },
            "colorscale": [
             [
              0,
              "#0d0887"
             ],
             [
              0.1111111111111111,
              "#46039f"
             ],
             [
              0.2222222222222222,
              "#7201a8"
             ],
             [
              0.3333333333333333,
              "#9c179e"
             ],
             [
              0.4444444444444444,
              "#bd3786"
             ],
             [
              0.5555555555555556,
              "#d8576b"
             ],
             [
              0.6666666666666666,
              "#ed7953"
             ],
             [
              0.7777777777777778,
              "#fb9f3a"
             ],
             [
              0.8888888888888888,
              "#fdca26"
             ],
             [
              1,
              "#f0f921"
             ]
            ],
            "type": "histogram2d"
           }
          ],
          "histogram2dcontour": [
           {
            "colorbar": {
             "outlinewidth": 0,
             "ticks": ""
            },
            "colorscale": [
             [
              0,
              "#0d0887"
             ],
             [
              0.1111111111111111,
              "#46039f"
             ],
             [
              0.2222222222222222,
              "#7201a8"
             ],
             [
              0.3333333333333333,
              "#9c179e"
             ],
             [
              0.4444444444444444,
              "#bd3786"
             ],
             [
              0.5555555555555556,
              "#d8576b"
             ],
             [
              0.6666666666666666,
              "#ed7953"
             ],
             [
              0.7777777777777778,
              "#fb9f3a"
             ],
             [
              0.8888888888888888,
              "#fdca26"
             ],
             [
              1,
              "#f0f921"
             ]
            ],
            "type": "histogram2dcontour"
           }
          ],
          "mesh3d": [
           {
            "colorbar": {
             "outlinewidth": 0,
             "ticks": ""
            },
            "type": "mesh3d"
           }
          ],
          "parcoords": [
           {
            "line": {
             "colorbar": {
              "outlinewidth": 0,
              "ticks": ""
             }
            },
            "type": "parcoords"
           }
          ],
          "pie": [
           {
            "automargin": true,
            "type": "pie"
           }
          ],
          "scatter": [
           {
            "marker": {
             "colorbar": {
              "outlinewidth": 0,
              "ticks": ""
             }
            },
            "type": "scatter"
           }
          ],
          "scatter3d": [
           {
            "line": {
             "colorbar": {
              "outlinewidth": 0,
              "ticks": ""
             }
            },
            "marker": {
             "colorbar": {
              "outlinewidth": 0,
              "ticks": ""
             }
            },
            "type": "scatter3d"
           }
          ],
          "scattercarpet": [
           {
            "marker": {
             "colorbar": {
              "outlinewidth": 0,
              "ticks": ""
             }
            },
            "type": "scattercarpet"
           }
          ],
          "scattergeo": [
           {
            "marker": {
             "colorbar": {
              "outlinewidth": 0,
              "ticks": ""
             }
            },
            "type": "scattergeo"
           }
          ],
          "scattergl": [
           {
            "marker": {
             "colorbar": {
              "outlinewidth": 0,
              "ticks": ""
             }
            },
            "type": "scattergl"
           }
          ],
          "scattermapbox": [
           {
            "marker": {
             "colorbar": {
              "outlinewidth": 0,
              "ticks": ""
             }
            },
            "type": "scattermapbox"
           }
          ],
          "scatterpolar": [
           {
            "marker": {
             "colorbar": {
              "outlinewidth": 0,
              "ticks": ""
             }
            },
            "type": "scatterpolar"
           }
          ],
          "scatterpolargl": [
           {
            "marker": {
             "colorbar": {
              "outlinewidth": 0,
              "ticks": ""
             }
            },
            "type": "scatterpolargl"
           }
          ],
          "scatterternary": [
           {
            "marker": {
             "colorbar": {
              "outlinewidth": 0,
              "ticks": ""
             }
            },
            "type": "scatterternary"
           }
          ],
          "surface": [
           {
            "colorbar": {
             "outlinewidth": 0,
             "ticks": ""
            },
            "colorscale": [
             [
              0,
              "#0d0887"
             ],
             [
              0.1111111111111111,
              "#46039f"
             ],
             [
              0.2222222222222222,
              "#7201a8"
             ],
             [
              0.3333333333333333,
              "#9c179e"
             ],
             [
              0.4444444444444444,
              "#bd3786"
             ],
             [
              0.5555555555555556,
              "#d8576b"
             ],
             [
              0.6666666666666666,
              "#ed7953"
             ],
             [
              0.7777777777777778,
              "#fb9f3a"
             ],
             [
              0.8888888888888888,
              "#fdca26"
             ],
             [
              1,
              "#f0f921"
             ]
            ],
            "type": "surface"
           }
          ],
          "table": [
           {
            "cells": {
             "fill": {
              "color": "#EBF0F8"
             },
             "line": {
              "color": "white"
             }
            },
            "header": {
             "fill": {
              "color": "#C8D4E3"
             },
             "line": {
              "color": "white"
             }
            },
            "type": "table"
           }
          ]
         },
         "layout": {
          "annotationdefaults": {
           "arrowcolor": "#2a3f5f",
           "arrowhead": 0,
           "arrowwidth": 1
          },
          "autotypenumbers": "strict",
          "coloraxis": {
           "colorbar": {
            "outlinewidth": 0,
            "ticks": ""
           }
          },
          "colorscale": {
           "diverging": [
            [
             0,
             "#8e0152"
            ],
            [
             0.1,
             "#c51b7d"
            ],
            [
             0.2,
             "#de77ae"
            ],
            [
             0.3,
             "#f1b6da"
            ],
            [
             0.4,
             "#fde0ef"
            ],
            [
             0.5,
             "#f7f7f7"
            ],
            [
             0.6,
             "#e6f5d0"
            ],
            [
             0.7,
             "#b8e186"
            ],
            [
             0.8,
             "#7fbc41"
            ],
            [
             0.9,
             "#4d9221"
            ],
            [
             1,
             "#276419"
            ]
           ],
           "sequential": [
            [
             0,
             "#0d0887"
            ],
            [
             0.1111111111111111,
             "#46039f"
            ],
            [
             0.2222222222222222,
             "#7201a8"
            ],
            [
             0.3333333333333333,
             "#9c179e"
            ],
            [
             0.4444444444444444,
             "#bd3786"
            ],
            [
             0.5555555555555556,
             "#d8576b"
            ],
            [
             0.6666666666666666,
             "#ed7953"
            ],
            [
             0.7777777777777778,
             "#fb9f3a"
            ],
            [
             0.8888888888888888,
             "#fdca26"
            ],
            [
             1,
             "#f0f921"
            ]
           ],
           "sequentialminus": [
            [
             0,
             "#0d0887"
            ],
            [
             0.1111111111111111,
             "#46039f"
            ],
            [
             0.2222222222222222,
             "#7201a8"
            ],
            [
             0.3333333333333333,
             "#9c179e"
            ],
            [
             0.4444444444444444,
             "#bd3786"
            ],
            [
             0.5555555555555556,
             "#d8576b"
            ],
            [
             0.6666666666666666,
             "#ed7953"
            ],
            [
             0.7777777777777778,
             "#fb9f3a"
            ],
            [
             0.8888888888888888,
             "#fdca26"
            ],
            [
             1,
             "#f0f921"
            ]
           ]
          },
          "colorway": [
           "#636efa",
           "#EF553B",
           "#00cc96",
           "#ab63fa",
           "#FFA15A",
           "#19d3f3",
           "#FF6692",
           "#B6E880",
           "#FF97FF",
           "#FECB52"
          ],
          "font": {
           "color": "#2a3f5f"
          },
          "geo": {
           "bgcolor": "white",
           "lakecolor": "white",
           "landcolor": "#E5ECF6",
           "showlakes": true,
           "showland": true,
           "subunitcolor": "white"
          },
          "hoverlabel": {
           "align": "left"
          },
          "hovermode": "closest",
          "mapbox": {
           "style": "light"
          },
          "paper_bgcolor": "white",
          "plot_bgcolor": "#E5ECF6",
          "polar": {
           "angularaxis": {
            "gridcolor": "white",
            "linecolor": "white",
            "ticks": ""
           },
           "bgcolor": "#E5ECF6",
           "radialaxis": {
            "gridcolor": "white",
            "linecolor": "white",
            "ticks": ""
           }
          },
          "scene": {
           "xaxis": {
            "backgroundcolor": "#E5ECF6",
            "gridcolor": "white",
            "gridwidth": 2,
            "linecolor": "white",
            "showbackground": true,
            "ticks": "",
            "zerolinecolor": "white"
           },
           "yaxis": {
            "backgroundcolor": "#E5ECF6",
            "gridcolor": "white",
            "gridwidth": 2,
            "linecolor": "white",
            "showbackground": true,
            "ticks": "",
            "zerolinecolor": "white"
           },
           "zaxis": {
            "backgroundcolor": "#E5ECF6",
            "gridcolor": "white",
            "gridwidth": 2,
            "linecolor": "white",
            "showbackground": true,
            "ticks": "",
            "zerolinecolor": "white"
           }
          },
          "shapedefaults": {
           "line": {
            "color": "#2a3f5f"
           }
          },
          "ternary": {
           "aaxis": {
            "gridcolor": "white",
            "linecolor": "white",
            "ticks": ""
           },
           "baxis": {
            "gridcolor": "white",
            "linecolor": "white",
            "ticks": ""
           },
           "bgcolor": "#E5ECF6",
           "caxis": {
            "gridcolor": "white",
            "linecolor": "white",
            "ticks": ""
           }
          },
          "title": {
           "x": 0.05
          },
          "xaxis": {
           "automargin": true,
           "gridcolor": "white",
           "linecolor": "white",
           "ticks": "",
           "title": {
            "standoff": 15
           },
           "zerolinecolor": "white",
           "zerolinewidth": 2
          },
          "yaxis": {
           "automargin": true,
           "gridcolor": "white",
           "linecolor": "white",
           "ticks": "",
           "title": {
            "standoff": 15
           },
           "zerolinecolor": "white",
           "zerolinewidth": 2
          }
         }
        },
        "title": {
         "font": {
          "color": "black"
         },
         "text": "Hydropower Energy Consumption in India"
        },
        "xaxis": {
         "anchor": "y",
         "domain": [
          0,
          1
         ],
         "gridcolor": "lightgrey",
         "gridwidth": 1,
         "linecolor": "black",
         "linewidth": 1,
         "showgrid": true,
         "showline": true,
         "title": {
          "text": "Year"
         },
         "zeroline": true,
         "zerolinecolor": "lightgrey",
         "zerolinewidth": 1
        },
        "yaxis": {
         "anchor": "x",
         "domain": [
          0,
          1
         ],
         "gridcolor": "lightgrey",
         "gridwidth": 1,
         "linecolor": "black",
         "linewidth": 1,
         "showgrid": true,
         "showline": true,
         "title": {
          "text": "Hydropower (terawatt-hours)"
         },
         "zeroline": true,
         "zerolinecolor": "lightgrey",
         "zerolinewidth": 1
        }
       }
      },
      "text/html": [
       "<div>                            <div id=\"110ff26a-508f-4e27-ba95-b1d34e57725e\" class=\"plotly-graph-div\" style=\"height:525px; width:100%;\"></div>            <script type=\"text/javascript\">                require([\"plotly\"], function(Plotly) {                    window.PLOTLYENV=window.PLOTLYENV || {};                                    if (document.getElementById(\"110ff26a-508f-4e27-ba95-b1d34e57725e\")) {                    Plotly.newPlot(                        \"110ff26a-508f-4e27-ba95-b1d34e57725e\",                        [{\"hovertemplate\":\"Year=%{x}<br>Hydropower (terawatt-hours)=%{y}<extra></extra>\",\"legendgroup\":\"\",\"marker\":{\"color\":\"black\",\"opacity\":0.8,\"symbol\":\"circle\",\"size\":3},\"mode\":\"markers\",\"name\":\"\",\"orientation\":\"v\",\"showlegend\":false,\"x\":[1990,1991,1992,1993,1994,1995,1996,1997,1998,1999,2000,2001,2002,2003,2004,2005,2006,2007,2008,2009,2010,2011,2012,2013,2014,2015,2016,2017],\"xaxis\":\"x\",\"y\":[66.3970656,73.9188844,70.0607482,70.732497,80.21211,75.9208726,69.0575444,70.2110078,83.6327256,82.2494534,76.9903674,72.0229618,68.544894,69.296192,83.8404374,97.42,112.617332315068,122.6130975,115.16902,106.3380275,108.7440975,131.7045975,115.776375,131.98302,138.9962925,133.2825367375,128.38161390475,135.668322227574],\"yaxis\":\"y\",\"type\":\"scatter\"}],                        {\"template\":{\"data\":{\"bar\":[{\"error_x\":{\"color\":\"#2a3f5f\"},\"error_y\":{\"color\":\"#2a3f5f\"},\"marker\":{\"line\":{\"color\":\"#E5ECF6\",\"width\":0.5},\"pattern\":{\"fillmode\":\"overlay\",\"size\":10,\"solidity\":0.2}},\"type\":\"bar\"}],\"barpolar\":[{\"marker\":{\"line\":{\"color\":\"#E5ECF6\",\"width\":0.5},\"pattern\":{\"fillmode\":\"overlay\",\"size\":10,\"solidity\":0.2}},\"type\":\"barpolar\"}],\"carpet\":[{\"aaxis\":{\"endlinecolor\":\"#2a3f5f\",\"gridcolor\":\"white\",\"linecolor\":\"white\",\"minorgridcolor\":\"white\",\"startlinecolor\":\"#2a3f5f\"},\"baxis\":{\"endlinecolor\":\"#2a3f5f\",\"gridcolor\":\"white\",\"linecolor\":\"white\",\"minorgridcolor\":\"white\",\"startlinecolor\":\"#2a3f5f\"},\"type\":\"carpet\"}],\"choropleth\":[{\"colorbar\":{\"outlinewidth\":0,\"ticks\":\"\"},\"type\":\"choropleth\"}],\"contour\":[{\"colorbar\":{\"outlinewidth\":0,\"ticks\":\"\"},\"colorscale\":[[0.0,\"#0d0887\"],[0.1111111111111111,\"#46039f\"],[0.2222222222222222,\"#7201a8\"],[0.3333333333333333,\"#9c179e\"],[0.4444444444444444,\"#bd3786\"],[0.5555555555555556,\"#d8576b\"],[0.6666666666666666,\"#ed7953\"],[0.7777777777777778,\"#fb9f3a\"],[0.8888888888888888,\"#fdca26\"],[1.0,\"#f0f921\"]],\"type\":\"contour\"}],\"contourcarpet\":[{\"colorbar\":{\"outlinewidth\":0,\"ticks\":\"\"},\"type\":\"contourcarpet\"}],\"heatmap\":[{\"colorbar\":{\"outlinewidth\":0,\"ticks\":\"\"},\"colorscale\":[[0.0,\"#0d0887\"],[0.1111111111111111,\"#46039f\"],[0.2222222222222222,\"#7201a8\"],[0.3333333333333333,\"#9c179e\"],[0.4444444444444444,\"#bd3786\"],[0.5555555555555556,\"#d8576b\"],[0.6666666666666666,\"#ed7953\"],[0.7777777777777778,\"#fb9f3a\"],[0.8888888888888888,\"#fdca26\"],[1.0,\"#f0f921\"]],\"type\":\"heatmap\"}],\"heatmapgl\":[{\"colorbar\":{\"outlinewidth\":0,\"ticks\":\"\"},\"colorscale\":[[0.0,\"#0d0887\"],[0.1111111111111111,\"#46039f\"],[0.2222222222222222,\"#7201a8\"],[0.3333333333333333,\"#9c179e\"],[0.4444444444444444,\"#bd3786\"],[0.5555555555555556,\"#d8576b\"],[0.6666666666666666,\"#ed7953\"],[0.7777777777777778,\"#fb9f3a\"],[0.8888888888888888,\"#fdca26\"],[1.0,\"#f0f921\"]],\"type\":\"heatmapgl\"}],\"histogram\":[{\"marker\":{\"pattern\":{\"fillmode\":\"overlay\",\"size\":10,\"solidity\":0.2}},\"type\":\"histogram\"}],\"histogram2d\":[{\"colorbar\":{\"outlinewidth\":0,\"ticks\":\"\"},\"colorscale\":[[0.0,\"#0d0887\"],[0.1111111111111111,\"#46039f\"],[0.2222222222222222,\"#7201a8\"],[0.3333333333333333,\"#9c179e\"],[0.4444444444444444,\"#bd3786\"],[0.5555555555555556,\"#d8576b\"],[0.6666666666666666,\"#ed7953\"],[0.7777777777777778,\"#fb9f3a\"],[0.8888888888888888,\"#fdca26\"],[1.0,\"#f0f921\"]],\"type\":\"histogram2d\"}],\"histogram2dcontour\":[{\"colorbar\":{\"outlinewidth\":0,\"ticks\":\"\"},\"colorscale\":[[0.0,\"#0d0887\"],[0.1111111111111111,\"#46039f\"],[0.2222222222222222,\"#7201a8\"],[0.3333333333333333,\"#9c179e\"],[0.4444444444444444,\"#bd3786\"],[0.5555555555555556,\"#d8576b\"],[0.6666666666666666,\"#ed7953\"],[0.7777777777777778,\"#fb9f3a\"],[0.8888888888888888,\"#fdca26\"],[1.0,\"#f0f921\"]],\"type\":\"histogram2dcontour\"}],\"mesh3d\":[{\"colorbar\":{\"outlinewidth\":0,\"ticks\":\"\"},\"type\":\"mesh3d\"}],\"parcoords\":[{\"line\":{\"colorbar\":{\"outlinewidth\":0,\"ticks\":\"\"}},\"type\":\"parcoords\"}],\"pie\":[{\"automargin\":true,\"type\":\"pie\"}],\"scatter\":[{\"marker\":{\"colorbar\":{\"outlinewidth\":0,\"ticks\":\"\"}},\"type\":\"scatter\"}],\"scatter3d\":[{\"line\":{\"colorbar\":{\"outlinewidth\":0,\"ticks\":\"\"}},\"marker\":{\"colorbar\":{\"outlinewidth\":0,\"ticks\":\"\"}},\"type\":\"scatter3d\"}],\"scattercarpet\":[{\"marker\":{\"colorbar\":{\"outlinewidth\":0,\"ticks\":\"\"}},\"type\":\"scattercarpet\"}],\"scattergeo\":[{\"marker\":{\"colorbar\":{\"outlinewidth\":0,\"ticks\":\"\"}},\"type\":\"scattergeo\"}],\"scattergl\":[{\"marker\":{\"colorbar\":{\"outlinewidth\":0,\"ticks\":\"\"}},\"type\":\"scattergl\"}],\"scattermapbox\":[{\"marker\":{\"colorbar\":{\"outlinewidth\":0,\"ticks\":\"\"}},\"type\":\"scattermapbox\"}],\"scatterpolar\":[{\"marker\":{\"colorbar\":{\"outlinewidth\":0,\"ticks\":\"\"}},\"type\":\"scatterpolar\"}],\"scatterpolargl\":[{\"marker\":{\"colorbar\":{\"outlinewidth\":0,\"ticks\":\"\"}},\"type\":\"scatterpolargl\"}],\"scatterternary\":[{\"marker\":{\"colorbar\":{\"outlinewidth\":0,\"ticks\":\"\"}},\"type\":\"scatterternary\"}],\"surface\":[{\"colorbar\":{\"outlinewidth\":0,\"ticks\":\"\"},\"colorscale\":[[0.0,\"#0d0887\"],[0.1111111111111111,\"#46039f\"],[0.2222222222222222,\"#7201a8\"],[0.3333333333333333,\"#9c179e\"],[0.4444444444444444,\"#bd3786\"],[0.5555555555555556,\"#d8576b\"],[0.6666666666666666,\"#ed7953\"],[0.7777777777777778,\"#fb9f3a\"],[0.8888888888888888,\"#fdca26\"],[1.0,\"#f0f921\"]],\"type\":\"surface\"}],\"table\":[{\"cells\":{\"fill\":{\"color\":\"#EBF0F8\"},\"line\":{\"color\":\"white\"}},\"header\":{\"fill\":{\"color\":\"#C8D4E3\"},\"line\":{\"color\":\"white\"}},\"type\":\"table\"}]},\"layout\":{\"annotationdefaults\":{\"arrowcolor\":\"#2a3f5f\",\"arrowhead\":0,\"arrowwidth\":1},\"autotypenumbers\":\"strict\",\"coloraxis\":{\"colorbar\":{\"outlinewidth\":0,\"ticks\":\"\"}},\"colorscale\":{\"diverging\":[[0,\"#8e0152\"],[0.1,\"#c51b7d\"],[0.2,\"#de77ae\"],[0.3,\"#f1b6da\"],[0.4,\"#fde0ef\"],[0.5,\"#f7f7f7\"],[0.6,\"#e6f5d0\"],[0.7,\"#b8e186\"],[0.8,\"#7fbc41\"],[0.9,\"#4d9221\"],[1,\"#276419\"]],\"sequential\":[[0.0,\"#0d0887\"],[0.1111111111111111,\"#46039f\"],[0.2222222222222222,\"#7201a8\"],[0.3333333333333333,\"#9c179e\"],[0.4444444444444444,\"#bd3786\"],[0.5555555555555556,\"#d8576b\"],[0.6666666666666666,\"#ed7953\"],[0.7777777777777778,\"#fb9f3a\"],[0.8888888888888888,\"#fdca26\"],[1.0,\"#f0f921\"]],\"sequentialminus\":[[0.0,\"#0d0887\"],[0.1111111111111111,\"#46039f\"],[0.2222222222222222,\"#7201a8\"],[0.3333333333333333,\"#9c179e\"],[0.4444444444444444,\"#bd3786\"],[0.5555555555555556,\"#d8576b\"],[0.6666666666666666,\"#ed7953\"],[0.7777777777777778,\"#fb9f3a\"],[0.8888888888888888,\"#fdca26\"],[1.0,\"#f0f921\"]]},\"colorway\":[\"#636efa\",\"#EF553B\",\"#00cc96\",\"#ab63fa\",\"#FFA15A\",\"#19d3f3\",\"#FF6692\",\"#B6E880\",\"#FF97FF\",\"#FECB52\"],\"font\":{\"color\":\"#2a3f5f\"},\"geo\":{\"bgcolor\":\"white\",\"lakecolor\":\"white\",\"landcolor\":\"#E5ECF6\",\"showlakes\":true,\"showland\":true,\"subunitcolor\":\"white\"},\"hoverlabel\":{\"align\":\"left\"},\"hovermode\":\"closest\",\"mapbox\":{\"style\":\"light\"},\"paper_bgcolor\":\"white\",\"plot_bgcolor\":\"#E5ECF6\",\"polar\":{\"angularaxis\":{\"gridcolor\":\"white\",\"linecolor\":\"white\",\"ticks\":\"\"},\"bgcolor\":\"#E5ECF6\",\"radialaxis\":{\"gridcolor\":\"white\",\"linecolor\":\"white\",\"ticks\":\"\"}},\"scene\":{\"xaxis\":{\"backgroundcolor\":\"#E5ECF6\",\"gridcolor\":\"white\",\"gridwidth\":2,\"linecolor\":\"white\",\"showbackground\":true,\"ticks\":\"\",\"zerolinecolor\":\"white\"},\"yaxis\":{\"backgroundcolor\":\"#E5ECF6\",\"gridcolor\":\"white\",\"gridwidth\":2,\"linecolor\":\"white\",\"showbackground\":true,\"ticks\":\"\",\"zerolinecolor\":\"white\"},\"zaxis\":{\"backgroundcolor\":\"#E5ECF6\",\"gridcolor\":\"white\",\"gridwidth\":2,\"linecolor\":\"white\",\"showbackground\":true,\"ticks\":\"\",\"zerolinecolor\":\"white\"}},\"shapedefaults\":{\"line\":{\"color\":\"#2a3f5f\"}},\"ternary\":{\"aaxis\":{\"gridcolor\":\"white\",\"linecolor\":\"white\",\"ticks\":\"\"},\"baxis\":{\"gridcolor\":\"white\",\"linecolor\":\"white\",\"ticks\":\"\"},\"bgcolor\":\"#E5ECF6\",\"caxis\":{\"gridcolor\":\"white\",\"linecolor\":\"white\",\"ticks\":\"\"}},\"title\":{\"x\":0.05},\"xaxis\":{\"automargin\":true,\"gridcolor\":\"white\",\"linecolor\":\"white\",\"ticks\":\"\",\"title\":{\"standoff\":15},\"zerolinecolor\":\"white\",\"zerolinewidth\":2},\"yaxis\":{\"automargin\":true,\"gridcolor\":\"white\",\"linecolor\":\"white\",\"ticks\":\"\",\"title\":{\"standoff\":15},\"zerolinecolor\":\"white\",\"zerolinewidth\":2}}},\"xaxis\":{\"anchor\":\"y\",\"domain\":[0.0,1.0],\"title\":{\"text\":\"Year\"},\"showgrid\":true,\"gridwidth\":1,\"gridcolor\":\"lightgrey\",\"zeroline\":true,\"zerolinewidth\":1,\"zerolinecolor\":\"lightgrey\",\"showline\":true,\"linewidth\":1,\"linecolor\":\"black\"},\"yaxis\":{\"anchor\":\"x\",\"domain\":[0.0,1.0],\"title\":{\"text\":\"Hydropower (terawatt-hours)\"},\"showgrid\":true,\"gridwidth\":1,\"gridcolor\":\"lightgrey\",\"zeroline\":true,\"zerolinewidth\":1,\"zerolinecolor\":\"lightgrey\",\"showline\":true,\"linewidth\":1,\"linecolor\":\"black\"},\"legend\":{\"tracegroupgap\":0},\"margin\":{\"t\":60},\"plot_bgcolor\":\"white\",\"title\":{\"font\":{\"color\":\"black\"},\"text\":\"Hydropower Energy Consumption in India\"}},                        {\"responsive\": true}                    ).then(function(){\n",
       "                            \n",
       "var gd = document.getElementById('110ff26a-508f-4e27-ba95-b1d34e57725e');\n",
       "var x = new MutationObserver(function (mutations, observer) {{\n",
       "        var display = window.getComputedStyle(gd).display;\n",
       "        if (!display || display === 'none') {{\n",
       "            console.log([gd, 'removed!']);\n",
       "            Plotly.purge(gd);\n",
       "            observer.disconnect();\n",
       "        }}\n",
       "}});\n",
       "\n",
       "// Listen for the removal of the full notebook cells\n",
       "var notebookContainer = gd.closest('#notebook-container');\n",
       "if (notebookContainer) {{\n",
       "    x.observe(notebookContainer, {childList: true});\n",
       "}}\n",
       "\n",
       "// Listen for the clearing of the current output cell\n",
       "var outputEl = gd.closest('.output');\n",
       "if (outputEl) {{\n",
       "    x.observe(outputEl, {childList: true});\n",
       "}}\n",
       "\n",
       "                        })                };                });            </script>        </div>"
      ]
     },
     "metadata": {},
     "output_type": "display_data"
    }
   ],
   "source": [
    "# Create a scatter plot\n",
    "fig = px.scatter(df, x=df['Year'], y=df['Hydropower (terawatt-hours)'], \n",
    "                 opacity=0.8, color_discrete_sequence=['black'])\n",
    "# Change chart background color\n",
    "fig.update_layout(dict(plot_bgcolor = 'white'))\n",
    "\n",
    "# Update axes lines\n",
    "fig.update_xaxes(showgrid=True, gridwidth=1, gridcolor='lightgrey', \n",
    "                 zeroline=True, zerolinewidth=1, zerolinecolor='lightgrey', \n",
    "                 showline=True, linewidth=1, linecolor='black')\n",
    "\n",
    "fig.update_yaxes(showgrid=True, gridwidth=1, gridcolor='lightgrey', \n",
    "                 zeroline=True, zerolinewidth=1, zerolinecolor='lightgrey', \n",
    "                 showline=True, linewidth=1, linecolor='black')\n",
    "\n",
    "fig.update_yaxes(showgrid=True, gridwidth=1, gridcolor='lightgrey', \n",
    "                 zeroline=True, zerolinewidth=1, zerolinecolor='lightgrey', \n",
    "                 showline=True, linewidth=1, linecolor='black')\n",
    "\n",
    "# Set figure title\n",
    "fig.update_layout(title=dict(text=\"Hydropower Energy Consumption in India\", \n",
    "                             font=dict(color='black')))\n",
    "# Update marker size\n",
    "fig.update_traces(marker=dict(size=3))\n",
    "\n",
    "fig.show()\n",
    "\n"
   ]
  },
  {
   "cell_type": "code",
   "execution_count": 349,
   "id": "66ec3dae",
   "metadata": {
    "id": "66ec3dae"
   },
   "outputs": [],
   "source": [
    "# Note, we need X to be a 2D array, hence reshape\n",
    "X=df['Year'].values.reshape(-1,1)\n",
    "y=df['Hydropower (terawatt-hours)'].values\n",
    "\n",
    "X_train, X_test, y_train, y_test = train_test_split(X ,y, test_size=0.30, random_state=100)\n",
    "\n",
    "\n",
    "# ------- Linear regression -------\n",
    "model1 = LinearRegression()\n",
    "lr = model1.fit(X_train, y_train)\n",
    "\n",
    "# ------- Support Vector regression -------\n",
    "model2 = SVR(kernel='linear', C=500, epsilon=10) # set kernel and hyperparameters\n",
    "svr = model2.fit(X_train, y_train)\n",
    "\n",
    "# ------- Predict a range of values based on the models for visualization -------\n",
    "# Create 100 evenly spaced points from smallest X to largest X\n",
    "x_range = np.linspace(X.min(), X.max(), 100)\n",
    "\n",
    "\n",
    "\n",
    "\n",
    "# Predict y values for our set of X values\n",
    "y_lr = model1.predict(x_range.reshape(-1, 1)) # Linear regression\n",
    "y_svr = model2.predict(x_range.reshape(-1, 1)) # SVR"
   ]
  },
  {
   "cell_type": "code",
   "execution_count": 350,
   "id": "af19a92d",
   "metadata": {
    "colab": {
     "base_uri": "https://localhost:8080/",
     "height": 542
    },
    "id": "af19a92d",
    "outputId": "d4ff983e-bced-43ef-e949-92741779599a",
    "scrolled": true
   },
   "outputs": [
    {
     "data": {
      "application/vnd.plotly.v1+json": {
       "config": {
        "plotlyServerURL": "https://plot.ly"
       },
       "data": [
        {
         "hovertemplate": "Year=%{x}<br>Hydropower (terawatt-hours)=%{y}<extra></extra>",
         "legendgroup": "",
         "marker": {
          "color": "black",
          "opacity": 0.8,
          "size": 3,
          "symbol": "circle"
         },
         "mode": "markers",
         "name": "",
         "orientation": "v",
         "showlegend": false,
         "type": "scatter",
         "x": [
          1990,
          1991,
          1992,
          1993,
          1994,
          1995,
          1996,
          1997,
          1998,
          1999,
          2000,
          2001,
          2002,
          2003,
          2004,
          2005,
          2006,
          2007,
          2008,
          2009,
          2010,
          2011,
          2012,
          2013,
          2014,
          2015,
          2016,
          2017
         ],
         "xaxis": "x",
         "y": [
          66.3970656,
          73.9188844,
          70.0607482,
          70.732497,
          80.21211,
          75.9208726,
          69.0575444,
          70.2110078,
          83.6327256,
          82.2494534,
          76.9903674,
          72.0229618,
          68.544894,
          69.296192,
          83.8404374,
          97.42,
          112.617332315068,
          122.6130975,
          115.16902,
          106.3380275,
          108.7440975,
          131.7045975,
          115.776375,
          131.98302,
          138.9962925,
          133.2825367375,
          128.38161390475,
          135.668322227574
         ],
         "yaxis": "y"
        },
        {
         "line": {
          "color": "limegreen"
         },
         "marker": {
          "size": 3
         },
         "name": "Linear Regression",
         "type": "scatter",
         "x": [
          1990,
          1990.2727272727273,
          1990.5454545454545,
          1990.8181818181818,
          1991.090909090909,
          1991.3636363636363,
          1991.6363636363637,
          1991.909090909091,
          1992.1818181818182,
          1992.4545454545455,
          1992.7272727272727,
          1993,
          1993.2727272727273,
          1993.5454545454545,
          1993.8181818181818,
          1994.090909090909,
          1994.3636363636363,
          1994.6363636363637,
          1994.909090909091,
          1995.1818181818182,
          1995.4545454545455,
          1995.7272727272727,
          1996,
          1996.2727272727273,
          1996.5454545454545,
          1996.8181818181818,
          1997.090909090909,
          1997.3636363636363,
          1997.6363636363637,
          1997.909090909091,
          1998.1818181818182,
          1998.4545454545455,
          1998.7272727272727,
          1999,
          1999.2727272727273,
          1999.5454545454545,
          1999.8181818181818,
          2000.090909090909,
          2000.3636363636363,
          2000.6363636363637,
          2000.909090909091,
          2001.1818181818182,
          2001.4545454545455,
          2001.7272727272727,
          2002,
          2002.2727272727273,
          2002.5454545454545,
          2002.8181818181818,
          2003.090909090909,
          2003.3636363636363,
          2003.6363636363637,
          2003.909090909091,
          2004.1818181818182,
          2004.4545454545455,
          2004.7272727272727,
          2005,
          2005.2727272727273,
          2005.5454545454545,
          2005.8181818181818,
          2006.090909090909,
          2006.3636363636363,
          2006.6363636363637,
          2006.909090909091,
          2007.1818181818182,
          2007.4545454545455,
          2007.7272727272727,
          2008,
          2008.2727272727273,
          2008.5454545454545,
          2008.8181818181818,
          2009.090909090909,
          2009.3636363636363,
          2009.6363636363637,
          2009.909090909091,
          2010.1818181818182,
          2010.4545454545455,
          2010.7272727272727,
          2011,
          2011.2727272727273,
          2011.5454545454545,
          2011.8181818181818,
          2012.090909090909,
          2012.3636363636363,
          2012.6363636363637,
          2012.909090909091,
          2013.1818181818182,
          2013.4545454545455,
          2013.7272727272727,
          2014,
          2014.2727272727273,
          2014.5454545454545,
          2014.8181818181818,
          2015.090909090909,
          2015.3636363636363,
          2015.6363636363637,
          2015.909090909091,
          2016.1818181818182,
          2016.4545454545455,
          2016.7272727272727,
          2017
         ],
         "y": [
          60.91725590314945,
          61.66121672862937,
          62.40517755410929,
          63.14913837959011,
          63.89309920507003,
          64.63706003055086,
          65.38102085603168,
          66.1249816815116,
          66.86894250699243,
          67.61290333247234,
          68.35686415795226,
          69.10082498343309,
          69.844785808913,
          70.58874663439383,
          71.33270745987375,
          72.07666828535366,
          72.82062911083449,
          73.56458993631531,
          74.30855076179523,
          75.05251158727606,
          75.79647241275597,
          76.5404332382368,
          77.28439406371672,
          78.02835488919663,
          78.77231571467746,
          79.51627654015738,
          80.2602373656382,
          81.00419819111812,
          81.74815901659895,
          82.49211984207977,
          83.23608066755969,
          83.98004149303961,
          84.72400231852043,
          85.46796314400035,
          86.21192396948118,
          86.9558847949611,
          87.69984562044192,
          88.44380644592184,
          89.18776727140175,
          89.93172809688258,
          90.6756889223634,
          91.41964974784332,
          92.16361057332415,
          92.90757139880407,
          93.65153222428489,
          94.39549304976481,
          95.13945387524473,
          95.88341470072555,
          96.62737552620547,
          97.3713363516863,
          98.11529717716712,
          98.85925800264704,
          99.60321882812786,
          100.34717965360778,
          101.0911404790877,
          101.83510130456852,
          102.57906213004844,
          103.32302295552927,
          104.06698378100918,
          104.8109446064891,
          105.55490543196993,
          106.29886625745075,
          107.04282708293067,
          107.7867879084115,
          108.53074873389141,
          109.27470955937224,
          110.01867038485216,
          110.76263121033207,
          111.5065920358129,
          112.25055286129282,
          112.99451368677364,
          113.73847451225356,
          114.48243533773439,
          115.22639616321521,
          115.97035698869513,
          116.71431781417505,
          117.45827863965587,
          118.20223946513579,
          118.94620029061662,
          119.69016111609653,
          120.43412194157736,
          121.17808276705728,
          121.9220435925372,
          122.66600441801802,
          123.40996524349885,
          124.15392606897876,
          124.89788689445959,
          125.6418477199395,
          126.38580854542033,
          127.12976937090025,
          127.87373019638017,
          128.617691021861,
          129.3616518473409,
          130.10561267282174,
          130.84957349830256,
          131.59353432378248,
          132.3374951492633,
          133.08145597474322,
          133.82541680022314,
          134.56937762570396
         ]
        },
        {
         "line": {
          "color": "red"
         },
         "marker": {
          "size": 3
         },
         "name": "Support Vector Regression",
         "type": "scatter",
         "x": [
          1990,
          1990.2727272727273,
          1990.5454545454545,
          1990.8181818181818,
          1991.090909090909,
          1991.3636363636363,
          1991.6363636363637,
          1991.909090909091,
          1992.1818181818182,
          1992.4545454545455,
          1992.7272727272727,
          1993,
          1993.2727272727273,
          1993.5454545454545,
          1993.8181818181818,
          1994.090909090909,
          1994.3636363636363,
          1994.6363636363637,
          1994.909090909091,
          1995.1818181818182,
          1995.4545454545455,
          1995.7272727272727,
          1996,
          1996.2727272727273,
          1996.5454545454545,
          1996.8181818181818,
          1997.090909090909,
          1997.3636363636363,
          1997.6363636363637,
          1997.909090909091,
          1998.1818181818182,
          1998.4545454545455,
          1998.7272727272727,
          1999,
          1999.2727272727273,
          1999.5454545454545,
          1999.8181818181818,
          2000.090909090909,
          2000.3636363636363,
          2000.6363636363637,
          2000.909090909091,
          2001.1818181818182,
          2001.4545454545455,
          2001.7272727272727,
          2002,
          2002.2727272727273,
          2002.5454545454545,
          2002.8181818181818,
          2003.090909090909,
          2003.3636363636363,
          2003.6363636363637,
          2003.909090909091,
          2004.1818181818182,
          2004.4545454545455,
          2004.7272727272727,
          2005,
          2005.2727272727273,
          2005.5454545454545,
          2005.8181818181818,
          2006.090909090909,
          2006.3636363636363,
          2006.6363636363637,
          2006.909090909091,
          2007.1818181818182,
          2007.4545454545455,
          2007.7272727272727,
          2008,
          2008.2727272727273,
          2008.5454545454545,
          2008.8181818181818,
          2009.090909090909,
          2009.3636363636363,
          2009.6363636363637,
          2009.909090909091,
          2010.1818181818182,
          2010.4545454545455,
          2010.7272727272727,
          2011,
          2011.2727272727273,
          2011.5454545454545,
          2011.8181818181818,
          2012.090909090909,
          2012.3636363636363,
          2012.6363636363637,
          2012.909090909091,
          2013.1818181818182,
          2013.4545454545455,
          2013.7272727272727,
          2014,
          2014.2727272727273,
          2014.5454545454545,
          2014.8181818181818,
          2015.090909090909,
          2015.3636363636363,
          2015.6363636363637,
          2015.909090909091,
          2016.1818181818182,
          2016.4545454545455,
          2016.7272727272727,
          2017
         ],
         "y": [
          58.45527367933755,
          59.256876519761136,
          60.0584784065104,
          60.860081485352566,
          61.66168384893899,
          62.46328621252542,
          63.264888337693264,
          64.06649117811685,
          64.86809306486612,
          65.66969614370828,
          66.47129803045755,
          67.27290087088113,
          68.07450371130471,
          68.87610559805398,
          69.67770867689615,
          70.47931080206399,
          71.280913404069,
          72.082516006074,
          72.88411789282327,
          73.68572097166543,
          74.48732381208902,
          75.28892593725686,
          76.09052877768045,
          76.8921309028483,
          77.6937335048533,
          78.49533586843972,
          79.29693847044473,
          80.09854131086831,
          80.900142959199,
          81.701745561204,
          82.50334816320901,
          83.30495076521402,
          84.10655312880044,
          84.90815549238687,
          85.70975833281045,
          86.51136021955972,
          87.31296329840188,
          88.11456613882547,
          88.91616802557473,
          89.71777062757974,
          90.51937346800332,
          91.32097535475259,
          92.12257843359475,
          92.92418032034402,
          93.7257831607676,
          94.52738600119119,
          95.32898788794046,
          96.13059096678262,
          96.93219309195047,
          97.73379569395547,
          98.53539781912332,
          99.33700018270974,
          100.13860278471475,
          100.94020562513833,
          101.74180775030618,
          102.54341035231118,
          103.34501319273477,
          104.14661531790262,
          104.9482181583262,
          105.7498207603312,
          106.55142312391763,
          107.35302524908548,
          108.15462785109048,
          108.95622997625833,
          109.75783305510049,
          110.55943494184976,
          111.36103778227334,
          112.16264062269693,
          112.9642425094462,
          113.76584558828836,
          114.56744795187478,
          115.36905031546121,
          116.17065291746621,
          116.97225528105264,
          117.77385764463907,
          118.57546072348123,
          119.3770626102305,
          120.17866545065408,
          120.98026829107766,
          121.78187017782693,
          122.5834732566691,
          123.38507514341836,
          124.18667798384195,
          124.98828010900979,
          125.78988247259622,
          126.59148507460122,
          127.39308743818765,
          128.19469004019265,
          128.99629264219766,
          129.79789500578408,
          130.5994976077891,
          131.40109997137552,
          132.20270305021768,
          133.00430469854837,
          133.80590753897195,
          134.60751014097696,
          135.4091122661448,
          136.21071534498697,
          137.01231723173623,
          137.81392007215982
         ]
        },
        {
         "line": {
          "color": "red",
          "dash": "dot"
         },
         "marker": {
          "size": 3
         },
         "name": "+epsilon",
         "type": "scatter",
         "x": [
          1990,
          1990.2727272727273,
          1990.5454545454545,
          1990.8181818181818,
          1991.090909090909,
          1991.3636363636363,
          1991.6363636363637,
          1991.909090909091,
          1992.1818181818182,
          1992.4545454545455,
          1992.7272727272727,
          1993,
          1993.2727272727273,
          1993.5454545454545,
          1993.8181818181818,
          1994.090909090909,
          1994.3636363636363,
          1994.6363636363637,
          1994.909090909091,
          1995.1818181818182,
          1995.4545454545455,
          1995.7272727272727,
          1996,
          1996.2727272727273,
          1996.5454545454545,
          1996.8181818181818,
          1997.090909090909,
          1997.3636363636363,
          1997.6363636363637,
          1997.909090909091,
          1998.1818181818182,
          1998.4545454545455,
          1998.7272727272727,
          1999,
          1999.2727272727273,
          1999.5454545454545,
          1999.8181818181818,
          2000.090909090909,
          2000.3636363636363,
          2000.6363636363637,
          2000.909090909091,
          2001.1818181818182,
          2001.4545454545455,
          2001.7272727272727,
          2002,
          2002.2727272727273,
          2002.5454545454545,
          2002.8181818181818,
          2003.090909090909,
          2003.3636363636363,
          2003.6363636363637,
          2003.909090909091,
          2004.1818181818182,
          2004.4545454545455,
          2004.7272727272727,
          2005,
          2005.2727272727273,
          2005.5454545454545,
          2005.8181818181818,
          2006.090909090909,
          2006.3636363636363,
          2006.6363636363637,
          2006.909090909091,
          2007.1818181818182,
          2007.4545454545455,
          2007.7272727272727,
          2008,
          2008.2727272727273,
          2008.5454545454545,
          2008.8181818181818,
          2009.090909090909,
          2009.3636363636363,
          2009.6363636363637,
          2009.909090909091,
          2010.1818181818182,
          2010.4545454545455,
          2010.7272727272727,
          2011,
          2011.2727272727273,
          2011.5454545454545,
          2011.8181818181818,
          2012.090909090909,
          2012.3636363636363,
          2012.6363636363637,
          2012.909090909091,
          2013.1818181818182,
          2013.4545454545455,
          2013.7272727272727,
          2014,
          2014.2727272727273,
          2014.5454545454545,
          2014.8181818181818,
          2015.090909090909,
          2015.3636363636363,
          2015.6363636363637,
          2015.909090909091,
          2016.1818181818182,
          2016.4545454545455,
          2016.7272727272727,
          2017
         ],
         "y": [
          68.45527367933755,
          69.25687651976114,
          70.0584784065104,
          70.86008148535257,
          71.66168384893899,
          72.46328621252542,
          73.26488833769326,
          74.06649117811685,
          74.86809306486612,
          75.66969614370828,
          76.47129803045755,
          77.27290087088113,
          78.07450371130471,
          78.87610559805398,
          79.67770867689615,
          80.47931080206399,
          81.280913404069,
          82.082516006074,
          82.88411789282327,
          83.68572097166543,
          84.48732381208902,
          85.28892593725686,
          86.09052877768045,
          86.8921309028483,
          87.6937335048533,
          88.49533586843972,
          89.29693847044473,
          90.09854131086831,
          90.900142959199,
          91.701745561204,
          92.50334816320901,
          93.30495076521402,
          94.10655312880044,
          94.90815549238687,
          95.70975833281045,
          96.51136021955972,
          97.31296329840188,
          98.11456613882547,
          98.91616802557473,
          99.71777062757974,
          100.51937346800332,
          101.32097535475259,
          102.12257843359475,
          102.92418032034402,
          103.7257831607676,
          104.52738600119119,
          105.32898788794046,
          106.13059096678262,
          106.93219309195047,
          107.73379569395547,
          108.53539781912332,
          109.33700018270974,
          110.13860278471475,
          110.94020562513833,
          111.74180775030618,
          112.54341035231118,
          113.34501319273477,
          114.14661531790262,
          114.9482181583262,
          115.7498207603312,
          116.55142312391763,
          117.35302524908548,
          118.15462785109048,
          118.95622997625833,
          119.75783305510049,
          120.55943494184976,
          121.36103778227334,
          122.16264062269693,
          122.9642425094462,
          123.76584558828836,
          124.56744795187478,
          125.36905031546121,
          126.17065291746621,
          126.97225528105264,
          127.77385764463907,
          128.57546072348123,
          129.3770626102305,
          130.17866545065408,
          130.98026829107766,
          131.78187017782693,
          132.5834732566691,
          133.38507514341836,
          134.18667798384195,
          134.9882801090098,
          135.78988247259622,
          136.59148507460122,
          137.39308743818765,
          138.19469004019265,
          138.99629264219766,
          139.79789500578408,
          140.5994976077891,
          141.40109997137552,
          142.20270305021768,
          143.00430469854837,
          143.80590753897195,
          144.60751014097696,
          145.4091122661448,
          146.21071534498697,
          147.01231723173623,
          147.81392007215982
         ]
        },
        {
         "line": {
          "color": "red",
          "dash": "dot"
         },
         "marker": {
          "size": 3
         },
         "name": "-epsilon",
         "type": "scatter",
         "x": [
          1990,
          1990.2727272727273,
          1990.5454545454545,
          1990.8181818181818,
          1991.090909090909,
          1991.3636363636363,
          1991.6363636363637,
          1991.909090909091,
          1992.1818181818182,
          1992.4545454545455,
          1992.7272727272727,
          1993,
          1993.2727272727273,
          1993.5454545454545,
          1993.8181818181818,
          1994.090909090909,
          1994.3636363636363,
          1994.6363636363637,
          1994.909090909091,
          1995.1818181818182,
          1995.4545454545455,
          1995.7272727272727,
          1996,
          1996.2727272727273,
          1996.5454545454545,
          1996.8181818181818,
          1997.090909090909,
          1997.3636363636363,
          1997.6363636363637,
          1997.909090909091,
          1998.1818181818182,
          1998.4545454545455,
          1998.7272727272727,
          1999,
          1999.2727272727273,
          1999.5454545454545,
          1999.8181818181818,
          2000.090909090909,
          2000.3636363636363,
          2000.6363636363637,
          2000.909090909091,
          2001.1818181818182,
          2001.4545454545455,
          2001.7272727272727,
          2002,
          2002.2727272727273,
          2002.5454545454545,
          2002.8181818181818,
          2003.090909090909,
          2003.3636363636363,
          2003.6363636363637,
          2003.909090909091,
          2004.1818181818182,
          2004.4545454545455,
          2004.7272727272727,
          2005,
          2005.2727272727273,
          2005.5454545454545,
          2005.8181818181818,
          2006.090909090909,
          2006.3636363636363,
          2006.6363636363637,
          2006.909090909091,
          2007.1818181818182,
          2007.4545454545455,
          2007.7272727272727,
          2008,
          2008.2727272727273,
          2008.5454545454545,
          2008.8181818181818,
          2009.090909090909,
          2009.3636363636363,
          2009.6363636363637,
          2009.909090909091,
          2010.1818181818182,
          2010.4545454545455,
          2010.7272727272727,
          2011,
          2011.2727272727273,
          2011.5454545454545,
          2011.8181818181818,
          2012.090909090909,
          2012.3636363636363,
          2012.6363636363637,
          2012.909090909091,
          2013.1818181818182,
          2013.4545454545455,
          2013.7272727272727,
          2014,
          2014.2727272727273,
          2014.5454545454545,
          2014.8181818181818,
          2015.090909090909,
          2015.3636363636363,
          2015.6363636363637,
          2015.909090909091,
          2016.1818181818182,
          2016.4545454545455,
          2016.7272727272727,
          2017
         ],
         "y": [
          48.45527367933755,
          49.256876519761136,
          50.0584784065104,
          50.860081485352566,
          51.66168384893899,
          52.46328621252542,
          53.264888337693264,
          54.06649117811685,
          54.868093064866116,
          55.66969614370828,
          56.47129803045755,
          57.27290087088113,
          58.074503711304715,
          58.87610559805398,
          59.677708676896145,
          60.47931080206399,
          61.280913404069,
          62.082516006074,
          62.88411789282327,
          63.68572097166543,
          64.48732381208902,
          65.28892593725686,
          66.09052877768045,
          66.8921309028483,
          67.6937335048533,
          68.49533586843972,
          69.29693847044473,
          70.09854131086831,
          70.900142959199,
          71.701745561204,
          72.50334816320901,
          73.30495076521402,
          74.10655312880044,
          74.90815549238687,
          75.70975833281045,
          76.51136021955972,
          77.31296329840188,
          78.11456613882547,
          78.91616802557473,
          79.71777062757974,
          80.51937346800332,
          81.32097535475259,
          82.12257843359475,
          82.92418032034402,
          83.7257831607676,
          84.52738600119119,
          85.32898788794046,
          86.13059096678262,
          86.93219309195047,
          87.73379569395547,
          88.53539781912332,
          89.33700018270974,
          90.13860278471475,
          90.94020562513833,
          91.74180775030618,
          92.54341035231118,
          93.34501319273477,
          94.14661531790262,
          94.9482181583262,
          95.7498207603312,
          96.55142312391763,
          97.35302524908548,
          98.15462785109048,
          98.95622997625833,
          99.75783305510049,
          100.55943494184976,
          101.36103778227334,
          102.16264062269693,
          102.9642425094462,
          103.76584558828836,
          104.56744795187478,
          105.36905031546121,
          106.17065291746621,
          106.97225528105264,
          107.77385764463907,
          108.57546072348123,
          109.3770626102305,
          110.17866545065408,
          110.98026829107766,
          111.78187017782693,
          112.5834732566691,
          113.38507514341836,
          114.18667798384195,
          114.98828010900979,
          115.78988247259622,
          116.59148507460122,
          117.39308743818765,
          118.19469004019265,
          118.99629264219766,
          119.79789500578408,
          120.59949760778909,
          121.40109997137552,
          122.20270305021768,
          123.00430469854837,
          123.80590753897195,
          124.60751014097696,
          125.4091122661448,
          126.21071534498697,
          127.01231723173623,
          127.81392007215982
         ]
        }
       ],
       "layout": {
        "legend": {
         "tracegroupgap": 0
        },
        "margin": {
         "t": 60
        },
        "plot_bgcolor": "white",
        "template": {
         "data": {
          "bar": [
           {
            "error_x": {
             "color": "#2a3f5f"
            },
            "error_y": {
             "color": "#2a3f5f"
            },
            "marker": {
             "line": {
              "color": "#E5ECF6",
              "width": 0.5
             },
             "pattern": {
              "fillmode": "overlay",
              "size": 10,
              "solidity": 0.2
             }
            },
            "type": "bar"
           }
          ],
          "barpolar": [
           {
            "marker": {
             "line": {
              "color": "#E5ECF6",
              "width": 0.5
             },
             "pattern": {
              "fillmode": "overlay",
              "size": 10,
              "solidity": 0.2
             }
            },
            "type": "barpolar"
           }
          ],
          "carpet": [
           {
            "aaxis": {
             "endlinecolor": "#2a3f5f",
             "gridcolor": "white",
             "linecolor": "white",
             "minorgridcolor": "white",
             "startlinecolor": "#2a3f5f"
            },
            "baxis": {
             "endlinecolor": "#2a3f5f",
             "gridcolor": "white",
             "linecolor": "white",
             "minorgridcolor": "white",
             "startlinecolor": "#2a3f5f"
            },
            "type": "carpet"
           }
          ],
          "choropleth": [
           {
            "colorbar": {
             "outlinewidth": 0,
             "ticks": ""
            },
            "type": "choropleth"
           }
          ],
          "contour": [
           {
            "colorbar": {
             "outlinewidth": 0,
             "ticks": ""
            },
            "colorscale": [
             [
              0,
              "#0d0887"
             ],
             [
              0.1111111111111111,
              "#46039f"
             ],
             [
              0.2222222222222222,
              "#7201a8"
             ],
             [
              0.3333333333333333,
              "#9c179e"
             ],
             [
              0.4444444444444444,
              "#bd3786"
             ],
             [
              0.5555555555555556,
              "#d8576b"
             ],
             [
              0.6666666666666666,
              "#ed7953"
             ],
             [
              0.7777777777777778,
              "#fb9f3a"
             ],
             [
              0.8888888888888888,
              "#fdca26"
             ],
             [
              1,
              "#f0f921"
             ]
            ],
            "type": "contour"
           }
          ],
          "contourcarpet": [
           {
            "colorbar": {
             "outlinewidth": 0,
             "ticks": ""
            },
            "type": "contourcarpet"
           }
          ],
          "heatmap": [
           {
            "colorbar": {
             "outlinewidth": 0,
             "ticks": ""
            },
            "colorscale": [
             [
              0,
              "#0d0887"
             ],
             [
              0.1111111111111111,
              "#46039f"
             ],
             [
              0.2222222222222222,
              "#7201a8"
             ],
             [
              0.3333333333333333,
              "#9c179e"
             ],
             [
              0.4444444444444444,
              "#bd3786"
             ],
             [
              0.5555555555555556,
              "#d8576b"
             ],
             [
              0.6666666666666666,
              "#ed7953"
             ],
             [
              0.7777777777777778,
              "#fb9f3a"
             ],
             [
              0.8888888888888888,
              "#fdca26"
             ],
             [
              1,
              "#f0f921"
             ]
            ],
            "type": "heatmap"
           }
          ],
          "heatmapgl": [
           {
            "colorbar": {
             "outlinewidth": 0,
             "ticks": ""
            },
            "colorscale": [
             [
              0,
              "#0d0887"
             ],
             [
              0.1111111111111111,
              "#46039f"
             ],
             [
              0.2222222222222222,
              "#7201a8"
             ],
             [
              0.3333333333333333,
              "#9c179e"
             ],
             [
              0.4444444444444444,
              "#bd3786"
             ],
             [
              0.5555555555555556,
              "#d8576b"
             ],
             [
              0.6666666666666666,
              "#ed7953"
             ],
             [
              0.7777777777777778,
              "#fb9f3a"
             ],
             [
              0.8888888888888888,
              "#fdca26"
             ],
             [
              1,
              "#f0f921"
             ]
            ],
            "type": "heatmapgl"
           }
          ],
          "histogram": [
           {
            "marker": {
             "pattern": {
              "fillmode": "overlay",
              "size": 10,
              "solidity": 0.2
             }
            },
            "type": "histogram"
           }
          ],
          "histogram2d": [
           {
            "colorbar": {
             "outlinewidth": 0,
             "ticks": ""
            },
            "colorscale": [
             [
              0,
              "#0d0887"
             ],
             [
              0.1111111111111111,
              "#46039f"
             ],
             [
              0.2222222222222222,
              "#7201a8"
             ],
             [
              0.3333333333333333,
              "#9c179e"
             ],
             [
              0.4444444444444444,
              "#bd3786"
             ],
             [
              0.5555555555555556,
              "#d8576b"
             ],
             [
              0.6666666666666666,
              "#ed7953"
             ],
             [
              0.7777777777777778,
              "#fb9f3a"
             ],
             [
              0.8888888888888888,
              "#fdca26"
             ],
             [
              1,
              "#f0f921"
             ]
            ],
            "type": "histogram2d"
           }
          ],
          "histogram2dcontour": [
           {
            "colorbar": {
             "outlinewidth": 0,
             "ticks": ""
            },
            "colorscale": [
             [
              0,
              "#0d0887"
             ],
             [
              0.1111111111111111,
              "#46039f"
             ],
             [
              0.2222222222222222,
              "#7201a8"
             ],
             [
              0.3333333333333333,
              "#9c179e"
             ],
             [
              0.4444444444444444,
              "#bd3786"
             ],
             [
              0.5555555555555556,
              "#d8576b"
             ],
             [
              0.6666666666666666,
              "#ed7953"
             ],
             [
              0.7777777777777778,
              "#fb9f3a"
             ],
             [
              0.8888888888888888,
              "#fdca26"
             ],
             [
              1,
              "#f0f921"
             ]
            ],
            "type": "histogram2dcontour"
           }
          ],
          "mesh3d": [
           {
            "colorbar": {
             "outlinewidth": 0,
             "ticks": ""
            },
            "type": "mesh3d"
           }
          ],
          "parcoords": [
           {
            "line": {
             "colorbar": {
              "outlinewidth": 0,
              "ticks": ""
             }
            },
            "type": "parcoords"
           }
          ],
          "pie": [
           {
            "automargin": true,
            "type": "pie"
           }
          ],
          "scatter": [
           {
            "marker": {
             "colorbar": {
              "outlinewidth": 0,
              "ticks": ""
             }
            },
            "type": "scatter"
           }
          ],
          "scatter3d": [
           {
            "line": {
             "colorbar": {
              "outlinewidth": 0,
              "ticks": ""
             }
            },
            "marker": {
             "colorbar": {
              "outlinewidth": 0,
              "ticks": ""
             }
            },
            "type": "scatter3d"
           }
          ],
          "scattercarpet": [
           {
            "marker": {
             "colorbar": {
              "outlinewidth": 0,
              "ticks": ""
             }
            },
            "type": "scattercarpet"
           }
          ],
          "scattergeo": [
           {
            "marker": {
             "colorbar": {
              "outlinewidth": 0,
              "ticks": ""
             }
            },
            "type": "scattergeo"
           }
          ],
          "scattergl": [
           {
            "marker": {
             "colorbar": {
              "outlinewidth": 0,
              "ticks": ""
             }
            },
            "type": "scattergl"
           }
          ],
          "scattermapbox": [
           {
            "marker": {
             "colorbar": {
              "outlinewidth": 0,
              "ticks": ""
             }
            },
            "type": "scattermapbox"
           }
          ],
          "scatterpolar": [
           {
            "marker": {
             "colorbar": {
              "outlinewidth": 0,
              "ticks": ""
             }
            },
            "type": "scatterpolar"
           }
          ],
          "scatterpolargl": [
           {
            "marker": {
             "colorbar": {
              "outlinewidth": 0,
              "ticks": ""
             }
            },
            "type": "scatterpolargl"
           }
          ],
          "scatterternary": [
           {
            "marker": {
             "colorbar": {
              "outlinewidth": 0,
              "ticks": ""
             }
            },
            "type": "scatterternary"
           }
          ],
          "surface": [
           {
            "colorbar": {
             "outlinewidth": 0,
             "ticks": ""
            },
            "colorscale": [
             [
              0,
              "#0d0887"
             ],
             [
              0.1111111111111111,
              "#46039f"
             ],
             [
              0.2222222222222222,
              "#7201a8"
             ],
             [
              0.3333333333333333,
              "#9c179e"
             ],
             [
              0.4444444444444444,
              "#bd3786"
             ],
             [
              0.5555555555555556,
              "#d8576b"
             ],
             [
              0.6666666666666666,
              "#ed7953"
             ],
             [
              0.7777777777777778,
              "#fb9f3a"
             ],
             [
              0.8888888888888888,
              "#fdca26"
             ],
             [
              1,
              "#f0f921"
             ]
            ],
            "type": "surface"
           }
          ],
          "table": [
           {
            "cells": {
             "fill": {
              "color": "#EBF0F8"
             },
             "line": {
              "color": "white"
             }
            },
            "header": {
             "fill": {
              "color": "#C8D4E3"
             },
             "line": {
              "color": "white"
             }
            },
            "type": "table"
           }
          ]
         },
         "layout": {
          "annotationdefaults": {
           "arrowcolor": "#2a3f5f",
           "arrowhead": 0,
           "arrowwidth": 1
          },
          "autotypenumbers": "strict",
          "coloraxis": {
           "colorbar": {
            "outlinewidth": 0,
            "ticks": ""
           }
          },
          "colorscale": {
           "diverging": [
            [
             0,
             "#8e0152"
            ],
            [
             0.1,
             "#c51b7d"
            ],
            [
             0.2,
             "#de77ae"
            ],
            [
             0.3,
             "#f1b6da"
            ],
            [
             0.4,
             "#fde0ef"
            ],
            [
             0.5,
             "#f7f7f7"
            ],
            [
             0.6,
             "#e6f5d0"
            ],
            [
             0.7,
             "#b8e186"
            ],
            [
             0.8,
             "#7fbc41"
            ],
            [
             0.9,
             "#4d9221"
            ],
            [
             1,
             "#276419"
            ]
           ],
           "sequential": [
            [
             0,
             "#0d0887"
            ],
            [
             0.1111111111111111,
             "#46039f"
            ],
            [
             0.2222222222222222,
             "#7201a8"
            ],
            [
             0.3333333333333333,
             "#9c179e"
            ],
            [
             0.4444444444444444,
             "#bd3786"
            ],
            [
             0.5555555555555556,
             "#d8576b"
            ],
            [
             0.6666666666666666,
             "#ed7953"
            ],
            [
             0.7777777777777778,
             "#fb9f3a"
            ],
            [
             0.8888888888888888,
             "#fdca26"
            ],
            [
             1,
             "#f0f921"
            ]
           ],
           "sequentialminus": [
            [
             0,
             "#0d0887"
            ],
            [
             0.1111111111111111,
             "#46039f"
            ],
            [
             0.2222222222222222,
             "#7201a8"
            ],
            [
             0.3333333333333333,
             "#9c179e"
            ],
            [
             0.4444444444444444,
             "#bd3786"
            ],
            [
             0.5555555555555556,
             "#d8576b"
            ],
            [
             0.6666666666666666,
             "#ed7953"
            ],
            [
             0.7777777777777778,
             "#fb9f3a"
            ],
            [
             0.8888888888888888,
             "#fdca26"
            ],
            [
             1,
             "#f0f921"
            ]
           ]
          },
          "colorway": [
           "#636efa",
           "#EF553B",
           "#00cc96",
           "#ab63fa",
           "#FFA15A",
           "#19d3f3",
           "#FF6692",
           "#B6E880",
           "#FF97FF",
           "#FECB52"
          ],
          "font": {
           "color": "#2a3f5f"
          },
          "geo": {
           "bgcolor": "white",
           "lakecolor": "white",
           "landcolor": "#E5ECF6",
           "showlakes": true,
           "showland": true,
           "subunitcolor": "white"
          },
          "hoverlabel": {
           "align": "left"
          },
          "hovermode": "closest",
          "mapbox": {
           "style": "light"
          },
          "paper_bgcolor": "white",
          "plot_bgcolor": "#E5ECF6",
          "polar": {
           "angularaxis": {
            "gridcolor": "white",
            "linecolor": "white",
            "ticks": ""
           },
           "bgcolor": "#E5ECF6",
           "radialaxis": {
            "gridcolor": "white",
            "linecolor": "white",
            "ticks": ""
           }
          },
          "scene": {
           "xaxis": {
            "backgroundcolor": "#E5ECF6",
            "gridcolor": "white",
            "gridwidth": 2,
            "linecolor": "white",
            "showbackground": true,
            "ticks": "",
            "zerolinecolor": "white"
           },
           "yaxis": {
            "backgroundcolor": "#E5ECF6",
            "gridcolor": "white",
            "gridwidth": 2,
            "linecolor": "white",
            "showbackground": true,
            "ticks": "",
            "zerolinecolor": "white"
           },
           "zaxis": {
            "backgroundcolor": "#E5ECF6",
            "gridcolor": "white",
            "gridwidth": 2,
            "linecolor": "white",
            "showbackground": true,
            "ticks": "",
            "zerolinecolor": "white"
           }
          },
          "shapedefaults": {
           "line": {
            "color": "#2a3f5f"
           }
          },
          "ternary": {
           "aaxis": {
            "gridcolor": "white",
            "linecolor": "white",
            "ticks": ""
           },
           "baxis": {
            "gridcolor": "white",
            "linecolor": "white",
            "ticks": ""
           },
           "bgcolor": "#E5ECF6",
           "caxis": {
            "gridcolor": "white",
            "linecolor": "white",
            "ticks": ""
           }
          },
          "title": {
           "x": 0.05
          },
          "xaxis": {
           "automargin": true,
           "gridcolor": "white",
           "linecolor": "white",
           "ticks": "",
           "title": {
            "standoff": 15
           },
           "zerolinecolor": "white",
           "zerolinewidth": 2
          },
          "yaxis": {
           "automargin": true,
           "gridcolor": "white",
           "linecolor": "white",
           "ticks": "",
           "title": {
            "standoff": 15
           },
           "zerolinecolor": "white",
           "zerolinewidth": 2
          }
         }
        },
        "title": {
         "font": {
          "color": "black"
         },
         "text": "Hydropower Energy Consumption in India (epsilon=10, C=500)"
        },
        "xaxis": {
         "anchor": "y",
         "domain": [
          0,
          1
         ],
         "gridcolor": "lightgrey",
         "gridwidth": 1,
         "linecolor": "black",
         "linewidth": 1,
         "showgrid": true,
         "showline": true,
         "title": {
          "text": "Year"
         },
         "zeroline": true,
         "zerolinecolor": "lightgrey",
         "zerolinewidth": 1
        },
        "yaxis": {
         "anchor": "x",
         "domain": [
          0,
          1
         ],
         "gridcolor": "lightgrey",
         "gridwidth": 1,
         "linecolor": "black",
         "linewidth": 1,
         "showgrid": true,
         "showline": true,
         "title": {
          "text": "Hydropower (terawatt-hours)"
         },
         "zeroline": true,
         "zerolinecolor": "lightgrey",
         "zerolinewidth": 1
        }
       }
      },
      "text/html": [
       "<div>                            <div id=\"52eb1d4a-2906-45b5-801c-7c9d0f2cd006\" class=\"plotly-graph-div\" style=\"height:525px; width:100%;\"></div>            <script type=\"text/javascript\">                require([\"plotly\"], function(Plotly) {                    window.PLOTLYENV=window.PLOTLYENV || {};                                    if (document.getElementById(\"52eb1d4a-2906-45b5-801c-7c9d0f2cd006\")) {                    Plotly.newPlot(                        \"52eb1d4a-2906-45b5-801c-7c9d0f2cd006\",                        [{\"hovertemplate\":\"Year=%{x}<br>Hydropower (terawatt-hours)=%{y}<extra></extra>\",\"legendgroup\":\"\",\"marker\":{\"color\":\"black\",\"opacity\":0.8,\"symbol\":\"circle\",\"size\":3},\"mode\":\"markers\",\"name\":\"\",\"orientation\":\"v\",\"showlegend\":false,\"x\":[1990,1991,1992,1993,1994,1995,1996,1997,1998,1999,2000,2001,2002,2003,2004,2005,2006,2007,2008,2009,2010,2011,2012,2013,2014,2015,2016,2017],\"xaxis\":\"x\",\"y\":[66.3970656,73.9188844,70.0607482,70.732497,80.21211,75.9208726,69.0575444,70.2110078,83.6327256,82.2494534,76.9903674,72.0229618,68.544894,69.296192,83.8404374,97.42,112.617332315068,122.6130975,115.16902,106.3380275,108.7440975,131.7045975,115.776375,131.98302,138.9962925,133.2825367375,128.38161390475,135.668322227574],\"yaxis\":\"y\",\"type\":\"scatter\"},{\"line\":{\"color\":\"limegreen\"},\"name\":\"Linear Regression\",\"x\":[1990.0,1990.2727272727273,1990.5454545454545,1990.8181818181818,1991.090909090909,1991.3636363636363,1991.6363636363637,1991.909090909091,1992.1818181818182,1992.4545454545455,1992.7272727272727,1993.0,1993.2727272727273,1993.5454545454545,1993.8181818181818,1994.090909090909,1994.3636363636363,1994.6363636363637,1994.909090909091,1995.1818181818182,1995.4545454545455,1995.7272727272727,1996.0,1996.2727272727273,1996.5454545454545,1996.8181818181818,1997.090909090909,1997.3636363636363,1997.6363636363637,1997.909090909091,1998.1818181818182,1998.4545454545455,1998.7272727272727,1999.0,1999.2727272727273,1999.5454545454545,1999.8181818181818,2000.090909090909,2000.3636363636363,2000.6363636363637,2000.909090909091,2001.1818181818182,2001.4545454545455,2001.7272727272727,2002.0,2002.2727272727273,2002.5454545454545,2002.8181818181818,2003.090909090909,2003.3636363636363,2003.6363636363637,2003.909090909091,2004.1818181818182,2004.4545454545455,2004.7272727272727,2005.0,2005.2727272727273,2005.5454545454545,2005.8181818181818,2006.090909090909,2006.3636363636363,2006.6363636363637,2006.909090909091,2007.1818181818182,2007.4545454545455,2007.7272727272727,2008.0,2008.2727272727273,2008.5454545454545,2008.8181818181818,2009.090909090909,2009.3636363636363,2009.6363636363637,2009.909090909091,2010.1818181818182,2010.4545454545455,2010.7272727272727,2011.0,2011.2727272727273,2011.5454545454545,2011.8181818181818,2012.090909090909,2012.3636363636363,2012.6363636363637,2012.909090909091,2013.1818181818182,2013.4545454545455,2013.7272727272727,2014.0,2014.2727272727273,2014.5454545454545,2014.8181818181818,2015.090909090909,2015.3636363636363,2015.6363636363637,2015.909090909091,2016.1818181818182,2016.4545454545455,2016.7272727272727,2017.0],\"y\":[60.91725590314945,61.66121672862937,62.40517755410929,63.14913837959011,63.89309920507003,64.63706003055086,65.38102085603168,66.1249816815116,66.86894250699243,67.61290333247234,68.35686415795226,69.10082498343309,69.844785808913,70.58874663439383,71.33270745987375,72.07666828535366,72.82062911083449,73.56458993631531,74.30855076179523,75.05251158727606,75.79647241275597,76.5404332382368,77.28439406371672,78.02835488919663,78.77231571467746,79.51627654015738,80.2602373656382,81.00419819111812,81.74815901659895,82.49211984207977,83.23608066755969,83.98004149303961,84.72400231852043,85.46796314400035,86.21192396948118,86.9558847949611,87.69984562044192,88.44380644592184,89.18776727140175,89.93172809688258,90.6756889223634,91.41964974784332,92.16361057332415,92.90757139880407,93.65153222428489,94.39549304976481,95.13945387524473,95.88341470072555,96.62737552620547,97.3713363516863,98.11529717716712,98.85925800264704,99.60321882812786,100.34717965360778,101.0911404790877,101.83510130456852,102.57906213004844,103.32302295552927,104.06698378100918,104.8109446064891,105.55490543196993,106.29886625745075,107.04282708293067,107.7867879084115,108.53074873389141,109.27470955937224,110.01867038485216,110.76263121033207,111.5065920358129,112.25055286129282,112.99451368677364,113.73847451225356,114.48243533773439,115.22639616321521,115.97035698869513,116.71431781417505,117.45827863965587,118.20223946513579,118.94620029061662,119.69016111609653,120.43412194157736,121.17808276705728,121.9220435925372,122.66600441801802,123.40996524349885,124.15392606897876,124.89788689445959,125.6418477199395,126.38580854542033,127.12976937090025,127.87373019638017,128.617691021861,129.3616518473409,130.10561267282174,130.84957349830256,131.59353432378248,132.3374951492633,133.08145597474322,133.82541680022314,134.56937762570396],\"type\":\"scatter\",\"marker\":{\"size\":3}},{\"line\":{\"color\":\"red\"},\"name\":\"Support Vector Regression\",\"x\":[1990.0,1990.2727272727273,1990.5454545454545,1990.8181818181818,1991.090909090909,1991.3636363636363,1991.6363636363637,1991.909090909091,1992.1818181818182,1992.4545454545455,1992.7272727272727,1993.0,1993.2727272727273,1993.5454545454545,1993.8181818181818,1994.090909090909,1994.3636363636363,1994.6363636363637,1994.909090909091,1995.1818181818182,1995.4545454545455,1995.7272727272727,1996.0,1996.2727272727273,1996.5454545454545,1996.8181818181818,1997.090909090909,1997.3636363636363,1997.6363636363637,1997.909090909091,1998.1818181818182,1998.4545454545455,1998.7272727272727,1999.0,1999.2727272727273,1999.5454545454545,1999.8181818181818,2000.090909090909,2000.3636363636363,2000.6363636363637,2000.909090909091,2001.1818181818182,2001.4545454545455,2001.7272727272727,2002.0,2002.2727272727273,2002.5454545454545,2002.8181818181818,2003.090909090909,2003.3636363636363,2003.6363636363637,2003.909090909091,2004.1818181818182,2004.4545454545455,2004.7272727272727,2005.0,2005.2727272727273,2005.5454545454545,2005.8181818181818,2006.090909090909,2006.3636363636363,2006.6363636363637,2006.909090909091,2007.1818181818182,2007.4545454545455,2007.7272727272727,2008.0,2008.2727272727273,2008.5454545454545,2008.8181818181818,2009.090909090909,2009.3636363636363,2009.6363636363637,2009.909090909091,2010.1818181818182,2010.4545454545455,2010.7272727272727,2011.0,2011.2727272727273,2011.5454545454545,2011.8181818181818,2012.090909090909,2012.3636363636363,2012.6363636363637,2012.909090909091,2013.1818181818182,2013.4545454545455,2013.7272727272727,2014.0,2014.2727272727273,2014.5454545454545,2014.8181818181818,2015.090909090909,2015.3636363636363,2015.6363636363637,2015.909090909091,2016.1818181818182,2016.4545454545455,2016.7272727272727,2017.0],\"y\":[58.45527367933755,59.256876519761136,60.0584784065104,60.860081485352566,61.66168384893899,62.46328621252542,63.264888337693264,64.06649117811685,64.86809306486612,65.66969614370828,66.47129803045755,67.27290087088113,68.07450371130471,68.87610559805398,69.67770867689615,70.47931080206399,71.280913404069,72.082516006074,72.88411789282327,73.68572097166543,74.48732381208902,75.28892593725686,76.09052877768045,76.8921309028483,77.6937335048533,78.49533586843972,79.29693847044473,80.09854131086831,80.900142959199,81.701745561204,82.50334816320901,83.30495076521402,84.10655312880044,84.90815549238687,85.70975833281045,86.51136021955972,87.31296329840188,88.11456613882547,88.91616802557473,89.71777062757974,90.51937346800332,91.32097535475259,92.12257843359475,92.92418032034402,93.7257831607676,94.52738600119119,95.32898788794046,96.13059096678262,96.93219309195047,97.73379569395547,98.53539781912332,99.33700018270974,100.13860278471475,100.94020562513833,101.74180775030618,102.54341035231118,103.34501319273477,104.14661531790262,104.9482181583262,105.7498207603312,106.55142312391763,107.35302524908548,108.15462785109048,108.95622997625833,109.75783305510049,110.55943494184976,111.36103778227334,112.16264062269693,112.9642425094462,113.76584558828836,114.56744795187478,115.36905031546121,116.17065291746621,116.97225528105264,117.77385764463907,118.57546072348123,119.3770626102305,120.17866545065408,120.98026829107766,121.78187017782693,122.5834732566691,123.38507514341836,124.18667798384195,124.98828010900979,125.78988247259622,126.59148507460122,127.39308743818765,128.19469004019265,128.99629264219766,129.79789500578408,130.5994976077891,131.40109997137552,132.20270305021768,133.00430469854837,133.80590753897195,134.60751014097696,135.4091122661448,136.21071534498697,137.01231723173623,137.81392007215982],\"type\":\"scatter\",\"marker\":{\"size\":3}},{\"line\":{\"color\":\"red\",\"dash\":\"dot\"},\"name\":\"+epsilon\",\"x\":[1990.0,1990.2727272727273,1990.5454545454545,1990.8181818181818,1991.090909090909,1991.3636363636363,1991.6363636363637,1991.909090909091,1992.1818181818182,1992.4545454545455,1992.7272727272727,1993.0,1993.2727272727273,1993.5454545454545,1993.8181818181818,1994.090909090909,1994.3636363636363,1994.6363636363637,1994.909090909091,1995.1818181818182,1995.4545454545455,1995.7272727272727,1996.0,1996.2727272727273,1996.5454545454545,1996.8181818181818,1997.090909090909,1997.3636363636363,1997.6363636363637,1997.909090909091,1998.1818181818182,1998.4545454545455,1998.7272727272727,1999.0,1999.2727272727273,1999.5454545454545,1999.8181818181818,2000.090909090909,2000.3636363636363,2000.6363636363637,2000.909090909091,2001.1818181818182,2001.4545454545455,2001.7272727272727,2002.0,2002.2727272727273,2002.5454545454545,2002.8181818181818,2003.090909090909,2003.3636363636363,2003.6363636363637,2003.909090909091,2004.1818181818182,2004.4545454545455,2004.7272727272727,2005.0,2005.2727272727273,2005.5454545454545,2005.8181818181818,2006.090909090909,2006.3636363636363,2006.6363636363637,2006.909090909091,2007.1818181818182,2007.4545454545455,2007.7272727272727,2008.0,2008.2727272727273,2008.5454545454545,2008.8181818181818,2009.090909090909,2009.3636363636363,2009.6363636363637,2009.909090909091,2010.1818181818182,2010.4545454545455,2010.7272727272727,2011.0,2011.2727272727273,2011.5454545454545,2011.8181818181818,2012.090909090909,2012.3636363636363,2012.6363636363637,2012.909090909091,2013.1818181818182,2013.4545454545455,2013.7272727272727,2014.0,2014.2727272727273,2014.5454545454545,2014.8181818181818,2015.090909090909,2015.3636363636363,2015.6363636363637,2015.909090909091,2016.1818181818182,2016.4545454545455,2016.7272727272727,2017.0],\"y\":[68.45527367933755,69.25687651976114,70.0584784065104,70.86008148535257,71.66168384893899,72.46328621252542,73.26488833769326,74.06649117811685,74.86809306486612,75.66969614370828,76.47129803045755,77.27290087088113,78.07450371130471,78.87610559805398,79.67770867689615,80.47931080206399,81.280913404069,82.082516006074,82.88411789282327,83.68572097166543,84.48732381208902,85.28892593725686,86.09052877768045,86.8921309028483,87.6937335048533,88.49533586843972,89.29693847044473,90.09854131086831,90.900142959199,91.701745561204,92.50334816320901,93.30495076521402,94.10655312880044,94.90815549238687,95.70975833281045,96.51136021955972,97.31296329840188,98.11456613882547,98.91616802557473,99.71777062757974,100.51937346800332,101.32097535475259,102.12257843359475,102.92418032034402,103.7257831607676,104.52738600119119,105.32898788794046,106.13059096678262,106.93219309195047,107.73379569395547,108.53539781912332,109.33700018270974,110.13860278471475,110.94020562513833,111.74180775030618,112.54341035231118,113.34501319273477,114.14661531790262,114.9482181583262,115.7498207603312,116.55142312391763,117.35302524908548,118.15462785109048,118.95622997625833,119.75783305510049,120.55943494184976,121.36103778227334,122.16264062269693,122.9642425094462,123.76584558828836,124.56744795187478,125.36905031546121,126.17065291746621,126.97225528105264,127.77385764463907,128.57546072348123,129.3770626102305,130.17866545065408,130.98026829107766,131.78187017782693,132.5834732566691,133.38507514341836,134.18667798384195,134.9882801090098,135.78988247259622,136.59148507460122,137.39308743818765,138.19469004019265,138.99629264219766,139.79789500578408,140.5994976077891,141.40109997137552,142.20270305021768,143.00430469854837,143.80590753897195,144.60751014097696,145.4091122661448,146.21071534498697,147.01231723173623,147.81392007215982],\"type\":\"scatter\",\"marker\":{\"size\":3}},{\"line\":{\"color\":\"red\",\"dash\":\"dot\"},\"name\":\"-epsilon\",\"x\":[1990.0,1990.2727272727273,1990.5454545454545,1990.8181818181818,1991.090909090909,1991.3636363636363,1991.6363636363637,1991.909090909091,1992.1818181818182,1992.4545454545455,1992.7272727272727,1993.0,1993.2727272727273,1993.5454545454545,1993.8181818181818,1994.090909090909,1994.3636363636363,1994.6363636363637,1994.909090909091,1995.1818181818182,1995.4545454545455,1995.7272727272727,1996.0,1996.2727272727273,1996.5454545454545,1996.8181818181818,1997.090909090909,1997.3636363636363,1997.6363636363637,1997.909090909091,1998.1818181818182,1998.4545454545455,1998.7272727272727,1999.0,1999.2727272727273,1999.5454545454545,1999.8181818181818,2000.090909090909,2000.3636363636363,2000.6363636363637,2000.909090909091,2001.1818181818182,2001.4545454545455,2001.7272727272727,2002.0,2002.2727272727273,2002.5454545454545,2002.8181818181818,2003.090909090909,2003.3636363636363,2003.6363636363637,2003.909090909091,2004.1818181818182,2004.4545454545455,2004.7272727272727,2005.0,2005.2727272727273,2005.5454545454545,2005.8181818181818,2006.090909090909,2006.3636363636363,2006.6363636363637,2006.909090909091,2007.1818181818182,2007.4545454545455,2007.7272727272727,2008.0,2008.2727272727273,2008.5454545454545,2008.8181818181818,2009.090909090909,2009.3636363636363,2009.6363636363637,2009.909090909091,2010.1818181818182,2010.4545454545455,2010.7272727272727,2011.0,2011.2727272727273,2011.5454545454545,2011.8181818181818,2012.090909090909,2012.3636363636363,2012.6363636363637,2012.909090909091,2013.1818181818182,2013.4545454545455,2013.7272727272727,2014.0,2014.2727272727273,2014.5454545454545,2014.8181818181818,2015.090909090909,2015.3636363636363,2015.6363636363637,2015.909090909091,2016.1818181818182,2016.4545454545455,2016.7272727272727,2017.0],\"y\":[48.45527367933755,49.256876519761136,50.0584784065104,50.860081485352566,51.66168384893899,52.46328621252542,53.264888337693264,54.06649117811685,54.868093064866116,55.66969614370828,56.47129803045755,57.27290087088113,58.074503711304715,58.87610559805398,59.677708676896145,60.47931080206399,61.280913404069,62.082516006074,62.88411789282327,63.68572097166543,64.48732381208902,65.28892593725686,66.09052877768045,66.8921309028483,67.6937335048533,68.49533586843972,69.29693847044473,70.09854131086831,70.900142959199,71.701745561204,72.50334816320901,73.30495076521402,74.10655312880044,74.90815549238687,75.70975833281045,76.51136021955972,77.31296329840188,78.11456613882547,78.91616802557473,79.71777062757974,80.51937346800332,81.32097535475259,82.12257843359475,82.92418032034402,83.7257831607676,84.52738600119119,85.32898788794046,86.13059096678262,86.93219309195047,87.73379569395547,88.53539781912332,89.33700018270974,90.13860278471475,90.94020562513833,91.74180775030618,92.54341035231118,93.34501319273477,94.14661531790262,94.9482181583262,95.7498207603312,96.55142312391763,97.35302524908548,98.15462785109048,98.95622997625833,99.75783305510049,100.55943494184976,101.36103778227334,102.16264062269693,102.9642425094462,103.76584558828836,104.56744795187478,105.36905031546121,106.17065291746621,106.97225528105264,107.77385764463907,108.57546072348123,109.3770626102305,110.17866545065408,110.98026829107766,111.78187017782693,112.5834732566691,113.38507514341836,114.18667798384195,114.98828010900979,115.78988247259622,116.59148507460122,117.39308743818765,118.19469004019265,118.99629264219766,119.79789500578408,120.59949760778909,121.40109997137552,122.20270305021768,123.00430469854837,123.80590753897195,124.60751014097696,125.4091122661448,126.21071534498697,127.01231723173623,127.81392007215982],\"type\":\"scatter\",\"marker\":{\"size\":3}}],                        {\"template\":{\"data\":{\"bar\":[{\"error_x\":{\"color\":\"#2a3f5f\"},\"error_y\":{\"color\":\"#2a3f5f\"},\"marker\":{\"line\":{\"color\":\"#E5ECF6\",\"width\":0.5},\"pattern\":{\"fillmode\":\"overlay\",\"size\":10,\"solidity\":0.2}},\"type\":\"bar\"}],\"barpolar\":[{\"marker\":{\"line\":{\"color\":\"#E5ECF6\",\"width\":0.5},\"pattern\":{\"fillmode\":\"overlay\",\"size\":10,\"solidity\":0.2}},\"type\":\"barpolar\"}],\"carpet\":[{\"aaxis\":{\"endlinecolor\":\"#2a3f5f\",\"gridcolor\":\"white\",\"linecolor\":\"white\",\"minorgridcolor\":\"white\",\"startlinecolor\":\"#2a3f5f\"},\"baxis\":{\"endlinecolor\":\"#2a3f5f\",\"gridcolor\":\"white\",\"linecolor\":\"white\",\"minorgridcolor\":\"white\",\"startlinecolor\":\"#2a3f5f\"},\"type\":\"carpet\"}],\"choropleth\":[{\"colorbar\":{\"outlinewidth\":0,\"ticks\":\"\"},\"type\":\"choropleth\"}],\"contour\":[{\"colorbar\":{\"outlinewidth\":0,\"ticks\":\"\"},\"colorscale\":[[0.0,\"#0d0887\"],[0.1111111111111111,\"#46039f\"],[0.2222222222222222,\"#7201a8\"],[0.3333333333333333,\"#9c179e\"],[0.4444444444444444,\"#bd3786\"],[0.5555555555555556,\"#d8576b\"],[0.6666666666666666,\"#ed7953\"],[0.7777777777777778,\"#fb9f3a\"],[0.8888888888888888,\"#fdca26\"],[1.0,\"#f0f921\"]],\"type\":\"contour\"}],\"contourcarpet\":[{\"colorbar\":{\"outlinewidth\":0,\"ticks\":\"\"},\"type\":\"contourcarpet\"}],\"heatmap\":[{\"colorbar\":{\"outlinewidth\":0,\"ticks\":\"\"},\"colorscale\":[[0.0,\"#0d0887\"],[0.1111111111111111,\"#46039f\"],[0.2222222222222222,\"#7201a8\"],[0.3333333333333333,\"#9c179e\"],[0.4444444444444444,\"#bd3786\"],[0.5555555555555556,\"#d8576b\"],[0.6666666666666666,\"#ed7953\"],[0.7777777777777778,\"#fb9f3a\"],[0.8888888888888888,\"#fdca26\"],[1.0,\"#f0f921\"]],\"type\":\"heatmap\"}],\"heatmapgl\":[{\"colorbar\":{\"outlinewidth\":0,\"ticks\":\"\"},\"colorscale\":[[0.0,\"#0d0887\"],[0.1111111111111111,\"#46039f\"],[0.2222222222222222,\"#7201a8\"],[0.3333333333333333,\"#9c179e\"],[0.4444444444444444,\"#bd3786\"],[0.5555555555555556,\"#d8576b\"],[0.6666666666666666,\"#ed7953\"],[0.7777777777777778,\"#fb9f3a\"],[0.8888888888888888,\"#fdca26\"],[1.0,\"#f0f921\"]],\"type\":\"heatmapgl\"}],\"histogram\":[{\"marker\":{\"pattern\":{\"fillmode\":\"overlay\",\"size\":10,\"solidity\":0.2}},\"type\":\"histogram\"}],\"histogram2d\":[{\"colorbar\":{\"outlinewidth\":0,\"ticks\":\"\"},\"colorscale\":[[0.0,\"#0d0887\"],[0.1111111111111111,\"#46039f\"],[0.2222222222222222,\"#7201a8\"],[0.3333333333333333,\"#9c179e\"],[0.4444444444444444,\"#bd3786\"],[0.5555555555555556,\"#d8576b\"],[0.6666666666666666,\"#ed7953\"],[0.7777777777777778,\"#fb9f3a\"],[0.8888888888888888,\"#fdca26\"],[1.0,\"#f0f921\"]],\"type\":\"histogram2d\"}],\"histogram2dcontour\":[{\"colorbar\":{\"outlinewidth\":0,\"ticks\":\"\"},\"colorscale\":[[0.0,\"#0d0887\"],[0.1111111111111111,\"#46039f\"],[0.2222222222222222,\"#7201a8\"],[0.3333333333333333,\"#9c179e\"],[0.4444444444444444,\"#bd3786\"],[0.5555555555555556,\"#d8576b\"],[0.6666666666666666,\"#ed7953\"],[0.7777777777777778,\"#fb9f3a\"],[0.8888888888888888,\"#fdca26\"],[1.0,\"#f0f921\"]],\"type\":\"histogram2dcontour\"}],\"mesh3d\":[{\"colorbar\":{\"outlinewidth\":0,\"ticks\":\"\"},\"type\":\"mesh3d\"}],\"parcoords\":[{\"line\":{\"colorbar\":{\"outlinewidth\":0,\"ticks\":\"\"}},\"type\":\"parcoords\"}],\"pie\":[{\"automargin\":true,\"type\":\"pie\"}],\"scatter\":[{\"marker\":{\"colorbar\":{\"outlinewidth\":0,\"ticks\":\"\"}},\"type\":\"scatter\"}],\"scatter3d\":[{\"line\":{\"colorbar\":{\"outlinewidth\":0,\"ticks\":\"\"}},\"marker\":{\"colorbar\":{\"outlinewidth\":0,\"ticks\":\"\"}},\"type\":\"scatter3d\"}],\"scattercarpet\":[{\"marker\":{\"colorbar\":{\"outlinewidth\":0,\"ticks\":\"\"}},\"type\":\"scattercarpet\"}],\"scattergeo\":[{\"marker\":{\"colorbar\":{\"outlinewidth\":0,\"ticks\":\"\"}},\"type\":\"scattergeo\"}],\"scattergl\":[{\"marker\":{\"colorbar\":{\"outlinewidth\":0,\"ticks\":\"\"}},\"type\":\"scattergl\"}],\"scattermapbox\":[{\"marker\":{\"colorbar\":{\"outlinewidth\":0,\"ticks\":\"\"}},\"type\":\"scattermapbox\"}],\"scatterpolar\":[{\"marker\":{\"colorbar\":{\"outlinewidth\":0,\"ticks\":\"\"}},\"type\":\"scatterpolar\"}],\"scatterpolargl\":[{\"marker\":{\"colorbar\":{\"outlinewidth\":0,\"ticks\":\"\"}},\"type\":\"scatterpolargl\"}],\"scatterternary\":[{\"marker\":{\"colorbar\":{\"outlinewidth\":0,\"ticks\":\"\"}},\"type\":\"scatterternary\"}],\"surface\":[{\"colorbar\":{\"outlinewidth\":0,\"ticks\":\"\"},\"colorscale\":[[0.0,\"#0d0887\"],[0.1111111111111111,\"#46039f\"],[0.2222222222222222,\"#7201a8\"],[0.3333333333333333,\"#9c179e\"],[0.4444444444444444,\"#bd3786\"],[0.5555555555555556,\"#d8576b\"],[0.6666666666666666,\"#ed7953\"],[0.7777777777777778,\"#fb9f3a\"],[0.8888888888888888,\"#fdca26\"],[1.0,\"#f0f921\"]],\"type\":\"surface\"}],\"table\":[{\"cells\":{\"fill\":{\"color\":\"#EBF0F8\"},\"line\":{\"color\":\"white\"}},\"header\":{\"fill\":{\"color\":\"#C8D4E3\"},\"line\":{\"color\":\"white\"}},\"type\":\"table\"}]},\"layout\":{\"annotationdefaults\":{\"arrowcolor\":\"#2a3f5f\",\"arrowhead\":0,\"arrowwidth\":1},\"autotypenumbers\":\"strict\",\"coloraxis\":{\"colorbar\":{\"outlinewidth\":0,\"ticks\":\"\"}},\"colorscale\":{\"diverging\":[[0,\"#8e0152\"],[0.1,\"#c51b7d\"],[0.2,\"#de77ae\"],[0.3,\"#f1b6da\"],[0.4,\"#fde0ef\"],[0.5,\"#f7f7f7\"],[0.6,\"#e6f5d0\"],[0.7,\"#b8e186\"],[0.8,\"#7fbc41\"],[0.9,\"#4d9221\"],[1,\"#276419\"]],\"sequential\":[[0.0,\"#0d0887\"],[0.1111111111111111,\"#46039f\"],[0.2222222222222222,\"#7201a8\"],[0.3333333333333333,\"#9c179e\"],[0.4444444444444444,\"#bd3786\"],[0.5555555555555556,\"#d8576b\"],[0.6666666666666666,\"#ed7953\"],[0.7777777777777778,\"#fb9f3a\"],[0.8888888888888888,\"#fdca26\"],[1.0,\"#f0f921\"]],\"sequentialminus\":[[0.0,\"#0d0887\"],[0.1111111111111111,\"#46039f\"],[0.2222222222222222,\"#7201a8\"],[0.3333333333333333,\"#9c179e\"],[0.4444444444444444,\"#bd3786\"],[0.5555555555555556,\"#d8576b\"],[0.6666666666666666,\"#ed7953\"],[0.7777777777777778,\"#fb9f3a\"],[0.8888888888888888,\"#fdca26\"],[1.0,\"#f0f921\"]]},\"colorway\":[\"#636efa\",\"#EF553B\",\"#00cc96\",\"#ab63fa\",\"#FFA15A\",\"#19d3f3\",\"#FF6692\",\"#B6E880\",\"#FF97FF\",\"#FECB52\"],\"font\":{\"color\":\"#2a3f5f\"},\"geo\":{\"bgcolor\":\"white\",\"lakecolor\":\"white\",\"landcolor\":\"#E5ECF6\",\"showlakes\":true,\"showland\":true,\"subunitcolor\":\"white\"},\"hoverlabel\":{\"align\":\"left\"},\"hovermode\":\"closest\",\"mapbox\":{\"style\":\"light\"},\"paper_bgcolor\":\"white\",\"plot_bgcolor\":\"#E5ECF6\",\"polar\":{\"angularaxis\":{\"gridcolor\":\"white\",\"linecolor\":\"white\",\"ticks\":\"\"},\"bgcolor\":\"#E5ECF6\",\"radialaxis\":{\"gridcolor\":\"white\",\"linecolor\":\"white\",\"ticks\":\"\"}},\"scene\":{\"xaxis\":{\"backgroundcolor\":\"#E5ECF6\",\"gridcolor\":\"white\",\"gridwidth\":2,\"linecolor\":\"white\",\"showbackground\":true,\"ticks\":\"\",\"zerolinecolor\":\"white\"},\"yaxis\":{\"backgroundcolor\":\"#E5ECF6\",\"gridcolor\":\"white\",\"gridwidth\":2,\"linecolor\":\"white\",\"showbackground\":true,\"ticks\":\"\",\"zerolinecolor\":\"white\"},\"zaxis\":{\"backgroundcolor\":\"#E5ECF6\",\"gridcolor\":\"white\",\"gridwidth\":2,\"linecolor\":\"white\",\"showbackground\":true,\"ticks\":\"\",\"zerolinecolor\":\"white\"}},\"shapedefaults\":{\"line\":{\"color\":\"#2a3f5f\"}},\"ternary\":{\"aaxis\":{\"gridcolor\":\"white\",\"linecolor\":\"white\",\"ticks\":\"\"},\"baxis\":{\"gridcolor\":\"white\",\"linecolor\":\"white\",\"ticks\":\"\"},\"bgcolor\":\"#E5ECF6\",\"caxis\":{\"gridcolor\":\"white\",\"linecolor\":\"white\",\"ticks\":\"\"}},\"title\":{\"x\":0.05},\"xaxis\":{\"automargin\":true,\"gridcolor\":\"white\",\"linecolor\":\"white\",\"ticks\":\"\",\"title\":{\"standoff\":15},\"zerolinecolor\":\"white\",\"zerolinewidth\":2},\"yaxis\":{\"automargin\":true,\"gridcolor\":\"white\",\"linecolor\":\"white\",\"ticks\":\"\",\"title\":{\"standoff\":15},\"zerolinecolor\":\"white\",\"zerolinewidth\":2}}},\"xaxis\":{\"anchor\":\"y\",\"domain\":[0.0,1.0],\"title\":{\"text\":\"Year\"},\"showgrid\":true,\"gridwidth\":1,\"gridcolor\":\"lightgrey\",\"zeroline\":true,\"zerolinewidth\":1,\"zerolinecolor\":\"lightgrey\",\"showline\":true,\"linewidth\":1,\"linecolor\":\"black\"},\"yaxis\":{\"anchor\":\"x\",\"domain\":[0.0,1.0],\"title\":{\"text\":\"Hydropower (terawatt-hours)\"},\"showgrid\":true,\"gridwidth\":1,\"gridcolor\":\"lightgrey\",\"zeroline\":true,\"zerolinewidth\":1,\"zerolinecolor\":\"lightgrey\",\"showline\":true,\"linewidth\":1,\"linecolor\":\"black\"},\"legend\":{\"tracegroupgap\":0},\"margin\":{\"t\":60},\"plot_bgcolor\":\"white\",\"title\":{\"font\":{\"color\":\"black\"},\"text\":\"Hydropower Energy Consumption in India (epsilon=10, C=500)\"}},                        {\"responsive\": true}                    ).then(function(){\n",
       "                            \n",
       "var gd = document.getElementById('52eb1d4a-2906-45b5-801c-7c9d0f2cd006');\n",
       "var x = new MutationObserver(function (mutations, observer) {{\n",
       "        var display = window.getComputedStyle(gd).display;\n",
       "        if (!display || display === 'none') {{\n",
       "            console.log([gd, 'removed!']);\n",
       "            Plotly.purge(gd);\n",
       "            observer.disconnect();\n",
       "        }}\n",
       "}});\n",
       "\n",
       "// Listen for the removal of the full notebook cells\n",
       "var notebookContainer = gd.closest('#notebook-container');\n",
       "if (notebookContainer) {{\n",
       "    x.observe(notebookContainer, {childList: true});\n",
       "}}\n",
       "\n",
       "// Listen for the clearing of the current output cell\n",
       "var outputEl = gd.closest('.output');\n",
       "if (outputEl) {{\n",
       "    x.observe(outputEl, {childList: true});\n",
       "}}\n",
       "\n",
       "                        })                };                });            </script>        </div>"
      ]
     },
     "metadata": {},
     "output_type": "display_data"
    }
   ],
   "source": [
    "# Create a scatter plot\n",
    "fig = px.scatter(df, x=df['Year'], y=df['Hydropower (terawatt-hours)'], \n",
    "                 opacity=0.8, color_discrete_sequence=['black'])\n",
    "# Add a best-fit line\n",
    "fig.add_traces(go.Scatter(x=x_range, y=y_lr, name='Linear Regression', line=dict(color='limegreen')))\n",
    "fig.add_traces(go.Scatter(x=x_range, y=y_svr, name='Support Vector Regression', line=dict(color='red')))\n",
    "fig.add_traces(go.Scatter(x=x_range, y=y_svr+10, name='+epsilon', line=dict(color='red', dash='dot')))\n",
    "fig.add_traces(go.Scatter(x=x_range, y=y_svr-10, name='-epsilon', line=dict(color='red', dash='dot')))\n",
    "\n",
    "# Change chart background color\n",
    "fig.update_layout(dict(plot_bgcolor = 'white'))\n",
    "\n",
    "# Update axes lines\n",
    "fig.update_xaxes(showgrid=True, gridwidth=1, gridcolor='lightgrey', \n",
    "                 zeroline=True, zerolinewidth=1, zerolinecolor='lightgrey', \n",
    "                 showline=True, linewidth=1, linecolor='black')\n",
    "\n",
    "fig.update_yaxes(showgrid=True, gridwidth=1, gridcolor='lightgrey', \n",
    "                 zeroline=True, zerolinewidth=1, zerolinecolor='lightgrey', \n",
    "                 showline=True, linewidth=1, linecolor='black')\n",
    "\n",
    "# Set figure title\n",
    "fig.update_layout(title=dict(text=\"Hydropower Energy Consumption in India (epsilon=10, C=500)\", \n",
    "                             font=dict(color='black')))\n",
    "\n",
    "# Update marker size\n",
    "fig.update_traces(marker=dict(size=3))\n",
    "\n",
    "fig.show()"
   ]
  },
  {
   "cell_type": "code",
   "execution_count": 351,
   "id": "2dede20f",
   "metadata": {
    "colab": {
     "base_uri": "https://localhost:8080/"
    },
    "id": "2dede20f",
    "outputId": "5b65205c-80ad-4b1a-fb56-d60380229bc1"
   },
   "outputs": [
    {
     "data": {
      "text/plain": [
       "array([ 84.90815549, 134.87471085, 120.17866545,  93.72578316,\n",
       "        73.15131932,  90.78657394, 131.93550163, 123.1178742 ,\n",
       "        76.09052878])"
      ]
     },
     "execution_count": 351,
     "metadata": {},
     "output_type": "execute_result"
    }
   ],
   "source": [
    "#5 Predicting a new result\n",
    "y_pred = svr.predict(X_test)\n",
    "y_pred"
   ]
  },
  {
   "cell_type": "code",
   "execution_count": 352,
   "id": "d2095d54",
   "metadata": {
    "colab": {
     "base_uri": "https://localhost:8080/"
    },
    "id": "d2095d54",
    "outputId": "a0d580dc-3707-4541-c906-2ed676234cef"
   },
   "outputs": [
    {
     "name": "stdout",
     "output_type": "stream",
     "text": [
      "R squared: 81.11\n",
      "Mean Absolute Error is:  9.234811594871186\n",
      "Mean Squared Error is:  142.34131582627762\n",
      "Root Mean Squared Error is:  11.930687986293062\n"
     ]
    }
   ],
   "source": [
    "mse = metrics.mean_squared_error(y_test, y_pred)\n",
    "rmse = np.sqrt(mse)\n",
    "meanAbErr = metrics.mean_absolute_error(y_test, y_pred)\n",
    "\n",
    "\n",
    "print('R squared: {:.2f}'.format(svr.score(X,y)*100))\n",
    "print('Mean Absolute Error is: ', meanAbErr)\n",
    "print(\"Mean Squared Error is: \", mse)\n",
    "print(\"Root Mean Squared Error is: \", rmse)"
   ]
  },
  {
   "cell_type": "code",
   "execution_count": 353,
   "id": "25f1d919",
   "metadata": {
    "colab": {
     "base_uri": "https://localhost:8080/",
     "height": 328
    },
    "id": "25f1d919",
    "outputId": "bf958d24-8137-41ff-f29a-4403280ba2b2"
   },
   "outputs": [
    {
     "data": {
      "text/html": [
       "<div>\n",
       "<style scoped>\n",
       "    .dataframe tbody tr th:only-of-type {\n",
       "        vertical-align: middle;\n",
       "    }\n",
       "\n",
       "    .dataframe tbody tr th {\n",
       "        vertical-align: top;\n",
       "    }\n",
       "\n",
       "    .dataframe thead th {\n",
       "        text-align: right;\n",
       "    }\n",
       "</style>\n",
       "<table border=\"1\" class=\"dataframe\">\n",
       "  <thead>\n",
       "    <tr style=\"text-align: right;\">\n",
       "      <th></th>\n",
       "      <th>Predicted</th>\n",
       "      <th>Actual</th>\n",
       "    </tr>\n",
       "  </thead>\n",
       "  <tbody>\n",
       "    <tr>\n",
       "      <th>0</th>\n",
       "      <td>84.908155</td>\n",
       "      <td>82.249453</td>\n",
       "    </tr>\n",
       "    <tr>\n",
       "      <th>1</th>\n",
       "      <td>134.874711</td>\n",
       "      <td>128.381614</td>\n",
       "    </tr>\n",
       "    <tr>\n",
       "      <th>2</th>\n",
       "      <td>120.178665</td>\n",
       "      <td>131.704598</td>\n",
       "    </tr>\n",
       "    <tr>\n",
       "      <th>3</th>\n",
       "      <td>93.725783</td>\n",
       "      <td>68.544894</td>\n",
       "    </tr>\n",
       "    <tr>\n",
       "      <th>4</th>\n",
       "      <td>73.151319</td>\n",
       "      <td>75.920873</td>\n",
       "    </tr>\n",
       "    <tr>\n",
       "      <th>5</th>\n",
       "      <td>90.786574</td>\n",
       "      <td>72.022962</td>\n",
       "    </tr>\n",
       "    <tr>\n",
       "      <th>6</th>\n",
       "      <td>131.935502</td>\n",
       "      <td>133.282537</td>\n",
       "    </tr>\n",
       "    <tr>\n",
       "      <th>7</th>\n",
       "      <td>123.117874</td>\n",
       "      <td>115.776375</td>\n",
       "    </tr>\n",
       "    <tr>\n",
       "      <th>8</th>\n",
       "      <td>76.090529</td>\n",
       "      <td>69.057544</td>\n",
       "    </tr>\n",
       "  </tbody>\n",
       "</table>\n",
       "</div>"
      ],
      "text/plain": [
       "    Predicted      Actual\n",
       "0   84.908155   82.249453\n",
       "1  134.874711  128.381614\n",
       "2  120.178665  131.704598\n",
       "3   93.725783   68.544894\n",
       "4   73.151319   75.920873\n",
       "5   90.786574   72.022962\n",
       "6  131.935502  133.282537\n",
       "7  123.117874  115.776375\n",
       "8   76.090529   69.057544"
      ]
     },
     "execution_count": 353,
     "metadata": {},
     "output_type": "execute_result"
    }
   ],
   "source": [
    "data = {'Predicted':y_pred, 'Actual':y_test}\n",
    "\n",
    "comparison = pd.DataFrame(data)\n",
    "comparison"
   ]
  },
  {
   "cell_type": "code",
   "execution_count": 354,
   "id": "769ef074",
   "metadata": {
    "colab": {
     "base_uri": "https://localhost:8080/"
    },
    "id": "769ef074",
    "outputId": "7d2c971d-f592-44f2-8c3c-7038e1008d2e"
   },
   "outputs": [
    {
     "data": {
      "text/plain": [
       "array([ 85.46796314, 131.84152127, 118.20223947,  93.65153222,\n",
       "        74.5565377 ,  90.92367586, 129.11366491, 120.93009583,\n",
       "        77.28439406])"
      ]
     },
     "execution_count": 354,
     "metadata": {},
     "output_type": "execute_result"
    }
   ],
   "source": [
    "#5 Predicting a new result\n",
    "y_pred = lr.predict(X_test)\n",
    "y_pred"
   ]
  },
  {
   "cell_type": "code",
   "execution_count": 355,
   "id": "e0fca75d",
   "metadata": {},
   "outputs": [
    {
     "name": "stdout",
     "output_type": "stream",
     "text": [
      "R squared: 81.29\n",
      "Mean Absolute Error is:  9.233544960612205\n",
      "Mean Squared Error is:  145.07850080842448\n",
      "Root Mean Squared Error is:  12.044853706393635\n"
     ]
    }
   ],
   "source": [
    "mse = metrics.mean_squared_error(y_test, y_pred)\n",
    "rmse = np.sqrt(mse)\n",
    "meanAbErr = metrics.mean_absolute_error(y_test, y_pred)\n",
    "\n",
    "\n",
    "print('R squared: {:.2f}'.format(lr.score(X,y)*100))\n",
    "print('Mean Absolute Error is: ', meanAbErr)\n",
    "print(\"Mean Squared Error is: \", mse)\n",
    "print(\"Root Mean Squared Error is: \", rmse)"
   ]
  },
  {
   "cell_type": "code",
   "execution_count": 356,
   "id": "0729d641",
   "metadata": {},
   "outputs": [
    {
     "data": {
      "text/html": [
       "<div>\n",
       "<style scoped>\n",
       "    .dataframe tbody tr th:only-of-type {\n",
       "        vertical-align: middle;\n",
       "    }\n",
       "\n",
       "    .dataframe tbody tr th {\n",
       "        vertical-align: top;\n",
       "    }\n",
       "\n",
       "    .dataframe thead th {\n",
       "        text-align: right;\n",
       "    }\n",
       "</style>\n",
       "<table border=\"1\" class=\"dataframe\">\n",
       "  <thead>\n",
       "    <tr style=\"text-align: right;\">\n",
       "      <th></th>\n",
       "      <th>Predicted</th>\n",
       "      <th>Actual</th>\n",
       "    </tr>\n",
       "  </thead>\n",
       "  <tbody>\n",
       "    <tr>\n",
       "      <th>0</th>\n",
       "      <td>85.467963</td>\n",
       "      <td>82.249453</td>\n",
       "    </tr>\n",
       "    <tr>\n",
       "      <th>1</th>\n",
       "      <td>131.841521</td>\n",
       "      <td>128.381614</td>\n",
       "    </tr>\n",
       "    <tr>\n",
       "      <th>2</th>\n",
       "      <td>118.202239</td>\n",
       "      <td>131.704598</td>\n",
       "    </tr>\n",
       "    <tr>\n",
       "      <th>3</th>\n",
       "      <td>93.651532</td>\n",
       "      <td>68.544894</td>\n",
       "    </tr>\n",
       "    <tr>\n",
       "      <th>4</th>\n",
       "      <td>74.556538</td>\n",
       "      <td>75.920873</td>\n",
       "    </tr>\n",
       "    <tr>\n",
       "      <th>5</th>\n",
       "      <td>90.923676</td>\n",
       "      <td>72.022962</td>\n",
       "    </tr>\n",
       "    <tr>\n",
       "      <th>6</th>\n",
       "      <td>129.113665</td>\n",
       "      <td>133.282537</td>\n",
       "    </tr>\n",
       "    <tr>\n",
       "      <th>7</th>\n",
       "      <td>120.930096</td>\n",
       "      <td>115.776375</td>\n",
       "    </tr>\n",
       "    <tr>\n",
       "      <th>8</th>\n",
       "      <td>77.284394</td>\n",
       "      <td>69.057544</td>\n",
       "    </tr>\n",
       "  </tbody>\n",
       "</table>\n",
       "</div>"
      ],
      "text/plain": [
       "    Predicted      Actual\n",
       "0   85.467963   82.249453\n",
       "1  131.841521  128.381614\n",
       "2  118.202239  131.704598\n",
       "3   93.651532   68.544894\n",
       "4   74.556538   75.920873\n",
       "5   90.923676   72.022962\n",
       "6  129.113665  133.282537\n",
       "7  120.930096  115.776375\n",
       "8   77.284394   69.057544"
      ]
     },
     "execution_count": 356,
     "metadata": {},
     "output_type": "execute_result"
    }
   ],
   "source": [
    "data = {'Predicted':y_pred, 'Actual':y_test}\n",
    "\n",
    "comparison = pd.DataFrame(data)\n",
    "comparison"
   ]
  },
  {
   "cell_type": "code",
   "execution_count": 357,
   "id": "68a36e67",
   "metadata": {
    "id": "68a36e67"
   },
   "outputs": [],
   "source": [
    "# ------- Support Vector regression using entire dataset as training set -------\n",
    "model2 = SVR(kernel='linear', C=500, epsilon=10) # set kernel and hyperparameters\n",
    "svr = model2.fit(X, y)\n"
   ]
  },
  {
   "cell_type": "code",
   "execution_count": 358,
   "id": "102693b0",
   "metadata": {
    "colab": {
     "base_uri": "https://localhost:8080/"
    },
    "id": "102693b0",
    "outputId": "0ea46571-0c45-412d-dec0-ff9a918fee8e"
   },
   "outputs": [
    {
     "data": {
      "text/plain": [
       "array([140.99798523, 143.99840901, 146.99883173, 149.99925457,\n",
       "       152.99967824, 156.00010191, 159.00052474, 162.00094746,\n",
       "       165.00137125, 168.00179396, 171.00221775, 174.00264047,\n",
       "       177.0030633 , 180.00348697, 183.00391076, 186.00433348,\n",
       "       189.00475631, 192.00517998, 195.00560365, 198.00602649,\n",
       "       201.0064492 , 204.00687299, 207.00729571, 210.0077195 ,\n",
       "       213.00814221, 216.00856505, 219.00898872, 222.00941251,\n",
       "       225.00983523, 228.01025794, 231.01068173, 234.01110445,\n",
       "       237.01152824])"
      ]
     },
     "execution_count": 358,
     "metadata": {},
     "output_type": "execute_result"
    }
   ],
   "source": [
    "#predicting y values for future years using updated SVR model\n",
    "x_future = [[2018],[2019],[2020],[2021],[2022],[2023],[2024],[2025],[2026],[2027],[2028],[2029],[2030],[2031],[2032],[2033],[2034],[2035],[2036],[2037],[2038],[2039],[2040],[2041],[2042],[2043],[2044],[2045],[2046],[2047],[2048],[2049],[2050]]\n",
    "y_pred = svr.predict(x_future)\n",
    "y_pred"
   ]
  },
  {
   "cell_type": "code",
   "execution_count": 359,
   "id": "42135108",
   "metadata": {},
   "outputs": [
    {
     "data": {
      "text/plain": [
       "array([140.99798523, 143.99840901, 146.99883173, 149.99925457,\n",
       "       152.99967824, 156.00010191, 159.00052474, 162.00094746,\n",
       "       165.00137125, 168.00179396, 171.00221775, 174.00264047,\n",
       "       177.0030633 , 180.00348697, 183.00391076, 186.00433348,\n",
       "       189.00475631, 192.00517998, 195.00560365, 198.00602649,\n",
       "       201.0064492 , 204.00687299, 207.00729571, 210.0077195 ,\n",
       "       213.00814221, 216.00856505, 219.00898872, 222.00941251,\n",
       "       225.00983523, 228.01025794, 231.01068173, 234.01110445,\n",
       "       237.01152824])"
      ]
     },
     "execution_count": 359,
     "metadata": {},
     "output_type": "execute_result"
    }
   ],
   "source": [
    "net_consumption = y_pred\n",
    "net_consumption"
   ]
  },
  {
   "cell_type": "code",
   "execution_count": 360,
   "id": "mPtK7fLn8723",
   "metadata": {
    "colab": {
     "base_uri": "https://localhost:8080/"
    },
    "id": "mPtK7fLn8723",
    "outputId": "418bb1f1-89a4-469d-c0e8-8c0a28fc2a06"
   },
   "outputs": [
    {
     "name": "stdout",
     "output_type": "stream",
     "text": [
      "Rate of Increase: 3.8254734230768874\n"
     ]
    }
   ],
   "source": [
    "# Finding the Rate of Increase for Hydropower Consumption\n",
    "print (\"Rate of Increase:\", (y_pred[2] - 108.7440975)/10)"
   ]
  },
  {
   "cell_type": "code",
   "execution_count": 361,
   "id": "5b725cc0",
   "metadata": {},
   "outputs": [
    {
     "data": {
      "image/png": "[encoded data removed]",
      "text/plain": [
       "<Figure size 432x288 with 1 Axes>"
      ]
     },
     "metadata": {
      "needs_background": "light"
     },
     "output_type": "display_data"
    }
   ],
   "source": [
    "fig, ax = plt.subplots()\n",
    "ax.scatter(years,y_pred)\n",
    "ax.set_title('Predicted Hydropower Energy Consumption in India (epsilon=10, C=500)')\n",
    "ax.set_xlabel('Years')\n",
    "ax.set_ylabel('Energy Consumption')\n",
    "\n",
    "\n",
    "plt.show()"
   ]
  },
  {
   "cell_type": "markdown",
   "id": "10b21c03",
   "metadata": {
    "id": "10b21c03"
   },
   "source": [
    "# Solar"
   ]
  },
  {
   "cell_type": "code",
   "execution_count": 362,
   "id": "1660217f",
   "metadata": {
    "id": "1660217f"
   },
   "outputs": [],
   "source": [
    "# Use MinMax Scaling on Year and Solar\n",
    "df['Year (scaled)']=scaler.fit_transform(df[['Year']])\n",
    "df['Solar (scaled)']=scaler.fit_transform(df[['Solar (terawatt-hours)']])"
   ]
  },
  {
   "cell_type": "code",
   "execution_count": 363,
   "id": "86f32496",
   "metadata": {
    "id": "86f32496",
    "outputId": "b86559b0-c969-445a-a18f-f08c9a39c3b6"
   },
   "outputs": [
    {
     "data": {
      "application/vnd.plotly.v1+json": {
       "config": {
        "plotlyServerURL": "https://plot.ly"
       },
       "data": [
        {
         "hovertemplate": "Year=%{x}<br>Solar (terawatt-hours)=%{y}<extra></extra>",
         "legendgroup": "",
         "marker": {
          "color": "black",
          "opacity": 0.8,
          "size": 5,
          "symbol": "circle"
         },
         "mode": "markers",
         "name": "",
         "orientation": "v",
         "showlegend": false,
         "type": "scatter",
         "x": [
          1990,
          1991,
          1992,
          1993,
          1994,
          1995,
          1996,
          1997,
          1998,
          1999,
          2000,
          2001,
          2002,
          2003,
          2004,
          2005,
          2006,
          2007,
          2008,
          2009,
          2010,
          2011,
          2012,
          2013,
          2014,
          2015,
          2016,
          2017
         ],
         "xaxis": "x",
         "y": [
          0,
          0,
          0,
          0,
          0,
          0.001010101010101,
          0.0060606060606059,
          0.0060606060606059,
          0.0060606060606059,
          0.0060606060606059,
          0.0070707070707069,
          0.011111111111111,
          0.013131313131313,
          0.016161616161616,
          0.018181818181818,
          0.018181818181818,
          0.0072,
          0.059,
          0.063,
          0.075,
          0.113,
          0.827,
          2.099,
          3.433,
          4.909,
          6.56638,
          11.55598,
          21.52221
         ],
         "yaxis": "y"
        }
       ],
       "layout": {
        "legend": {
         "tracegroupgap": 0
        },
        "margin": {
         "t": 60
        },
        "plot_bgcolor": "white",
        "template": {
         "data": {
          "bar": [
           {
            "error_x": {
             "color": "#2a3f5f"
            },
            "error_y": {
             "color": "#2a3f5f"
            },
            "marker": {
             "line": {
              "color": "#E5ECF6",
              "width": 0.5
             },
             "pattern": {
              "fillmode": "overlay",
              "size": 10,
              "solidity": 0.2
             }
            },
            "type": "bar"
           }
          ],
          "barpolar": [
           {
            "marker": {
             "line": {
              "color": "#E5ECF6",
              "width": 0.5
             },
             "pattern": {
              "fillmode": "overlay",
              "size": 10,
              "solidity": 0.2
             }
            },
            "type": "barpolar"
           }
          ],
          "carpet": [
           {
            "aaxis": {
             "endlinecolor": "#2a3f5f",
             "gridcolor": "white",
             "linecolor": "white",
             "minorgridcolor": "white",
             "startlinecolor": "#2a3f5f"
            },
            "baxis": {
             "endlinecolor": "#2a3f5f",
             "gridcolor": "white",
             "linecolor": "white",
             "minorgridcolor": "white",
             "startlinecolor": "#2a3f5f"
            },
            "type": "carpet"
           }
          ],
          "choropleth": [
           {
            "colorbar": {
             "outlinewidth": 0,
             "ticks": ""
            },
            "type": "choropleth"
           }
          ],
          "contour": [
           {
            "colorbar": {
             "outlinewidth": 0,
             "ticks": ""
            },
            "colorscale": [
             [
              0,
              "#0d0887"
             ],
             [
              0.1111111111111111,
              "#46039f"
             ],
             [
              0.2222222222222222,
              "#7201a8"
             ],
             [
              0.3333333333333333,
              "#9c179e"
             ],
             [
              0.4444444444444444,
              "#bd3786"
             ],
             [
              0.5555555555555556,
              "#d8576b"
             ],
             [
              0.6666666666666666,
              "#ed7953"
             ],
             [
              0.7777777777777778,
              "#fb9f3a"
             ],
             [
              0.8888888888888888,
              "#fdca26"
             ],
             [
              1,
              "#f0f921"
             ]
            ],
            "type": "contour"
           }
          ],
          "contourcarpet": [
           {
            "colorbar": {
             "outlinewidth": 0,
             "ticks": ""
            },
            "type": "contourcarpet"
           }
          ],
          "heatmap": [
           {
            "colorbar": {
             "outlinewidth": 0,
             "ticks": ""
            },
            "colorscale": [
             [
              0,
              "#0d0887"
             ],
             [
              0.1111111111111111,
              "#46039f"
             ],
             [
              0.2222222222222222,
              "#7201a8"
             ],
             [
              0.3333333333333333,
              "#9c179e"
             ],
             [
              0.4444444444444444,
              "#bd3786"
             ],
             [
              0.5555555555555556,
              "#d8576b"
             ],
             [
              0.6666666666666666,
              "#ed7953"
             ],
             [
              0.7777777777777778,
              "#fb9f3a"
             ],
             [
              0.8888888888888888,
              "#fdca26"
             ],
             [
              1,
              "#f0f921"
             ]
            ],
            "type": "heatmap"
           }
          ],
          "heatmapgl": [
           {
            "colorbar": {
             "outlinewidth": 0,
             "ticks": ""
            },
            "colorscale": [
             [
              0,
              "#0d0887"
             ],
             [
              0.1111111111111111,
              "#46039f"
             ],
             [
              0.2222222222222222,
              "#7201a8"
             ],
             [
              0.3333333333333333,
              "#9c179e"
             ],
             [
              0.4444444444444444,
              "#bd3786"
             ],
             [
              0.5555555555555556,
              "#d8576b"
             ],
             [
              0.6666666666666666,
              "#ed7953"
             ],
             [
              0.7777777777777778,
              "#fb9f3a"
             ],
             [
              0.8888888888888888,
              "#fdca26"
             ],
             [
              1,
              "#f0f921"
             ]
            ],
            "type": "heatmapgl"
           }
          ],
          "histogram": [
           {
            "marker": {
             "pattern": {
              "fillmode": "overlay",
              "size": 10,
              "solidity": 0.2
             }
            },
            "type": "histogram"
           }
          ],
          "histogram2d": [
           {
            "colorbar": {
             "outlinewidth": 0,
             "ticks": ""
            },
            "colorscale": [
             [
              0,
              "#0d0887"
             ],
             [
              0.1111111111111111,
              "#46039f"
             ],
             [
              0.2222222222222222,
              "#7201a8"
             ],
             [
              0.3333333333333333,
              "#9c179e"
             ],
             [
              0.4444444444444444,
              "#bd3786"
             ],
             [
              0.5555555555555556,
              "#d8576b"
             ],
             [
              0.6666666666666666,
              "#ed7953"
             ],
             [
              0.7777777777777778,
              "#fb9f3a"
             ],
             [
              0.8888888888888888,
              "#fdca26"
             ],
             [
              1,
              "#f0f921"
             ]
            ],
            "type": "histogram2d"
           }
          ],
          "histogram2dcontour": [
           {
            "colorbar": {
             "outlinewidth": 0,
             "ticks": ""
            },
            "colorscale": [
             [
              0,
              "#0d0887"
             ],
             [
              0.1111111111111111,
              "#46039f"
             ],
             [
              0.2222222222222222,
              "#7201a8"
             ],
             [
              0.3333333333333333,
              "#9c179e"
             ],
             [
              0.4444444444444444,
              "#bd3786"
             ],
             [
              0.5555555555555556,
              "#d8576b"
             ],
             [
              0.6666666666666666,
              "#ed7953"
             ],
             [
              0.7777777777777778,
              "#fb9f3a"
             ],
             [
              0.8888888888888888,
              "#fdca26"
             ],
             [
              1,
              "#f0f921"
             ]
            ],
            "type": "histogram2dcontour"
           }
          ],
          "mesh3d": [
           {
            "colorbar": {
             "outlinewidth": 0,
             "ticks": ""
            },
            "type": "mesh3d"
           }
          ],
          "parcoords": [
           {
            "line": {
             "colorbar": {
              "outlinewidth": 0,
              "ticks": ""
             }
            },
            "type": "parcoords"
           }
          ],
          "pie": [
           {
            "automargin": true,
            "type": "pie"
           }
          ],
          "scatter": [
           {
            "marker": {
             "colorbar": {
              "outlinewidth": 0,
              "ticks": ""
             }
            },
            "type": "scatter"
           }
          ],
          "scatter3d": [
           {
            "line": {
             "colorbar": {
              "outlinewidth": 0,
              "ticks": ""
             }
            },
            "marker": {
             "colorbar": {
              "outlinewidth": 0,
              "ticks": ""
             }
            },
            "type": "scatter3d"
           }
          ],
          "scattercarpet": [
           {
            "marker": {
             "colorbar": {
              "outlinewidth": 0,
              "ticks": ""
             }
            },
            "type": "scattercarpet"
           }
          ],
          "scattergeo": [
           {
            "marker": {
             "colorbar": {
              "outlinewidth": 0,
              "ticks": ""
             }
            },
            "type": "scattergeo"
           }
          ],
          "scattergl": [
           {
            "marker": {
             "colorbar": {
              "outlinewidth": 0,
              "ticks": ""
             }
            },
            "type": "scattergl"
           }
          ],
          "scattermapbox": [
           {
            "marker": {
             "colorbar": {
              "outlinewidth": 0,
              "ticks": ""
             }
            },
            "type": "scattermapbox"
           }
          ],
          "scatterpolar": [
           {
            "marker": {
             "colorbar": {
              "outlinewidth": 0,
              "ticks": ""
             }
            },
            "type": "scatterpolar"
           }
          ],
          "scatterpolargl": [
           {
            "marker": {
             "colorbar": {
              "outlinewidth": 0,
              "ticks": ""
             }
            },
            "type": "scatterpolargl"
           }
          ],
          "scatterternary": [
           {
            "marker": {
             "colorbar": {
              "outlinewidth": 0,
              "ticks": ""
             }
            },
            "type": "scatterternary"
           }
          ],
          "surface": [
           {
            "colorbar": {
             "outlinewidth": 0,
             "ticks": ""
            },
            "colorscale": [
             [
              0,
              "#0d0887"
             ],
             [
              0.1111111111111111,
              "#46039f"
             ],
             [
              0.2222222222222222,
              "#7201a8"
             ],
             [
              0.3333333333333333,
              "#9c179e"
             ],
             [
              0.4444444444444444,
              "#bd3786"
             ],
             [
              0.5555555555555556,
              "#d8576b"
             ],
             [
              0.6666666666666666,
              "#ed7953"
             ],
             [
              0.7777777777777778,
              "#fb9f3a"
             ],
             [
              0.8888888888888888,
              "#fdca26"
             ],
             [
              1,
              "#f0f921"
             ]
            ],
            "type": "surface"
           }
          ],
          "table": [
           {
            "cells": {
             "fill": {
              "color": "#EBF0F8"
             },
             "line": {
              "color": "white"
             }
            },
            "header": {
             "fill": {
              "color": "#C8D4E3"
             },
             "line": {
              "color": "white"
             }
            },
            "type": "table"
           }
          ]
         },
         "layout": {
          "annotationdefaults": {
           "arrowcolor": "#2a3f5f",
           "arrowhead": 0,
           "arrowwidth": 1
          },
          "autotypenumbers": "strict",
          "coloraxis": {
           "colorbar": {
            "outlinewidth": 0,
            "ticks": ""
           }
          },
          "colorscale": {
           "diverging": [
            [
             0,
             "#8e0152"
            ],
            [
             0.1,
             "#c51b7d"
            ],
            [
             0.2,
             "#de77ae"
            ],
            [
             0.3,
             "#f1b6da"
            ],
            [
             0.4,
             "#fde0ef"
            ],
            [
             0.5,
             "#f7f7f7"
            ],
            [
             0.6,
             "#e6f5d0"
            ],
            [
             0.7,
             "#b8e186"
            ],
            [
             0.8,
             "#7fbc41"
            ],
            [
             0.9,
             "#4d9221"
            ],
            [
             1,
             "#276419"
            ]
           ],
           "sequential": [
            [
             0,
             "#0d0887"
            ],
            [
             0.1111111111111111,
             "#46039f"
            ],
            [
             0.2222222222222222,
             "#7201a8"
            ],
            [
             0.3333333333333333,
             "#9c179e"
            ],
            [
             0.4444444444444444,
             "#bd3786"
            ],
            [
             0.5555555555555556,
             "#d8576b"
            ],
            [
             0.6666666666666666,
             "#ed7953"
            ],
            [
             0.7777777777777778,
             "#fb9f3a"
            ],
            [
             0.8888888888888888,
             "#fdca26"
            ],
            [
             1,
             "#f0f921"
            ]
           ],
           "sequentialminus": [
            [
             0,
             "#0d0887"
            ],
            [
             0.1111111111111111,
             "#46039f"
            ],
            [
             0.2222222222222222,
             "#7201a8"
            ],
            [
             0.3333333333333333,
             "#9c179e"
            ],
            [
             0.4444444444444444,
             "#bd3786"
            ],
            [
             0.5555555555555556,
             "#d8576b"
            ],
            [
             0.6666666666666666,
             "#ed7953"
            ],
            [
             0.7777777777777778,
             "#fb9f3a"
            ],
            [
             0.8888888888888888,
             "#fdca26"
            ],
            [
             1,
             "#f0f921"
            ]
           ]
          },
          "colorway": [
           "#636efa",
           "#EF553B",
           "#00cc96",
           "#ab63fa",
           "#FFA15A",
           "#19d3f3",
           "#FF6692",
           "#B6E880",
           "#FF97FF",
           "#FECB52"
          ],
          "font": {
           "color": "#2a3f5f"
          },
          "geo": {
           "bgcolor": "white",
           "lakecolor": "white",
           "landcolor": "#E5ECF6",
           "showlakes": true,
           "showland": true,
           "subunitcolor": "white"
          },
          "hoverlabel": {
           "align": "left"
          },
          "hovermode": "closest",
          "mapbox": {
           "style": "light"
          },
          "paper_bgcolor": "white",
          "plot_bgcolor": "#E5ECF6",
          "polar": {
           "angularaxis": {
            "gridcolor": "white",
            "linecolor": "white",
            "ticks": ""
           },
           "bgcolor": "#E5ECF6",
           "radialaxis": {
            "gridcolor": "white",
            "linecolor": "white",
            "ticks": ""
           }
          },
          "scene": {
           "xaxis": {
            "backgroundcolor": "#E5ECF6",
            "gridcolor": "white",
            "gridwidth": 2,
            "linecolor": "white",
            "showbackground": true,
            "ticks": "",
            "zerolinecolor": "white"
           },
           "yaxis": {
            "backgroundcolor": "#E5ECF6",
            "gridcolor": "white",
            "gridwidth": 2,
            "linecolor": "white",
            "showbackground": true,
            "ticks": "",
            "zerolinecolor": "white"
           },
           "zaxis": {
            "backgroundcolor": "#E5ECF6",
            "gridcolor": "white",
            "gridwidth": 2,
            "linecolor": "white",
            "showbackground": true,
            "ticks": "",
            "zerolinecolor": "white"
           }
          },
          "shapedefaults": {
           "line": {
            "color": "#2a3f5f"
           }
          },
          "ternary": {
           "aaxis": {
            "gridcolor": "white",
            "linecolor": "white",
            "ticks": ""
           },
           "baxis": {
            "gridcolor": "white",
            "linecolor": "white",
            "ticks": ""
           },
           "bgcolor": "#E5ECF6",
           "caxis": {
            "gridcolor": "white",
            "linecolor": "white",
            "ticks": ""
           }
          },
          "title": {
           "x": 0.05
          },
          "xaxis": {
           "automargin": true,
           "gridcolor": "white",
           "linecolor": "white",
           "ticks": "",
           "title": {
            "standoff": 15
           },
           "zerolinecolor": "white",
           "zerolinewidth": 2
          },
          "yaxis": {
           "automargin": true,
           "gridcolor": "white",
           "linecolor": "white",
           "ticks": "",
           "title": {
            "standoff": 15
           },
           "zerolinecolor": "white",
           "zerolinewidth": 2
          }
         }
        },
        "title": {
         "font": {
          "color": "black"
         },
         "text": "Solar Energy Consumption in India"
        },
        "xaxis": {
         "anchor": "y",
         "domain": [
          0,
          1
         ],
         "gridcolor": "lightgrey",
         "gridwidth": 1,
         "linecolor": "black",
         "linewidth": 1,
         "showgrid": true,
         "showline": true,
         "title": {
          "text": "Year"
         },
         "zeroline": true,
         "zerolinecolor": "lightgrey",
         "zerolinewidth": 1
        },
        "yaxis": {
         "anchor": "x",
         "domain": [
          0,
          1
         ],
         "gridcolor": "lightgrey",
         "gridwidth": 1,
         "linecolor": "black",
         "linewidth": 1,
         "showgrid": true,
         "showline": true,
         "title": {
          "text": "Solar (terawatt-hours)"
         },
         "zeroline": true,
         "zerolinecolor": "lightgrey",
         "zerolinewidth": 1
        }
       }
      },
      "text/html": [
       "<div>                            <div id=\"a20d4457-feb8-4d4d-8b33-99aa918b507c\" class=\"plotly-graph-div\" style=\"height:525px; width:100%;\"></div>            <script type=\"text/javascript\">                require([\"plotly\"], function(Plotly) {                    window.PLOTLYENV=window.PLOTLYENV || {};                                    if (document.getElementById(\"a20d4457-feb8-4d4d-8b33-99aa918b507c\")) {                    Plotly.newPlot(                        \"a20d4457-feb8-4d4d-8b33-99aa918b507c\",                        [{\"hovertemplate\":\"Year=%{x}<br>Solar (terawatt-hours)=%{y}<extra></extra>\",\"legendgroup\":\"\",\"marker\":{\"color\":\"black\",\"opacity\":0.8,\"symbol\":\"circle\",\"size\":5},\"mode\":\"markers\",\"name\":\"\",\"orientation\":\"v\",\"showlegend\":false,\"x\":[1990,1991,1992,1993,1994,1995,1996,1997,1998,1999,2000,2001,2002,2003,2004,2005,2006,2007,2008,2009,2010,2011,2012,2013,2014,2015,2016,2017],\"xaxis\":\"x\",\"y\":[0.0,0.0,0.0,0.0,0.0,0.001010101010101,0.0060606060606059,0.0060606060606059,0.0060606060606059,0.0060606060606059,0.0070707070707069,0.011111111111111,0.013131313131313,0.016161616161616,0.018181818181818,0.018181818181818,0.0072,0.059,0.063,0.075,0.113,0.827,2.099,3.433,4.909,6.56638,11.55598,21.52221],\"yaxis\":\"y\",\"type\":\"scatter\"}],                        {\"template\":{\"data\":{\"bar\":[{\"error_x\":{\"color\":\"#2a3f5f\"},\"error_y\":{\"color\":\"#2a3f5f\"},\"marker\":{\"line\":{\"color\":\"#E5ECF6\",\"width\":0.5},\"pattern\":{\"fillmode\":\"overlay\",\"size\":10,\"solidity\":0.2}},\"type\":\"bar\"}],\"barpolar\":[{\"marker\":{\"line\":{\"color\":\"#E5ECF6\",\"width\":0.5},\"pattern\":{\"fillmode\":\"overlay\",\"size\":10,\"solidity\":0.2}},\"type\":\"barpolar\"}],\"carpet\":[{\"aaxis\":{\"endlinecolor\":\"#2a3f5f\",\"gridcolor\":\"white\",\"linecolor\":\"white\",\"minorgridcolor\":\"white\",\"startlinecolor\":\"#2a3f5f\"},\"baxis\":{\"endlinecolor\":\"#2a3f5f\",\"gridcolor\":\"white\",\"linecolor\":\"white\",\"minorgridcolor\":\"white\",\"startlinecolor\":\"#2a3f5f\"},\"type\":\"carpet\"}],\"choropleth\":[{\"colorbar\":{\"outlinewidth\":0,\"ticks\":\"\"},\"type\":\"choropleth\"}],\"contour\":[{\"colorbar\":{\"outlinewidth\":0,\"ticks\":\"\"},\"colorscale\":[[0.0,\"#0d0887\"],[0.1111111111111111,\"#46039f\"],[0.2222222222222222,\"#7201a8\"],[0.3333333333333333,\"#9c179e\"],[0.4444444444444444,\"#bd3786\"],[0.5555555555555556,\"#d8576b\"],[0.6666666666666666,\"#ed7953\"],[0.7777777777777778,\"#fb9f3a\"],[0.8888888888888888,\"#fdca26\"],[1.0,\"#f0f921\"]],\"type\":\"contour\"}],\"contourcarpet\":[{\"colorbar\":{\"outlinewidth\":0,\"ticks\":\"\"},\"type\":\"contourcarpet\"}],\"heatmap\":[{\"colorbar\":{\"outlinewidth\":0,\"ticks\":\"\"},\"colorscale\":[[0.0,\"#0d0887\"],[0.1111111111111111,\"#46039f\"],[0.2222222222222222,\"#7201a8\"],[0.3333333333333333,\"#9c179e\"],[0.4444444444444444,\"#bd3786\"],[0.5555555555555556,\"#d8576b\"],[0.6666666666666666,\"#ed7953\"],[0.7777777777777778,\"#fb9f3a\"],[0.8888888888888888,\"#fdca26\"],[1.0,\"#f0f921\"]],\"type\":\"heatmap\"}],\"heatmapgl\":[{\"colorbar\":{\"outlinewidth\":0,\"ticks\":\"\"},\"colorscale\":[[0.0,\"#0d0887\"],[0.1111111111111111,\"#46039f\"],[0.2222222222222222,\"#7201a8\"],[0.3333333333333333,\"#9c179e\"],[0.4444444444444444,\"#bd3786\"],[0.5555555555555556,\"#d8576b\"],[0.6666666666666666,\"#ed7953\"],[0.7777777777777778,\"#fb9f3a\"],[0.8888888888888888,\"#fdca26\"],[1.0,\"#f0f921\"]],\"type\":\"heatmapgl\"}],\"histogram\":[{\"marker\":{\"pattern\":{\"fillmode\":\"overlay\",\"size\":10,\"solidity\":0.2}},\"type\":\"histogram\"}],\"histogram2d\":[{\"colorbar\":{\"outlinewidth\":0,\"ticks\":\"\"},\"colorscale\":[[0.0,\"#0d0887\"],[0.1111111111111111,\"#46039f\"],[0.2222222222222222,\"#7201a8\"],[0.3333333333333333,\"#9c179e\"],[0.4444444444444444,\"#bd3786\"],[0.5555555555555556,\"#d8576b\"],[0.6666666666666666,\"#ed7953\"],[0.7777777777777778,\"#fb9f3a\"],[0.8888888888888888,\"#fdca26\"],[1.0,\"#f0f921\"]],\"type\":\"histogram2d\"}],\"histogram2dcontour\":[{\"colorbar\":{\"outlinewidth\":0,\"ticks\":\"\"},\"colorscale\":[[0.0,\"#0d0887\"],[0.1111111111111111,\"#46039f\"],[0.2222222222222222,\"#7201a8\"],[0.3333333333333333,\"#9c179e\"],[0.4444444444444444,\"#bd3786\"],[0.5555555555555556,\"#d8576b\"],[0.6666666666666666,\"#ed7953\"],[0.7777777777777778,\"#fb9f3a\"],[0.8888888888888888,\"#fdca26\"],[1.0,\"#f0f921\"]],\"type\":\"histogram2dcontour\"}],\"mesh3d\":[{\"colorbar\":{\"outlinewidth\":0,\"ticks\":\"\"},\"type\":\"mesh3d\"}],\"parcoords\":[{\"line\":{\"colorbar\":{\"outlinewidth\":0,\"ticks\":\"\"}},\"type\":\"parcoords\"}],\"pie\":[{\"automargin\":true,\"type\":\"pie\"}],\"scatter\":[{\"marker\":{\"colorbar\":{\"outlinewidth\":0,\"ticks\":\"\"}},\"type\":\"scatter\"}],\"scatter3d\":[{\"line\":{\"colorbar\":{\"outlinewidth\":0,\"ticks\":\"\"}},\"marker\":{\"colorbar\":{\"outlinewidth\":0,\"ticks\":\"\"}},\"type\":\"scatter3d\"}],\"scattercarpet\":[{\"marker\":{\"colorbar\":{\"outlinewidth\":0,\"ticks\":\"\"}},\"type\":\"scattercarpet\"}],\"scattergeo\":[{\"marker\":{\"colorbar\":{\"outlinewidth\":0,\"ticks\":\"\"}},\"type\":\"scattergeo\"}],\"scattergl\":[{\"marker\":{\"colorbar\":{\"outlinewidth\":0,\"ticks\":\"\"}},\"type\":\"scattergl\"}],\"scattermapbox\":[{\"marker\":{\"colorbar\":{\"outlinewidth\":0,\"ticks\":\"\"}},\"type\":\"scattermapbox\"}],\"scatterpolar\":[{\"marker\":{\"colorbar\":{\"outlinewidth\":0,\"ticks\":\"\"}},\"type\":\"scatterpolar\"}],\"scatterpolargl\":[{\"marker\":{\"colorbar\":{\"outlinewidth\":0,\"ticks\":\"\"}},\"type\":\"scatterpolargl\"}],\"scatterternary\":[{\"marker\":{\"colorbar\":{\"outlinewidth\":0,\"ticks\":\"\"}},\"type\":\"scatterternary\"}],\"surface\":[{\"colorbar\":{\"outlinewidth\":0,\"ticks\":\"\"},\"colorscale\":[[0.0,\"#0d0887\"],[0.1111111111111111,\"#46039f\"],[0.2222222222222222,\"#7201a8\"],[0.3333333333333333,\"#9c179e\"],[0.4444444444444444,\"#bd3786\"],[0.5555555555555556,\"#d8576b\"],[0.6666666666666666,\"#ed7953\"],[0.7777777777777778,\"#fb9f3a\"],[0.8888888888888888,\"#fdca26\"],[1.0,\"#f0f921\"]],\"type\":\"surface\"}],\"table\":[{\"cells\":{\"fill\":{\"color\":\"#EBF0F8\"},\"line\":{\"color\":\"white\"}},\"header\":{\"fill\":{\"color\":\"#C8D4E3\"},\"line\":{\"color\":\"white\"}},\"type\":\"table\"}]},\"layout\":{\"annotationdefaults\":{\"arrowcolor\":\"#2a3f5f\",\"arrowhead\":0,\"arrowwidth\":1},\"autotypenumbers\":\"strict\",\"coloraxis\":{\"colorbar\":{\"outlinewidth\":0,\"ticks\":\"\"}},\"colorscale\":{\"diverging\":[[0,\"#8e0152\"],[0.1,\"#c51b7d\"],[0.2,\"#de77ae\"],[0.3,\"#f1b6da\"],[0.4,\"#fde0ef\"],[0.5,\"#f7f7f7\"],[0.6,\"#e6f5d0\"],[0.7,\"#b8e186\"],[0.8,\"#7fbc41\"],[0.9,\"#4d9221\"],[1,\"#276419\"]],\"sequential\":[[0.0,\"#0d0887\"],[0.1111111111111111,\"#46039f\"],[0.2222222222222222,\"#7201a8\"],[0.3333333333333333,\"#9c179e\"],[0.4444444444444444,\"#bd3786\"],[0.5555555555555556,\"#d8576b\"],[0.6666666666666666,\"#ed7953\"],[0.7777777777777778,\"#fb9f3a\"],[0.8888888888888888,\"#fdca26\"],[1.0,\"#f0f921\"]],\"sequentialminus\":[[0.0,\"#0d0887\"],[0.1111111111111111,\"#46039f\"],[0.2222222222222222,\"#7201a8\"],[0.3333333333333333,\"#9c179e\"],[0.4444444444444444,\"#bd3786\"],[0.5555555555555556,\"#d8576b\"],[0.6666666666666666,\"#ed7953\"],[0.7777777777777778,\"#fb9f3a\"],[0.8888888888888888,\"#fdca26\"],[1.0,\"#f0f921\"]]},\"colorway\":[\"#636efa\",\"#EF553B\",\"#00cc96\",\"#ab63fa\",\"#FFA15A\",\"#19d3f3\",\"#FF6692\",\"#B6E880\",\"#FF97FF\",\"#FECB52\"],\"font\":{\"color\":\"#2a3f5f\"},\"geo\":{\"bgcolor\":\"white\",\"lakecolor\":\"white\",\"landcolor\":\"#E5ECF6\",\"showlakes\":true,\"showland\":true,\"subunitcolor\":\"white\"},\"hoverlabel\":{\"align\":\"left\"},\"hovermode\":\"closest\",\"mapbox\":{\"style\":\"light\"},\"paper_bgcolor\":\"white\",\"plot_bgcolor\":\"#E5ECF6\",\"polar\":{\"angularaxis\":{\"gridcolor\":\"white\",\"linecolor\":\"white\",\"ticks\":\"\"},\"bgcolor\":\"#E5ECF6\",\"radialaxis\":{\"gridcolor\":\"white\",\"linecolor\":\"white\",\"ticks\":\"\"}},\"scene\":{\"xaxis\":{\"backgroundcolor\":\"#E5ECF6\",\"gridcolor\":\"white\",\"gridwidth\":2,\"linecolor\":\"white\",\"showbackground\":true,\"ticks\":\"\",\"zerolinecolor\":\"white\"},\"yaxis\":{\"backgroundcolor\":\"#E5ECF6\",\"gridcolor\":\"white\",\"gridwidth\":2,\"linecolor\":\"white\",\"showbackground\":true,\"ticks\":\"\",\"zerolinecolor\":\"white\"},\"zaxis\":{\"backgroundcolor\":\"#E5ECF6\",\"gridcolor\":\"white\",\"gridwidth\":2,\"linecolor\":\"white\",\"showbackground\":true,\"ticks\":\"\",\"zerolinecolor\":\"white\"}},\"shapedefaults\":{\"line\":{\"color\":\"#2a3f5f\"}},\"ternary\":{\"aaxis\":{\"gridcolor\":\"white\",\"linecolor\":\"white\",\"ticks\":\"\"},\"baxis\":{\"gridcolor\":\"white\",\"linecolor\":\"white\",\"ticks\":\"\"},\"bgcolor\":\"#E5ECF6\",\"caxis\":{\"gridcolor\":\"white\",\"linecolor\":\"white\",\"ticks\":\"\"}},\"title\":{\"x\":0.05},\"xaxis\":{\"automargin\":true,\"gridcolor\":\"white\",\"linecolor\":\"white\",\"ticks\":\"\",\"title\":{\"standoff\":15},\"zerolinecolor\":\"white\",\"zerolinewidth\":2},\"yaxis\":{\"automargin\":true,\"gridcolor\":\"white\",\"linecolor\":\"white\",\"ticks\":\"\",\"title\":{\"standoff\":15},\"zerolinecolor\":\"white\",\"zerolinewidth\":2}}},\"xaxis\":{\"anchor\":\"y\",\"domain\":[0.0,1.0],\"title\":{\"text\":\"Year\"},\"showgrid\":true,\"gridwidth\":1,\"gridcolor\":\"lightgrey\",\"zeroline\":true,\"zerolinewidth\":1,\"zerolinecolor\":\"lightgrey\",\"showline\":true,\"linewidth\":1,\"linecolor\":\"black\"},\"yaxis\":{\"anchor\":\"x\",\"domain\":[0.0,1.0],\"title\":{\"text\":\"Solar (terawatt-hours)\"},\"showgrid\":true,\"gridwidth\":1,\"gridcolor\":\"lightgrey\",\"zeroline\":true,\"zerolinewidth\":1,\"zerolinecolor\":\"lightgrey\",\"showline\":true,\"linewidth\":1,\"linecolor\":\"black\"},\"legend\":{\"tracegroupgap\":0},\"margin\":{\"t\":60},\"plot_bgcolor\":\"white\",\"title\":{\"font\":{\"color\":\"black\"},\"text\":\"Solar Energy Consumption in India\"}},                        {\"responsive\": true}                    ).then(function(){\n",
       "                            \n",
       "var gd = document.getElementById('a20d4457-feb8-4d4d-8b33-99aa918b507c');\n",
       "var x = new MutationObserver(function (mutations, observer) {{\n",
       "        var display = window.getComputedStyle(gd).display;\n",
       "        if (!display || display === 'none') {{\n",
       "            console.log([gd, 'removed!']);\n",
       "            Plotly.purge(gd);\n",
       "            observer.disconnect();\n",
       "        }}\n",
       "}});\n",
       "\n",
       "// Listen for the removal of the full notebook cells\n",
       "var notebookContainer = gd.closest('#notebook-container');\n",
       "if (notebookContainer) {{\n",
       "    x.observe(notebookContainer, {childList: true});\n",
       "}}\n",
       "\n",
       "// Listen for the clearing of the current output cell\n",
       "var outputEl = gd.closest('.output');\n",
       "if (outputEl) {{\n",
       "    x.observe(outputEl, {childList: true});\n",
       "}}\n",
       "\n",
       "                        })                };                });            </script>        </div>"
      ]
     },
     "metadata": {},
     "output_type": "display_data"
    }
   ],
   "source": [
    "# Create a scatter plot\n",
    "fig = px.scatter(df, x=df['Year'], y=df['Solar (terawatt-hours)'], \n",
    "                 opacity=0.8, color_discrete_sequence=['black'])\n",
    "# Change chart background color\n",
    "fig.update_layout(dict(plot_bgcolor = 'white'))\n",
    "\n",
    "# Update axes lines\n",
    "fig.update_xaxes(showgrid=True, gridwidth=1, gridcolor='lightgrey', \n",
    "                 zeroline=True, zerolinewidth=1, zerolinecolor='lightgrey', \n",
    "                 showline=True, linewidth=1, linecolor='black')\n",
    "\n",
    "fig.update_yaxes(showgrid=True, gridwidth=1, gridcolor='lightgrey', \n",
    "                 zeroline=True, zerolinewidth=1, zerolinecolor='lightgrey', \n",
    "                 showline=True, linewidth=1, linecolor='black')\n",
    "\n",
    "fig.update_yaxes(showgrid=True, gridwidth=1, gridcolor='lightgrey', \n",
    "                 zeroline=True, zerolinewidth=1, zerolinecolor='lightgrey', \n",
    "                 showline=True, linewidth=1, linecolor='black')\n",
    "\n",
    "# Set figure title\n",
    "fig.update_layout(title=dict(text=\"Solar Energy Consumption in India\", \n",
    "                             font=dict(color='black')))\n",
    "# Update marker size\n",
    "fig.update_traces(marker=dict(size=5))\n",
    "\n",
    "fig.show()\n",
    "\n"
   ]
  },
  {
   "cell_type": "code",
   "execution_count": 364,
   "id": "74bbb0fd",
   "metadata": {
    "id": "74bbb0fd"
   },
   "outputs": [],
   "source": [
    "# Note, we need X to be a 2D array, hence reshape\n",
    "X=df['Year'].values.reshape(-1,1)\n",
    "y=df['Solar (terawatt-hours)'].values\n",
    "\n",
    "X_train, X_test, y_train, y_test = train_test_split(X ,y, test_size=0.30, random_state=100)\n",
    "\n",
    "\n",
    "# ------- Linear regression -------\n",
    "model1 = LinearRegression()\n",
    "lr = model1.fit(X_train, y_train)\n",
    "\n",
    "# ------- Support Vector regression -------\n",
    "model2 = SVR(kernel='rbf', C=75, epsilon=2) # set kernel and hyperparameters\n",
    "svr = model2.fit(X_train, y_train)\n",
    "\n",
    "# ------- Predict a range of values based on the models for visualization -------\n",
    "# Create 100 evenly spaced points from smallest X to largest X\n",
    "x_range = np.linspace(X.min(), X.max(), 100)\n",
    "\n",
    "# Predict y values for our set of X values\n",
    "y_lr = model1.predict(x_range.reshape(-1, 1)) # Linear regression\n",
    "y_svr = model2.predict(x_range.reshape(-1, 1)) # SVR"
   ]
  },
  {
   "cell_type": "code",
   "execution_count": 365,
   "id": "507a8c25",
   "metadata": {
    "colab": {
     "base_uri": "https://localhost:8080/",
     "height": 542
    },
    "id": "507a8c25",
    "outputId": "92ee38b4-4d1a-4a78-d19b-437a477939e4"
   },
   "outputs": [
    {
     "data": {
      "application/vnd.plotly.v1+json": {
       "config": {
        "plotlyServerURL": "https://plot.ly"
       },
       "data": [
        {
         "hovertemplate": "Year=%{x}<br>Solar (terawatt-hours)=%{y}<extra></extra>",
         "legendgroup": "",
         "marker": {
          "color": "black",
          "opacity": 0.8,
          "size": 3,
          "symbol": "circle"
         },
         "mode": "markers",
         "name": "",
         "orientation": "v",
         "showlegend": false,
         "type": "scatter",
         "x": [
          1990,
          1991,
          1992,
          1993,
          1994,
          1995,
          1996,
          1997,
          1998,
          1999,
          2000,
          2001,
          2002,
          2003,
          2004,
          2005,
          2006,
          2007,
          2008,
          2009,
          2010,
          2011,
          2012,
          2013,
          2014,
          2015,
          2016,
          2017
         ],
         "xaxis": "x",
         "y": [
          0,
          0,
          0,
          0,
          0,
          0.001010101010101,
          0.0060606060606059,
          0.0060606060606059,
          0.0060606060606059,
          0.0060606060606059,
          0.0070707070707069,
          0.011111111111111,
          0.013131313131313,
          0.016161616161616,
          0.018181818181818,
          0.018181818181818,
          0.0072,
          0.059,
          0.063,
          0.075,
          0.113,
          0.827,
          2.099,
          3.433,
          4.909,
          6.56638,
          11.55598,
          21.52221
         ],
         "yaxis": "y"
        },
        {
         "line": {
          "color": "limegreen"
         },
         "marker": {
          "size": 3
         },
         "name": "Linear Regression",
         "type": "scatter",
         "x": [
          1990,
          1990.2727272727273,
          1990.5454545454545,
          1990.8181818181818,
          1991.090909090909,
          1991.3636363636363,
          1991.6363636363637,
          1991.909090909091,
          1992.1818181818182,
          1992.4545454545455,
          1992.7272727272727,
          1993,
          1993.2727272727273,
          1993.5454545454545,
          1993.8181818181818,
          1994.090909090909,
          1994.3636363636363,
          1994.6363636363637,
          1994.909090909091,
          1995.1818181818182,
          1995.4545454545455,
          1995.7272727272727,
          1996,
          1996.2727272727273,
          1996.5454545454545,
          1996.8181818181818,
          1997.090909090909,
          1997.3636363636363,
          1997.6363636363637,
          1997.909090909091,
          1998.1818181818182,
          1998.4545454545455,
          1998.7272727272727,
          1999,
          1999.2727272727273,
          1999.5454545454545,
          1999.8181818181818,
          2000.090909090909,
          2000.3636363636363,
          2000.6363636363637,
          2000.909090909091,
          2001.1818181818182,
          2001.4545454545455,
          2001.7272727272727,
          2002,
          2002.2727272727273,
          2002.5454545454545,
          2002.8181818181818,
          2003.090909090909,
          2003.3636363636363,
          2003.6363636363637,
          2003.909090909091,
          2004.1818181818182,
          2004.4545454545455,
          2004.7272727272727,
          2005,
          2005.2727272727273,
          2005.5454545454545,
          2005.8181818181818,
          2006.090909090909,
          2006.3636363636363,
          2006.6363636363637,
          2006.909090909091,
          2007.1818181818182,
          2007.4545454545455,
          2007.7272727272727,
          2008,
          2008.2727272727273,
          2008.5454545454545,
          2008.8181818181818,
          2009.090909090909,
          2009.3636363636363,
          2009.6363636363637,
          2009.909090909091,
          2010.1818181818182,
          2010.4545454545455,
          2010.7272727272727,
          2011,
          2011.2727272727273,
          2011.5454545454545,
          2011.8181818181818,
          2012.090909090909,
          2012.3636363636363,
          2012.6363636363637,
          2012.909090909091,
          2013.1818181818182,
          2013.4545454545455,
          2013.7272727272727,
          2014,
          2014.2727272727273,
          2014.5454545454545,
          2014.8181818181818,
          2015.090909090909,
          2015.3636363636363,
          2015.6363636363637,
          2015.909090909091,
          2016.1818181818182,
          2016.4545454545455,
          2016.7272727272727,
          2017
         ],
         "y": [
          -2.5090242669887175,
          -2.420841028688642,
          -2.3326577903885664,
          -2.244474552088491,
          -2.156291313788415,
          -2.0681080754883396,
          -1.979924837188264,
          -1.8917415988881885,
          -1.803558360588113,
          -1.7153751222880373,
          -1.6271918839879618,
          -1.5390086456878862,
          -1.4508254073878106,
          -1.362642169087735,
          -1.2744589307876595,
          -1.186275692487584,
          -1.0980924541875083,
          -1.009909215887319,
          -0.9217259775873572,
          -0.8335427392872816,
          -0.745359500987206,
          -0.6571762626871305,
          -0.5689930243870549,
          -0.48080978608697933,
          -0.39262654778690376,
          -0.3044433094868282,
          -0.2162600711867526,
          -0.12807683288667704,
          -0.03989359458648778,
          0.04828964371358779,
          0.13647288201366337,
          0.22465612031373894,
          0.3128393586138145,
          0.4010225969138901,
          0.48920583521396566,
          0.5773890735140412,
          0.6655723118141168,
          0.7537555501140787,
          0.8419387884141543,
          0.9301220267143435,
          1.018305265014419,
          1.1064885033144947,
          1.1946717416145702,
          1.2828549799146458,
          1.3710382182147214,
          1.459221456514797,
          1.5474046948148725,
          1.635587933114948,
          1.7237711714150237,
          1.8119544097150992,
          1.9001376480151748,
          1.9883208863152504,
          2.076504124615326,
          2.1646873629154015,
          2.252870601215477,
          2.3410538395155527,
          2.4292370778156283,
          2.517420316115704,
          2.6056035544157794,
          2.693786792715855,
          2.7819700310159305,
          2.87015326931612,
          2.9583365076161954,
          3.046519745916271,
          3.134702984216233,
          3.2228862225163084,
          3.311069460816384,
          3.3992526991164596,
          3.487435937416535,
          3.5756191757166107,
          3.6638024140166863,
          3.751985652316762,
          3.840168890616951,
          3.9283521289170267,
          4.016535367217102,
          4.104718605517178,
          4.192901843817253,
          4.281085082117329,
          4.3692683204174045,
          4.45745155871748,
          4.545634797017556,
          4.633818035317631,
          4.722001273617707,
          4.810184511917782,
          4.898367750217858,
          4.9865509885179335,
          5.074734226818009,
          5.162917465118085,
          5.25110070341816,
          5.339283941718236,
          5.427467180018311,
          5.515650418318387,
          5.6038336566184626,
          5.692016894918538,
          5.780200133218614,
          5.868383371518689,
          5.956566609818765,
          6.04474984811884,
          6.132933086418916,
          6.221116324718992
         ]
        },
        {
         "line": {
          "color": "red"
         },
         "marker": {
          "size": 3
         },
         "name": "Support Vector Regression",
         "type": "scatter",
         "x": [
          1990,
          1990.2727272727273,
          1990.5454545454545,
          1990.8181818181818,
          1991.090909090909,
          1991.3636363636363,
          1991.6363636363637,
          1991.909090909091,
          1992.1818181818182,
          1992.4545454545455,
          1992.7272727272727,
          1993,
          1993.2727272727273,
          1993.5454545454545,
          1993.8181818181818,
          1994.090909090909,
          1994.3636363636363,
          1994.6363636363637,
          1994.909090909091,
          1995.1818181818182,
          1995.4545454545455,
          1995.7272727272727,
          1996,
          1996.2727272727273,
          1996.5454545454545,
          1996.8181818181818,
          1997.090909090909,
          1997.3636363636363,
          1997.6363636363637,
          1997.909090909091,
          1998.1818181818182,
          1998.4545454545455,
          1998.7272727272727,
          1999,
          1999.2727272727273,
          1999.5454545454545,
          1999.8181818181818,
          2000.090909090909,
          2000.3636363636363,
          2000.6363636363637,
          2000.909090909091,
          2001.1818181818182,
          2001.4545454545455,
          2001.7272727272727,
          2002,
          2002.2727272727273,
          2002.5454545454545,
          2002.8181818181818,
          2003.090909090909,
          2003.3636363636363,
          2003.6363636363637,
          2003.909090909091,
          2004.1818181818182,
          2004.4545454545455,
          2004.7272727272727,
          2005,
          2005.2727272727273,
          2005.5454545454545,
          2005.8181818181818,
          2006.090909090909,
          2006.3636363636363,
          2006.6363636363637,
          2006.909090909091,
          2007.1818181818182,
          2007.4545454545455,
          2007.7272727272727,
          2008,
          2008.2727272727273,
          2008.5454545454545,
          2008.8181818181818,
          2009.090909090909,
          2009.3636363636363,
          2009.6363636363637,
          2009.909090909091,
          2010.1818181818182,
          2010.4545454545455,
          2010.7272727272727,
          2011,
          2011.2727272727273,
          2011.5454545454545,
          2011.8181818181818,
          2012.090909090909,
          2012.3636363636363,
          2012.6363636363637,
          2012.909090909091,
          2013.1818181818182,
          2013.4545454545455,
          2013.7272727272727,
          2014,
          2014.2727272727273,
          2014.5454545454545,
          2014.8181818181818,
          2015.090909090909,
          2015.3636363636363,
          2015.6363636363637,
          2015.909090909091,
          2016.1818181818182,
          2016.4545454545455,
          2016.7272727272727,
          2017
         ],
         "y": [
          1.9999441650628578,
          1.918091898034132,
          1.8425532763157015,
          1.7732563660330687,
          1.710094678794702,
          1.6529318763528007,
          1.6016069109752218,
          1.5559394752194518,
          1.5157356221957148,
          1.4807934074876377,
          1.4509083970334755,
          1.4258788817889805,
          1.4055106401570239,
          1.3896210931806712,
          1.3780427054807687,
          1.3706254969227274,
          1.3672385459810172,
          1.3677703856075842,
          1.3721282158850494,
          1.3802358845502853,
          1.3920306162129457,
          1.4074585032843876,
          1.4264688057118908,
          1.449007141941947,
          1.475007689408458,
          1.5043845484927338,
          1.537022458521509,
          1.5727670871119903,
          1.6114151441755507,
          1.6527045982856041,
          1.6963052950478854,
          1.7418102937572764,
          1.7887282492176517,
          1.8364771694357573,
          1.8843798763714528,
          1.9316614855376262,
          1.9774492006308684,
          2.0207746913268743,
          2.0605792858512597,
          2.095722165081087,
          2.1249916920883187,
          2.1471199507569265,
          2.1608005001562276,
          2.1647092787216415,
          2.157528515174582,
          2.137973422907998,
          2.1048213728608793,
          2.0569431584577904,
          1.9933358868894153,
          1.9131569558511377,
          1.8157585058931796,
          1.7007216778390877,
          1.5678899543295248,
          1.417400826394756,
          1.2497150018356287,
          1.065642363695524,
          0.8663638955506467,
          0.6534488167381838,
          0.42886621561226335,
          0.19499053268445898,
          -0.045399672165650884,
          -0.2891301340437096,
          -0.532646827758608,
          -0.7720396599238128,
          -1.0030739808843485,
          -1.22122983419656,
          -1.4217486995440005,
          -1.5996873194109504,
          -1.7499780342221314,
          -1.8674948888716862,
          -1.9471246195883865,
          -1.9838414879061332,
          -1.972784802013365,
          -1.9093378586155865,
          -1.789206954010531,
          -1.608499054270375,
          -1.3637966836432511,
          -1.052228589316904,
          -0.6715347706249588,
          -0.22012452198959664,
          0.3028737690402252,
          0.8975722055740007,
          1.563293334522264,
          2.2985512823152945,
          3.1010446905987834,
          3.967661856064659,
          4.894498252431717,
          5.87688637861406,
          6.909437640503818,
          7.986095740017305,
          9.100200819512288,
          10.24456339765964,
          11.4115469393316,
          12.593157731615634,
          13.781140594682128,
          14.967078843271054,
          16.142496834639317,
          17.29896339361617,
          18.428194395972632,
          19.522152817503247
         ]
        },
        {
         "line": {
          "color": "red",
          "dash": "dot"
         },
         "marker": {
          "size": 3
         },
         "name": "+epsilon",
         "type": "scatter",
         "x": [
          1990,
          1990.2727272727273,
          1990.5454545454545,
          1990.8181818181818,
          1991.090909090909,
          1991.3636363636363,
          1991.6363636363637,
          1991.909090909091,
          1992.1818181818182,
          1992.4545454545455,
          1992.7272727272727,
          1993,
          1993.2727272727273,
          1993.5454545454545,
          1993.8181818181818,
          1994.090909090909,
          1994.3636363636363,
          1994.6363636363637,
          1994.909090909091,
          1995.1818181818182,
          1995.4545454545455,
          1995.7272727272727,
          1996,
          1996.2727272727273,
          1996.5454545454545,
          1996.8181818181818,
          1997.090909090909,
          1997.3636363636363,
          1997.6363636363637,
          1997.909090909091,
          1998.1818181818182,
          1998.4545454545455,
          1998.7272727272727,
          1999,
          1999.2727272727273,
          1999.5454545454545,
          1999.8181818181818,
          2000.090909090909,
          2000.3636363636363,
          2000.6363636363637,
          2000.909090909091,
          2001.1818181818182,
          2001.4545454545455,
          2001.7272727272727,
          2002,
          2002.2727272727273,
          2002.5454545454545,
          2002.8181818181818,
          2003.090909090909,
          2003.3636363636363,
          2003.6363636363637,
          2003.909090909091,
          2004.1818181818182,
          2004.4545454545455,
          2004.7272727272727,
          2005,
          2005.2727272727273,
          2005.5454545454545,
          2005.8181818181818,
          2006.090909090909,
          2006.3636363636363,
          2006.6363636363637,
          2006.909090909091,
          2007.1818181818182,
          2007.4545454545455,
          2007.7272727272727,
          2008,
          2008.2727272727273,
          2008.5454545454545,
          2008.8181818181818,
          2009.090909090909,
          2009.3636363636363,
          2009.6363636363637,
          2009.909090909091,
          2010.1818181818182,
          2010.4545454545455,
          2010.7272727272727,
          2011,
          2011.2727272727273,
          2011.5454545454545,
          2011.8181818181818,
          2012.090909090909,
          2012.3636363636363,
          2012.6363636363637,
          2012.909090909091,
          2013.1818181818182,
          2013.4545454545455,
          2013.7272727272727,
          2014,
          2014.2727272727273,
          2014.5454545454545,
          2014.8181818181818,
          2015.090909090909,
          2015.3636363636363,
          2015.6363636363637,
          2015.909090909091,
          2016.1818181818182,
          2016.4545454545455,
          2016.7272727272727,
          2017
         ],
         "y": [
          3.9999441650628578,
          3.918091898034132,
          3.8425532763157015,
          3.7732563660330687,
          3.710094678794702,
          3.6529318763528007,
          3.601606910975222,
          3.5559394752194518,
          3.515735622195715,
          3.4807934074876377,
          3.4509083970334755,
          3.4258788817889805,
          3.405510640157024,
          3.389621093180671,
          3.3780427054807687,
          3.3706254969227274,
          3.3672385459810172,
          3.3677703856075842,
          3.3721282158850494,
          3.3802358845502853,
          3.3920306162129457,
          3.4074585032843876,
          3.426468805711891,
          3.449007141941947,
          3.475007689408458,
          3.504384548492734,
          3.537022458521509,
          3.5727670871119903,
          3.6114151441755507,
          3.652704598285604,
          3.6963052950478854,
          3.7418102937572764,
          3.7887282492176517,
          3.8364771694357573,
          3.8843798763714528,
          3.931661485537626,
          3.9774492006308684,
          4.020774691326874,
          4.06057928585126,
          4.095722165081087,
          4.124991692088319,
          4.1471199507569265,
          4.160800500156228,
          4.1647092787216415,
          4.157528515174582,
          4.137973422907998,
          4.104821372860879,
          4.05694315845779,
          3.9933358868894153,
          3.9131569558511377,
          3.8157585058931796,
          3.7007216778390877,
          3.567889954329525,
          3.417400826394756,
          3.2497150018356287,
          3.065642363695524,
          2.8663638955506467,
          2.653448816738184,
          2.4288662156122633,
          2.194990532684459,
          1.9546003278343491,
          1.7108698659562904,
          1.467353172241392,
          1.2279603400761872,
          0.9969260191156515,
          0.77877016580344,
          0.5782513004559995,
          0.40031268058904956,
          0.2500219657778686,
          0.13250511112831376,
          0.05287538041161355,
          0.01615851209386676,
          0.027215197986635076,
          0.09066214138441353,
          0.2107930459894689,
          0.391500945729625,
          0.6362033163567489,
          0.9477714106830959,
          1.3284652293750412,
          1.7798754780104034,
          2.3028737690402252,
          2.8975722055740007,
          3.563293334522264,
          4.2985512823152945,
          5.101044690598783,
          5.967661856064659,
          6.894498252431717,
          7.87688637861406,
          8.909437640503818,
          9.986095740017305,
          11.100200819512288,
          12.24456339765964,
          13.4115469393316,
          14.593157731615634,
          15.781140594682128,
          16.967078843271054,
          18.142496834639317,
          19.29896339361617,
          20.428194395972632,
          21.522152817503247
         ]
        },
        {
         "line": {
          "color": "red",
          "dash": "dot"
         },
         "marker": {
          "size": 3
         },
         "name": "-epsilon",
         "type": "scatter",
         "x": [
          1990,
          1990.2727272727273,
          1990.5454545454545,
          1990.8181818181818,
          1991.090909090909,
          1991.3636363636363,
          1991.6363636363637,
          1991.909090909091,
          1992.1818181818182,
          1992.4545454545455,
          1992.7272727272727,
          1993,
          1993.2727272727273,
          1993.5454545454545,
          1993.8181818181818,
          1994.090909090909,
          1994.3636363636363,
          1994.6363636363637,
          1994.909090909091,
          1995.1818181818182,
          1995.4545454545455,
          1995.7272727272727,
          1996,
          1996.2727272727273,
          1996.5454545454545,
          1996.8181818181818,
          1997.090909090909,
          1997.3636363636363,
          1997.6363636363637,
          1997.909090909091,
          1998.1818181818182,
          1998.4545454545455,
          1998.7272727272727,
          1999,
          1999.2727272727273,
          1999.5454545454545,
          1999.8181818181818,
          2000.090909090909,
          2000.3636363636363,
          2000.6363636363637,
          2000.909090909091,
          2001.1818181818182,
          2001.4545454545455,
          2001.7272727272727,
          2002,
          2002.2727272727273,
          2002.5454545454545,
          2002.8181818181818,
          2003.090909090909,
          2003.3636363636363,
          2003.6363636363637,
          2003.909090909091,
          2004.1818181818182,
          2004.4545454545455,
          2004.7272727272727,
          2005,
          2005.2727272727273,
          2005.5454545454545,
          2005.8181818181818,
          2006.090909090909,
          2006.3636363636363,
          2006.6363636363637,
          2006.909090909091,
          2007.1818181818182,
          2007.4545454545455,
          2007.7272727272727,
          2008,
          2008.2727272727273,
          2008.5454545454545,
          2008.8181818181818,
          2009.090909090909,
          2009.3636363636363,
          2009.6363636363637,
          2009.909090909091,
          2010.1818181818182,
          2010.4545454545455,
          2010.7272727272727,
          2011,
          2011.2727272727273,
          2011.5454545454545,
          2011.8181818181818,
          2012.090909090909,
          2012.3636363636363,
          2012.6363636363637,
          2012.909090909091,
          2013.1818181818182,
          2013.4545454545455,
          2013.7272727272727,
          2014,
          2014.2727272727273,
          2014.5454545454545,
          2014.8181818181818,
          2015.090909090909,
          2015.3636363636363,
          2015.6363636363637,
          2015.909090909091,
          2016.1818181818182,
          2016.4545454545455,
          2016.7272727272727,
          2017
         ],
         "y": [
          -5.5834937142229535e-05,
          -0.08190810196586806,
          -0.15744672368429846,
          -0.2267436339669313,
          -0.289905321205298,
          -0.3470681236471993,
          -0.3983930890247782,
          -0.44406052478054825,
          -0.4842643778042852,
          -0.5192065925123623,
          -0.5490916029665245,
          -0.5741211182110195,
          -0.5944893598429761,
          -0.6103789068193288,
          -0.6219572945192313,
          -0.6293745030772726,
          -0.6327614540189828,
          -0.6322296143924158,
          -0.6278717841149506,
          -0.6197641154497147,
          -0.6079693837870543,
          -0.5925414967156124,
          -0.5735311942881092,
          -0.550992858058053,
          -0.5249923105915419,
          -0.49561545150726616,
          -0.4629775414784909,
          -0.4272329128880097,
          -0.38858485582444935,
          -0.3472954017143959,
          -0.3036947049521146,
          -0.25818970624272364,
          -0.21127175078234828,
          -0.16352283056424266,
          -0.11562012362854723,
          -0.06833851446237382,
          -0.022550799369131624,
          0.02077469132687426,
          0.06057928585125971,
          0.09572216508108689,
          0.12499169208831873,
          0.14711995075692652,
          0.1608005001562276,
          0.16470927872164154,
          0.15752851517458222,
          0.13797342290799808,
          0.10482137286087934,
          0.05694315845779041,
          -0.00666411311058468,
          -0.08684304414886235,
          -0.18424149410682045,
          -0.2992783221609123,
          -0.4321100456704752,
          -0.582599173605244,
          -0.7502849981643713,
          -0.9343576363044761,
          -1.1336361044493533,
          -1.3465511832618162,
          -1.5711337843877367,
          -1.805009467315541,
          -2.045399672165651,
          -2.2891301340437096,
          -2.532646827758608,
          -2.772039659923813,
          -3.0030739808843485,
          -3.22122983419656,
          -3.4217486995440005,
          -3.5996873194109504,
          -3.7499780342221314,
          -3.8674948888716862,
          -3.9471246195883865,
          -3.9838414879061332,
          -3.972784802013365,
          -3.9093378586155865,
          -3.789206954010531,
          -3.608499054270375,
          -3.363796683643251,
          -3.052228589316904,
          -2.671534770624959,
          -2.2201245219895966,
          -1.6971262309597748,
          -1.1024277944259993,
          -0.43670666547773607,
          0.2985512823152945,
          1.1010446905987834,
          1.9676618560646588,
          2.894498252431717,
          3.87688637861406,
          4.909437640503818,
          5.986095740017305,
          7.100200819512288,
          8.24456339765964,
          9.4115469393316,
          10.593157731615634,
          11.781140594682128,
          12.967078843271054,
          14.142496834639317,
          15.29896339361617,
          16.428194395972632,
          17.522152817503247
         ]
        }
       ],
       "layout": {
        "legend": {
         "tracegroupgap": 0
        },
        "margin": {
         "t": 60
        },
        "plot_bgcolor": "white",
        "template": {
         "data": {
          "bar": [
           {
            "error_x": {
             "color": "#2a3f5f"
            },
            "error_y": {
             "color": "#2a3f5f"
            },
            "marker": {
             "line": {
              "color": "#E5ECF6",
              "width": 0.5
             },
             "pattern": {
              "fillmode": "overlay",
              "size": 10,
              "solidity": 0.2
             }
            },
            "type": "bar"
           }
          ],
          "barpolar": [
           {
            "marker": {
             "line": {
              "color": "#E5ECF6",
              "width": 0.5
             },
             "pattern": {
              "fillmode": "overlay",
              "size": 10,
              "solidity": 0.2
             }
            },
            "type": "barpolar"
           }
          ],
          "carpet": [
           {
            "aaxis": {
             "endlinecolor": "#2a3f5f",
             "gridcolor": "white",
             "linecolor": "white",
             "minorgridcolor": "white",
             "startlinecolor": "#2a3f5f"
            },
            "baxis": {
             "endlinecolor": "#2a3f5f",
             "gridcolor": "white",
             "linecolor": "white",
             "minorgridcolor": "white",
             "startlinecolor": "#2a3f5f"
            },
            "type": "carpet"
           }
          ],
          "choropleth": [
           {
            "colorbar": {
             "outlinewidth": 0,
             "ticks": ""
            },
            "type": "choropleth"
           }
          ],
          "contour": [
           {
            "colorbar": {
             "outlinewidth": 0,
             "ticks": ""
            },
            "colorscale": [
             [
              0,
              "#0d0887"
             ],
             [
              0.1111111111111111,
              "#46039f"
             ],
             [
              0.2222222222222222,
              "#7201a8"
             ],
             [
              0.3333333333333333,
              "#9c179e"
             ],
             [
              0.4444444444444444,
              "#bd3786"
             ],
             [
              0.5555555555555556,
              "#d8576b"
             ],
             [
              0.6666666666666666,
              "#ed7953"
             ],
             [
              0.7777777777777778,
              "#fb9f3a"
             ],
             [
              0.8888888888888888,
              "#fdca26"
             ],
             [
              1,
              "#f0f921"
             ]
            ],
            "type": "contour"
           }
          ],
          "contourcarpet": [
           {
            "colorbar": {
             "outlinewidth": 0,
             "ticks": ""
            },
            "type": "contourcarpet"
           }
          ],
          "heatmap": [
           {
            "colorbar": {
             "outlinewidth": 0,
             "ticks": ""
            },
            "colorscale": [
             [
              0,
              "#0d0887"
             ],
             [
              0.1111111111111111,
              "#46039f"
             ],
             [
              0.2222222222222222,
              "#7201a8"
             ],
             [
              0.3333333333333333,
              "#9c179e"
             ],
             [
              0.4444444444444444,
              "#bd3786"
             ],
             [
              0.5555555555555556,
              "#d8576b"
             ],
             [
              0.6666666666666666,
              "#ed7953"
             ],
             [
              0.7777777777777778,
              "#fb9f3a"
             ],
             [
              0.8888888888888888,
              "#fdca26"
             ],
             [
              1,
              "#f0f921"
             ]
            ],
            "type": "heatmap"
           }
          ],
          "heatmapgl": [
           {
            "colorbar": {
             "outlinewidth": 0,
             "ticks": ""
            },
            "colorscale": [
             [
              0,
              "#0d0887"
             ],
             [
              0.1111111111111111,
              "#46039f"
             ],
             [
              0.2222222222222222,
              "#7201a8"
             ],
             [
              0.3333333333333333,
              "#9c179e"
             ],
             [
              0.4444444444444444,
              "#bd3786"
             ],
             [
              0.5555555555555556,
              "#d8576b"
             ],
             [
              0.6666666666666666,
              "#ed7953"
             ],
             [
              0.7777777777777778,
              "#fb9f3a"
             ],
             [
              0.8888888888888888,
              "#fdca26"
             ],
             [
              1,
              "#f0f921"
             ]
            ],
            "type": "heatmapgl"
           }
          ],
          "histogram": [
           {
            "marker": {
             "pattern": {
              "fillmode": "overlay",
              "size": 10,
              "solidity": 0.2
             }
            },
            "type": "histogram"
           }
          ],
          "histogram2d": [
           {
            "colorbar": {
             "outlinewidth": 0,
             "ticks": ""
            },
            "colorscale": [
             [
              0,
              "#0d0887"
             ],
             [
              0.1111111111111111,
              "#46039f"
             ],
             [
              0.2222222222222222,
              "#7201a8"
             ],
             [
              0.3333333333333333,
              "#9c179e"
             ],
             [
              0.4444444444444444,
              "#bd3786"
             ],
             [
              0.5555555555555556,
              "#d8576b"
             ],
             [
              0.6666666666666666,
              "#ed7953"
             ],
             [
              0.7777777777777778,
              "#fb9f3a"
             ],
             [
              0.8888888888888888,
              "#fdca26"
             ],
             [
              1,
              "#f0f921"
             ]
            ],
            "type": "histogram2d"
           }
          ],
          "histogram2dcontour": [
           {
            "colorbar": {
             "outlinewidth": 0,
             "ticks": ""
            },
            "colorscale": [
             [
              0,
              "#0d0887"
             ],
             [
              0.1111111111111111,
              "#46039f"
             ],
             [
              0.2222222222222222,
              "#7201a8"
             ],
             [
              0.3333333333333333,
              "#9c179e"
             ],
             [
              0.4444444444444444,
              "#bd3786"
             ],
             [
              0.5555555555555556,
              "#d8576b"
             ],
             [
              0.6666666666666666,
              "#ed7953"
             ],
             [
              0.7777777777777778,
              "#fb9f3a"
             ],
             [
              0.8888888888888888,
              "#fdca26"
             ],
             [
              1,
              "#f0f921"
             ]
            ],
            "type": "histogram2dcontour"
           }
          ],
          "mesh3d": [
           {
            "colorbar": {
             "outlinewidth": 0,
             "ticks": ""
            },
            "type": "mesh3d"
           }
          ],
          "parcoords": [
           {
            "line": {
             "colorbar": {
              "outlinewidth": 0,
              "ticks": ""
             }
            },
            "type": "parcoords"
           }
          ],
          "pie": [
           {
            "automargin": true,
            "type": "pie"
           }
          ],
          "scatter": [
           {
            "marker": {
             "colorbar": {
              "outlinewidth": 0,
              "ticks": ""
             }
            },
            "type": "scatter"
           }
          ],
          "scatter3d": [
           {
            "line": {
             "colorbar": {
              "outlinewidth": 0,
              "ticks": ""
             }
            },
            "marker": {
             "colorbar": {
              "outlinewidth": 0,
              "ticks": ""
             }
            },
            "type": "scatter3d"
           }
          ],
          "scattercarpet": [
           {
            "marker": {
             "colorbar": {
              "outlinewidth": 0,
              "ticks": ""
             }
            },
            "type": "scattercarpet"
           }
          ],
          "scattergeo": [
           {
            "marker": {
             "colorbar": {
              "outlinewidth": 0,
              "ticks": ""
             }
            },
            "type": "scattergeo"
           }
          ],
          "scattergl": [
           {
            "marker": {
             "colorbar": {
              "outlinewidth": 0,
              "ticks": ""
             }
            },
            "type": "scattergl"
           }
          ],
          "scattermapbox": [
           {
            "marker": {
             "colorbar": {
              "outlinewidth": 0,
              "ticks": ""
             }
            },
            "type": "scattermapbox"
           }
          ],
          "scatterpolar": [
           {
            "marker": {
             "colorbar": {
              "outlinewidth": 0,
              "ticks": ""
             }
            },
            "type": "scatterpolar"
           }
          ],
          "scatterpolargl": [
           {
            "marker": {
             "colorbar": {
              "outlinewidth": 0,
              "ticks": ""
             }
            },
            "type": "scatterpolargl"
           }
          ],
          "scatterternary": [
           {
            "marker": {
             "colorbar": {
              "outlinewidth": 0,
              "ticks": ""
             }
            },
            "type": "scatterternary"
           }
          ],
          "surface": [
           {
            "colorbar": {
             "outlinewidth": 0,
             "ticks": ""
            },
            "colorscale": [
             [
              0,
              "#0d0887"
             ],
             [
              0.1111111111111111,
              "#46039f"
             ],
             [
              0.2222222222222222,
              "#7201a8"
             ],
             [
              0.3333333333333333,
              "#9c179e"
             ],
             [
              0.4444444444444444,
              "#bd3786"
             ],
             [
              0.5555555555555556,
              "#d8576b"
             ],
             [
              0.6666666666666666,
              "#ed7953"
             ],
             [
              0.7777777777777778,
              "#fb9f3a"
             ],
             [
              0.8888888888888888,
              "#fdca26"
             ],
             [
              1,
              "#f0f921"
             ]
            ],
            "type": "surface"
           }
          ],
          "table": [
           {
            "cells": {
             "fill": {
              "color": "#EBF0F8"
             },
             "line": {
              "color": "white"
             }
            },
            "header": {
             "fill": {
              "color": "#C8D4E3"
             },
             "line": {
              "color": "white"
             }
            },
            "type": "table"
           }
          ]
         },
         "layout": {
          "annotationdefaults": {
           "arrowcolor": "#2a3f5f",
           "arrowhead": 0,
           "arrowwidth": 1
          },
          "autotypenumbers": "strict",
          "coloraxis": {
           "colorbar": {
            "outlinewidth": 0,
            "ticks": ""
           }
          },
          "colorscale": {
           "diverging": [
            [
             0,
             "#8e0152"
            ],
            [
             0.1,
             "#c51b7d"
            ],
            [
             0.2,
             "#de77ae"
            ],
            [
             0.3,
             "#f1b6da"
            ],
            [
             0.4,
             "#fde0ef"
            ],
            [
             0.5,
             "#f7f7f7"
            ],
            [
             0.6,
             "#e6f5d0"
            ],
            [
             0.7,
             "#b8e186"
            ],
            [
             0.8,
             "#7fbc41"
            ],
            [
             0.9,
             "#4d9221"
            ],
            [
             1,
             "#276419"
            ]
           ],
           "sequential": [
            [
             0,
             "#0d0887"
            ],
            [
             0.1111111111111111,
             "#46039f"
            ],
            [
             0.2222222222222222,
             "#7201a8"
            ],
            [
             0.3333333333333333,
             "#9c179e"
            ],
            [
             0.4444444444444444,
             "#bd3786"
            ],
            [
             0.5555555555555556,
             "#d8576b"
            ],
            [
             0.6666666666666666,
             "#ed7953"
            ],
            [
             0.7777777777777778,
             "#fb9f3a"
            ],
            [
             0.8888888888888888,
             "#fdca26"
            ],
            [
             1,
             "#f0f921"
            ]
           ],
           "sequentialminus": [
            [
             0,
             "#0d0887"
            ],
            [
             0.1111111111111111,
             "#46039f"
            ],
            [
             0.2222222222222222,
             "#7201a8"
            ],
            [
             0.3333333333333333,
             "#9c179e"
            ],
            [
             0.4444444444444444,
             "#bd3786"
            ],
            [
             0.5555555555555556,
             "#d8576b"
            ],
            [
             0.6666666666666666,
             "#ed7953"
            ],
            [
             0.7777777777777778,
             "#fb9f3a"
            ],
            [
             0.8888888888888888,
             "#fdca26"
            ],
            [
             1,
             "#f0f921"
            ]
           ]
          },
          "colorway": [
           "#636efa",
           "#EF553B",
           "#00cc96",
           "#ab63fa",
           "#FFA15A",
           "#19d3f3",
           "#FF6692",
           "#B6E880",
           "#FF97FF",
           "#FECB52"
          ],
          "font": {
           "color": "#2a3f5f"
          },
          "geo": {
           "bgcolor": "white",
           "lakecolor": "white",
           "landcolor": "#E5ECF6",
           "showlakes": true,
           "showland": true,
           "subunitcolor": "white"
          },
          "hoverlabel": {
           "align": "left"
          },
          "hovermode": "closest",
          "mapbox": {
           "style": "light"
          },
          "paper_bgcolor": "white",
          "plot_bgcolor": "#E5ECF6",
          "polar": {
           "angularaxis": {
            "gridcolor": "white",
            "linecolor": "white",
            "ticks": ""
           },
           "bgcolor": "#E5ECF6",
           "radialaxis": {
            "gridcolor": "white",
            "linecolor": "white",
            "ticks": ""
           }
          },
          "scene": {
           "xaxis": {
            "backgroundcolor": "#E5ECF6",
            "gridcolor": "white",
            "gridwidth": 2,
            "linecolor": "white",
            "showbackground": true,
            "ticks": "",
            "zerolinecolor": "white"
           },
           "yaxis": {
            "backgroundcolor": "#E5ECF6",
            "gridcolor": "white",
            "gridwidth": 2,
            "linecolor": "white",
            "showbackground": true,
            "ticks": "",
            "zerolinecolor": "white"
           },
           "zaxis": {
            "backgroundcolor": "#E5ECF6",
            "gridcolor": "white",
            "gridwidth": 2,
            "linecolor": "white",
            "showbackground": true,
            "ticks": "",
            "zerolinecolor": "white"
           }
          },
          "shapedefaults": {
           "line": {
            "color": "#2a3f5f"
           }
          },
          "ternary": {
           "aaxis": {
            "gridcolor": "white",
            "linecolor": "white",
            "ticks": ""
           },
           "baxis": {
            "gridcolor": "white",
            "linecolor": "white",
            "ticks": ""
           },
           "bgcolor": "#E5ECF6",
           "caxis": {
            "gridcolor": "white",
            "linecolor": "white",
            "ticks": ""
           }
          },
          "title": {
           "x": 0.05
          },
          "xaxis": {
           "automargin": true,
           "gridcolor": "white",
           "linecolor": "white",
           "ticks": "",
           "title": {
            "standoff": 15
           },
           "zerolinecolor": "white",
           "zerolinewidth": 2
          },
          "yaxis": {
           "automargin": true,
           "gridcolor": "white",
           "linecolor": "white",
           "ticks": "",
           "title": {
            "standoff": 15
           },
           "zerolinecolor": "white",
           "zerolinewidth": 2
          }
         }
        },
        "title": {
         "font": {
          "color": "black"
         },
         "text": "Solar Energy Consumption in India (epsilon=2, C=75)"
        },
        "xaxis": {
         "anchor": "y",
         "domain": [
          0,
          1
         ],
         "gridcolor": "lightgrey",
         "gridwidth": 1,
         "linecolor": "black",
         "linewidth": 1,
         "showgrid": true,
         "showline": true,
         "title": {
          "text": "Year"
         },
         "zeroline": true,
         "zerolinecolor": "lightgrey",
         "zerolinewidth": 1
        },
        "yaxis": {
         "anchor": "x",
         "domain": [
          0,
          1
         ],
         "gridcolor": "lightgrey",
         "gridwidth": 1,
         "linecolor": "black",
         "linewidth": 1,
         "showgrid": true,
         "showline": true,
         "title": {
          "text": "Solar (terawatt-hours)"
         },
         "zeroline": true,
         "zerolinecolor": "lightgrey",
         "zerolinewidth": 1
        }
       }
      },
      "text/html": [
       "<div>                            <div id=\"7473a786-c664-4ec3-b38f-b59707f24c2e\" class=\"plotly-graph-div\" style=\"height:525px; width:100%;\"></div>            <script type=\"text/javascript\">                require([\"plotly\"], function(Plotly) {                    window.PLOTLYENV=window.PLOTLYENV || {};                                    if (document.getElementById(\"7473a786-c664-4ec3-b38f-b59707f24c2e\")) {                    Plotly.newPlot(                        \"7473a786-c664-4ec3-b38f-b59707f24c2e\",                        [{\"hovertemplate\":\"Year=%{x}<br>Solar (terawatt-hours)=%{y}<extra></extra>\",\"legendgroup\":\"\",\"marker\":{\"color\":\"black\",\"opacity\":0.8,\"symbol\":\"circle\",\"size\":3},\"mode\":\"markers\",\"name\":\"\",\"orientation\":\"v\",\"showlegend\":false,\"x\":[1990,1991,1992,1993,1994,1995,1996,1997,1998,1999,2000,2001,2002,2003,2004,2005,2006,2007,2008,2009,2010,2011,2012,2013,2014,2015,2016,2017],\"xaxis\":\"x\",\"y\":[0.0,0.0,0.0,0.0,0.0,0.001010101010101,0.0060606060606059,0.0060606060606059,0.0060606060606059,0.0060606060606059,0.0070707070707069,0.011111111111111,0.013131313131313,0.016161616161616,0.018181818181818,0.018181818181818,0.0072,0.059,0.063,0.075,0.113,0.827,2.099,3.433,4.909,6.56638,11.55598,21.52221],\"yaxis\":\"y\",\"type\":\"scatter\"},{\"line\":{\"color\":\"limegreen\"},\"name\":\"Linear Regression\",\"x\":[1990.0,1990.2727272727273,1990.5454545454545,1990.8181818181818,1991.090909090909,1991.3636363636363,1991.6363636363637,1991.909090909091,1992.1818181818182,1992.4545454545455,1992.7272727272727,1993.0,1993.2727272727273,1993.5454545454545,1993.8181818181818,1994.090909090909,1994.3636363636363,1994.6363636363637,1994.909090909091,1995.1818181818182,1995.4545454545455,1995.7272727272727,1996.0,1996.2727272727273,1996.5454545454545,1996.8181818181818,1997.090909090909,1997.3636363636363,1997.6363636363637,1997.909090909091,1998.1818181818182,1998.4545454545455,1998.7272727272727,1999.0,1999.2727272727273,1999.5454545454545,1999.8181818181818,2000.090909090909,2000.3636363636363,2000.6363636363637,2000.909090909091,2001.1818181818182,2001.4545454545455,2001.7272727272727,2002.0,2002.2727272727273,2002.5454545454545,2002.8181818181818,2003.090909090909,2003.3636363636363,2003.6363636363637,2003.909090909091,2004.1818181818182,2004.4545454545455,2004.7272727272727,2005.0,2005.2727272727273,2005.5454545454545,2005.8181818181818,2006.090909090909,2006.3636363636363,2006.6363636363637,2006.909090909091,2007.1818181818182,2007.4545454545455,2007.7272727272727,2008.0,2008.2727272727273,2008.5454545454545,2008.8181818181818,2009.090909090909,2009.3636363636363,2009.6363636363637,2009.909090909091,2010.1818181818182,2010.4545454545455,2010.7272727272727,2011.0,2011.2727272727273,2011.5454545454545,2011.8181818181818,2012.090909090909,2012.3636363636363,2012.6363636363637,2012.909090909091,2013.1818181818182,2013.4545454545455,2013.7272727272727,2014.0,2014.2727272727273,2014.5454545454545,2014.8181818181818,2015.090909090909,2015.3636363636363,2015.6363636363637,2015.909090909091,2016.1818181818182,2016.4545454545455,2016.7272727272727,2017.0],\"y\":[-2.5090242669887175,-2.420841028688642,-2.3326577903885664,-2.244474552088491,-2.156291313788415,-2.0681080754883396,-1.979924837188264,-1.8917415988881885,-1.803558360588113,-1.7153751222880373,-1.6271918839879618,-1.5390086456878862,-1.4508254073878106,-1.362642169087735,-1.2744589307876595,-1.186275692487584,-1.0980924541875083,-1.009909215887319,-0.9217259775873572,-0.8335427392872816,-0.745359500987206,-0.6571762626871305,-0.5689930243870549,-0.48080978608697933,-0.39262654778690376,-0.3044433094868282,-0.2162600711867526,-0.12807683288667704,-0.03989359458648778,0.04828964371358779,0.13647288201366337,0.22465612031373894,0.3128393586138145,0.4010225969138901,0.48920583521396566,0.5773890735140412,0.6655723118141168,0.7537555501140787,0.8419387884141543,0.9301220267143435,1.018305265014419,1.1064885033144947,1.1946717416145702,1.2828549799146458,1.3710382182147214,1.459221456514797,1.5474046948148725,1.635587933114948,1.7237711714150237,1.8119544097150992,1.9001376480151748,1.9883208863152504,2.076504124615326,2.1646873629154015,2.252870601215477,2.3410538395155527,2.4292370778156283,2.517420316115704,2.6056035544157794,2.693786792715855,2.7819700310159305,2.87015326931612,2.9583365076161954,3.046519745916271,3.134702984216233,3.2228862225163084,3.311069460816384,3.3992526991164596,3.487435937416535,3.5756191757166107,3.6638024140166863,3.751985652316762,3.840168890616951,3.9283521289170267,4.016535367217102,4.104718605517178,4.192901843817253,4.281085082117329,4.3692683204174045,4.45745155871748,4.545634797017556,4.633818035317631,4.722001273617707,4.810184511917782,4.898367750217858,4.9865509885179335,5.074734226818009,5.162917465118085,5.25110070341816,5.339283941718236,5.427467180018311,5.515650418318387,5.6038336566184626,5.692016894918538,5.780200133218614,5.868383371518689,5.956566609818765,6.04474984811884,6.132933086418916,6.221116324718992],\"type\":\"scatter\",\"marker\":{\"size\":3}},{\"line\":{\"color\":\"red\"},\"name\":\"Support Vector Regression\",\"x\":[1990.0,1990.2727272727273,1990.5454545454545,1990.8181818181818,1991.090909090909,1991.3636363636363,1991.6363636363637,1991.909090909091,1992.1818181818182,1992.4545454545455,1992.7272727272727,1993.0,1993.2727272727273,1993.5454545454545,1993.8181818181818,1994.090909090909,1994.3636363636363,1994.6363636363637,1994.909090909091,1995.1818181818182,1995.4545454545455,1995.7272727272727,1996.0,1996.2727272727273,1996.5454545454545,1996.8181818181818,1997.090909090909,1997.3636363636363,1997.6363636363637,1997.909090909091,1998.1818181818182,1998.4545454545455,1998.7272727272727,1999.0,1999.2727272727273,1999.5454545454545,1999.8181818181818,2000.090909090909,2000.3636363636363,2000.6363636363637,2000.909090909091,2001.1818181818182,2001.4545454545455,2001.7272727272727,2002.0,2002.2727272727273,2002.5454545454545,2002.8181818181818,2003.090909090909,2003.3636363636363,2003.6363636363637,2003.909090909091,2004.1818181818182,2004.4545454545455,2004.7272727272727,2005.0,2005.2727272727273,2005.5454545454545,2005.8181818181818,2006.090909090909,2006.3636363636363,2006.6363636363637,2006.909090909091,2007.1818181818182,2007.4545454545455,2007.7272727272727,2008.0,2008.2727272727273,2008.5454545454545,2008.8181818181818,2009.090909090909,2009.3636363636363,2009.6363636363637,2009.909090909091,2010.1818181818182,2010.4545454545455,2010.7272727272727,2011.0,2011.2727272727273,2011.5454545454545,2011.8181818181818,2012.090909090909,2012.3636363636363,2012.6363636363637,2012.909090909091,2013.1818181818182,2013.4545454545455,2013.7272727272727,2014.0,2014.2727272727273,2014.5454545454545,2014.8181818181818,2015.090909090909,2015.3636363636363,2015.6363636363637,2015.909090909091,2016.1818181818182,2016.4545454545455,2016.7272727272727,2017.0],\"y\":[1.9999441650628578,1.918091898034132,1.8425532763157015,1.7732563660330687,1.710094678794702,1.6529318763528007,1.6016069109752218,1.5559394752194518,1.5157356221957148,1.4807934074876377,1.4509083970334755,1.4258788817889805,1.4055106401570239,1.3896210931806712,1.3780427054807687,1.3706254969227274,1.3672385459810172,1.3677703856075842,1.3721282158850494,1.3802358845502853,1.3920306162129457,1.4074585032843876,1.4264688057118908,1.449007141941947,1.475007689408458,1.5043845484927338,1.537022458521509,1.5727670871119903,1.6114151441755507,1.6527045982856041,1.6963052950478854,1.7418102937572764,1.7887282492176517,1.8364771694357573,1.8843798763714528,1.9316614855376262,1.9774492006308684,2.0207746913268743,2.0605792858512597,2.095722165081087,2.1249916920883187,2.1471199507569265,2.1608005001562276,2.1647092787216415,2.157528515174582,2.137973422907998,2.1048213728608793,2.0569431584577904,1.9933358868894153,1.9131569558511377,1.8157585058931796,1.7007216778390877,1.5678899543295248,1.417400826394756,1.2497150018356287,1.065642363695524,0.8663638955506467,0.6534488167381838,0.42886621561226335,0.19499053268445898,-0.045399672165650884,-0.2891301340437096,-0.532646827758608,-0.7720396599238128,-1.0030739808843485,-1.22122983419656,-1.4217486995440005,-1.5996873194109504,-1.7499780342221314,-1.8674948888716862,-1.9471246195883865,-1.9838414879061332,-1.972784802013365,-1.9093378586155865,-1.789206954010531,-1.608499054270375,-1.3637966836432511,-1.052228589316904,-0.6715347706249588,-0.22012452198959664,0.3028737690402252,0.8975722055740007,1.563293334522264,2.2985512823152945,3.1010446905987834,3.967661856064659,4.894498252431717,5.87688637861406,6.909437640503818,7.986095740017305,9.100200819512288,10.24456339765964,11.4115469393316,12.593157731615634,13.781140594682128,14.967078843271054,16.142496834639317,17.29896339361617,18.428194395972632,19.522152817503247],\"type\":\"scatter\",\"marker\":{\"size\":3}},{\"line\":{\"color\":\"red\",\"dash\":\"dot\"},\"name\":\"+epsilon\",\"x\":[1990.0,1990.2727272727273,1990.5454545454545,1990.8181818181818,1991.090909090909,1991.3636363636363,1991.6363636363637,1991.909090909091,1992.1818181818182,1992.4545454545455,1992.7272727272727,1993.0,1993.2727272727273,1993.5454545454545,1993.8181818181818,1994.090909090909,1994.3636363636363,1994.6363636363637,1994.909090909091,1995.1818181818182,1995.4545454545455,1995.7272727272727,1996.0,1996.2727272727273,1996.5454545454545,1996.8181818181818,1997.090909090909,1997.3636363636363,1997.6363636363637,1997.909090909091,1998.1818181818182,1998.4545454545455,1998.7272727272727,1999.0,1999.2727272727273,1999.5454545454545,1999.8181818181818,2000.090909090909,2000.3636363636363,2000.6363636363637,2000.909090909091,2001.1818181818182,2001.4545454545455,2001.7272727272727,2002.0,2002.2727272727273,2002.5454545454545,2002.8181818181818,2003.090909090909,2003.3636363636363,2003.6363636363637,2003.909090909091,2004.1818181818182,2004.4545454545455,2004.7272727272727,2005.0,2005.2727272727273,2005.5454545454545,2005.8181818181818,2006.090909090909,2006.3636363636363,2006.6363636363637,2006.909090909091,2007.1818181818182,2007.4545454545455,2007.7272727272727,2008.0,2008.2727272727273,2008.5454545454545,2008.8181818181818,2009.090909090909,2009.3636363636363,2009.6363636363637,2009.909090909091,2010.1818181818182,2010.4545454545455,2010.7272727272727,2011.0,2011.2727272727273,2011.5454545454545,2011.8181818181818,2012.090909090909,2012.3636363636363,2012.6363636363637,2012.909090909091,2013.1818181818182,2013.4545454545455,2013.7272727272727,2014.0,2014.2727272727273,2014.5454545454545,2014.8181818181818,2015.090909090909,2015.3636363636363,2015.6363636363637,2015.909090909091,2016.1818181818182,2016.4545454545455,2016.7272727272727,2017.0],\"y\":[3.9999441650628578,3.918091898034132,3.8425532763157015,3.7732563660330687,3.710094678794702,3.6529318763528007,3.601606910975222,3.5559394752194518,3.515735622195715,3.4807934074876377,3.4509083970334755,3.4258788817889805,3.405510640157024,3.389621093180671,3.3780427054807687,3.3706254969227274,3.3672385459810172,3.3677703856075842,3.3721282158850494,3.3802358845502853,3.3920306162129457,3.4074585032843876,3.426468805711891,3.449007141941947,3.475007689408458,3.504384548492734,3.537022458521509,3.5727670871119903,3.6114151441755507,3.652704598285604,3.6963052950478854,3.7418102937572764,3.7887282492176517,3.8364771694357573,3.8843798763714528,3.931661485537626,3.9774492006308684,4.020774691326874,4.06057928585126,4.095722165081087,4.124991692088319,4.1471199507569265,4.160800500156228,4.1647092787216415,4.157528515174582,4.137973422907998,4.104821372860879,4.05694315845779,3.9933358868894153,3.9131569558511377,3.8157585058931796,3.7007216778390877,3.567889954329525,3.417400826394756,3.2497150018356287,3.065642363695524,2.8663638955506467,2.653448816738184,2.4288662156122633,2.194990532684459,1.9546003278343491,1.7108698659562904,1.467353172241392,1.2279603400761872,0.9969260191156515,0.77877016580344,0.5782513004559995,0.40031268058904956,0.2500219657778686,0.13250511112831376,0.05287538041161355,0.01615851209386676,0.027215197986635076,0.09066214138441353,0.2107930459894689,0.391500945729625,0.6362033163567489,0.9477714106830959,1.3284652293750412,1.7798754780104034,2.3028737690402252,2.8975722055740007,3.563293334522264,4.2985512823152945,5.101044690598783,5.967661856064659,6.894498252431717,7.87688637861406,8.909437640503818,9.986095740017305,11.100200819512288,12.24456339765964,13.4115469393316,14.593157731615634,15.781140594682128,16.967078843271054,18.142496834639317,19.29896339361617,20.428194395972632,21.522152817503247],\"type\":\"scatter\",\"marker\":{\"size\":3}},{\"line\":{\"color\":\"red\",\"dash\":\"dot\"},\"name\":\"-epsilon\",\"x\":[1990.0,1990.2727272727273,1990.5454545454545,1990.8181818181818,1991.090909090909,1991.3636363636363,1991.6363636363637,1991.909090909091,1992.1818181818182,1992.4545454545455,1992.7272727272727,1993.0,1993.2727272727273,1993.5454545454545,1993.8181818181818,1994.090909090909,1994.3636363636363,1994.6363636363637,1994.909090909091,1995.1818181818182,1995.4545454545455,1995.7272727272727,1996.0,1996.2727272727273,1996.5454545454545,1996.8181818181818,1997.090909090909,1997.3636363636363,1997.6363636363637,1997.909090909091,1998.1818181818182,1998.4545454545455,1998.7272727272727,1999.0,1999.2727272727273,1999.5454545454545,1999.8181818181818,2000.090909090909,2000.3636363636363,2000.6363636363637,2000.909090909091,2001.1818181818182,2001.4545454545455,2001.7272727272727,2002.0,2002.2727272727273,2002.5454545454545,2002.8181818181818,2003.090909090909,2003.3636363636363,2003.6363636363637,2003.909090909091,2004.1818181818182,2004.4545454545455,2004.7272727272727,2005.0,2005.2727272727273,2005.5454545454545,2005.8181818181818,2006.090909090909,2006.3636363636363,2006.6363636363637,2006.909090909091,2007.1818181818182,2007.4545454545455,2007.7272727272727,2008.0,2008.2727272727273,2008.5454545454545,2008.8181818181818,2009.090909090909,2009.3636363636363,2009.6363636363637,2009.909090909091,2010.1818181818182,2010.4545454545455,2010.7272727272727,2011.0,2011.2727272727273,2011.5454545454545,2011.8181818181818,2012.090909090909,2012.3636363636363,2012.6363636363637,2012.909090909091,2013.1818181818182,2013.4545454545455,2013.7272727272727,2014.0,2014.2727272727273,2014.5454545454545,2014.8181818181818,2015.090909090909,2015.3636363636363,2015.6363636363637,2015.909090909091,2016.1818181818182,2016.4545454545455,2016.7272727272727,2017.0],\"y\":[-5.5834937142229535e-05,-0.08190810196586806,-0.15744672368429846,-0.2267436339669313,-0.289905321205298,-0.3470681236471993,-0.3983930890247782,-0.44406052478054825,-0.4842643778042852,-0.5192065925123623,-0.5490916029665245,-0.5741211182110195,-0.5944893598429761,-0.6103789068193288,-0.6219572945192313,-0.6293745030772726,-0.6327614540189828,-0.6322296143924158,-0.6278717841149506,-0.6197641154497147,-0.6079693837870543,-0.5925414967156124,-0.5735311942881092,-0.550992858058053,-0.5249923105915419,-0.49561545150726616,-0.4629775414784909,-0.4272329128880097,-0.38858485582444935,-0.3472954017143959,-0.3036947049521146,-0.25818970624272364,-0.21127175078234828,-0.16352283056424266,-0.11562012362854723,-0.06833851446237382,-0.022550799369131624,0.02077469132687426,0.06057928585125971,0.09572216508108689,0.12499169208831873,0.14711995075692652,0.1608005001562276,0.16470927872164154,0.15752851517458222,0.13797342290799808,0.10482137286087934,0.05694315845779041,-0.00666411311058468,-0.08684304414886235,-0.18424149410682045,-0.2992783221609123,-0.4321100456704752,-0.582599173605244,-0.7502849981643713,-0.9343576363044761,-1.1336361044493533,-1.3465511832618162,-1.5711337843877367,-1.805009467315541,-2.045399672165651,-2.2891301340437096,-2.532646827758608,-2.772039659923813,-3.0030739808843485,-3.22122983419656,-3.4217486995440005,-3.5996873194109504,-3.7499780342221314,-3.8674948888716862,-3.9471246195883865,-3.9838414879061332,-3.972784802013365,-3.9093378586155865,-3.789206954010531,-3.608499054270375,-3.363796683643251,-3.052228589316904,-2.671534770624959,-2.2201245219895966,-1.6971262309597748,-1.1024277944259993,-0.43670666547773607,0.2985512823152945,1.1010446905987834,1.9676618560646588,2.894498252431717,3.87688637861406,4.909437640503818,5.986095740017305,7.100200819512288,8.24456339765964,9.4115469393316,10.593157731615634,11.781140594682128,12.967078843271054,14.142496834639317,15.29896339361617,16.428194395972632,17.522152817503247],\"type\":\"scatter\",\"marker\":{\"size\":3}}],                        {\"template\":{\"data\":{\"bar\":[{\"error_x\":{\"color\":\"#2a3f5f\"},\"error_y\":{\"color\":\"#2a3f5f\"},\"marker\":{\"line\":{\"color\":\"#E5ECF6\",\"width\":0.5},\"pattern\":{\"fillmode\":\"overlay\",\"size\":10,\"solidity\":0.2}},\"type\":\"bar\"}],\"barpolar\":[{\"marker\":{\"line\":{\"color\":\"#E5ECF6\",\"width\":0.5},\"pattern\":{\"fillmode\":\"overlay\",\"size\":10,\"solidity\":0.2}},\"type\":\"barpolar\"}],\"carpet\":[{\"aaxis\":{\"endlinecolor\":\"#2a3f5f\",\"gridcolor\":\"white\",\"linecolor\":\"white\",\"minorgridcolor\":\"white\",\"startlinecolor\":\"#2a3f5f\"},\"baxis\":{\"endlinecolor\":\"#2a3f5f\",\"gridcolor\":\"white\",\"linecolor\":\"white\",\"minorgridcolor\":\"white\",\"startlinecolor\":\"#2a3f5f\"},\"type\":\"carpet\"}],\"choropleth\":[{\"colorbar\":{\"outlinewidth\":0,\"ticks\":\"\"},\"type\":\"choropleth\"}],\"contour\":[{\"colorbar\":{\"outlinewidth\":0,\"ticks\":\"\"},\"colorscale\":[[0.0,\"#0d0887\"],[0.1111111111111111,\"#46039f\"],[0.2222222222222222,\"#7201a8\"],[0.3333333333333333,\"#9c179e\"],[0.4444444444444444,\"#bd3786\"],[0.5555555555555556,\"#d8576b\"],[0.6666666666666666,\"#ed7953\"],[0.7777777777777778,\"#fb9f3a\"],[0.8888888888888888,\"#fdca26\"],[1.0,\"#f0f921\"]],\"type\":\"contour\"}],\"contourcarpet\":[{\"colorbar\":{\"outlinewidth\":0,\"ticks\":\"\"},\"type\":\"contourcarpet\"}],\"heatmap\":[{\"colorbar\":{\"outlinewidth\":0,\"ticks\":\"\"},\"colorscale\":[[0.0,\"#0d0887\"],[0.1111111111111111,\"#46039f\"],[0.2222222222222222,\"#7201a8\"],[0.3333333333333333,\"#9c179e\"],[0.4444444444444444,\"#bd3786\"],[0.5555555555555556,\"#d8576b\"],[0.6666666666666666,\"#ed7953\"],[0.7777777777777778,\"#fb9f3a\"],[0.8888888888888888,\"#fdca26\"],[1.0,\"#f0f921\"]],\"type\":\"heatmap\"}],\"heatmapgl\":[{\"colorbar\":{\"outlinewidth\":0,\"ticks\":\"\"},\"colorscale\":[[0.0,\"#0d0887\"],[0.1111111111111111,\"#46039f\"],[0.2222222222222222,\"#7201a8\"],[0.3333333333333333,\"#9c179e\"],[0.4444444444444444,\"#bd3786\"],[0.5555555555555556,\"#d8576b\"],[0.6666666666666666,\"#ed7953\"],[0.7777777777777778,\"#fb9f3a\"],[0.8888888888888888,\"#fdca26\"],[1.0,\"#f0f921\"]],\"type\":\"heatmapgl\"}],\"histogram\":[{\"marker\":{\"pattern\":{\"fillmode\":\"overlay\",\"size\":10,\"solidity\":0.2}},\"type\":\"histogram\"}],\"histogram2d\":[{\"colorbar\":{\"outlinewidth\":0,\"ticks\":\"\"},\"colorscale\":[[0.0,\"#0d0887\"],[0.1111111111111111,\"#46039f\"],[0.2222222222222222,\"#7201a8\"],[0.3333333333333333,\"#9c179e\"],[0.4444444444444444,\"#bd3786\"],[0.5555555555555556,\"#d8576b\"],[0.6666666666666666,\"#ed7953\"],[0.7777777777777778,\"#fb9f3a\"],[0.8888888888888888,\"#fdca26\"],[1.0,\"#f0f921\"]],\"type\":\"histogram2d\"}],\"histogram2dcontour\":[{\"colorbar\":{\"outlinewidth\":0,\"ticks\":\"\"},\"colorscale\":[[0.0,\"#0d0887\"],[0.1111111111111111,\"#46039f\"],[0.2222222222222222,\"#7201a8\"],[0.3333333333333333,\"#9c179e\"],[0.4444444444444444,\"#bd3786\"],[0.5555555555555556,\"#d8576b\"],[0.6666666666666666,\"#ed7953\"],[0.7777777777777778,\"#fb9f3a\"],[0.8888888888888888,\"#fdca26\"],[1.0,\"#f0f921\"]],\"type\":\"histogram2dcontour\"}],\"mesh3d\":[{\"colorbar\":{\"outlinewidth\":0,\"ticks\":\"\"},\"type\":\"mesh3d\"}],\"parcoords\":[{\"line\":{\"colorbar\":{\"outlinewidth\":0,\"ticks\":\"\"}},\"type\":\"parcoords\"}],\"pie\":[{\"automargin\":true,\"type\":\"pie\"}],\"scatter\":[{\"marker\":{\"colorbar\":{\"outlinewidth\":0,\"ticks\":\"\"}},\"type\":\"scatter\"}],\"scatter3d\":[{\"line\":{\"colorbar\":{\"outlinewidth\":0,\"ticks\":\"\"}},\"marker\":{\"colorbar\":{\"outlinewidth\":0,\"ticks\":\"\"}},\"type\":\"scatter3d\"}],\"scattercarpet\":[{\"marker\":{\"colorbar\":{\"outlinewidth\":0,\"ticks\":\"\"}},\"type\":\"scattercarpet\"}],\"scattergeo\":[{\"marker\":{\"colorbar\":{\"outlinewidth\":0,\"ticks\":\"\"}},\"type\":\"scattergeo\"}],\"scattergl\":[{\"marker\":{\"colorbar\":{\"outlinewidth\":0,\"ticks\":\"\"}},\"type\":\"scattergl\"}],\"scattermapbox\":[{\"marker\":{\"colorbar\":{\"outlinewidth\":0,\"ticks\":\"\"}},\"type\":\"scattermapbox\"}],\"scatterpolar\":[{\"marker\":{\"colorbar\":{\"outlinewidth\":0,\"ticks\":\"\"}},\"type\":\"scatterpolar\"}],\"scatterpolargl\":[{\"marker\":{\"colorbar\":{\"outlinewidth\":0,\"ticks\":\"\"}},\"type\":\"scatterpolargl\"}],\"scatterternary\":[{\"marker\":{\"colorbar\":{\"outlinewidth\":0,\"ticks\":\"\"}},\"type\":\"scatterternary\"}],\"surface\":[{\"colorbar\":{\"outlinewidth\":0,\"ticks\":\"\"},\"colorscale\":[[0.0,\"#0d0887\"],[0.1111111111111111,\"#46039f\"],[0.2222222222222222,\"#7201a8\"],[0.3333333333333333,\"#9c179e\"],[0.4444444444444444,\"#bd3786\"],[0.5555555555555556,\"#d8576b\"],[0.6666666666666666,\"#ed7953\"],[0.7777777777777778,\"#fb9f3a\"],[0.8888888888888888,\"#fdca26\"],[1.0,\"#f0f921\"]],\"type\":\"surface\"}],\"table\":[{\"cells\":{\"fill\":{\"color\":\"#EBF0F8\"},\"line\":{\"color\":\"white\"}},\"header\":{\"fill\":{\"color\":\"#C8D4E3\"},\"line\":{\"color\":\"white\"}},\"type\":\"table\"}]},\"layout\":{\"annotationdefaults\":{\"arrowcolor\":\"#2a3f5f\",\"arrowhead\":0,\"arrowwidth\":1},\"autotypenumbers\":\"strict\",\"coloraxis\":{\"colorbar\":{\"outlinewidth\":0,\"ticks\":\"\"}},\"colorscale\":{\"diverging\":[[0,\"#8e0152\"],[0.1,\"#c51b7d\"],[0.2,\"#de77ae\"],[0.3,\"#f1b6da\"],[0.4,\"#fde0ef\"],[0.5,\"#f7f7f7\"],[0.6,\"#e6f5d0\"],[0.7,\"#b8e186\"],[0.8,\"#7fbc41\"],[0.9,\"#4d9221\"],[1,\"#276419\"]],\"sequential\":[[0.0,\"#0d0887\"],[0.1111111111111111,\"#46039f\"],[0.2222222222222222,\"#7201a8\"],[0.3333333333333333,\"#9c179e\"],[0.4444444444444444,\"#bd3786\"],[0.5555555555555556,\"#d8576b\"],[0.6666666666666666,\"#ed7953\"],[0.7777777777777778,\"#fb9f3a\"],[0.8888888888888888,\"#fdca26\"],[1.0,\"#f0f921\"]],\"sequentialminus\":[[0.0,\"#0d0887\"],[0.1111111111111111,\"#46039f\"],[0.2222222222222222,\"#7201a8\"],[0.3333333333333333,\"#9c179e\"],[0.4444444444444444,\"#bd3786\"],[0.5555555555555556,\"#d8576b\"],[0.6666666666666666,\"#ed7953\"],[0.7777777777777778,\"#fb9f3a\"],[0.8888888888888888,\"#fdca26\"],[1.0,\"#f0f921\"]]},\"colorway\":[\"#636efa\",\"#EF553B\",\"#00cc96\",\"#ab63fa\",\"#FFA15A\",\"#19d3f3\",\"#FF6692\",\"#B6E880\",\"#FF97FF\",\"#FECB52\"],\"font\":{\"color\":\"#2a3f5f\"},\"geo\":{\"bgcolor\":\"white\",\"lakecolor\":\"white\",\"landcolor\":\"#E5ECF6\",\"showlakes\":true,\"showland\":true,\"subunitcolor\":\"white\"},\"hoverlabel\":{\"align\":\"left\"},\"hovermode\":\"closest\",\"mapbox\":{\"style\":\"light\"},\"paper_bgcolor\":\"white\",\"plot_bgcolor\":\"#E5ECF6\",\"polar\":{\"angularaxis\":{\"gridcolor\":\"white\",\"linecolor\":\"white\",\"ticks\":\"\"},\"bgcolor\":\"#E5ECF6\",\"radialaxis\":{\"gridcolor\":\"white\",\"linecolor\":\"white\",\"ticks\":\"\"}},\"scene\":{\"xaxis\":{\"backgroundcolor\":\"#E5ECF6\",\"gridcolor\":\"white\",\"gridwidth\":2,\"linecolor\":\"white\",\"showbackground\":true,\"ticks\":\"\",\"zerolinecolor\":\"white\"},\"yaxis\":{\"backgroundcolor\":\"#E5ECF6\",\"gridcolor\":\"white\",\"gridwidth\":2,\"linecolor\":\"white\",\"showbackground\":true,\"ticks\":\"\",\"zerolinecolor\":\"white\"},\"zaxis\":{\"backgroundcolor\":\"#E5ECF6\",\"gridcolor\":\"white\",\"gridwidth\":2,\"linecolor\":\"white\",\"showbackground\":true,\"ticks\":\"\",\"zerolinecolor\":\"white\"}},\"shapedefaults\":{\"line\":{\"color\":\"#2a3f5f\"}},\"ternary\":{\"aaxis\":{\"gridcolor\":\"white\",\"linecolor\":\"white\",\"ticks\":\"\"},\"baxis\":{\"gridcolor\":\"white\",\"linecolor\":\"white\",\"ticks\":\"\"},\"bgcolor\":\"#E5ECF6\",\"caxis\":{\"gridcolor\":\"white\",\"linecolor\":\"white\",\"ticks\":\"\"}},\"title\":{\"x\":0.05},\"xaxis\":{\"automargin\":true,\"gridcolor\":\"white\",\"linecolor\":\"white\",\"ticks\":\"\",\"title\":{\"standoff\":15},\"zerolinecolor\":\"white\",\"zerolinewidth\":2},\"yaxis\":{\"automargin\":true,\"gridcolor\":\"white\",\"linecolor\":\"white\",\"ticks\":\"\",\"title\":{\"standoff\":15},\"zerolinecolor\":\"white\",\"zerolinewidth\":2}}},\"xaxis\":{\"anchor\":\"y\",\"domain\":[0.0,1.0],\"title\":{\"text\":\"Year\"},\"showgrid\":true,\"gridwidth\":1,\"gridcolor\":\"lightgrey\",\"zeroline\":true,\"zerolinewidth\":1,\"zerolinecolor\":\"lightgrey\",\"showline\":true,\"linewidth\":1,\"linecolor\":\"black\"},\"yaxis\":{\"anchor\":\"x\",\"domain\":[0.0,1.0],\"title\":{\"text\":\"Solar (terawatt-hours)\"},\"showgrid\":true,\"gridwidth\":1,\"gridcolor\":\"lightgrey\",\"zeroline\":true,\"zerolinewidth\":1,\"zerolinecolor\":\"lightgrey\",\"showline\":true,\"linewidth\":1,\"linecolor\":\"black\"},\"legend\":{\"tracegroupgap\":0},\"margin\":{\"t\":60},\"plot_bgcolor\":\"white\",\"title\":{\"font\":{\"color\":\"black\"},\"text\":\"Solar Energy Consumption in India (epsilon=2, C=75)\"}},                        {\"responsive\": true}                    ).then(function(){\n",
       "                            \n",
       "var gd = document.getElementById('7473a786-c664-4ec3-b38f-b59707f24c2e');\n",
       "var x = new MutationObserver(function (mutations, observer) {{\n",
       "        var display = window.getComputedStyle(gd).display;\n",
       "        if (!display || display === 'none') {{\n",
       "            console.log([gd, 'removed!']);\n",
       "            Plotly.purge(gd);\n",
       "            observer.disconnect();\n",
       "        }}\n",
       "}});\n",
       "\n",
       "// Listen for the removal of the full notebook cells\n",
       "var notebookContainer = gd.closest('#notebook-container');\n",
       "if (notebookContainer) {{\n",
       "    x.observe(notebookContainer, {childList: true});\n",
       "}}\n",
       "\n",
       "// Listen for the clearing of the current output cell\n",
       "var outputEl = gd.closest('.output');\n",
       "if (outputEl) {{\n",
       "    x.observe(outputEl, {childList: true});\n",
       "}}\n",
       "\n",
       "                        })                };                });            </script>        </div>"
      ]
     },
     "metadata": {},
     "output_type": "display_data"
    }
   ],
   "source": [
    "# Create a scatter plot\n",
    "fig = px.scatter(df, x=df['Year'], y=df['Solar (terawatt-hours)'], \n",
    "                 opacity=0.8, color_discrete_sequence=['black'])\n",
    "# Add a best-fit line\n",
    "fig.add_traces(go.Scatter(x=x_range, y=y_lr, name='Linear Regression', line=dict(color='limegreen')))\n",
    "fig.add_traces(go.Scatter(x=x_range, y=y_svr, name='Support Vector Regression', line=dict(color='red')))\n",
    "fig.add_traces(go.Scatter(x=x_range, y=y_svr+2, name='+epsilon', line=dict(color='red', dash='dot')))\n",
    "fig.add_traces(go.Scatter(x=x_range, y=y_svr-2, name='-epsilon', line=dict(color='red', dash='dot')))\n",
    "\n",
    "# Change chart background color\n",
    "fig.update_layout(dict(plot_bgcolor = 'white'))\n",
    "\n",
    "# Update axes lines\n",
    "fig.update_xaxes(showgrid=True, gridwidth=1, gridcolor='lightgrey', \n",
    "                 zeroline=True, zerolinewidth=1, zerolinecolor='lightgrey', \n",
    "                 showline=True, linewidth=1, linecolor='black')\n",
    "\n",
    "fig.update_yaxes(showgrid=True, gridwidth=1, gridcolor='lightgrey', \n",
    "                 zeroline=True, zerolinewidth=1, zerolinecolor='lightgrey', \n",
    "                 showline=True, linewidth=1, linecolor='black')\n",
    "\n",
    "# Set figure title\n",
    "fig.update_layout(title=dict(text=\"Solar Energy Consumption in India (epsilon=2, C=75)\", \n",
    "                             font=dict(color='black')))\n",
    "\n",
    "# Update marker size\n",
    "fig.update_traces(marker=dict(size=3))\n",
    "\n",
    "fig.show()"
   ]
  },
  {
   "cell_type": "code",
   "execution_count": 366,
   "id": "0cffb065",
   "metadata": {
    "colab": {
     "base_uri": "https://localhost:8080/"
    },
    "id": "0cffb065",
    "outputId": "847bb503-c15f-4c28-b1a0-9825b9f13aa4"
   },
   "outputs": [
    {
     "data": {
      "text/plain": [
       "array([ 1.83647717, 15.36047202, -1.05222859,  2.15752852,  1.37441746,\n",
       "        2.13322516, 11.0205261 ,  0.69139803,  1.42646881])"
      ]
     },
     "execution_count": 366,
     "metadata": {},
     "output_type": "execute_result"
    }
   ],
   "source": [
    "#5 Predicting a new result\n",
    "y_pred = svr.predict(X_test)\n",
    "y_pred"
   ]
  },
  {
   "cell_type": "code",
   "execution_count": 367,
   "id": "1d524a6a",
   "metadata": {
    "colab": {
     "base_uri": "https://localhost:8080/"
    },
    "id": "1d524a6a",
    "outputId": "c9cbffce-eccb-4db0-f260-3fc97c7b2422"
   },
   "outputs": [
    {
     "name": "stdout",
     "output_type": "stream",
     "text": [
      "R squared: 82.10\n",
      "Mean Squared Error is:  6.242495542027061\n",
      "Root Mean Squared Error is:  2.4984986575996118\n"
     ]
    }
   ],
   "source": [
    "mse = metrics.mean_squared_error(y_test, y_pred)\n",
    "rmse = np.sqrt(mse)\n",
    "\n",
    "print('R squared: {:.2f}'.format(svr.score(X,y)*100))\n",
    "print(\"Mean Squared Error is: \", mse)\n",
    "print(\"Root Mean Squared Error is: \", rmse)"
   ]
  },
  {
   "cell_type": "code",
   "execution_count": 368,
   "id": "714bd845",
   "metadata": {
    "colab": {
     "base_uri": "https://localhost:8080/",
     "height": 328
    },
    "id": "714bd845",
    "outputId": "8b51bce2-838b-4c53-f1a9-f078d09d011c"
   },
   "outputs": [
    {
     "data": {
      "text/html": [
       "<div>\n",
       "<style scoped>\n",
       "    .dataframe tbody tr th:only-of-type {\n",
       "        vertical-align: middle;\n",
       "    }\n",
       "\n",
       "    .dataframe tbody tr th {\n",
       "        vertical-align: top;\n",
       "    }\n",
       "\n",
       "    .dataframe thead th {\n",
       "        text-align: right;\n",
       "    }\n",
       "</style>\n",
       "<table border=\"1\" class=\"dataframe\">\n",
       "  <thead>\n",
       "    <tr style=\"text-align: right;\">\n",
       "      <th></th>\n",
       "      <th>Predicted</th>\n",
       "      <th>Actual</th>\n",
       "    </tr>\n",
       "  </thead>\n",
       "  <tbody>\n",
       "    <tr>\n",
       "      <th>0</th>\n",
       "      <td>1.836477</td>\n",
       "      <td>0.006061</td>\n",
       "    </tr>\n",
       "    <tr>\n",
       "      <th>1</th>\n",
       "      <td>15.360472</td>\n",
       "      <td>11.555980</td>\n",
       "    </tr>\n",
       "    <tr>\n",
       "      <th>2</th>\n",
       "      <td>-1.052229</td>\n",
       "      <td>0.827000</td>\n",
       "    </tr>\n",
       "    <tr>\n",
       "      <th>3</th>\n",
       "      <td>2.157529</td>\n",
       "      <td>0.013131</td>\n",
       "    </tr>\n",
       "    <tr>\n",
       "      <th>4</th>\n",
       "      <td>1.374417</td>\n",
       "      <td>0.001010</td>\n",
       "    </tr>\n",
       "    <tr>\n",
       "      <th>5</th>\n",
       "      <td>2.133225</td>\n",
       "      <td>0.011111</td>\n",
       "    </tr>\n",
       "    <tr>\n",
       "      <th>6</th>\n",
       "      <td>11.020526</td>\n",
       "      <td>6.566380</td>\n",
       "    </tr>\n",
       "    <tr>\n",
       "      <th>7</th>\n",
       "      <td>0.691398</td>\n",
       "      <td>2.099000</td>\n",
       "    </tr>\n",
       "    <tr>\n",
       "      <th>8</th>\n",
       "      <td>1.426469</td>\n",
       "      <td>0.006061</td>\n",
       "    </tr>\n",
       "  </tbody>\n",
       "</table>\n",
       "</div>"
      ],
      "text/plain": [
       "   Predicted     Actual\n",
       "0   1.836477   0.006061\n",
       "1  15.360472  11.555980\n",
       "2  -1.052229   0.827000\n",
       "3   2.157529   0.013131\n",
       "4   1.374417   0.001010\n",
       "5   2.133225   0.011111\n",
       "6  11.020526   6.566380\n",
       "7   0.691398   2.099000\n",
       "8   1.426469   0.006061"
      ]
     },
     "execution_count": 368,
     "metadata": {},
     "output_type": "execute_result"
    }
   ],
   "source": [
    "data = {'Predicted':y_pred, 'Actual':y_test}\n",
    "\n",
    "comparison = pd.DataFrame(data)\n",
    "comparison"
   ]
  },
  {
   "cell_type": "code",
   "execution_count": 369,
   "id": "517c62d6",
   "metadata": {
    "colab": {
     "base_uri": "https://localhost:8080/"
    },
    "id": "517c62d6",
    "outputId": "5213c84a-452f-4e1d-a812-5ae38c3b3dbe"
   },
   "outputs": [
    {
     "data": {
      "text/plain": [
       "array([ 0.4010226 ,  5.89777778,  4.28108508,  1.37103822, -0.89233156,\n",
       "        1.04769968,  5.57443924,  4.60442362, -0.56899302])"
      ]
     },
     "execution_count": 369,
     "metadata": {},
     "output_type": "execute_result"
    }
   ],
   "source": [
    "#5 Predicting a new result\n",
    "y_pred = lr.predict(X_test)\n",
    "y_pred"
   ]
  },
  {
   "cell_type": "code",
   "execution_count": 370,
   "id": "b338b8b3",
   "metadata": {},
   "outputs": [
    {
     "name": "stdout",
     "output_type": "stream",
     "text": [
      "R squared: 35.80\n",
      "Mean Squared Error is:  6.156690896001197\n",
      "Root Mean Squared Error is:  2.481268001647786\n"
     ]
    }
   ],
   "source": [
    "mse = metrics.mean_squared_error(y_test, y_pred)\n",
    "rmse = np.sqrt(mse)\n",
    "\n",
    "print('R squared: {:.2f}'.format(lr.score(X,y)*100))\n",
    "print(\"Mean Squared Error is: \", mse)\n",
    "print(\"Root Mean Squared Error is: \", rmse)"
   ]
  },
  {
   "cell_type": "code",
   "execution_count": 371,
   "id": "48d27295",
   "metadata": {},
   "outputs": [
    {
     "data": {
      "text/html": [
       "<div>\n",
       "<style scoped>\n",
       "    .dataframe tbody tr th:only-of-type {\n",
       "        vertical-align: middle;\n",
       "    }\n",
       "\n",
       "    .dataframe tbody tr th {\n",
       "        vertical-align: top;\n",
       "    }\n",
       "\n",
       "    .dataframe thead th {\n",
       "        text-align: right;\n",
       "    }\n",
       "</style>\n",
       "<table border=\"1\" class=\"dataframe\">\n",
       "  <thead>\n",
       "    <tr style=\"text-align: right;\">\n",
       "      <th></th>\n",
       "      <th>Predicted</th>\n",
       "      <th>Actual</th>\n",
       "    </tr>\n",
       "  </thead>\n",
       "  <tbody>\n",
       "    <tr>\n",
       "      <th>0</th>\n",
       "      <td>0.401023</td>\n",
       "      <td>0.006061</td>\n",
       "    </tr>\n",
       "    <tr>\n",
       "      <th>1</th>\n",
       "      <td>5.897778</td>\n",
       "      <td>11.555980</td>\n",
       "    </tr>\n",
       "    <tr>\n",
       "      <th>2</th>\n",
       "      <td>4.281085</td>\n",
       "      <td>0.827000</td>\n",
       "    </tr>\n",
       "    <tr>\n",
       "      <th>3</th>\n",
       "      <td>1.371038</td>\n",
       "      <td>0.013131</td>\n",
       "    </tr>\n",
       "    <tr>\n",
       "      <th>4</th>\n",
       "      <td>-0.892332</td>\n",
       "      <td>0.001010</td>\n",
       "    </tr>\n",
       "    <tr>\n",
       "      <th>5</th>\n",
       "      <td>1.047700</td>\n",
       "      <td>0.011111</td>\n",
       "    </tr>\n",
       "    <tr>\n",
       "      <th>6</th>\n",
       "      <td>5.574439</td>\n",
       "      <td>6.566380</td>\n",
       "    </tr>\n",
       "    <tr>\n",
       "      <th>7</th>\n",
       "      <td>4.604424</td>\n",
       "      <td>2.099000</td>\n",
       "    </tr>\n",
       "    <tr>\n",
       "      <th>8</th>\n",
       "      <td>-0.568993</td>\n",
       "      <td>0.006061</td>\n",
       "    </tr>\n",
       "  </tbody>\n",
       "</table>\n",
       "</div>"
      ],
      "text/plain": [
       "   Predicted     Actual\n",
       "0   0.401023   0.006061\n",
       "1   5.897778  11.555980\n",
       "2   4.281085   0.827000\n",
       "3   1.371038   0.013131\n",
       "4  -0.892332   0.001010\n",
       "5   1.047700   0.011111\n",
       "6   5.574439   6.566380\n",
       "7   4.604424   2.099000\n",
       "8  -0.568993   0.006061"
      ]
     },
     "execution_count": 371,
     "metadata": {},
     "output_type": "execute_result"
    }
   ],
   "source": [
    "data = {'Predicted':y_pred, 'Actual':y_test}\n",
    "\n",
    "comparison = pd.DataFrame(data)\n",
    "comparison"
   ]
  },
  {
   "cell_type": "code",
   "execution_count": 372,
   "id": "4d6d58fc",
   "metadata": {
    "colab": {
     "base_uri": "https://localhost:8080/"
    },
    "id": "4d6d58fc",
    "outputId": "3f520576-32e5-4ca2-8db6-41771156f399"
   },
   "outputs": [
    {
     "data": {
      "text/plain": [
       "array([19.2412666 , 21.80375558, 23.47913244, 24.1828413 , 23.94927274,\n",
       "       22.9139492 , 21.2808477 , 19.28335897, 17.1474208 , 15.0633269 ,\n",
       "       13.16952803, 11.54848052, 10.23211658,  9.21323871,  8.45906133,\n",
       "        7.92390044,  7.55918631,  7.32013111,  7.1692574 ,  7.07748817,\n",
       "        7.02365177,  6.99317123,  6.97650772,  6.96770731,  6.96321573,\n",
       "        6.96099958,  6.95994219,  6.9594542 ,  6.95923632,  6.95914219,\n",
       "        6.95910282,  6.95908689,  6.95908064])"
      ]
     },
     "execution_count": 372,
     "metadata": {},
     "output_type": "execute_result"
    }
   ],
   "source": [
    "model2 = SVR(kernel='rbf', C=75, epsilon=2) # set kernel and hyperparameters\n",
    "svr = model2.fit(X, y)\n",
    "x_future = [[2018],[2019],[2020],[2021],[2022],[2023],[2024],[2025],[2026],[2027],[2028],[2029],[2030],[2031],[2032],[2033],[2034],[2035],[2036],[2037],[2038],[2039],[2040],[2041],[2042],[2043],[2044],[2045],[2046],[2047],[2048],[2049],[2050]]\n",
    "y_pred = svr.predict(x_future)\n",
    "y_pred"
   ]
  },
  {
   "cell_type": "code",
   "execution_count": 373,
   "id": "baecd729",
   "metadata": {},
   "outputs": [
    {
     "data": {
      "text/plain": [
       "array([160.23925183, 165.80216459, 170.47796417, 174.18209586,\n",
       "       176.94895098, 178.91405111, 180.28137244, 181.28430643,\n",
       "       182.14879205, 183.06512087, 184.17174578, 185.55112098,\n",
       "       187.23517988, 189.21672568, 191.46297209, 193.92823392,\n",
       "       196.56394262, 199.3253111 , 202.17486105, 205.08351465,\n",
       "       208.03010098, 211.00004423, 213.98380343, 216.97542681,\n",
       "       219.97135795, 222.96956463, 225.96893091, 228.96886671,\n",
       "       231.96907155, 234.96940013, 237.96978455, 240.97019133,\n",
       "       243.97060888])"
      ]
     },
     "execution_count": 373,
     "metadata": {},
     "output_type": "execute_result"
    }
   ],
   "source": [
    "net_consumption += y_pred\n",
    "net_consumption"
   ]
  },
  {
   "cell_type": "code",
   "execution_count": 374,
   "id": "eAcA195c-BsV",
   "metadata": {
    "colab": {
     "base_uri": "https://localhost:8080/"
    },
    "id": "eAcA195c-BsV",
    "outputId": "3817fb23-6d26-44c4-e265-94b3e65d6ed0"
   },
   "outputs": [
    {
     "name": "stdout",
     "output_type": "stream",
     "text": [
      "Rate of Increase: 2.3366132440725944\n"
     ]
    }
   ],
   "source": [
    "# Finding the Rate of Increase for Solarpower Consumption\n",
    "print (\"Rate of Increase:\", (y_pred[2] - 0.113)/10)"
   ]
  },
  {
   "cell_type": "code",
   "execution_count": 375,
   "id": "731556ce",
   "metadata": {},
   "outputs": [
    {
     "data": {
      "image/png": "[encoded data removed]",
      "text/plain": [
       "<Figure size 432x288 with 1 Axes>"
      ]
     },
     "metadata": {
      "needs_background": "light"
     },
     "output_type": "display_data"
    }
   ],
   "source": [
    "fig, ax = plt.subplots()\n",
    "ax.scatter(years,y_pred)\n",
    "ax.set_title('Predicted Solar Energy Consumption in India (epsilon=2, C=75)')\n",
    "ax.set_xlabel('Years')\n",
    "ax.set_ylabel('Energy Consumption')\n",
    "\n",
    "\n",
    "plt.show()"
   ]
  },
  {
   "cell_type": "markdown",
   "id": "91887098",
   "metadata": {
    "id": "91887098"
   },
   "source": [
    "# Wind"
   ]
  },
  {
   "cell_type": "code",
   "execution_count": 376,
   "id": "c76489bb",
   "metadata": {
    "id": "c76489bb"
   },
   "outputs": [],
   "source": [
    "# Use MinMax Scaling on Year and Solar\n",
    "df['Year (scaled)']=scaler.fit_transform(df[['Year']])\n",
    "df['Solar (scaled)']=scaler.fit_transform(df[['Wind (terawatt-hours)']])"
   ]
  },
  {
   "cell_type": "code",
   "execution_count": 377,
   "id": "1056d1e4",
   "metadata": {
    "colab": {
     "base_uri": "https://localhost:8080/",
     "height": 542
    },
    "id": "1056d1e4",
    "outputId": "9ef4ae65-aa29-46cb-e97d-2db096a3a3f4"
   },
   "outputs": [
    {
     "data": {
      "application/vnd.plotly.v1+json": {
       "config": {
        "plotlyServerURL": "https://plot.ly"
       },
       "data": [
        {
         "hovertemplate": "Year=%{x}<br>Wind (terawatt-hours)=%{y}<extra></extra>",
         "legendgroup": "",
         "marker": {
          "color": "black",
          "opacity": 0.8,
          "size": 5,
          "symbol": "circle"
         },
         "mode": "markers",
         "name": "",
         "orientation": "v",
         "showlegend": false,
         "type": "scatter",
         "x": [
          1990,
          1991,
          1992,
          1993,
          1994,
          1995,
          1996,
          1997,
          1998,
          1999,
          2000,
          2001,
          2002,
          2003,
          2004,
          2005,
          2006,
          2007,
          2008,
          2009,
          2010,
          2011,
          2012,
          2013,
          2014,
          2015,
          2016,
          2017
         ],
         "xaxis": "x",
         "y": [
          0.0303030303030299,
          0.11291,
          0.08847,
          0.09477,
          0.19128,
          0.49647,
          0.87838,
          0.988,
          1.079,
          1.446,
          1.582,
          2.085,
          2.085,
          2.60448,
          5.22543,
          5.991,
          9.3373,
          11.6828,
          14.3782,
          16.271,
          19.4564,
          23.9523,
          27.4326,
          30.0074,
          33.4549,
          32.74138,
          43.45283,
          52.62495
         ],
         "yaxis": "y"
        }
       ],
       "layout": {
        "legend": {
         "tracegroupgap": 0
        },
        "margin": {
         "t": 60
        },
        "plot_bgcolor": "white",
        "template": {
         "data": {
          "bar": [
           {
            "error_x": {
             "color": "#2a3f5f"
            },
            "error_y": {
             "color": "#2a3f5f"
            },
            "marker": {
             "line": {
              "color": "#E5ECF6",
              "width": 0.5
             },
             "pattern": {
              "fillmode": "overlay",
              "size": 10,
              "solidity": 0.2
             }
            },
            "type": "bar"
           }
          ],
          "barpolar": [
           {
            "marker": {
             "line": {
              "color": "#E5ECF6",
              "width": 0.5
             },
             "pattern": {
              "fillmode": "overlay",
              "size": 10,
              "solidity": 0.2
             }
            },
            "type": "barpolar"
           }
          ],
          "carpet": [
           {
            "aaxis": {
             "endlinecolor": "#2a3f5f",
             "gridcolor": "white",
             "linecolor": "white",
             "minorgridcolor": "white",
             "startlinecolor": "#2a3f5f"
            },
            "baxis": {
             "endlinecolor": "#2a3f5f",
             "gridcolor": "white",
             "linecolor": "white",
             "minorgridcolor": "white",
             "startlinecolor": "#2a3f5f"
            },
            "type": "carpet"
           }
          ],
          "choropleth": [
           {
            "colorbar": {
             "outlinewidth": 0,
             "ticks": ""
            },
            "type": "choropleth"
           }
          ],
          "contour": [
           {
            "colorbar": {
             "outlinewidth": 0,
             "ticks": ""
            },
            "colorscale": [
             [
              0,
              "#0d0887"
             ],
             [
              0.1111111111111111,
              "#46039f"
             ],
             [
              0.2222222222222222,
              "#7201a8"
             ],
             [
              0.3333333333333333,
              "#9c179e"
             ],
             [
              0.4444444444444444,
              "#bd3786"
             ],
             [
              0.5555555555555556,
              "#d8576b"
             ],
             [
              0.6666666666666666,
              "#ed7953"
             ],
             [
              0.7777777777777778,
              "#fb9f3a"
             ],
             [
              0.8888888888888888,
              "#fdca26"
             ],
             [
              1,
              "#f0f921"
             ]
            ],
            "type": "contour"
           }
          ],
          "contourcarpet": [
           {
            "colorbar": {
             "outlinewidth": 0,
             "ticks": ""
            },
            "type": "contourcarpet"
           }
          ],
          "heatmap": [
           {
            "colorbar": {
             "outlinewidth": 0,
             "ticks": ""
            },
            "colorscale": [
             [
              0,
              "#0d0887"
             ],
             [
              0.1111111111111111,
              "#46039f"
             ],
             [
              0.2222222222222222,
              "#7201a8"
             ],
             [
              0.3333333333333333,
              "#9c179e"
             ],
             [
              0.4444444444444444,
              "#bd3786"
             ],
             [
              0.5555555555555556,
              "#d8576b"
             ],
             [
              0.6666666666666666,
              "#ed7953"
             ],
             [
              0.7777777777777778,
              "#fb9f3a"
             ],
             [
              0.8888888888888888,
              "#fdca26"
             ],
             [
              1,
              "#f0f921"
             ]
            ],
            "type": "heatmap"
           }
          ],
          "heatmapgl": [
           {
            "colorbar": {
             "outlinewidth": 0,
             "ticks": ""
            },
            "colorscale": [
             [
              0,
              "#0d0887"
             ],
             [
              0.1111111111111111,
              "#46039f"
             ],
             [
              0.2222222222222222,
              "#7201a8"
             ],
             [
              0.3333333333333333,
              "#9c179e"
             ],
             [
              0.4444444444444444,
              "#bd3786"
             ],
             [
              0.5555555555555556,
              "#d8576b"
             ],
             [
              0.6666666666666666,
              "#ed7953"
             ],
             [
              0.7777777777777778,
              "#fb9f3a"
             ],
             [
              0.8888888888888888,
              "#fdca26"
             ],
             [
              1,
              "#f0f921"
             ]
            ],
            "type": "heatmapgl"
           }
          ],
          "histogram": [
           {
            "marker": {
             "pattern": {
              "fillmode": "overlay",
              "size": 10,
              "solidity": 0.2
             }
            },
            "type": "histogram"
           }
          ],
          "histogram2d": [
           {
            "colorbar": {
             "outlinewidth": 0,
             "ticks": ""
            },
            "colorscale": [
             [
              0,
              "#0d0887"
             ],
             [
              0.1111111111111111,
              "#46039f"
             ],
             [
              0.2222222222222222,
              "#7201a8"
             ],
             [
              0.3333333333333333,
              "#9c179e"
             ],
             [
              0.4444444444444444,
              "#bd3786"
             ],
             [
              0.5555555555555556,
              "#d8576b"
             ],
             [
              0.6666666666666666,
              "#ed7953"
             ],
             [
              0.7777777777777778,
              "#fb9f3a"
             ],
             [
              0.8888888888888888,
              "#fdca26"
             ],
             [
              1,
              "#f0f921"
             ]
            ],
            "type": "histogram2d"
           }
          ],
          "histogram2dcontour": [
           {
            "colorbar": {
             "outlinewidth": 0,
             "ticks": ""
            },
            "colorscale": [
             [
              0,
              "#0d0887"
             ],
             [
              0.1111111111111111,
              "#46039f"
             ],
             [
              0.2222222222222222,
              "#7201a8"
             ],
             [
              0.3333333333333333,
              "#9c179e"
             ],
             [
              0.4444444444444444,
              "#bd3786"
             ],
             [
              0.5555555555555556,
              "#d8576b"
             ],
             [
              0.6666666666666666,
              "#ed7953"
             ],
             [
              0.7777777777777778,
              "#fb9f3a"
             ],
             [
              0.8888888888888888,
              "#fdca26"
             ],
             [
              1,
              "#f0f921"
             ]
            ],
            "type": "histogram2dcontour"
           }
          ],
          "mesh3d": [
           {
            "colorbar": {
             "outlinewidth": 0,
             "ticks": ""
            },
            "type": "mesh3d"
           }
          ],
          "parcoords": [
           {
            "line": {
             "colorbar": {
              "outlinewidth": 0,
              "ticks": ""
             }
            },
            "type": "parcoords"
           }
          ],
          "pie": [
           {
            "automargin": true,
            "type": "pie"
           }
          ],
          "scatter": [
           {
            "marker": {
             "colorbar": {
              "outlinewidth": 0,
              "ticks": ""
             }
            },
            "type": "scatter"
           }
          ],
          "scatter3d": [
           {
            "line": {
             "colorbar": {
              "outlinewidth": 0,
              "ticks": ""
             }
            },
            "marker": {
             "colorbar": {
              "outlinewidth": 0,
              "ticks": ""
             }
            },
            "type": "scatter3d"
           }
          ],
          "scattercarpet": [
           {
            "marker": {
             "colorbar": {
              "outlinewidth": 0,
              "ticks": ""
             }
            },
            "type": "scattercarpet"
           }
          ],
          "scattergeo": [
           {
            "marker": {
             "colorbar": {
              "outlinewidth": 0,
              "ticks": ""
             }
            },
            "type": "scattergeo"
           }
          ],
          "scattergl": [
           {
            "marker": {
             "colorbar": {
              "outlinewidth": 0,
              "ticks": ""
             }
            },
            "type": "scattergl"
           }
          ],
          "scattermapbox": [
           {
            "marker": {
             "colorbar": {
              "outlinewidth": 0,
              "ticks": ""
             }
            },
            "type": "scattermapbox"
           }
          ],
          "scatterpolar": [
           {
            "marker": {
             "colorbar": {
              "outlinewidth": 0,
              "ticks": ""
             }
            },
            "type": "scatterpolar"
           }
          ],
          "scatterpolargl": [
           {
            "marker": {
             "colorbar": {
              "outlinewidth": 0,
              "ticks": ""
             }
            },
            "type": "scatterpolargl"
           }
          ],
          "scatterternary": [
           {
            "marker": {
             "colorbar": {
              "outlinewidth": 0,
              "ticks": ""
             }
            },
            "type": "scatterternary"
           }
          ],
          "surface": [
           {
            "colorbar": {
             "outlinewidth": 0,
             "ticks": ""
            },
            "colorscale": [
             [
              0,
              "#0d0887"
             ],
             [
              0.1111111111111111,
              "#46039f"
             ],
             [
              0.2222222222222222,
              "#7201a8"
             ],
             [
              0.3333333333333333,
              "#9c179e"
             ],
             [
              0.4444444444444444,
              "#bd3786"
             ],
             [
              0.5555555555555556,
              "#d8576b"
             ],
             [
              0.6666666666666666,
              "#ed7953"
             ],
             [
              0.7777777777777778,
              "#fb9f3a"
             ],
             [
              0.8888888888888888,
              "#fdca26"
             ],
             [
              1,
              "#f0f921"
             ]
            ],
            "type": "surface"
           }
          ],
          "table": [
           {
            "cells": {
             "fill": {
              "color": "#EBF0F8"
             },
             "line": {
              "color": "white"
             }
            },
            "header": {
             "fill": {
              "color": "#C8D4E3"
             },
             "line": {
              "color": "white"
             }
            },
            "type": "table"
           }
          ]
         },
         "layout": {
          "annotationdefaults": {
           "arrowcolor": "#2a3f5f",
           "arrowhead": 0,
           "arrowwidth": 1
          },
          "autotypenumbers": "strict",
          "coloraxis": {
           "colorbar": {
            "outlinewidth": 0,
            "ticks": ""
           }
          },
          "colorscale": {
           "diverging": [
            [
             0,
             "#8e0152"
            ],
            [
             0.1,
             "#c51b7d"
            ],
            [
             0.2,
             "#de77ae"
            ],
            [
             0.3,
             "#f1b6da"
            ],
            [
             0.4,
             "#fde0ef"
            ],
            [
             0.5,
             "#f7f7f7"
            ],
            [
             0.6,
             "#e6f5d0"
            ],
            [
             0.7,
             "#b8e186"
            ],
            [
             0.8,
             "#7fbc41"
            ],
            [
             0.9,
             "#4d9221"
            ],
            [
             1,
             "#276419"
            ]
           ],
           "sequential": [
            [
             0,
             "#0d0887"
            ],
            [
             0.1111111111111111,
             "#46039f"
            ],
            [
             0.2222222222222222,
             "#7201a8"
            ],
            [
             0.3333333333333333,
             "#9c179e"
            ],
            [
             0.4444444444444444,
             "#bd3786"
            ],
            [
             0.5555555555555556,
             "#d8576b"
            ],
            [
             0.6666666666666666,
             "#ed7953"
            ],
            [
             0.7777777777777778,
             "#fb9f3a"
            ],
            [
             0.8888888888888888,
             "#fdca26"
            ],
            [
             1,
             "#f0f921"
            ]
           ],
           "sequentialminus": [
            [
             0,
             "#0d0887"
            ],
            [
             0.1111111111111111,
             "#46039f"
            ],
            [
             0.2222222222222222,
             "#7201a8"
            ],
            [
             0.3333333333333333,
             "#9c179e"
            ],
            [
             0.4444444444444444,
             "#bd3786"
            ],
            [
             0.5555555555555556,
             "#d8576b"
            ],
            [
             0.6666666666666666,
             "#ed7953"
            ],
            [
             0.7777777777777778,
             "#fb9f3a"
            ],
            [
             0.8888888888888888,
             "#fdca26"
            ],
            [
             1,
             "#f0f921"
            ]
           ]
          },
          "colorway": [
           "#636efa",
           "#EF553B",
           "#00cc96",
           "#ab63fa",
           "#FFA15A",
           "#19d3f3",
           "#FF6692",
           "#B6E880",
           "#FF97FF",
           "#FECB52"
          ],
          "font": {
           "color": "#2a3f5f"
          },
          "geo": {
           "bgcolor": "white",
           "lakecolor": "white",
           "landcolor": "#E5ECF6",
           "showlakes": true,
           "showland": true,
           "subunitcolor": "white"
          },
          "hoverlabel": {
           "align": "left"
          },
          "hovermode": "closest",
          "mapbox": {
           "style": "light"
          },
          "paper_bgcolor": "white",
          "plot_bgcolor": "#E5ECF6",
          "polar": {
           "angularaxis": {
            "gridcolor": "white",
            "linecolor": "white",
            "ticks": ""
           },
           "bgcolor": "#E5ECF6",
           "radialaxis": {
            "gridcolor": "white",
            "linecolor": "white",
            "ticks": ""
           }
          },
          "scene": {
           "xaxis": {
            "backgroundcolor": "#E5ECF6",
            "gridcolor": "white",
            "gridwidth": 2,
            "linecolor": "white",
            "showbackground": true,
            "ticks": "",
            "zerolinecolor": "white"
           },
           "yaxis": {
            "backgroundcolor": "#E5ECF6",
            "gridcolor": "white",
            "gridwidth": 2,
            "linecolor": "white",
            "showbackground": true,
            "ticks": "",
            "zerolinecolor": "white"
           },
           "zaxis": {
            "backgroundcolor": "#E5ECF6",
            "gridcolor": "white",
            "gridwidth": 2,
            "linecolor": "white",
            "showbackground": true,
            "ticks": "",
            "zerolinecolor": "white"
           }
          },
          "shapedefaults": {
           "line": {
            "color": "#2a3f5f"
           }
          },
          "ternary": {
           "aaxis": {
            "gridcolor": "white",
            "linecolor": "white",
            "ticks": ""
           },
           "baxis": {
            "gridcolor": "white",
            "linecolor": "white",
            "ticks": ""
           },
           "bgcolor": "#E5ECF6",
           "caxis": {
            "gridcolor": "white",
            "linecolor": "white",
            "ticks": ""
           }
          },
          "title": {
           "x": 0.05
          },
          "xaxis": {
           "automargin": true,
           "gridcolor": "white",
           "linecolor": "white",
           "ticks": "",
           "title": {
            "standoff": 15
           },
           "zerolinecolor": "white",
           "zerolinewidth": 2
          },
          "yaxis": {
           "automargin": true,
           "gridcolor": "white",
           "linecolor": "white",
           "ticks": "",
           "title": {
            "standoff": 15
           },
           "zerolinecolor": "white",
           "zerolinewidth": 2
          }
         }
        },
        "title": {
         "font": {
          "color": "black"
         },
         "text": "Wind Energy Consumption in India"
        },
        "xaxis": {
         "anchor": "y",
         "domain": [
          0,
          1
         ],
         "gridcolor": "lightgrey",
         "gridwidth": 1,
         "linecolor": "black",
         "linewidth": 1,
         "showgrid": true,
         "showline": true,
         "title": {
          "text": "Year"
         },
         "zeroline": true,
         "zerolinecolor": "lightgrey",
         "zerolinewidth": 1
        },
        "yaxis": {
         "anchor": "x",
         "domain": [
          0,
          1
         ],
         "gridcolor": "lightgrey",
         "gridwidth": 1,
         "linecolor": "black",
         "linewidth": 1,
         "showgrid": true,
         "showline": true,
         "title": {
          "text": "Wind (terawatt-hours)"
         },
         "zeroline": true,
         "zerolinecolor": "lightgrey",
         "zerolinewidth": 1
        }
       }
      },
      "text/html": [
       "<div>                            <div id=\"f6b71ec6-3b1e-441e-bf2f-a157e5e37056\" class=\"plotly-graph-div\" style=\"height:525px; width:100%;\"></div>            <script type=\"text/javascript\">                require([\"plotly\"], function(Plotly) {                    window.PLOTLYENV=window.PLOTLYENV || {};                                    if (document.getElementById(\"f6b71ec6-3b1e-441e-bf2f-a157e5e37056\")) {                    Plotly.newPlot(                        \"f6b71ec6-3b1e-441e-bf2f-a157e5e37056\",                        [{\"hovertemplate\":\"Year=%{x}<br>Wind (terawatt-hours)=%{y}<extra></extra>\",\"legendgroup\":\"\",\"marker\":{\"color\":\"black\",\"opacity\":0.8,\"symbol\":\"circle\",\"size\":5},\"mode\":\"markers\",\"name\":\"\",\"orientation\":\"v\",\"showlegend\":false,\"x\":[1990,1991,1992,1993,1994,1995,1996,1997,1998,1999,2000,2001,2002,2003,2004,2005,2006,2007,2008,2009,2010,2011,2012,2013,2014,2015,2016,2017],\"xaxis\":\"x\",\"y\":[0.0303030303030299,0.11291,0.08847,0.09477,0.19128,0.49647,0.87838,0.988,1.079,1.446,1.582,2.085,2.085,2.60448,5.22543,5.991,9.3373,11.6828,14.3782,16.271,19.4564,23.9523,27.4326,30.0074,33.4549,32.74138,43.45283,52.62495],\"yaxis\":\"y\",\"type\":\"scatter\"}],                        {\"template\":{\"data\":{\"bar\":[{\"error_x\":{\"color\":\"#2a3f5f\"},\"error_y\":{\"color\":\"#2a3f5f\"},\"marker\":{\"line\":{\"color\":\"#E5ECF6\",\"width\":0.5},\"pattern\":{\"fillmode\":\"overlay\",\"size\":10,\"solidity\":0.2}},\"type\":\"bar\"}],\"barpolar\":[{\"marker\":{\"line\":{\"color\":\"#E5ECF6\",\"width\":0.5},\"pattern\":{\"fillmode\":\"overlay\",\"size\":10,\"solidity\":0.2}},\"type\":\"barpolar\"}],\"carpet\":[{\"aaxis\":{\"endlinecolor\":\"#2a3f5f\",\"gridcolor\":\"white\",\"linecolor\":\"white\",\"minorgridcolor\":\"white\",\"startlinecolor\":\"#2a3f5f\"},\"baxis\":{\"endlinecolor\":\"#2a3f5f\",\"gridcolor\":\"white\",\"linecolor\":\"white\",\"minorgridcolor\":\"white\",\"startlinecolor\":\"#2a3f5f\"},\"type\":\"carpet\"}],\"choropleth\":[{\"colorbar\":{\"outlinewidth\":0,\"ticks\":\"\"},\"type\":\"choropleth\"}],\"contour\":[{\"colorbar\":{\"outlinewidth\":0,\"ticks\":\"\"},\"colorscale\":[[0.0,\"#0d0887\"],[0.1111111111111111,\"#46039f\"],[0.2222222222222222,\"#7201a8\"],[0.3333333333333333,\"#9c179e\"],[0.4444444444444444,\"#bd3786\"],[0.5555555555555556,\"#d8576b\"],[0.6666666666666666,\"#ed7953\"],[0.7777777777777778,\"#fb9f3a\"],[0.8888888888888888,\"#fdca26\"],[1.0,\"#f0f921\"]],\"type\":\"contour\"}],\"contourcarpet\":[{\"colorbar\":{\"outlinewidth\":0,\"ticks\":\"\"},\"type\":\"contourcarpet\"}],\"heatmap\":[{\"colorbar\":{\"outlinewidth\":0,\"ticks\":\"\"},\"colorscale\":[[0.0,\"#0d0887\"],[0.1111111111111111,\"#46039f\"],[0.2222222222222222,\"#7201a8\"],[0.3333333333333333,\"#9c179e\"],[0.4444444444444444,\"#bd3786\"],[0.5555555555555556,\"#d8576b\"],[0.6666666666666666,\"#ed7953\"],[0.7777777777777778,\"#fb9f3a\"],[0.8888888888888888,\"#fdca26\"],[1.0,\"#f0f921\"]],\"type\":\"heatmap\"}],\"heatmapgl\":[{\"colorbar\":{\"outlinewidth\":0,\"ticks\":\"\"},\"colorscale\":[[0.0,\"#0d0887\"],[0.1111111111111111,\"#46039f\"],[0.2222222222222222,\"#7201a8\"],[0.3333333333333333,\"#9c179e\"],[0.4444444444444444,\"#bd3786\"],[0.5555555555555556,\"#d8576b\"],[0.6666666666666666,\"#ed7953\"],[0.7777777777777778,\"#fb9f3a\"],[0.8888888888888888,\"#fdca26\"],[1.0,\"#f0f921\"]],\"type\":\"heatmapgl\"}],\"histogram\":[{\"marker\":{\"pattern\":{\"fillmode\":\"overlay\",\"size\":10,\"solidity\":0.2}},\"type\":\"histogram\"}],\"histogram2d\":[{\"colorbar\":{\"outlinewidth\":0,\"ticks\":\"\"},\"colorscale\":[[0.0,\"#0d0887\"],[0.1111111111111111,\"#46039f\"],[0.2222222222222222,\"#7201a8\"],[0.3333333333333333,\"#9c179e\"],[0.4444444444444444,\"#bd3786\"],[0.5555555555555556,\"#d8576b\"],[0.6666666666666666,\"#ed7953\"],[0.7777777777777778,\"#fb9f3a\"],[0.8888888888888888,\"#fdca26\"],[1.0,\"#f0f921\"]],\"type\":\"histogram2d\"}],\"histogram2dcontour\":[{\"colorbar\":{\"outlinewidth\":0,\"ticks\":\"\"},\"colorscale\":[[0.0,\"#0d0887\"],[0.1111111111111111,\"#46039f\"],[0.2222222222222222,\"#7201a8\"],[0.3333333333333333,\"#9c179e\"],[0.4444444444444444,\"#bd3786\"],[0.5555555555555556,\"#d8576b\"],[0.6666666666666666,\"#ed7953\"],[0.7777777777777778,\"#fb9f3a\"],[0.8888888888888888,\"#fdca26\"],[1.0,\"#f0f921\"]],\"type\":\"histogram2dcontour\"}],\"mesh3d\":[{\"colorbar\":{\"outlinewidth\":0,\"ticks\":\"\"},\"type\":\"mesh3d\"}],\"parcoords\":[{\"line\":{\"colorbar\":{\"outlinewidth\":0,\"ticks\":\"\"}},\"type\":\"parcoords\"}],\"pie\":[{\"automargin\":true,\"type\":\"pie\"}],\"scatter\":[{\"marker\":{\"colorbar\":{\"outlinewidth\":0,\"ticks\":\"\"}},\"type\":\"scatter\"}],\"scatter3d\":[{\"line\":{\"colorbar\":{\"outlinewidth\":0,\"ticks\":\"\"}},\"marker\":{\"colorbar\":{\"outlinewidth\":0,\"ticks\":\"\"}},\"type\":\"scatter3d\"}],\"scattercarpet\":[{\"marker\":{\"colorbar\":{\"outlinewidth\":0,\"ticks\":\"\"}},\"type\":\"scattercarpet\"}],\"scattergeo\":[{\"marker\":{\"colorbar\":{\"outlinewidth\":0,\"ticks\":\"\"}},\"type\":\"scattergeo\"}],\"scattergl\":[{\"marker\":{\"colorbar\":{\"outlinewidth\":0,\"ticks\":\"\"}},\"type\":\"scattergl\"}],\"scattermapbox\":[{\"marker\":{\"colorbar\":{\"outlinewidth\":0,\"ticks\":\"\"}},\"type\":\"scattermapbox\"}],\"scatterpolar\":[{\"marker\":{\"colorbar\":{\"outlinewidth\":0,\"ticks\":\"\"}},\"type\":\"scatterpolar\"}],\"scatterpolargl\":[{\"marker\":{\"colorbar\":{\"outlinewidth\":0,\"ticks\":\"\"}},\"type\":\"scatterpolargl\"}],\"scatterternary\":[{\"marker\":{\"colorbar\":{\"outlinewidth\":0,\"ticks\":\"\"}},\"type\":\"scatterternary\"}],\"surface\":[{\"colorbar\":{\"outlinewidth\":0,\"ticks\":\"\"},\"colorscale\":[[0.0,\"#0d0887\"],[0.1111111111111111,\"#46039f\"],[0.2222222222222222,\"#7201a8\"],[0.3333333333333333,\"#9c179e\"],[0.4444444444444444,\"#bd3786\"],[0.5555555555555556,\"#d8576b\"],[0.6666666666666666,\"#ed7953\"],[0.7777777777777778,\"#fb9f3a\"],[0.8888888888888888,\"#fdca26\"],[1.0,\"#f0f921\"]],\"type\":\"surface\"}],\"table\":[{\"cells\":{\"fill\":{\"color\":\"#EBF0F8\"},\"line\":{\"color\":\"white\"}},\"header\":{\"fill\":{\"color\":\"#C8D4E3\"},\"line\":{\"color\":\"white\"}},\"type\":\"table\"}]},\"layout\":{\"annotationdefaults\":{\"arrowcolor\":\"#2a3f5f\",\"arrowhead\":0,\"arrowwidth\":1},\"autotypenumbers\":\"strict\",\"coloraxis\":{\"colorbar\":{\"outlinewidth\":0,\"ticks\":\"\"}},\"colorscale\":{\"diverging\":[[0,\"#8e0152\"],[0.1,\"#c51b7d\"],[0.2,\"#de77ae\"],[0.3,\"#f1b6da\"],[0.4,\"#fde0ef\"],[0.5,\"#f7f7f7\"],[0.6,\"#e6f5d0\"],[0.7,\"#b8e186\"],[0.8,\"#7fbc41\"],[0.9,\"#4d9221\"],[1,\"#276419\"]],\"sequential\":[[0.0,\"#0d0887\"],[0.1111111111111111,\"#46039f\"],[0.2222222222222222,\"#7201a8\"],[0.3333333333333333,\"#9c179e\"],[0.4444444444444444,\"#bd3786\"],[0.5555555555555556,\"#d8576b\"],[0.6666666666666666,\"#ed7953\"],[0.7777777777777778,\"#fb9f3a\"],[0.8888888888888888,\"#fdca26\"],[1.0,\"#f0f921\"]],\"sequentialminus\":[[0.0,\"#0d0887\"],[0.1111111111111111,\"#46039f\"],[0.2222222222222222,\"#7201a8\"],[0.3333333333333333,\"#9c179e\"],[0.4444444444444444,\"#bd3786\"],[0.5555555555555556,\"#d8576b\"],[0.6666666666666666,\"#ed7953\"],[0.7777777777777778,\"#fb9f3a\"],[0.8888888888888888,\"#fdca26\"],[1.0,\"#f0f921\"]]},\"colorway\":[\"#636efa\",\"#EF553B\",\"#00cc96\",\"#ab63fa\",\"#FFA15A\",\"#19d3f3\",\"#FF6692\",\"#B6E880\",\"#FF97FF\",\"#FECB52\"],\"font\":{\"color\":\"#2a3f5f\"},\"geo\":{\"bgcolor\":\"white\",\"lakecolor\":\"white\",\"landcolor\":\"#E5ECF6\",\"showlakes\":true,\"showland\":true,\"subunitcolor\":\"white\"},\"hoverlabel\":{\"align\":\"left\"},\"hovermode\":\"closest\",\"mapbox\":{\"style\":\"light\"},\"paper_bgcolor\":\"white\",\"plot_bgcolor\":\"#E5ECF6\",\"polar\":{\"angularaxis\":{\"gridcolor\":\"white\",\"linecolor\":\"white\",\"ticks\":\"\"},\"bgcolor\":\"#E5ECF6\",\"radialaxis\":{\"gridcolor\":\"white\",\"linecolor\":\"white\",\"ticks\":\"\"}},\"scene\":{\"xaxis\":{\"backgroundcolor\":\"#E5ECF6\",\"gridcolor\":\"white\",\"gridwidth\":2,\"linecolor\":\"white\",\"showbackground\":true,\"ticks\":\"\",\"zerolinecolor\":\"white\"},\"yaxis\":{\"backgroundcolor\":\"#E5ECF6\",\"gridcolor\":\"white\",\"gridwidth\":2,\"linecolor\":\"white\",\"showbackground\":true,\"ticks\":\"\",\"zerolinecolor\":\"white\"},\"zaxis\":{\"backgroundcolor\":\"#E5ECF6\",\"gridcolor\":\"white\",\"gridwidth\":2,\"linecolor\":\"white\",\"showbackground\":true,\"ticks\":\"\",\"zerolinecolor\":\"white\"}},\"shapedefaults\":{\"line\":{\"color\":\"#2a3f5f\"}},\"ternary\":{\"aaxis\":{\"gridcolor\":\"white\",\"linecolor\":\"white\",\"ticks\":\"\"},\"baxis\":{\"gridcolor\":\"white\",\"linecolor\":\"white\",\"ticks\":\"\"},\"bgcolor\":\"#E5ECF6\",\"caxis\":{\"gridcolor\":\"white\",\"linecolor\":\"white\",\"ticks\":\"\"}},\"title\":{\"x\":0.05},\"xaxis\":{\"automargin\":true,\"gridcolor\":\"white\",\"linecolor\":\"white\",\"ticks\":\"\",\"title\":{\"standoff\":15},\"zerolinecolor\":\"white\",\"zerolinewidth\":2},\"yaxis\":{\"automargin\":true,\"gridcolor\":\"white\",\"linecolor\":\"white\",\"ticks\":\"\",\"title\":{\"standoff\":15},\"zerolinecolor\":\"white\",\"zerolinewidth\":2}}},\"xaxis\":{\"anchor\":\"y\",\"domain\":[0.0,1.0],\"title\":{\"text\":\"Year\"},\"showgrid\":true,\"gridwidth\":1,\"gridcolor\":\"lightgrey\",\"zeroline\":true,\"zerolinewidth\":1,\"zerolinecolor\":\"lightgrey\",\"showline\":true,\"linewidth\":1,\"linecolor\":\"black\"},\"yaxis\":{\"anchor\":\"x\",\"domain\":[0.0,1.0],\"title\":{\"text\":\"Wind (terawatt-hours)\"},\"showgrid\":true,\"gridwidth\":1,\"gridcolor\":\"lightgrey\",\"zeroline\":true,\"zerolinewidth\":1,\"zerolinecolor\":\"lightgrey\",\"showline\":true,\"linewidth\":1,\"linecolor\":\"black\"},\"legend\":{\"tracegroupgap\":0},\"margin\":{\"t\":60},\"plot_bgcolor\":\"white\",\"title\":{\"font\":{\"color\":\"black\"},\"text\":\"Wind Energy Consumption in India\"}},                        {\"responsive\": true}                    ).then(function(){\n",
       "                            \n",
       "var gd = document.getElementById('f6b71ec6-3b1e-441e-bf2f-a157e5e37056');\n",
       "var x = new MutationObserver(function (mutations, observer) {{\n",
       "        var display = window.getComputedStyle(gd).display;\n",
       "        if (!display || display === 'none') {{\n",
       "            console.log([gd, 'removed!']);\n",
       "            Plotly.purge(gd);\n",
       "            observer.disconnect();\n",
       "        }}\n",
       "}});\n",
       "\n",
       "// Listen for the removal of the full notebook cells\n",
       "var notebookContainer = gd.closest('#notebook-container');\n",
       "if (notebookContainer) {{\n",
       "    x.observe(notebookContainer, {childList: true});\n",
       "}}\n",
       "\n",
       "// Listen for the clearing of the current output cell\n",
       "var outputEl = gd.closest('.output');\n",
       "if (outputEl) {{\n",
       "    x.observe(outputEl, {childList: true});\n",
       "}}\n",
       "\n",
       "                        })                };                });            </script>        </div>"
      ]
     },
     "metadata": {},
     "output_type": "display_data"
    }
   ],
   "source": [
    "# Create a scatter plot\n",
    "fig = px.scatter(df, x=df['Year'], y=df['Wind (terawatt-hours)'], \n",
    "                 opacity=0.8, color_discrete_sequence=['black'])\n",
    "# Change chart background color\n",
    "fig.update_layout(dict(plot_bgcolor = 'white'))\n",
    "\n",
    "# Update axes lines\n",
    "fig.update_xaxes(showgrid=True, gridwidth=1, gridcolor='lightgrey', \n",
    "                 zeroline=True, zerolinewidth=1, zerolinecolor='lightgrey', \n",
    "                 showline=True, linewidth=1, linecolor='black')\n",
    "\n",
    "fig.update_yaxes(showgrid=True, gridwidth=1, gridcolor='lightgrey', \n",
    "                 zeroline=True, zerolinewidth=1, zerolinecolor='lightgrey', \n",
    "                 showline=True, linewidth=1, linecolor='black')\n",
    "\n",
    "fig.update_yaxes(showgrid=True, gridwidth=1, gridcolor='lightgrey', \n",
    "                 zeroline=True, zerolinewidth=1, zerolinecolor='lightgrey', \n",
    "                 showline=True, linewidth=1, linecolor='black')\n",
    "\n",
    "# Set figure title\n",
    "fig.update_layout(title=dict(text=\"Wind Energy Consumption in India\", \n",
    "                             font=dict(color='black')))\n",
    "# Update marker size\n",
    "fig.update_traces(marker=dict(size=5))\n",
    "\n",
    "fig.show()\n"
   ]
  },
  {
   "cell_type": "code",
   "execution_count": 378,
   "id": "12faa947",
   "metadata": {
    "id": "12faa947"
   },
   "outputs": [],
   "source": [
    "# Note, we need X to be a 2D array, hence reshape\n",
    "X=df['Year'].values.reshape(-1,1)\n",
    "y=df['Wind (terawatt-hours)'].values\n",
    "\n",
    "X_train, X_test, y_train, y_test = train_test_split(X ,y, test_size=0.30, random_state=100)\n",
    "\n",
    "\n",
    "# ------- Linear regression -------\n",
    "model1 = LinearRegression()\n",
    "lr = model1.fit(X_train, y_train)\n",
    "\n",
    "# ------- Support Vector regression -------\n",
    "model2 = SVR(kernel='rbf', C=75, epsilon=5) # set kernel and hyperparameters\n",
    "svr = model2.fit(X_train, y_train)\n",
    "\n",
    "# ------- Predict a range of values based on the models for visualization -------\n",
    "# Create 100 evenly spaced points from smallest X to largest X\n",
    "x_range = np.linspace(X.min(), X.max(), 100)\n",
    "\n",
    "# Predict y values for our set of X values\n",
    "y_lr = model1.predict(x_range.reshape(-1, 1)) # Linear regression\n",
    "y_svr = model2.predict(x_range.reshape(-1, 1)) # SVR"
   ]
  },
  {
   "cell_type": "code",
   "execution_count": 379,
   "id": "fc53a2be",
   "metadata": {
    "colab": {
     "base_uri": "https://localhost:8080/",
     "height": 542
    },
    "id": "fc53a2be",
    "outputId": "af021243-c5c2-4eaf-9d38-b3c5d397281e"
   },
   "outputs": [
    {
     "data": {
      "application/vnd.plotly.v1+json": {
       "config": {
        "plotlyServerURL": "https://plot.ly"
       },
       "data": [
        {
         "hovertemplate": "Year=%{x}<br>Wind (terawatt-hours)=%{y}<extra></extra>",
         "legendgroup": "",
         "marker": {
          "color": "black",
          "opacity": 0.8,
          "size": 3,
          "symbol": "circle"
         },
         "mode": "markers",
         "name": "",
         "orientation": "v",
         "showlegend": false,
         "type": "scatter",
         "x": [
          1990,
          1991,
          1992,
          1993,
          1994,
          1995,
          1996,
          1997,
          1998,
          1999,
          2000,
          2001,
          2002,
          2003,
          2004,
          2005,
          2006,
          2007,
          2008,
          2009,
          2010,
          2011,
          2012,
          2013,
          2014,
          2015,
          2016,
          2017
         ],
         "xaxis": "x",
         "y": [
          0.0303030303030299,
          0.11291,
          0.08847,
          0.09477,
          0.19128,
          0.49647,
          0.87838,
          0.988,
          1.079,
          1.446,
          1.582,
          2.085,
          2.085,
          2.60448,
          5.22543,
          5.991,
          9.3373,
          11.6828,
          14.3782,
          16.271,
          19.4564,
          23.9523,
          27.4326,
          30.0074,
          33.4549,
          32.74138,
          43.45283,
          52.62495
         ],
         "yaxis": "y"
        },
        {
         "line": {
          "color": "limegreen"
         },
         "marker": {
          "size": 3
         },
         "name": "Linear Regression",
         "type": "scatter",
         "x": [
          1990,
          1990.2727272727273,
          1990.5454545454545,
          1990.8181818181818,
          1991.090909090909,
          1991.3636363636363,
          1991.6363636363637,
          1991.909090909091,
          1992.1818181818182,
          1992.4545454545455,
          1992.7272727272727,
          1993,
          1993.2727272727273,
          1993.5454545454545,
          1993.8181818181818,
          1994.090909090909,
          1994.3636363636363,
          1994.6363636363637,
          1994.909090909091,
          1995.1818181818182,
          1995.4545454545455,
          1995.7272727272727,
          1996,
          1996.2727272727273,
          1996.5454545454545,
          1996.8181818181818,
          1997.090909090909,
          1997.3636363636363,
          1997.6363636363637,
          1997.909090909091,
          1998.1818181818182,
          1998.4545454545455,
          1998.7272727272727,
          1999,
          1999.2727272727273,
          1999.5454545454545,
          1999.8181818181818,
          2000.090909090909,
          2000.3636363636363,
          2000.6363636363637,
          2000.909090909091,
          2001.1818181818182,
          2001.4545454545455,
          2001.7272727272727,
          2002,
          2002.2727272727273,
          2002.5454545454545,
          2002.8181818181818,
          2003.090909090909,
          2003.3636363636363,
          2003.6363636363637,
          2003.909090909091,
          2004.1818181818182,
          2004.4545454545455,
          2004.7272727272727,
          2005,
          2005.2727272727273,
          2005.5454545454545,
          2005.8181818181818,
          2006.090909090909,
          2006.3636363636363,
          2006.6363636363637,
          2006.909090909091,
          2007.1818181818182,
          2007.4545454545455,
          2007.7272727272727,
          2008,
          2008.2727272727273,
          2008.5454545454545,
          2008.8181818181818,
          2009.090909090909,
          2009.3636363636363,
          2009.6363636363637,
          2009.909090909091,
          2010.1818181818182,
          2010.4545454545455,
          2010.7272727272727,
          2011,
          2011.2727272727273,
          2011.5454545454545,
          2011.8181818181818,
          2012.090909090909,
          2012.3636363636363,
          2012.6363636363637,
          2012.909090909091,
          2013.1818181818182,
          2013.4545454545455,
          2013.7272727272727,
          2014,
          2014.2727272727273,
          2014.5454545454545,
          2014.8181818181818,
          2015.090909090909,
          2015.3636363636363,
          2015.6363636363637,
          2015.909090909091,
          2016.1818181818182,
          2016.4545454545455,
          2016.7272727272727,
          2017
         ],
         "y": [
          -8.079728645224804,
          -7.673788882165809,
          -7.267849119107268,
          -6.861909356048727,
          -6.455969592989732,
          -6.050029829931191,
          -5.644090066872195,
          -5.2381503038132,
          -4.832210540754659,
          -4.426270777696118,
          -4.020331014637122,
          -3.6143912515785814,
          -3.2084514885200406,
          -2.802511725461045,
          -2.396571962402504,
          -1.9906321993435085,
          -1.5846924362849677,
          -1.178752673225972,
          -0.7728129101674313,
          -0.36687314710843566,
          0.03906661595010519,
          0.4450063790091008,
          0.8509461420676416,
          1.2568859051261825,
          1.662825668185178,
          2.068765431243719,
          2.4747051943022598,
          2.8806449573612554,
          3.286584720420251,
          3.692524483478792,
          4.098464246537787,
          4.504404009596328,
          4.910343772654869,
          5.316283535713865,
          5.7222232987724055,
          6.128163061831401,
          6.534102824889942,
          6.940042587948483,
          7.345982351007478,
          7.751922114066474,
          8.157861877125015,
          8.56380164018401,
          8.969741403242551,
          9.375681166301092,
          9.781620929360088,
          10.187560692418629,
          10.59350045547717,
          10.999440218536165,
          11.405379981594706,
          11.811319744653701,
          12.217259507712697,
          12.623199270771238,
          13.029139033829779,
          13.435078796888774,
          13.841018559947315,
          14.24695832300631,
          14.652898086064852,
          15.058837849123393,
          15.464777612182388,
          15.870717375240929,
          16.27665713829947,
          16.68259690135892,
          17.08853666441746,
          17.494476427476002,
          17.900416190534997,
          18.30635595359354,
          18.71229571665208,
          19.118235479711075,
          19.524175242769616,
          19.93011500582861,
          20.336054768887152,
          20.741994531945693,
          21.14793429500469,
          21.553874058063684,
          21.959813821122225,
          22.36575358418122,
          22.77169334723976,
          23.177633110298302,
          23.583572873357298,
          23.98951263641584,
          24.39545239947438,
          24.801392162533375,
          25.207331925591916,
          25.61327168865091,
          26.019211451709907,
          26.425151214768448,
          26.83109097782699,
          27.237030740885984,
          27.642970503944525,
          28.04891026700352,
          28.45485003006206,
          28.860789793120603,
          29.266729556179598,
          29.67266931923814,
          30.078609082297135,
          30.48454884535613,
          30.89048860841467,
          31.296428371473212,
          31.702368134532207,
          32.10830789759075
         ]
        },
        {
         "line": {
          "color": "red"
         },
         "marker": {
          "size": 3
         },
         "name": "Support Vector Regression",
         "type": "scatter",
         "x": [
          1990,
          1990.2727272727273,
          1990.5454545454545,
          1990.8181818181818,
          1991.090909090909,
          1991.3636363636363,
          1991.6363636363637,
          1991.909090909091,
          1992.1818181818182,
          1992.4545454545455,
          1992.7272727272727,
          1993,
          1993.2727272727273,
          1993.5454545454545,
          1993.8181818181818,
          1994.090909090909,
          1994.3636363636363,
          1994.6363636363637,
          1994.909090909091,
          1995.1818181818182,
          1995.4545454545455,
          1995.7272727272727,
          1996,
          1996.2727272727273,
          1996.5454545454545,
          1996.8181818181818,
          1997.090909090909,
          1997.3636363636363,
          1997.6363636363637,
          1997.909090909091,
          1998.1818181818182,
          1998.4545454545455,
          1998.7272727272727,
          1999,
          1999.2727272727273,
          1999.5454545454545,
          1999.8181818181818,
          2000.090909090909,
          2000.3636363636363,
          2000.6363636363637,
          2000.909090909091,
          2001.1818181818182,
          2001.4545454545455,
          2001.7272727272727,
          2002,
          2002.2727272727273,
          2002.5454545454545,
          2002.8181818181818,
          2003.090909090909,
          2003.3636363636363,
          2003.6363636363637,
          2003.909090909091,
          2004.1818181818182,
          2004.4545454545455,
          2004.7272727272727,
          2005,
          2005.2727272727273,
          2005.5454545454545,
          2005.8181818181818,
          2006.090909090909,
          2006.3636363636363,
          2006.6363636363637,
          2006.909090909091,
          2007.1818181818182,
          2007.4545454545455,
          2007.7272727272727,
          2008,
          2008.2727272727273,
          2008.5454545454545,
          2008.8181818181818,
          2009.090909090909,
          2009.3636363636363,
          2009.6363636363637,
          2009.909090909091,
          2010.1818181818182,
          2010.4545454545455,
          2010.7272727272727,
          2011,
          2011.2727272727273,
          2011.5454545454545,
          2011.8181818181818,
          2012.090909090909,
          2012.3636363636363,
          2012.6363636363637,
          2012.909090909091,
          2013.1818181818182,
          2013.4545454545455,
          2013.7272727272727,
          2014,
          2014.2727272727273,
          2014.5454545454545,
          2014.8181818181818,
          2015.090909090909,
          2015.3636363636363,
          2015.6363636363637,
          2015.909090909091,
          2016.1818181818182,
          2016.4545454545455,
          2016.7272727272727,
          2017
         ],
         "y": [
          5.0300080515229535,
          4.896577560508636,
          4.784868539403977,
          4.694407191074138,
          4.624551330439553,
          4.57450012815675,
          4.543306010463457,
          4.529888540928523,
          4.5330500756302765,
          4.55149295287236,
          4.583837952574459,
          4.628643739498498,
          4.684426988928987,
          4.749682883645468,
          4.822905667206864,
          4.9026089407843845,
          4.987345398975284,
          5.075725714018869,
          5.166436297309296,
          5.258255691634805,
          5.350069376630525,
          5.440882802894235,
          5.52983250636165,
          5.616195193100257,
          5.69939472482821,
          5.779006976337881,
          5.854762576726248,
          5.926547586031742,
          5.994402196696347,
          6.058517584394201,
          6.119231064433437,
          6.177019737447896,
          6.232492830848226,
          6.286382959978839,
          6.3395365447315815,
          6.392903623213902,
          6.447527303805138,
          6.504533090537649,
          6.565118304327166,
          6.630541804403766,
          6.702114190754807,
          6.781188640012708,
          6.8691524946539815,
          6.967419689400328,
          7.077424060199162,
          7.200613541081413,
          7.338445213587285,
          7.492381133406649,
          7.663884820519165,
          7.854418263561673,
          8.065439257494793,
          8.298398866931057,
          8.55473878669439,
          8.835888357146645,
          9.143260985282172,
          9.478249724090789,
          9.842221772608376,
          10.236511677571007,
          10.662413044607593,
          11.121168602157853,
          11.613958504258427,
          12.141886808236258,
          12.705966119185323,
          13.307100453685822,
          13.94606643911187,
          14.62349303054723,
          15.339839993029752,
          16.09537546081192,
          16.89015294569723,
          17.723988221447648,
          18.59643655896351,
          19.506770825723613,
          20.453960991307856,
          21.43665559737303,
          22.45316575416825,
          23.501452215711975,
          24.579116061756245,
          25.68339347643738,
          26.811155061398885,
          27.958910055797112,
          29.122815758002343,
          30.298692355377888,
          31.48204327098648,
          32.66808103146346,
          33.85175855088174,
          35.02780561372571,
          36.19077022862134,
          37.33506441603876,
          38.45501389034402,
          39.5449110020062,
          40.59907022187493,
          41.611885378466,
          42.577887803068684,
          43.49180449781551,
          44.34861541984284,
          45.14360897109316,
          45.872434798520324,
          46.53115304325986,
          47.11627922920516,
          47.6248240502432
         ]
        },
        {
         "line": {
          "color": "red",
          "dash": "dot"
         },
         "marker": {
          "size": 3
         },
         "name": "+epsilon",
         "type": "scatter",
         "x": [
          1990,
          1990.2727272727273,
          1990.5454545454545,
          1990.8181818181818,
          1991.090909090909,
          1991.3636363636363,
          1991.6363636363637,
          1991.909090909091,
          1992.1818181818182,
          1992.4545454545455,
          1992.7272727272727,
          1993,
          1993.2727272727273,
          1993.5454545454545,
          1993.8181818181818,
          1994.090909090909,
          1994.3636363636363,
          1994.6363636363637,
          1994.909090909091,
          1995.1818181818182,
          1995.4545454545455,
          1995.7272727272727,
          1996,
          1996.2727272727273,
          1996.5454545454545,
          1996.8181818181818,
          1997.090909090909,
          1997.3636363636363,
          1997.6363636363637,
          1997.909090909091,
          1998.1818181818182,
          1998.4545454545455,
          1998.7272727272727,
          1999,
          1999.2727272727273,
          1999.5454545454545,
          1999.8181818181818,
          2000.090909090909,
          2000.3636363636363,
          2000.6363636363637,
          2000.909090909091,
          2001.1818181818182,
          2001.4545454545455,
          2001.7272727272727,
          2002,
          2002.2727272727273,
          2002.5454545454545,
          2002.8181818181818,
          2003.090909090909,
          2003.3636363636363,
          2003.6363636363637,
          2003.909090909091,
          2004.1818181818182,
          2004.4545454545455,
          2004.7272727272727,
          2005,
          2005.2727272727273,
          2005.5454545454545,
          2005.8181818181818,
          2006.090909090909,
          2006.3636363636363,
          2006.6363636363637,
          2006.909090909091,
          2007.1818181818182,
          2007.4545454545455,
          2007.7272727272727,
          2008,
          2008.2727272727273,
          2008.5454545454545,
          2008.8181818181818,
          2009.090909090909,
          2009.3636363636363,
          2009.6363636363637,
          2009.909090909091,
          2010.1818181818182,
          2010.4545454545455,
          2010.7272727272727,
          2011,
          2011.2727272727273,
          2011.5454545454545,
          2011.8181818181818,
          2012.090909090909,
          2012.3636363636363,
          2012.6363636363637,
          2012.909090909091,
          2013.1818181818182,
          2013.4545454545455,
          2013.7272727272727,
          2014,
          2014.2727272727273,
          2014.5454545454545,
          2014.8181818181818,
          2015.090909090909,
          2015.3636363636363,
          2015.6363636363637,
          2015.909090909091,
          2016.1818181818182,
          2016.4545454545455,
          2016.7272727272727,
          2017
         ],
         "y": [
          10.030008051522953,
          9.896577560508636,
          9.784868539403977,
          9.694407191074138,
          9.624551330439553,
          9.57450012815675,
          9.543306010463457,
          9.529888540928523,
          9.533050075630277,
          9.55149295287236,
          9.58383795257446,
          9.628643739498498,
          9.684426988928987,
          9.749682883645468,
          9.822905667206864,
          9.902608940784384,
          9.987345398975284,
          10.07572571401887,
          10.166436297309296,
          10.258255691634805,
          10.350069376630525,
          10.440882802894235,
          10.52983250636165,
          10.616195193100257,
          10.69939472482821,
          10.77900697633788,
          10.854762576726248,
          10.926547586031742,
          10.994402196696347,
          11.0585175843942,
          11.119231064433437,
          11.177019737447896,
          11.232492830848226,
          11.28638295997884,
          11.339536544731581,
          11.392903623213902,
          11.447527303805138,
          11.504533090537649,
          11.565118304327166,
          11.630541804403766,
          11.702114190754807,
          11.781188640012708,
          11.869152494653981,
          11.967419689400328,
          12.077424060199162,
          12.200613541081413,
          12.338445213587285,
          12.49238113340665,
          12.663884820519165,
          12.854418263561673,
          13.065439257494793,
          13.298398866931057,
          13.55473878669439,
          13.835888357146645,
          14.143260985282172,
          14.478249724090789,
          14.842221772608376,
          15.236511677571007,
          15.662413044607593,
          16.12116860215785,
          16.613958504258427,
          17.141886808236258,
          17.705966119185323,
          18.30710045368582,
          18.94606643911187,
          19.62349303054723,
          20.339839993029752,
          21.09537546081192,
          21.89015294569723,
          22.723988221447648,
          23.59643655896351,
          24.506770825723613,
          25.453960991307856,
          26.43665559737303,
          27.45316575416825,
          28.501452215711975,
          29.579116061756245,
          30.68339347643738,
          31.811155061398885,
          32.95891005579711,
          34.122815758002346,
          35.29869235537789,
          36.48204327098648,
          37.66808103146346,
          38.85175855088174,
          40.02780561372571,
          41.19077022862134,
          42.33506441603876,
          43.45501389034402,
          44.5449110020062,
          45.59907022187493,
          46.611885378466,
          47.577887803068684,
          48.49180449781551,
          49.34861541984284,
          50.14360897109316,
          50.872434798520324,
          51.53115304325986,
          52.11627922920516,
          52.6248240502432
         ]
        },
        {
         "line": {
          "color": "red",
          "dash": "dot"
         },
         "marker": {
          "size": 3
         },
         "name": "-epsilon",
         "type": "scatter",
         "x": [
          1990,
          1990.2727272727273,
          1990.5454545454545,
          1990.8181818181818,
          1991.090909090909,
          1991.3636363636363,
          1991.6363636363637,
          1991.909090909091,
          1992.1818181818182,
          1992.4545454545455,
          1992.7272727272727,
          1993,
          1993.2727272727273,
          1993.5454545454545,
          1993.8181818181818,
          1994.090909090909,
          1994.3636363636363,
          1994.6363636363637,
          1994.909090909091,
          1995.1818181818182,
          1995.4545454545455,
          1995.7272727272727,
          1996,
          1996.2727272727273,
          1996.5454545454545,
          1996.8181818181818,
          1997.090909090909,
          1997.3636363636363,
          1997.6363636363637,
          1997.909090909091,
          1998.1818181818182,
          1998.4545454545455,
          1998.7272727272727,
          1999,
          1999.2727272727273,
          1999.5454545454545,
          1999.8181818181818,
          2000.090909090909,
          2000.3636363636363,
          2000.6363636363637,
          2000.909090909091,
          2001.1818181818182,
          2001.4545454545455,
          2001.7272727272727,
          2002,
          2002.2727272727273,
          2002.5454545454545,
          2002.8181818181818,
          2003.090909090909,
          2003.3636363636363,
          2003.6363636363637,
          2003.909090909091,
          2004.1818181818182,
          2004.4545454545455,
          2004.7272727272727,
          2005,
          2005.2727272727273,
          2005.5454545454545,
          2005.8181818181818,
          2006.090909090909,
          2006.3636363636363,
          2006.6363636363637,
          2006.909090909091,
          2007.1818181818182,
          2007.4545454545455,
          2007.7272727272727,
          2008,
          2008.2727272727273,
          2008.5454545454545,
          2008.8181818181818,
          2009.090909090909,
          2009.3636363636363,
          2009.6363636363637,
          2009.909090909091,
          2010.1818181818182,
          2010.4545454545455,
          2010.7272727272727,
          2011,
          2011.2727272727273,
          2011.5454545454545,
          2011.8181818181818,
          2012.090909090909,
          2012.3636363636363,
          2012.6363636363637,
          2012.909090909091,
          2013.1818181818182,
          2013.4545454545455,
          2013.7272727272727,
          2014,
          2014.2727272727273,
          2014.5454545454545,
          2014.8181818181818,
          2015.090909090909,
          2015.3636363636363,
          2015.6363636363637,
          2015.909090909091,
          2016.1818181818182,
          2016.4545454545455,
          2016.7272727272727,
          2017
         ],
         "y": [
          0.030008051522953494,
          -0.10342243949136432,
          -0.21513146059602306,
          -0.30559280892586216,
          -0.37544866956044665,
          -0.42549987184325033,
          -0.45669398953654294,
          -0.470111459071477,
          -0.4669499243697235,
          -0.4485070471276398,
          -0.41616204742554075,
          -0.3713562605015017,
          -0.3155730110710131,
          -0.25031711635453213,
          -0.17709433279313558,
          -0.09739105921561553,
          -0.012654601024715717,
          0.07572571401886918,
          0.16643629730929632,
          0.25825569163480466,
          0.3500693766305254,
          0.44088280289423487,
          0.5298325063616502,
          0.6161951931002569,
          0.6993947248282097,
          0.7790069763378806,
          0.8547625767262481,
          0.9265475860317416,
          0.9944021966963472,
          1.0585175843942007,
          1.1192310644334373,
          1.1770197374478961,
          1.2324928308482264,
          1.2863829599788392,
          1.3395365447315815,
          1.3929036232139023,
          1.4475273038051384,
          1.5045330905376488,
          1.5651183043271661,
          1.6305418044037658,
          1.7021141907548074,
          1.781188640012708,
          1.8691524946539815,
          1.9674196894003284,
          2.077424060199162,
          2.200613541081413,
          2.338445213587285,
          2.4923811334066492,
          2.663884820519165,
          2.854418263561673,
          3.065439257494793,
          3.2983988669310573,
          3.55473878669439,
          3.8358883571466453,
          4.143260985282172,
          4.478249724090789,
          4.842221772608376,
          5.236511677571007,
          5.662413044607593,
          6.121168602157853,
          6.613958504258427,
          7.141886808236258,
          7.705966119185323,
          8.307100453685822,
          8.94606643911187,
          9.62349303054723,
          10.339839993029752,
          11.095375460811919,
          11.890152945697231,
          12.723988221447648,
          13.59643655896351,
          14.506770825723613,
          15.453960991307856,
          16.43665559737303,
          17.45316575416825,
          18.501452215711975,
          19.579116061756245,
          20.68339347643738,
          21.811155061398885,
          22.958910055797112,
          24.122815758002343,
          25.298692355377888,
          26.48204327098648,
          27.66808103146346,
          28.85175855088174,
          30.02780561372571,
          31.19077022862134,
          32.33506441603876,
          33.45501389034402,
          34.5449110020062,
          35.59907022187493,
          36.611885378466,
          37.577887803068684,
          38.49180449781551,
          39.34861541984284,
          40.14360897109316,
          40.872434798520324,
          41.53115304325986,
          42.11627922920516,
          42.6248240502432
         ]
        }
       ],
       "layout": {
        "legend": {
         "tracegroupgap": 0
        },
        "margin": {
         "t": 60
        },
        "plot_bgcolor": "white",
        "template": {
         "data": {
          "bar": [
           {
            "error_x": {
             "color": "#2a3f5f"
            },
            "error_y": {
             "color": "#2a3f5f"
            },
            "marker": {
             "line": {
              "color": "#E5ECF6",
              "width": 0.5
             },
             "pattern": {
              "fillmode": "overlay",
              "size": 10,
              "solidity": 0.2
             }
            },
            "type": "bar"
           }
          ],
          "barpolar": [
           {
            "marker": {
             "line": {
              "color": "#E5ECF6",
              "width": 0.5
             },
             "pattern": {
              "fillmode": "overlay",
              "size": 10,
              "solidity": 0.2
             }
            },
            "type": "barpolar"
           }
          ],
          "carpet": [
           {
            "aaxis": {
             "endlinecolor": "#2a3f5f",
             "gridcolor": "white",
             "linecolor": "white",
             "minorgridcolor": "white",
             "startlinecolor": "#2a3f5f"
            },
            "baxis": {
             "endlinecolor": "#2a3f5f",
             "gridcolor": "white",
             "linecolor": "white",
             "minorgridcolor": "white",
             "startlinecolor": "#2a3f5f"
            },
            "type": "carpet"
           }
          ],
          "choropleth": [
           {
            "colorbar": {
             "outlinewidth": 0,
             "ticks": ""
            },
            "type": "choropleth"
           }
          ],
          "contour": [
           {
            "colorbar": {
             "outlinewidth": 0,
             "ticks": ""
            },
            "colorscale": [
             [
              0,
              "#0d0887"
             ],
             [
              0.1111111111111111,
              "#46039f"
             ],
             [
              0.2222222222222222,
              "#7201a8"
             ],
             [
              0.3333333333333333,
              "#9c179e"
             ],
             [
              0.4444444444444444,
              "#bd3786"
             ],
             [
              0.5555555555555556,
              "#d8576b"
             ],
             [
              0.6666666666666666,
              "#ed7953"
             ],
             [
              0.7777777777777778,
              "#fb9f3a"
             ],
             [
              0.8888888888888888,
              "#fdca26"
             ],
             [
              1,
              "#f0f921"
             ]
            ],
            "type": "contour"
           }
          ],
          "contourcarpet": [
           {
            "colorbar": {
             "outlinewidth": 0,
             "ticks": ""
            },
            "type": "contourcarpet"
           }
          ],
          "heatmap": [
           {
            "colorbar": {
             "outlinewidth": 0,
             "ticks": ""
            },
            "colorscale": [
             [
              0,
              "#0d0887"
             ],
             [
              0.1111111111111111,
              "#46039f"
             ],
             [
              0.2222222222222222,
              "#7201a8"
             ],
             [
              0.3333333333333333,
              "#9c179e"
             ],
             [
              0.4444444444444444,
              "#bd3786"
             ],
             [
              0.5555555555555556,
              "#d8576b"
             ],
             [
              0.6666666666666666,
              "#ed7953"
             ],
             [
              0.7777777777777778,
              "#fb9f3a"
             ],
             [
              0.8888888888888888,
              "#fdca26"
             ],
             [
              1,
              "#f0f921"
             ]
            ],
            "type": "heatmap"
           }
          ],
          "heatmapgl": [
           {
            "colorbar": {
             "outlinewidth": 0,
             "ticks": ""
            },
            "colorscale": [
             [
              0,
              "#0d0887"
             ],
             [
              0.1111111111111111,
              "#46039f"
             ],
             [
              0.2222222222222222,
              "#7201a8"
             ],
             [
              0.3333333333333333,
              "#9c179e"
             ],
             [
              0.4444444444444444,
              "#bd3786"
             ],
             [
              0.5555555555555556,
              "#d8576b"
             ],
             [
              0.6666666666666666,
              "#ed7953"
             ],
             [
              0.7777777777777778,
              "#fb9f3a"
             ],
             [
              0.8888888888888888,
              "#fdca26"
             ],
             [
              1,
              "#f0f921"
             ]
            ],
            "type": "heatmapgl"
           }
          ],
          "histogram": [
           {
            "marker": {
             "pattern": {
              "fillmode": "overlay",
              "size": 10,
              "solidity": 0.2
             }
            },
            "type": "histogram"
           }
          ],
          "histogram2d": [
           {
            "colorbar": {
             "outlinewidth": 0,
             "ticks": ""
            },
            "colorscale": [
             [
              0,
              "#0d0887"
             ],
             [
              0.1111111111111111,
              "#46039f"
             ],
             [
              0.2222222222222222,
              "#7201a8"
             ],
             [
              0.3333333333333333,
              "#9c179e"
             ],
             [
              0.4444444444444444,
              "#bd3786"
             ],
             [
              0.5555555555555556,
              "#d8576b"
             ],
             [
              0.6666666666666666,
              "#ed7953"
             ],
             [
              0.7777777777777778,
              "#fb9f3a"
             ],
             [
              0.8888888888888888,
              "#fdca26"
             ],
             [
              1,
              "#f0f921"
             ]
            ],
            "type": "histogram2d"
           }
          ],
          "histogram2dcontour": [
           {
            "colorbar": {
             "outlinewidth": 0,
             "ticks": ""
            },
            "colorscale": [
             [
              0,
              "#0d0887"
             ],
             [
              0.1111111111111111,
              "#46039f"
             ],
             [
              0.2222222222222222,
              "#7201a8"
             ],
             [
              0.3333333333333333,
              "#9c179e"
             ],
             [
              0.4444444444444444,
              "#bd3786"
             ],
             [
              0.5555555555555556,
              "#d8576b"
             ],
             [
              0.6666666666666666,
              "#ed7953"
             ],
             [
              0.7777777777777778,
              "#fb9f3a"
             ],
             [
              0.8888888888888888,
              "#fdca26"
             ],
             [
              1,
              "#f0f921"
             ]
            ],
            "type": "histogram2dcontour"
           }
          ],
          "mesh3d": [
           {
            "colorbar": {
             "outlinewidth": 0,
             "ticks": ""
            },
            "type": "mesh3d"
           }
          ],
          "parcoords": [
           {
            "line": {
             "colorbar": {
              "outlinewidth": 0,
              "ticks": ""
             }
            },
            "type": "parcoords"
           }
          ],
          "pie": [
           {
            "automargin": true,
            "type": "pie"
           }
          ],
          "scatter": [
           {
            "marker": {
             "colorbar": {
              "outlinewidth": 0,
              "ticks": ""
             }
            },
            "type": "scatter"
           }
          ],
          "scatter3d": [
           {
            "line": {
             "colorbar": {
              "outlinewidth": 0,
              "ticks": ""
             }
            },
            "marker": {
             "colorbar": {
              "outlinewidth": 0,
              "ticks": ""
             }
            },
            "type": "scatter3d"
           }
          ],
          "scattercarpet": [
           {
            "marker": {
             "colorbar": {
              "outlinewidth": 0,
              "ticks": ""
             }
            },
            "type": "scattercarpet"
           }
          ],
          "scattergeo": [
           {
            "marker": {
             "colorbar": {
              "outlinewidth": 0,
              "ticks": ""
             }
            },
            "type": "scattergeo"
           }
          ],
          "scattergl": [
           {
            "marker": {
             "colorbar": {
              "outlinewidth": 0,
              "ticks": ""
             }
            },
            "type": "scattergl"
           }
          ],
          "scattermapbox": [
           {
            "marker": {
             "colorbar": {
              "outlinewidth": 0,
              "ticks": ""
             }
            },
            "type": "scattermapbox"
           }
          ],
          "scatterpolar": [
           {
            "marker": {
             "colorbar": {
              "outlinewidth": 0,
              "ticks": ""
             }
            },
            "type": "scatterpolar"
           }
          ],
          "scatterpolargl": [
           {
            "marker": {
             "colorbar": {
              "outlinewidth": 0,
              "ticks": ""
             }
            },
            "type": "scatterpolargl"
           }
          ],
          "scatterternary": [
           {
            "marker": {
             "colorbar": {
              "outlinewidth": 0,
              "ticks": ""
             }
            },
            "type": "scatterternary"
           }
          ],
          "surface": [
           {
            "colorbar": {
             "outlinewidth": 0,
             "ticks": ""
            },
            "colorscale": [
             [
              0,
              "#0d0887"
             ],
             [
              0.1111111111111111,
              "#46039f"
             ],
             [
              0.2222222222222222,
              "#7201a8"
             ],
             [
              0.3333333333333333,
              "#9c179e"
             ],
             [
              0.4444444444444444,
              "#bd3786"
             ],
             [
              0.5555555555555556,
              "#d8576b"
             ],
             [
              0.6666666666666666,
              "#ed7953"
             ],
             [
              0.7777777777777778,
              "#fb9f3a"
             ],
             [
              0.8888888888888888,
              "#fdca26"
             ],
             [
              1,
              "#f0f921"
             ]
            ],
            "type": "surface"
           }
          ],
          "table": [
           {
            "cells": {
             "fill": {
              "color": "#EBF0F8"
             },
             "line": {
              "color": "white"
             }
            },
            "header": {
             "fill": {
              "color": "#C8D4E3"
             },
             "line": {
              "color": "white"
             }
            },
            "type": "table"
           }
          ]
         },
         "layout": {
          "annotationdefaults": {
           "arrowcolor": "#2a3f5f",
           "arrowhead": 0,
           "arrowwidth": 1
          },
          "autotypenumbers": "strict",
          "coloraxis": {
           "colorbar": {
            "outlinewidth": 0,
            "ticks": ""
           }
          },
          "colorscale": {
           "diverging": [
            [
             0,
             "#8e0152"
            ],
            [
             0.1,
             "#c51b7d"
            ],
            [
             0.2,
             "#de77ae"
            ],
            [
             0.3,
             "#f1b6da"
            ],
            [
             0.4,
             "#fde0ef"
            ],
            [
             0.5,
             "#f7f7f7"
            ],
            [
             0.6,
             "#e6f5d0"
            ],
            [
             0.7,
             "#b8e186"
            ],
            [
             0.8,
             "#7fbc41"
            ],
            [
             0.9,
             "#4d9221"
            ],
            [
             1,
             "#276419"
            ]
           ],
           "sequential": [
            [
             0,
             "#0d0887"
            ],
            [
             0.1111111111111111,
             "#46039f"
            ],
            [
             0.2222222222222222,
             "#7201a8"
            ],
            [
             0.3333333333333333,
             "#9c179e"
            ],
            [
             0.4444444444444444,
             "#bd3786"
            ],
            [
             0.5555555555555556,
             "#d8576b"
            ],
            [
             0.6666666666666666,
             "#ed7953"
            ],
            [
             0.7777777777777778,
             "#fb9f3a"
            ],
            [
             0.8888888888888888,
             "#fdca26"
            ],
            [
             1,
             "#f0f921"
            ]
           ],
           "sequentialminus": [
            [
             0,
             "#0d0887"
            ],
            [
             0.1111111111111111,
             "#46039f"
            ],
            [
             0.2222222222222222,
             "#7201a8"
            ],
            [
             0.3333333333333333,
             "#9c179e"
            ],
            [
             0.4444444444444444,
             "#bd3786"
            ],
            [
             0.5555555555555556,
             "#d8576b"
            ],
            [
             0.6666666666666666,
             "#ed7953"
            ],
            [
             0.7777777777777778,
             "#fb9f3a"
            ],
            [
             0.8888888888888888,
             "#fdca26"
            ],
            [
             1,
             "#f0f921"
            ]
           ]
          },
          "colorway": [
           "#636efa",
           "#EF553B",
           "#00cc96",
           "#ab63fa",
           "#FFA15A",
           "#19d3f3",
           "#FF6692",
           "#B6E880",
           "#FF97FF",
           "#FECB52"
          ],
          "font": {
           "color": "#2a3f5f"
          },
          "geo": {
           "bgcolor": "white",
           "lakecolor": "white",
           "landcolor": "#E5ECF6",
           "showlakes": true,
           "showland": true,
           "subunitcolor": "white"
          },
          "hoverlabel": {
           "align": "left"
          },
          "hovermode": "closest",
          "mapbox": {
           "style": "light"
          },
          "paper_bgcolor": "white",
          "plot_bgcolor": "#E5ECF6",
          "polar": {
           "angularaxis": {
            "gridcolor": "white",
            "linecolor": "white",
            "ticks": ""
           },
           "bgcolor": "#E5ECF6",
           "radialaxis": {
            "gridcolor": "white",
            "linecolor": "white",
            "ticks": ""
           }
          },
          "scene": {
           "xaxis": {
            "backgroundcolor": "#E5ECF6",
            "gridcolor": "white",
            "gridwidth": 2,
            "linecolor": "white",
            "showbackground": true,
            "ticks": "",
            "zerolinecolor": "white"
           },
           "yaxis": {
            "backgroundcolor": "#E5ECF6",
            "gridcolor": "white",
            "gridwidth": 2,
            "linecolor": "white",
            "showbackground": true,
            "ticks": "",
            "zerolinecolor": "white"
           },
           "zaxis": {
            "backgroundcolor": "#E5ECF6",
            "gridcolor": "white",
            "gridwidth": 2,
            "linecolor": "white",
            "showbackground": true,
            "ticks": "",
            "zerolinecolor": "white"
           }
          },
          "shapedefaults": {
           "line": {
            "color": "#2a3f5f"
           }
          },
          "ternary": {
           "aaxis": {
            "gridcolor": "white",
            "linecolor": "white",
            "ticks": ""
           },
           "baxis": {
            "gridcolor": "white",
            "linecolor": "white",
            "ticks": ""
           },
           "bgcolor": "#E5ECF6",
           "caxis": {
            "gridcolor": "white",
            "linecolor": "white",
            "ticks": ""
           }
          },
          "title": {
           "x": 0.05
          },
          "xaxis": {
           "automargin": true,
           "gridcolor": "white",
           "linecolor": "white",
           "ticks": "",
           "title": {
            "standoff": 15
           },
           "zerolinecolor": "white",
           "zerolinewidth": 2
          },
          "yaxis": {
           "automargin": true,
           "gridcolor": "white",
           "linecolor": "white",
           "ticks": "",
           "title": {
            "standoff": 15
           },
           "zerolinecolor": "white",
           "zerolinewidth": 2
          }
         }
        },
        "title": {
         "font": {
          "color": "black"
         },
         "text": "Wind Energy Consumption in India (epsilon=5, C=75)"
        },
        "xaxis": {
         "anchor": "y",
         "domain": [
          0,
          1
         ],
         "gridcolor": "lightgrey",
         "gridwidth": 1,
         "linecolor": "black",
         "linewidth": 1,
         "showgrid": true,
         "showline": true,
         "title": {
          "text": "Year"
         },
         "zeroline": true,
         "zerolinecolor": "lightgrey",
         "zerolinewidth": 1
        },
        "yaxis": {
         "anchor": "x",
         "domain": [
          0,
          1
         ],
         "gridcolor": "lightgrey",
         "gridwidth": 1,
         "linecolor": "black",
         "linewidth": 1,
         "showgrid": true,
         "showline": true,
         "title": {
          "text": "Wind (terawatt-hours)"
         },
         "zeroline": true,
         "zerolinecolor": "lightgrey",
         "zerolinewidth": 1
        }
       }
      },
      "text/html": [
       "<div>                            <div id=\"bad89bd2-6c7f-4622-b8bd-887c1710591a\" class=\"plotly-graph-div\" style=\"height:525px; width:100%;\"></div>            <script type=\"text/javascript\">                require([\"plotly\"], function(Plotly) {                    window.PLOTLYENV=window.PLOTLYENV || {};                                    if (document.getElementById(\"bad89bd2-6c7f-4622-b8bd-887c1710591a\")) {                    Plotly.newPlot(                        \"bad89bd2-6c7f-4622-b8bd-887c1710591a\",                        [{\"hovertemplate\":\"Year=%{x}<br>Wind (terawatt-hours)=%{y}<extra></extra>\",\"legendgroup\":\"\",\"marker\":{\"color\":\"black\",\"opacity\":0.8,\"symbol\":\"circle\",\"size\":3},\"mode\":\"markers\",\"name\":\"\",\"orientation\":\"v\",\"showlegend\":false,\"x\":[1990,1991,1992,1993,1994,1995,1996,1997,1998,1999,2000,2001,2002,2003,2004,2005,2006,2007,2008,2009,2010,2011,2012,2013,2014,2015,2016,2017],\"xaxis\":\"x\",\"y\":[0.0303030303030299,0.11291,0.08847,0.09477,0.19128,0.49647,0.87838,0.988,1.079,1.446,1.582,2.085,2.085,2.60448,5.22543,5.991,9.3373,11.6828,14.3782,16.271,19.4564,23.9523,27.4326,30.0074,33.4549,32.74138,43.45283,52.62495],\"yaxis\":\"y\",\"type\":\"scatter\"},{\"line\":{\"color\":\"limegreen\"},\"name\":\"Linear Regression\",\"x\":[1990.0,1990.2727272727273,1990.5454545454545,1990.8181818181818,1991.090909090909,1991.3636363636363,1991.6363636363637,1991.909090909091,1992.1818181818182,1992.4545454545455,1992.7272727272727,1993.0,1993.2727272727273,1993.5454545454545,1993.8181818181818,1994.090909090909,1994.3636363636363,1994.6363636363637,1994.909090909091,1995.1818181818182,1995.4545454545455,1995.7272727272727,1996.0,1996.2727272727273,1996.5454545454545,1996.8181818181818,1997.090909090909,1997.3636363636363,1997.6363636363637,1997.909090909091,1998.1818181818182,1998.4545454545455,1998.7272727272727,1999.0,1999.2727272727273,1999.5454545454545,1999.8181818181818,2000.090909090909,2000.3636363636363,2000.6363636363637,2000.909090909091,2001.1818181818182,2001.4545454545455,2001.7272727272727,2002.0,2002.2727272727273,2002.5454545454545,2002.8181818181818,2003.090909090909,2003.3636363636363,2003.6363636363637,2003.909090909091,2004.1818181818182,2004.4545454545455,2004.7272727272727,2005.0,2005.2727272727273,2005.5454545454545,2005.8181818181818,2006.090909090909,2006.3636363636363,2006.6363636363637,2006.909090909091,2007.1818181818182,2007.4545454545455,2007.7272727272727,2008.0,2008.2727272727273,2008.5454545454545,2008.8181818181818,2009.090909090909,2009.3636363636363,2009.6363636363637,2009.909090909091,2010.1818181818182,2010.4545454545455,2010.7272727272727,2011.0,2011.2727272727273,2011.5454545454545,2011.8181818181818,2012.090909090909,2012.3636363636363,2012.6363636363637,2012.909090909091,2013.1818181818182,2013.4545454545455,2013.7272727272727,2014.0,2014.2727272727273,2014.5454545454545,2014.8181818181818,2015.090909090909,2015.3636363636363,2015.6363636363637,2015.909090909091,2016.1818181818182,2016.4545454545455,2016.7272727272727,2017.0],\"y\":[-8.079728645224804,-7.673788882165809,-7.267849119107268,-6.861909356048727,-6.455969592989732,-6.050029829931191,-5.644090066872195,-5.2381503038132,-4.832210540754659,-4.426270777696118,-4.020331014637122,-3.6143912515785814,-3.2084514885200406,-2.802511725461045,-2.396571962402504,-1.9906321993435085,-1.5846924362849677,-1.178752673225972,-0.7728129101674313,-0.36687314710843566,0.03906661595010519,0.4450063790091008,0.8509461420676416,1.2568859051261825,1.662825668185178,2.068765431243719,2.4747051943022598,2.8806449573612554,3.286584720420251,3.692524483478792,4.098464246537787,4.504404009596328,4.910343772654869,5.316283535713865,5.7222232987724055,6.128163061831401,6.534102824889942,6.940042587948483,7.345982351007478,7.751922114066474,8.157861877125015,8.56380164018401,8.969741403242551,9.375681166301092,9.781620929360088,10.187560692418629,10.59350045547717,10.999440218536165,11.405379981594706,11.811319744653701,12.217259507712697,12.623199270771238,13.029139033829779,13.435078796888774,13.841018559947315,14.24695832300631,14.652898086064852,15.058837849123393,15.464777612182388,15.870717375240929,16.27665713829947,16.68259690135892,17.08853666441746,17.494476427476002,17.900416190534997,18.30635595359354,18.71229571665208,19.118235479711075,19.524175242769616,19.93011500582861,20.336054768887152,20.741994531945693,21.14793429500469,21.553874058063684,21.959813821122225,22.36575358418122,22.77169334723976,23.177633110298302,23.583572873357298,23.98951263641584,24.39545239947438,24.801392162533375,25.207331925591916,25.61327168865091,26.019211451709907,26.425151214768448,26.83109097782699,27.237030740885984,27.642970503944525,28.04891026700352,28.45485003006206,28.860789793120603,29.266729556179598,29.67266931923814,30.078609082297135,30.48454884535613,30.89048860841467,31.296428371473212,31.702368134532207,32.10830789759075],\"type\":\"scatter\",\"marker\":{\"size\":3}},{\"line\":{\"color\":\"red\"},\"name\":\"Support Vector Regression\",\"x\":[1990.0,1990.2727272727273,1990.5454545454545,1990.8181818181818,1991.090909090909,1991.3636363636363,1991.6363636363637,1991.909090909091,1992.1818181818182,1992.4545454545455,1992.7272727272727,1993.0,1993.2727272727273,1993.5454545454545,1993.8181818181818,1994.090909090909,1994.3636363636363,1994.6363636363637,1994.909090909091,1995.1818181818182,1995.4545454545455,1995.7272727272727,1996.0,1996.2727272727273,1996.5454545454545,1996.8181818181818,1997.090909090909,1997.3636363636363,1997.6363636363637,1997.909090909091,1998.1818181818182,1998.4545454545455,1998.7272727272727,1999.0,1999.2727272727273,1999.5454545454545,1999.8181818181818,2000.090909090909,2000.3636363636363,2000.6363636363637,2000.909090909091,2001.1818181818182,2001.4545454545455,2001.7272727272727,2002.0,2002.2727272727273,2002.5454545454545,2002.8181818181818,2003.090909090909,2003.3636363636363,2003.6363636363637,2003.909090909091,2004.1818181818182,2004.4545454545455,2004.7272727272727,2005.0,2005.2727272727273,2005.5454545454545,2005.8181818181818,2006.090909090909,2006.3636363636363,2006.6363636363637,2006.909090909091,2007.1818181818182,2007.4545454545455,2007.7272727272727,2008.0,2008.2727272727273,2008.5454545454545,2008.8181818181818,2009.090909090909,2009.3636363636363,2009.6363636363637,2009.909090909091,2010.1818181818182,2010.4545454545455,2010.7272727272727,2011.0,2011.2727272727273,2011.5454545454545,2011.8181818181818,2012.090909090909,2012.3636363636363,2012.6363636363637,2012.909090909091,2013.1818181818182,2013.4545454545455,2013.7272727272727,2014.0,2014.2727272727273,2014.5454545454545,2014.8181818181818,2015.090909090909,2015.3636363636363,2015.6363636363637,2015.909090909091,2016.1818181818182,2016.4545454545455,2016.7272727272727,2017.0],\"y\":[5.0300080515229535,4.896577560508636,4.784868539403977,4.694407191074138,4.624551330439553,4.57450012815675,4.543306010463457,4.529888540928523,4.5330500756302765,4.55149295287236,4.583837952574459,4.628643739498498,4.684426988928987,4.749682883645468,4.822905667206864,4.9026089407843845,4.987345398975284,5.075725714018869,5.166436297309296,5.258255691634805,5.350069376630525,5.440882802894235,5.52983250636165,5.616195193100257,5.69939472482821,5.779006976337881,5.854762576726248,5.926547586031742,5.994402196696347,6.058517584394201,6.119231064433437,6.177019737447896,6.232492830848226,6.286382959978839,6.3395365447315815,6.392903623213902,6.447527303805138,6.504533090537649,6.565118304327166,6.630541804403766,6.702114190754807,6.781188640012708,6.8691524946539815,6.967419689400328,7.077424060199162,7.200613541081413,7.338445213587285,7.492381133406649,7.663884820519165,7.854418263561673,8.065439257494793,8.298398866931057,8.55473878669439,8.835888357146645,9.143260985282172,9.478249724090789,9.842221772608376,10.236511677571007,10.662413044607593,11.121168602157853,11.613958504258427,12.141886808236258,12.705966119185323,13.307100453685822,13.94606643911187,14.62349303054723,15.339839993029752,16.09537546081192,16.89015294569723,17.723988221447648,18.59643655896351,19.506770825723613,20.453960991307856,21.43665559737303,22.45316575416825,23.501452215711975,24.579116061756245,25.68339347643738,26.811155061398885,27.958910055797112,29.122815758002343,30.298692355377888,31.48204327098648,32.66808103146346,33.85175855088174,35.02780561372571,36.19077022862134,37.33506441603876,38.45501389034402,39.5449110020062,40.59907022187493,41.611885378466,42.577887803068684,43.49180449781551,44.34861541984284,45.14360897109316,45.872434798520324,46.53115304325986,47.11627922920516,47.6248240502432],\"type\":\"scatter\",\"marker\":{\"size\":3}},{\"line\":{\"color\":\"red\",\"dash\":\"dot\"},\"name\":\"+epsilon\",\"x\":[1990.0,1990.2727272727273,1990.5454545454545,1990.8181818181818,1991.090909090909,1991.3636363636363,1991.6363636363637,1991.909090909091,1992.1818181818182,1992.4545454545455,1992.7272727272727,1993.0,1993.2727272727273,1993.5454545454545,1993.8181818181818,1994.090909090909,1994.3636363636363,1994.6363636363637,1994.909090909091,1995.1818181818182,1995.4545454545455,1995.7272727272727,1996.0,1996.2727272727273,1996.5454545454545,1996.8181818181818,1997.090909090909,1997.3636363636363,1997.6363636363637,1997.909090909091,1998.1818181818182,1998.4545454545455,1998.7272727272727,1999.0,1999.2727272727273,1999.5454545454545,1999.8181818181818,2000.090909090909,2000.3636363636363,2000.6363636363637,2000.909090909091,2001.1818181818182,2001.4545454545455,2001.7272727272727,2002.0,2002.2727272727273,2002.5454545454545,2002.8181818181818,2003.090909090909,2003.3636363636363,2003.6363636363637,2003.909090909091,2004.1818181818182,2004.4545454545455,2004.7272727272727,2005.0,2005.2727272727273,2005.5454545454545,2005.8181818181818,2006.090909090909,2006.3636363636363,2006.6363636363637,2006.909090909091,2007.1818181818182,2007.4545454545455,2007.7272727272727,2008.0,2008.2727272727273,2008.5454545454545,2008.8181818181818,2009.090909090909,2009.3636363636363,2009.6363636363637,2009.909090909091,2010.1818181818182,2010.4545454545455,2010.7272727272727,2011.0,2011.2727272727273,2011.5454545454545,2011.8181818181818,2012.090909090909,2012.3636363636363,2012.6363636363637,2012.909090909091,2013.1818181818182,2013.4545454545455,2013.7272727272727,2014.0,2014.2727272727273,2014.5454545454545,2014.8181818181818,2015.090909090909,2015.3636363636363,2015.6363636363637,2015.909090909091,2016.1818181818182,2016.4545454545455,2016.7272727272727,2017.0],\"y\":[10.030008051522953,9.896577560508636,9.784868539403977,9.694407191074138,9.624551330439553,9.57450012815675,9.543306010463457,9.529888540928523,9.533050075630277,9.55149295287236,9.58383795257446,9.628643739498498,9.684426988928987,9.749682883645468,9.822905667206864,9.902608940784384,9.987345398975284,10.07572571401887,10.166436297309296,10.258255691634805,10.350069376630525,10.440882802894235,10.52983250636165,10.616195193100257,10.69939472482821,10.77900697633788,10.854762576726248,10.926547586031742,10.994402196696347,11.0585175843942,11.119231064433437,11.177019737447896,11.232492830848226,11.28638295997884,11.339536544731581,11.392903623213902,11.447527303805138,11.504533090537649,11.565118304327166,11.630541804403766,11.702114190754807,11.781188640012708,11.869152494653981,11.967419689400328,12.077424060199162,12.200613541081413,12.338445213587285,12.49238113340665,12.663884820519165,12.854418263561673,13.065439257494793,13.298398866931057,13.55473878669439,13.835888357146645,14.143260985282172,14.478249724090789,14.842221772608376,15.236511677571007,15.662413044607593,16.12116860215785,16.613958504258427,17.141886808236258,17.705966119185323,18.30710045368582,18.94606643911187,19.62349303054723,20.339839993029752,21.09537546081192,21.89015294569723,22.723988221447648,23.59643655896351,24.506770825723613,25.453960991307856,26.43665559737303,27.45316575416825,28.501452215711975,29.579116061756245,30.68339347643738,31.811155061398885,32.95891005579711,34.122815758002346,35.29869235537789,36.48204327098648,37.66808103146346,38.85175855088174,40.02780561372571,41.19077022862134,42.33506441603876,43.45501389034402,44.5449110020062,45.59907022187493,46.611885378466,47.577887803068684,48.49180449781551,49.34861541984284,50.14360897109316,50.872434798520324,51.53115304325986,52.11627922920516,52.6248240502432],\"type\":\"scatter\",\"marker\":{\"size\":3}},{\"line\":{\"color\":\"red\",\"dash\":\"dot\"},\"name\":\"-epsilon\",\"x\":[1990.0,1990.2727272727273,1990.5454545454545,1990.8181818181818,1991.090909090909,1991.3636363636363,1991.6363636363637,1991.909090909091,1992.1818181818182,1992.4545454545455,1992.7272727272727,1993.0,1993.2727272727273,1993.5454545454545,1993.8181818181818,1994.090909090909,1994.3636363636363,1994.6363636363637,1994.909090909091,1995.1818181818182,1995.4545454545455,1995.7272727272727,1996.0,1996.2727272727273,1996.5454545454545,1996.8181818181818,1997.090909090909,1997.3636363636363,1997.6363636363637,1997.909090909091,1998.1818181818182,1998.4545454545455,1998.7272727272727,1999.0,1999.2727272727273,1999.5454545454545,1999.8181818181818,2000.090909090909,2000.3636363636363,2000.6363636363637,2000.909090909091,2001.1818181818182,2001.4545454545455,2001.7272727272727,2002.0,2002.2727272727273,2002.5454545454545,2002.8181818181818,2003.090909090909,2003.3636363636363,2003.6363636363637,2003.909090909091,2004.1818181818182,2004.4545454545455,2004.7272727272727,2005.0,2005.2727272727273,2005.5454545454545,2005.8181818181818,2006.090909090909,2006.3636363636363,2006.6363636363637,2006.909090909091,2007.1818181818182,2007.4545454545455,2007.7272727272727,2008.0,2008.2727272727273,2008.5454545454545,2008.8181818181818,2009.090909090909,2009.3636363636363,2009.6363636363637,2009.909090909091,2010.1818181818182,2010.4545454545455,2010.7272727272727,2011.0,2011.2727272727273,2011.5454545454545,2011.8181818181818,2012.090909090909,2012.3636363636363,2012.6363636363637,2012.909090909091,2013.1818181818182,2013.4545454545455,2013.7272727272727,2014.0,2014.2727272727273,2014.5454545454545,2014.8181818181818,2015.090909090909,2015.3636363636363,2015.6363636363637,2015.909090909091,2016.1818181818182,2016.4545454545455,2016.7272727272727,2017.0],\"y\":[0.030008051522953494,-0.10342243949136432,-0.21513146059602306,-0.30559280892586216,-0.37544866956044665,-0.42549987184325033,-0.45669398953654294,-0.470111459071477,-0.4669499243697235,-0.4485070471276398,-0.41616204742554075,-0.3713562605015017,-0.3155730110710131,-0.25031711635453213,-0.17709433279313558,-0.09739105921561553,-0.012654601024715717,0.07572571401886918,0.16643629730929632,0.25825569163480466,0.3500693766305254,0.44088280289423487,0.5298325063616502,0.6161951931002569,0.6993947248282097,0.7790069763378806,0.8547625767262481,0.9265475860317416,0.9944021966963472,1.0585175843942007,1.1192310644334373,1.1770197374478961,1.2324928308482264,1.2863829599788392,1.3395365447315815,1.3929036232139023,1.4475273038051384,1.5045330905376488,1.5651183043271661,1.6305418044037658,1.7021141907548074,1.781188640012708,1.8691524946539815,1.9674196894003284,2.077424060199162,2.200613541081413,2.338445213587285,2.4923811334066492,2.663884820519165,2.854418263561673,3.065439257494793,3.2983988669310573,3.55473878669439,3.8358883571466453,4.143260985282172,4.478249724090789,4.842221772608376,5.236511677571007,5.662413044607593,6.121168602157853,6.613958504258427,7.141886808236258,7.705966119185323,8.307100453685822,8.94606643911187,9.62349303054723,10.339839993029752,11.095375460811919,11.890152945697231,12.723988221447648,13.59643655896351,14.506770825723613,15.453960991307856,16.43665559737303,17.45316575416825,18.501452215711975,19.579116061756245,20.68339347643738,21.811155061398885,22.958910055797112,24.122815758002343,25.298692355377888,26.48204327098648,27.66808103146346,28.85175855088174,30.02780561372571,31.19077022862134,32.33506441603876,33.45501389034402,34.5449110020062,35.59907022187493,36.611885378466,37.577887803068684,38.49180449781551,39.34861541984284,40.14360897109316,40.872434798520324,41.53115304325986,42.11627922920516,42.6248240502432],\"type\":\"scatter\",\"marker\":{\"size\":3}}],                        {\"template\":{\"data\":{\"bar\":[{\"error_x\":{\"color\":\"#2a3f5f\"},\"error_y\":{\"color\":\"#2a3f5f\"},\"marker\":{\"line\":{\"color\":\"#E5ECF6\",\"width\":0.5},\"pattern\":{\"fillmode\":\"overlay\",\"size\":10,\"solidity\":0.2}},\"type\":\"bar\"}],\"barpolar\":[{\"marker\":{\"line\":{\"color\":\"#E5ECF6\",\"width\":0.5},\"pattern\":{\"fillmode\":\"overlay\",\"size\":10,\"solidity\":0.2}},\"type\":\"barpolar\"}],\"carpet\":[{\"aaxis\":{\"endlinecolor\":\"#2a3f5f\",\"gridcolor\":\"white\",\"linecolor\":\"white\",\"minorgridcolor\":\"white\",\"startlinecolor\":\"#2a3f5f\"},\"baxis\":{\"endlinecolor\":\"#2a3f5f\",\"gridcolor\":\"white\",\"linecolor\":\"white\",\"minorgridcolor\":\"white\",\"startlinecolor\":\"#2a3f5f\"},\"type\":\"carpet\"}],\"choropleth\":[{\"colorbar\":{\"outlinewidth\":0,\"ticks\":\"\"},\"type\":\"choropleth\"}],\"contour\":[{\"colorbar\":{\"outlinewidth\":0,\"ticks\":\"\"},\"colorscale\":[[0.0,\"#0d0887\"],[0.1111111111111111,\"#46039f\"],[0.2222222222222222,\"#7201a8\"],[0.3333333333333333,\"#9c179e\"],[0.4444444444444444,\"#bd3786\"],[0.5555555555555556,\"#d8576b\"],[0.6666666666666666,\"#ed7953\"],[0.7777777777777778,\"#fb9f3a\"],[0.8888888888888888,\"#fdca26\"],[1.0,\"#f0f921\"]],\"type\":\"contour\"}],\"contourcarpet\":[{\"colorbar\":{\"outlinewidth\":0,\"ticks\":\"\"},\"type\":\"contourcarpet\"}],\"heatmap\":[{\"colorbar\":{\"outlinewidth\":0,\"ticks\":\"\"},\"colorscale\":[[0.0,\"#0d0887\"],[0.1111111111111111,\"#46039f\"],[0.2222222222222222,\"#7201a8\"],[0.3333333333333333,\"#9c179e\"],[0.4444444444444444,\"#bd3786\"],[0.5555555555555556,\"#d8576b\"],[0.6666666666666666,\"#ed7953\"],[0.7777777777777778,\"#fb9f3a\"],[0.8888888888888888,\"#fdca26\"],[1.0,\"#f0f921\"]],\"type\":\"heatmap\"}],\"heatmapgl\":[{\"colorbar\":{\"outlinewidth\":0,\"ticks\":\"\"},\"colorscale\":[[0.0,\"#0d0887\"],[0.1111111111111111,\"#46039f\"],[0.2222222222222222,\"#7201a8\"],[0.3333333333333333,\"#9c179e\"],[0.4444444444444444,\"#bd3786\"],[0.5555555555555556,\"#d8576b\"],[0.6666666666666666,\"#ed7953\"],[0.7777777777777778,\"#fb9f3a\"],[0.8888888888888888,\"#fdca26\"],[1.0,\"#f0f921\"]],\"type\":\"heatmapgl\"}],\"histogram\":[{\"marker\":{\"pattern\":{\"fillmode\":\"overlay\",\"size\":10,\"solidity\":0.2}},\"type\":\"histogram\"}],\"histogram2d\":[{\"colorbar\":{\"outlinewidth\":0,\"ticks\":\"\"},\"colorscale\":[[0.0,\"#0d0887\"],[0.1111111111111111,\"#46039f\"],[0.2222222222222222,\"#7201a8\"],[0.3333333333333333,\"#9c179e\"],[0.4444444444444444,\"#bd3786\"],[0.5555555555555556,\"#d8576b\"],[0.6666666666666666,\"#ed7953\"],[0.7777777777777778,\"#fb9f3a\"],[0.8888888888888888,\"#fdca26\"],[1.0,\"#f0f921\"]],\"type\":\"histogram2d\"}],\"histogram2dcontour\":[{\"colorbar\":{\"outlinewidth\":0,\"ticks\":\"\"},\"colorscale\":[[0.0,\"#0d0887\"],[0.1111111111111111,\"#46039f\"],[0.2222222222222222,\"#7201a8\"],[0.3333333333333333,\"#9c179e\"],[0.4444444444444444,\"#bd3786\"],[0.5555555555555556,\"#d8576b\"],[0.6666666666666666,\"#ed7953\"],[0.7777777777777778,\"#fb9f3a\"],[0.8888888888888888,\"#fdca26\"],[1.0,\"#f0f921\"]],\"type\":\"histogram2dcontour\"}],\"mesh3d\":[{\"colorbar\":{\"outlinewidth\":0,\"ticks\":\"\"},\"type\":\"mesh3d\"}],\"parcoords\":[{\"line\":{\"colorbar\":{\"outlinewidth\":0,\"ticks\":\"\"}},\"type\":\"parcoords\"}],\"pie\":[{\"automargin\":true,\"type\":\"pie\"}],\"scatter\":[{\"marker\":{\"colorbar\":{\"outlinewidth\":0,\"ticks\":\"\"}},\"type\":\"scatter\"}],\"scatter3d\":[{\"line\":{\"colorbar\":{\"outlinewidth\":0,\"ticks\":\"\"}},\"marker\":{\"colorbar\":{\"outlinewidth\":0,\"ticks\":\"\"}},\"type\":\"scatter3d\"}],\"scattercarpet\":[{\"marker\":{\"colorbar\":{\"outlinewidth\":0,\"ticks\":\"\"}},\"type\":\"scattercarpet\"}],\"scattergeo\":[{\"marker\":{\"colorbar\":{\"outlinewidth\":0,\"ticks\":\"\"}},\"type\":\"scattergeo\"}],\"scattergl\":[{\"marker\":{\"colorbar\":{\"outlinewidth\":0,\"ticks\":\"\"}},\"type\":\"scattergl\"}],\"scattermapbox\":[{\"marker\":{\"colorbar\":{\"outlinewidth\":0,\"ticks\":\"\"}},\"type\":\"scattermapbox\"}],\"scatterpolar\":[{\"marker\":{\"colorbar\":{\"outlinewidth\":0,\"ticks\":\"\"}},\"type\":\"scatterpolar\"}],\"scatterpolargl\":[{\"marker\":{\"colorbar\":{\"outlinewidth\":0,\"ticks\":\"\"}},\"type\":\"scatterpolargl\"}],\"scatterternary\":[{\"marker\":{\"colorbar\":{\"outlinewidth\":0,\"ticks\":\"\"}},\"type\":\"scatterternary\"}],\"surface\":[{\"colorbar\":{\"outlinewidth\":0,\"ticks\":\"\"},\"colorscale\":[[0.0,\"#0d0887\"],[0.1111111111111111,\"#46039f\"],[0.2222222222222222,\"#7201a8\"],[0.3333333333333333,\"#9c179e\"],[0.4444444444444444,\"#bd3786\"],[0.5555555555555556,\"#d8576b\"],[0.6666666666666666,\"#ed7953\"],[0.7777777777777778,\"#fb9f3a\"],[0.8888888888888888,\"#fdca26\"],[1.0,\"#f0f921\"]],\"type\":\"surface\"}],\"table\":[{\"cells\":{\"fill\":{\"color\":\"#EBF0F8\"},\"line\":{\"color\":\"white\"}},\"header\":{\"fill\":{\"color\":\"#C8D4E3\"},\"line\":{\"color\":\"white\"}},\"type\":\"table\"}]},\"layout\":{\"annotationdefaults\":{\"arrowcolor\":\"#2a3f5f\",\"arrowhead\":0,\"arrowwidth\":1},\"autotypenumbers\":\"strict\",\"coloraxis\":{\"colorbar\":{\"outlinewidth\":0,\"ticks\":\"\"}},\"colorscale\":{\"diverging\":[[0,\"#8e0152\"],[0.1,\"#c51b7d\"],[0.2,\"#de77ae\"],[0.3,\"#f1b6da\"],[0.4,\"#fde0ef\"],[0.5,\"#f7f7f7\"],[0.6,\"#e6f5d0\"],[0.7,\"#b8e186\"],[0.8,\"#7fbc41\"],[0.9,\"#4d9221\"],[1,\"#276419\"]],\"sequential\":[[0.0,\"#0d0887\"],[0.1111111111111111,\"#46039f\"],[0.2222222222222222,\"#7201a8\"],[0.3333333333333333,\"#9c179e\"],[0.4444444444444444,\"#bd3786\"],[0.5555555555555556,\"#d8576b\"],[0.6666666666666666,\"#ed7953\"],[0.7777777777777778,\"#fb9f3a\"],[0.8888888888888888,\"#fdca26\"],[1.0,\"#f0f921\"]],\"sequentialminus\":[[0.0,\"#0d0887\"],[0.1111111111111111,\"#46039f\"],[0.2222222222222222,\"#7201a8\"],[0.3333333333333333,\"#9c179e\"],[0.4444444444444444,\"#bd3786\"],[0.5555555555555556,\"#d8576b\"],[0.6666666666666666,\"#ed7953\"],[0.7777777777777778,\"#fb9f3a\"],[0.8888888888888888,\"#fdca26\"],[1.0,\"#f0f921\"]]},\"colorway\":[\"#636efa\",\"#EF553B\",\"#00cc96\",\"#ab63fa\",\"#FFA15A\",\"#19d3f3\",\"#FF6692\",\"#B6E880\",\"#FF97FF\",\"#FECB52\"],\"font\":{\"color\":\"#2a3f5f\"},\"geo\":{\"bgcolor\":\"white\",\"lakecolor\":\"white\",\"landcolor\":\"#E5ECF6\",\"showlakes\":true,\"showland\":true,\"subunitcolor\":\"white\"},\"hoverlabel\":{\"align\":\"left\"},\"hovermode\":\"closest\",\"mapbox\":{\"style\":\"light\"},\"paper_bgcolor\":\"white\",\"plot_bgcolor\":\"#E5ECF6\",\"polar\":{\"angularaxis\":{\"gridcolor\":\"white\",\"linecolor\":\"white\",\"ticks\":\"\"},\"bgcolor\":\"#E5ECF6\",\"radialaxis\":{\"gridcolor\":\"white\",\"linecolor\":\"white\",\"ticks\":\"\"}},\"scene\":{\"xaxis\":{\"backgroundcolor\":\"#E5ECF6\",\"gridcolor\":\"white\",\"gridwidth\":2,\"linecolor\":\"white\",\"showbackground\":true,\"ticks\":\"\",\"zerolinecolor\":\"white\"},\"yaxis\":{\"backgroundcolor\":\"#E5ECF6\",\"gridcolor\":\"white\",\"gridwidth\":2,\"linecolor\":\"white\",\"showbackground\":true,\"ticks\":\"\",\"zerolinecolor\":\"white\"},\"zaxis\":{\"backgroundcolor\":\"#E5ECF6\",\"gridcolor\":\"white\",\"gridwidth\":2,\"linecolor\":\"white\",\"showbackground\":true,\"ticks\":\"\",\"zerolinecolor\":\"white\"}},\"shapedefaults\":{\"line\":{\"color\":\"#2a3f5f\"}},\"ternary\":{\"aaxis\":{\"gridcolor\":\"white\",\"linecolor\":\"white\",\"ticks\":\"\"},\"baxis\":{\"gridcolor\":\"white\",\"linecolor\":\"white\",\"ticks\":\"\"},\"bgcolor\":\"#E5ECF6\",\"caxis\":{\"gridcolor\":\"white\",\"linecolor\":\"white\",\"ticks\":\"\"}},\"title\":{\"x\":0.05},\"xaxis\":{\"automargin\":true,\"gridcolor\":\"white\",\"linecolor\":\"white\",\"ticks\":\"\",\"title\":{\"standoff\":15},\"zerolinecolor\":\"white\",\"zerolinewidth\":2},\"yaxis\":{\"automargin\":true,\"gridcolor\":\"white\",\"linecolor\":\"white\",\"ticks\":\"\",\"title\":{\"standoff\":15},\"zerolinecolor\":\"white\",\"zerolinewidth\":2}}},\"xaxis\":{\"anchor\":\"y\",\"domain\":[0.0,1.0],\"title\":{\"text\":\"Year\"},\"showgrid\":true,\"gridwidth\":1,\"gridcolor\":\"lightgrey\",\"zeroline\":true,\"zerolinewidth\":1,\"zerolinecolor\":\"lightgrey\",\"showline\":true,\"linewidth\":1,\"linecolor\":\"black\"},\"yaxis\":{\"anchor\":\"x\",\"domain\":[0.0,1.0],\"title\":{\"text\":\"Wind (terawatt-hours)\"},\"showgrid\":true,\"gridwidth\":1,\"gridcolor\":\"lightgrey\",\"zeroline\":true,\"zerolinewidth\":1,\"zerolinecolor\":\"lightgrey\",\"showline\":true,\"linewidth\":1,\"linecolor\":\"black\"},\"legend\":{\"tracegroupgap\":0},\"margin\":{\"t\":60},\"plot_bgcolor\":\"white\",\"title\":{\"font\":{\"color\":\"black\"},\"text\":\"Wind Energy Consumption in India (epsilon=5, C=75)\"}},                        {\"responsive\": true}                    ).then(function(){\n",
       "                            \n",
       "var gd = document.getElementById('bad89bd2-6c7f-4622-b8bd-887c1710591a');\n",
       "var x = new MutationObserver(function (mutations, observer) {{\n",
       "        var display = window.getComputedStyle(gd).display;\n",
       "        if (!display || display === 'none') {{\n",
       "            console.log([gd, 'removed!']);\n",
       "            Plotly.purge(gd);\n",
       "            observer.disconnect();\n",
       "        }}\n",
       "}});\n",
       "\n",
       "// Listen for the removal of the full notebook cells\n",
       "var notebookContainer = gd.closest('#notebook-container');\n",
       "if (notebookContainer) {{\n",
       "    x.observe(notebookContainer, {childList: true});\n",
       "}}\n",
       "\n",
       "// Listen for the clearing of the current output cell\n",
       "var outputEl = gd.closest('.output');\n",
       "if (outputEl) {{\n",
       "    x.observe(outputEl, {childList: true});\n",
       "}}\n",
       "\n",
       "                        })                };                });            </script>        </div>"
      ]
     },
     "metadata": {},
     "output_type": "display_data"
    }
   ],
   "source": [
    "# Create a scatter plot\n",
    "fig = px.scatter(df, x=df['Year'], y=df['Wind (terawatt-hours)'], \n",
    "                 opacity=0.8, color_discrete_sequence=['black'])\n",
    "# Add a best-fit line\n",
    "fig.add_traces(go.Scatter(x=x_range, y=y_lr, name='Linear Regression', line=dict(color='limegreen')))\n",
    "fig.add_traces(go.Scatter(x=x_range, y=y_svr, name='Support Vector Regression', line=dict(color='red')))\n",
    "fig.add_traces(go.Scatter(x=x_range, y=y_svr+5, name='+epsilon', line=dict(color='red', dash='dot')))\n",
    "fig.add_traces(go.Scatter(x=x_range, y=y_svr-5, name='-epsilon', line=dict(color='red', dash='dot')))\n",
    "\n",
    "# Change chart background color\n",
    "fig.update_layout(dict(plot_bgcolor = 'white'))\n",
    "\n",
    "# Update axes lines\n",
    "fig.update_xaxes(showgrid=True, gridwidth=1, gridcolor='lightgrey', \n",
    "                 zeroline=True, zerolinewidth=1, zerolinecolor='lightgrey', \n",
    "                 showline=True, linewidth=1, linecolor='black')\n",
    "\n",
    "fig.update_yaxes(showgrid=True, gridwidth=1, gridcolor='lightgrey', \n",
    "                 zeroline=True, zerolinewidth=1, zerolinecolor='lightgrey', \n",
    "                 showline=True, linewidth=1, linecolor='black')\n",
    "\n",
    "# Set figure title\n",
    "fig.update_layout(title=dict(text=\"Wind Energy Consumption in India (epsilon=5, C=75)\", \n",
    "                             font=dict(color='black')))\n",
    "\n",
    "# Update marker size\n",
    "fig.update_traces(marker=dict(size=3))\n",
    "\n",
    "fig.show()"
   ]
  },
  {
   "cell_type": "code",
   "execution_count": 380,
   "id": "e1e3f942",
   "metadata": {
    "colab": {
     "base_uri": "https://localhost:8080/"
    },
    "id": "e1e3f942",
    "outputId": "67d07cf0-9a01-4af7-db76-e38ca0c6302a"
   },
   "outputs": [
    {
     "data": {
      "text/plain": [
       "array([ 6.28638296, 45.39410634, 25.68339348,  7.07742406,  5.19697693,\n",
       "        6.72757089, 42.26141856, 29.9056747 ,  5.52983251])"
      ]
     },
     "execution_count": 380,
     "metadata": {},
     "output_type": "execute_result"
    }
   ],
   "source": [
    "#5 Predicting a new result\n",
    "y_pred = svr.predict(X_test)\n",
    "y_pred"
   ]
  },
  {
   "cell_type": "code",
   "execution_count": 381,
   "id": "f1452cc4",
   "metadata": {
    "colab": {
     "base_uri": "https://localhost:8080/"
    },
    "id": "f1452cc4",
    "outputId": "884ff644-fd7e-4740-8b1c-f9d65a0ad88d"
   },
   "outputs": [
    {
     "name": "stdout",
     "output_type": "stream",
     "text": [
      "R squared: 91.38\n",
      "Mean Squared Error is:  24.12781296914256\n",
      "Root Mean Squared Error is:  4.912007020469592\n"
     ]
    }
   ],
   "source": [
    "mse = metrics.mean_squared_error(y_test, y_pred)\n",
    "rmse = np.sqrt(mse)\n",
    "print('R squared: {:.2f}'.format(svr.score(X,y)*100))\n",
    "print(\"Mean Squared Error is: \", mse)\n",
    "print(\"Root Mean Squared Error is: \", rmse)"
   ]
  },
  {
   "cell_type": "code",
   "execution_count": 382,
   "id": "0b32fc3b",
   "metadata": {
    "colab": {
     "base_uri": "https://localhost:8080/",
     "height": 328
    },
    "id": "0b32fc3b",
    "outputId": "4405546f-aec9-4aee-860c-9df481fcb885"
   },
   "outputs": [
    {
     "data": {
      "text/html": [
       "<div>\n",
       "<style scoped>\n",
       "    .dataframe tbody tr th:only-of-type {\n",
       "        vertical-align: middle;\n",
       "    }\n",
       "\n",
       "    .dataframe tbody tr th {\n",
       "        vertical-align: top;\n",
       "    }\n",
       "\n",
       "    .dataframe thead th {\n",
       "        text-align: right;\n",
       "    }\n",
       "</style>\n",
       "<table border=\"1\" class=\"dataframe\">\n",
       "  <thead>\n",
       "    <tr style=\"text-align: right;\">\n",
       "      <th></th>\n",
       "      <th>Predicted</th>\n",
       "      <th>Actual</th>\n",
       "    </tr>\n",
       "  </thead>\n",
       "  <tbody>\n",
       "    <tr>\n",
       "      <th>0</th>\n",
       "      <td>6.286383</td>\n",
       "      <td>1.44600</td>\n",
       "    </tr>\n",
       "    <tr>\n",
       "      <th>1</th>\n",
       "      <td>45.394106</td>\n",
       "      <td>43.45283</td>\n",
       "    </tr>\n",
       "    <tr>\n",
       "      <th>2</th>\n",
       "      <td>25.683393</td>\n",
       "      <td>23.95230</td>\n",
       "    </tr>\n",
       "    <tr>\n",
       "      <th>3</th>\n",
       "      <td>7.077424</td>\n",
       "      <td>2.08500</td>\n",
       "    </tr>\n",
       "    <tr>\n",
       "      <th>4</th>\n",
       "      <td>5.196977</td>\n",
       "      <td>0.49647</td>\n",
       "    </tr>\n",
       "    <tr>\n",
       "      <th>5</th>\n",
       "      <td>6.727571</td>\n",
       "      <td>2.08500</td>\n",
       "    </tr>\n",
       "    <tr>\n",
       "      <th>6</th>\n",
       "      <td>42.261419</td>\n",
       "      <td>32.74138</td>\n",
       "    </tr>\n",
       "    <tr>\n",
       "      <th>7</th>\n",
       "      <td>29.905675</td>\n",
       "      <td>27.43260</td>\n",
       "    </tr>\n",
       "    <tr>\n",
       "      <th>8</th>\n",
       "      <td>5.529833</td>\n",
       "      <td>0.87838</td>\n",
       "    </tr>\n",
       "  </tbody>\n",
       "</table>\n",
       "</div>"
      ],
      "text/plain": [
       "   Predicted    Actual\n",
       "0   6.286383   1.44600\n",
       "1  45.394106  43.45283\n",
       "2  25.683393  23.95230\n",
       "3   7.077424   2.08500\n",
       "4   5.196977   0.49647\n",
       "5   6.727571   2.08500\n",
       "6  42.261419  32.74138\n",
       "7  29.905675  27.43260\n",
       "8   5.529833   0.87838"
      ]
     },
     "execution_count": 382,
     "metadata": {},
     "output_type": "execute_result"
    }
   ],
   "source": [
    "data = {'Predicted':y_pred, 'Actual':y_test}\n",
    "\n",
    "comparison = pd.DataFrame(data)\n",
    "comparison"
   ]
  },
  {
   "cell_type": "code",
   "execution_count": 383,
   "id": "dee858a8",
   "metadata": {
    "colab": {
     "base_uri": "https://localhost:8080/"
    },
    "id": "dee858a8",
    "outputId": "c5e9cf2c-1cf7-4c5d-af59-733cfa4403cf"
   },
   "outputs": [
    {
     "data": {
      "text/plain": [
       "array([ 5.31628354, 30.6198621 , 23.17763311,  9.78162093, -0.63749966,\n",
       "        8.29317513, 29.1314163 , 24.66607891,  0.85094614])"
      ]
     },
     "execution_count": 383,
     "metadata": {},
     "output_type": "execute_result"
    }
   ],
   "source": [
    "#5 Predicting a new result\n",
    "y_pred = lr.predict(X_test)\n",
    "y_pred"
   ]
  },
  {
   "cell_type": "code",
   "execution_count": 384,
   "id": "11c977f7",
   "metadata": {},
   "outputs": [
    {
     "name": "stdout",
     "output_type": "stream",
     "text": [
      "R squared: 79.16\n",
      "Mean Squared Error is:  33.3350886011738\n",
      "Root Mean Squared Error is:  5.773654700549194\n"
     ]
    }
   ],
   "source": [
    "mse = metrics.mean_squared_error(y_test, y_pred)\n",
    "rmse = np.sqrt(mse)\n",
    "print('R squared: {:.2f}'.format(lr.score(X,y)*100))\n",
    "print(\"Mean Squared Error is: \", mse)\n",
    "print(\"Root Mean Squared Error is: \", rmse)"
   ]
  },
  {
   "cell_type": "code",
   "execution_count": 385,
   "id": "cee2752d",
   "metadata": {},
   "outputs": [
    {
     "data": {
      "text/html": [
       "<div>\n",
       "<style scoped>\n",
       "    .dataframe tbody tr th:only-of-type {\n",
       "        vertical-align: middle;\n",
       "    }\n",
       "\n",
       "    .dataframe tbody tr th {\n",
       "        vertical-align: top;\n",
       "    }\n",
       "\n",
       "    .dataframe thead th {\n",
       "        text-align: right;\n",
       "    }\n",
       "</style>\n",
       "<table border=\"1\" class=\"dataframe\">\n",
       "  <thead>\n",
       "    <tr style=\"text-align: right;\">\n",
       "      <th></th>\n",
       "      <th>Predicted</th>\n",
       "      <th>Actual</th>\n",
       "    </tr>\n",
       "  </thead>\n",
       "  <tbody>\n",
       "    <tr>\n",
       "      <th>0</th>\n",
       "      <td>5.316284</td>\n",
       "      <td>1.44600</td>\n",
       "    </tr>\n",
       "    <tr>\n",
       "      <th>1</th>\n",
       "      <td>30.619862</td>\n",
       "      <td>43.45283</td>\n",
       "    </tr>\n",
       "    <tr>\n",
       "      <th>2</th>\n",
       "      <td>23.177633</td>\n",
       "      <td>23.95230</td>\n",
       "    </tr>\n",
       "    <tr>\n",
       "      <th>3</th>\n",
       "      <td>9.781621</td>\n",
       "      <td>2.08500</td>\n",
       "    </tr>\n",
       "    <tr>\n",
       "      <th>4</th>\n",
       "      <td>-0.637500</td>\n",
       "      <td>0.49647</td>\n",
       "    </tr>\n",
       "    <tr>\n",
       "      <th>5</th>\n",
       "      <td>8.293175</td>\n",
       "      <td>2.08500</td>\n",
       "    </tr>\n",
       "    <tr>\n",
       "      <th>6</th>\n",
       "      <td>29.131416</td>\n",
       "      <td>32.74138</td>\n",
       "    </tr>\n",
       "    <tr>\n",
       "      <th>7</th>\n",
       "      <td>24.666079</td>\n",
       "      <td>27.43260</td>\n",
       "    </tr>\n",
       "    <tr>\n",
       "      <th>8</th>\n",
       "      <td>0.850946</td>\n",
       "      <td>0.87838</td>\n",
       "    </tr>\n",
       "  </tbody>\n",
       "</table>\n",
       "</div>"
      ],
      "text/plain": [
       "   Predicted    Actual\n",
       "0   5.316284   1.44600\n",
       "1  30.619862  43.45283\n",
       "2  23.177633  23.95230\n",
       "3   9.781621   2.08500\n",
       "4  -0.637500   0.49647\n",
       "5   8.293175   2.08500\n",
       "6  29.131416  32.74138\n",
       "7  24.666079  27.43260\n",
       "8   0.850946   0.87838"
      ]
     },
     "execution_count": 385,
     "metadata": {},
     "output_type": "execute_result"
    }
   ],
   "source": [
    "data = {'Predicted':y_pred, 'Actual':y_test}\n",
    "\n",
    "comparison = pd.DataFrame(data)\n",
    "comparison"
   ]
  },
  {
   "cell_type": "code",
   "execution_count": 386,
   "id": "8978c161",
   "metadata": {
    "colab": {
     "base_uri": "https://localhost:8080/"
    },
    "id": "8978c161",
    "outputId": "f5ce8974-d449-4eb7-bbb5-1e4ba52527d2"
   },
   "outputs": [
    {
     "data": {
      "text/plain": [
       "array([48.20389777, 49.54667109, 49.61410871, 48.47886289, 46.32903318,\n",
       "       43.43323603, 40.0966743 , 36.61750687, 33.25141848, 30.18925388,\n",
       "       27.54897759, 25.38007985, 23.67655535, 22.39394535, 21.46644991,\n",
       "       20.82133007, 20.3892302 , 20.11026704, 19.93654383, 19.83212244,\n",
       "       19.77150887, 19.73751568, 19.71909012, 19.7094341 , 19.70454027,\n",
       "       19.70214101, 19.7010029 , 19.70048045, 19.70024831, 19.70014846,\n",
       "       19.70010688, 19.70009011, 19.70008356])"
      ]
     },
     "execution_count": 386,
     "metadata": {},
     "output_type": "execute_result"
    }
   ],
   "source": [
    "model2 = SVR(kernel='rbf', C=75, epsilon=5) # set kernel and hyperparameters\n",
    "svr = model2.fit(X, y)\n",
    "x_future = [[2018],[2019],[2020],[2021],[2022],[2023],[2024],[2025],[2026],[2027],[2028],[2029],[2030],[2031],[2032],[2033],[2034],[2035],[2036],[2037],[2038],[2039],[2040],[2041],[2042],[2043],[2044],[2045],[2046],[2047],[2048],[2049],[2050]]\n",
    "y_pred = svr.predict(x_future)\n",
    "y_pred"
   ]
  },
  {
   "cell_type": "code",
   "execution_count": 387,
   "id": "34c67270",
   "metadata": {},
   "outputs": [
    {
     "data": {
      "text/plain": [
       "array([208.44314959, 215.34883569, 220.09207288, 222.66095875,\n",
       "       223.27798416, 222.34728714, 220.37804674, 217.9018133 ,\n",
       "       215.40021053, 213.25437475, 211.72072337, 210.93120083,\n",
       "       210.91173523, 211.61067103, 212.92942201, 214.74956399,\n",
       "       216.95317282, 219.43557814, 222.11140488, 224.91563709,\n",
       "       227.80160985, 230.73755991, 233.70289355, 236.68486091,\n",
       "       239.67589822, 242.67170563, 245.66993381, 248.66934716,\n",
       "       251.66931986, 254.66954859, 257.66989143, 260.67028145,\n",
       "       263.67069244])"
      ]
     },
     "execution_count": 387,
     "metadata": {},
     "output_type": "execute_result"
    }
   ],
   "source": [
    "net_consumption += y_pred\n",
    "net_consumption"
   ]
  },
  {
   "cell_type": "code",
   "execution_count": 388,
   "id": "W0yccFn4-bnP",
   "metadata": {
    "colab": {
     "base_uri": "https://localhost:8080/"
    },
    "id": "W0yccFn4-bnP",
    "outputId": "ba86e8f9-e009-4b72-9029-264711e94af1"
   },
   "outputs": [
    {
     "name": "stdout",
     "output_type": "stream",
     "text": [
      "Rate of Increase: 3.015770871225016\n"
     ]
    }
   ],
   "source": [
    "# Finding the Rate of Increase for Wind energy Consumption\n",
    "print (\"Rate of Increase:\", (y_pred[2] - 19.4564)/10)"
   ]
  },
  {
   "cell_type": "code",
   "execution_count": 389,
   "id": "7ea7e0b9",
   "metadata": {},
   "outputs": [
    {
     "data": {
      "image/png": "[encoded data removed]",
      "text/plain": [
       "<Figure size 432x288 with 1 Axes>"
      ]
     },
     "metadata": {
      "needs_background": "light"
     },
     "output_type": "display_data"
    }
   ],
   "source": [
    "fig, ax = plt.subplots()\n",
    "ax.scatter(years,y_pred)\n",
    "ax.set_title('Predicted Wind Energy Consumption in India (epsilon=5, C=75)')\n",
    "ax.set_xlabel('Years')\n",
    "ax.set_ylabel('Energy Consumption')\n",
    "\n",
    "\n",
    "plt.show()"
   ]
  },
  {
   "cell_type": "markdown",
   "id": "dc0a2bb0",
   "metadata": {
    "id": "dc0a2bb0"
   },
   "source": [
    "# Other Renewables"
   ]
  },
  {
   "cell_type": "code",
   "execution_count": 390,
   "id": "c4ac79bf",
   "metadata": {
    "id": "c4ac79bf"
   },
   "outputs": [],
   "source": [
    "# Use MinMax Scaling on Year and Other\n",
    "df['Year (scaled)']=scaler.fit_transform(df[['Year']])\n",
    "df['Solar (scaled)']=scaler.fit_transform(df[['Other renewables (terawatt-hours)']])"
   ]
  },
  {
   "cell_type": "code",
   "execution_count": 391,
   "id": "06637a28",
   "metadata": {
    "colab": {
     "base_uri": "https://localhost:8080/",
     "height": 542
    },
    "id": "06637a28",
    "outputId": "08163656-55b7-4821-80dc-80e211808c80"
   },
   "outputs": [
    {
     "data": {
      "application/vnd.plotly.v1+json": {
       "config": {
        "plotlyServerURL": "https://plot.ly"
       },
       "data": [
        {
         "hovertemplate": "Year=%{x}<br>Other renewables (terawatt-hours)=%{y}<extra></extra>",
         "legendgroup": "",
         "marker": {
          "color": "black",
          "opacity": 0.8,
          "size": 5,
          "symbol": "circle"
         },
         "mode": "markers",
         "name": "",
         "orientation": "v",
         "showlegend": false,
         "type": "scatter",
         "x": [
          1990,
          1991,
          1992,
          1993,
          1994,
          1995,
          1996,
          1997,
          1998,
          1999,
          2000,
          2001,
          2002,
          2003,
          2004,
          2005,
          2006,
          2007,
          2008,
          2009,
          2010,
          2011,
          2012,
          2013,
          2014,
          2015,
          2016,
          2017
         ],
         "xaxis": "x",
         "y": [
          0.0375863363363363,
          0.0950713213213213,
          0.119391891891892,
          0.252049549549549,
          0.380285285285285,
          0.563795045045045,
          0.756148648648648,
          0.981666666666666,
          1.29252777777778,
          1.68607882882883,
          1.68607882882883,
          2.06914992492492,
          2.13990067567568,
          2.71253956456456,
          3.31436313813814,
          4.03513641141141,
          5.587,
          7.403,
          9.302,
          11.642,
          14.295,
          17.137,
          19.936,
          22.478,
          24.676,
          25.818,
          24.8168457331189,
          21.61979
         ],
         "yaxis": "y"
        }
       ],
       "layout": {
        "legend": {
         "tracegroupgap": 0
        },
        "margin": {
         "t": 60
        },
        "plot_bgcolor": "white",
        "template": {
         "data": {
          "bar": [
           {
            "error_x": {
             "color": "#2a3f5f"
            },
            "error_y": {
             "color": "#2a3f5f"
            },
            "marker": {
             "line": {
              "color": "#E5ECF6",
              "width": 0.5
             },
             "pattern": {
              "fillmode": "overlay",
              "size": 10,
              "solidity": 0.2
             }
            },
            "type": "bar"
           }
          ],
          "barpolar": [
           {
            "marker": {
             "line": {
              "color": "#E5ECF6",
              "width": 0.5
             },
             "pattern": {
              "fillmode": "overlay",
              "size": 10,
              "solidity": 0.2
             }
            },
            "type": "barpolar"
           }
          ],
          "carpet": [
           {
            "aaxis": {
             "endlinecolor": "#2a3f5f",
             "gridcolor": "white",
             "linecolor": "white",
             "minorgridcolor": "white",
             "startlinecolor": "#2a3f5f"
            },
            "baxis": {
             "endlinecolor": "#2a3f5f",
             "gridcolor": "white",
             "linecolor": "white",
             "minorgridcolor": "white",
             "startlinecolor": "#2a3f5f"
            },
            "type": "carpet"
           }
          ],
          "choropleth": [
           {
            "colorbar": {
             "outlinewidth": 0,
             "ticks": ""
            },
            "type": "choropleth"
           }
          ],
          "contour": [
           {
            "colorbar": {
             "outlinewidth": 0,
             "ticks": ""
            },
            "colorscale": [
             [
              0,
              "#0d0887"
             ],
             [
              0.1111111111111111,
              "#46039f"
             ],
             [
              0.2222222222222222,
              "#7201a8"
             ],
             [
              0.3333333333333333,
              "#9c179e"
             ],
             [
              0.4444444444444444,
              "#bd3786"
             ],
             [
              0.5555555555555556,
              "#d8576b"
             ],
             [
              0.6666666666666666,
              "#ed7953"
             ],
             [
              0.7777777777777778,
              "#fb9f3a"
             ],
             [
              0.8888888888888888,
              "#fdca26"
             ],
             [
              1,
              "#f0f921"
             ]
            ],
            "type": "contour"
           }
          ],
          "contourcarpet": [
           {
            "colorbar": {
             "outlinewidth": 0,
             "ticks": ""
            },
            "type": "contourcarpet"
           }
          ],
          "heatmap": [
           {
            "colorbar": {
             "outlinewidth": 0,
             "ticks": ""
            },
            "colorscale": [
             [
              0,
              "#0d0887"
             ],
             [
              0.1111111111111111,
              "#46039f"
             ],
             [
              0.2222222222222222,
              "#7201a8"
             ],
             [
              0.3333333333333333,
              "#9c179e"
             ],
             [
              0.4444444444444444,
              "#bd3786"
             ],
             [
              0.5555555555555556,
              "#d8576b"
             ],
             [
              0.6666666666666666,
              "#ed7953"
             ],
             [
              0.7777777777777778,
              "#fb9f3a"
             ],
             [
              0.8888888888888888,
              "#fdca26"
             ],
             [
              1,
              "#f0f921"
             ]
            ],
            "type": "heatmap"
           }
          ],
          "heatmapgl": [
           {
            "colorbar": {
             "outlinewidth": 0,
             "ticks": ""
            },
            "colorscale": [
             [
              0,
              "#0d0887"
             ],
             [
              0.1111111111111111,
              "#46039f"
             ],
             [
              0.2222222222222222,
              "#7201a8"
             ],
             [
              0.3333333333333333,
              "#9c179e"
             ],
             [
              0.4444444444444444,
              "#bd3786"
             ],
             [
              0.5555555555555556,
              "#d8576b"
             ],
             [
              0.6666666666666666,
              "#ed7953"
             ],
             [
              0.7777777777777778,
              "#fb9f3a"
             ],
             [
              0.8888888888888888,
              "#fdca26"
             ],
             [
              1,
              "#f0f921"
             ]
            ],
            "type": "heatmapgl"
           }
          ],
          "histogram": [
           {
            "marker": {
             "pattern": {
              "fillmode": "overlay",
              "size": 10,
              "solidity": 0.2
             }
            },
            "type": "histogram"
           }
          ],
          "histogram2d": [
           {
            "colorbar": {
             "outlinewidth": 0,
             "ticks": ""
            },
            "colorscale": [
             [
              0,
              "#0d0887"
             ],
             [
              0.1111111111111111,
              "#46039f"
             ],
             [
              0.2222222222222222,
              "#7201a8"
             ],
             [
              0.3333333333333333,
              "#9c179e"
             ],
             [
              0.4444444444444444,
              "#bd3786"
             ],
             [
              0.5555555555555556,
              "#d8576b"
             ],
             [
              0.6666666666666666,
              "#ed7953"
             ],
             [
              0.7777777777777778,
              "#fb9f3a"
             ],
             [
              0.8888888888888888,
              "#fdca26"
             ],
             [
              1,
              "#f0f921"
             ]
            ],
            "type": "histogram2d"
           }
          ],
          "histogram2dcontour": [
           {
            "colorbar": {
             "outlinewidth": 0,
             "ticks": ""
            },
            "colorscale": [
             [
              0,
              "#0d0887"
             ],
             [
              0.1111111111111111,
              "#46039f"
             ],
             [
              0.2222222222222222,
              "#7201a8"
             ],
             [
              0.3333333333333333,
              "#9c179e"
             ],
             [
              0.4444444444444444,
              "#bd3786"
             ],
             [
              0.5555555555555556,
              "#d8576b"
             ],
             [
              0.6666666666666666,
              "#ed7953"
             ],
             [
              0.7777777777777778,
              "#fb9f3a"
             ],
             [
              0.8888888888888888,
              "#fdca26"
             ],
             [
              1,
              "#f0f921"
             ]
            ],
            "type": "histogram2dcontour"
           }
          ],
          "mesh3d": [
           {
            "colorbar": {
             "outlinewidth": 0,
             "ticks": ""
            },
            "type": "mesh3d"
           }
          ],
          "parcoords": [
           {
            "line": {
             "colorbar": {
              "outlinewidth": 0,
              "ticks": ""
             }
            },
            "type": "parcoords"
           }
          ],
          "pie": [
           {
            "automargin": true,
            "type": "pie"
           }
          ],
          "scatter": [
           {
            "marker": {
             "colorbar": {
              "outlinewidth": 0,
              "ticks": ""
             }
            },
            "type": "scatter"
           }
          ],
          "scatter3d": [
           {
            "line": {
             "colorbar": {
              "outlinewidth": 0,
              "ticks": ""
             }
            },
            "marker": {
             "colorbar": {
              "outlinewidth": 0,
              "ticks": ""
             }
            },
            "type": "scatter3d"
           }
          ],
          "scattercarpet": [
           {
            "marker": {
             "colorbar": {
              "outlinewidth": 0,
              "ticks": ""
             }
            },
            "type": "scattercarpet"
           }
          ],
          "scattergeo": [
           {
            "marker": {
             "colorbar": {
              "outlinewidth": 0,
              "ticks": ""
             }
            },
            "type": "scattergeo"
           }
          ],
          "scattergl": [
           {
            "marker": {
             "colorbar": {
              "outlinewidth": 0,
              "ticks": ""
             }
            },
            "type": "scattergl"
           }
          ],
          "scattermapbox": [
           {
            "marker": {
             "colorbar": {
              "outlinewidth": 0,
              "ticks": ""
             }
            },
            "type": "scattermapbox"
           }
          ],
          "scatterpolar": [
           {
            "marker": {
             "colorbar": {
              "outlinewidth": 0,
              "ticks": ""
             }
            },
            "type": "scatterpolar"
           }
          ],
          "scatterpolargl": [
           {
            "marker": {
             "colorbar": {
              "outlinewidth": 0,
              "ticks": ""
             }
            },
            "type": "scatterpolargl"
           }
          ],
          "scatterternary": [
           {
            "marker": {
             "colorbar": {
              "outlinewidth": 0,
              "ticks": ""
             }
            },
            "type": "scatterternary"
           }
          ],
          "surface": [
           {
            "colorbar": {
             "outlinewidth": 0,
             "ticks": ""
            },
            "colorscale": [
             [
              0,
              "#0d0887"
             ],
             [
              0.1111111111111111,
              "#46039f"
             ],
             [
              0.2222222222222222,
              "#7201a8"
             ],
             [
              0.3333333333333333,
              "#9c179e"
             ],
             [
              0.4444444444444444,
              "#bd3786"
             ],
             [
              0.5555555555555556,
              "#d8576b"
             ],
             [
              0.6666666666666666,
              "#ed7953"
             ],
             [
              0.7777777777777778,
              "#fb9f3a"
             ],
             [
              0.8888888888888888,
              "#fdca26"
             ],
             [
              1,
              "#f0f921"
             ]
            ],
            "type": "surface"
           }
          ],
          "table": [
           {
            "cells": {
             "fill": {
              "color": "#EBF0F8"
             },
             "line": {
              "color": "white"
             }
            },
            "header": {
             "fill": {
              "color": "#C8D4E3"
             },
             "line": {
              "color": "white"
             }
            },
            "type": "table"
           }
          ]
         },
         "layout": {
          "annotationdefaults": {
           "arrowcolor": "#2a3f5f",
           "arrowhead": 0,
           "arrowwidth": 1
          },
          "autotypenumbers": "strict",
          "coloraxis": {
           "colorbar": {
            "outlinewidth": 0,
            "ticks": ""
           }
          },
          "colorscale": {
           "diverging": [
            [
             0,
             "#8e0152"
            ],
            [
             0.1,
             "#c51b7d"
            ],
            [
             0.2,
             "#de77ae"
            ],
            [
             0.3,
             "#f1b6da"
            ],
            [
             0.4,
             "#fde0ef"
            ],
            [
             0.5,
             "#f7f7f7"
            ],
            [
             0.6,
             "#e6f5d0"
            ],
            [
             0.7,
             "#b8e186"
            ],
            [
             0.8,
             "#7fbc41"
            ],
            [
             0.9,
             "#4d9221"
            ],
            [
             1,
             "#276419"
            ]
           ],
           "sequential": [
            [
             0,
             "#0d0887"
            ],
            [
             0.1111111111111111,
             "#46039f"
            ],
            [
             0.2222222222222222,
             "#7201a8"
            ],
            [
             0.3333333333333333,
             "#9c179e"
            ],
            [
             0.4444444444444444,
             "#bd3786"
            ],
            [
             0.5555555555555556,
             "#d8576b"
            ],
            [
             0.6666666666666666,
             "#ed7953"
            ],
            [
             0.7777777777777778,
             "#fb9f3a"
            ],
            [
             0.8888888888888888,
             "#fdca26"
            ],
            [
             1,
             "#f0f921"
            ]
           ],
           "sequentialminus": [
            [
             0,
             "#0d0887"
            ],
            [
             0.1111111111111111,
             "#46039f"
            ],
            [
             0.2222222222222222,
             "#7201a8"
            ],
            [
             0.3333333333333333,
             "#9c179e"
            ],
            [
             0.4444444444444444,
             "#bd3786"
            ],
            [
             0.5555555555555556,
             "#d8576b"
            ],
            [
             0.6666666666666666,
             "#ed7953"
            ],
            [
             0.7777777777777778,
             "#fb9f3a"
            ],
            [
             0.8888888888888888,
             "#fdca26"
            ],
            [
             1,
             "#f0f921"
            ]
           ]
          },
          "colorway": [
           "#636efa",
           "#EF553B",
           "#00cc96",
           "#ab63fa",
           "#FFA15A",
           "#19d3f3",
           "#FF6692",
           "#B6E880",
           "#FF97FF",
           "#FECB52"
          ],
          "font": {
           "color": "#2a3f5f"
          },
          "geo": {
           "bgcolor": "white",
           "lakecolor": "white",
           "landcolor": "#E5ECF6",
           "showlakes": true,
           "showland": true,
           "subunitcolor": "white"
          },
          "hoverlabel": {
           "align": "left"
          },
          "hovermode": "closest",
          "mapbox": {
           "style": "light"
          },
          "paper_bgcolor": "white",
          "plot_bgcolor": "#E5ECF6",
          "polar": {
           "angularaxis": {
            "gridcolor": "white",
            "linecolor": "white",
            "ticks": ""
           },
           "bgcolor": "#E5ECF6",
           "radialaxis": {
            "gridcolor": "white",
            "linecolor": "white",
            "ticks": ""
           }
          },
          "scene": {
           "xaxis": {
            "backgroundcolor": "#E5ECF6",
            "gridcolor": "white",
            "gridwidth": 2,
            "linecolor": "white",
            "showbackground": true,
            "ticks": "",
            "zerolinecolor": "white"
           },
           "yaxis": {
            "backgroundcolor": "#E5ECF6",
            "gridcolor": "white",
            "gridwidth": 2,
            "linecolor": "white",
            "showbackground": true,
            "ticks": "",
            "zerolinecolor": "white"
           },
           "zaxis": {
            "backgroundcolor": "#E5ECF6",
            "gridcolor": "white",
            "gridwidth": 2,
            "linecolor": "white",
            "showbackground": true,
            "ticks": "",
            "zerolinecolor": "white"
           }
          },
          "shapedefaults": {
           "line": {
            "color": "#2a3f5f"
           }
          },
          "ternary": {
           "aaxis": {
            "gridcolor": "white",
            "linecolor": "white",
            "ticks": ""
           },
           "baxis": {
            "gridcolor": "white",
            "linecolor": "white",
            "ticks": ""
           },
           "bgcolor": "#E5ECF6",
           "caxis": {
            "gridcolor": "white",
            "linecolor": "white",
            "ticks": ""
           }
          },
          "title": {
           "x": 0.05
          },
          "xaxis": {
           "automargin": true,
           "gridcolor": "white",
           "linecolor": "white",
           "ticks": "",
           "title": {
            "standoff": 15
           },
           "zerolinecolor": "white",
           "zerolinewidth": 2
          },
          "yaxis": {
           "automargin": true,
           "gridcolor": "white",
           "linecolor": "white",
           "ticks": "",
           "title": {
            "standoff": 15
           },
           "zerolinecolor": "white",
           "zerolinewidth": 2
          }
         }
        },
        "title": {
         "font": {
          "color": "black"
         },
         "text": "Other renewable Energy Consumption in India"
        },
        "xaxis": {
         "anchor": "y",
         "domain": [
          0,
          1
         ],
         "gridcolor": "lightgrey",
         "gridwidth": 1,
         "linecolor": "black",
         "linewidth": 1,
         "showgrid": true,
         "showline": true,
         "title": {
          "text": "Year"
         },
         "zeroline": true,
         "zerolinecolor": "lightgrey",
         "zerolinewidth": 1
        },
        "yaxis": {
         "anchor": "x",
         "domain": [
          0,
          1
         ],
         "gridcolor": "lightgrey",
         "gridwidth": 1,
         "linecolor": "black",
         "linewidth": 1,
         "showgrid": true,
         "showline": true,
         "title": {
          "text": "Other renewables (terawatt-hours)"
         },
         "zeroline": true,
         "zerolinecolor": "lightgrey",
         "zerolinewidth": 1
        }
       }
      },
      "text/html": [
       "<div>                            <div id=\"3930d5aa-ac20-4299-bd3c-795488639410\" class=\"plotly-graph-div\" style=\"height:525px; width:100%;\"></div>            <script type=\"text/javascript\">                require([\"plotly\"], function(Plotly) {                    window.PLOTLYENV=window.PLOTLYENV || {};                                    if (document.getElementById(\"3930d5aa-ac20-4299-bd3c-795488639410\")) {                    Plotly.newPlot(                        \"3930d5aa-ac20-4299-bd3c-795488639410\",                        [{\"hovertemplate\":\"Year=%{x}<br>Other renewables (terawatt-hours)=%{y}<extra></extra>\",\"legendgroup\":\"\",\"marker\":{\"color\":\"black\",\"opacity\":0.8,\"symbol\":\"circle\",\"size\":5},\"mode\":\"markers\",\"name\":\"\",\"orientation\":\"v\",\"showlegend\":false,\"x\":[1990,1991,1992,1993,1994,1995,1996,1997,1998,1999,2000,2001,2002,2003,2004,2005,2006,2007,2008,2009,2010,2011,2012,2013,2014,2015,2016,2017],\"xaxis\":\"x\",\"y\":[0.0375863363363363,0.0950713213213213,0.119391891891892,0.252049549549549,0.380285285285285,0.563795045045045,0.756148648648648,0.981666666666666,1.29252777777778,1.68607882882883,1.68607882882883,2.06914992492492,2.13990067567568,2.71253956456456,3.31436313813814,4.03513641141141,5.587,7.403,9.302,11.642,14.295,17.137,19.936,22.478,24.676,25.818,24.8168457331189,21.61979],\"yaxis\":\"y\",\"type\":\"scatter\"}],                        {\"template\":{\"data\":{\"bar\":[{\"error_x\":{\"color\":\"#2a3f5f\"},\"error_y\":{\"color\":\"#2a3f5f\"},\"marker\":{\"line\":{\"color\":\"#E5ECF6\",\"width\":0.5},\"pattern\":{\"fillmode\":\"overlay\",\"size\":10,\"solidity\":0.2}},\"type\":\"bar\"}],\"barpolar\":[{\"marker\":{\"line\":{\"color\":\"#E5ECF6\",\"width\":0.5},\"pattern\":{\"fillmode\":\"overlay\",\"size\":10,\"solidity\":0.2}},\"type\":\"barpolar\"}],\"carpet\":[{\"aaxis\":{\"endlinecolor\":\"#2a3f5f\",\"gridcolor\":\"white\",\"linecolor\":\"white\",\"minorgridcolor\":\"white\",\"startlinecolor\":\"#2a3f5f\"},\"baxis\":{\"endlinecolor\":\"#2a3f5f\",\"gridcolor\":\"white\",\"linecolor\":\"white\",\"minorgridcolor\":\"white\",\"startlinecolor\":\"#2a3f5f\"},\"type\":\"carpet\"}],\"choropleth\":[{\"colorbar\":{\"outlinewidth\":0,\"ticks\":\"\"},\"type\":\"choropleth\"}],\"contour\":[{\"colorbar\":{\"outlinewidth\":0,\"ticks\":\"\"},\"colorscale\":[[0.0,\"#0d0887\"],[0.1111111111111111,\"#46039f\"],[0.2222222222222222,\"#7201a8\"],[0.3333333333333333,\"#9c179e\"],[0.4444444444444444,\"#bd3786\"],[0.5555555555555556,\"#d8576b\"],[0.6666666666666666,\"#ed7953\"],[0.7777777777777778,\"#fb9f3a\"],[0.8888888888888888,\"#fdca26\"],[1.0,\"#f0f921\"]],\"type\":\"contour\"}],\"contourcarpet\":[{\"colorbar\":{\"outlinewidth\":0,\"ticks\":\"\"},\"type\":\"contourcarpet\"}],\"heatmap\":[{\"colorbar\":{\"outlinewidth\":0,\"ticks\":\"\"},\"colorscale\":[[0.0,\"#0d0887\"],[0.1111111111111111,\"#46039f\"],[0.2222222222222222,\"#7201a8\"],[0.3333333333333333,\"#9c179e\"],[0.4444444444444444,\"#bd3786\"],[0.5555555555555556,\"#d8576b\"],[0.6666666666666666,\"#ed7953\"],[0.7777777777777778,\"#fb9f3a\"],[0.8888888888888888,\"#fdca26\"],[1.0,\"#f0f921\"]],\"type\":\"heatmap\"}],\"heatmapgl\":[{\"colorbar\":{\"outlinewidth\":0,\"ticks\":\"\"},\"colorscale\":[[0.0,\"#0d0887\"],[0.1111111111111111,\"#46039f\"],[0.2222222222222222,\"#7201a8\"],[0.3333333333333333,\"#9c179e\"],[0.4444444444444444,\"#bd3786\"],[0.5555555555555556,\"#d8576b\"],[0.6666666666666666,\"#ed7953\"],[0.7777777777777778,\"#fb9f3a\"],[0.8888888888888888,\"#fdca26\"],[1.0,\"#f0f921\"]],\"type\":\"heatmapgl\"}],\"histogram\":[{\"marker\":{\"pattern\":{\"fillmode\":\"overlay\",\"size\":10,\"solidity\":0.2}},\"type\":\"histogram\"}],\"histogram2d\":[{\"colorbar\":{\"outlinewidth\":0,\"ticks\":\"\"},\"colorscale\":[[0.0,\"#0d0887\"],[0.1111111111111111,\"#46039f\"],[0.2222222222222222,\"#7201a8\"],[0.3333333333333333,\"#9c179e\"],[0.4444444444444444,\"#bd3786\"],[0.5555555555555556,\"#d8576b\"],[0.6666666666666666,\"#ed7953\"],[0.7777777777777778,\"#fb9f3a\"],[0.8888888888888888,\"#fdca26\"],[1.0,\"#f0f921\"]],\"type\":\"histogram2d\"}],\"histogram2dcontour\":[{\"colorbar\":{\"outlinewidth\":0,\"ticks\":\"\"},\"colorscale\":[[0.0,\"#0d0887\"],[0.1111111111111111,\"#46039f\"],[0.2222222222222222,\"#7201a8\"],[0.3333333333333333,\"#9c179e\"],[0.4444444444444444,\"#bd3786\"],[0.5555555555555556,\"#d8576b\"],[0.6666666666666666,\"#ed7953\"],[0.7777777777777778,\"#fb9f3a\"],[0.8888888888888888,\"#fdca26\"],[1.0,\"#f0f921\"]],\"type\":\"histogram2dcontour\"}],\"mesh3d\":[{\"colorbar\":{\"outlinewidth\":0,\"ticks\":\"\"},\"type\":\"mesh3d\"}],\"parcoords\":[{\"line\":{\"colorbar\":{\"outlinewidth\":0,\"ticks\":\"\"}},\"type\":\"parcoords\"}],\"pie\":[{\"automargin\":true,\"type\":\"pie\"}],\"scatter\":[{\"marker\":{\"colorbar\":{\"outlinewidth\":0,\"ticks\":\"\"}},\"type\":\"scatter\"}],\"scatter3d\":[{\"line\":{\"colorbar\":{\"outlinewidth\":0,\"ticks\":\"\"}},\"marker\":{\"colorbar\":{\"outlinewidth\":0,\"ticks\":\"\"}},\"type\":\"scatter3d\"}],\"scattercarpet\":[{\"marker\":{\"colorbar\":{\"outlinewidth\":0,\"ticks\":\"\"}},\"type\":\"scattercarpet\"}],\"scattergeo\":[{\"marker\":{\"colorbar\":{\"outlinewidth\":0,\"ticks\":\"\"}},\"type\":\"scattergeo\"}],\"scattergl\":[{\"marker\":{\"colorbar\":{\"outlinewidth\":0,\"ticks\":\"\"}},\"type\":\"scattergl\"}],\"scattermapbox\":[{\"marker\":{\"colorbar\":{\"outlinewidth\":0,\"ticks\":\"\"}},\"type\":\"scattermapbox\"}],\"scatterpolar\":[{\"marker\":{\"colorbar\":{\"outlinewidth\":0,\"ticks\":\"\"}},\"type\":\"scatterpolar\"}],\"scatterpolargl\":[{\"marker\":{\"colorbar\":{\"outlinewidth\":0,\"ticks\":\"\"}},\"type\":\"scatterpolargl\"}],\"scatterternary\":[{\"marker\":{\"colorbar\":{\"outlinewidth\":0,\"ticks\":\"\"}},\"type\":\"scatterternary\"}],\"surface\":[{\"colorbar\":{\"outlinewidth\":0,\"ticks\":\"\"},\"colorscale\":[[0.0,\"#0d0887\"],[0.1111111111111111,\"#46039f\"],[0.2222222222222222,\"#7201a8\"],[0.3333333333333333,\"#9c179e\"],[0.4444444444444444,\"#bd3786\"],[0.5555555555555556,\"#d8576b\"],[0.6666666666666666,\"#ed7953\"],[0.7777777777777778,\"#fb9f3a\"],[0.8888888888888888,\"#fdca26\"],[1.0,\"#f0f921\"]],\"type\":\"surface\"}],\"table\":[{\"cells\":{\"fill\":{\"color\":\"#EBF0F8\"},\"line\":{\"color\":\"white\"}},\"header\":{\"fill\":{\"color\":\"#C8D4E3\"},\"line\":{\"color\":\"white\"}},\"type\":\"table\"}]},\"layout\":{\"annotationdefaults\":{\"arrowcolor\":\"#2a3f5f\",\"arrowhead\":0,\"arrowwidth\":1},\"autotypenumbers\":\"strict\",\"coloraxis\":{\"colorbar\":{\"outlinewidth\":0,\"ticks\":\"\"}},\"colorscale\":{\"diverging\":[[0,\"#8e0152\"],[0.1,\"#c51b7d\"],[0.2,\"#de77ae\"],[0.3,\"#f1b6da\"],[0.4,\"#fde0ef\"],[0.5,\"#f7f7f7\"],[0.6,\"#e6f5d0\"],[0.7,\"#b8e186\"],[0.8,\"#7fbc41\"],[0.9,\"#4d9221\"],[1,\"#276419\"]],\"sequential\":[[0.0,\"#0d0887\"],[0.1111111111111111,\"#46039f\"],[0.2222222222222222,\"#7201a8\"],[0.3333333333333333,\"#9c179e\"],[0.4444444444444444,\"#bd3786\"],[0.5555555555555556,\"#d8576b\"],[0.6666666666666666,\"#ed7953\"],[0.7777777777777778,\"#fb9f3a\"],[0.8888888888888888,\"#fdca26\"],[1.0,\"#f0f921\"]],\"sequentialminus\":[[0.0,\"#0d0887\"],[0.1111111111111111,\"#46039f\"],[0.2222222222222222,\"#7201a8\"],[0.3333333333333333,\"#9c179e\"],[0.4444444444444444,\"#bd3786\"],[0.5555555555555556,\"#d8576b\"],[0.6666666666666666,\"#ed7953\"],[0.7777777777777778,\"#fb9f3a\"],[0.8888888888888888,\"#fdca26\"],[1.0,\"#f0f921\"]]},\"colorway\":[\"#636efa\",\"#EF553B\",\"#00cc96\",\"#ab63fa\",\"#FFA15A\",\"#19d3f3\",\"#FF6692\",\"#B6E880\",\"#FF97FF\",\"#FECB52\"],\"font\":{\"color\":\"#2a3f5f\"},\"geo\":{\"bgcolor\":\"white\",\"lakecolor\":\"white\",\"landcolor\":\"#E5ECF6\",\"showlakes\":true,\"showland\":true,\"subunitcolor\":\"white\"},\"hoverlabel\":{\"align\":\"left\"},\"hovermode\":\"closest\",\"mapbox\":{\"style\":\"light\"},\"paper_bgcolor\":\"white\",\"plot_bgcolor\":\"#E5ECF6\",\"polar\":{\"angularaxis\":{\"gridcolor\":\"white\",\"linecolor\":\"white\",\"ticks\":\"\"},\"bgcolor\":\"#E5ECF6\",\"radialaxis\":{\"gridcolor\":\"white\",\"linecolor\":\"white\",\"ticks\":\"\"}},\"scene\":{\"xaxis\":{\"backgroundcolor\":\"#E5ECF6\",\"gridcolor\":\"white\",\"gridwidth\":2,\"linecolor\":\"white\",\"showbackground\":true,\"ticks\":\"\",\"zerolinecolor\":\"white\"},\"yaxis\":{\"backgroundcolor\":\"#E5ECF6\",\"gridcolor\":\"white\",\"gridwidth\":2,\"linecolor\":\"white\",\"showbackground\":true,\"ticks\":\"\",\"zerolinecolor\":\"white\"},\"zaxis\":{\"backgroundcolor\":\"#E5ECF6\",\"gridcolor\":\"white\",\"gridwidth\":2,\"linecolor\":\"white\",\"showbackground\":true,\"ticks\":\"\",\"zerolinecolor\":\"white\"}},\"shapedefaults\":{\"line\":{\"color\":\"#2a3f5f\"}},\"ternary\":{\"aaxis\":{\"gridcolor\":\"white\",\"linecolor\":\"white\",\"ticks\":\"\"},\"baxis\":{\"gridcolor\":\"white\",\"linecolor\":\"white\",\"ticks\":\"\"},\"bgcolor\":\"#E5ECF6\",\"caxis\":{\"gridcolor\":\"white\",\"linecolor\":\"white\",\"ticks\":\"\"}},\"title\":{\"x\":0.05},\"xaxis\":{\"automargin\":true,\"gridcolor\":\"white\",\"linecolor\":\"white\",\"ticks\":\"\",\"title\":{\"standoff\":15},\"zerolinecolor\":\"white\",\"zerolinewidth\":2},\"yaxis\":{\"automargin\":true,\"gridcolor\":\"white\",\"linecolor\":\"white\",\"ticks\":\"\",\"title\":{\"standoff\":15},\"zerolinecolor\":\"white\",\"zerolinewidth\":2}}},\"xaxis\":{\"anchor\":\"y\",\"domain\":[0.0,1.0],\"title\":{\"text\":\"Year\"},\"showgrid\":true,\"gridwidth\":1,\"gridcolor\":\"lightgrey\",\"zeroline\":true,\"zerolinewidth\":1,\"zerolinecolor\":\"lightgrey\",\"showline\":true,\"linewidth\":1,\"linecolor\":\"black\"},\"yaxis\":{\"anchor\":\"x\",\"domain\":[0.0,1.0],\"title\":{\"text\":\"Other renewables (terawatt-hours)\"},\"showgrid\":true,\"gridwidth\":1,\"gridcolor\":\"lightgrey\",\"zeroline\":true,\"zerolinewidth\":1,\"zerolinecolor\":\"lightgrey\",\"showline\":true,\"linewidth\":1,\"linecolor\":\"black\"},\"legend\":{\"tracegroupgap\":0},\"margin\":{\"t\":60},\"plot_bgcolor\":\"white\",\"title\":{\"font\":{\"color\":\"black\"},\"text\":\"Other renewable Energy Consumption in India\"}},                        {\"responsive\": true}                    ).then(function(){\n",
       "                            \n",
       "var gd = document.getElementById('3930d5aa-ac20-4299-bd3c-795488639410');\n",
       "var x = new MutationObserver(function (mutations, observer) {{\n",
       "        var display = window.getComputedStyle(gd).display;\n",
       "        if (!display || display === 'none') {{\n",
       "            console.log([gd, 'removed!']);\n",
       "            Plotly.purge(gd);\n",
       "            observer.disconnect();\n",
       "        }}\n",
       "}});\n",
       "\n",
       "// Listen for the removal of the full notebook cells\n",
       "var notebookContainer = gd.closest('#notebook-container');\n",
       "if (notebookContainer) {{\n",
       "    x.observe(notebookContainer, {childList: true});\n",
       "}}\n",
       "\n",
       "// Listen for the clearing of the current output cell\n",
       "var outputEl = gd.closest('.output');\n",
       "if (outputEl) {{\n",
       "    x.observe(outputEl, {childList: true});\n",
       "}}\n",
       "\n",
       "                        })                };                });            </script>        </div>"
      ]
     },
     "metadata": {},
     "output_type": "display_data"
    }
   ],
   "source": [
    "# Create a scatter plot\n",
    "fig = px.scatter(df, x=df['Year'], y=df['Other renewables (terawatt-hours)'], \n",
    "                 opacity=0.8, color_discrete_sequence=['black'])\n",
    "# Change chart background color\n",
    "fig.update_layout(dict(plot_bgcolor = 'white'))\n",
    "\n",
    "# Update axes lines\n",
    "fig.update_xaxes(showgrid=True, gridwidth=1, gridcolor='lightgrey', \n",
    "                 zeroline=True, zerolinewidth=1, zerolinecolor='lightgrey', \n",
    "                 showline=True, linewidth=1, linecolor='black')\n",
    "\n",
    "fig.update_yaxes(showgrid=True, gridwidth=1, gridcolor='lightgrey', \n",
    "                 zeroline=True, zerolinewidth=1, zerolinecolor='lightgrey', \n",
    "                 showline=True, linewidth=1, linecolor='black')\n",
    "\n",
    "fig.update_yaxes(showgrid=True, gridwidth=1, gridcolor='lightgrey', \n",
    "                 zeroline=True, zerolinewidth=1, zerolinecolor='lightgrey', \n",
    "                 showline=True, linewidth=1, linecolor='black')\n",
    "\n",
    "# Set figure title\n",
    "fig.update_layout(title=dict(text=\"Other renewable Energy Consumption in India\", \n",
    "                             font=dict(color='black')))\n",
    "# Update marker size\n",
    "fig.update_traces(marker=dict(size=5))\n",
    "\n",
    "fig.show()\n"
   ]
  },
  {
   "cell_type": "code",
   "execution_count": 392,
   "id": "b343c7d2",
   "metadata": {
    "id": "b343c7d2"
   },
   "outputs": [],
   "source": [
    "# Note, we need X to be a 2D array, hence reshape\n",
    "X=df['Year'].values.reshape(-1,1)\n",
    "y=df['Other renewables (terawatt-hours)'].values\n",
    "\n",
    "X_train, X_test, y_train, y_test = train_test_split(X ,y, test_size=0.30, random_state=100)\n",
    "\n",
    "\n",
    "# ------- Linear regression -------\n",
    "model1 = LinearRegression()\n",
    "lr = model1.fit(X_train, y_train)\n",
    "\n",
    "# ------- Support Vector regression -------\n",
    "model2 = SVR(kernel='rbf', C=50, epsilon=2) # set kernel and hyperparameters\n",
    "svr = model2.fit(X_train, y_train)\n",
    "\n",
    "# ------- Predict a range of values based on the models for visualization -------\n",
    "# Create 100 evenly spaced points from smallest X to largest X\n",
    "x_range = np.linspace(X.min(), X.max(), 100)\n",
    "\n",
    "# Predict y values for our set of X values\n",
    "y_lr = model1.predict(x_range.reshape(-1, 1)) # Linear regression\n",
    "y_svr = model2.predict(x_range.reshape(-1, 1)) # SVR"
   ]
  },
  {
   "cell_type": "code",
   "execution_count": 393,
   "id": "e7b3b96f",
   "metadata": {
    "colab": {
     "base_uri": "https://localhost:8080/",
     "height": 542
    },
    "id": "e7b3b96f",
    "outputId": "2174ec71-1b3b-4f54-cadb-2e93b8e8b87b"
   },
   "outputs": [
    {
     "data": {
      "application/vnd.plotly.v1+json": {
       "config": {
        "plotlyServerURL": "https://plot.ly"
       },
       "data": [
        {
         "hovertemplate": "Year=%{x}<br>Other renewables (terawatt-hours)=%{y}<extra></extra>",
         "legendgroup": "",
         "marker": {
          "color": "black",
          "opacity": 0.8,
          "size": 3,
          "symbol": "circle"
         },
         "mode": "markers",
         "name": "",
         "orientation": "v",
         "showlegend": false,
         "type": "scatter",
         "x": [
          1990,
          1991,
          1992,
          1993,
          1994,
          1995,
          1996,
          1997,
          1998,
          1999,
          2000,
          2001,
          2002,
          2003,
          2004,
          2005,
          2006,
          2007,
          2008,
          2009,
          2010,
          2011,
          2012,
          2013,
          2014,
          2015,
          2016,
          2017
         ],
         "xaxis": "x",
         "y": [
          0.0375863363363363,
          0.0950713213213213,
          0.119391891891892,
          0.252049549549549,
          0.380285285285285,
          0.563795045045045,
          0.756148648648648,
          0.981666666666666,
          1.29252777777778,
          1.68607882882883,
          1.68607882882883,
          2.06914992492492,
          2.13990067567568,
          2.71253956456456,
          3.31436313813814,
          4.03513641141141,
          5.587,
          7.403,
          9.302,
          11.642,
          14.295,
          17.137,
          19.936,
          22.478,
          24.676,
          25.818,
          24.8168457331189,
          21.61979
         ],
         "yaxis": "y"
        },
        {
         "line": {
          "color": "limegreen"
         },
         "marker": {
          "size": 3
         },
         "name": "Linear Regression",
         "type": "scatter",
         "x": [
          1990,
          1990.2727272727273,
          1990.5454545454545,
          1990.8181818181818,
          1991.090909090909,
          1991.3636363636363,
          1991.6363636363637,
          1991.909090909091,
          1992.1818181818182,
          1992.4545454545455,
          1992.7272727272727,
          1993,
          1993.2727272727273,
          1993.5454545454545,
          1993.8181818181818,
          1994.090909090909,
          1994.3636363636363,
          1994.6363636363637,
          1994.909090909091,
          1995.1818181818182,
          1995.4545454545455,
          1995.7272727272727,
          1996,
          1996.2727272727273,
          1996.5454545454545,
          1996.8181818181818,
          1997.090909090909,
          1997.3636363636363,
          1997.6363636363637,
          1997.909090909091,
          1998.1818181818182,
          1998.4545454545455,
          1998.7272727272727,
          1999,
          1999.2727272727273,
          1999.5454545454545,
          1999.8181818181818,
          2000.090909090909,
          2000.3636363636363,
          2000.6363636363637,
          2000.909090909091,
          2001.1818181818182,
          2001.4545454545455,
          2001.7272727272727,
          2002,
          2002.2727272727273,
          2002.5454545454545,
          2002.8181818181818,
          2003.090909090909,
          2003.3636363636363,
          2003.6363636363637,
          2003.909090909091,
          2004.1818181818182,
          2004.4545454545455,
          2004.7272727272727,
          2005,
          2005.2727272727273,
          2005.5454545454545,
          2005.8181818181818,
          2006.090909090909,
          2006.3636363636363,
          2006.6363636363637,
          2006.909090909091,
          2007.1818181818182,
          2007.4545454545455,
          2007.7272727272727,
          2008,
          2008.2727272727273,
          2008.5454545454545,
          2008.8181818181818,
          2009.090909090909,
          2009.3636363636363,
          2009.6363636363637,
          2009.909090909091,
          2010.1818181818182,
          2010.4545454545455,
          2010.7272727272727,
          2011,
          2011.2727272727273,
          2011.5454545454545,
          2011.8181818181818,
          2012.090909090909,
          2012.3636363636363,
          2012.6363636363637,
          2012.909090909091,
          2013.1818181818182,
          2013.4545454545455,
          2013.7272727272727,
          2014,
          2014.2727272727273,
          2014.5454545454545,
          2014.8181818181818,
          2015.090909090909,
          2015.3636363636363,
          2015.6363636363637,
          2015.909090909091,
          2016.1818181818182,
          2016.4545454545455,
          2016.7272727272727,
          2017
         ],
         "y": [
          -4.190288209921846,
          -3.9509163169452677,
          -3.7115444239686894,
          -3.472172530992111,
          -3.232800638015533,
          -2.993428745039182,
          -2.7540568520623765,
          -2.5146849590857983,
          -2.27531306610922,
          -2.035941173132642,
          -1.796569280156291,
          -1.5571973871797127,
          -1.3178254942031344,
          -1.0784536012265562,
          -0.839081708249978,
          -0.5997098152733997,
          -0.36033792229704886,
          -0.12096602932024325,
          0.11840586365633499,
          0.3577777566329132,
          0.5971496496094915,
          0.8365215425860697,
          1.0758934355624206,
          1.3152653285389988,
          1.554637221515577,
          1.7940091144921553,
          2.0333810074687335,
          2.2727529004453118,
          2.51212479342189,
          2.7514966863984682,
          2.9908685793750465,
          3.2302404723516247,
          3.469612365328203,
          3.708984258304554,
          3.948356151281132,
          4.18772804425771,
          4.4270999372342885,
          4.666471830210867,
          4.905843723187445,
          5.145215616164023,
          5.3845875091406015,
          5.62395940211718,
          5.863331295093758,
          6.102703188070336,
          6.342075081046687,
          6.581446974023265,
          6.8208188669998435,
          7.060190759976422,
          7.299562652953,
          7.538934545929578,
          7.7783064389061565,
          8.017678331882735,
          8.257050224859313,
          8.496422117835891,
          8.73579401081247,
          8.975165903789048,
          9.214537796765399,
          9.453909689741977,
          9.693281582718555,
          9.932653475695133,
          10.172025368671711,
          10.41139726164829,
          10.650769154624868,
          10.890141047601446,
          11.129512940578024,
          11.368884833554603,
          11.608256726531181,
          11.847628619507532,
          12.08700051248411,
          12.326372405460688,
          12.565744298437266,
          12.805116191413845,
          13.044488084390423,
          13.283859977367001,
          13.52323187034358,
          13.762603763320158,
          14.001975656296736,
          14.241347549273314,
          14.480719442249665,
          14.720091335226243,
          14.959463228202821,
          15.1988351211794,
          15.438207014155978,
          15.677578907132784,
          15.916950800109134,
          16.156322693085713,
          16.39569458606229,
          16.63506647903887,
          16.874438372015447,
          17.113810264992026,
          17.353182157968376,
          17.592554050944955,
          17.831925943921533,
          18.07129783689811,
          18.310669729874917,
          18.550041622851268,
          18.789413515827846,
          19.028785408804424,
          19.268157301781002,
          19.50752919475758
         ]
        },
        {
         "line": {
          "color": "red"
         },
         "marker": {
          "size": 3
         },
         "name": "Support Vector Regression",
         "type": "scatter",
         "x": [
          1990,
          1990.2727272727273,
          1990.5454545454545,
          1990.8181818181818,
          1991.090909090909,
          1991.3636363636363,
          1991.6363636363637,
          1991.909090909091,
          1992.1818181818182,
          1992.4545454545455,
          1992.7272727272727,
          1993,
          1993.2727272727273,
          1993.5454545454545,
          1993.8181818181818,
          1994.090909090909,
          1994.3636363636363,
          1994.6363636363637,
          1994.909090909091,
          1995.1818181818182,
          1995.4545454545455,
          1995.7272727272727,
          1996,
          1996.2727272727273,
          1996.5454545454545,
          1996.8181818181818,
          1997.090909090909,
          1997.3636363636363,
          1997.6363636363637,
          1997.909090909091,
          1998.1818181818182,
          1998.4545454545455,
          1998.7272727272727,
          1999,
          1999.2727272727273,
          1999.5454545454545,
          1999.8181818181818,
          2000.090909090909,
          2000.3636363636363,
          2000.6363636363637,
          2000.909090909091,
          2001.1818181818182,
          2001.4545454545455,
          2001.7272727272727,
          2002,
          2002.2727272727273,
          2002.5454545454545,
          2002.8181818181818,
          2003.090909090909,
          2003.3636363636363,
          2003.6363636363637,
          2003.909090909091,
          2004.1818181818182,
          2004.4545454545455,
          2004.7272727272727,
          2005,
          2005.2727272727273,
          2005.5454545454545,
          2005.8181818181818,
          2006.090909090909,
          2006.3636363636363,
          2006.6363636363637,
          2006.909090909091,
          2007.1818181818182,
          2007.4545454545455,
          2007.7272727272727,
          2008,
          2008.2727272727273,
          2008.5454545454545,
          2008.8181818181818,
          2009.090909090909,
          2009.3636363636363,
          2009.6363636363637,
          2009.909090909091,
          2010.1818181818182,
          2010.4545454545455,
          2010.7272727272727,
          2011,
          2011.2727272727273,
          2011.5454545454545,
          2011.8181818181818,
          2012.090909090909,
          2012.3636363636363,
          2012.6363636363637,
          2012.909090909091,
          2013.1818181818182,
          2013.4545454545455,
          2013.7272727272727,
          2014,
          2014.2727272727273,
          2014.5454545454545,
          2014.8181818181818,
          2015.090909090909,
          2015.3636363636363,
          2015.6363636363637,
          2015.909090909091,
          2016.1818181818182,
          2016.4545454545455,
          2016.7272727272727,
          2017
         ],
         "y": [
          2.037712560560487,
          1.981667237789651,
          1.93790872189585,
          1.9062284987139595,
          1.8863191969216748,
          1.8777778318767027,
          1.8801102566912764,
          1.892736781081246,
          1.9149989035518873,
          1.9461670885184938,
          1.9854495071881306,
          2.0320016495920257,
          2.0849367051596204,
          2.1433366007282064,
          2.206263577911006,
          2.2727721862893207,
          2.3419215649065057,
          2.4127878819506883,
          2.484476801224008,
          2.556135843900824,
          2.6269665150509756,
          2.6962360663325358,
          2.7632887690161976,
          2.827556574988149,
          2.8885690474959036,
          2.945962448081012,
          2.9994878713355595,
          3.049018324803134,
          3.094554657522896,
          3.136230247416239,
          3.174314364992844,
          3.209214138775728,
          3.24147505650543,
          3.2717799456741066,
          3.300946387363947,
          3.3299225288157297,
          3.359781272716675,
          3.3917128349368326,
          3.4270156773979785,
          3.4670858389328405,
          3.5134047043497425,
          3.5675252703794946,
          3.63105698661599,
          3.7056492697939927,
          3.7929738105415733,
          3.8947058128210603,
          4.012504327300553,
          4.147991860504765,
          4.302733461369229,
          4.478215505326572,
          4.675824412829179,
          4.896825553790006,
          5.142342601344511,
          5.413337607138432,
          5.7105920756292825,
          6.034689316254752,
          6.38599834945796,
          6.764659635204981,
          7.170572880606025,
          7.6033871664660975,
          8.062493611048462,
          8.547020763140779,
          9.05583288587792,
          9.587531258030543,
          10.140458581004946,
          10.712706538194713,
          11.302126509147804,
          11.90634339500372,
          12.522772464577091,
          13.148639083157212,
          13.781001139433007,
          14.416773940840159,
          15.052757304963496,
          15.685664535292496,
          16.31215293448381,
          16.928855478072037,
          17.532413247058148,
          18.119508199532007,
          18.686895849983678,
          19.231437420566863,
          19.750131031516602,
          20.24014150825884,
          20.698828400390862,
          21.123771832416182,
          21.512795837483722,
          21.86398886287993,
          22.17572117894652,
          22.446658970693175,
          22.67577494269868,
          22.862355321993093,
          23.00600319943255,
          23.106638206542,
          23.164492580821857,
          23.180103727017517,
          23.154303433804117,
          23.08820395377244,
          22.983181198632142,
          22.840855340399703,
          22.6630691423532,
          22.45186437019821
         ]
        },
        {
         "line": {
          "color": "red",
          "dash": "dot"
         },
         "marker": {
          "size": 3
         },
         "name": "+epsilon",
         "type": "scatter",
         "x": [
          1990,
          1990.2727272727273,
          1990.5454545454545,
          1990.8181818181818,
          1991.090909090909,
          1991.3636363636363,
          1991.6363636363637,
          1991.909090909091,
          1992.1818181818182,
          1992.4545454545455,
          1992.7272727272727,
          1993,
          1993.2727272727273,
          1993.5454545454545,
          1993.8181818181818,
          1994.090909090909,
          1994.3636363636363,
          1994.6363636363637,
          1994.909090909091,
          1995.1818181818182,
          1995.4545454545455,
          1995.7272727272727,
          1996,
          1996.2727272727273,
          1996.5454545454545,
          1996.8181818181818,
          1997.090909090909,
          1997.3636363636363,
          1997.6363636363637,
          1997.909090909091,
          1998.1818181818182,
          1998.4545454545455,
          1998.7272727272727,
          1999,
          1999.2727272727273,
          1999.5454545454545,
          1999.8181818181818,
          2000.090909090909,
          2000.3636363636363,
          2000.6363636363637,
          2000.909090909091,
          2001.1818181818182,
          2001.4545454545455,
          2001.7272727272727,
          2002,
          2002.2727272727273,
          2002.5454545454545,
          2002.8181818181818,
          2003.090909090909,
          2003.3636363636363,
          2003.6363636363637,
          2003.909090909091,
          2004.1818181818182,
          2004.4545454545455,
          2004.7272727272727,
          2005,
          2005.2727272727273,
          2005.5454545454545,
          2005.8181818181818,
          2006.090909090909,
          2006.3636363636363,
          2006.6363636363637,
          2006.909090909091,
          2007.1818181818182,
          2007.4545454545455,
          2007.7272727272727,
          2008,
          2008.2727272727273,
          2008.5454545454545,
          2008.8181818181818,
          2009.090909090909,
          2009.3636363636363,
          2009.6363636363637,
          2009.909090909091,
          2010.1818181818182,
          2010.4545454545455,
          2010.7272727272727,
          2011,
          2011.2727272727273,
          2011.5454545454545,
          2011.8181818181818,
          2012.090909090909,
          2012.3636363636363,
          2012.6363636363637,
          2012.909090909091,
          2013.1818181818182,
          2013.4545454545455,
          2013.7272727272727,
          2014,
          2014.2727272727273,
          2014.5454545454545,
          2014.8181818181818,
          2015.090909090909,
          2015.3636363636363,
          2015.6363636363637,
          2015.909090909091,
          2016.1818181818182,
          2016.4545454545455,
          2016.7272727272727,
          2017
         ],
         "y": [
          4.037712560560487,
          3.981667237789651,
          3.93790872189585,
          3.9062284987139595,
          3.886319196921675,
          3.8777778318767027,
          3.8801102566912764,
          3.892736781081246,
          3.9149989035518873,
          3.946167088518494,
          3.9854495071881306,
          4.032001649592026,
          4.08493670515962,
          4.143336600728206,
          4.206263577911006,
          4.272772186289321,
          4.341921564906506,
          4.412787881950688,
          4.484476801224008,
          4.556135843900824,
          4.626966515050976,
          4.696236066332536,
          4.763288769016198,
          4.827556574988149,
          4.888569047495904,
          4.945962448081012,
          4.9994878713355595,
          5.049018324803134,
          5.094554657522896,
          5.136230247416239,
          5.174314364992844,
          5.209214138775728,
          5.24147505650543,
          5.271779945674107,
          5.300946387363947,
          5.32992252881573,
          5.359781272716675,
          5.391712834936833,
          5.4270156773979785,
          5.4670858389328405,
          5.5134047043497425,
          5.567525270379495,
          5.63105698661599,
          5.705649269793993,
          5.792973810541573,
          5.89470581282106,
          6.012504327300553,
          6.147991860504765,
          6.302733461369229,
          6.478215505326572,
          6.675824412829179,
          6.896825553790006,
          7.142342601344511,
          7.413337607138432,
          7.7105920756292825,
          8.034689316254752,
          8.38599834945796,
          8.764659635204982,
          9.170572880606025,
          9.603387166466097,
          10.062493611048462,
          10.547020763140779,
          11.05583288587792,
          11.587531258030543,
          12.140458581004946,
          12.712706538194713,
          13.302126509147804,
          13.90634339500372,
          14.522772464577091,
          15.148639083157212,
          15.781001139433007,
          16.41677394084016,
          17.052757304963496,
          17.685664535292496,
          18.31215293448381,
          18.928855478072037,
          19.532413247058148,
          20.119508199532007,
          20.686895849983678,
          21.231437420566863,
          21.750131031516602,
          22.24014150825884,
          22.698828400390862,
          23.123771832416182,
          23.512795837483722,
          23.86398886287993,
          24.17572117894652,
          24.446658970693175,
          24.67577494269868,
          24.862355321993093,
          25.00600319943255,
          25.106638206542,
          25.164492580821857,
          25.180103727017517,
          25.154303433804117,
          25.08820395377244,
          24.983181198632142,
          24.840855340399703,
          24.6630691423532,
          24.45186437019821
         ]
        },
        {
         "line": {
          "color": "red",
          "dash": "dot"
         },
         "marker": {
          "size": 3
         },
         "name": "-epsilon",
         "type": "scatter",
         "x": [
          1990,
          1990.2727272727273,
          1990.5454545454545,
          1990.8181818181818,
          1991.090909090909,
          1991.3636363636363,
          1991.6363636363637,
          1991.909090909091,
          1992.1818181818182,
          1992.4545454545455,
          1992.7272727272727,
          1993,
          1993.2727272727273,
          1993.5454545454545,
          1993.8181818181818,
          1994.090909090909,
          1994.3636363636363,
          1994.6363636363637,
          1994.909090909091,
          1995.1818181818182,
          1995.4545454545455,
          1995.7272727272727,
          1996,
          1996.2727272727273,
          1996.5454545454545,
          1996.8181818181818,
          1997.090909090909,
          1997.3636363636363,
          1997.6363636363637,
          1997.909090909091,
          1998.1818181818182,
          1998.4545454545455,
          1998.7272727272727,
          1999,
          1999.2727272727273,
          1999.5454545454545,
          1999.8181818181818,
          2000.090909090909,
          2000.3636363636363,
          2000.6363636363637,
          2000.909090909091,
          2001.1818181818182,
          2001.4545454545455,
          2001.7272727272727,
          2002,
          2002.2727272727273,
          2002.5454545454545,
          2002.8181818181818,
          2003.090909090909,
          2003.3636363636363,
          2003.6363636363637,
          2003.909090909091,
          2004.1818181818182,
          2004.4545454545455,
          2004.7272727272727,
          2005,
          2005.2727272727273,
          2005.5454545454545,
          2005.8181818181818,
          2006.090909090909,
          2006.3636363636363,
          2006.6363636363637,
          2006.909090909091,
          2007.1818181818182,
          2007.4545454545455,
          2007.7272727272727,
          2008,
          2008.2727272727273,
          2008.5454545454545,
          2008.8181818181818,
          2009.090909090909,
          2009.3636363636363,
          2009.6363636363637,
          2009.909090909091,
          2010.1818181818182,
          2010.4545454545455,
          2010.7272727272727,
          2011,
          2011.2727272727273,
          2011.5454545454545,
          2011.8181818181818,
          2012.090909090909,
          2012.3636363636363,
          2012.6363636363637,
          2012.909090909091,
          2013.1818181818182,
          2013.4545454545455,
          2013.7272727272727,
          2014,
          2014.2727272727273,
          2014.5454545454545,
          2014.8181818181818,
          2015.090909090909,
          2015.3636363636363,
          2015.6363636363637,
          2015.909090909091,
          2016.1818181818182,
          2016.4545454545455,
          2016.7272727272727,
          2017
         ],
         "y": [
          0.037712560560486885,
          -0.018332762210349074,
          -0.06209127810415005,
          -0.0937715012860405,
          -0.11368080307832518,
          -0.12222216812329734,
          -0.1198897433087236,
          -0.1072632189187539,
          -0.08500109644811271,
          -0.05383291148150615,
          -0.014550492811869375,
          0.03200164959202567,
          0.08493670515962037,
          0.14333660072820642,
          0.20626357791100602,
          0.27277218628932065,
          0.3419215649065057,
          0.4127878819506883,
          0.48447680122400794,
          0.5561358439008242,
          0.6269665150509756,
          0.6962360663325358,
          0.7632887690161976,
          0.827556574988149,
          0.8885690474959036,
          0.945962448081012,
          0.9994878713355595,
          1.049018324803134,
          1.0945546575228962,
          1.136230247416239,
          1.1743143649928438,
          1.209214138775728,
          1.24147505650543,
          1.2717799456741066,
          1.3009463873639469,
          1.3299225288157297,
          1.359781272716675,
          1.3917128349368326,
          1.4270156773979785,
          1.4670858389328405,
          1.5134047043497425,
          1.5675252703794946,
          1.6310569866159899,
          1.7056492697939927,
          1.7929738105415733,
          1.8947058128210603,
          2.0125043273005527,
          2.1479918605047654,
          2.302733461369229,
          2.478215505326572,
          2.6758244128291793,
          2.8968255537900056,
          3.1423426013445113,
          3.4133376071384323,
          3.7105920756292825,
          4.034689316254752,
          4.38599834945796,
          4.764659635204981,
          5.170572880606025,
          5.6033871664660975,
          6.0624936110484615,
          6.547020763140779,
          7.055832885877919,
          7.587531258030543,
          8.140458581004946,
          8.712706538194713,
          9.302126509147804,
          9.90634339500372,
          10.522772464577091,
          11.148639083157212,
          11.781001139433007,
          12.416773940840159,
          13.052757304963496,
          13.685664535292496,
          14.312152934483809,
          14.928855478072037,
          15.532413247058148,
          16.119508199532007,
          16.686895849983678,
          17.231437420566863,
          17.750131031516602,
          18.24014150825884,
          18.698828400390862,
          19.123771832416182,
          19.512795837483722,
          19.86398886287993,
          20.17572117894652,
          20.446658970693175,
          20.67577494269868,
          20.862355321993093,
          21.00600319943255,
          21.106638206542,
          21.164492580821857,
          21.180103727017517,
          21.154303433804117,
          21.08820395377244,
          20.983181198632142,
          20.840855340399703,
          20.6630691423532,
          20.45186437019821
         ]
        }
       ],
       "layout": {
        "legend": {
         "tracegroupgap": 0
        },
        "margin": {
         "t": 60
        },
        "plot_bgcolor": "white",
        "template": {
         "data": {
          "bar": [
           {
            "error_x": {
             "color": "#2a3f5f"
            },
            "error_y": {
             "color": "#2a3f5f"
            },
            "marker": {
             "line": {
              "color": "#E5ECF6",
              "width": 0.5
             },
             "pattern": {
              "fillmode": "overlay",
              "size": 10,
              "solidity": 0.2
             }
            },
            "type": "bar"
           }
          ],
          "barpolar": [
           {
            "marker": {
             "line": {
              "color": "#E5ECF6",
              "width": 0.5
             },
             "pattern": {
              "fillmode": "overlay",
              "size": 10,
              "solidity": 0.2
             }
            },
            "type": "barpolar"
           }
          ],
          "carpet": [
           {
            "aaxis": {
             "endlinecolor": "#2a3f5f",
             "gridcolor": "white",
             "linecolor": "white",
             "minorgridcolor": "white",
             "startlinecolor": "#2a3f5f"
            },
            "baxis": {
             "endlinecolor": "#2a3f5f",
             "gridcolor": "white",
             "linecolor": "white",
             "minorgridcolor": "white",
             "startlinecolor": "#2a3f5f"
            },
            "type": "carpet"
           }
          ],
          "choropleth": [
           {
            "colorbar": {
             "outlinewidth": 0,
             "ticks": ""
            },
            "type": "choropleth"
           }
          ],
          "contour": [
           {
            "colorbar": {
             "outlinewidth": 0,
             "ticks": ""
            },
            "colorscale": [
             [
              0,
              "#0d0887"
             ],
             [
              0.1111111111111111,
              "#46039f"
             ],
             [
              0.2222222222222222,
              "#7201a8"
             ],
             [
              0.3333333333333333,
              "#9c179e"
             ],
             [
              0.4444444444444444,
              "#bd3786"
             ],
             [
              0.5555555555555556,
              "#d8576b"
             ],
             [
              0.6666666666666666,
              "#ed7953"
             ],
             [
              0.7777777777777778,
              "#fb9f3a"
             ],
             [
              0.8888888888888888,
              "#fdca26"
             ],
             [
              1,
              "#f0f921"
             ]
            ],
            "type": "contour"
           }
          ],
          "contourcarpet": [
           {
            "colorbar": {
             "outlinewidth": 0,
             "ticks": ""
            },
            "type": "contourcarpet"
           }
          ],
          "heatmap": [
           {
            "colorbar": {
             "outlinewidth": 0,
             "ticks": ""
            },
            "colorscale": [
             [
              0,
              "#0d0887"
             ],
             [
              0.1111111111111111,
              "#46039f"
             ],
             [
              0.2222222222222222,
              "#7201a8"
             ],
             [
              0.3333333333333333,
              "#9c179e"
             ],
             [
              0.4444444444444444,
              "#bd3786"
             ],
             [
              0.5555555555555556,
              "#d8576b"
             ],
             [
              0.6666666666666666,
              "#ed7953"
             ],
             [
              0.7777777777777778,
              "#fb9f3a"
             ],
             [
              0.8888888888888888,
              "#fdca26"
             ],
             [
              1,
              "#f0f921"
             ]
            ],
            "type": "heatmap"
           }
          ],
          "heatmapgl": [
           {
            "colorbar": {
             "outlinewidth": 0,
             "ticks": ""
            },
            "colorscale": [
             [
              0,
              "#0d0887"
             ],
             [
              0.1111111111111111,
              "#46039f"
             ],
             [
              0.2222222222222222,
              "#7201a8"
             ],
             [
              0.3333333333333333,
              "#9c179e"
             ],
             [
              0.4444444444444444,
              "#bd3786"
             ],
             [
              0.5555555555555556,
              "#d8576b"
             ],
             [
              0.6666666666666666,
              "#ed7953"
             ],
             [
              0.7777777777777778,
              "#fb9f3a"
             ],
             [
              0.8888888888888888,
              "#fdca26"
             ],
             [
              1,
              "#f0f921"
             ]
            ],
            "type": "heatmapgl"
           }
          ],
          "histogram": [
           {
            "marker": {
             "pattern": {
              "fillmode": "overlay",
              "size": 10,
              "solidity": 0.2
             }
            },
            "type": "histogram"
           }
          ],
          "histogram2d": [
           {
            "colorbar": {
             "outlinewidth": 0,
             "ticks": ""
            },
            "colorscale": [
             [
              0,
              "#0d0887"
             ],
             [
              0.1111111111111111,
              "#46039f"
             ],
             [
              0.2222222222222222,
              "#7201a8"
             ],
             [
              0.3333333333333333,
              "#9c179e"
             ],
             [
              0.4444444444444444,
              "#bd3786"
             ],
             [
              0.5555555555555556,
              "#d8576b"
             ],
             [
              0.6666666666666666,
              "#ed7953"
             ],
             [
              0.7777777777777778,
              "#fb9f3a"
             ],
             [
              0.8888888888888888,
              "#fdca26"
             ],
             [
              1,
              "#f0f921"
             ]
            ],
            "type": "histogram2d"
           }
          ],
          "histogram2dcontour": [
           {
            "colorbar": {
             "outlinewidth": 0,
             "ticks": ""
            },
            "colorscale": [
             [
              0,
              "#0d0887"
             ],
             [
              0.1111111111111111,
              "#46039f"
             ],
             [
              0.2222222222222222,
              "#7201a8"
             ],
             [
              0.3333333333333333,
              "#9c179e"
             ],
             [
              0.4444444444444444,
              "#bd3786"
             ],
             [
              0.5555555555555556,
              "#d8576b"
             ],
             [
              0.6666666666666666,
              "#ed7953"
             ],
             [
              0.7777777777777778,
              "#fb9f3a"
             ],
             [
              0.8888888888888888,
              "#fdca26"
             ],
             [
              1,
              "#f0f921"
             ]
            ],
            "type": "histogram2dcontour"
           }
          ],
          "mesh3d": [
           {
            "colorbar": {
             "outlinewidth": 0,
             "ticks": ""
            },
            "type": "mesh3d"
           }
          ],
          "parcoords": [
           {
            "line": {
             "colorbar": {
              "outlinewidth": 0,
              "ticks": ""
             }
            },
            "type": "parcoords"
           }
          ],
          "pie": [
           {
            "automargin": true,
            "type": "pie"
           }
          ],
          "scatter": [
           {
            "marker": {
             "colorbar": {
              "outlinewidth": 0,
              "ticks": ""
             }
            },
            "type": "scatter"
           }
          ],
          "scatter3d": [
           {
            "line": {
             "colorbar": {
              "outlinewidth": 0,
              "ticks": ""
             }
            },
            "marker": {
             "colorbar": {
              "outlinewidth": 0,
              "ticks": ""
             }
            },
            "type": "scatter3d"
           }
          ],
          "scattercarpet": [
           {
            "marker": {
             "colorbar": {
              "outlinewidth": 0,
              "ticks": ""
             }
            },
            "type": "scattercarpet"
           }
          ],
          "scattergeo": [
           {
            "marker": {
             "colorbar": {
              "outlinewidth": 0,
              "ticks": ""
             }
            },
            "type": "scattergeo"
           }
          ],
          "scattergl": [
           {
            "marker": {
             "colorbar": {
              "outlinewidth": 0,
              "ticks": ""
             }
            },
            "type": "scattergl"
           }
          ],
          "scattermapbox": [
           {
            "marker": {
             "colorbar": {
              "outlinewidth": 0,
              "ticks": ""
             }
            },
            "type": "scattermapbox"
           }
          ],
          "scatterpolar": [
           {
            "marker": {
             "colorbar": {
              "outlinewidth": 0,
              "ticks": ""
             }
            },
            "type": "scatterpolar"
           }
          ],
          "scatterpolargl": [
           {
            "marker": {
             "colorbar": {
              "outlinewidth": 0,
              "ticks": ""
             }
            },
            "type": "scatterpolargl"
           }
          ],
          "scatterternary": [
           {
            "marker": {
             "colorbar": {
              "outlinewidth": 0,
              "ticks": ""
             }
            },
            "type": "scatterternary"
           }
          ],
          "surface": [
           {
            "colorbar": {
             "outlinewidth": 0,
             "ticks": ""
            },
            "colorscale": [
             [
              0,
              "#0d0887"
             ],
             [
              0.1111111111111111,
              "#46039f"
             ],
             [
              0.2222222222222222,
              "#7201a8"
             ],
             [
              0.3333333333333333,
              "#9c179e"
             ],
             [
              0.4444444444444444,
              "#bd3786"
             ],
             [
              0.5555555555555556,
              "#d8576b"
             ],
             [
              0.6666666666666666,
              "#ed7953"
             ],
             [
              0.7777777777777778,
              "#fb9f3a"
             ],
             [
              0.8888888888888888,
              "#fdca26"
             ],
             [
              1,
              "#f0f921"
             ]
            ],
            "type": "surface"
           }
          ],
          "table": [
           {
            "cells": {
             "fill": {
              "color": "#EBF0F8"
             },
             "line": {
              "color": "white"
             }
            },
            "header": {
             "fill": {
              "color": "#C8D4E3"
             },
             "line": {
              "color": "white"
             }
            },
            "type": "table"
           }
          ]
         },
         "layout": {
          "annotationdefaults": {
           "arrowcolor": "#2a3f5f",
           "arrowhead": 0,
           "arrowwidth": 1
          },
          "autotypenumbers": "strict",
          "coloraxis": {
           "colorbar": {
            "outlinewidth": 0,
            "ticks": ""
           }
          },
          "colorscale": {
           "diverging": [
            [
             0,
             "#8e0152"
            ],
            [
             0.1,
             "#c51b7d"
            ],
            [
             0.2,
             "#de77ae"
            ],
            [
             0.3,
             "#f1b6da"
            ],
            [
             0.4,
             "#fde0ef"
            ],
            [
             0.5,
             "#f7f7f7"
            ],
            [
             0.6,
             "#e6f5d0"
            ],
            [
             0.7,
             "#b8e186"
            ],
            [
             0.8,
             "#7fbc41"
            ],
            [
             0.9,
             "#4d9221"
            ],
            [
             1,
             "#276419"
            ]
           ],
           "sequential": [
            [
             0,
             "#0d0887"
            ],
            [
             0.1111111111111111,
             "#46039f"
            ],
            [
             0.2222222222222222,
             "#7201a8"
            ],
            [
             0.3333333333333333,
             "#9c179e"
            ],
            [
             0.4444444444444444,
             "#bd3786"
            ],
            [
             0.5555555555555556,
             "#d8576b"
            ],
            [
             0.6666666666666666,
             "#ed7953"
            ],
            [
             0.7777777777777778,
             "#fb9f3a"
            ],
            [
             0.8888888888888888,
             "#fdca26"
            ],
            [
             1,
             "#f0f921"
            ]
           ],
           "sequentialminus": [
            [
             0,
             "#0d0887"
            ],
            [
             0.1111111111111111,
             "#46039f"
            ],
            [
             0.2222222222222222,
             "#7201a8"
            ],
            [
             0.3333333333333333,
             "#9c179e"
            ],
            [
             0.4444444444444444,
             "#bd3786"
            ],
            [
             0.5555555555555556,
             "#d8576b"
            ],
            [
             0.6666666666666666,
             "#ed7953"
            ],
            [
             0.7777777777777778,
             "#fb9f3a"
            ],
            [
             0.8888888888888888,
             "#fdca26"
            ],
            [
             1,
             "#f0f921"
            ]
           ]
          },
          "colorway": [
           "#636efa",
           "#EF553B",
           "#00cc96",
           "#ab63fa",
           "#FFA15A",
           "#19d3f3",
           "#FF6692",
           "#B6E880",
           "#FF97FF",
           "#FECB52"
          ],
          "font": {
           "color": "#2a3f5f"
          },
          "geo": {
           "bgcolor": "white",
           "lakecolor": "white",
           "landcolor": "#E5ECF6",
           "showlakes": true,
           "showland": true,
           "subunitcolor": "white"
          },
          "hoverlabel": {
           "align": "left"
          },
          "hovermode": "closest",
          "mapbox": {
           "style": "light"
          },
          "paper_bgcolor": "white",
          "plot_bgcolor": "#E5ECF6",
          "polar": {
           "angularaxis": {
            "gridcolor": "white",
            "linecolor": "white",
            "ticks": ""
           },
           "bgcolor": "#E5ECF6",
           "radialaxis": {
            "gridcolor": "white",
            "linecolor": "white",
            "ticks": ""
           }
          },
          "scene": {
           "xaxis": {
            "backgroundcolor": "#E5ECF6",
            "gridcolor": "white",
            "gridwidth": 2,
            "linecolor": "white",
            "showbackground": true,
            "ticks": "",
            "zerolinecolor": "white"
           },
           "yaxis": {
            "backgroundcolor": "#E5ECF6",
            "gridcolor": "white",
            "gridwidth": 2,
            "linecolor": "white",
            "showbackground": true,
            "ticks": "",
            "zerolinecolor": "white"
           },
           "zaxis": {
            "backgroundcolor": "#E5ECF6",
            "gridcolor": "white",
            "gridwidth": 2,
            "linecolor": "white",
            "showbackground": true,
            "ticks": "",
            "zerolinecolor": "white"
           }
          },
          "shapedefaults": {
           "line": {
            "color": "#2a3f5f"
           }
          },
          "ternary": {
           "aaxis": {
            "gridcolor": "white",
            "linecolor": "white",
            "ticks": ""
           },
           "baxis": {
            "gridcolor": "white",
            "linecolor": "white",
            "ticks": ""
           },
           "bgcolor": "#E5ECF6",
           "caxis": {
            "gridcolor": "white",
            "linecolor": "white",
            "ticks": ""
           }
          },
          "title": {
           "x": 0.05
          },
          "xaxis": {
           "automargin": true,
           "gridcolor": "white",
           "linecolor": "white",
           "ticks": "",
           "title": {
            "standoff": 15
           },
           "zerolinecolor": "white",
           "zerolinewidth": 2
          },
          "yaxis": {
           "automargin": true,
           "gridcolor": "white",
           "linecolor": "white",
           "ticks": "",
           "title": {
            "standoff": 15
           },
           "zerolinecolor": "white",
           "zerolinewidth": 2
          }
         }
        },
        "title": {
         "font": {
          "color": "black"
         },
         "text": "Other Energy Consumption in India (epsilon=2, C=50)"
        },
        "xaxis": {
         "anchor": "y",
         "domain": [
          0,
          1
         ],
         "gridcolor": "lightgrey",
         "gridwidth": 1,
         "linecolor": "black",
         "linewidth": 1,
         "showgrid": true,
         "showline": true,
         "title": {
          "text": "Year"
         },
         "zeroline": true,
         "zerolinecolor": "lightgrey",
         "zerolinewidth": 1
        },
        "yaxis": {
         "anchor": "x",
         "domain": [
          0,
          1
         ],
         "gridcolor": "lightgrey",
         "gridwidth": 1,
         "linecolor": "black",
         "linewidth": 1,
         "showgrid": true,
         "showline": true,
         "title": {
          "text": "Other renewables (terawatt-hours)"
         },
         "zeroline": true,
         "zerolinecolor": "lightgrey",
         "zerolinewidth": 1
        }
       }
      },
      "text/html": [
       "<div>                            <div id=\"617091c1-eac0-4eab-978c-3d6fc8022752\" class=\"plotly-graph-div\" style=\"height:525px; width:100%;\"></div>            <script type=\"text/javascript\">                require([\"plotly\"], function(Plotly) {                    window.PLOTLYENV=window.PLOTLYENV || {};                                    if (document.getElementById(\"617091c1-eac0-4eab-978c-3d6fc8022752\")) {                    Plotly.newPlot(                        \"617091c1-eac0-4eab-978c-3d6fc8022752\",                        [{\"hovertemplate\":\"Year=%{x}<br>Other renewables (terawatt-hours)=%{y}<extra></extra>\",\"legendgroup\":\"\",\"marker\":{\"color\":\"black\",\"opacity\":0.8,\"symbol\":\"circle\",\"size\":3},\"mode\":\"markers\",\"name\":\"\",\"orientation\":\"v\",\"showlegend\":false,\"x\":[1990,1991,1992,1993,1994,1995,1996,1997,1998,1999,2000,2001,2002,2003,2004,2005,2006,2007,2008,2009,2010,2011,2012,2013,2014,2015,2016,2017],\"xaxis\":\"x\",\"y\":[0.0375863363363363,0.0950713213213213,0.119391891891892,0.252049549549549,0.380285285285285,0.563795045045045,0.756148648648648,0.981666666666666,1.29252777777778,1.68607882882883,1.68607882882883,2.06914992492492,2.13990067567568,2.71253956456456,3.31436313813814,4.03513641141141,5.587,7.403,9.302,11.642,14.295,17.137,19.936,22.478,24.676,25.818,24.8168457331189,21.61979],\"yaxis\":\"y\",\"type\":\"scatter\"},{\"line\":{\"color\":\"limegreen\"},\"name\":\"Linear Regression\",\"x\":[1990.0,1990.2727272727273,1990.5454545454545,1990.8181818181818,1991.090909090909,1991.3636363636363,1991.6363636363637,1991.909090909091,1992.1818181818182,1992.4545454545455,1992.7272727272727,1993.0,1993.2727272727273,1993.5454545454545,1993.8181818181818,1994.090909090909,1994.3636363636363,1994.6363636363637,1994.909090909091,1995.1818181818182,1995.4545454545455,1995.7272727272727,1996.0,1996.2727272727273,1996.5454545454545,1996.8181818181818,1997.090909090909,1997.3636363636363,1997.6363636363637,1997.909090909091,1998.1818181818182,1998.4545454545455,1998.7272727272727,1999.0,1999.2727272727273,1999.5454545454545,1999.8181818181818,2000.090909090909,2000.3636363636363,2000.6363636363637,2000.909090909091,2001.1818181818182,2001.4545454545455,2001.7272727272727,2002.0,2002.2727272727273,2002.5454545454545,2002.8181818181818,2003.090909090909,2003.3636363636363,2003.6363636363637,2003.909090909091,2004.1818181818182,2004.4545454545455,2004.7272727272727,2005.0,2005.2727272727273,2005.5454545454545,2005.8181818181818,2006.090909090909,2006.3636363636363,2006.6363636363637,2006.909090909091,2007.1818181818182,2007.4545454545455,2007.7272727272727,2008.0,2008.2727272727273,2008.5454545454545,2008.8181818181818,2009.090909090909,2009.3636363636363,2009.6363636363637,2009.909090909091,2010.1818181818182,2010.4545454545455,2010.7272727272727,2011.0,2011.2727272727273,2011.5454545454545,2011.8181818181818,2012.090909090909,2012.3636363636363,2012.6363636363637,2012.909090909091,2013.1818181818182,2013.4545454545455,2013.7272727272727,2014.0,2014.2727272727273,2014.5454545454545,2014.8181818181818,2015.090909090909,2015.3636363636363,2015.6363636363637,2015.909090909091,2016.1818181818182,2016.4545454545455,2016.7272727272727,2017.0],\"y\":[-4.190288209921846,-3.9509163169452677,-3.7115444239686894,-3.472172530992111,-3.232800638015533,-2.993428745039182,-2.7540568520623765,-2.5146849590857983,-2.27531306610922,-2.035941173132642,-1.796569280156291,-1.5571973871797127,-1.3178254942031344,-1.0784536012265562,-0.839081708249978,-0.5997098152733997,-0.36033792229704886,-0.12096602932024325,0.11840586365633499,0.3577777566329132,0.5971496496094915,0.8365215425860697,1.0758934355624206,1.3152653285389988,1.554637221515577,1.7940091144921553,2.0333810074687335,2.2727529004453118,2.51212479342189,2.7514966863984682,2.9908685793750465,3.2302404723516247,3.469612365328203,3.708984258304554,3.948356151281132,4.18772804425771,4.4270999372342885,4.666471830210867,4.905843723187445,5.145215616164023,5.3845875091406015,5.62395940211718,5.863331295093758,6.102703188070336,6.342075081046687,6.581446974023265,6.8208188669998435,7.060190759976422,7.299562652953,7.538934545929578,7.7783064389061565,8.017678331882735,8.257050224859313,8.496422117835891,8.73579401081247,8.975165903789048,9.214537796765399,9.453909689741977,9.693281582718555,9.932653475695133,10.172025368671711,10.41139726164829,10.650769154624868,10.890141047601446,11.129512940578024,11.368884833554603,11.608256726531181,11.847628619507532,12.08700051248411,12.326372405460688,12.565744298437266,12.805116191413845,13.044488084390423,13.283859977367001,13.52323187034358,13.762603763320158,14.001975656296736,14.241347549273314,14.480719442249665,14.720091335226243,14.959463228202821,15.1988351211794,15.438207014155978,15.677578907132784,15.916950800109134,16.156322693085713,16.39569458606229,16.63506647903887,16.874438372015447,17.113810264992026,17.353182157968376,17.592554050944955,17.831925943921533,18.07129783689811,18.310669729874917,18.550041622851268,18.789413515827846,19.028785408804424,19.268157301781002,19.50752919475758],\"type\":\"scatter\",\"marker\":{\"size\":3}},{\"line\":{\"color\":\"red\"},\"name\":\"Support Vector Regression\",\"x\":[1990.0,1990.2727272727273,1990.5454545454545,1990.8181818181818,1991.090909090909,1991.3636363636363,1991.6363636363637,1991.909090909091,1992.1818181818182,1992.4545454545455,1992.7272727272727,1993.0,1993.2727272727273,1993.5454545454545,1993.8181818181818,1994.090909090909,1994.3636363636363,1994.6363636363637,1994.909090909091,1995.1818181818182,1995.4545454545455,1995.7272727272727,1996.0,1996.2727272727273,1996.5454545454545,1996.8181818181818,1997.090909090909,1997.3636363636363,1997.6363636363637,1997.909090909091,1998.1818181818182,1998.4545454545455,1998.7272727272727,1999.0,1999.2727272727273,1999.5454545454545,1999.8181818181818,2000.090909090909,2000.3636363636363,2000.6363636363637,2000.909090909091,2001.1818181818182,2001.4545454545455,2001.7272727272727,2002.0,2002.2727272727273,2002.5454545454545,2002.8181818181818,2003.090909090909,2003.3636363636363,2003.6363636363637,2003.909090909091,2004.1818181818182,2004.4545454545455,2004.7272727272727,2005.0,2005.2727272727273,2005.5454545454545,2005.8181818181818,2006.090909090909,2006.3636363636363,2006.6363636363637,2006.909090909091,2007.1818181818182,2007.4545454545455,2007.7272727272727,2008.0,2008.2727272727273,2008.5454545454545,2008.8181818181818,2009.090909090909,2009.3636363636363,2009.6363636363637,2009.909090909091,2010.1818181818182,2010.4545454545455,2010.7272727272727,2011.0,2011.2727272727273,2011.5454545454545,2011.8181818181818,2012.090909090909,2012.3636363636363,2012.6363636363637,2012.909090909091,2013.1818181818182,2013.4545454545455,2013.7272727272727,2014.0,2014.2727272727273,2014.5454545454545,2014.8181818181818,2015.090909090909,2015.3636363636363,2015.6363636363637,2015.909090909091,2016.1818181818182,2016.4545454545455,2016.7272727272727,2017.0],\"y\":[2.037712560560487,1.981667237789651,1.93790872189585,1.9062284987139595,1.8863191969216748,1.8777778318767027,1.8801102566912764,1.892736781081246,1.9149989035518873,1.9461670885184938,1.9854495071881306,2.0320016495920257,2.0849367051596204,2.1433366007282064,2.206263577911006,2.2727721862893207,2.3419215649065057,2.4127878819506883,2.484476801224008,2.556135843900824,2.6269665150509756,2.6962360663325358,2.7632887690161976,2.827556574988149,2.8885690474959036,2.945962448081012,2.9994878713355595,3.049018324803134,3.094554657522896,3.136230247416239,3.174314364992844,3.209214138775728,3.24147505650543,3.2717799456741066,3.300946387363947,3.3299225288157297,3.359781272716675,3.3917128349368326,3.4270156773979785,3.4670858389328405,3.5134047043497425,3.5675252703794946,3.63105698661599,3.7056492697939927,3.7929738105415733,3.8947058128210603,4.012504327300553,4.147991860504765,4.302733461369229,4.478215505326572,4.675824412829179,4.896825553790006,5.142342601344511,5.413337607138432,5.7105920756292825,6.034689316254752,6.38599834945796,6.764659635204981,7.170572880606025,7.6033871664660975,8.062493611048462,8.547020763140779,9.05583288587792,9.587531258030543,10.140458581004946,10.712706538194713,11.302126509147804,11.90634339500372,12.522772464577091,13.148639083157212,13.781001139433007,14.416773940840159,15.052757304963496,15.685664535292496,16.31215293448381,16.928855478072037,17.532413247058148,18.119508199532007,18.686895849983678,19.231437420566863,19.750131031516602,20.24014150825884,20.698828400390862,21.123771832416182,21.512795837483722,21.86398886287993,22.17572117894652,22.446658970693175,22.67577494269868,22.862355321993093,23.00600319943255,23.106638206542,23.164492580821857,23.180103727017517,23.154303433804117,23.08820395377244,22.983181198632142,22.840855340399703,22.6630691423532,22.45186437019821],\"type\":\"scatter\",\"marker\":{\"size\":3}},{\"line\":{\"color\":\"red\",\"dash\":\"dot\"},\"name\":\"+epsilon\",\"x\":[1990.0,1990.2727272727273,1990.5454545454545,1990.8181818181818,1991.090909090909,1991.3636363636363,1991.6363636363637,1991.909090909091,1992.1818181818182,1992.4545454545455,1992.7272727272727,1993.0,1993.2727272727273,1993.5454545454545,1993.8181818181818,1994.090909090909,1994.3636363636363,1994.6363636363637,1994.909090909091,1995.1818181818182,1995.4545454545455,1995.7272727272727,1996.0,1996.2727272727273,1996.5454545454545,1996.8181818181818,1997.090909090909,1997.3636363636363,1997.6363636363637,1997.909090909091,1998.1818181818182,1998.4545454545455,1998.7272727272727,1999.0,1999.2727272727273,1999.5454545454545,1999.8181818181818,2000.090909090909,2000.3636363636363,2000.6363636363637,2000.909090909091,2001.1818181818182,2001.4545454545455,2001.7272727272727,2002.0,2002.2727272727273,2002.5454545454545,2002.8181818181818,2003.090909090909,2003.3636363636363,2003.6363636363637,2003.909090909091,2004.1818181818182,2004.4545454545455,2004.7272727272727,2005.0,2005.2727272727273,2005.5454545454545,2005.8181818181818,2006.090909090909,2006.3636363636363,2006.6363636363637,2006.909090909091,2007.1818181818182,2007.4545454545455,2007.7272727272727,2008.0,2008.2727272727273,2008.5454545454545,2008.8181818181818,2009.090909090909,2009.3636363636363,2009.6363636363637,2009.909090909091,2010.1818181818182,2010.4545454545455,2010.7272727272727,2011.0,2011.2727272727273,2011.5454545454545,2011.8181818181818,2012.090909090909,2012.3636363636363,2012.6363636363637,2012.909090909091,2013.1818181818182,2013.4545454545455,2013.7272727272727,2014.0,2014.2727272727273,2014.5454545454545,2014.8181818181818,2015.090909090909,2015.3636363636363,2015.6363636363637,2015.909090909091,2016.1818181818182,2016.4545454545455,2016.7272727272727,2017.0],\"y\":[4.037712560560487,3.981667237789651,3.93790872189585,3.9062284987139595,3.886319196921675,3.8777778318767027,3.8801102566912764,3.892736781081246,3.9149989035518873,3.946167088518494,3.9854495071881306,4.032001649592026,4.08493670515962,4.143336600728206,4.206263577911006,4.272772186289321,4.341921564906506,4.412787881950688,4.484476801224008,4.556135843900824,4.626966515050976,4.696236066332536,4.763288769016198,4.827556574988149,4.888569047495904,4.945962448081012,4.9994878713355595,5.049018324803134,5.094554657522896,5.136230247416239,5.174314364992844,5.209214138775728,5.24147505650543,5.271779945674107,5.300946387363947,5.32992252881573,5.359781272716675,5.391712834936833,5.4270156773979785,5.4670858389328405,5.5134047043497425,5.567525270379495,5.63105698661599,5.705649269793993,5.792973810541573,5.89470581282106,6.012504327300553,6.147991860504765,6.302733461369229,6.478215505326572,6.675824412829179,6.896825553790006,7.142342601344511,7.413337607138432,7.7105920756292825,8.034689316254752,8.38599834945796,8.764659635204982,9.170572880606025,9.603387166466097,10.062493611048462,10.547020763140779,11.05583288587792,11.587531258030543,12.140458581004946,12.712706538194713,13.302126509147804,13.90634339500372,14.522772464577091,15.148639083157212,15.781001139433007,16.41677394084016,17.052757304963496,17.685664535292496,18.31215293448381,18.928855478072037,19.532413247058148,20.119508199532007,20.686895849983678,21.231437420566863,21.750131031516602,22.24014150825884,22.698828400390862,23.123771832416182,23.512795837483722,23.86398886287993,24.17572117894652,24.446658970693175,24.67577494269868,24.862355321993093,25.00600319943255,25.106638206542,25.164492580821857,25.180103727017517,25.154303433804117,25.08820395377244,24.983181198632142,24.840855340399703,24.6630691423532,24.45186437019821],\"type\":\"scatter\",\"marker\":{\"size\":3}},{\"line\":{\"color\":\"red\",\"dash\":\"dot\"},\"name\":\"-epsilon\",\"x\":[1990.0,1990.2727272727273,1990.5454545454545,1990.8181818181818,1991.090909090909,1991.3636363636363,1991.6363636363637,1991.909090909091,1992.1818181818182,1992.4545454545455,1992.7272727272727,1993.0,1993.2727272727273,1993.5454545454545,1993.8181818181818,1994.090909090909,1994.3636363636363,1994.6363636363637,1994.909090909091,1995.1818181818182,1995.4545454545455,1995.7272727272727,1996.0,1996.2727272727273,1996.5454545454545,1996.8181818181818,1997.090909090909,1997.3636363636363,1997.6363636363637,1997.909090909091,1998.1818181818182,1998.4545454545455,1998.7272727272727,1999.0,1999.2727272727273,1999.5454545454545,1999.8181818181818,2000.090909090909,2000.3636363636363,2000.6363636363637,2000.909090909091,2001.1818181818182,2001.4545454545455,2001.7272727272727,2002.0,2002.2727272727273,2002.5454545454545,2002.8181818181818,2003.090909090909,2003.3636363636363,2003.6363636363637,2003.909090909091,2004.1818181818182,2004.4545454545455,2004.7272727272727,2005.0,2005.2727272727273,2005.5454545454545,2005.8181818181818,2006.090909090909,2006.3636363636363,2006.6363636363637,2006.909090909091,2007.1818181818182,2007.4545454545455,2007.7272727272727,2008.0,2008.2727272727273,2008.5454545454545,2008.8181818181818,2009.090909090909,2009.3636363636363,2009.6363636363637,2009.909090909091,2010.1818181818182,2010.4545454545455,2010.7272727272727,2011.0,2011.2727272727273,2011.5454545454545,2011.8181818181818,2012.090909090909,2012.3636363636363,2012.6363636363637,2012.909090909091,2013.1818181818182,2013.4545454545455,2013.7272727272727,2014.0,2014.2727272727273,2014.5454545454545,2014.8181818181818,2015.090909090909,2015.3636363636363,2015.6363636363637,2015.909090909091,2016.1818181818182,2016.4545454545455,2016.7272727272727,2017.0],\"y\":[0.037712560560486885,-0.018332762210349074,-0.06209127810415005,-0.0937715012860405,-0.11368080307832518,-0.12222216812329734,-0.1198897433087236,-0.1072632189187539,-0.08500109644811271,-0.05383291148150615,-0.014550492811869375,0.03200164959202567,0.08493670515962037,0.14333660072820642,0.20626357791100602,0.27277218628932065,0.3419215649065057,0.4127878819506883,0.48447680122400794,0.5561358439008242,0.6269665150509756,0.6962360663325358,0.7632887690161976,0.827556574988149,0.8885690474959036,0.945962448081012,0.9994878713355595,1.049018324803134,1.0945546575228962,1.136230247416239,1.1743143649928438,1.209214138775728,1.24147505650543,1.2717799456741066,1.3009463873639469,1.3299225288157297,1.359781272716675,1.3917128349368326,1.4270156773979785,1.4670858389328405,1.5134047043497425,1.5675252703794946,1.6310569866159899,1.7056492697939927,1.7929738105415733,1.8947058128210603,2.0125043273005527,2.1479918605047654,2.302733461369229,2.478215505326572,2.6758244128291793,2.8968255537900056,3.1423426013445113,3.4133376071384323,3.7105920756292825,4.034689316254752,4.38599834945796,4.764659635204981,5.170572880606025,5.6033871664660975,6.0624936110484615,6.547020763140779,7.055832885877919,7.587531258030543,8.140458581004946,8.712706538194713,9.302126509147804,9.90634339500372,10.522772464577091,11.148639083157212,11.781001139433007,12.416773940840159,13.052757304963496,13.685664535292496,14.312152934483809,14.928855478072037,15.532413247058148,16.119508199532007,16.686895849983678,17.231437420566863,17.750131031516602,18.24014150825884,18.698828400390862,19.123771832416182,19.512795837483722,19.86398886287993,20.17572117894652,20.446658970693175,20.67577494269868,20.862355321993093,21.00600319943255,21.106638206542,21.164492580821857,21.180103727017517,21.154303433804117,21.08820395377244,20.983181198632142,20.840855340399703,20.6630691423532,20.45186437019821],\"type\":\"scatter\",\"marker\":{\"size\":3}}],                        {\"template\":{\"data\":{\"bar\":[{\"error_x\":{\"color\":\"#2a3f5f\"},\"error_y\":{\"color\":\"#2a3f5f\"},\"marker\":{\"line\":{\"color\":\"#E5ECF6\",\"width\":0.5},\"pattern\":{\"fillmode\":\"overlay\",\"size\":10,\"solidity\":0.2}},\"type\":\"bar\"}],\"barpolar\":[{\"marker\":{\"line\":{\"color\":\"#E5ECF6\",\"width\":0.5},\"pattern\":{\"fillmode\":\"overlay\",\"size\":10,\"solidity\":0.2}},\"type\":\"barpolar\"}],\"carpet\":[{\"aaxis\":{\"endlinecolor\":\"#2a3f5f\",\"gridcolor\":\"white\",\"linecolor\":\"white\",\"minorgridcolor\":\"white\",\"startlinecolor\":\"#2a3f5f\"},\"baxis\":{\"endlinecolor\":\"#2a3f5f\",\"gridcolor\":\"white\",\"linecolor\":\"white\",\"minorgridcolor\":\"white\",\"startlinecolor\":\"#2a3f5f\"},\"type\":\"carpet\"}],\"choropleth\":[{\"colorbar\":{\"outlinewidth\":0,\"ticks\":\"\"},\"type\":\"choropleth\"}],\"contour\":[{\"colorbar\":{\"outlinewidth\":0,\"ticks\":\"\"},\"colorscale\":[[0.0,\"#0d0887\"],[0.1111111111111111,\"#46039f\"],[0.2222222222222222,\"#7201a8\"],[0.3333333333333333,\"#9c179e\"],[0.4444444444444444,\"#bd3786\"],[0.5555555555555556,\"#d8576b\"],[0.6666666666666666,\"#ed7953\"],[0.7777777777777778,\"#fb9f3a\"],[0.8888888888888888,\"#fdca26\"],[1.0,\"#f0f921\"]],\"type\":\"contour\"}],\"contourcarpet\":[{\"colorbar\":{\"outlinewidth\":0,\"ticks\":\"\"},\"type\":\"contourcarpet\"}],\"heatmap\":[{\"colorbar\":{\"outlinewidth\":0,\"ticks\":\"\"},\"colorscale\":[[0.0,\"#0d0887\"],[0.1111111111111111,\"#46039f\"],[0.2222222222222222,\"#7201a8\"],[0.3333333333333333,\"#9c179e\"],[0.4444444444444444,\"#bd3786\"],[0.5555555555555556,\"#d8576b\"],[0.6666666666666666,\"#ed7953\"],[0.7777777777777778,\"#fb9f3a\"],[0.8888888888888888,\"#fdca26\"],[1.0,\"#f0f921\"]],\"type\":\"heatmap\"}],\"heatmapgl\":[{\"colorbar\":{\"outlinewidth\":0,\"ticks\":\"\"},\"colorscale\":[[0.0,\"#0d0887\"],[0.1111111111111111,\"#46039f\"],[0.2222222222222222,\"#7201a8\"],[0.3333333333333333,\"#9c179e\"],[0.4444444444444444,\"#bd3786\"],[0.5555555555555556,\"#d8576b\"],[0.6666666666666666,\"#ed7953\"],[0.7777777777777778,\"#fb9f3a\"],[0.8888888888888888,\"#fdca26\"],[1.0,\"#f0f921\"]],\"type\":\"heatmapgl\"}],\"histogram\":[{\"marker\":{\"pattern\":{\"fillmode\":\"overlay\",\"size\":10,\"solidity\":0.2}},\"type\":\"histogram\"}],\"histogram2d\":[{\"colorbar\":{\"outlinewidth\":0,\"ticks\":\"\"},\"colorscale\":[[0.0,\"#0d0887\"],[0.1111111111111111,\"#46039f\"],[0.2222222222222222,\"#7201a8\"],[0.3333333333333333,\"#9c179e\"],[0.4444444444444444,\"#bd3786\"],[0.5555555555555556,\"#d8576b\"],[0.6666666666666666,\"#ed7953\"],[0.7777777777777778,\"#fb9f3a\"],[0.8888888888888888,\"#fdca26\"],[1.0,\"#f0f921\"]],\"type\":\"histogram2d\"}],\"histogram2dcontour\":[{\"colorbar\":{\"outlinewidth\":0,\"ticks\":\"\"},\"colorscale\":[[0.0,\"#0d0887\"],[0.1111111111111111,\"#46039f\"],[0.2222222222222222,\"#7201a8\"],[0.3333333333333333,\"#9c179e\"],[0.4444444444444444,\"#bd3786\"],[0.5555555555555556,\"#d8576b\"],[0.6666666666666666,\"#ed7953\"],[0.7777777777777778,\"#fb9f3a\"],[0.8888888888888888,\"#fdca26\"],[1.0,\"#f0f921\"]],\"type\":\"histogram2dcontour\"}],\"mesh3d\":[{\"colorbar\":{\"outlinewidth\":0,\"ticks\":\"\"},\"type\":\"mesh3d\"}],\"parcoords\":[{\"line\":{\"colorbar\":{\"outlinewidth\":0,\"ticks\":\"\"}},\"type\":\"parcoords\"}],\"pie\":[{\"automargin\":true,\"type\":\"pie\"}],\"scatter\":[{\"marker\":{\"colorbar\":{\"outlinewidth\":0,\"ticks\":\"\"}},\"type\":\"scatter\"}],\"scatter3d\":[{\"line\":{\"colorbar\":{\"outlinewidth\":0,\"ticks\":\"\"}},\"marker\":{\"colorbar\":{\"outlinewidth\":0,\"ticks\":\"\"}},\"type\":\"scatter3d\"}],\"scattercarpet\":[{\"marker\":{\"colorbar\":{\"outlinewidth\":0,\"ticks\":\"\"}},\"type\":\"scattercarpet\"}],\"scattergeo\":[{\"marker\":{\"colorbar\":{\"outlinewidth\":0,\"ticks\":\"\"}},\"type\":\"scattergeo\"}],\"scattergl\":[{\"marker\":{\"colorbar\":{\"outlinewidth\":0,\"ticks\":\"\"}},\"type\":\"scattergl\"}],\"scattermapbox\":[{\"marker\":{\"colorbar\":{\"outlinewidth\":0,\"ticks\":\"\"}},\"type\":\"scattermapbox\"}],\"scatterpolar\":[{\"marker\":{\"colorbar\":{\"outlinewidth\":0,\"ticks\":\"\"}},\"type\":\"scatterpolar\"}],\"scatterpolargl\":[{\"marker\":{\"colorbar\":{\"outlinewidth\":0,\"ticks\":\"\"}},\"type\":\"scatterpolargl\"}],\"scatterternary\":[{\"marker\":{\"colorbar\":{\"outlinewidth\":0,\"ticks\":\"\"}},\"type\":\"scatterternary\"}],\"surface\":[{\"colorbar\":{\"outlinewidth\":0,\"ticks\":\"\"},\"colorscale\":[[0.0,\"#0d0887\"],[0.1111111111111111,\"#46039f\"],[0.2222222222222222,\"#7201a8\"],[0.3333333333333333,\"#9c179e\"],[0.4444444444444444,\"#bd3786\"],[0.5555555555555556,\"#d8576b\"],[0.6666666666666666,\"#ed7953\"],[0.7777777777777778,\"#fb9f3a\"],[0.8888888888888888,\"#fdca26\"],[1.0,\"#f0f921\"]],\"type\":\"surface\"}],\"table\":[{\"cells\":{\"fill\":{\"color\":\"#EBF0F8\"},\"line\":{\"color\":\"white\"}},\"header\":{\"fill\":{\"color\":\"#C8D4E3\"},\"line\":{\"color\":\"white\"}},\"type\":\"table\"}]},\"layout\":{\"annotationdefaults\":{\"arrowcolor\":\"#2a3f5f\",\"arrowhead\":0,\"arrowwidth\":1},\"autotypenumbers\":\"strict\",\"coloraxis\":{\"colorbar\":{\"outlinewidth\":0,\"ticks\":\"\"}},\"colorscale\":{\"diverging\":[[0,\"#8e0152\"],[0.1,\"#c51b7d\"],[0.2,\"#de77ae\"],[0.3,\"#f1b6da\"],[0.4,\"#fde0ef\"],[0.5,\"#f7f7f7\"],[0.6,\"#e6f5d0\"],[0.7,\"#b8e186\"],[0.8,\"#7fbc41\"],[0.9,\"#4d9221\"],[1,\"#276419\"]],\"sequential\":[[0.0,\"#0d0887\"],[0.1111111111111111,\"#46039f\"],[0.2222222222222222,\"#7201a8\"],[0.3333333333333333,\"#9c179e\"],[0.4444444444444444,\"#bd3786\"],[0.5555555555555556,\"#d8576b\"],[0.6666666666666666,\"#ed7953\"],[0.7777777777777778,\"#fb9f3a\"],[0.8888888888888888,\"#fdca26\"],[1.0,\"#f0f921\"]],\"sequentialminus\":[[0.0,\"#0d0887\"],[0.1111111111111111,\"#46039f\"],[0.2222222222222222,\"#7201a8\"],[0.3333333333333333,\"#9c179e\"],[0.4444444444444444,\"#bd3786\"],[0.5555555555555556,\"#d8576b\"],[0.6666666666666666,\"#ed7953\"],[0.7777777777777778,\"#fb9f3a\"],[0.8888888888888888,\"#fdca26\"],[1.0,\"#f0f921\"]]},\"colorway\":[\"#636efa\",\"#EF553B\",\"#00cc96\",\"#ab63fa\",\"#FFA15A\",\"#19d3f3\",\"#FF6692\",\"#B6E880\",\"#FF97FF\",\"#FECB52\"],\"font\":{\"color\":\"#2a3f5f\"},\"geo\":{\"bgcolor\":\"white\",\"lakecolor\":\"white\",\"landcolor\":\"#E5ECF6\",\"showlakes\":true,\"showland\":true,\"subunitcolor\":\"white\"},\"hoverlabel\":{\"align\":\"left\"},\"hovermode\":\"closest\",\"mapbox\":{\"style\":\"light\"},\"paper_bgcolor\":\"white\",\"plot_bgcolor\":\"#E5ECF6\",\"polar\":{\"angularaxis\":{\"gridcolor\":\"white\",\"linecolor\":\"white\",\"ticks\":\"\"},\"bgcolor\":\"#E5ECF6\",\"radialaxis\":{\"gridcolor\":\"white\",\"linecolor\":\"white\",\"ticks\":\"\"}},\"scene\":{\"xaxis\":{\"backgroundcolor\":\"#E5ECF6\",\"gridcolor\":\"white\",\"gridwidth\":2,\"linecolor\":\"white\",\"showbackground\":true,\"ticks\":\"\",\"zerolinecolor\":\"white\"},\"yaxis\":{\"backgroundcolor\":\"#E5ECF6\",\"gridcolor\":\"white\",\"gridwidth\":2,\"linecolor\":\"white\",\"showbackground\":true,\"ticks\":\"\",\"zerolinecolor\":\"white\"},\"zaxis\":{\"backgroundcolor\":\"#E5ECF6\",\"gridcolor\":\"white\",\"gridwidth\":2,\"linecolor\":\"white\",\"showbackground\":true,\"ticks\":\"\",\"zerolinecolor\":\"white\"}},\"shapedefaults\":{\"line\":{\"color\":\"#2a3f5f\"}},\"ternary\":{\"aaxis\":{\"gridcolor\":\"white\",\"linecolor\":\"white\",\"ticks\":\"\"},\"baxis\":{\"gridcolor\":\"white\",\"linecolor\":\"white\",\"ticks\":\"\"},\"bgcolor\":\"#E5ECF6\",\"caxis\":{\"gridcolor\":\"white\",\"linecolor\":\"white\",\"ticks\":\"\"}},\"title\":{\"x\":0.05},\"xaxis\":{\"automargin\":true,\"gridcolor\":\"white\",\"linecolor\":\"white\",\"ticks\":\"\",\"title\":{\"standoff\":15},\"zerolinecolor\":\"white\",\"zerolinewidth\":2},\"yaxis\":{\"automargin\":true,\"gridcolor\":\"white\",\"linecolor\":\"white\",\"ticks\":\"\",\"title\":{\"standoff\":15},\"zerolinecolor\":\"white\",\"zerolinewidth\":2}}},\"xaxis\":{\"anchor\":\"y\",\"domain\":[0.0,1.0],\"title\":{\"text\":\"Year\"},\"showgrid\":true,\"gridwidth\":1,\"gridcolor\":\"lightgrey\",\"zeroline\":true,\"zerolinewidth\":1,\"zerolinecolor\":\"lightgrey\",\"showline\":true,\"linewidth\":1,\"linecolor\":\"black\"},\"yaxis\":{\"anchor\":\"x\",\"domain\":[0.0,1.0],\"title\":{\"text\":\"Other renewables (terawatt-hours)\"},\"showgrid\":true,\"gridwidth\":1,\"gridcolor\":\"lightgrey\",\"zeroline\":true,\"zerolinewidth\":1,\"zerolinecolor\":\"lightgrey\",\"showline\":true,\"linewidth\":1,\"linecolor\":\"black\"},\"legend\":{\"tracegroupgap\":0},\"margin\":{\"t\":60},\"plot_bgcolor\":\"white\",\"title\":{\"font\":{\"color\":\"black\"},\"text\":\"Other Energy Consumption in India (epsilon=2, C=50)\"}},                        {\"responsive\": true}                    ).then(function(){\n",
       "                            \n",
       "var gd = document.getElementById('617091c1-eac0-4eab-978c-3d6fc8022752');\n",
       "var x = new MutationObserver(function (mutations, observer) {{\n",
       "        var display = window.getComputedStyle(gd).display;\n",
       "        if (!display || display === 'none') {{\n",
       "            console.log([gd, 'removed!']);\n",
       "            Plotly.purge(gd);\n",
       "            observer.disconnect();\n",
       "        }}\n",
       "}});\n",
       "\n",
       "// Listen for the removal of the full notebook cells\n",
       "var notebookContainer = gd.closest('#notebook-container');\n",
       "if (notebookContainer) {{\n",
       "    x.observe(notebookContainer, {childList: true});\n",
       "}}\n",
       "\n",
       "// Listen for the clearing of the current output cell\n",
       "var outputEl = gd.closest('.output');\n",
       "if (outputEl) {{\n",
       "    x.observe(outputEl, {childList: true});\n",
       "}}\n",
       "\n",
       "                        })                };                });            </script>        </div>"
      ]
     },
     "metadata": {},
     "output_type": "display_data"
    }
   ],
   "source": [
    "# Create a scatter plot\n",
    "fig = px.scatter(df, x=df['Year'], y=df['Other renewables (terawatt-hours)'], \n",
    "                 opacity=0.8, color_discrete_sequence=['black'])\n",
    "# Add a best-fit line\n",
    "fig.add_traces(go.Scatter(x=x_range, y=y_lr, name='Linear Regression', line=dict(color='limegreen')))\n",
    "fig.add_traces(go.Scatter(x=x_range, y=y_svr, name='Support Vector Regression', line=dict(color='red')))\n",
    "fig.add_traces(go.Scatter(x=x_range, y=y_svr+2, name='+epsilon', line=dict(color='red', dash='dot')))\n",
    "fig.add_traces(go.Scatter(x=x_range, y=y_svr-2, name='-epsilon', line=dict(color='red', dash='dot')))\n",
    "\n",
    "# Change chart background color\n",
    "fig.update_layout(dict(plot_bgcolor = 'white'))\n",
    "\n",
    "# Update axes lines\n",
    "fig.update_xaxes(showgrid=True, gridwidth=1, gridcolor='lightgrey', \n",
    "                 zeroline=True, zerolinewidth=1, zerolinecolor='lightgrey', \n",
    "                 showline=True, linewidth=1, linecolor='black')\n",
    "\n",
    "fig.update_yaxes(showgrid=True, gridwidth=1, gridcolor='lightgrey', \n",
    "                 zeroline=True, zerolinewidth=1, zerolinecolor='lightgrey', \n",
    "                 showline=True, linewidth=1, linecolor='black')\n",
    "\n",
    "# Set figure title\n",
    "fig.update_layout(title=dict(text=\"Other Energy Consumption in India (epsilon=2, C=50)\", \n",
    "                             font=dict(color='black')))\n",
    "\n",
    "# Update marker size\n",
    "fig.update_traces(marker=dict(size=3))\n",
    "\n",
    "fig.show()"
   ]
  },
  {
   "cell_type": "code",
   "execution_count": 394,
   "id": "5c08ce99",
   "metadata": {
    "colab": {
     "base_uri": "https://localhost:8080/"
    },
    "id": "5c08ce99",
    "outputId": "d7fddb53-366f-4591-a932-1e2e26636e50"
   },
   "outputs": [
    {
     "data": {
      "text/plain": [
       "array([ 3.27177995, 23.057446  , 18.1195082 ,  3.79297381,  2.50840713,\n",
       "        3.53049957, 23.14993419, 20.08015899,  2.76328877])"
      ]
     },
     "execution_count": 394,
     "metadata": {},
     "output_type": "execute_result"
    }
   ],
   "source": [
    "#5 Predicting a new result\n",
    "y_pred = svr.predict(X_test)\n",
    "y_pred"
   ]
  },
  {
   "cell_type": "code",
   "execution_count": 395,
   "id": "0417230f",
   "metadata": {
    "colab": {
     "base_uri": "https://localhost:8080/"
    },
    "id": "0417230f",
    "outputId": "1dd08260-7451-412c-f1fd-817bb10e4165"
   },
   "outputs": [
    {
     "name": "stdout",
     "output_type": "stream",
     "text": [
      "R squared: 96.26\n",
      "Mean Squared Error is:  2.9325484400543815\n",
      "Root Mean Squared Error is:  1.7124685223543181\n"
     ]
    }
   ],
   "source": [
    "mse = metrics.mean_squared_error(y_test, y_pred)\n",
    "rmse = np.sqrt(mse)\n",
    "\n",
    "print('R squared: {:.2f}'.format(svr.score(X,y)*100))\n",
    "print(\"Mean Squared Error is: \", mse)\n",
    "print(\"Root Mean Squared Error is: \", rmse)"
   ]
  },
  {
   "cell_type": "code",
   "execution_count": 396,
   "id": "7e064873",
   "metadata": {
    "colab": {
     "base_uri": "https://localhost:8080/",
     "height": 328
    },
    "id": "7e064873",
    "outputId": "8220c3c9-f026-4e93-b170-96a913755e54"
   },
   "outputs": [
    {
     "data": {
      "text/html": [
       "<div>\n",
       "<style scoped>\n",
       "    .dataframe tbody tr th:only-of-type {\n",
       "        vertical-align: middle;\n",
       "    }\n",
       "\n",
       "    .dataframe tbody tr th {\n",
       "        vertical-align: top;\n",
       "    }\n",
       "\n",
       "    .dataframe thead th {\n",
       "        text-align: right;\n",
       "    }\n",
       "</style>\n",
       "<table border=\"1\" class=\"dataframe\">\n",
       "  <thead>\n",
       "    <tr style=\"text-align: right;\">\n",
       "      <th></th>\n",
       "      <th>Predicted</th>\n",
       "      <th>Actual</th>\n",
       "    </tr>\n",
       "  </thead>\n",
       "  <tbody>\n",
       "    <tr>\n",
       "      <th>0</th>\n",
       "      <td>3.271780</td>\n",
       "      <td>1.686079</td>\n",
       "    </tr>\n",
       "    <tr>\n",
       "      <th>1</th>\n",
       "      <td>23.057446</td>\n",
       "      <td>24.816846</td>\n",
       "    </tr>\n",
       "    <tr>\n",
       "      <th>2</th>\n",
       "      <td>18.119508</td>\n",
       "      <td>17.137000</td>\n",
       "    </tr>\n",
       "    <tr>\n",
       "      <th>3</th>\n",
       "      <td>3.792974</td>\n",
       "      <td>2.139901</td>\n",
       "    </tr>\n",
       "    <tr>\n",
       "      <th>4</th>\n",
       "      <td>2.508407</td>\n",
       "      <td>0.563795</td>\n",
       "    </tr>\n",
       "    <tr>\n",
       "      <th>5</th>\n",
       "      <td>3.530500</td>\n",
       "      <td>2.069150</td>\n",
       "    </tr>\n",
       "    <tr>\n",
       "      <th>6</th>\n",
       "      <td>23.149934</td>\n",
       "      <td>25.818000</td>\n",
       "    </tr>\n",
       "    <tr>\n",
       "      <th>7</th>\n",
       "      <td>20.080159</td>\n",
       "      <td>19.936000</td>\n",
       "    </tr>\n",
       "    <tr>\n",
       "      <th>8</th>\n",
       "      <td>2.763289</td>\n",
       "      <td>0.756149</td>\n",
       "    </tr>\n",
       "  </tbody>\n",
       "</table>\n",
       "</div>"
      ],
      "text/plain": [
       "   Predicted     Actual\n",
       "0   3.271780   1.686079\n",
       "1  23.057446  24.816846\n",
       "2  18.119508  17.137000\n",
       "3   3.792974   2.139901\n",
       "4   2.508407   0.563795\n",
       "5   3.530500   2.069150\n",
       "6  23.149934  25.818000\n",
       "7  20.080159  19.936000\n",
       "8   2.763289   0.756149"
      ]
     },
     "execution_count": 396,
     "metadata": {},
     "output_type": "execute_result"
    }
   ],
   "source": [
    "data = {'Predicted':y_pred, 'Actual':y_test}\n",
    "\n",
    "comparison = pd.DataFrame(data)\n",
    "comparison"
   ]
  },
  {
   "cell_type": "code",
   "execution_count": 397,
   "id": "64da3b7f",
   "metadata": {
    "colab": {
     "base_uri": "https://localhost:8080/"
    },
    "id": "64da3b7f",
    "outputId": "db461c5a-5157-452a-f5b0-3787f4249e0c"
   },
   "outputs": [
    {
     "data": {
      "text/plain": [
       "array([ 3.70898426, 18.62983225, 14.24134755,  6.34207508,  0.19819649,\n",
       "        5.46437814, 17.75213531, 15.11904449,  1.07589344])"
      ]
     },
     "execution_count": 397,
     "metadata": {},
     "output_type": "execute_result"
    }
   ],
   "source": [
    "#5 Predicting a new result\n",
    "y_pred = lr.predict(X_test)\n",
    "y_pred"
   ]
  },
  {
   "cell_type": "code",
   "execution_count": 398,
   "id": "0d6fbcf0",
   "metadata": {},
   "outputs": [
    {
     "name": "stdout",
     "output_type": "stream",
     "text": [
      "R squared: 81.09\n",
      "Mean Squared Error is:  18.71545135707739\n",
      "Root Mean Squared Error is:  4.326135845888036\n"
     ]
    }
   ],
   "source": [
    "mse = metrics.mean_squared_error(y_test, y_pred)\n",
    "rmse = np.sqrt(mse)\n",
    "\n",
    "print('R squared: {:.2f}'.format(lr.score(X,y)*100))\n",
    "print(\"Mean Squared Error is: \", mse)\n",
    "print(\"Root Mean Squared Error is: \", rmse)"
   ]
  },
  {
   "cell_type": "code",
   "execution_count": 399,
   "id": "22e290e0",
   "metadata": {},
   "outputs": [
    {
     "data": {
      "text/html": [
       "<div>\n",
       "<style scoped>\n",
       "    .dataframe tbody tr th:only-of-type {\n",
       "        vertical-align: middle;\n",
       "    }\n",
       "\n",
       "    .dataframe tbody tr th {\n",
       "        vertical-align: top;\n",
       "    }\n",
       "\n",
       "    .dataframe thead th {\n",
       "        text-align: right;\n",
       "    }\n",
       "</style>\n",
       "<table border=\"1\" class=\"dataframe\">\n",
       "  <thead>\n",
       "    <tr style=\"text-align: right;\">\n",
       "      <th></th>\n",
       "      <th>Predicted</th>\n",
       "      <th>Actual</th>\n",
       "    </tr>\n",
       "  </thead>\n",
       "  <tbody>\n",
       "    <tr>\n",
       "      <th>0</th>\n",
       "      <td>3.708984</td>\n",
       "      <td>1.686079</td>\n",
       "    </tr>\n",
       "    <tr>\n",
       "      <th>1</th>\n",
       "      <td>18.629832</td>\n",
       "      <td>24.816846</td>\n",
       "    </tr>\n",
       "    <tr>\n",
       "      <th>2</th>\n",
       "      <td>14.241348</td>\n",
       "      <td>17.137000</td>\n",
       "    </tr>\n",
       "    <tr>\n",
       "      <th>3</th>\n",
       "      <td>6.342075</td>\n",
       "      <td>2.139901</td>\n",
       "    </tr>\n",
       "    <tr>\n",
       "      <th>4</th>\n",
       "      <td>0.198196</td>\n",
       "      <td>0.563795</td>\n",
       "    </tr>\n",
       "    <tr>\n",
       "      <th>5</th>\n",
       "      <td>5.464378</td>\n",
       "      <td>2.069150</td>\n",
       "    </tr>\n",
       "    <tr>\n",
       "      <th>6</th>\n",
       "      <td>17.752135</td>\n",
       "      <td>25.818000</td>\n",
       "    </tr>\n",
       "    <tr>\n",
       "      <th>7</th>\n",
       "      <td>15.119044</td>\n",
       "      <td>19.936000</td>\n",
       "    </tr>\n",
       "    <tr>\n",
       "      <th>8</th>\n",
       "      <td>1.075893</td>\n",
       "      <td>0.756149</td>\n",
       "    </tr>\n",
       "  </tbody>\n",
       "</table>\n",
       "</div>"
      ],
      "text/plain": [
       "   Predicted     Actual\n",
       "0   3.708984   1.686079\n",
       "1  18.629832  24.816846\n",
       "2  14.241348  17.137000\n",
       "3   6.342075   2.139901\n",
       "4   0.198196   0.563795\n",
       "5   5.464378   2.069150\n",
       "6  17.752135  25.818000\n",
       "7  15.119044  19.936000\n",
       "8   1.075893   0.756149"
      ]
     },
     "execution_count": 399,
     "metadata": {},
     "output_type": "execute_result"
    }
   ],
   "source": [
    "data = {'Predicted':y_pred, 'Actual':y_test}\n",
    "\n",
    "comparison = pd.DataFrame(data)\n",
    "comparison"
   ]
  },
  {
   "cell_type": "code",
   "execution_count": 400,
   "id": "cefeb80c",
   "metadata": {
    "colab": {
     "base_uri": "https://localhost:8080/"
    },
    "id": "cefeb80c",
    "outputId": "09914c46-0b9c-4fe4-db36-356fc9930819"
   },
   "outputs": [
    {
     "data": {
      "text/plain": [
       "array([22.79798409, 21.62026551, 20.20733043, 18.68213227, 17.15635969,\n",
       "       15.72040207, 14.43792218, 13.34501197, 12.4530946 , 11.75425595,\n",
       "       11.2275799 , 10.84526255, 10.577668  , 10.39692467, 10.27903796,\n",
       "       10.20475042, 10.15950183, 10.13285234, 10.11767137, 10.10930479,\n",
       "       10.1048428 , 10.10253964, 10.10138883, 10.10083212, 10.10057135,\n",
       "       10.10045307, 10.10040111, 10.100379  , 10.10036989, 10.10036625,\n",
       "       10.10036485, 10.10036432, 10.10036413])"
      ]
     },
     "execution_count": 400,
     "metadata": {},
     "output_type": "execute_result"
    }
   ],
   "source": [
    "model2 = SVR(kernel='rbf', C=50, epsilon=2) # set kernel and hyperparameters\n",
    "svr = model2.fit(X, y)\n",
    "x_future = [[2018],[2019],[2020],[2021],[2022],[2023],[2024],[2025],[2026],[2027],[2028],[2029],[2030],[2031],[2032],[2033],[2034],[2035],[2036],[2037],[2038],[2039],[2040],[2041],[2042],[2043],[2044],[2045],[2046],[2047],[2048],[2049],[2050]]\n",
    "y_pred = svr.predict(x_future)\n",
    "y_pred"
   ]
  },
  {
   "cell_type": "code",
   "execution_count": 401,
   "id": "490ec77e",
   "metadata": {},
   "outputs": [
    {
     "data": {
      "text/plain": [
       "array([231.24113368, 236.96910119, 240.29940332, 241.34309102,\n",
       "       240.43434385, 238.06768921, 234.81596892, 231.24682527,\n",
       "       227.85330513, 225.0086307 , 222.94830327, 221.77646338,\n",
       "       221.48940322, 222.00759569, 223.20845996, 224.95431441,\n",
       "       227.11267466, 229.56843048, 232.22907626, 235.02494189,\n",
       "       237.90645265, 240.84009955, 243.80428238, 246.78569303,\n",
       "       249.77646958, 252.77215871, 255.77033492, 258.76972616,\n",
       "       261.76968975, 264.76991484, 267.77025628, 270.77064577,\n",
       "       273.77105657])"
      ]
     },
     "execution_count": 401,
     "metadata": {},
     "output_type": "execute_result"
    }
   ],
   "source": [
    "net_consumption += y_pred\n",
    "net_consumption"
   ]
  },
  {
   "cell_type": "code",
   "execution_count": 402,
   "id": "uNY6zlmF_A9e",
   "metadata": {
    "colab": {
     "base_uri": "https://localhost:8080/"
    },
    "id": "uNY6zlmF_A9e",
    "outputId": "cff40e38-575d-45c1-b25c-320258fb0343"
   },
   "outputs": [
    {
     "name": "stdout",
     "output_type": "stream",
     "text": [
      "Rate of Increase: 0.5912330434075956\n"
     ]
    }
   ],
   "source": [
    "# Finding the Rate of Increase for other renewables Consumption\n",
    "print (\"Rate of Increase:\", (y_pred[2] - 14.295)/10)"
   ]
  },
  {
   "cell_type": "code",
   "execution_count": 403,
   "id": "ca2c57a2",
   "metadata": {},
   "outputs": [
    {
     "data": {
      "image/png": "[encoded data removed]",
      "text/plain": [
       "<Figure size 432x288 with 1 Axes>"
      ]
     },
     "metadata": {
      "needs_background": "light"
     },
     "output_type": "display_data"
    }
   ],
   "source": [
    "fig, ax = plt.subplots()\n",
    "ax.scatter(years,y_pred)\n",
    "ax.set_title('Predicted Other Energy Consumption in India (epsilon=2, C=50)')\n",
    "ax.set_xlabel('Years')\n",
    "ax.set_ylabel('Energy Consumption')\n",
    "\n",
    "\n",
    "plt.show()"
   ]
  },
  {
   "cell_type": "markdown",
   "id": "cde1695d",
   "metadata": {
    "id": "cde1695d"
   },
   "source": [
    "# Population"
   ]
  },
  {
   "cell_type": "code",
   "execution_count": 406,
   "id": "a884b3fd",
   "metadata": {
    "id": "a884b3fd"
   },
   "outputs": [],
   "source": [
    "# Use MinMax Scaling on Year and Population\n",
    "df['Year (scaled)']=scaler.fit_transform(df[['Year']])\n",
    "df['Population (scaled)']=scaler.fit_transform(df[['Population']])"
   ]
  },
  {
   "cell_type": "code",
   "execution_count": 407,
   "id": "3bdd2030",
   "metadata": {
    "colab": {
     "base_uri": "https://localhost:8080/",
     "height": 542
    },
    "id": "3bdd2030",
    "outputId": "b129d98f-c348-498d-d7b6-e90d491a8106"
   },
   "outputs": [
    {
     "data": {
      "application/vnd.plotly.v1+json": {
       "config": {
        "plotlyServerURL": "https://plot.ly"
       },
       "data": [
        {
         "hovertemplate": "Year=%{x}<br>Population=%{y}<extra></extra>",
         "legendgroup": "",
         "marker": {
          "color": "black",
          "opacity": 0.8,
          "size": 5,
          "symbol": "circle"
         },
         "mode": "markers",
         "name": "",
         "orientation": "v",
         "showlegend": false,
         "type": "scatter",
         "x": [
          1990,
          1991,
          1992,
          1993,
          1994,
          1995,
          1996,
          1997,
          1998,
          1999,
          2000,
          2001,
          2002,
          2003,
          2004,
          2005,
          2006,
          2007,
          2008,
          2009,
          2010,
          2011,
          2012,
          2013,
          2014,
          2015,
          2016,
          2017
         ],
         "xaxis": "x",
         "y": [
          873277798,
          891273209,
          909307016,
          927403860,
          945601831,
          963922588,
          982365243,
          1000900030,
          1019483581,
          1038058156,
          1056575549,
          1075000085,
          1093317189,
          1111523144,
          1129623456,
          1147609927,
          1165486291,
          1183209472,
          1200669765,
          1217726215,
          1234281170,
          1250288729,
          1265782790,
          1280846129,
          1295604184,
          1310152403,
          1324509589,
          1338658835
         ],
         "yaxis": "y"
        }
       ],
       "layout": {
        "legend": {
         "tracegroupgap": 0
        },
        "margin": {
         "t": 60
        },
        "plot_bgcolor": "white",
        "template": {
         "data": {
          "bar": [
           {
            "error_x": {
             "color": "#2a3f5f"
            },
            "error_y": {
             "color": "#2a3f5f"
            },
            "marker": {
             "line": {
              "color": "#E5ECF6",
              "width": 0.5
             },
             "pattern": {
              "fillmode": "overlay",
              "size": 10,
              "solidity": 0.2
             }
            },
            "type": "bar"
           }
          ],
          "barpolar": [
           {
            "marker": {
             "line": {
              "color": "#E5ECF6",
              "width": 0.5
             },
             "pattern": {
              "fillmode": "overlay",
              "size": 10,
              "solidity": 0.2
             }
            },
            "type": "barpolar"
           }
          ],
          "carpet": [
           {
            "aaxis": {
             "endlinecolor": "#2a3f5f",
             "gridcolor": "white",
             "linecolor": "white",
             "minorgridcolor": "white",
             "startlinecolor": "#2a3f5f"
            },
            "baxis": {
             "endlinecolor": "#2a3f5f",
             "gridcolor": "white",
             "linecolor": "white",
             "minorgridcolor": "white",
             "startlinecolor": "#2a3f5f"
            },
            "type": "carpet"
           }
          ],
          "choropleth": [
           {
            "colorbar": {
             "outlinewidth": 0,
             "ticks": ""
            },
            "type": "choropleth"
           }
          ],
          "contour": [
           {
            "colorbar": {
             "outlinewidth": 0,
             "ticks": ""
            },
            "colorscale": [
             [
              0,
              "#0d0887"
             ],
             [
              0.1111111111111111,
              "#46039f"
             ],
             [
              0.2222222222222222,
              "#7201a8"
             ],
             [
              0.3333333333333333,
              "#9c179e"
             ],
             [
              0.4444444444444444,
              "#bd3786"
             ],
             [
              0.5555555555555556,
              "#d8576b"
             ],
             [
              0.6666666666666666,
              "#ed7953"
             ],
             [
              0.7777777777777778,
              "#fb9f3a"
             ],
             [
              0.8888888888888888,
              "#fdca26"
             ],
             [
              1,
              "#f0f921"
             ]
            ],
            "type": "contour"
           }
          ],
          "contourcarpet": [
           {
            "colorbar": {
             "outlinewidth": 0,
             "ticks": ""
            },
            "type": "contourcarpet"
           }
          ],
          "heatmap": [
           {
            "colorbar": {
             "outlinewidth": 0,
             "ticks": ""
            },
            "colorscale": [
             [
              0,
              "#0d0887"
             ],
             [
              0.1111111111111111,
              "#46039f"
             ],
             [
              0.2222222222222222,
              "#7201a8"
             ],
             [
              0.3333333333333333,
              "#9c179e"
             ],
             [
              0.4444444444444444,
              "#bd3786"
             ],
             [
              0.5555555555555556,
              "#d8576b"
             ],
             [
              0.6666666666666666,
              "#ed7953"
             ],
             [
              0.7777777777777778,
              "#fb9f3a"
             ],
             [
              0.8888888888888888,
              "#fdca26"
             ],
             [
              1,
              "#f0f921"
             ]
            ],
            "type": "heatmap"
           }
          ],
          "heatmapgl": [
           {
            "colorbar": {
             "outlinewidth": 0,
             "ticks": ""
            },
            "colorscale": [
             [
              0,
              "#0d0887"
             ],
             [
              0.1111111111111111,
              "#46039f"
             ],
             [
              0.2222222222222222,
              "#7201a8"
             ],
             [
              0.3333333333333333,
              "#9c179e"
             ],
             [
              0.4444444444444444,
              "#bd3786"
             ],
             [
              0.5555555555555556,
              "#d8576b"
             ],
             [
              0.6666666666666666,
              "#ed7953"
             ],
             [
              0.7777777777777778,
              "#fb9f3a"
             ],
             [
              0.8888888888888888,
              "#fdca26"
             ],
             [
              1,
              "#f0f921"
             ]
            ],
            "type": "heatmapgl"
           }
          ],
          "histogram": [
           {
            "marker": {
             "pattern": {
              "fillmode": "overlay",
              "size": 10,
              "solidity": 0.2
             }
            },
            "type": "histogram"
           }
          ],
          "histogram2d": [
           {
            "colorbar": {
             "outlinewidth": 0,
             "ticks": ""
            },
            "colorscale": [
             [
              0,
              "#0d0887"
             ],
             [
              0.1111111111111111,
              "#46039f"
             ],
             [
              0.2222222222222222,
              "#7201a8"
             ],
             [
              0.3333333333333333,
              "#9c179e"
             ],
             [
              0.4444444444444444,
              "#bd3786"
             ],
             [
              0.5555555555555556,
              "#d8576b"
             ],
             [
              0.6666666666666666,
              "#ed7953"
             ],
             [
              0.7777777777777778,
              "#fb9f3a"
             ],
             [
              0.8888888888888888,
              "#fdca26"
             ],
             [
              1,
              "#f0f921"
             ]
            ],
            "type": "histogram2d"
           }
          ],
          "histogram2dcontour": [
           {
            "colorbar": {
             "outlinewidth": 0,
             "ticks": ""
            },
            "colorscale": [
             [
              0,
              "#0d0887"
             ],
             [
              0.1111111111111111,
              "#46039f"
             ],
             [
              0.2222222222222222,
              "#7201a8"
             ],
             [
              0.3333333333333333,
              "#9c179e"
             ],
             [
              0.4444444444444444,
              "#bd3786"
             ],
             [
              0.5555555555555556,
              "#d8576b"
             ],
             [
              0.6666666666666666,
              "#ed7953"
             ],
             [
              0.7777777777777778,
              "#fb9f3a"
             ],
             [
              0.8888888888888888,
              "#fdca26"
             ],
             [
              1,
              "#f0f921"
             ]
            ],
            "type": "histogram2dcontour"
           }
          ],
          "mesh3d": [
           {
            "colorbar": {
             "outlinewidth": 0,
             "ticks": ""
            },
            "type": "mesh3d"
           }
          ],
          "parcoords": [
           {
            "line": {
             "colorbar": {
              "outlinewidth": 0,
              "ticks": ""
             }
            },
            "type": "parcoords"
           }
          ],
          "pie": [
           {
            "automargin": true,
            "type": "pie"
           }
          ],
          "scatter": [
           {
            "marker": {
             "colorbar": {
              "outlinewidth": 0,
              "ticks": ""
             }
            },
            "type": "scatter"
           }
          ],
          "scatter3d": [
           {
            "line": {
             "colorbar": {
              "outlinewidth": 0,
              "ticks": ""
             }
            },
            "marker": {
             "colorbar": {
              "outlinewidth": 0,
              "ticks": ""
             }
            },
            "type": "scatter3d"
           }
          ],
          "scattercarpet": [
           {
            "marker": {
             "colorbar": {
              "outlinewidth": 0,
              "ticks": ""
             }
            },
            "type": "scattercarpet"
           }
          ],
          "scattergeo": [
           {
            "marker": {
             "colorbar": {
              "outlinewidth": 0,
              "ticks": ""
             }
            },
            "type": "scattergeo"
           }
          ],
          "scattergl": [
           {
            "marker": {
             "colorbar": {
              "outlinewidth": 0,
              "ticks": ""
             }
            },
            "type": "scattergl"
           }
          ],
          "scattermapbox": [
           {
            "marker": {
             "colorbar": {
              "outlinewidth": 0,
              "ticks": ""
             }
            },
            "type": "scattermapbox"
           }
          ],
          "scatterpolar": [
           {
            "marker": {
             "colorbar": {
              "outlinewidth": 0,
              "ticks": ""
             }
            },
            "type": "scatterpolar"
           }
          ],
          "scatterpolargl": [
           {
            "marker": {
             "colorbar": {
              "outlinewidth": 0,
              "ticks": ""
             }
            },
            "type": "scatterpolargl"
           }
          ],
          "scatterternary": [
           {
            "marker": {
             "colorbar": {
              "outlinewidth": 0,
              "ticks": ""
             }
            },
            "type": "scatterternary"
           }
          ],
          "surface": [
           {
            "colorbar": {
             "outlinewidth": 0,
             "ticks": ""
            },
            "colorscale": [
             [
              0,
              "#0d0887"
             ],
             [
              0.1111111111111111,
              "#46039f"
             ],
             [
              0.2222222222222222,
              "#7201a8"
             ],
             [
              0.3333333333333333,
              "#9c179e"
             ],
             [
              0.4444444444444444,
              "#bd3786"
             ],
             [
              0.5555555555555556,
              "#d8576b"
             ],
             [
              0.6666666666666666,
              "#ed7953"
             ],
             [
              0.7777777777777778,
              "#fb9f3a"
             ],
             [
              0.8888888888888888,
              "#fdca26"
             ],
             [
              1,
              "#f0f921"
             ]
            ],
            "type": "surface"
           }
          ],
          "table": [
           {
            "cells": {
             "fill": {
              "color": "#EBF0F8"
             },
             "line": {
              "color": "white"
             }
            },
            "header": {
             "fill": {
              "color": "#C8D4E3"
             },
             "line": {
              "color": "white"
             }
            },
            "type": "table"
           }
          ]
         },
         "layout": {
          "annotationdefaults": {
           "arrowcolor": "#2a3f5f",
           "arrowhead": 0,
           "arrowwidth": 1
          },
          "autotypenumbers": "strict",
          "coloraxis": {
           "colorbar": {
            "outlinewidth": 0,
            "ticks": ""
           }
          },
          "colorscale": {
           "diverging": [
            [
             0,
             "#8e0152"
            ],
            [
             0.1,
             "#c51b7d"
            ],
            [
             0.2,
             "#de77ae"
            ],
            [
             0.3,
             "#f1b6da"
            ],
            [
             0.4,
             "#fde0ef"
            ],
            [
             0.5,
             "#f7f7f7"
            ],
            [
             0.6,
             "#e6f5d0"
            ],
            [
             0.7,
             "#b8e186"
            ],
            [
             0.8,
             "#7fbc41"
            ],
            [
             0.9,
             "#4d9221"
            ],
            [
             1,
             "#276419"
            ]
           ],
           "sequential": [
            [
             0,
             "#0d0887"
            ],
            [
             0.1111111111111111,
             "#46039f"
            ],
            [
             0.2222222222222222,
             "#7201a8"
            ],
            [
             0.3333333333333333,
             "#9c179e"
            ],
            [
             0.4444444444444444,
             "#bd3786"
            ],
            [
             0.5555555555555556,
             "#d8576b"
            ],
            [
             0.6666666666666666,
             "#ed7953"
            ],
            [
             0.7777777777777778,
             "#fb9f3a"
            ],
            [
             0.8888888888888888,
             "#fdca26"
            ],
            [
             1,
             "#f0f921"
            ]
           ],
           "sequentialminus": [
            [
             0,
             "#0d0887"
            ],
            [
             0.1111111111111111,
             "#46039f"
            ],
            [
             0.2222222222222222,
             "#7201a8"
            ],
            [
             0.3333333333333333,
             "#9c179e"
            ],
            [
             0.4444444444444444,
             "#bd3786"
            ],
            [
             0.5555555555555556,
             "#d8576b"
            ],
            [
             0.6666666666666666,
             "#ed7953"
            ],
            [
             0.7777777777777778,
             "#fb9f3a"
            ],
            [
             0.8888888888888888,
             "#fdca26"
            ],
            [
             1,
             "#f0f921"
            ]
           ]
          },
          "colorway": [
           "#636efa",
           "#EF553B",
           "#00cc96",
           "#ab63fa",
           "#FFA15A",
           "#19d3f3",
           "#FF6692",
           "#B6E880",
           "#FF97FF",
           "#FECB52"
          ],
          "font": {
           "color": "#2a3f5f"
          },
          "geo": {
           "bgcolor": "white",
           "lakecolor": "white",
           "landcolor": "#E5ECF6",
           "showlakes": true,
           "showland": true,
           "subunitcolor": "white"
          },
          "hoverlabel": {
           "align": "left"
          },
          "hovermode": "closest",
          "mapbox": {
           "style": "light"
          },
          "paper_bgcolor": "white",
          "plot_bgcolor": "#E5ECF6",
          "polar": {
           "angularaxis": {
            "gridcolor": "white",
            "linecolor": "white",
            "ticks": ""
           },
           "bgcolor": "#E5ECF6",
           "radialaxis": {
            "gridcolor": "white",
            "linecolor": "white",
            "ticks": ""
           }
          },
          "scene": {
           "xaxis": {
            "backgroundcolor": "#E5ECF6",
            "gridcolor": "white",
            "gridwidth": 2,
            "linecolor": "white",
            "showbackground": true,
            "ticks": "",
            "zerolinecolor": "white"
           },
           "yaxis": {
            "backgroundcolor": "#E5ECF6",
            "gridcolor": "white",
            "gridwidth": 2,
            "linecolor": "white",
            "showbackground": true,
            "ticks": "",
            "zerolinecolor": "white"
           },
           "zaxis": {
            "backgroundcolor": "#E5ECF6",
            "gridcolor": "white",
            "gridwidth": 2,
            "linecolor": "white",
            "showbackground": true,
            "ticks": "",
            "zerolinecolor": "white"
           }
          },
          "shapedefaults": {
           "line": {
            "color": "#2a3f5f"
           }
          },
          "ternary": {
           "aaxis": {
            "gridcolor": "white",
            "linecolor": "white",
            "ticks": ""
           },
           "baxis": {
            "gridcolor": "white",
            "linecolor": "white",
            "ticks": ""
           },
           "bgcolor": "#E5ECF6",
           "caxis": {
            "gridcolor": "white",
            "linecolor": "white",
            "ticks": ""
           }
          },
          "title": {
           "x": 0.05
          },
          "xaxis": {
           "automargin": true,
           "gridcolor": "white",
           "linecolor": "white",
           "ticks": "",
           "title": {
            "standoff": 15
           },
           "zerolinecolor": "white",
           "zerolinewidth": 2
          },
          "yaxis": {
           "automargin": true,
           "gridcolor": "white",
           "linecolor": "white",
           "ticks": "",
           "title": {
            "standoff": 15
           },
           "zerolinecolor": "white",
           "zerolinewidth": 2
          }
         }
        },
        "title": {
         "font": {
          "color": "black"
         },
         "text": "Population in India"
        },
        "xaxis": {
         "anchor": "y",
         "domain": [
          0,
          1
         ],
         "gridcolor": "lightgrey",
         "gridwidth": 1,
         "linecolor": "black",
         "linewidth": 1,
         "showgrid": true,
         "showline": true,
         "title": {
          "text": "Year"
         },
         "zeroline": true,
         "zerolinecolor": "lightgrey",
         "zerolinewidth": 1
        },
        "yaxis": {
         "anchor": "x",
         "domain": [
          0,
          1
         ],
         "gridcolor": "lightgrey",
         "gridwidth": 1,
         "linecolor": "black",
         "linewidth": 1,
         "showgrid": true,
         "showline": true,
         "title": {
          "text": "Population"
         },
         "zeroline": true,
         "zerolinecolor": "lightgrey",
         "zerolinewidth": 1
        }
       }
      },
      "text/html": [
       "<div>                            <div id=\"d53c8332-b561-4b41-80c0-a6518964287a\" class=\"plotly-graph-div\" style=\"height:525px; width:100%;\"></div>            <script type=\"text/javascript\">                require([\"plotly\"], function(Plotly) {                    window.PLOTLYENV=window.PLOTLYENV || {};                                    if (document.getElementById(\"d53c8332-b561-4b41-80c0-a6518964287a\")) {                    Plotly.newPlot(                        \"d53c8332-b561-4b41-80c0-a6518964287a\",                        [{\"hovertemplate\":\"Year=%{x}<br>Population=%{y}<extra></extra>\",\"legendgroup\":\"\",\"marker\":{\"color\":\"black\",\"opacity\":0.8,\"symbol\":\"circle\",\"size\":5},\"mode\":\"markers\",\"name\":\"\",\"orientation\":\"v\",\"showlegend\":false,\"x\":[1990,1991,1992,1993,1994,1995,1996,1997,1998,1999,2000,2001,2002,2003,2004,2005,2006,2007,2008,2009,2010,2011,2012,2013,2014,2015,2016,2017],\"xaxis\":\"x\",\"y\":[873277798,891273209,909307016,927403860,945601831,963922588,982365243,1000900030,1019483581,1038058156,1056575549,1075000085,1093317189,1111523144,1129623456,1147609927,1165486291,1183209472,1200669765,1217726215,1234281170,1250288729,1265782790,1280846129,1295604184,1310152403,1324509589,1338658835],\"yaxis\":\"y\",\"type\":\"scatter\"}],                        {\"template\":{\"data\":{\"bar\":[{\"error_x\":{\"color\":\"#2a3f5f\"},\"error_y\":{\"color\":\"#2a3f5f\"},\"marker\":{\"line\":{\"color\":\"#E5ECF6\",\"width\":0.5},\"pattern\":{\"fillmode\":\"overlay\",\"size\":10,\"solidity\":0.2}},\"type\":\"bar\"}],\"barpolar\":[{\"marker\":{\"line\":{\"color\":\"#E5ECF6\",\"width\":0.5},\"pattern\":{\"fillmode\":\"overlay\",\"size\":10,\"solidity\":0.2}},\"type\":\"barpolar\"}],\"carpet\":[{\"aaxis\":{\"endlinecolor\":\"#2a3f5f\",\"gridcolor\":\"white\",\"linecolor\":\"white\",\"minorgridcolor\":\"white\",\"startlinecolor\":\"#2a3f5f\"},\"baxis\":{\"endlinecolor\":\"#2a3f5f\",\"gridcolor\":\"white\",\"linecolor\":\"white\",\"minorgridcolor\":\"white\",\"startlinecolor\":\"#2a3f5f\"},\"type\":\"carpet\"}],\"choropleth\":[{\"colorbar\":{\"outlinewidth\":0,\"ticks\":\"\"},\"type\":\"choropleth\"}],\"contour\":[{\"colorbar\":{\"outlinewidth\":0,\"ticks\":\"\"},\"colorscale\":[[0.0,\"#0d0887\"],[0.1111111111111111,\"#46039f\"],[0.2222222222222222,\"#7201a8\"],[0.3333333333333333,\"#9c179e\"],[0.4444444444444444,\"#bd3786\"],[0.5555555555555556,\"#d8576b\"],[0.6666666666666666,\"#ed7953\"],[0.7777777777777778,\"#fb9f3a\"],[0.8888888888888888,\"#fdca26\"],[1.0,\"#f0f921\"]],\"type\":\"contour\"}],\"contourcarpet\":[{\"colorbar\":{\"outlinewidth\":0,\"ticks\":\"\"},\"type\":\"contourcarpet\"}],\"heatmap\":[{\"colorbar\":{\"outlinewidth\":0,\"ticks\":\"\"},\"colorscale\":[[0.0,\"#0d0887\"],[0.1111111111111111,\"#46039f\"],[0.2222222222222222,\"#7201a8\"],[0.3333333333333333,\"#9c179e\"],[0.4444444444444444,\"#bd3786\"],[0.5555555555555556,\"#d8576b\"],[0.6666666666666666,\"#ed7953\"],[0.7777777777777778,\"#fb9f3a\"],[0.8888888888888888,\"#fdca26\"],[1.0,\"#f0f921\"]],\"type\":\"heatmap\"}],\"heatmapgl\":[{\"colorbar\":{\"outlinewidth\":0,\"ticks\":\"\"},\"colorscale\":[[0.0,\"#0d0887\"],[0.1111111111111111,\"#46039f\"],[0.2222222222222222,\"#7201a8\"],[0.3333333333333333,\"#9c179e\"],[0.4444444444444444,\"#bd3786\"],[0.5555555555555556,\"#d8576b\"],[0.6666666666666666,\"#ed7953\"],[0.7777777777777778,\"#fb9f3a\"],[0.8888888888888888,\"#fdca26\"],[1.0,\"#f0f921\"]],\"type\":\"heatmapgl\"}],\"histogram\":[{\"marker\":{\"pattern\":{\"fillmode\":\"overlay\",\"size\":10,\"solidity\":0.2}},\"type\":\"histogram\"}],\"histogram2d\":[{\"colorbar\":{\"outlinewidth\":0,\"ticks\":\"\"},\"colorscale\":[[0.0,\"#0d0887\"],[0.1111111111111111,\"#46039f\"],[0.2222222222222222,\"#7201a8\"],[0.3333333333333333,\"#9c179e\"],[0.4444444444444444,\"#bd3786\"],[0.5555555555555556,\"#d8576b\"],[0.6666666666666666,\"#ed7953\"],[0.7777777777777778,\"#fb9f3a\"],[0.8888888888888888,\"#fdca26\"],[1.0,\"#f0f921\"]],\"type\":\"histogram2d\"}],\"histogram2dcontour\":[{\"colorbar\":{\"outlinewidth\":0,\"ticks\":\"\"},\"colorscale\":[[0.0,\"#0d0887\"],[0.1111111111111111,\"#46039f\"],[0.2222222222222222,\"#7201a8\"],[0.3333333333333333,\"#9c179e\"],[0.4444444444444444,\"#bd3786\"],[0.5555555555555556,\"#d8576b\"],[0.6666666666666666,\"#ed7953\"],[0.7777777777777778,\"#fb9f3a\"],[0.8888888888888888,\"#fdca26\"],[1.0,\"#f0f921\"]],\"type\":\"histogram2dcontour\"}],\"mesh3d\":[{\"colorbar\":{\"outlinewidth\":0,\"ticks\":\"\"},\"type\":\"mesh3d\"}],\"parcoords\":[{\"line\":{\"colorbar\":{\"outlinewidth\":0,\"ticks\":\"\"}},\"type\":\"parcoords\"}],\"pie\":[{\"automargin\":true,\"type\":\"pie\"}],\"scatter\":[{\"marker\":{\"colorbar\":{\"outlinewidth\":0,\"ticks\":\"\"}},\"type\":\"scatter\"}],\"scatter3d\":[{\"line\":{\"colorbar\":{\"outlinewidth\":0,\"ticks\":\"\"}},\"marker\":{\"colorbar\":{\"outlinewidth\":0,\"ticks\":\"\"}},\"type\":\"scatter3d\"}],\"scattercarpet\":[{\"marker\":{\"colorbar\":{\"outlinewidth\":0,\"ticks\":\"\"}},\"type\":\"scattercarpet\"}],\"scattergeo\":[{\"marker\":{\"colorbar\":{\"outlinewidth\":0,\"ticks\":\"\"}},\"type\":\"scattergeo\"}],\"scattergl\":[{\"marker\":{\"colorbar\":{\"outlinewidth\":0,\"ticks\":\"\"}},\"type\":\"scattergl\"}],\"scattermapbox\":[{\"marker\":{\"colorbar\":{\"outlinewidth\":0,\"ticks\":\"\"}},\"type\":\"scattermapbox\"}],\"scatterpolar\":[{\"marker\":{\"colorbar\":{\"outlinewidth\":0,\"ticks\":\"\"}},\"type\":\"scatterpolar\"}],\"scatterpolargl\":[{\"marker\":{\"colorbar\":{\"outlinewidth\":0,\"ticks\":\"\"}},\"type\":\"scatterpolargl\"}],\"scatterternary\":[{\"marker\":{\"colorbar\":{\"outlinewidth\":0,\"ticks\":\"\"}},\"type\":\"scatterternary\"}],\"surface\":[{\"colorbar\":{\"outlinewidth\":0,\"ticks\":\"\"},\"colorscale\":[[0.0,\"#0d0887\"],[0.1111111111111111,\"#46039f\"],[0.2222222222222222,\"#7201a8\"],[0.3333333333333333,\"#9c179e\"],[0.4444444444444444,\"#bd3786\"],[0.5555555555555556,\"#d8576b\"],[0.6666666666666666,\"#ed7953\"],[0.7777777777777778,\"#fb9f3a\"],[0.8888888888888888,\"#fdca26\"],[1.0,\"#f0f921\"]],\"type\":\"surface\"}],\"table\":[{\"cells\":{\"fill\":{\"color\":\"#EBF0F8\"},\"line\":{\"color\":\"white\"}},\"header\":{\"fill\":{\"color\":\"#C8D4E3\"},\"line\":{\"color\":\"white\"}},\"type\":\"table\"}]},\"layout\":{\"annotationdefaults\":{\"arrowcolor\":\"#2a3f5f\",\"arrowhead\":0,\"arrowwidth\":1},\"autotypenumbers\":\"strict\",\"coloraxis\":{\"colorbar\":{\"outlinewidth\":0,\"ticks\":\"\"}},\"colorscale\":{\"diverging\":[[0,\"#8e0152\"],[0.1,\"#c51b7d\"],[0.2,\"#de77ae\"],[0.3,\"#f1b6da\"],[0.4,\"#fde0ef\"],[0.5,\"#f7f7f7\"],[0.6,\"#e6f5d0\"],[0.7,\"#b8e186\"],[0.8,\"#7fbc41\"],[0.9,\"#4d9221\"],[1,\"#276419\"]],\"sequential\":[[0.0,\"#0d0887\"],[0.1111111111111111,\"#46039f\"],[0.2222222222222222,\"#7201a8\"],[0.3333333333333333,\"#9c179e\"],[0.4444444444444444,\"#bd3786\"],[0.5555555555555556,\"#d8576b\"],[0.6666666666666666,\"#ed7953\"],[0.7777777777777778,\"#fb9f3a\"],[0.8888888888888888,\"#fdca26\"],[1.0,\"#f0f921\"]],\"sequentialminus\":[[0.0,\"#0d0887\"],[0.1111111111111111,\"#46039f\"],[0.2222222222222222,\"#7201a8\"],[0.3333333333333333,\"#9c179e\"],[0.4444444444444444,\"#bd3786\"],[0.5555555555555556,\"#d8576b\"],[0.6666666666666666,\"#ed7953\"],[0.7777777777777778,\"#fb9f3a\"],[0.8888888888888888,\"#fdca26\"],[1.0,\"#f0f921\"]]},\"colorway\":[\"#636efa\",\"#EF553B\",\"#00cc96\",\"#ab63fa\",\"#FFA15A\",\"#19d3f3\",\"#FF6692\",\"#B6E880\",\"#FF97FF\",\"#FECB52\"],\"font\":{\"color\":\"#2a3f5f\"},\"geo\":{\"bgcolor\":\"white\",\"lakecolor\":\"white\",\"landcolor\":\"#E5ECF6\",\"showlakes\":true,\"showland\":true,\"subunitcolor\":\"white\"},\"hoverlabel\":{\"align\":\"left\"},\"hovermode\":\"closest\",\"mapbox\":{\"style\":\"light\"},\"paper_bgcolor\":\"white\",\"plot_bgcolor\":\"#E5ECF6\",\"polar\":{\"angularaxis\":{\"gridcolor\":\"white\",\"linecolor\":\"white\",\"ticks\":\"\"},\"bgcolor\":\"#E5ECF6\",\"radialaxis\":{\"gridcolor\":\"white\",\"linecolor\":\"white\",\"ticks\":\"\"}},\"scene\":{\"xaxis\":{\"backgroundcolor\":\"#E5ECF6\",\"gridcolor\":\"white\",\"gridwidth\":2,\"linecolor\":\"white\",\"showbackground\":true,\"ticks\":\"\",\"zerolinecolor\":\"white\"},\"yaxis\":{\"backgroundcolor\":\"#E5ECF6\",\"gridcolor\":\"white\",\"gridwidth\":2,\"linecolor\":\"white\",\"showbackground\":true,\"ticks\":\"\",\"zerolinecolor\":\"white\"},\"zaxis\":{\"backgroundcolor\":\"#E5ECF6\",\"gridcolor\":\"white\",\"gridwidth\":2,\"linecolor\":\"white\",\"showbackground\":true,\"ticks\":\"\",\"zerolinecolor\":\"white\"}},\"shapedefaults\":{\"line\":{\"color\":\"#2a3f5f\"}},\"ternary\":{\"aaxis\":{\"gridcolor\":\"white\",\"linecolor\":\"white\",\"ticks\":\"\"},\"baxis\":{\"gridcolor\":\"white\",\"linecolor\":\"white\",\"ticks\":\"\"},\"bgcolor\":\"#E5ECF6\",\"caxis\":{\"gridcolor\":\"white\",\"linecolor\":\"white\",\"ticks\":\"\"}},\"title\":{\"x\":0.05},\"xaxis\":{\"automargin\":true,\"gridcolor\":\"white\",\"linecolor\":\"white\",\"ticks\":\"\",\"title\":{\"standoff\":15},\"zerolinecolor\":\"white\",\"zerolinewidth\":2},\"yaxis\":{\"automargin\":true,\"gridcolor\":\"white\",\"linecolor\":\"white\",\"ticks\":\"\",\"title\":{\"standoff\":15},\"zerolinecolor\":\"white\",\"zerolinewidth\":2}}},\"xaxis\":{\"anchor\":\"y\",\"domain\":[0.0,1.0],\"title\":{\"text\":\"Year\"},\"showgrid\":true,\"gridwidth\":1,\"gridcolor\":\"lightgrey\",\"zeroline\":true,\"zerolinewidth\":1,\"zerolinecolor\":\"lightgrey\",\"showline\":true,\"linewidth\":1,\"linecolor\":\"black\"},\"yaxis\":{\"anchor\":\"x\",\"domain\":[0.0,1.0],\"title\":{\"text\":\"Population\"},\"showgrid\":true,\"gridwidth\":1,\"gridcolor\":\"lightgrey\",\"zeroline\":true,\"zerolinewidth\":1,\"zerolinecolor\":\"lightgrey\",\"showline\":true,\"linewidth\":1,\"linecolor\":\"black\"},\"legend\":{\"tracegroupgap\":0},\"margin\":{\"t\":60},\"plot_bgcolor\":\"white\",\"title\":{\"font\":{\"color\":\"black\"},\"text\":\"Population in India\"}},                        {\"responsive\": true}                    ).then(function(){\n",
       "                            \n",
       "var gd = document.getElementById('d53c8332-b561-4b41-80c0-a6518964287a');\n",
       "var x = new MutationObserver(function (mutations, observer) {{\n",
       "        var display = window.getComputedStyle(gd).display;\n",
       "        if (!display || display === 'none') {{\n",
       "            console.log([gd, 'removed!']);\n",
       "            Plotly.purge(gd);\n",
       "            observer.disconnect();\n",
       "        }}\n",
       "}});\n",
       "\n",
       "// Listen for the removal of the full notebook cells\n",
       "var notebookContainer = gd.closest('#notebook-container');\n",
       "if (notebookContainer) {{\n",
       "    x.observe(notebookContainer, {childList: true});\n",
       "}}\n",
       "\n",
       "// Listen for the clearing of the current output cell\n",
       "var outputEl = gd.closest('.output');\n",
       "if (outputEl) {{\n",
       "    x.observe(outputEl, {childList: true});\n",
       "}}\n",
       "\n",
       "                        })                };                });            </script>        </div>"
      ]
     },
     "metadata": {},
     "output_type": "display_data"
    }
   ],
   "source": [
    "# Create a scatter plot\n",
    "fig = px.scatter(df, x=df['Year'], y=df['Population'], \n",
    "                 opacity=0.8, color_discrete_sequence=['black'])\n",
    "# Change chart background color\n",
    "fig.update_layout(dict(plot_bgcolor = 'white'))\n",
    "\n",
    "# Update axes lines\n",
    "fig.update_xaxes(showgrid=True, gridwidth=1, gridcolor='lightgrey', \n",
    "                 zeroline=True, zerolinewidth=1, zerolinecolor='lightgrey', \n",
    "                 showline=True, linewidth=1, linecolor='black')\n",
    "\n",
    "fig.update_yaxes(showgrid=True, gridwidth=1, gridcolor='lightgrey', \n",
    "                 zeroline=True, zerolinewidth=1, zerolinecolor='lightgrey', \n",
    "                 showline=True, linewidth=1, linecolor='black')\n",
    "\n",
    "fig.update_yaxes(showgrid=True, gridwidth=1, gridcolor='lightgrey', \n",
    "                 zeroline=True, zerolinewidth=1, zerolinecolor='lightgrey', \n",
    "                 showline=True, linewidth=1, linecolor='black')\n",
    "\n",
    "# Set figure title\n",
    "fig.update_layout(title=dict(text=\"Population in India\", \n",
    "                             font=dict(color='black')))\n",
    "# Update marker size\n",
    "fig.update_traces(marker=dict(size=5))\n",
    "\n",
    "fig.show()\n"
   ]
  },
  {
   "cell_type": "code",
   "execution_count": 408,
   "id": "0dab48d6",
   "metadata": {
    "id": "0dab48d6"
   },
   "outputs": [],
   "source": [
    "# Note, we need X to be a 2D array, hence reshape\n",
    "X=df['Year'].values.reshape(-1,1)\n",
    "y=df['Population'].values\n",
    "\n",
    "X_train, X_test, y_train, y_test = train_test_split(X ,y, test_size=0.30, random_state=100)\n",
    "\n",
    "\n",
    "# ------- Linear regression -------\n",
    "model1 = LinearRegression()\n",
    "lr = model1.fit(X_train, y_train)\n",
    "\n",
    "# ------- Support Vector regression -------\n",
    "model2 = SVR(kernel='linear', C=1000000000, epsilon=20000000) # set kernel and hyperparameters\n",
    "svr = model2.fit(X_train, y_train)\n",
    "\n",
    "# ------- Predict a range of values based on the models for visualization -------\n",
    "# Create 100 evenly spaced points from smallest X to largest X\n",
    "x_range = np.linspace(X.min(), X.max(), 100)\n",
    "\n",
    "# Predict y values for our set of X values\n",
    "y_lr = model1.predict(x_range.reshape(-1, 1)) # Linear regression\n",
    "y_svr = model2.predict(x_range.reshape(-1, 1)) # SVR"
   ]
  },
  {
   "cell_type": "code",
   "execution_count": 409,
   "id": "de886073",
   "metadata": {
    "colab": {
     "base_uri": "https://localhost:8080/",
     "height": 542
    },
    "id": "de886073",
    "outputId": "1d7809ab-3ed0-49b3-cdf4-15421d6e096a"
   },
   "outputs": [
    {
     "data": {
      "application/vnd.plotly.v1+json": {
       "config": {
        "plotlyServerURL": "https://plot.ly"
       },
       "data": [
        {
         "hovertemplate": "Year=%{x}<br>Population=%{y}<extra></extra>",
         "legendgroup": "",
         "marker": {
          "color": "black",
          "opacity": 0.8,
          "size": 3,
          "symbol": "circle"
         },
         "mode": "markers",
         "name": "",
         "orientation": "v",
         "showlegend": false,
         "type": "scatter",
         "x": [
          1990,
          1991,
          1992,
          1993,
          1994,
          1995,
          1996,
          1997,
          1998,
          1999,
          2000,
          2001,
          2002,
          2003,
          2004,
          2005,
          2006,
          2007,
          2008,
          2009,
          2010,
          2011,
          2012,
          2013,
          2014,
          2015,
          2016,
          2017
         ],
         "xaxis": "x",
         "y": [
          873277798,
          891273209,
          909307016,
          927403860,
          945601831,
          963922588,
          982365243,
          1000900030,
          1019483581,
          1038058156,
          1056575549,
          1075000085,
          1093317189,
          1111523144,
          1129623456,
          1147609927,
          1165486291,
          1183209472,
          1200669765,
          1217726215,
          1234281170,
          1250288729,
          1265782790,
          1280846129,
          1295604184,
          1310152403,
          1324509589,
          1338658835
         ],
         "yaxis": "y"
        },
        {
         "line": {
          "color": "limegreen"
         },
         "marker": {
          "size": 3
         },
         "name": "Linear Regression",
         "type": "scatter",
         "x": [
          1990,
          1990.2727272727273,
          1990.5454545454545,
          1990.8181818181818,
          1991.090909090909,
          1991.3636363636363,
          1991.6363636363637,
          1991.909090909091,
          1992.1818181818182,
          1992.4545454545455,
          1992.7272727272727,
          1993,
          1993.2727272727273,
          1993.5454545454545,
          1993.8181818181818,
          1994.090909090909,
          1994.3636363636363,
          1994.6363636363637,
          1994.909090909091,
          1995.1818181818182,
          1995.4545454545455,
          1995.7272727272727,
          1996,
          1996.2727272727273,
          1996.5454545454545,
          1996.8181818181818,
          1997.090909090909,
          1997.3636363636363,
          1997.6363636363637,
          1997.909090909091,
          1998.1818181818182,
          1998.4545454545455,
          1998.7272727272727,
          1999,
          1999.2727272727273,
          1999.5454545454545,
          1999.8181818181818,
          2000.090909090909,
          2000.3636363636363,
          2000.6363636363637,
          2000.909090909091,
          2001.1818181818182,
          2001.4545454545455,
          2001.7272727272727,
          2002,
          2002.2727272727273,
          2002.5454545454545,
          2002.8181818181818,
          2003.090909090909,
          2003.3636363636363,
          2003.6363636363637,
          2003.909090909091,
          2004.1818181818182,
          2004.4545454545455,
          2004.7272727272727,
          2005,
          2005.2727272727273,
          2005.5454545454545,
          2005.8181818181818,
          2006.090909090909,
          2006.3636363636363,
          2006.6363636363637,
          2006.909090909091,
          2007.1818181818182,
          2007.4545454545455,
          2007.7272727272727,
          2008,
          2008.2727272727273,
          2008.5454545454545,
          2008.8181818181818,
          2009.090909090909,
          2009.3636363636363,
          2009.6363636363637,
          2009.909090909091,
          2010.1818181818182,
          2010.4545454545455,
          2010.7272727272727,
          2011,
          2011.2727272727273,
          2011.5454545454545,
          2011.8181818181818,
          2012.090909090909,
          2012.3636363636363,
          2012.6363636363637,
          2012.909090909091,
          2013.1818181818182,
          2013.4545454545455,
          2013.7272727272727,
          2014,
          2014.2727272727273,
          2014.5454545454545,
          2014.8181818181818,
          2015.090909090909,
          2015.3636363636363,
          2015.6363636363637,
          2015.909090909091,
          2016.1818181818182,
          2016.4545454545455,
          2016.7272727272727,
          2017
         ],
         "y": [
          877456872.1083488,
          882274730.5300102,
          887092588.9516716,
          891910447.373333,
          896728305.7949944,
          901546164.2166557,
          906364022.6383171,
          911181881.0599785,
          915999739.4816399,
          920817597.9033012,
          925635456.3249626,
          930453314.746624,
          935271173.1682854,
          940089031.5899467,
          944906890.0116081,
          949724748.4332695,
          954542606.8549309,
          959360465.2765923,
          964178323.6982536,
          968996182.119915,
          973814040.5415764,
          978631898.9632378,
          983449757.3848991,
          988267615.8065605,
          993085474.2282219,
          997903332.6498833,
          1002721191.0715446,
          1007539049.4931984,
          1012356907.9148674,
          1017174766.3365288,
          1021992624.7581902,
          1026810483.1798515,
          1031628341.6015129,
          1036446200.0231743,
          1041264058.444828,
          1046081916.8664894,
          1050899775.2881508,
          1055717633.7098122,
          1060535492.1314735,
          1065353350.5531425,
          1070171208.9748039,
          1074989067.3964653,
          1079806925.818119,
          1084624784.2397804,
          1089442642.6614418,
          1094260501.0831032,
          1099078359.5047646,
          1103896217.926426,
          1108714076.3480873,
          1113531934.7697487,
          1118349793.19141,
          1123167651.6130714,
          1127985510.0347328,
          1132803368.4563942,
          1137621226.8780556,
          1142439085.299717,
          1147256943.7213783,
          1152074802.1430397,
          1156892660.564701,
          1161710518.9863625,
          1166528377.4080238,
          1171346235.8296852,
          1176164094.2513466,
          1180981952.673008,
          1185799811.0946693,
          1190617669.5163307,
          1195435527.937992,
          1200253386.3596535,
          1205071244.7813148,
          1209889103.2029762,
          1214706961.6246376,
          1219524820.046299,
          1224342678.4679604,
          1229160536.8896217,
          1233978395.311283,
          1238796253.7329445,
          1243614112.1546059,
          1248431970.5762672,
          1253249828.9979286,
          1258067687.41959,
          1262885545.8412437,
          1267703404.2629051,
          1272521262.6845665,
          1277339121.1062355,
          1282156979.527897,
          1286974837.9495583,
          1291792696.3712196,
          1296610554.792881,
          1301428413.2145348,
          1306246271.6361961,
          1311064130.0578575,
          1315881988.479519,
          1320699846.9011803,
          1325517705.3228416,
          1330335563.7445107,
          1335153422.166172,
          1339971280.5878258,
          1344789139.0094872,
          1349606997.4311485,
          1354424855.85281
         ]
        },
        {
         "line": {
          "color": "red"
         },
         "marker": {
          "size": 3
         },
         "name": "Support Vector Regression",
         "type": "scatter",
         "x": [
          1990,
          1990.2727272727273,
          1990.5454545454545,
          1990.8181818181818,
          1991.090909090909,
          1991.3636363636363,
          1991.6363636363637,
          1991.909090909091,
          1992.1818181818182,
          1992.4545454545455,
          1992.7272727272727,
          1993,
          1993.2727272727273,
          1993.5454545454545,
          1993.8181818181818,
          1994.090909090909,
          1994.3636363636363,
          1994.6363636363637,
          1994.909090909091,
          1995.1818181818182,
          1995.4545454545455,
          1995.7272727272727,
          1996,
          1996.2727272727273,
          1996.5454545454545,
          1996.8181818181818,
          1997.090909090909,
          1997.3636363636363,
          1997.6363636363637,
          1997.909090909091,
          1998.1818181818182,
          1998.4545454545455,
          1998.7272727272727,
          1999,
          1999.2727272727273,
          1999.5454545454545,
          1999.8181818181818,
          2000.090909090909,
          2000.3636363636363,
          2000.6363636363637,
          2000.909090909091,
          2001.1818181818182,
          2001.4545454545455,
          2001.7272727272727,
          2002,
          2002.2727272727273,
          2002.5454545454545,
          2002.8181818181818,
          2003.090909090909,
          2003.3636363636363,
          2003.6363636363637,
          2003.909090909091,
          2004.1818181818182,
          2004.4545454545455,
          2004.7272727272727,
          2005,
          2005.2727272727273,
          2005.5454545454545,
          2005.8181818181818,
          2006.090909090909,
          2006.3636363636363,
          2006.6363636363637,
          2006.909090909091,
          2007.1818181818182,
          2007.4545454545455,
          2007.7272727272727,
          2008,
          2008.2727272727273,
          2008.5454545454545,
          2008.8181818181818,
          2009.090909090909,
          2009.3636363636363,
          2009.6363636363637,
          2009.909090909091,
          2010.1818181818182,
          2010.4545454545455,
          2010.7272727272727,
          2011,
          2011.2727272727273,
          2011.5454545454545,
          2011.8181818181818,
          2012.090909090909,
          2012.3636363636363,
          2012.6363636363637,
          2012.909090909091,
          2013.1818181818182,
          2013.4545454545455,
          2013.7272727272727,
          2014,
          2014.2727272727273,
          2014.5454545454545,
          2014.8181818181818,
          2015.090909090909,
          2015.3636363636363,
          2015.6363636363637,
          2015.909090909091,
          2016.1818181818182,
          2016.4545454545455,
          2016.7272727272727,
          2017
         ],
         "y": [
          893277798.0000534,
          897655116.7095261,
          902032435.4185104,
          906409754.1274948,
          910787072.8369675,
          915164391.5454636,
          919541710.2549362,
          923919028.9639206,
          928296347.6724167,
          932673666.3818893,
          937050985.0908737,
          941428303.8003464,
          945805622.5088425,
          950182941.2183151,
          954560259.9277878,
          958937578.6367722,
          963314897.3452682,
          967692216.0552292,
          972069534.7637253,
          976446853.4727097,
          980824172.181694,
          985201490.8911667,
          989578809.6001511,
          993956128.3091354,
          998333447.0186081,
          1002710765.7275925,
          1007088084.4370651,
          1011465403.1450729,
          1015842721.8550339,
          1020220040.56353,
          1024597359.2725143,
          1028974677.981987,
          1033351996.6909714,
          1037729315.3999557,
          1042106634.1089401,
          1046483952.8184128,
          1050861271.5278854,
          1055238590.2363815,
          1059615908.9453659,
          1063993227.6553268,
          1068370546.3633347,
          1072747865.0728073,
          1077125183.7817917,
          1081502502.4912643,
          1085879821.2002487,
          1090257139.909233,
          1094634458.6187057,
          1099011777.3276901,
          1103389096.0366745,
          1107766414.7451706,
          1112143733.4546432,
          1116521052.1636276,
          1120898370.872612,
          1125275689.5820847,
          1129653008.291069,
          1134030327.0000534,
          1138407645.709526,
          1142784964.4185104,
          1147162283.1274948,
          1151539601.8364792,
          1155916920.5454636,
          1160294239.2549362,
          1164671557.9634323,
          1169048876.672905,
          1173426195.3818893,
          1177803514.0908737,
          1182180832.8003464,
          1186558151.5093307,
          1190935470.2188034,
          1195312788.9272995,
          1199690107.6367722,
          1204067426.3452682,
          1208444745.054741,
          1212822063.7637253,
          1217199382.4727097,
          1221576701.1821823,
          1225954019.8911667,
          1230331338.600151,
          1234708657.3096237,
          1239085976.0181198,
          1243463294.7275925,
          1247840613.4365768,
          1252217932.1455612,
          1256595250.8550339,
          1260972569.56353,
          1265349888.2730026,
          1269727206.981987,
          1274104525.6909714,
          1278481844.400444,
          1282859163.1094284,
          1287236481.8184128,
          1291613800.5273972,
          1295991119.2368698,
          1300368437.945366,
          1304745756.6548386,
          1309123075.363823,
          1313500394.0728073,
          1317877712.7817917,
          1322255031.4912643,
          1326632350.2002487
         ]
        },
        {
         "line": {
          "color": "red",
          "dash": "dot"
         },
         "marker": {
          "size": 3
         },
         "name": "+epsilon",
         "type": "scatter",
         "x": [
          1990,
          1990.2727272727273,
          1990.5454545454545,
          1990.8181818181818,
          1991.090909090909,
          1991.3636363636363,
          1991.6363636363637,
          1991.909090909091,
          1992.1818181818182,
          1992.4545454545455,
          1992.7272727272727,
          1993,
          1993.2727272727273,
          1993.5454545454545,
          1993.8181818181818,
          1994.090909090909,
          1994.3636363636363,
          1994.6363636363637,
          1994.909090909091,
          1995.1818181818182,
          1995.4545454545455,
          1995.7272727272727,
          1996,
          1996.2727272727273,
          1996.5454545454545,
          1996.8181818181818,
          1997.090909090909,
          1997.3636363636363,
          1997.6363636363637,
          1997.909090909091,
          1998.1818181818182,
          1998.4545454545455,
          1998.7272727272727,
          1999,
          1999.2727272727273,
          1999.5454545454545,
          1999.8181818181818,
          2000.090909090909,
          2000.3636363636363,
          2000.6363636363637,
          2000.909090909091,
          2001.1818181818182,
          2001.4545454545455,
          2001.7272727272727,
          2002,
          2002.2727272727273,
          2002.5454545454545,
          2002.8181818181818,
          2003.090909090909,
          2003.3636363636363,
          2003.6363636363637,
          2003.909090909091,
          2004.1818181818182,
          2004.4545454545455,
          2004.7272727272727,
          2005,
          2005.2727272727273,
          2005.5454545454545,
          2005.8181818181818,
          2006.090909090909,
          2006.3636363636363,
          2006.6363636363637,
          2006.909090909091,
          2007.1818181818182,
          2007.4545454545455,
          2007.7272727272727,
          2008,
          2008.2727272727273,
          2008.5454545454545,
          2008.8181818181818,
          2009.090909090909,
          2009.3636363636363,
          2009.6363636363637,
          2009.909090909091,
          2010.1818181818182,
          2010.4545454545455,
          2010.7272727272727,
          2011,
          2011.2727272727273,
          2011.5454545454545,
          2011.8181818181818,
          2012.090909090909,
          2012.3636363636363,
          2012.6363636363637,
          2012.909090909091,
          2013.1818181818182,
          2013.4545454545455,
          2013.7272727272727,
          2014,
          2014.2727272727273,
          2014.5454545454545,
          2014.8181818181818,
          2015.090909090909,
          2015.3636363636363,
          2015.6363636363637,
          2015.909090909091,
          2016.1818181818182,
          2016.4545454545455,
          2016.7272727272727,
          2017
         ],
         "y": [
          913277798.0000534,
          917655116.7095261,
          922032435.4185104,
          926409754.1274948,
          930787072.8369675,
          935164391.5454636,
          939541710.2549362,
          943919028.9639206,
          948296347.6724167,
          952673666.3818893,
          957050985.0908737,
          961428303.8003464,
          965805622.5088425,
          970182941.2183151,
          974560259.9277878,
          978937578.6367722,
          983314897.3452682,
          987692216.0552292,
          992069534.7637253,
          996446853.4727097,
          1000824172.181694,
          1005201490.8911667,
          1009578809.6001511,
          1013956128.3091354,
          1018333447.0186081,
          1022710765.7275925,
          1027088084.4370651,
          1031465403.1450729,
          1035842721.8550339,
          1040220040.56353,
          1044597359.2725143,
          1048974677.981987,
          1053351996.6909714,
          1057729315.3999557,
          1062106634.1089401,
          1066483952.8184128,
          1070861271.5278854,
          1075238590.2363815,
          1079615908.945366,
          1083993227.6553268,
          1088370546.3633347,
          1092747865.0728073,
          1097125183.7817917,
          1101502502.4912643,
          1105879821.2002487,
          1110257139.909233,
          1114634458.6187057,
          1119011777.3276901,
          1123389096.0366745,
          1127766414.7451706,
          1132143733.4546432,
          1136521052.1636276,
          1140898370.872612,
          1145275689.5820847,
          1149653008.291069,
          1154030327.0000534,
          1158407645.709526,
          1162784964.4185104,
          1167162283.1274948,
          1171539601.8364792,
          1175916920.5454636,
          1180294239.2549362,
          1184671557.9634323,
          1189048876.672905,
          1193426195.3818893,
          1197803514.0908737,
          1202180832.8003464,
          1206558151.5093307,
          1210935470.2188034,
          1215312788.9272995,
          1219690107.6367722,
          1224067426.3452682,
          1228444745.054741,
          1232822063.7637253,
          1237199382.4727097,
          1241576701.1821823,
          1245954019.8911667,
          1250331338.600151,
          1254708657.3096237,
          1259085976.0181198,
          1263463294.7275925,
          1267840613.4365768,
          1272217932.1455612,
          1276595250.8550339,
          1280972569.56353,
          1285349888.2730026,
          1289727206.981987,
          1294104525.6909714,
          1298481844.400444,
          1302859163.1094284,
          1307236481.8184128,
          1311613800.5273972,
          1315991119.2368698,
          1320368437.945366,
          1324745756.6548386,
          1329123075.363823,
          1333500394.0728073,
          1337877712.7817917,
          1342255031.4912643,
          1346632350.2002487
         ]
        },
        {
         "line": {
          "color": "red",
          "dash": "dot"
         },
         "marker": {
          "size": 3
         },
         "name": "-epsilon",
         "type": "scatter",
         "x": [
          1990,
          1990.2727272727273,
          1990.5454545454545,
          1990.8181818181818,
          1991.090909090909,
          1991.3636363636363,
          1991.6363636363637,
          1991.909090909091,
          1992.1818181818182,
          1992.4545454545455,
          1992.7272727272727,
          1993,
          1993.2727272727273,
          1993.5454545454545,
          1993.8181818181818,
          1994.090909090909,
          1994.3636363636363,
          1994.6363636363637,
          1994.909090909091,
          1995.1818181818182,
          1995.4545454545455,
          1995.7272727272727,
          1996,
          1996.2727272727273,
          1996.5454545454545,
          1996.8181818181818,
          1997.090909090909,
          1997.3636363636363,
          1997.6363636363637,
          1997.909090909091,
          1998.1818181818182,
          1998.4545454545455,
          1998.7272727272727,
          1999,
          1999.2727272727273,
          1999.5454545454545,
          1999.8181818181818,
          2000.090909090909,
          2000.3636363636363,
          2000.6363636363637,
          2000.909090909091,
          2001.1818181818182,
          2001.4545454545455,
          2001.7272727272727,
          2002,
          2002.2727272727273,
          2002.5454545454545,
          2002.8181818181818,
          2003.090909090909,
          2003.3636363636363,
          2003.6363636363637,
          2003.909090909091,
          2004.1818181818182,
          2004.4545454545455,
          2004.7272727272727,
          2005,
          2005.2727272727273,
          2005.5454545454545,
          2005.8181818181818,
          2006.090909090909,
          2006.3636363636363,
          2006.6363636363637,
          2006.909090909091,
          2007.1818181818182,
          2007.4545454545455,
          2007.7272727272727,
          2008,
          2008.2727272727273,
          2008.5454545454545,
          2008.8181818181818,
          2009.090909090909,
          2009.3636363636363,
          2009.6363636363637,
          2009.909090909091,
          2010.1818181818182,
          2010.4545454545455,
          2010.7272727272727,
          2011,
          2011.2727272727273,
          2011.5454545454545,
          2011.8181818181818,
          2012.090909090909,
          2012.3636363636363,
          2012.6363636363637,
          2012.909090909091,
          2013.1818181818182,
          2013.4545454545455,
          2013.7272727272727,
          2014,
          2014.2727272727273,
          2014.5454545454545,
          2014.8181818181818,
          2015.090909090909,
          2015.3636363636363,
          2015.6363636363637,
          2015.909090909091,
          2016.1818181818182,
          2016.4545454545455,
          2016.7272727272727,
          2017
         ],
         "y": [
          873277798.0000534,
          877655116.7095261,
          882032435.4185104,
          886409754.1274948,
          890787072.8369675,
          895164391.5454636,
          899541710.2549362,
          903919028.9639206,
          908296347.6724167,
          912673666.3818893,
          917050985.0908737,
          921428303.8003464,
          925805622.5088425,
          930182941.2183151,
          934560259.9277878,
          938937578.6367722,
          943314897.3452682,
          947692216.0552292,
          952069534.7637253,
          956446853.4727097,
          960824172.181694,
          965201490.8911667,
          969578809.6001511,
          973956128.3091354,
          978333447.0186081,
          982710765.7275925,
          987088084.4370651,
          991465403.1450729,
          995842721.8550339,
          1000220040.56353,
          1004597359.2725143,
          1008974677.981987,
          1013351996.6909714,
          1017729315.3999557,
          1022106634.1089401,
          1026483952.8184128,
          1030861271.5278854,
          1035238590.2363815,
          1039615908.9453659,
          1043993227.6553268,
          1048370546.3633347,
          1052747865.0728073,
          1057125183.7817917,
          1061502502.4912643,
          1065879821.2002487,
          1070257139.9092331,
          1074634458.6187057,
          1079011777.3276901,
          1083389096.0366745,
          1087766414.7451706,
          1092143733.4546432,
          1096521052.1636276,
          1100898370.872612,
          1105275689.5820847,
          1109653008.291069,
          1114030327.0000534,
          1118407645.709526,
          1122784964.4185104,
          1127162283.1274948,
          1131539601.8364792,
          1135916920.5454636,
          1140294239.2549362,
          1144671557.9634323,
          1149048876.672905,
          1153426195.3818893,
          1157803514.0908737,
          1162180832.8003464,
          1166558151.5093307,
          1170935470.2188034,
          1175312788.9272995,
          1179690107.6367722,
          1184067426.3452682,
          1188444745.054741,
          1192822063.7637253,
          1197199382.4727097,
          1201576701.1821823,
          1205954019.8911667,
          1210331338.600151,
          1214708657.3096237,
          1219085976.0181198,
          1223463294.7275925,
          1227840613.4365768,
          1232217932.1455612,
          1236595250.8550339,
          1240972569.56353,
          1245349888.2730026,
          1249727206.981987,
          1254104525.6909714,
          1258481844.400444,
          1262859163.1094284,
          1267236481.8184128,
          1271613800.5273972,
          1275991119.2368698,
          1280368437.945366,
          1284745756.6548386,
          1289123075.363823,
          1293500394.0728073,
          1297877712.7817917,
          1302255031.4912643,
          1306632350.2002487
         ]
        }
       ],
       "layout": {
        "legend": {
         "tracegroupgap": 0
        },
        "margin": {
         "t": 60
        },
        "plot_bgcolor": "white",
        "template": {
         "data": {
          "bar": [
           {
            "error_x": {
             "color": "#2a3f5f"
            },
            "error_y": {
             "color": "#2a3f5f"
            },
            "marker": {
             "line": {
              "color": "#E5ECF6",
              "width": 0.5
             },
             "pattern": {
              "fillmode": "overlay",
              "size": 10,
              "solidity": 0.2
             }
            },
            "type": "bar"
           }
          ],
          "barpolar": [
           {
            "marker": {
             "line": {
              "color": "#E5ECF6",
              "width": 0.5
             },
             "pattern": {
              "fillmode": "overlay",
              "size": 10,
              "solidity": 0.2
             }
            },
            "type": "barpolar"
           }
          ],
          "carpet": [
           {
            "aaxis": {
             "endlinecolor": "#2a3f5f",
             "gridcolor": "white",
             "linecolor": "white",
             "minorgridcolor": "white",
             "startlinecolor": "#2a3f5f"
            },
            "baxis": {
             "endlinecolor": "#2a3f5f",
             "gridcolor": "white",
             "linecolor": "white",
             "minorgridcolor": "white",
             "startlinecolor": "#2a3f5f"
            },
            "type": "carpet"
           }
          ],
          "choropleth": [
           {
            "colorbar": {
             "outlinewidth": 0,
             "ticks": ""
            },
            "type": "choropleth"
           }
          ],
          "contour": [
           {
            "colorbar": {
             "outlinewidth": 0,
             "ticks": ""
            },
            "colorscale": [
             [
              0,
              "#0d0887"
             ],
             [
              0.1111111111111111,
              "#46039f"
             ],
             [
              0.2222222222222222,
              "#7201a8"
             ],
             [
              0.3333333333333333,
              "#9c179e"
             ],
             [
              0.4444444444444444,
              "#bd3786"
             ],
             [
              0.5555555555555556,
              "#d8576b"
             ],
             [
              0.6666666666666666,
              "#ed7953"
             ],
             [
              0.7777777777777778,
              "#fb9f3a"
             ],
             [
              0.8888888888888888,
              "#fdca26"
             ],
             [
              1,
              "#f0f921"
             ]
            ],
            "type": "contour"
           }
          ],
          "contourcarpet": [
           {
            "colorbar": {
             "outlinewidth": 0,
             "ticks": ""
            },
            "type": "contourcarpet"
           }
          ],
          "heatmap": [
           {
            "colorbar": {
             "outlinewidth": 0,
             "ticks": ""
            },
            "colorscale": [
             [
              0,
              "#0d0887"
             ],
             [
              0.1111111111111111,
              "#46039f"
             ],
             [
              0.2222222222222222,
              "#7201a8"
             ],
             [
              0.3333333333333333,
              "#9c179e"
             ],
             [
              0.4444444444444444,
              "#bd3786"
             ],
             [
              0.5555555555555556,
              "#d8576b"
             ],
             [
              0.6666666666666666,
              "#ed7953"
             ],
             [
              0.7777777777777778,
              "#fb9f3a"
             ],
             [
              0.8888888888888888,
              "#fdca26"
             ],
             [
              1,
              "#f0f921"
             ]
            ],
            "type": "heatmap"
           }
          ],
          "heatmapgl": [
           {
            "colorbar": {
             "outlinewidth": 0,
             "ticks": ""
            },
            "colorscale": [
             [
              0,
              "#0d0887"
             ],
             [
              0.1111111111111111,
              "#46039f"
             ],
             [
              0.2222222222222222,
              "#7201a8"
             ],
             [
              0.3333333333333333,
              "#9c179e"
             ],
             [
              0.4444444444444444,
              "#bd3786"
             ],
             [
              0.5555555555555556,
              "#d8576b"
             ],
             [
              0.6666666666666666,
              "#ed7953"
             ],
             [
              0.7777777777777778,
              "#fb9f3a"
             ],
             [
              0.8888888888888888,
              "#fdca26"
             ],
             [
              1,
              "#f0f921"
             ]
            ],
            "type": "heatmapgl"
           }
          ],
          "histogram": [
           {
            "marker": {
             "pattern": {
              "fillmode": "overlay",
              "size": 10,
              "solidity": 0.2
             }
            },
            "type": "histogram"
           }
          ],
          "histogram2d": [
           {
            "colorbar": {
             "outlinewidth": 0,
             "ticks": ""
            },
            "colorscale": [
             [
              0,
              "#0d0887"
             ],
             [
              0.1111111111111111,
              "#46039f"
             ],
             [
              0.2222222222222222,
              "#7201a8"
             ],
             [
              0.3333333333333333,
              "#9c179e"
             ],
             [
              0.4444444444444444,
              "#bd3786"
             ],
             [
              0.5555555555555556,
              "#d8576b"
             ],
             [
              0.6666666666666666,
              "#ed7953"
             ],
             [
              0.7777777777777778,
              "#fb9f3a"
             ],
             [
              0.8888888888888888,
              "#fdca26"
             ],
             [
              1,
              "#f0f921"
             ]
            ],
            "type": "histogram2d"
           }
          ],
          "histogram2dcontour": [
           {
            "colorbar": {
             "outlinewidth": 0,
             "ticks": ""
            },
            "colorscale": [
             [
              0,
              "#0d0887"
             ],
             [
              0.1111111111111111,
              "#46039f"
             ],
             [
              0.2222222222222222,
              "#7201a8"
             ],
             [
              0.3333333333333333,
              "#9c179e"
             ],
             [
              0.4444444444444444,
              "#bd3786"
             ],
             [
              0.5555555555555556,
              "#d8576b"
             ],
             [
              0.6666666666666666,
              "#ed7953"
             ],
             [
              0.7777777777777778,
              "#fb9f3a"
             ],
             [
              0.8888888888888888,
              "#fdca26"
             ],
             [
              1,
              "#f0f921"
             ]
            ],
            "type": "histogram2dcontour"
           }
          ],
          "mesh3d": [
           {
            "colorbar": {
             "outlinewidth": 0,
             "ticks": ""
            },
            "type": "mesh3d"
           }
          ],
          "parcoords": [
           {
            "line": {
             "colorbar": {
              "outlinewidth": 0,
              "ticks": ""
             }
            },
            "type": "parcoords"
           }
          ],
          "pie": [
           {
            "automargin": true,
            "type": "pie"
           }
          ],
          "scatter": [
           {
            "marker": {
             "colorbar": {
              "outlinewidth": 0,
              "ticks": ""
             }
            },
            "type": "scatter"
           }
          ],
          "scatter3d": [
           {
            "line": {
             "colorbar": {
              "outlinewidth": 0,
              "ticks": ""
             }
            },
            "marker": {
             "colorbar": {
              "outlinewidth": 0,
              "ticks": ""
             }
            },
            "type": "scatter3d"
           }
          ],
          "scattercarpet": [
           {
            "marker": {
             "colorbar": {
              "outlinewidth": 0,
              "ticks": ""
             }
            },
            "type": "scattercarpet"
           }
          ],
          "scattergeo": [
           {
            "marker": {
             "colorbar": {
              "outlinewidth": 0,
              "ticks": ""
             }
            },
            "type": "scattergeo"
           }
          ],
          "scattergl": [
           {
            "marker": {
             "colorbar": {
              "outlinewidth": 0,
              "ticks": ""
             }
            },
            "type": "scattergl"
           }
          ],
          "scattermapbox": [
           {
            "marker": {
             "colorbar": {
              "outlinewidth": 0,
              "ticks": ""
             }
            },
            "type": "scattermapbox"
           }
          ],
          "scatterpolar": [
           {
            "marker": {
             "colorbar": {
              "outlinewidth": 0,
              "ticks": ""
             }
            },
            "type": "scatterpolar"
           }
          ],
          "scatterpolargl": [
           {
            "marker": {
             "colorbar": {
              "outlinewidth": 0,
              "ticks": ""
             }
            },
            "type": "scatterpolargl"
           }
          ],
          "scatterternary": [
           {
            "marker": {
             "colorbar": {
              "outlinewidth": 0,
              "ticks": ""
             }
            },
            "type": "scatterternary"
           }
          ],
          "surface": [
           {
            "colorbar": {
             "outlinewidth": 0,
             "ticks": ""
            },
            "colorscale": [
             [
              0,
              "#0d0887"
             ],
             [
              0.1111111111111111,
              "#46039f"
             ],
             [
              0.2222222222222222,
              "#7201a8"
             ],
             [
              0.3333333333333333,
              "#9c179e"
             ],
             [
              0.4444444444444444,
              "#bd3786"
             ],
             [
              0.5555555555555556,
              "#d8576b"
             ],
             [
              0.6666666666666666,
              "#ed7953"
             ],
             [
              0.7777777777777778,
              "#fb9f3a"
             ],
             [
              0.8888888888888888,
              "#fdca26"
             ],
             [
              1,
              "#f0f921"
             ]
            ],
            "type": "surface"
           }
          ],
          "table": [
           {
            "cells": {
             "fill": {
              "color": "#EBF0F8"
             },
             "line": {
              "color": "white"
             }
            },
            "header": {
             "fill": {
              "color": "#C8D4E3"
             },
             "line": {
              "color": "white"
             }
            },
            "type": "table"
           }
          ]
         },
         "layout": {
          "annotationdefaults": {
           "arrowcolor": "#2a3f5f",
           "arrowhead": 0,
           "arrowwidth": 1
          },
          "autotypenumbers": "strict",
          "coloraxis": {
           "colorbar": {
            "outlinewidth": 0,
            "ticks": ""
           }
          },
          "colorscale": {
           "diverging": [
            [
             0,
             "#8e0152"
            ],
            [
             0.1,
             "#c51b7d"
            ],
            [
             0.2,
             "#de77ae"
            ],
            [
             0.3,
             "#f1b6da"
            ],
            [
             0.4,
             "#fde0ef"
            ],
            [
             0.5,
             "#f7f7f7"
            ],
            [
             0.6,
             "#e6f5d0"
            ],
            [
             0.7,
             "#b8e186"
            ],
            [
             0.8,
             "#7fbc41"
            ],
            [
             0.9,
             "#4d9221"
            ],
            [
             1,
             "#276419"
            ]
           ],
           "sequential": [
            [
             0,
             "#0d0887"
            ],
            [
             0.1111111111111111,
             "#46039f"
            ],
            [
             0.2222222222222222,
             "#7201a8"
            ],
            [
             0.3333333333333333,
             "#9c179e"
            ],
            [
             0.4444444444444444,
             "#bd3786"
            ],
            [
             0.5555555555555556,
             "#d8576b"
            ],
            [
             0.6666666666666666,
             "#ed7953"
            ],
            [
             0.7777777777777778,
             "#fb9f3a"
            ],
            [
             0.8888888888888888,
             "#fdca26"
            ],
            [
             1,
             "#f0f921"
            ]
           ],
           "sequentialminus": [
            [
             0,
             "#0d0887"
            ],
            [
             0.1111111111111111,
             "#46039f"
            ],
            [
             0.2222222222222222,
             "#7201a8"
            ],
            [
             0.3333333333333333,
             "#9c179e"
            ],
            [
             0.4444444444444444,
             "#bd3786"
            ],
            [
             0.5555555555555556,
             "#d8576b"
            ],
            [
             0.6666666666666666,
             "#ed7953"
            ],
            [
             0.7777777777777778,
             "#fb9f3a"
            ],
            [
             0.8888888888888888,
             "#fdca26"
            ],
            [
             1,
             "#f0f921"
            ]
           ]
          },
          "colorway": [
           "#636efa",
           "#EF553B",
           "#00cc96",
           "#ab63fa",
           "#FFA15A",
           "#19d3f3",
           "#FF6692",
           "#B6E880",
           "#FF97FF",
           "#FECB52"
          ],
          "font": {
           "color": "#2a3f5f"
          },
          "geo": {
           "bgcolor": "white",
           "lakecolor": "white",
           "landcolor": "#E5ECF6",
           "showlakes": true,
           "showland": true,
           "subunitcolor": "white"
          },
          "hoverlabel": {
           "align": "left"
          },
          "hovermode": "closest",
          "mapbox": {
           "style": "light"
          },
          "paper_bgcolor": "white",
          "plot_bgcolor": "#E5ECF6",
          "polar": {
           "angularaxis": {
            "gridcolor": "white",
            "linecolor": "white",
            "ticks": ""
           },
           "bgcolor": "#E5ECF6",
           "radialaxis": {
            "gridcolor": "white",
            "linecolor": "white",
            "ticks": ""
           }
          },
          "scene": {
           "xaxis": {
            "backgroundcolor": "#E5ECF6",
            "gridcolor": "white",
            "gridwidth": 2,
            "linecolor": "white",
            "showbackground": true,
            "ticks": "",
            "zerolinecolor": "white"
           },
           "yaxis": {
            "backgroundcolor": "#E5ECF6",
            "gridcolor": "white",
            "gridwidth": 2,
            "linecolor": "white",
            "showbackground": true,
            "ticks": "",
            "zerolinecolor": "white"
           },
           "zaxis": {
            "backgroundcolor": "#E5ECF6",
            "gridcolor": "white",
            "gridwidth": 2,
            "linecolor": "white",
            "showbackground": true,
            "ticks": "",
            "zerolinecolor": "white"
           }
          },
          "shapedefaults": {
           "line": {
            "color": "#2a3f5f"
           }
          },
          "ternary": {
           "aaxis": {
            "gridcolor": "white",
            "linecolor": "white",
            "ticks": ""
           },
           "baxis": {
            "gridcolor": "white",
            "linecolor": "white",
            "ticks": ""
           },
           "bgcolor": "#E5ECF6",
           "caxis": {
            "gridcolor": "white",
            "linecolor": "white",
            "ticks": ""
           }
          },
          "title": {
           "x": 0.05
          },
          "xaxis": {
           "automargin": true,
           "gridcolor": "white",
           "linecolor": "white",
           "ticks": "",
           "title": {
            "standoff": 15
           },
           "zerolinecolor": "white",
           "zerolinewidth": 2
          },
          "yaxis": {
           "automargin": true,
           "gridcolor": "white",
           "linecolor": "white",
           "ticks": "",
           "title": {
            "standoff": 15
           },
           "zerolinecolor": "white",
           "zerolinewidth": 2
          }
         }
        },
        "title": {
         "font": {
          "color": "black"
         },
         "text": "Population in India (epsilon=20000000, C=1000000000)"
        },
        "xaxis": {
         "anchor": "y",
         "domain": [
          0,
          1
         ],
         "gridcolor": "lightgrey",
         "gridwidth": 1,
         "linecolor": "black",
         "linewidth": 1,
         "showgrid": true,
         "showline": true,
         "title": {
          "text": "Year"
         },
         "zeroline": true,
         "zerolinecolor": "lightgrey",
         "zerolinewidth": 1
        },
        "yaxis": {
         "anchor": "x",
         "domain": [
          0,
          1
         ],
         "gridcolor": "lightgrey",
         "gridwidth": 1,
         "linecolor": "black",
         "linewidth": 1,
         "showgrid": true,
         "showline": true,
         "title": {
          "text": "Population"
         },
         "zeroline": true,
         "zerolinecolor": "lightgrey",
         "zerolinewidth": 1
        }
       }
      },
      "text/html": [
       "<div>                            <div id=\"64e5263a-fa11-4995-bf37-140a038bd726\" class=\"plotly-graph-div\" style=\"height:525px; width:100%;\"></div>            <script type=\"text/javascript\">                require([\"plotly\"], function(Plotly) {                    window.PLOTLYENV=window.PLOTLYENV || {};                                    if (document.getElementById(\"64e5263a-fa11-4995-bf37-140a038bd726\")) {                    Plotly.newPlot(                        \"64e5263a-fa11-4995-bf37-140a038bd726\",                        [{\"hovertemplate\":\"Year=%{x}<br>Population=%{y}<extra></extra>\",\"legendgroup\":\"\",\"marker\":{\"color\":\"black\",\"opacity\":0.8,\"symbol\":\"circle\",\"size\":3},\"mode\":\"markers\",\"name\":\"\",\"orientation\":\"v\",\"showlegend\":false,\"x\":[1990,1991,1992,1993,1994,1995,1996,1997,1998,1999,2000,2001,2002,2003,2004,2005,2006,2007,2008,2009,2010,2011,2012,2013,2014,2015,2016,2017],\"xaxis\":\"x\",\"y\":[873277798,891273209,909307016,927403860,945601831,963922588,982365243,1000900030,1019483581,1038058156,1056575549,1075000085,1093317189,1111523144,1129623456,1147609927,1165486291,1183209472,1200669765,1217726215,1234281170,1250288729,1265782790,1280846129,1295604184,1310152403,1324509589,1338658835],\"yaxis\":\"y\",\"type\":\"scatter\"},{\"line\":{\"color\":\"limegreen\"},\"name\":\"Linear Regression\",\"x\":[1990.0,1990.2727272727273,1990.5454545454545,1990.8181818181818,1991.090909090909,1991.3636363636363,1991.6363636363637,1991.909090909091,1992.1818181818182,1992.4545454545455,1992.7272727272727,1993.0,1993.2727272727273,1993.5454545454545,1993.8181818181818,1994.090909090909,1994.3636363636363,1994.6363636363637,1994.909090909091,1995.1818181818182,1995.4545454545455,1995.7272727272727,1996.0,1996.2727272727273,1996.5454545454545,1996.8181818181818,1997.090909090909,1997.3636363636363,1997.6363636363637,1997.909090909091,1998.1818181818182,1998.4545454545455,1998.7272727272727,1999.0,1999.2727272727273,1999.5454545454545,1999.8181818181818,2000.090909090909,2000.3636363636363,2000.6363636363637,2000.909090909091,2001.1818181818182,2001.4545454545455,2001.7272727272727,2002.0,2002.2727272727273,2002.5454545454545,2002.8181818181818,2003.090909090909,2003.3636363636363,2003.6363636363637,2003.909090909091,2004.1818181818182,2004.4545454545455,2004.7272727272727,2005.0,2005.2727272727273,2005.5454545454545,2005.8181818181818,2006.090909090909,2006.3636363636363,2006.6363636363637,2006.909090909091,2007.1818181818182,2007.4545454545455,2007.7272727272727,2008.0,2008.2727272727273,2008.5454545454545,2008.8181818181818,2009.090909090909,2009.3636363636363,2009.6363636363637,2009.909090909091,2010.1818181818182,2010.4545454545455,2010.7272727272727,2011.0,2011.2727272727273,2011.5454545454545,2011.8181818181818,2012.090909090909,2012.3636363636363,2012.6363636363637,2012.909090909091,2013.1818181818182,2013.4545454545455,2013.7272727272727,2014.0,2014.2727272727273,2014.5454545454545,2014.8181818181818,2015.090909090909,2015.3636363636363,2015.6363636363637,2015.909090909091,2016.1818181818182,2016.4545454545455,2016.7272727272727,2017.0],\"y\":[877456872.1083488,882274730.5300102,887092588.9516716,891910447.373333,896728305.7949944,901546164.2166557,906364022.6383171,911181881.0599785,915999739.4816399,920817597.9033012,925635456.3249626,930453314.746624,935271173.1682854,940089031.5899467,944906890.0116081,949724748.4332695,954542606.8549309,959360465.2765923,964178323.6982536,968996182.119915,973814040.5415764,978631898.9632378,983449757.3848991,988267615.8065605,993085474.2282219,997903332.6498833,1002721191.0715446,1007539049.4931984,1012356907.9148674,1017174766.3365288,1021992624.7581902,1026810483.1798515,1031628341.6015129,1036446200.0231743,1041264058.444828,1046081916.8664894,1050899775.2881508,1055717633.7098122,1060535492.1314735,1065353350.5531425,1070171208.9748039,1074989067.3964653,1079806925.818119,1084624784.2397804,1089442642.6614418,1094260501.0831032,1099078359.5047646,1103896217.926426,1108714076.3480873,1113531934.7697487,1118349793.19141,1123167651.6130714,1127985510.0347328,1132803368.4563942,1137621226.8780556,1142439085.299717,1147256943.7213783,1152074802.1430397,1156892660.564701,1161710518.9863625,1166528377.4080238,1171346235.8296852,1176164094.2513466,1180981952.673008,1185799811.0946693,1190617669.5163307,1195435527.937992,1200253386.3596535,1205071244.7813148,1209889103.2029762,1214706961.6246376,1219524820.046299,1224342678.4679604,1229160536.8896217,1233978395.311283,1238796253.7329445,1243614112.1546059,1248431970.5762672,1253249828.9979286,1258067687.41959,1262885545.8412437,1267703404.2629051,1272521262.6845665,1277339121.1062355,1282156979.527897,1286974837.9495583,1291792696.3712196,1296610554.792881,1301428413.2145348,1306246271.6361961,1311064130.0578575,1315881988.479519,1320699846.9011803,1325517705.3228416,1330335563.7445107,1335153422.166172,1339971280.5878258,1344789139.0094872,1349606997.4311485,1354424855.85281],\"type\":\"scatter\",\"marker\":{\"size\":3}},{\"line\":{\"color\":\"red\"},\"name\":\"Support Vector Regression\",\"x\":[1990.0,1990.2727272727273,1990.5454545454545,1990.8181818181818,1991.090909090909,1991.3636363636363,1991.6363636363637,1991.909090909091,1992.1818181818182,1992.4545454545455,1992.7272727272727,1993.0,1993.2727272727273,1993.5454545454545,1993.8181818181818,1994.090909090909,1994.3636363636363,1994.6363636363637,1994.909090909091,1995.1818181818182,1995.4545454545455,1995.7272727272727,1996.0,1996.2727272727273,1996.5454545454545,1996.8181818181818,1997.090909090909,1997.3636363636363,1997.6363636363637,1997.909090909091,1998.1818181818182,1998.4545454545455,1998.7272727272727,1999.0,1999.2727272727273,1999.5454545454545,1999.8181818181818,2000.090909090909,2000.3636363636363,2000.6363636363637,2000.909090909091,2001.1818181818182,2001.4545454545455,2001.7272727272727,2002.0,2002.2727272727273,2002.5454545454545,2002.8181818181818,2003.090909090909,2003.3636363636363,2003.6363636363637,2003.909090909091,2004.1818181818182,2004.4545454545455,2004.7272727272727,2005.0,2005.2727272727273,2005.5454545454545,2005.8181818181818,2006.090909090909,2006.3636363636363,2006.6363636363637,2006.909090909091,2007.1818181818182,2007.4545454545455,2007.7272727272727,2008.0,2008.2727272727273,2008.5454545454545,2008.8181818181818,2009.090909090909,2009.3636363636363,2009.6363636363637,2009.909090909091,2010.1818181818182,2010.4545454545455,2010.7272727272727,2011.0,2011.2727272727273,2011.5454545454545,2011.8181818181818,2012.090909090909,2012.3636363636363,2012.6363636363637,2012.909090909091,2013.1818181818182,2013.4545454545455,2013.7272727272727,2014.0,2014.2727272727273,2014.5454545454545,2014.8181818181818,2015.090909090909,2015.3636363636363,2015.6363636363637,2015.909090909091,2016.1818181818182,2016.4545454545455,2016.7272727272727,2017.0],\"y\":[893277798.0000534,897655116.7095261,902032435.4185104,906409754.1274948,910787072.8369675,915164391.5454636,919541710.2549362,923919028.9639206,928296347.6724167,932673666.3818893,937050985.0908737,941428303.8003464,945805622.5088425,950182941.2183151,954560259.9277878,958937578.6367722,963314897.3452682,967692216.0552292,972069534.7637253,976446853.4727097,980824172.181694,985201490.8911667,989578809.6001511,993956128.3091354,998333447.0186081,1002710765.7275925,1007088084.4370651,1011465403.1450729,1015842721.8550339,1020220040.56353,1024597359.2725143,1028974677.981987,1033351996.6909714,1037729315.3999557,1042106634.1089401,1046483952.8184128,1050861271.5278854,1055238590.2363815,1059615908.9453659,1063993227.6553268,1068370546.3633347,1072747865.0728073,1077125183.7817917,1081502502.4912643,1085879821.2002487,1090257139.909233,1094634458.6187057,1099011777.3276901,1103389096.0366745,1107766414.7451706,1112143733.4546432,1116521052.1636276,1120898370.872612,1125275689.5820847,1129653008.291069,1134030327.0000534,1138407645.709526,1142784964.4185104,1147162283.1274948,1151539601.8364792,1155916920.5454636,1160294239.2549362,1164671557.9634323,1169048876.672905,1173426195.3818893,1177803514.0908737,1182180832.8003464,1186558151.5093307,1190935470.2188034,1195312788.9272995,1199690107.6367722,1204067426.3452682,1208444745.054741,1212822063.7637253,1217199382.4727097,1221576701.1821823,1225954019.8911667,1230331338.600151,1234708657.3096237,1239085976.0181198,1243463294.7275925,1247840613.4365768,1252217932.1455612,1256595250.8550339,1260972569.56353,1265349888.2730026,1269727206.981987,1274104525.6909714,1278481844.400444,1282859163.1094284,1287236481.8184128,1291613800.5273972,1295991119.2368698,1300368437.945366,1304745756.6548386,1309123075.363823,1313500394.0728073,1317877712.7817917,1322255031.4912643,1326632350.2002487],\"type\":\"scatter\",\"marker\":{\"size\":3}},{\"line\":{\"color\":\"red\",\"dash\":\"dot\"},\"name\":\"+epsilon\",\"x\":[1990.0,1990.2727272727273,1990.5454545454545,1990.8181818181818,1991.090909090909,1991.3636363636363,1991.6363636363637,1991.909090909091,1992.1818181818182,1992.4545454545455,1992.7272727272727,1993.0,1993.2727272727273,1993.5454545454545,1993.8181818181818,1994.090909090909,1994.3636363636363,1994.6363636363637,1994.909090909091,1995.1818181818182,1995.4545454545455,1995.7272727272727,1996.0,1996.2727272727273,1996.5454545454545,1996.8181818181818,1997.090909090909,1997.3636363636363,1997.6363636363637,1997.909090909091,1998.1818181818182,1998.4545454545455,1998.7272727272727,1999.0,1999.2727272727273,1999.5454545454545,1999.8181818181818,2000.090909090909,2000.3636363636363,2000.6363636363637,2000.909090909091,2001.1818181818182,2001.4545454545455,2001.7272727272727,2002.0,2002.2727272727273,2002.5454545454545,2002.8181818181818,2003.090909090909,2003.3636363636363,2003.6363636363637,2003.909090909091,2004.1818181818182,2004.4545454545455,2004.7272727272727,2005.0,2005.2727272727273,2005.5454545454545,2005.8181818181818,2006.090909090909,2006.3636363636363,2006.6363636363637,2006.909090909091,2007.1818181818182,2007.4545454545455,2007.7272727272727,2008.0,2008.2727272727273,2008.5454545454545,2008.8181818181818,2009.090909090909,2009.3636363636363,2009.6363636363637,2009.909090909091,2010.1818181818182,2010.4545454545455,2010.7272727272727,2011.0,2011.2727272727273,2011.5454545454545,2011.8181818181818,2012.090909090909,2012.3636363636363,2012.6363636363637,2012.909090909091,2013.1818181818182,2013.4545454545455,2013.7272727272727,2014.0,2014.2727272727273,2014.5454545454545,2014.8181818181818,2015.090909090909,2015.3636363636363,2015.6363636363637,2015.909090909091,2016.1818181818182,2016.4545454545455,2016.7272727272727,2017.0],\"y\":[913277798.0000534,917655116.7095261,922032435.4185104,926409754.1274948,930787072.8369675,935164391.5454636,939541710.2549362,943919028.9639206,948296347.6724167,952673666.3818893,957050985.0908737,961428303.8003464,965805622.5088425,970182941.2183151,974560259.9277878,978937578.6367722,983314897.3452682,987692216.0552292,992069534.7637253,996446853.4727097,1000824172.181694,1005201490.8911667,1009578809.6001511,1013956128.3091354,1018333447.0186081,1022710765.7275925,1027088084.4370651,1031465403.1450729,1035842721.8550339,1040220040.56353,1044597359.2725143,1048974677.981987,1053351996.6909714,1057729315.3999557,1062106634.1089401,1066483952.8184128,1070861271.5278854,1075238590.2363815,1079615908.945366,1083993227.6553268,1088370546.3633347,1092747865.0728073,1097125183.7817917,1101502502.4912643,1105879821.2002487,1110257139.909233,1114634458.6187057,1119011777.3276901,1123389096.0366745,1127766414.7451706,1132143733.4546432,1136521052.1636276,1140898370.872612,1145275689.5820847,1149653008.291069,1154030327.0000534,1158407645.709526,1162784964.4185104,1167162283.1274948,1171539601.8364792,1175916920.5454636,1180294239.2549362,1184671557.9634323,1189048876.672905,1193426195.3818893,1197803514.0908737,1202180832.8003464,1206558151.5093307,1210935470.2188034,1215312788.9272995,1219690107.6367722,1224067426.3452682,1228444745.054741,1232822063.7637253,1237199382.4727097,1241576701.1821823,1245954019.8911667,1250331338.600151,1254708657.3096237,1259085976.0181198,1263463294.7275925,1267840613.4365768,1272217932.1455612,1276595250.8550339,1280972569.56353,1285349888.2730026,1289727206.981987,1294104525.6909714,1298481844.400444,1302859163.1094284,1307236481.8184128,1311613800.5273972,1315991119.2368698,1320368437.945366,1324745756.6548386,1329123075.363823,1333500394.0728073,1337877712.7817917,1342255031.4912643,1346632350.2002487],\"type\":\"scatter\",\"marker\":{\"size\":3}},{\"line\":{\"color\":\"red\",\"dash\":\"dot\"},\"name\":\"-epsilon\",\"x\":[1990.0,1990.2727272727273,1990.5454545454545,1990.8181818181818,1991.090909090909,1991.3636363636363,1991.6363636363637,1991.909090909091,1992.1818181818182,1992.4545454545455,1992.7272727272727,1993.0,1993.2727272727273,1993.5454545454545,1993.8181818181818,1994.090909090909,1994.3636363636363,1994.6363636363637,1994.909090909091,1995.1818181818182,1995.4545454545455,1995.7272727272727,1996.0,1996.2727272727273,1996.5454545454545,1996.8181818181818,1997.090909090909,1997.3636363636363,1997.6363636363637,1997.909090909091,1998.1818181818182,1998.4545454545455,1998.7272727272727,1999.0,1999.2727272727273,1999.5454545454545,1999.8181818181818,2000.090909090909,2000.3636363636363,2000.6363636363637,2000.909090909091,2001.1818181818182,2001.4545454545455,2001.7272727272727,2002.0,2002.2727272727273,2002.5454545454545,2002.8181818181818,2003.090909090909,2003.3636363636363,2003.6363636363637,2003.909090909091,2004.1818181818182,2004.4545454545455,2004.7272727272727,2005.0,2005.2727272727273,2005.5454545454545,2005.8181818181818,2006.090909090909,2006.3636363636363,2006.6363636363637,2006.909090909091,2007.1818181818182,2007.4545454545455,2007.7272727272727,2008.0,2008.2727272727273,2008.5454545454545,2008.8181818181818,2009.090909090909,2009.3636363636363,2009.6363636363637,2009.909090909091,2010.1818181818182,2010.4545454545455,2010.7272727272727,2011.0,2011.2727272727273,2011.5454545454545,2011.8181818181818,2012.090909090909,2012.3636363636363,2012.6363636363637,2012.909090909091,2013.1818181818182,2013.4545454545455,2013.7272727272727,2014.0,2014.2727272727273,2014.5454545454545,2014.8181818181818,2015.090909090909,2015.3636363636363,2015.6363636363637,2015.909090909091,2016.1818181818182,2016.4545454545455,2016.7272727272727,2017.0],\"y\":[873277798.0000534,877655116.7095261,882032435.4185104,886409754.1274948,890787072.8369675,895164391.5454636,899541710.2549362,903919028.9639206,908296347.6724167,912673666.3818893,917050985.0908737,921428303.8003464,925805622.5088425,930182941.2183151,934560259.9277878,938937578.6367722,943314897.3452682,947692216.0552292,952069534.7637253,956446853.4727097,960824172.181694,965201490.8911667,969578809.6001511,973956128.3091354,978333447.0186081,982710765.7275925,987088084.4370651,991465403.1450729,995842721.8550339,1000220040.56353,1004597359.2725143,1008974677.981987,1013351996.6909714,1017729315.3999557,1022106634.1089401,1026483952.8184128,1030861271.5278854,1035238590.2363815,1039615908.9453659,1043993227.6553268,1048370546.3633347,1052747865.0728073,1057125183.7817917,1061502502.4912643,1065879821.2002487,1070257139.9092331,1074634458.6187057,1079011777.3276901,1083389096.0366745,1087766414.7451706,1092143733.4546432,1096521052.1636276,1100898370.872612,1105275689.5820847,1109653008.291069,1114030327.0000534,1118407645.709526,1122784964.4185104,1127162283.1274948,1131539601.8364792,1135916920.5454636,1140294239.2549362,1144671557.9634323,1149048876.672905,1153426195.3818893,1157803514.0908737,1162180832.8003464,1166558151.5093307,1170935470.2188034,1175312788.9272995,1179690107.6367722,1184067426.3452682,1188444745.054741,1192822063.7637253,1197199382.4727097,1201576701.1821823,1205954019.8911667,1210331338.600151,1214708657.3096237,1219085976.0181198,1223463294.7275925,1227840613.4365768,1232217932.1455612,1236595250.8550339,1240972569.56353,1245349888.2730026,1249727206.981987,1254104525.6909714,1258481844.400444,1262859163.1094284,1267236481.8184128,1271613800.5273972,1275991119.2368698,1280368437.945366,1284745756.6548386,1289123075.363823,1293500394.0728073,1297877712.7817917,1302255031.4912643,1306632350.2002487],\"type\":\"scatter\",\"marker\":{\"size\":3}}],                        {\"template\":{\"data\":{\"bar\":[{\"error_x\":{\"color\":\"#2a3f5f\"},\"error_y\":{\"color\":\"#2a3f5f\"},\"marker\":{\"line\":{\"color\":\"#E5ECF6\",\"width\":0.5},\"pattern\":{\"fillmode\":\"overlay\",\"size\":10,\"solidity\":0.2}},\"type\":\"bar\"}],\"barpolar\":[{\"marker\":{\"line\":{\"color\":\"#E5ECF6\",\"width\":0.5},\"pattern\":{\"fillmode\":\"overlay\",\"size\":10,\"solidity\":0.2}},\"type\":\"barpolar\"}],\"carpet\":[{\"aaxis\":{\"endlinecolor\":\"#2a3f5f\",\"gridcolor\":\"white\",\"linecolor\":\"white\",\"minorgridcolor\":\"white\",\"startlinecolor\":\"#2a3f5f\"},\"baxis\":{\"endlinecolor\":\"#2a3f5f\",\"gridcolor\":\"white\",\"linecolor\":\"white\",\"minorgridcolor\":\"white\",\"startlinecolor\":\"#2a3f5f\"},\"type\":\"carpet\"}],\"choropleth\":[{\"colorbar\":{\"outlinewidth\":0,\"ticks\":\"\"},\"type\":\"choropleth\"}],\"contour\":[{\"colorbar\":{\"outlinewidth\":0,\"ticks\":\"\"},\"colorscale\":[[0.0,\"#0d0887\"],[0.1111111111111111,\"#46039f\"],[0.2222222222222222,\"#7201a8\"],[0.3333333333333333,\"#9c179e\"],[0.4444444444444444,\"#bd3786\"],[0.5555555555555556,\"#d8576b\"],[0.6666666666666666,\"#ed7953\"],[0.7777777777777778,\"#fb9f3a\"],[0.8888888888888888,\"#fdca26\"],[1.0,\"#f0f921\"]],\"type\":\"contour\"}],\"contourcarpet\":[{\"colorbar\":{\"outlinewidth\":0,\"ticks\":\"\"},\"type\":\"contourcarpet\"}],\"heatmap\":[{\"colorbar\":{\"outlinewidth\":0,\"ticks\":\"\"},\"colorscale\":[[0.0,\"#0d0887\"],[0.1111111111111111,\"#46039f\"],[0.2222222222222222,\"#7201a8\"],[0.3333333333333333,\"#9c179e\"],[0.4444444444444444,\"#bd3786\"],[0.5555555555555556,\"#d8576b\"],[0.6666666666666666,\"#ed7953\"],[0.7777777777777778,\"#fb9f3a\"],[0.8888888888888888,\"#fdca26\"],[1.0,\"#f0f921\"]],\"type\":\"heatmap\"}],\"heatmapgl\":[{\"colorbar\":{\"outlinewidth\":0,\"ticks\":\"\"},\"colorscale\":[[0.0,\"#0d0887\"],[0.1111111111111111,\"#46039f\"],[0.2222222222222222,\"#7201a8\"],[0.3333333333333333,\"#9c179e\"],[0.4444444444444444,\"#bd3786\"],[0.5555555555555556,\"#d8576b\"],[0.6666666666666666,\"#ed7953\"],[0.7777777777777778,\"#fb9f3a\"],[0.8888888888888888,\"#fdca26\"],[1.0,\"#f0f921\"]],\"type\":\"heatmapgl\"}],\"histogram\":[{\"marker\":{\"pattern\":{\"fillmode\":\"overlay\",\"size\":10,\"solidity\":0.2}},\"type\":\"histogram\"}],\"histogram2d\":[{\"colorbar\":{\"outlinewidth\":0,\"ticks\":\"\"},\"colorscale\":[[0.0,\"#0d0887\"],[0.1111111111111111,\"#46039f\"],[0.2222222222222222,\"#7201a8\"],[0.3333333333333333,\"#9c179e\"],[0.4444444444444444,\"#bd3786\"],[0.5555555555555556,\"#d8576b\"],[0.6666666666666666,\"#ed7953\"],[0.7777777777777778,\"#fb9f3a\"],[0.8888888888888888,\"#fdca26\"],[1.0,\"#f0f921\"]],\"type\":\"histogram2d\"}],\"histogram2dcontour\":[{\"colorbar\":{\"outlinewidth\":0,\"ticks\":\"\"},\"colorscale\":[[0.0,\"#0d0887\"],[0.1111111111111111,\"#46039f\"],[0.2222222222222222,\"#7201a8\"],[0.3333333333333333,\"#9c179e\"],[0.4444444444444444,\"#bd3786\"],[0.5555555555555556,\"#d8576b\"],[0.6666666666666666,\"#ed7953\"],[0.7777777777777778,\"#fb9f3a\"],[0.8888888888888888,\"#fdca26\"],[1.0,\"#f0f921\"]],\"type\":\"histogram2dcontour\"}],\"mesh3d\":[{\"colorbar\":{\"outlinewidth\":0,\"ticks\":\"\"},\"type\":\"mesh3d\"}],\"parcoords\":[{\"line\":{\"colorbar\":{\"outlinewidth\":0,\"ticks\":\"\"}},\"type\":\"parcoords\"}],\"pie\":[{\"automargin\":true,\"type\":\"pie\"}],\"scatter\":[{\"marker\":{\"colorbar\":{\"outlinewidth\":0,\"ticks\":\"\"}},\"type\":\"scatter\"}],\"scatter3d\":[{\"line\":{\"colorbar\":{\"outlinewidth\":0,\"ticks\":\"\"}},\"marker\":{\"colorbar\":{\"outlinewidth\":0,\"ticks\":\"\"}},\"type\":\"scatter3d\"}],\"scattercarpet\":[{\"marker\":{\"colorbar\":{\"outlinewidth\":0,\"ticks\":\"\"}},\"type\":\"scattercarpet\"}],\"scattergeo\":[{\"marker\":{\"colorbar\":{\"outlinewidth\":0,\"ticks\":\"\"}},\"type\":\"scattergeo\"}],\"scattergl\":[{\"marker\":{\"colorbar\":{\"outlinewidth\":0,\"ticks\":\"\"}},\"type\":\"scattergl\"}],\"scattermapbox\":[{\"marker\":{\"colorbar\":{\"outlinewidth\":0,\"ticks\":\"\"}},\"type\":\"scattermapbox\"}],\"scatterpolar\":[{\"marker\":{\"colorbar\":{\"outlinewidth\":0,\"ticks\":\"\"}},\"type\":\"scatterpolar\"}],\"scatterpolargl\":[{\"marker\":{\"colorbar\":{\"outlinewidth\":0,\"ticks\":\"\"}},\"type\":\"scatterpolargl\"}],\"scatterternary\":[{\"marker\":{\"colorbar\":{\"outlinewidth\":0,\"ticks\":\"\"}},\"type\":\"scatterternary\"}],\"surface\":[{\"colorbar\":{\"outlinewidth\":0,\"ticks\":\"\"},\"colorscale\":[[0.0,\"#0d0887\"],[0.1111111111111111,\"#46039f\"],[0.2222222222222222,\"#7201a8\"],[0.3333333333333333,\"#9c179e\"],[0.4444444444444444,\"#bd3786\"],[0.5555555555555556,\"#d8576b\"],[0.6666666666666666,\"#ed7953\"],[0.7777777777777778,\"#fb9f3a\"],[0.8888888888888888,\"#fdca26\"],[1.0,\"#f0f921\"]],\"type\":\"surface\"}],\"table\":[{\"cells\":{\"fill\":{\"color\":\"#EBF0F8\"},\"line\":{\"color\":\"white\"}},\"header\":{\"fill\":{\"color\":\"#C8D4E3\"},\"line\":{\"color\":\"white\"}},\"type\":\"table\"}]},\"layout\":{\"annotationdefaults\":{\"arrowcolor\":\"#2a3f5f\",\"arrowhead\":0,\"arrowwidth\":1},\"autotypenumbers\":\"strict\",\"coloraxis\":{\"colorbar\":{\"outlinewidth\":0,\"ticks\":\"\"}},\"colorscale\":{\"diverging\":[[0,\"#8e0152\"],[0.1,\"#c51b7d\"],[0.2,\"#de77ae\"],[0.3,\"#f1b6da\"],[0.4,\"#fde0ef\"],[0.5,\"#f7f7f7\"],[0.6,\"#e6f5d0\"],[0.7,\"#b8e186\"],[0.8,\"#7fbc41\"],[0.9,\"#4d9221\"],[1,\"#276419\"]],\"sequential\":[[0.0,\"#0d0887\"],[0.1111111111111111,\"#46039f\"],[0.2222222222222222,\"#7201a8\"],[0.3333333333333333,\"#9c179e\"],[0.4444444444444444,\"#bd3786\"],[0.5555555555555556,\"#d8576b\"],[0.6666666666666666,\"#ed7953\"],[0.7777777777777778,\"#fb9f3a\"],[0.8888888888888888,\"#fdca26\"],[1.0,\"#f0f921\"]],\"sequentialminus\":[[0.0,\"#0d0887\"],[0.1111111111111111,\"#46039f\"],[0.2222222222222222,\"#7201a8\"],[0.3333333333333333,\"#9c179e\"],[0.4444444444444444,\"#bd3786\"],[0.5555555555555556,\"#d8576b\"],[0.6666666666666666,\"#ed7953\"],[0.7777777777777778,\"#fb9f3a\"],[0.8888888888888888,\"#fdca26\"],[1.0,\"#f0f921\"]]},\"colorway\":[\"#636efa\",\"#EF553B\",\"#00cc96\",\"#ab63fa\",\"#FFA15A\",\"#19d3f3\",\"#FF6692\",\"#B6E880\",\"#FF97FF\",\"#FECB52\"],\"font\":{\"color\":\"#2a3f5f\"},\"geo\":{\"bgcolor\":\"white\",\"lakecolor\":\"white\",\"landcolor\":\"#E5ECF6\",\"showlakes\":true,\"showland\":true,\"subunitcolor\":\"white\"},\"hoverlabel\":{\"align\":\"left\"},\"hovermode\":\"closest\",\"mapbox\":{\"style\":\"light\"},\"paper_bgcolor\":\"white\",\"plot_bgcolor\":\"#E5ECF6\",\"polar\":{\"angularaxis\":{\"gridcolor\":\"white\",\"linecolor\":\"white\",\"ticks\":\"\"},\"bgcolor\":\"#E5ECF6\",\"radialaxis\":{\"gridcolor\":\"white\",\"linecolor\":\"white\",\"ticks\":\"\"}},\"scene\":{\"xaxis\":{\"backgroundcolor\":\"#E5ECF6\",\"gridcolor\":\"white\",\"gridwidth\":2,\"linecolor\":\"white\",\"showbackground\":true,\"ticks\":\"\",\"zerolinecolor\":\"white\"},\"yaxis\":{\"backgroundcolor\":\"#E5ECF6\",\"gridcolor\":\"white\",\"gridwidth\":2,\"linecolor\":\"white\",\"showbackground\":true,\"ticks\":\"\",\"zerolinecolor\":\"white\"},\"zaxis\":{\"backgroundcolor\":\"#E5ECF6\",\"gridcolor\":\"white\",\"gridwidth\":2,\"linecolor\":\"white\",\"showbackground\":true,\"ticks\":\"\",\"zerolinecolor\":\"white\"}},\"shapedefaults\":{\"line\":{\"color\":\"#2a3f5f\"}},\"ternary\":{\"aaxis\":{\"gridcolor\":\"white\",\"linecolor\":\"white\",\"ticks\":\"\"},\"baxis\":{\"gridcolor\":\"white\",\"linecolor\":\"white\",\"ticks\":\"\"},\"bgcolor\":\"#E5ECF6\",\"caxis\":{\"gridcolor\":\"white\",\"linecolor\":\"white\",\"ticks\":\"\"}},\"title\":{\"x\":0.05},\"xaxis\":{\"automargin\":true,\"gridcolor\":\"white\",\"linecolor\":\"white\",\"ticks\":\"\",\"title\":{\"standoff\":15},\"zerolinecolor\":\"white\",\"zerolinewidth\":2},\"yaxis\":{\"automargin\":true,\"gridcolor\":\"white\",\"linecolor\":\"white\",\"ticks\":\"\",\"title\":{\"standoff\":15},\"zerolinecolor\":\"white\",\"zerolinewidth\":2}}},\"xaxis\":{\"anchor\":\"y\",\"domain\":[0.0,1.0],\"title\":{\"text\":\"Year\"},\"showgrid\":true,\"gridwidth\":1,\"gridcolor\":\"lightgrey\",\"zeroline\":true,\"zerolinewidth\":1,\"zerolinecolor\":\"lightgrey\",\"showline\":true,\"linewidth\":1,\"linecolor\":\"black\"},\"yaxis\":{\"anchor\":\"x\",\"domain\":[0.0,1.0],\"title\":{\"text\":\"Population\"},\"showgrid\":true,\"gridwidth\":1,\"gridcolor\":\"lightgrey\",\"zeroline\":true,\"zerolinewidth\":1,\"zerolinecolor\":\"lightgrey\",\"showline\":true,\"linewidth\":1,\"linecolor\":\"black\"},\"legend\":{\"tracegroupgap\":0},\"margin\":{\"t\":60},\"plot_bgcolor\":\"white\",\"title\":{\"font\":{\"color\":\"black\"},\"text\":\"Population in India (epsilon=20000000, C=1000000000)\"}},                        {\"responsive\": true}                    ).then(function(){\n",
       "                            \n",
       "var gd = document.getElementById('64e5263a-fa11-4995-bf37-140a038bd726');\n",
       "var x = new MutationObserver(function (mutations, observer) {{\n",
       "        var display = window.getComputedStyle(gd).display;\n",
       "        if (!display || display === 'none') {{\n",
       "            console.log([gd, 'removed!']);\n",
       "            Plotly.purge(gd);\n",
       "            observer.disconnect();\n",
       "        }}\n",
       "}});\n",
       "\n",
       "// Listen for the removal of the full notebook cells\n",
       "var notebookContainer = gd.closest('#notebook-container');\n",
       "if (notebookContainer) {{\n",
       "    x.observe(notebookContainer, {childList: true});\n",
       "}}\n",
       "\n",
       "// Listen for the clearing of the current output cell\n",
       "var outputEl = gd.closest('.output');\n",
       "if (outputEl) {{\n",
       "    x.observe(outputEl, {childList: true});\n",
       "}}\n",
       "\n",
       "                        })                };                });            </script>        </div>"
      ]
     },
     "metadata": {},
     "output_type": "display_data"
    }
   ],
   "source": [
    "# Create a scatter plot\n",
    "fig = px.scatter(df, x=df['Year'], y=df['Population'], \n",
    "                 opacity=0.8, color_discrete_sequence=['black'])\n",
    "# Add a best-fit line\n",
    "fig.add_traces(go.Scatter(x=x_range, y=y_lr, name='Linear Regression', line=dict(color='limegreen')))\n",
    "fig.add_traces(go.Scatter(x=x_range, y=y_svr, name='Support Vector Regression', line=dict(color='red')))\n",
    "fig.add_traces(go.Scatter(x=x_range, y=y_svr+20000000, name='+epsilon', line=dict(color='red', dash='dot')))\n",
    "fig.add_traces(go.Scatter(x=x_range, y=y_svr-20000000, name='-epsilon', line=dict(color='red', dash='dot')))\n",
    "\n",
    "# Change chart background color\n",
    "fig.update_layout(dict(plot_bgcolor = 'white'))\n",
    "\n",
    "# Update axes lines\n",
    "fig.update_xaxes(showgrid=True, gridwidth=1, gridcolor='lightgrey', \n",
    "                 zeroline=True, zerolinewidth=1, zerolinecolor='lightgrey', \n",
    "                 showline=True, linewidth=1, linecolor='black')\n",
    "\n",
    "fig.update_yaxes(showgrid=True, gridwidth=1, gridcolor='lightgrey', \n",
    "                 zeroline=True, zerolinewidth=1, zerolinecolor='lightgrey', \n",
    "                 showline=True, linewidth=1, linecolor='black')\n",
    "\n",
    "# Set figure title\n",
    "fig.update_layout(title=dict(text=\"Population in India (epsilon=20000000, C=1000000000)\", \n",
    "                             font=dict(color='black')))\n",
    "\n",
    "# Update marker size\n",
    "fig.update_traces(marker=dict(size=3))\n",
    "\n",
    "fig.show()"
   ]
  },
  {
   "cell_type": "code",
   "execution_count": 410,
   "id": "a18c7cdc",
   "metadata": {
    "colab": {
     "base_uri": "https://localhost:8080/"
    },
    "id": "a18c7cdc",
    "outputId": "0f2e492b-dd98-4c82-c3e9-a34c715768c3"
   },
   "outputs": [
    {
     "data": {
      "text/plain": [
       "array([1.03772932e+09, 1.31058218e+09, 1.23033134e+09, 1.08587982e+09,\n",
       "       9.73528641e+08, 1.06982965e+09, 1.29453201e+09, 1.24638151e+09,\n",
       "       9.89578810e+08])"
      ]
     },
     "execution_count": 410,
     "metadata": {},
     "output_type": "execute_result"
    }
   ],
   "source": [
    "#5 Predicting a new result\n",
    "y_pred = svr.predict(X_test)\n",
    "y_pred"
   ]
  },
  {
   "cell_type": "code",
   "execution_count": 411,
   "id": "b1b92798",
   "metadata": {
    "colab": {
     "base_uri": "https://localhost:8080/"
    },
    "id": "b1b92798",
    "outputId": "f13073ba-194f-42df-872e-83735dbab3d1"
   },
   "outputs": [
    {
     "name": "stdout",
     "output_type": "stream",
     "text": [
      "R squared: 99.00\n",
      "Mean Squared Error is:  159904912328239.94\n",
      "Root Mean Squared Error is:  12645351.411812957\n"
     ]
    }
   ],
   "source": [
    "mse = metrics.mean_squared_error(y_test, y_pred)\n",
    "rmse = np.sqrt(mse)\n",
    "\n",
    "print('R squared: {:.2f}'.format(svr.score(X,y)*100))\n",
    "print(\"Mean Squared Error is: \", mse)\n",
    "print(\"Root Mean Squared Error is: \", rmse)"
   ]
  },
  {
   "cell_type": "code",
   "execution_count": 412,
   "id": "7ceead1a",
   "metadata": {
    "colab": {
     "base_uri": "https://localhost:8080/",
     "height": 328
    },
    "id": "7ceead1a",
    "outputId": "c3a9c5e7-644b-4436-a171-ede50e3988ca"
   },
   "outputs": [
    {
     "data": {
      "text/html": [
       "<div>\n",
       "<style scoped>\n",
       "    .dataframe tbody tr th:only-of-type {\n",
       "        vertical-align: middle;\n",
       "    }\n",
       "\n",
       "    .dataframe tbody tr th {\n",
       "        vertical-align: top;\n",
       "    }\n",
       "\n",
       "    .dataframe thead th {\n",
       "        text-align: right;\n",
       "    }\n",
       "</style>\n",
       "<table border=\"1\" class=\"dataframe\">\n",
       "  <thead>\n",
       "    <tr style=\"text-align: right;\">\n",
       "      <th></th>\n",
       "      <th>Predicted</th>\n",
       "      <th>Actual</th>\n",
       "    </tr>\n",
       "  </thead>\n",
       "  <tbody>\n",
       "    <tr>\n",
       "      <th>0</th>\n",
       "      <td>1.037729e+09</td>\n",
       "      <td>1038058156</td>\n",
       "    </tr>\n",
       "    <tr>\n",
       "      <th>1</th>\n",
       "      <td>1.310582e+09</td>\n",
       "      <td>1324509589</td>\n",
       "    </tr>\n",
       "    <tr>\n",
       "      <th>2</th>\n",
       "      <td>1.230331e+09</td>\n",
       "      <td>1250288729</td>\n",
       "    </tr>\n",
       "    <tr>\n",
       "      <th>3</th>\n",
       "      <td>1.085880e+09</td>\n",
       "      <td>1093317189</td>\n",
       "    </tr>\n",
       "    <tr>\n",
       "      <th>4</th>\n",
       "      <td>9.735286e+08</td>\n",
       "      <td>963922588</td>\n",
       "    </tr>\n",
       "    <tr>\n",
       "      <th>5</th>\n",
       "      <td>1.069830e+09</td>\n",
       "      <td>1075000085</td>\n",
       "    </tr>\n",
       "    <tr>\n",
       "      <th>6</th>\n",
       "      <td>1.294532e+09</td>\n",
       "      <td>1310152403</td>\n",
       "    </tr>\n",
       "    <tr>\n",
       "      <th>7</th>\n",
       "      <td>1.246382e+09</td>\n",
       "      <td>1265782790</td>\n",
       "    </tr>\n",
       "    <tr>\n",
       "      <th>8</th>\n",
       "      <td>9.895788e+08</td>\n",
       "      <td>982365243</td>\n",
       "    </tr>\n",
       "  </tbody>\n",
       "</table>\n",
       "</div>"
      ],
      "text/plain": [
       "      Predicted      Actual\n",
       "0  1.037729e+09  1038058156\n",
       "1  1.310582e+09  1324509589\n",
       "2  1.230331e+09  1250288729\n",
       "3  1.085880e+09  1093317189\n",
       "4  9.735286e+08   963922588\n",
       "5  1.069830e+09  1075000085\n",
       "6  1.294532e+09  1310152403\n",
       "7  1.246382e+09  1265782790\n",
       "8  9.895788e+08   982365243"
      ]
     },
     "execution_count": 412,
     "metadata": {},
     "output_type": "execute_result"
    }
   ],
   "source": [
    "data = {'Predicted':y_pred, 'Actual':y_test}\n",
    "\n",
    "comparison = pd.DataFrame(data)\n",
    "comparison"
   ]
  },
  {
   "cell_type": "code",
   "execution_count": 413,
   "id": "f0f73f74",
   "metadata": {
    "colab": {
     "base_uri": "https://localhost:8080/"
    },
    "id": "f0f73f74",
    "outputId": "2cbbe5f7-93f0-43a2-adbe-430d25378d0d"
   },
   "outputs": [
    {
     "data": {
      "text/plain": [
       "array([1.03644620e+09, 1.33675937e+09, 1.24843197e+09, 1.08944264e+09,\n",
       "       9.65784277e+08, 1.07177716e+09, 1.31909389e+09, 1.26609745e+09,\n",
       "       9.83449757e+08])"
      ]
     },
     "execution_count": 413,
     "metadata": {},
     "output_type": "execute_result"
    }
   ],
   "source": [
    "#5 Predicting a new result\n",
    "y_pred = lr.predict(X_test)\n",
    "y_pred"
   ]
  },
  {
   "cell_type": "code",
   "execution_count": 414,
   "id": "42b5dc10",
   "metadata": {},
   "outputs": [
    {
     "name": "stdout",
     "output_type": "stream",
     "text": [
      "R squared: 99.86\n",
      "Mean Squared Error is:  29577098229471.31\n",
      "Root Mean Squared Error is:  5438483.081657174\n"
     ]
    }
   ],
   "source": [
    "mse = metrics.mean_squared_error(y_test, y_pred)\n",
    "rmse = np.sqrt(mse)\n",
    "\n",
    "print('R squared: {:.2f}'.format(lr.score(X,y)*100))\n",
    "print(\"Mean Squared Error is: \", mse)\n",
    "print(\"Root Mean Squared Error is: \", rmse)"
   ]
  },
  {
   "cell_type": "code",
   "execution_count": 415,
   "id": "1634ef48",
   "metadata": {},
   "outputs": [
    {
     "data": {
      "text/html": [
       "<div>\n",
       "<style scoped>\n",
       "    .dataframe tbody tr th:only-of-type {\n",
       "        vertical-align: middle;\n",
       "    }\n",
       "\n",
       "    .dataframe tbody tr th {\n",
       "        vertical-align: top;\n",
       "    }\n",
       "\n",
       "    .dataframe thead th {\n",
       "        text-align: right;\n",
       "    }\n",
       "</style>\n",
       "<table border=\"1\" class=\"dataframe\">\n",
       "  <thead>\n",
       "    <tr style=\"text-align: right;\">\n",
       "      <th></th>\n",
       "      <th>Predicted</th>\n",
       "      <th>Actual</th>\n",
       "    </tr>\n",
       "  </thead>\n",
       "  <tbody>\n",
       "    <tr>\n",
       "      <th>0</th>\n",
       "      <td>1.036446e+09</td>\n",
       "      <td>1038058156</td>\n",
       "    </tr>\n",
       "    <tr>\n",
       "      <th>1</th>\n",
       "      <td>1.336759e+09</td>\n",
       "      <td>1324509589</td>\n",
       "    </tr>\n",
       "    <tr>\n",
       "      <th>2</th>\n",
       "      <td>1.248432e+09</td>\n",
       "      <td>1250288729</td>\n",
       "    </tr>\n",
       "    <tr>\n",
       "      <th>3</th>\n",
       "      <td>1.089443e+09</td>\n",
       "      <td>1093317189</td>\n",
       "    </tr>\n",
       "    <tr>\n",
       "      <th>4</th>\n",
       "      <td>9.657843e+08</td>\n",
       "      <td>963922588</td>\n",
       "    </tr>\n",
       "    <tr>\n",
       "      <th>5</th>\n",
       "      <td>1.071777e+09</td>\n",
       "      <td>1075000085</td>\n",
       "    </tr>\n",
       "    <tr>\n",
       "      <th>6</th>\n",
       "      <td>1.319094e+09</td>\n",
       "      <td>1310152403</td>\n",
       "    </tr>\n",
       "    <tr>\n",
       "      <th>7</th>\n",
       "      <td>1.266097e+09</td>\n",
       "      <td>1265782790</td>\n",
       "    </tr>\n",
       "    <tr>\n",
       "      <th>8</th>\n",
       "      <td>9.834498e+08</td>\n",
       "      <td>982365243</td>\n",
       "    </tr>\n",
       "  </tbody>\n",
       "</table>\n",
       "</div>"
      ],
      "text/plain": [
       "      Predicted      Actual\n",
       "0  1.036446e+09  1038058156\n",
       "1  1.336759e+09  1324509589\n",
       "2  1.248432e+09  1250288729\n",
       "3  1.089443e+09  1093317189\n",
       "4  9.657843e+08   963922588\n",
       "5  1.071777e+09  1075000085\n",
       "6  1.319094e+09  1310152403\n",
       "7  1.266097e+09  1265782790\n",
       "8  9.834498e+08   982365243"
      ]
     },
     "execution_count": 415,
     "metadata": {},
     "output_type": "execute_result"
    }
   ],
   "source": [
    "data = {'Predicted':y_pred, 'Actual':y_test}\n",
    "\n",
    "comparison = pd.DataFrame(data)\n",
    "comparison"
   ]
  },
  {
   "cell_type": "code",
   "execution_count": 416,
   "id": "99eba848",
   "metadata": {
    "colab": {
     "base_uri": "https://localhost:8080/"
    },
    "id": "99eba848",
    "outputId": "5329a817-f926-4e09-8588-c3f438ecae65"
   },
   "outputs": [
    {
     "data": {
      "text/plain": [
       "array([1.34268252e+09, 1.35873269e+09, 1.37478286e+09, 1.39083302e+09,\n",
       "       1.40688319e+09, 1.42293336e+09, 1.43898353e+09, 1.45503370e+09,\n",
       "       1.47108387e+09, 1.48713404e+09, 1.50318420e+09, 1.51923437e+09,\n",
       "       1.53528454e+09, 1.55133471e+09, 1.56738488e+09, 1.58343505e+09,\n",
       "       1.59948522e+09, 1.61553539e+09, 1.63158555e+09, 1.64763572e+09,\n",
       "       1.66368589e+09, 1.67973606e+09, 1.69578623e+09, 1.71183640e+09,\n",
       "       1.72788657e+09, 1.74393673e+09, 1.75998690e+09, 1.77603707e+09,\n",
       "       1.79208724e+09, 1.80813741e+09, 1.82418758e+09, 1.84023775e+09,\n",
       "       1.85628791e+09])"
      ]
     },
     "execution_count": 416,
     "metadata": {},
     "output_type": "execute_result"
    }
   ],
   "source": [
    "model2 = SVR(kernel='linear', C=1000000000, epsilon=20000000) # set kernel and hyperparameters\n",
    "svr = model2.fit(X, y)\n",
    "x_future = [[2018],[2019],[2020],[2021],[2022],[2023],[2024],[2025],[2026],[2027],[2028],[2029],[2030],[2031],[2032],[2033],[2034],[2035],[2036],[2037],[2038],[2039],[2040],[2041],[2042],[2043],[2044],[2045],[2046],[2047],[2048],[2049],[2050]]\n",
    "y_pred = svr.predict(x_future)\n",
    "y_pred"
   ]
  },
  {
   "cell_type": "code",
   "execution_count": 417,
   "id": "cdc39259",
   "metadata": {},
   "outputs": [
    {
     "data": {
      "image/png": "[encoded data removed]",
      "text/plain": [
       "<Figure size 432x288 with 1 Axes>"
      ]
     },
     "metadata": {
      "needs_background": "light"
     },
     "output_type": "display_data"
    }
   ],
   "source": [
    "fig, ax = plt.subplots()\n",
    "ax.scatter(years,y_pred)\n",
    "ax.set_title('Predicted Population in India (epsilon=20000000, C=1000000000)')\n",
    "ax.set_xlabel('Years')\n",
    "ax.set_ylabel('Population (Billions)')\n",
    "\n",
    "\n",
    "plt.show()"
   ]
  },
  {
   "cell_type": "code",
   "execution_count": 418,
   "id": "87955926",
   "metadata": {},
   "outputs": [
    {
     "data": {
      "image/png": "[encoded data removed]",
      "text/plain": [
       "<Figure size 432x288 with 1 Axes>"
      ]
     },
     "metadata": {
      "needs_background": "light"
     },
     "output_type": "display_data"
    }
   ],
   "source": [
    "fig, ax = plt.subplots()\n",
    "ax.scatter(years,net_consumption)\n",
    "ax.set_title('Predicted Net Energy Consumption in India')\n",
    "ax.set_xlabel('Years')\n",
    "ax.set_ylabel('Energy Consumption')\n",
    "\n",
    "\n",
    "plt.show()"
   ]
  },
  {
   "cell_type": "code",
   "execution_count": 419,
   "id": "0f9b8683",
   "metadata": {},
   "outputs": [
    {
     "name": "stdout",
     "output_type": "stream",
     "text": [
      "Pearsons correlation for Net Energy Consumption with Population in predicted values: 0.722\n"
     ]
    }
   ],
   "source": [
    "corr, _ = pearsonr(net_consumption, y_pred)\n",
    "print('Pearsons correlation for Net Energy Consumption with Population in predicted values: %.3f' % corr)"
   ]
  },
  {
   "cell_type": "code",
   "execution_count": 420,
   "id": "460161cf",
   "metadata": {},
   "outputs": [
    {
     "name": "stdout",
     "output_type": "stream",
     "text": [
      "Rate of Increase: 2.996677418677547\n"
     ]
    }
   ],
   "source": [
    "# Finding the Rate of Increase for other renewables Consumption\n",
    "print (\"Rate of Increase:\", (net_consumption[32] - net_consumption[22])/10)"
   ]
  },
  {
   "cell_type": "code",
   "execution_count": null,
   "id": "feb0628d",
   "metadata": {},
   "outputs": [],
   "source": []
  }
 ],
 "metadata": {
  "colab": {
   "collapsed_sections": [
    "cde1695d"
   ],
   "name": "Data_Mining_Final_Project_SVR_India_1990_Onwards22.ipynb",
   "provenance": []
  },
  "kernelspec": {
   "display_name": "Python 3 (ipykernel)",
   "language": "python",
   "name": "python3"
  },
  "language_info": {
   "codemirror_mode": {
    "name": "ipython",
    "version": 3
   },
   "file_extension": ".py",
   "mimetype": "text/x-python",
   "name": "python",
   "nbconvert_exporter": "python",
   "pygments_lexer": "ipython3",
   "version": "3.9.7"
  }
 },
 "nbformat": 4,
 "nbformat_minor": 5
}
