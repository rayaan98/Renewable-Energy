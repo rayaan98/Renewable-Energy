{
 "cells": [
  {
   "cell_type": "code",
   "execution_count": 536,
   "id": "e06adb01",
   "metadata": {
    "id": "e06adb01"
   },
   "outputs": [],
   "source": [
    "# Data Manipulation\n",
    "import pandas as pd # for data manipulation\n",
    "import numpy as np # for data manipulation\n",
    "\n",
    "# Sklearn\n",
    "from sklearn.linear_model import LinearRegression # for building a linear regression model\n",
    "from sklearn.svm import SVR # for building SVR model\n",
    "from sklearn.preprocessing import MinMaxScaler\n",
    "from sklearn.model_selection import train_test_split\n",
    "from sklearn import metrics\n",
    "\n",
    "# Visualizations\n",
    "import plotly.graph_objects as go # for data visualization\n",
    "import plotly.express as px # for data visualization\n",
    "import matplotlib.pyplot as plt # for data visualization"
   ]
  },
  {
   "cell_type": "code",
   "execution_count": 537,
   "id": "efa65db4",
   "metadata": {
    "id": "efa65db4"
   },
   "outputs": [],
   "source": [
    "df = pd.read_csv('merged-population-asia.csv')"
   ]
  },
  {
   "cell_type": "code",
   "execution_count": 538,
   "id": "7c464698",
   "metadata": {
    "colab": {
     "base_uri": "https://localhost:8080/"
    },
    "id": "7c464698",
    "outputId": "462011d4-748a-4f9d-be5f-a091df74d44f"
   },
   "outputs": [
    {
     "data": {
      "text/plain": [
       "<bound method NDFrame.head of    Country Name  Year  Hydropower (terawatt-hours)  Solar (terawatt-hours)  \\\n",
       "0         China  1990                   126.743973                0.002000   \n",
       "1         China  1991                   124.688952                0.002000   \n",
       "2         China  1992                   130.686077                0.003000   \n",
       "3         China  1993                   151.846165                0.004000   \n",
       "4         China  1994                   167.428969                0.005000   \n",
       "5         China  1995                   190.580000                0.007000   \n",
       "6         China  1996                   187.970000                0.009000   \n",
       "7         China  1997                   195.980000                0.011000   \n",
       "8         China  1998                   198.890000                0.014000   \n",
       "9         China  1999                   196.580000                0.017000   \n",
       "10        China  2000                   222.410000                0.022000   \n",
       "11        China  2001                   277.430000                0.031000   \n",
       "12        China  2002                   287.970000                0.048000   \n",
       "13        China  2003                   283.680000                0.064000   \n",
       "14        China  2004                   353.544000                0.076000   \n",
       "15        China  2005                   397.017000                0.084000   \n",
       "16        China  2006                   435.786000                0.095000   \n",
       "17        China  2007                   485.264000                0.114000   \n",
       "18        China  2008                   636.960000                0.152000   \n",
       "19        China  2009                   615.640000                0.279000   \n",
       "20        China  2010                   711.383140                0.701000   \n",
       "21        China  2011                   688.045000                2.610000   \n",
       "22        China  2012                   862.794110                3.594510   \n",
       "23        China  2013                   909.611273                8.373886   \n",
       "24        China  2014                  1051.146674               23.512157   \n",
       "25        China  2015                  1114.515410               43.560000   \n",
       "26        China  2016                  1153.269500               61.686000   \n",
       "27        China  2017                  1165.070000              117.800000   \n",
       "\n",
       "    Wind (terawatt-hours)  Other renewables (terawatt-hours)  Population  \n",
       "0                0.002020                           0.064000  1135185000  \n",
       "1                0.009091                           0.064000  1150780000  \n",
       "2                0.131313                           0.113000  1164970000  \n",
       "3                0.212121                           0.117000  1178440000  \n",
       "4                0.383838                           0.460000  1191835000  \n",
       "5                0.616162                           3.014000  1204855000  \n",
       "6                0.093939                           1.533000  1217550000  \n",
       "7                0.197980                           2.722000  1230075000  \n",
       "8                0.355556                           2.480000  1241935000  \n",
       "9                0.473737                           2.520000  1252735000  \n",
       "10               0.589899                           2.537000  1262645000  \n",
       "11               0.719192                           2.554000  1271850000  \n",
       "12               0.837374                           2.546000  1280400000  \n",
       "13               0.996970                           2.536000  1288400000  \n",
       "14               1.277778                           2.528000  1296075000  \n",
       "15               1.946061                           5.322000  1303720000  \n",
       "16               3.711818                           7.133000  1311020000  \n",
       "17               5.479293                           9.863000  1317885000  \n",
       "18              13.100000                          14.866000  1324655000  \n",
       "19              27.600000                          20.859320  1331260000  \n",
       "20              44.622000                          24.900230  1337705000  \n",
       "21              70.331000                          27.707000  1344130000  \n",
       "22              95.978000                          30.484845  1350695000  \n",
       "23             141.197000                          37.286429  1357380000  \n",
       "24             156.078000                          46.421649  1364270000  \n",
       "25             185.766000                          54.070290  1371220000  \n",
       "26             237.071000                          62.134767  1378665000  \n",
       "27             295.000000                          79.597146  1386395000  >"
      ]
     },
     "execution_count": 538,
     "metadata": {},
     "output_type": "execute_result"
    }
   ],
   "source": [
    "df = df[df['Country Name'] == 'China']\n",
    "df = df.drop(['Unnamed: 0'], axis=1)\n",
    "#df.drop(df[df['Year'] <= 1998].index, inplace = True)\n",
    "df.head"
   ]
  },
  {
   "cell_type": "code",
   "execution_count": 539,
   "id": "C0LOrBn7411n",
   "metadata": {
    "colab": {
     "base_uri": "https://localhost:8080/"
    },
    "id": "C0LOrBn7411n",
    "outputId": "1e40f82d-9eb9-4051-dbb0-a1133578cf1c"
   },
   "outputs": [
    {
     "name": "stdout",
     "output_type": "stream",
     "text": [
      "Pearsons correlation for Hydropower: 0.884\n",
      "Pearsons correlation for Solar Power: 0.503\n",
      "Pearsons correlation for Wind: 0.687\n",
      "Pearsons correlation for other renewables: 0.771\n"
     ]
    }
   ],
   "source": [
    "# Finding the correlation between consumption and population\n",
    "\n",
    "from scipy.stats import pearsonr\n",
    "\n",
    "corr, _ = pearsonr(df['Hydropower (terawatt-hours)'], df['Population'])\n",
    "print('Pearsons correlation for Hydropower: %.3f' % corr)\n",
    "\n",
    "corr, _ = pearsonr(df['Solar (terawatt-hours)'], df['Population'])\n",
    "print('Pearsons correlation for Solar Power: %.3f' % corr)\n",
    "\n",
    "corr, _ = pearsonr(df['Wind (terawatt-hours)'], df['Population'])\n",
    "print('Pearsons correlation for Wind: %.3f' % corr)\n",
    "\n",
    "corr, _ = pearsonr(df['Other renewables (terawatt-hours)'], df['Population'])\n",
    "print('Pearsons correlation for other renewables: %.3f' % corr)\n",
    "\n",
    "# With the high correlation for Hydropower and population (0.884) in China, we can\n",
    "# support our claim that an increase in population leads to an increase in need \n",
    "# for hydropower.\n",
    "\n"
   ]
  },
  {
   "cell_type": "markdown",
   "id": "66cdb892",
   "metadata": {
    "id": "66cdb892"
   },
   "source": [
    "# Hydropower"
   ]
  },
  {
   "cell_type": "code",
   "execution_count": 466,
   "id": "bbddefed",
   "metadata": {
    "id": "bbddefed"
   },
   "outputs": [],
   "source": [
    "# Use MinMax Scaling on Year and Hydropower\n",
    "scaler=MinMaxScaler()\n",
    "df['Year (scaled)']=scaler.fit_transform(df[['Year']])\n",
    "df['Hydropower (scaled)']=scaler.fit_transform(df[['Hydropower (terawatt-hours)']])"
   ]
  },
  {
   "cell_type": "code",
   "execution_count": 468,
   "id": "4c1cf523",
   "metadata": {
    "colab": {
     "base_uri": "https://localhost:8080/",
     "height": 542
    },
    "id": "4c1cf523",
    "outputId": "998a8e11-a479-4890-8253-0d4707ea6cea"
   },
   "outputs": [
    {
     "data": {
      "application/vnd.plotly.v1+json": {
       "config": {
        "plotlyServerURL": "https://plot.ly"
       },
       "data": [
        {
         "hovertemplate": "Year=%{x}<br>Hydropower (terawatt-hours)=%{y}<extra></extra>",
         "legendgroup": "",
         "marker": {
          "color": "black",
          "opacity": 0.8,
          "size": 3,
          "symbol": "circle"
         },
         "mode": "markers",
         "name": "",
         "orientation": "v",
         "showlegend": false,
         "type": "scatter",
         "x": [
          1990,
          1991,
          1992,
          1993,
          1994,
          1995,
          1996,
          1997,
          1998,
          1999,
          2000,
          2001,
          2002,
          2003,
          2004,
          2005,
          2006,
          2007,
          2008,
          2009,
          2010,
          2011,
          2012,
          2013,
          2014,
          2015,
          2016,
          2017
         ],
         "xaxis": "x",
         "y": [
          126.7439726,
          124.6889516,
          130.6860774,
          151.8461646,
          167.428969,
          190.58,
          187.97,
          195.98,
          198.89,
          196.58,
          222.41,
          277.43,
          287.97,
          283.68,
          353.544,
          397.017,
          435.786,
          485.264,
          636.96,
          615.64,
          711.38314,
          688.045,
          862.79411,
          909.6112734,
          1051.1466737,
          1114.51541,
          1153.2695,
          1165.07
         ],
         "yaxis": "y"
        }
       ],
       "layout": {
        "legend": {
         "tracegroupgap": 0
        },
        "margin": {
         "t": 60
        },
        "plot_bgcolor": "white",
        "template": {
         "data": {
          "bar": [
           {
            "error_x": {
             "color": "#2a3f5f"
            },
            "error_y": {
             "color": "#2a3f5f"
            },
            "marker": {
             "line": {
              "color": "#E5ECF6",
              "width": 0.5
             },
             "pattern": {
              "fillmode": "overlay",
              "size": 10,
              "solidity": 0.2
             }
            },
            "type": "bar"
           }
          ],
          "barpolar": [
           {
            "marker": {
             "line": {
              "color": "#E5ECF6",
              "width": 0.5
             },
             "pattern": {
              "fillmode": "overlay",
              "size": 10,
              "solidity": 0.2
             }
            },
            "type": "barpolar"
           }
          ],
          "carpet": [
           {
            "aaxis": {
             "endlinecolor": "#2a3f5f",
             "gridcolor": "white",
             "linecolor": "white",
             "minorgridcolor": "white",
             "startlinecolor": "#2a3f5f"
            },
            "baxis": {
             "endlinecolor": "#2a3f5f",
             "gridcolor": "white",
             "linecolor": "white",
             "minorgridcolor": "white",
             "startlinecolor": "#2a3f5f"
            },
            "type": "carpet"
           }
          ],
          "choropleth": [
           {
            "colorbar": {
             "outlinewidth": 0,
             "ticks": ""
            },
            "type": "choropleth"
           }
          ],
          "contour": [
           {
            "colorbar": {
             "outlinewidth": 0,
             "ticks": ""
            },
            "colorscale": [
             [
              0,
              "#0d0887"
             ],
             [
              0.1111111111111111,
              "#46039f"
             ],
             [
              0.2222222222222222,
              "#7201a8"
             ],
             [
              0.3333333333333333,
              "#9c179e"
             ],
             [
              0.4444444444444444,
              "#bd3786"
             ],
             [
              0.5555555555555556,
              "#d8576b"
             ],
             [
              0.6666666666666666,
              "#ed7953"
             ],
             [
              0.7777777777777778,
              "#fb9f3a"
             ],
             [
              0.8888888888888888,
              "#fdca26"
             ],
             [
              1,
              "#f0f921"
             ]
            ],
            "type": "contour"
           }
          ],
          "contourcarpet": [
           {
            "colorbar": {
             "outlinewidth": 0,
             "ticks": ""
            },
            "type": "contourcarpet"
           }
          ],
          "heatmap": [
           {
            "colorbar": {
             "outlinewidth": 0,
             "ticks": ""
            },
            "colorscale": [
             [
              0,
              "#0d0887"
             ],
             [
              0.1111111111111111,
              "#46039f"
             ],
             [
              0.2222222222222222,
              "#7201a8"
             ],
             [
              0.3333333333333333,
              "#9c179e"
             ],
             [
              0.4444444444444444,
              "#bd3786"
             ],
             [
              0.5555555555555556,
              "#d8576b"
             ],
             [
              0.6666666666666666,
              "#ed7953"
             ],
             [
              0.7777777777777778,
              "#fb9f3a"
             ],
             [
              0.8888888888888888,
              "#fdca26"
             ],
             [
              1,
              "#f0f921"
             ]
            ],
            "type": "heatmap"
           }
          ],
          "heatmapgl": [
           {
            "colorbar": {
             "outlinewidth": 0,
             "ticks": ""
            },
            "colorscale": [
             [
              0,
              "#0d0887"
             ],
             [
              0.1111111111111111,
              "#46039f"
             ],
             [
              0.2222222222222222,
              "#7201a8"
             ],
             [
              0.3333333333333333,
              "#9c179e"
             ],
             [
              0.4444444444444444,
              "#bd3786"
             ],
             [
              0.5555555555555556,
              "#d8576b"
             ],
             [
              0.6666666666666666,
              "#ed7953"
             ],
             [
              0.7777777777777778,
              "#fb9f3a"
             ],
             [
              0.8888888888888888,
              "#fdca26"
             ],
             [
              1,
              "#f0f921"
             ]
            ],
            "type": "heatmapgl"
           }
          ],
          "histogram": [
           {
            "marker": {
             "pattern": {
              "fillmode": "overlay",
              "size": 10,
              "solidity": 0.2
             }
            },
            "type": "histogram"
           }
          ],
          "histogram2d": [
           {
            "colorbar": {
             "outlinewidth": 0,
             "ticks": ""
            },
            "colorscale": [
             [
              0,
              "#0d0887"
             ],
             [
              0.1111111111111111,
              "#46039f"
             ],
             [
              0.2222222222222222,
              "#7201a8"
             ],
             [
              0.3333333333333333,
              "#9c179e"
             ],
             [
              0.4444444444444444,
              "#bd3786"
             ],
             [
              0.5555555555555556,
              "#d8576b"
             ],
             [
              0.6666666666666666,
              "#ed7953"
             ],
             [
              0.7777777777777778,
              "#fb9f3a"
             ],
             [
              0.8888888888888888,
              "#fdca26"
             ],
             [
              1,
              "#f0f921"
             ]
            ],
            "type": "histogram2d"
           }
          ],
          "histogram2dcontour": [
           {
            "colorbar": {
             "outlinewidth": 0,
             "ticks": ""
            },
            "colorscale": [
             [
              0,
              "#0d0887"
             ],
             [
              0.1111111111111111,
              "#46039f"
             ],
             [
              0.2222222222222222,
              "#7201a8"
             ],
             [
              0.3333333333333333,
              "#9c179e"
             ],
             [
              0.4444444444444444,
              "#bd3786"
             ],
             [
              0.5555555555555556,
              "#d8576b"
             ],
             [
              0.6666666666666666,
              "#ed7953"
             ],
             [
              0.7777777777777778,
              "#fb9f3a"
             ],
             [
              0.8888888888888888,
              "#fdca26"
             ],
             [
              1,
              "#f0f921"
             ]
            ],
            "type": "histogram2dcontour"
           }
          ],
          "mesh3d": [
           {
            "colorbar": {
             "outlinewidth": 0,
             "ticks": ""
            },
            "type": "mesh3d"
           }
          ],
          "parcoords": [
           {
            "line": {
             "colorbar": {
              "outlinewidth": 0,
              "ticks": ""
             }
            },
            "type": "parcoords"
           }
          ],
          "pie": [
           {
            "automargin": true,
            "type": "pie"
           }
          ],
          "scatter": [
           {
            "marker": {
             "colorbar": {
              "outlinewidth": 0,
              "ticks": ""
             }
            },
            "type": "scatter"
           }
          ],
          "scatter3d": [
           {
            "line": {
             "colorbar": {
              "outlinewidth": 0,
              "ticks": ""
             }
            },
            "marker": {
             "colorbar": {
              "outlinewidth": 0,
              "ticks": ""
             }
            },
            "type": "scatter3d"
           }
          ],
          "scattercarpet": [
           {
            "marker": {
             "colorbar": {
              "outlinewidth": 0,
              "ticks": ""
             }
            },
            "type": "scattercarpet"
           }
          ],
          "scattergeo": [
           {
            "marker": {
             "colorbar": {
              "outlinewidth": 0,
              "ticks": ""
             }
            },
            "type": "scattergeo"
           }
          ],
          "scattergl": [
           {
            "marker": {
             "colorbar": {
              "outlinewidth": 0,
              "ticks": ""
             }
            },
            "type": "scattergl"
           }
          ],
          "scattermapbox": [
           {
            "marker": {
             "colorbar": {
              "outlinewidth": 0,
              "ticks": ""
             }
            },
            "type": "scattermapbox"
           }
          ],
          "scatterpolar": [
           {
            "marker": {
             "colorbar": {
              "outlinewidth": 0,
              "ticks": ""
             }
            },
            "type": "scatterpolar"
           }
          ],
          "scatterpolargl": [
           {
            "marker": {
             "colorbar": {
              "outlinewidth": 0,
              "ticks": ""
             }
            },
            "type": "scatterpolargl"
           }
          ],
          "scatterternary": [
           {
            "marker": {
             "colorbar": {
              "outlinewidth": 0,
              "ticks": ""
             }
            },
            "type": "scatterternary"
           }
          ],
          "surface": [
           {
            "colorbar": {
             "outlinewidth": 0,
             "ticks": ""
            },
            "colorscale": [
             [
              0,
              "#0d0887"
             ],
             [
              0.1111111111111111,
              "#46039f"
             ],
             [
              0.2222222222222222,
              "#7201a8"
             ],
             [
              0.3333333333333333,
              "#9c179e"
             ],
             [
              0.4444444444444444,
              "#bd3786"
             ],
             [
              0.5555555555555556,
              "#d8576b"
             ],
             [
              0.6666666666666666,
              "#ed7953"
             ],
             [
              0.7777777777777778,
              "#fb9f3a"
             ],
             [
              0.8888888888888888,
              "#fdca26"
             ],
             [
              1,
              "#f0f921"
             ]
            ],
            "type": "surface"
           }
          ],
          "table": [
           {
            "cells": {
             "fill": {
              "color": "#EBF0F8"
             },
             "line": {
              "color": "white"
             }
            },
            "header": {
             "fill": {
              "color": "#C8D4E3"
             },
             "line": {
              "color": "white"
             }
            },
            "type": "table"
           }
          ]
         },
         "layout": {
          "annotationdefaults": {
           "arrowcolor": "#2a3f5f",
           "arrowhead": 0,
           "arrowwidth": 1
          },
          "autotypenumbers": "strict",
          "coloraxis": {
           "colorbar": {
            "outlinewidth": 0,
            "ticks": ""
           }
          },
          "colorscale": {
           "diverging": [
            [
             0,
             "#8e0152"
            ],
            [
             0.1,
             "#c51b7d"
            ],
            [
             0.2,
             "#de77ae"
            ],
            [
             0.3,
             "#f1b6da"
            ],
            [
             0.4,
             "#fde0ef"
            ],
            [
             0.5,
             "#f7f7f7"
            ],
            [
             0.6,
             "#e6f5d0"
            ],
            [
             0.7,
             "#b8e186"
            ],
            [
             0.8,
             "#7fbc41"
            ],
            [
             0.9,
             "#4d9221"
            ],
            [
             1,
             "#276419"
            ]
           ],
           "sequential": [
            [
             0,
             "#0d0887"
            ],
            [
             0.1111111111111111,
             "#46039f"
            ],
            [
             0.2222222222222222,
             "#7201a8"
            ],
            [
             0.3333333333333333,
             "#9c179e"
            ],
            [
             0.4444444444444444,
             "#bd3786"
            ],
            [
             0.5555555555555556,
             "#d8576b"
            ],
            [
             0.6666666666666666,
             "#ed7953"
            ],
            [
             0.7777777777777778,
             "#fb9f3a"
            ],
            [
             0.8888888888888888,
             "#fdca26"
            ],
            [
             1,
             "#f0f921"
            ]
           ],
           "sequentialminus": [
            [
             0,
             "#0d0887"
            ],
            [
             0.1111111111111111,
             "#46039f"
            ],
            [
             0.2222222222222222,
             "#7201a8"
            ],
            [
             0.3333333333333333,
             "#9c179e"
            ],
            [
             0.4444444444444444,
             "#bd3786"
            ],
            [
             0.5555555555555556,
             "#d8576b"
            ],
            [
             0.6666666666666666,
             "#ed7953"
            ],
            [
             0.7777777777777778,
             "#fb9f3a"
            ],
            [
             0.8888888888888888,
             "#fdca26"
            ],
            [
             1,
             "#f0f921"
            ]
           ]
          },
          "colorway": [
           "#636efa",
           "#EF553B",
           "#00cc96",
           "#ab63fa",
           "#FFA15A",
           "#19d3f3",
           "#FF6692",
           "#B6E880",
           "#FF97FF",
           "#FECB52"
          ],
          "font": {
           "color": "#2a3f5f"
          },
          "geo": {
           "bgcolor": "white",
           "lakecolor": "white",
           "landcolor": "#E5ECF6",
           "showlakes": true,
           "showland": true,
           "subunitcolor": "white"
          },
          "hoverlabel": {
           "align": "left"
          },
          "hovermode": "closest",
          "mapbox": {
           "style": "light"
          },
          "paper_bgcolor": "white",
          "plot_bgcolor": "#E5ECF6",
          "polar": {
           "angularaxis": {
            "gridcolor": "white",
            "linecolor": "white",
            "ticks": ""
           },
           "bgcolor": "#E5ECF6",
           "radialaxis": {
            "gridcolor": "white",
            "linecolor": "white",
            "ticks": ""
           }
          },
          "scene": {
           "xaxis": {
            "backgroundcolor": "#E5ECF6",
            "gridcolor": "white",
            "gridwidth": 2,
            "linecolor": "white",
            "showbackground": true,
            "ticks": "",
            "zerolinecolor": "white"
           },
           "yaxis": {
            "backgroundcolor": "#E5ECF6",
            "gridcolor": "white",
            "gridwidth": 2,
            "linecolor": "white",
            "showbackground": true,
            "ticks": "",
            "zerolinecolor": "white"
           },
           "zaxis": {
            "backgroundcolor": "#E5ECF6",
            "gridcolor": "white",
            "gridwidth": 2,
            "linecolor": "white",
            "showbackground": true,
            "ticks": "",
            "zerolinecolor": "white"
           }
          },
          "shapedefaults": {
           "line": {
            "color": "#2a3f5f"
           }
          },
          "ternary": {
           "aaxis": {
            "gridcolor": "white",
            "linecolor": "white",
            "ticks": ""
           },
           "baxis": {
            "gridcolor": "white",
            "linecolor": "white",
            "ticks": ""
           },
           "bgcolor": "#E5ECF6",
           "caxis": {
            "gridcolor": "white",
            "linecolor": "white",
            "ticks": ""
           }
          },
          "title": {
           "x": 0.05
          },
          "xaxis": {
           "automargin": true,
           "gridcolor": "white",
           "linecolor": "white",
           "ticks": "",
           "title": {
            "standoff": 15
           },
           "zerolinecolor": "white",
           "zerolinewidth": 2
          },
          "yaxis": {
           "automargin": true,
           "gridcolor": "white",
           "linecolor": "white",
           "ticks": "",
           "title": {
            "standoff": 15
           },
           "zerolinecolor": "white",
           "zerolinewidth": 2
          }
         }
        },
        "title": {
         "font": {
          "color": "black"
         },
         "text": "Hydropower Energy Consumption in China"
        },
        "xaxis": {
         "anchor": "y",
         "domain": [
          0,
          1
         ],
         "gridcolor": "lightgrey",
         "gridwidth": 1,
         "linecolor": "black",
         "linewidth": 1,
         "showgrid": true,
         "showline": true,
         "title": {
          "text": "Year"
         },
         "zeroline": true,
         "zerolinecolor": "lightgrey",
         "zerolinewidth": 1
        },
        "yaxis": {
         "anchor": "x",
         "domain": [
          0,
          1
         ],
         "gridcolor": "lightgrey",
         "gridwidth": 1,
         "linecolor": "black",
         "linewidth": 1,
         "showgrid": true,
         "showline": true,
         "title": {
          "text": "Hydropower (terawatt-hours)"
         },
         "zeroline": true,
         "zerolinecolor": "lightgrey",
         "zerolinewidth": 1
        }
       }
      },
      "text/html": [
       "<div>                            <div id=\"198e31dd-d00c-4cc5-b630-783c4a327144\" class=\"plotly-graph-div\" style=\"height:525px; width:100%;\"></div>            <script type=\"text/javascript\">                require([\"plotly\"], function(Plotly) {                    window.PLOTLYENV=window.PLOTLYENV || {};                                    if (document.getElementById(\"198e31dd-d00c-4cc5-b630-783c4a327144\")) {                    Plotly.newPlot(                        \"198e31dd-d00c-4cc5-b630-783c4a327144\",                        [{\"hovertemplate\":\"Year=%{x}<br>Hydropower (terawatt-hours)=%{y}<extra></extra>\",\"legendgroup\":\"\",\"marker\":{\"color\":\"black\",\"opacity\":0.8,\"symbol\":\"circle\",\"size\":3},\"mode\":\"markers\",\"name\":\"\",\"orientation\":\"v\",\"showlegend\":false,\"x\":[1990,1991,1992,1993,1994,1995,1996,1997,1998,1999,2000,2001,2002,2003,2004,2005,2006,2007,2008,2009,2010,2011,2012,2013,2014,2015,2016,2017],\"xaxis\":\"x\",\"y\":[126.7439726,124.6889516,130.6860774,151.8461646,167.428969,190.58,187.97,195.98,198.89,196.58,222.41,277.43,287.97,283.68,353.544,397.017,435.786,485.264,636.96,615.64,711.38314,688.045,862.79411,909.6112734,1051.1466737,1114.51541,1153.2695,1165.07],\"yaxis\":\"y\",\"type\":\"scatter\"}],                        {\"template\":{\"data\":{\"bar\":[{\"error_x\":{\"color\":\"#2a3f5f\"},\"error_y\":{\"color\":\"#2a3f5f\"},\"marker\":{\"line\":{\"color\":\"#E5ECF6\",\"width\":0.5},\"pattern\":{\"fillmode\":\"overlay\",\"size\":10,\"solidity\":0.2}},\"type\":\"bar\"}],\"barpolar\":[{\"marker\":{\"line\":{\"color\":\"#E5ECF6\",\"width\":0.5},\"pattern\":{\"fillmode\":\"overlay\",\"size\":10,\"solidity\":0.2}},\"type\":\"barpolar\"}],\"carpet\":[{\"aaxis\":{\"endlinecolor\":\"#2a3f5f\",\"gridcolor\":\"white\",\"linecolor\":\"white\",\"minorgridcolor\":\"white\",\"startlinecolor\":\"#2a3f5f\"},\"baxis\":{\"endlinecolor\":\"#2a3f5f\",\"gridcolor\":\"white\",\"linecolor\":\"white\",\"minorgridcolor\":\"white\",\"startlinecolor\":\"#2a3f5f\"},\"type\":\"carpet\"}],\"choropleth\":[{\"colorbar\":{\"outlinewidth\":0,\"ticks\":\"\"},\"type\":\"choropleth\"}],\"contour\":[{\"colorbar\":{\"outlinewidth\":0,\"ticks\":\"\"},\"colorscale\":[[0.0,\"#0d0887\"],[0.1111111111111111,\"#46039f\"],[0.2222222222222222,\"#7201a8\"],[0.3333333333333333,\"#9c179e\"],[0.4444444444444444,\"#bd3786\"],[0.5555555555555556,\"#d8576b\"],[0.6666666666666666,\"#ed7953\"],[0.7777777777777778,\"#fb9f3a\"],[0.8888888888888888,\"#fdca26\"],[1.0,\"#f0f921\"]],\"type\":\"contour\"}],\"contourcarpet\":[{\"colorbar\":{\"outlinewidth\":0,\"ticks\":\"\"},\"type\":\"contourcarpet\"}],\"heatmap\":[{\"colorbar\":{\"outlinewidth\":0,\"ticks\":\"\"},\"colorscale\":[[0.0,\"#0d0887\"],[0.1111111111111111,\"#46039f\"],[0.2222222222222222,\"#7201a8\"],[0.3333333333333333,\"#9c179e\"],[0.4444444444444444,\"#bd3786\"],[0.5555555555555556,\"#d8576b\"],[0.6666666666666666,\"#ed7953\"],[0.7777777777777778,\"#fb9f3a\"],[0.8888888888888888,\"#fdca26\"],[1.0,\"#f0f921\"]],\"type\":\"heatmap\"}],\"heatmapgl\":[{\"colorbar\":{\"outlinewidth\":0,\"ticks\":\"\"},\"colorscale\":[[0.0,\"#0d0887\"],[0.1111111111111111,\"#46039f\"],[0.2222222222222222,\"#7201a8\"],[0.3333333333333333,\"#9c179e\"],[0.4444444444444444,\"#bd3786\"],[0.5555555555555556,\"#d8576b\"],[0.6666666666666666,\"#ed7953\"],[0.7777777777777778,\"#fb9f3a\"],[0.8888888888888888,\"#fdca26\"],[1.0,\"#f0f921\"]],\"type\":\"heatmapgl\"}],\"histogram\":[{\"marker\":{\"pattern\":{\"fillmode\":\"overlay\",\"size\":10,\"solidity\":0.2}},\"type\":\"histogram\"}],\"histogram2d\":[{\"colorbar\":{\"outlinewidth\":0,\"ticks\":\"\"},\"colorscale\":[[0.0,\"#0d0887\"],[0.1111111111111111,\"#46039f\"],[0.2222222222222222,\"#7201a8\"],[0.3333333333333333,\"#9c179e\"],[0.4444444444444444,\"#bd3786\"],[0.5555555555555556,\"#d8576b\"],[0.6666666666666666,\"#ed7953\"],[0.7777777777777778,\"#fb9f3a\"],[0.8888888888888888,\"#fdca26\"],[1.0,\"#f0f921\"]],\"type\":\"histogram2d\"}],\"histogram2dcontour\":[{\"colorbar\":{\"outlinewidth\":0,\"ticks\":\"\"},\"colorscale\":[[0.0,\"#0d0887\"],[0.1111111111111111,\"#46039f\"],[0.2222222222222222,\"#7201a8\"],[0.3333333333333333,\"#9c179e\"],[0.4444444444444444,\"#bd3786\"],[0.5555555555555556,\"#d8576b\"],[0.6666666666666666,\"#ed7953\"],[0.7777777777777778,\"#fb9f3a\"],[0.8888888888888888,\"#fdca26\"],[1.0,\"#f0f921\"]],\"type\":\"histogram2dcontour\"}],\"mesh3d\":[{\"colorbar\":{\"outlinewidth\":0,\"ticks\":\"\"},\"type\":\"mesh3d\"}],\"parcoords\":[{\"line\":{\"colorbar\":{\"outlinewidth\":0,\"ticks\":\"\"}},\"type\":\"parcoords\"}],\"pie\":[{\"automargin\":true,\"type\":\"pie\"}],\"scatter\":[{\"marker\":{\"colorbar\":{\"outlinewidth\":0,\"ticks\":\"\"}},\"type\":\"scatter\"}],\"scatter3d\":[{\"line\":{\"colorbar\":{\"outlinewidth\":0,\"ticks\":\"\"}},\"marker\":{\"colorbar\":{\"outlinewidth\":0,\"ticks\":\"\"}},\"type\":\"scatter3d\"}],\"scattercarpet\":[{\"marker\":{\"colorbar\":{\"outlinewidth\":0,\"ticks\":\"\"}},\"type\":\"scattercarpet\"}],\"scattergeo\":[{\"marker\":{\"colorbar\":{\"outlinewidth\":0,\"ticks\":\"\"}},\"type\":\"scattergeo\"}],\"scattergl\":[{\"marker\":{\"colorbar\":{\"outlinewidth\":0,\"ticks\":\"\"}},\"type\":\"scattergl\"}],\"scattermapbox\":[{\"marker\":{\"colorbar\":{\"outlinewidth\":0,\"ticks\":\"\"}},\"type\":\"scattermapbox\"}],\"scatterpolar\":[{\"marker\":{\"colorbar\":{\"outlinewidth\":0,\"ticks\":\"\"}},\"type\":\"scatterpolar\"}],\"scatterpolargl\":[{\"marker\":{\"colorbar\":{\"outlinewidth\":0,\"ticks\":\"\"}},\"type\":\"scatterpolargl\"}],\"scatterternary\":[{\"marker\":{\"colorbar\":{\"outlinewidth\":0,\"ticks\":\"\"}},\"type\":\"scatterternary\"}],\"surface\":[{\"colorbar\":{\"outlinewidth\":0,\"ticks\":\"\"},\"colorscale\":[[0.0,\"#0d0887\"],[0.1111111111111111,\"#46039f\"],[0.2222222222222222,\"#7201a8\"],[0.3333333333333333,\"#9c179e\"],[0.4444444444444444,\"#bd3786\"],[0.5555555555555556,\"#d8576b\"],[0.6666666666666666,\"#ed7953\"],[0.7777777777777778,\"#fb9f3a\"],[0.8888888888888888,\"#fdca26\"],[1.0,\"#f0f921\"]],\"type\":\"surface\"}],\"table\":[{\"cells\":{\"fill\":{\"color\":\"#EBF0F8\"},\"line\":{\"color\":\"white\"}},\"header\":{\"fill\":{\"color\":\"#C8D4E3\"},\"line\":{\"color\":\"white\"}},\"type\":\"table\"}]},\"layout\":{\"annotationdefaults\":{\"arrowcolor\":\"#2a3f5f\",\"arrowhead\":0,\"arrowwidth\":1},\"autotypenumbers\":\"strict\",\"coloraxis\":{\"colorbar\":{\"outlinewidth\":0,\"ticks\":\"\"}},\"colorscale\":{\"diverging\":[[0,\"#8e0152\"],[0.1,\"#c51b7d\"],[0.2,\"#de77ae\"],[0.3,\"#f1b6da\"],[0.4,\"#fde0ef\"],[0.5,\"#f7f7f7\"],[0.6,\"#e6f5d0\"],[0.7,\"#b8e186\"],[0.8,\"#7fbc41\"],[0.9,\"#4d9221\"],[1,\"#276419\"]],\"sequential\":[[0.0,\"#0d0887\"],[0.1111111111111111,\"#46039f\"],[0.2222222222222222,\"#7201a8\"],[0.3333333333333333,\"#9c179e\"],[0.4444444444444444,\"#bd3786\"],[0.5555555555555556,\"#d8576b\"],[0.6666666666666666,\"#ed7953\"],[0.7777777777777778,\"#fb9f3a\"],[0.8888888888888888,\"#fdca26\"],[1.0,\"#f0f921\"]],\"sequentialminus\":[[0.0,\"#0d0887\"],[0.1111111111111111,\"#46039f\"],[0.2222222222222222,\"#7201a8\"],[0.3333333333333333,\"#9c179e\"],[0.4444444444444444,\"#bd3786\"],[0.5555555555555556,\"#d8576b\"],[0.6666666666666666,\"#ed7953\"],[0.7777777777777778,\"#fb9f3a\"],[0.8888888888888888,\"#fdca26\"],[1.0,\"#f0f921\"]]},\"colorway\":[\"#636efa\",\"#EF553B\",\"#00cc96\",\"#ab63fa\",\"#FFA15A\",\"#19d3f3\",\"#FF6692\",\"#B6E880\",\"#FF97FF\",\"#FECB52\"],\"font\":{\"color\":\"#2a3f5f\"},\"geo\":{\"bgcolor\":\"white\",\"lakecolor\":\"white\",\"landcolor\":\"#E5ECF6\",\"showlakes\":true,\"showland\":true,\"subunitcolor\":\"white\"},\"hoverlabel\":{\"align\":\"left\"},\"hovermode\":\"closest\",\"mapbox\":{\"style\":\"light\"},\"paper_bgcolor\":\"white\",\"plot_bgcolor\":\"#E5ECF6\",\"polar\":{\"angularaxis\":{\"gridcolor\":\"white\",\"linecolor\":\"white\",\"ticks\":\"\"},\"bgcolor\":\"#E5ECF6\",\"radialaxis\":{\"gridcolor\":\"white\",\"linecolor\":\"white\",\"ticks\":\"\"}},\"scene\":{\"xaxis\":{\"backgroundcolor\":\"#E5ECF6\",\"gridcolor\":\"white\",\"gridwidth\":2,\"linecolor\":\"white\",\"showbackground\":true,\"ticks\":\"\",\"zerolinecolor\":\"white\"},\"yaxis\":{\"backgroundcolor\":\"#E5ECF6\",\"gridcolor\":\"white\",\"gridwidth\":2,\"linecolor\":\"white\",\"showbackground\":true,\"ticks\":\"\",\"zerolinecolor\":\"white\"},\"zaxis\":{\"backgroundcolor\":\"#E5ECF6\",\"gridcolor\":\"white\",\"gridwidth\":2,\"linecolor\":\"white\",\"showbackground\":true,\"ticks\":\"\",\"zerolinecolor\":\"white\"}},\"shapedefaults\":{\"line\":{\"color\":\"#2a3f5f\"}},\"ternary\":{\"aaxis\":{\"gridcolor\":\"white\",\"linecolor\":\"white\",\"ticks\":\"\"},\"baxis\":{\"gridcolor\":\"white\",\"linecolor\":\"white\",\"ticks\":\"\"},\"bgcolor\":\"#E5ECF6\",\"caxis\":{\"gridcolor\":\"white\",\"linecolor\":\"white\",\"ticks\":\"\"}},\"title\":{\"x\":0.05},\"xaxis\":{\"automargin\":true,\"gridcolor\":\"white\",\"linecolor\":\"white\",\"ticks\":\"\",\"title\":{\"standoff\":15},\"zerolinecolor\":\"white\",\"zerolinewidth\":2},\"yaxis\":{\"automargin\":true,\"gridcolor\":\"white\",\"linecolor\":\"white\",\"ticks\":\"\",\"title\":{\"standoff\":15},\"zerolinecolor\":\"white\",\"zerolinewidth\":2}}},\"xaxis\":{\"anchor\":\"y\",\"domain\":[0.0,1.0],\"title\":{\"text\":\"Year\"},\"showgrid\":true,\"gridwidth\":1,\"gridcolor\":\"lightgrey\",\"zeroline\":true,\"zerolinewidth\":1,\"zerolinecolor\":\"lightgrey\",\"showline\":true,\"linewidth\":1,\"linecolor\":\"black\"},\"yaxis\":{\"anchor\":\"x\",\"domain\":[0.0,1.0],\"title\":{\"text\":\"Hydropower (terawatt-hours)\"},\"showgrid\":true,\"gridwidth\":1,\"gridcolor\":\"lightgrey\",\"zeroline\":true,\"zerolinewidth\":1,\"zerolinecolor\":\"lightgrey\",\"showline\":true,\"linewidth\":1,\"linecolor\":\"black\"},\"legend\":{\"tracegroupgap\":0},\"margin\":{\"t\":60},\"plot_bgcolor\":\"white\",\"title\":{\"font\":{\"color\":\"black\"},\"text\":\"Hydropower Energy Consumption in China\"}},                        {\"responsive\": true}                    ).then(function(){\n",
       "                            \n",
       "var gd = document.getElementById('198e31dd-d00c-4cc5-b630-783c4a327144');\n",
       "var x = new MutationObserver(function (mutations, observer) {{\n",
       "        var display = window.getComputedStyle(gd).display;\n",
       "        if (!display || display === 'none') {{\n",
       "            console.log([gd, 'removed!']);\n",
       "            Plotly.purge(gd);\n",
       "            observer.disconnect();\n",
       "        }}\n",
       "}});\n",
       "\n",
       "// Listen for the removal of the full notebook cells\n",
       "var notebookContainer = gd.closest('#notebook-container');\n",
       "if (notebookContainer) {{\n",
       "    x.observe(notebookContainer, {childList: true});\n",
       "}}\n",
       "\n",
       "// Listen for the clearing of the current output cell\n",
       "var outputEl = gd.closest('.output');\n",
       "if (outputEl) {{\n",
       "    x.observe(outputEl, {childList: true});\n",
       "}}\n",
       "\n",
       "                        })                };                });            </script>        </div>"
      ]
     },
     "metadata": {},
     "output_type": "display_data"
    }
   ],
   "source": [
    "# Create a scatter plot\n",
    "fig = px.scatter(df, x=df['Year'], y=df['Hydropower (terawatt-hours)'], \n",
    "                 opacity=0.8, color_discrete_sequence=['black'])\n",
    "# Change chart background color\n",
    "fig.update_layout(dict(plot_bgcolor = 'white'))\n",
    "\n",
    "# Update axes lines\n",
    "fig.update_xaxes(showgrid=True, gridwidth=1, gridcolor='lightgrey', \n",
    "                 zeroline=True, zerolinewidth=1, zerolinecolor='lightgrey', \n",
    "                 showline=True, linewidth=1, linecolor='black')\n",
    "\n",
    "fig.update_yaxes(showgrid=True, gridwidth=1, gridcolor='lightgrey', \n",
    "                 zeroline=True, zerolinewidth=1, zerolinecolor='lightgrey', \n",
    "                 showline=True, linewidth=1, linecolor='black')\n",
    "\n",
    "fig.update_yaxes(showgrid=True, gridwidth=1, gridcolor='lightgrey', \n",
    "                 zeroline=True, zerolinewidth=1, zerolinecolor='lightgrey', \n",
    "                 showline=True, linewidth=1, linecolor='black')\n",
    "\n",
    "# Set figure title\n",
    "fig.update_layout(title=dict(text=\"Hydropower Energy Consumption in China\", \n",
    "                             font=dict(color='black')))\n",
    "# Update marker size\n",
    "fig.update_traces(marker=dict(size=3))\n",
    "\n",
    "fig.show()\n",
    "\n"
   ]
  },
  {
   "cell_type": "code",
   "execution_count": 469,
   "id": "66ec3dae",
   "metadata": {
    "id": "66ec3dae"
   },
   "outputs": [],
   "source": [
    "# Note, we need X to be a 2D array, hence reshape\n",
    "X=df['Year'].values.reshape(-1,1)\n",
    "y=df['Hydropower (terawatt-hours)'].values\n",
    "\n",
    "X_train, X_test, y_train, y_test = train_test_split(X ,y, test_size=0.30, random_state=100)\n",
    "\n",
    "\n",
    "# ------- Linear regression -------\n",
    "model1 = LinearRegression()\n",
    "lr = model1.fit(X_train, y_train)\n",
    "\n",
    "# ------- Support Vector regression -------\n",
    "model2 = SVR(kernel='linear', C=400, epsilon=165) # set kernel and hyperparameters\n",
    "svr = model2.fit(X_train, y_train)\n",
    "\n",
    "# ------- Predict a range of values based on the models for visualization -------\n",
    "# Create 100 evenly spaced points from smallest X to largest X\n",
    "x_range = np.linspace(X.min(), X.max(), 100)\n",
    "\n",
    "\n",
    "\n",
    "\n",
    "# Predict y values for our set of X values\n",
    "y_lr = model1.predict(x_range.reshape(-1, 1)) # Linear regression\n",
    "y_svr = model2.predict(x_range.reshape(-1, 1)) # SVR"
   ]
  },
  {
   "cell_type": "code",
   "execution_count": 470,
   "id": "af19a92d",
   "metadata": {
    "colab": {
     "base_uri": "https://localhost:8080/",
     "height": 542
    },
    "id": "af19a92d",
    "outputId": "175de309-df1c-4758-b1e4-18abf8d261a2",
    "scrolled": true
   },
   "outputs": [
    {
     "data": {
      "application/vnd.plotly.v1+json": {
       "config": {
        "plotlyServerURL": "https://plot.ly"
       },
       "data": [
        {
         "hovertemplate": "Year=%{x}<br>Hydropower (terawatt-hours)=%{y}<extra></extra>",
         "legendgroup": "",
         "marker": {
          "color": "black",
          "opacity": 0.8,
          "size": 3,
          "symbol": "circle"
         },
         "mode": "markers",
         "name": "",
         "orientation": "v",
         "showlegend": false,
         "type": "scatter",
         "x": [
          1990,
          1991,
          1992,
          1993,
          1994,
          1995,
          1996,
          1997,
          1998,
          1999,
          2000,
          2001,
          2002,
          2003,
          2004,
          2005,
          2006,
          2007,
          2008,
          2009,
          2010,
          2011,
          2012,
          2013,
          2014,
          2015,
          2016,
          2017
         ],
         "xaxis": "x",
         "y": [
          126.7439726,
          124.6889516,
          130.6860774,
          151.8461646,
          167.428969,
          190.58,
          187.97,
          195.98,
          198.89,
          196.58,
          222.41,
          277.43,
          287.97,
          283.68,
          353.544,
          397.017,
          435.786,
          485.264,
          636.96,
          615.64,
          711.38314,
          688.045,
          862.79411,
          909.6112734,
          1051.1466737,
          1114.51541,
          1153.2695,
          1165.07
         ],
         "yaxis": "y"
        },
        {
         "line": {
          "color": "limegreen"
         },
         "marker": {
          "size": 3
         },
         "name": "Linear Regression",
         "type": "scatter",
         "x": [
          1990,
          1990.2727272727273,
          1990.5454545454545,
          1990.8181818181818,
          1991.090909090909,
          1991.3636363636363,
          1991.6363636363637,
          1991.909090909091,
          1992.1818181818182,
          1992.4545454545455,
          1992.7272727272727,
          1993,
          1993.2727272727273,
          1993.5454545454545,
          1993.8181818181818,
          1994.090909090909,
          1994.3636363636363,
          1994.6363636363637,
          1994.909090909091,
          1995.1818181818182,
          1995.4545454545455,
          1995.7272727272727,
          1996,
          1996.2727272727273,
          1996.5454545454545,
          1996.8181818181818,
          1997.090909090909,
          1997.3636363636363,
          1997.6363636363637,
          1997.909090909091,
          1998.1818181818182,
          1998.4545454545455,
          1998.7272727272727,
          1999,
          1999.2727272727273,
          1999.5454545454545,
          1999.8181818181818,
          2000.090909090909,
          2000.3636363636363,
          2000.6363636363637,
          2000.909090909091,
          2001.1818181818182,
          2001.4545454545455,
          2001.7272727272727,
          2002,
          2002.2727272727273,
          2002.5454545454545,
          2002.8181818181818,
          2003.090909090909,
          2003.3636363636363,
          2003.6363636363637,
          2003.909090909091,
          2004.1818181818182,
          2004.4545454545455,
          2004.7272727272727,
          2005,
          2005.2727272727273,
          2005.5454545454545,
          2005.8181818181818,
          2006.090909090909,
          2006.3636363636363,
          2006.6363636363637,
          2006.909090909091,
          2007.1818181818182,
          2007.4545454545455,
          2007.7272727272727,
          2008,
          2008.2727272727273,
          2008.5454545454545,
          2008.8181818181818,
          2009.090909090909,
          2009.3636363636363,
          2009.6363636363637,
          2009.909090909091,
          2010.1818181818182,
          2010.4545454545455,
          2010.7272727272727,
          2011,
          2011.2727272727273,
          2011.5454545454545,
          2011.8181818181818,
          2012.090909090909,
          2012.3636363636363,
          2012.6363636363637,
          2012.909090909091,
          2013.1818181818182,
          2013.4545454545455,
          2013.7272727272727,
          2014,
          2014.2727272727273,
          2014.5454545454545,
          2014.8181818181818,
          2015.090909090909,
          2015.3636363636363,
          2015.6363636363637,
          2015.909090909091,
          2016.1818181818182,
          2016.4545454545455,
          2016.7272727272727,
          2017
         ],
         "y": [
          -24.380806870292872,
          -14.39173306475277,
          -4.402659259198117,
          5.5864145463419845,
          15.575488351896638,
          25.56456215743674,
          35.55363596299139,
          45.54270976854605,
          55.53178357408615,
          65.5208573796408,
          75.5099311851809,
          85.499004990721,
          95.48807879627566,
          105.47715260181576,
          115.46622640737041,
          125.45530021291052,
          135.44437401846517,
          145.43344782401982,
          155.42252162955992,
          165.41159543511458,
          175.40066924065468,
          185.38974304620933,
          195.37881685174943,
          205.3678906573041,
          215.3569644628442,
          225.34603826839884,
          235.33511207393894,
          245.3241858794936,
          255.31325968504825,
          265.30233349058835,
          275.291407296143,
          285.2804811016831,
          295.26955490723776,
          305.25862871277786,
          315.2477025183325,
          325.2367763238726,
          335.2258501294273,
          345.2149239349674,
          355.203997740522,
          365.1930715460767,
          375.1821453516168,
          385.17121915717144,
          395.16029296271154,
          405.1493667682662,
          415.1384405738063,
          425.1275143793464,
          435.11658818490105,
          445.10566199044115,
          455.0947357959958,
          465.0838096015359,
          475.07288340709056,
          485.0619572126452,
          495.0510310181853,
          505.04010482373997,
          515.0291786292801,
          525.0182524348347,
          535.0073262403748,
          544.9964000459295,
          554.9854738514696,
          564.9745476570242,
          574.9636214625643,
          584.952695268119,
          594.9417690736736,
          604.9308428792137,
          614.9199166847684,
          624.9089904903085,
          634.8980642958632,
          644.8871381014033,
          654.8762119069579,
          664.865285712498,
          674.8543595180527,
          684.8434333235928,
          694.8325071291474,
          704.8215809347021,
          714.8106547402422,
          724.7997285457968,
          734.7888023513369,
          744.7778761568916,
          754.7669499624317,
          764.7560237679863,
          774.7450975735264,
          784.7341713790665,
          794.7232451846212,
          804.7123189901758,
          814.701392795716,
          824.6904666012706,
          834.6795404068107,
          844.6686142123654,
          854.6576880179055,
          864.6467618234601,
          874.6358356290002,
          884.6249094345549,
          894.613983240095,
          904.6030570456496,
          914.5921308512043,
          924.5812046567444,
          934.570278462299,
          944.5593522678391,
          954.5484260733938,
          964.5374998789339
         ]
        },
        {
         "line": {
          "color": "red"
         },
         "marker": {
          "size": 3
         },
         "name": "Support Vector Regression",
         "type": "scatter",
         "x": [
          1990,
          1990.2727272727273,
          1990.5454545454545,
          1990.8181818181818,
          1991.090909090909,
          1991.3636363636363,
          1991.6363636363637,
          1991.909090909091,
          1992.1818181818182,
          1992.4545454545455,
          1992.7272727272727,
          1993,
          1993.2727272727273,
          1993.5454545454545,
          1993.8181818181818,
          1994.090909090909,
          1994.3636363636363,
          1994.6363636363637,
          1994.909090909091,
          1995.1818181818182,
          1995.4545454545455,
          1995.7272727272727,
          1996,
          1996.2727272727273,
          1996.5454545454545,
          1996.8181818181818,
          1997.090909090909,
          1997.3636363636363,
          1997.6363636363637,
          1997.909090909091,
          1998.1818181818182,
          1998.4545454545455,
          1998.7272727272727,
          1999,
          1999.2727272727273,
          1999.5454545454545,
          1999.8181818181818,
          2000.090909090909,
          2000.3636363636363,
          2000.6363636363637,
          2000.909090909091,
          2001.1818181818182,
          2001.4545454545455,
          2001.7272727272727,
          2002,
          2002.2727272727273,
          2002.5454545454545,
          2002.8181818181818,
          2003.090909090909,
          2003.3636363636363,
          2003.6363636363637,
          2003.909090909091,
          2004.1818181818182,
          2004.4545454545455,
          2004.7272727272727,
          2005,
          2005.2727272727273,
          2005.5454545454545,
          2005.8181818181818,
          2006.090909090909,
          2006.3636363636363,
          2006.6363636363637,
          2006.909090909091,
          2007.1818181818182,
          2007.4545454545455,
          2007.7272727272727,
          2008,
          2008.2727272727273,
          2008.5454545454545,
          2008.8181818181818,
          2009.090909090909,
          2009.3636363636363,
          2009.6363636363637,
          2009.909090909091,
          2010.1818181818182,
          2010.4545454545455,
          2010.7272727272727,
          2011,
          2011.2727272727273,
          2011.5454545454545,
          2011.8181818181818,
          2012.090909090909,
          2012.3636363636363,
          2012.6363636363637,
          2012.909090909091,
          2013.1818181818182,
          2013.4545454545455,
          2013.7272727272727,
          2014,
          2014.2727272727273,
          2014.5454545454545,
          2014.8181818181818,
          2015.090909090909,
          2015.3636363636363,
          2015.6363636363637,
          2015.909090909091,
          2016.1818181818182,
          2016.4545454545455,
          2016.7272727272727,
          2017
         ],
         "y": [
          -38.25602735730354,
          -27.75145127030555,
          -17.246875064098276,
          -6.74229897710029,
          3.762277229106985,
          14.26685343531426,
          24.771429522312246,
          35.27600560931023,
          45.7805819347268,
          56.28515802172478,
          66.78973410872277,
          77.29431019572075,
          87.79888640192803,
          98.30346248892602,
          108.80803869513329,
          119.31261490134057,
          129.81719110754784,
          140.32176707533654,
          150.8263432815438,
          161.3309194877511,
          171.83549569395836,
          182.34007166174706,
          192.84464786795434,
          203.3492240741616,
          213.8538001611596,
          224.35837636736687,
          234.86295245436486,
          245.36752877978142,
          255.87210462836083,
          266.3766808345681,
          276.88125715998467,
          287.38583336619195,
          297.89040933398064,
          308.3949855401879,
          318.8995616271859,
          329.4041378333932,
          339.9087138011819,
          350.41329012659844,
          360.9178663328057,
          371.4224423005944,
          381.9270185068017,
          392.43159483221825,
          402.9361710384255,
          413.4407470062142,
          423.9453232124215,
          434.4498992994195,
          444.95447550562676,
          455.45905147341546,
          465.963627798832,
          476.4682040050393,
          486.972779972828,
          497.47735617903527,
          507.98193250445183,
          518.4865085914498,
          528.9910846784478,
          539.4956607654458,
          550.0002369716531,
          560.504813058651,
          571.009389145649,
          581.5139654710656,
          592.0185416772729,
          602.5231175258523,
          613.0276938512689,
          623.5322700574761,
          634.0368462636834,
          644.5414222314721,
          655.0459984376794,
          665.5505746438866,
          676.0551507308846,
          686.5597268178826,
          697.0643030240899,
          707.5688793495065,
          718.0734551980859,
          728.5780314042931,
          739.0826077297097,
          749.587183935917,
          760.0917599037057,
          770.596336109913,
          781.1009121969109,
          791.6054884031182,
          802.1100643709069,
          812.6146406963235,
          823.1192169025308,
          833.6237928703194,
          844.1283690765267,
          854.6329454019433,
          865.1375214889413,
          875.6420975759393,
          886.1466736629372,
          896.6512498691445,
          907.1558259561425,
          917.6604020431405,
          928.1649783685571,
          938.6695545747643,
          949.174130542553,
          959.6787067487603,
          970.1832830741769,
          980.6878591611749,
          991.1924352481728,
          1001.6970113351708
         ]
        },
        {
         "line": {
          "color": "red",
          "dash": "dot"
         },
         "marker": {
          "size": 3
         },
         "name": "+epsilon",
         "type": "scatter",
         "x": [
          1990,
          1990.2727272727273,
          1990.5454545454545,
          1990.8181818181818,
          1991.090909090909,
          1991.3636363636363,
          1991.6363636363637,
          1991.909090909091,
          1992.1818181818182,
          1992.4545454545455,
          1992.7272727272727,
          1993,
          1993.2727272727273,
          1993.5454545454545,
          1993.8181818181818,
          1994.090909090909,
          1994.3636363636363,
          1994.6363636363637,
          1994.909090909091,
          1995.1818181818182,
          1995.4545454545455,
          1995.7272727272727,
          1996,
          1996.2727272727273,
          1996.5454545454545,
          1996.8181818181818,
          1997.090909090909,
          1997.3636363636363,
          1997.6363636363637,
          1997.909090909091,
          1998.1818181818182,
          1998.4545454545455,
          1998.7272727272727,
          1999,
          1999.2727272727273,
          1999.5454545454545,
          1999.8181818181818,
          2000.090909090909,
          2000.3636363636363,
          2000.6363636363637,
          2000.909090909091,
          2001.1818181818182,
          2001.4545454545455,
          2001.7272727272727,
          2002,
          2002.2727272727273,
          2002.5454545454545,
          2002.8181818181818,
          2003.090909090909,
          2003.3636363636363,
          2003.6363636363637,
          2003.909090909091,
          2004.1818181818182,
          2004.4545454545455,
          2004.7272727272727,
          2005,
          2005.2727272727273,
          2005.5454545454545,
          2005.8181818181818,
          2006.090909090909,
          2006.3636363636363,
          2006.6363636363637,
          2006.909090909091,
          2007.1818181818182,
          2007.4545454545455,
          2007.7272727272727,
          2008,
          2008.2727272727273,
          2008.5454545454545,
          2008.8181818181818,
          2009.090909090909,
          2009.3636363636363,
          2009.6363636363637,
          2009.909090909091,
          2010.1818181818182,
          2010.4545454545455,
          2010.7272727272727,
          2011,
          2011.2727272727273,
          2011.5454545454545,
          2011.8181818181818,
          2012.090909090909,
          2012.3636363636363,
          2012.6363636363637,
          2012.909090909091,
          2013.1818181818182,
          2013.4545454545455,
          2013.7272727272727,
          2014,
          2014.2727272727273,
          2014.5454545454545,
          2014.8181818181818,
          2015.090909090909,
          2015.3636363636363,
          2015.6363636363637,
          2015.909090909091,
          2016.1818181818182,
          2016.4545454545455,
          2016.7272727272727,
          2017
         ],
         "y": [
          126.74397264269646,
          137.24854872969445,
          147.75312493590172,
          158.2577010228997,
          168.76227722910699,
          179.26685343531426,
          189.77142952231225,
          200.27600560931023,
          210.7805819347268,
          221.28515802172478,
          231.78973410872277,
          242.29431019572075,
          252.79888640192803,
          263.303462488926,
          273.8080386951333,
          284.31261490134057,
          294.81719110754784,
          305.32176707533654,
          315.8263432815438,
          326.3309194877511,
          336.83549569395836,
          347.34007166174706,
          357.84464786795434,
          368.3492240741616,
          378.8538001611596,
          389.3583763673669,
          399.86295245436486,
          410.3675287797814,
          420.87210462836083,
          431.3766808345681,
          441.88125715998467,
          452.38583336619195,
          462.89040933398064,
          473.3949855401879,
          483.8995616271859,
          494.4041378333932,
          504.9087138011819,
          515.4132901265984,
          525.9178663328057,
          536.4224423005944,
          546.9270185068017,
          557.4315948322183,
          567.9361710384255,
          578.4407470062142,
          588.9453232124215,
          599.4498992994195,
          609.9544755056268,
          620.4590514734155,
          630.963627798832,
          641.4682040050393,
          651.972779972828,
          662.4773561790353,
          672.9819325044518,
          683.4865085914498,
          693.9910846784478,
          704.4956607654458,
          715.0002369716531,
          725.504813058651,
          736.009389145649,
          746.5139654710656,
          757.0185416772729,
          767.5231175258523,
          778.0276938512689,
          788.5322700574761,
          799.0368462636834,
          809.5414222314721,
          820.0459984376794,
          830.5505746438866,
          841.0551507308846,
          851.5597268178826,
          862.0643030240899,
          872.5688793495065,
          883.0734551980859,
          893.5780314042931,
          904.0826077297097,
          914.587183935917,
          925.0917599037057,
          935.596336109913,
          946.1009121969109,
          956.6054884031182,
          967.1100643709069,
          977.6146406963235,
          988.1192169025308,
          998.6237928703194,
          1009.1283690765267,
          1019.6329454019433,
          1030.1375214889413,
          1040.6420975759393,
          1051.1466736629372,
          1061.6512498691445,
          1072.1558259561425,
          1082.6604020431405,
          1093.164978368557,
          1103.6695545747643,
          1114.174130542553,
          1124.6787067487603,
          1135.1832830741769,
          1145.6878591611749,
          1156.1924352481728,
          1166.6970113351708
         ]
        },
        {
         "line": {
          "color": "red",
          "dash": "dot"
         },
         "marker": {
          "size": 3
         },
         "name": "-epsilon",
         "type": "scatter",
         "x": [
          1990,
          1990.2727272727273,
          1990.5454545454545,
          1990.8181818181818,
          1991.090909090909,
          1991.3636363636363,
          1991.6363636363637,
          1991.909090909091,
          1992.1818181818182,
          1992.4545454545455,
          1992.7272727272727,
          1993,
          1993.2727272727273,
          1993.5454545454545,
          1993.8181818181818,
          1994.090909090909,
          1994.3636363636363,
          1994.6363636363637,
          1994.909090909091,
          1995.1818181818182,
          1995.4545454545455,
          1995.7272727272727,
          1996,
          1996.2727272727273,
          1996.5454545454545,
          1996.8181818181818,
          1997.090909090909,
          1997.3636363636363,
          1997.6363636363637,
          1997.909090909091,
          1998.1818181818182,
          1998.4545454545455,
          1998.7272727272727,
          1999,
          1999.2727272727273,
          1999.5454545454545,
          1999.8181818181818,
          2000.090909090909,
          2000.3636363636363,
          2000.6363636363637,
          2000.909090909091,
          2001.1818181818182,
          2001.4545454545455,
          2001.7272727272727,
          2002,
          2002.2727272727273,
          2002.5454545454545,
          2002.8181818181818,
          2003.090909090909,
          2003.3636363636363,
          2003.6363636363637,
          2003.909090909091,
          2004.1818181818182,
          2004.4545454545455,
          2004.7272727272727,
          2005,
          2005.2727272727273,
          2005.5454545454545,
          2005.8181818181818,
          2006.090909090909,
          2006.3636363636363,
          2006.6363636363637,
          2006.909090909091,
          2007.1818181818182,
          2007.4545454545455,
          2007.7272727272727,
          2008,
          2008.2727272727273,
          2008.5454545454545,
          2008.8181818181818,
          2009.090909090909,
          2009.3636363636363,
          2009.6363636363637,
          2009.909090909091,
          2010.1818181818182,
          2010.4545454545455,
          2010.7272727272727,
          2011,
          2011.2727272727273,
          2011.5454545454545,
          2011.8181818181818,
          2012.090909090909,
          2012.3636363636363,
          2012.6363636363637,
          2012.909090909091,
          2013.1818181818182,
          2013.4545454545455,
          2013.7272727272727,
          2014,
          2014.2727272727273,
          2014.5454545454545,
          2014.8181818181818,
          2015.090909090909,
          2015.3636363636363,
          2015.6363636363637,
          2015.909090909091,
          2016.1818181818182,
          2016.4545454545455,
          2016.7272727272727,
          2017
         ],
         "y": [
          -203.25602735730354,
          -192.75145127030555,
          -182.24687506409828,
          -171.7422989771003,
          -161.23772277089301,
          -150.73314656468574,
          -140.22857047768775,
          -129.72399439068977,
          -119.2194180652732,
          -108.71484197827522,
          -98.21026589127723,
          -87.70568980427925,
          -77.20111359807197,
          -66.69653751107398,
          -56.19196130486671,
          -45.68738509865943,
          -35.18280889245216,
          -24.67823292466346,
          -14.173656718456186,
          -3.669080512248911,
          6.835495693958364,
          17.34007166174706,
          27.844647867954336,
          38.34922407416161,
          48.8538001611596,
          59.35837636736687,
          69.86295245436486,
          80.36752877978142,
          90.87210462836083,
          101.3766808345681,
          111.88125715998467,
          122.38583336619195,
          132.89040933398064,
          143.39498554018792,
          153.8995616271859,
          164.40413783339318,
          174.90871380118188,
          185.41329012659844,
          195.91786633280572,
          206.4224423005944,
          216.9270185068017,
          227.43159483221825,
          237.93617103842553,
          248.44074700621422,
          258.9453232124215,
          269.4498992994195,
          279.95447550562676,
          290.45905147341546,
          300.963627798832,
          311.4682040050393,
          321.972779972828,
          332.47735617903527,
          342.98193250445183,
          353.4865085914498,
          363.9910846784478,
          374.4956607654458,
          385.00023697165307,
          395.50481305865105,
          406.00938914564904,
          416.5139654710656,
          427.0185416772729,
          437.5231175258523,
          448.02769385126885,
          458.5322700574761,
          469.0368462636834,
          479.5414222314721,
          490.0459984376794,
          500.55057464388665,
          511.05515073088463,
          521.5597268178826,
          532.0643030240899,
          542.5688793495065,
          553.0734551980859,
          563.5780314042931,
          574.0826077297097,
          584.587183935917,
          595.0917599037057,
          605.596336109913,
          616.1009121969109,
          626.6054884031182,
          637.1100643709069,
          647.6146406963235,
          658.1192169025308,
          668.6237928703194,
          679.1283690765267,
          689.6329454019433,
          700.1375214889413,
          710.6420975759393,
          721.1466736629372,
          731.6512498691445,
          742.1558259561425,
          752.6604020431405,
          763.1649783685571,
          773.6695545747643,
          784.174130542553,
          794.6787067487603,
          805.1832830741769,
          815.6878591611749,
          826.1924352481728,
          836.6970113351708
         ]
        }
       ],
       "layout": {
        "legend": {
         "tracegroupgap": 0
        },
        "margin": {
         "t": 60
        },
        "plot_bgcolor": "white",
        "template": {
         "data": {
          "bar": [
           {
            "error_x": {
             "color": "#2a3f5f"
            },
            "error_y": {
             "color": "#2a3f5f"
            },
            "marker": {
             "line": {
              "color": "#E5ECF6",
              "width": 0.5
             },
             "pattern": {
              "fillmode": "overlay",
              "size": 10,
              "solidity": 0.2
             }
            },
            "type": "bar"
           }
          ],
          "barpolar": [
           {
            "marker": {
             "line": {
              "color": "#E5ECF6",
              "width": 0.5
             },
             "pattern": {
              "fillmode": "overlay",
              "size": 10,
              "solidity": 0.2
             }
            },
            "type": "barpolar"
           }
          ],
          "carpet": [
           {
            "aaxis": {
             "endlinecolor": "#2a3f5f",
             "gridcolor": "white",
             "linecolor": "white",
             "minorgridcolor": "white",
             "startlinecolor": "#2a3f5f"
            },
            "baxis": {
             "endlinecolor": "#2a3f5f",
             "gridcolor": "white",
             "linecolor": "white",
             "minorgridcolor": "white",
             "startlinecolor": "#2a3f5f"
            },
            "type": "carpet"
           }
          ],
          "choropleth": [
           {
            "colorbar": {
             "outlinewidth": 0,
             "ticks": ""
            },
            "type": "choropleth"
           }
          ],
          "contour": [
           {
            "colorbar": {
             "outlinewidth": 0,
             "ticks": ""
            },
            "colorscale": [
             [
              0,
              "#0d0887"
             ],
             [
              0.1111111111111111,
              "#46039f"
             ],
             [
              0.2222222222222222,
              "#7201a8"
             ],
             [
              0.3333333333333333,
              "#9c179e"
             ],
             [
              0.4444444444444444,
              "#bd3786"
             ],
             [
              0.5555555555555556,
              "#d8576b"
             ],
             [
              0.6666666666666666,
              "#ed7953"
             ],
             [
              0.7777777777777778,
              "#fb9f3a"
             ],
             [
              0.8888888888888888,
              "#fdca26"
             ],
             [
              1,
              "#f0f921"
             ]
            ],
            "type": "contour"
           }
          ],
          "contourcarpet": [
           {
            "colorbar": {
             "outlinewidth": 0,
             "ticks": ""
            },
            "type": "contourcarpet"
           }
          ],
          "heatmap": [
           {
            "colorbar": {
             "outlinewidth": 0,
             "ticks": ""
            },
            "colorscale": [
             [
              0,
              "#0d0887"
             ],
             [
              0.1111111111111111,
              "#46039f"
             ],
             [
              0.2222222222222222,
              "#7201a8"
             ],
             [
              0.3333333333333333,
              "#9c179e"
             ],
             [
              0.4444444444444444,
              "#bd3786"
             ],
             [
              0.5555555555555556,
              "#d8576b"
             ],
             [
              0.6666666666666666,
              "#ed7953"
             ],
             [
              0.7777777777777778,
              "#fb9f3a"
             ],
             [
              0.8888888888888888,
              "#fdca26"
             ],
             [
              1,
              "#f0f921"
             ]
            ],
            "type": "heatmap"
           }
          ],
          "heatmapgl": [
           {
            "colorbar": {
             "outlinewidth": 0,
             "ticks": ""
            },
            "colorscale": [
             [
              0,
              "#0d0887"
             ],
             [
              0.1111111111111111,
              "#46039f"
             ],
             [
              0.2222222222222222,
              "#7201a8"
             ],
             [
              0.3333333333333333,
              "#9c179e"
             ],
             [
              0.4444444444444444,
              "#bd3786"
             ],
             [
              0.5555555555555556,
              "#d8576b"
             ],
             [
              0.6666666666666666,
              "#ed7953"
             ],
             [
              0.7777777777777778,
              "#fb9f3a"
             ],
             [
              0.8888888888888888,
              "#fdca26"
             ],
             [
              1,
              "#f0f921"
             ]
            ],
            "type": "heatmapgl"
           }
          ],
          "histogram": [
           {
            "marker": {
             "pattern": {
              "fillmode": "overlay",
              "size": 10,
              "solidity": 0.2
             }
            },
            "type": "histogram"
           }
          ],
          "histogram2d": [
           {
            "colorbar": {
             "outlinewidth": 0,
             "ticks": ""
            },
            "colorscale": [
             [
              0,
              "#0d0887"
             ],
             [
              0.1111111111111111,
              "#46039f"
             ],
             [
              0.2222222222222222,
              "#7201a8"
             ],
             [
              0.3333333333333333,
              "#9c179e"
             ],
             [
              0.4444444444444444,
              "#bd3786"
             ],
             [
              0.5555555555555556,
              "#d8576b"
             ],
             [
              0.6666666666666666,
              "#ed7953"
             ],
             [
              0.7777777777777778,
              "#fb9f3a"
             ],
             [
              0.8888888888888888,
              "#fdca26"
             ],
             [
              1,
              "#f0f921"
             ]
            ],
            "type": "histogram2d"
           }
          ],
          "histogram2dcontour": [
           {
            "colorbar": {
             "outlinewidth": 0,
             "ticks": ""
            },
            "colorscale": [
             [
              0,
              "#0d0887"
             ],
             [
              0.1111111111111111,
              "#46039f"
             ],
             [
              0.2222222222222222,
              "#7201a8"
             ],
             [
              0.3333333333333333,
              "#9c179e"
             ],
             [
              0.4444444444444444,
              "#bd3786"
             ],
             [
              0.5555555555555556,
              "#d8576b"
             ],
             [
              0.6666666666666666,
              "#ed7953"
             ],
             [
              0.7777777777777778,
              "#fb9f3a"
             ],
             [
              0.8888888888888888,
              "#fdca26"
             ],
             [
              1,
              "#f0f921"
             ]
            ],
            "type": "histogram2dcontour"
           }
          ],
          "mesh3d": [
           {
            "colorbar": {
             "outlinewidth": 0,
             "ticks": ""
            },
            "type": "mesh3d"
           }
          ],
          "parcoords": [
           {
            "line": {
             "colorbar": {
              "outlinewidth": 0,
              "ticks": ""
             }
            },
            "type": "parcoords"
           }
          ],
          "pie": [
           {
            "automargin": true,
            "type": "pie"
           }
          ],
          "scatter": [
           {
            "marker": {
             "colorbar": {
              "outlinewidth": 0,
              "ticks": ""
             }
            },
            "type": "scatter"
           }
          ],
          "scatter3d": [
           {
            "line": {
             "colorbar": {
              "outlinewidth": 0,
              "ticks": ""
             }
            },
            "marker": {
             "colorbar": {
              "outlinewidth": 0,
              "ticks": ""
             }
            },
            "type": "scatter3d"
           }
          ],
          "scattercarpet": [
           {
            "marker": {
             "colorbar": {
              "outlinewidth": 0,
              "ticks": ""
             }
            },
            "type": "scattercarpet"
           }
          ],
          "scattergeo": [
           {
            "marker": {
             "colorbar": {
              "outlinewidth": 0,
              "ticks": ""
             }
            },
            "type": "scattergeo"
           }
          ],
          "scattergl": [
           {
            "marker": {
             "colorbar": {
              "outlinewidth": 0,
              "ticks": ""
             }
            },
            "type": "scattergl"
           }
          ],
          "scattermapbox": [
           {
            "marker": {
             "colorbar": {
              "outlinewidth": 0,
              "ticks": ""
             }
            },
            "type": "scattermapbox"
           }
          ],
          "scatterpolar": [
           {
            "marker": {
             "colorbar": {
              "outlinewidth": 0,
              "ticks": ""
             }
            },
            "type": "scatterpolar"
           }
          ],
          "scatterpolargl": [
           {
            "marker": {
             "colorbar": {
              "outlinewidth": 0,
              "ticks": ""
             }
            },
            "type": "scatterpolargl"
           }
          ],
          "scatterternary": [
           {
            "marker": {
             "colorbar": {
              "outlinewidth": 0,
              "ticks": ""
             }
            },
            "type": "scatterternary"
           }
          ],
          "surface": [
           {
            "colorbar": {
             "outlinewidth": 0,
             "ticks": ""
            },
            "colorscale": [
             [
              0,
              "#0d0887"
             ],
             [
              0.1111111111111111,
              "#46039f"
             ],
             [
              0.2222222222222222,
              "#7201a8"
             ],
             [
              0.3333333333333333,
              "#9c179e"
             ],
             [
              0.4444444444444444,
              "#bd3786"
             ],
             [
              0.5555555555555556,
              "#d8576b"
             ],
             [
              0.6666666666666666,
              "#ed7953"
             ],
             [
              0.7777777777777778,
              "#fb9f3a"
             ],
             [
              0.8888888888888888,
              "#fdca26"
             ],
             [
              1,
              "#f0f921"
             ]
            ],
            "type": "surface"
           }
          ],
          "table": [
           {
            "cells": {
             "fill": {
              "color": "#EBF0F8"
             },
             "line": {
              "color": "white"
             }
            },
            "header": {
             "fill": {
              "color": "#C8D4E3"
             },
             "line": {
              "color": "white"
             }
            },
            "type": "table"
           }
          ]
         },
         "layout": {
          "annotationdefaults": {
           "arrowcolor": "#2a3f5f",
           "arrowhead": 0,
           "arrowwidth": 1
          },
          "autotypenumbers": "strict",
          "coloraxis": {
           "colorbar": {
            "outlinewidth": 0,
            "ticks": ""
           }
          },
          "colorscale": {
           "diverging": [
            [
             0,
             "#8e0152"
            ],
            [
             0.1,
             "#c51b7d"
            ],
            [
             0.2,
             "#de77ae"
            ],
            [
             0.3,
             "#f1b6da"
            ],
            [
             0.4,
             "#fde0ef"
            ],
            [
             0.5,
             "#f7f7f7"
            ],
            [
             0.6,
             "#e6f5d0"
            ],
            [
             0.7,
             "#b8e186"
            ],
            [
             0.8,
             "#7fbc41"
            ],
            [
             0.9,
             "#4d9221"
            ],
            [
             1,
             "#276419"
            ]
           ],
           "sequential": [
            [
             0,
             "#0d0887"
            ],
            [
             0.1111111111111111,
             "#46039f"
            ],
            [
             0.2222222222222222,
             "#7201a8"
            ],
            [
             0.3333333333333333,
             "#9c179e"
            ],
            [
             0.4444444444444444,
             "#bd3786"
            ],
            [
             0.5555555555555556,
             "#d8576b"
            ],
            [
             0.6666666666666666,
             "#ed7953"
            ],
            [
             0.7777777777777778,
             "#fb9f3a"
            ],
            [
             0.8888888888888888,
             "#fdca26"
            ],
            [
             1,
             "#f0f921"
            ]
           ],
           "sequentialminus": [
            [
             0,
             "#0d0887"
            ],
            [
             0.1111111111111111,
             "#46039f"
            ],
            [
             0.2222222222222222,
             "#7201a8"
            ],
            [
             0.3333333333333333,
             "#9c179e"
            ],
            [
             0.4444444444444444,
             "#bd3786"
            ],
            [
             0.5555555555555556,
             "#d8576b"
            ],
            [
             0.6666666666666666,
             "#ed7953"
            ],
            [
             0.7777777777777778,
             "#fb9f3a"
            ],
            [
             0.8888888888888888,
             "#fdca26"
            ],
            [
             1,
             "#f0f921"
            ]
           ]
          },
          "colorway": [
           "#636efa",
           "#EF553B",
           "#00cc96",
           "#ab63fa",
           "#FFA15A",
           "#19d3f3",
           "#FF6692",
           "#B6E880",
           "#FF97FF",
           "#FECB52"
          ],
          "font": {
           "color": "#2a3f5f"
          },
          "geo": {
           "bgcolor": "white",
           "lakecolor": "white",
           "landcolor": "#E5ECF6",
           "showlakes": true,
           "showland": true,
           "subunitcolor": "white"
          },
          "hoverlabel": {
           "align": "left"
          },
          "hovermode": "closest",
          "mapbox": {
           "style": "light"
          },
          "paper_bgcolor": "white",
          "plot_bgcolor": "#E5ECF6",
          "polar": {
           "angularaxis": {
            "gridcolor": "white",
            "linecolor": "white",
            "ticks": ""
           },
           "bgcolor": "#E5ECF6",
           "radialaxis": {
            "gridcolor": "white",
            "linecolor": "white",
            "ticks": ""
           }
          },
          "scene": {
           "xaxis": {
            "backgroundcolor": "#E5ECF6",
            "gridcolor": "white",
            "gridwidth": 2,
            "linecolor": "white",
            "showbackground": true,
            "ticks": "",
            "zerolinecolor": "white"
           },
           "yaxis": {
            "backgroundcolor": "#E5ECF6",
            "gridcolor": "white",
            "gridwidth": 2,
            "linecolor": "white",
            "showbackground": true,
            "ticks": "",
            "zerolinecolor": "white"
           },
           "zaxis": {
            "backgroundcolor": "#E5ECF6",
            "gridcolor": "white",
            "gridwidth": 2,
            "linecolor": "white",
            "showbackground": true,
            "ticks": "",
            "zerolinecolor": "white"
           }
          },
          "shapedefaults": {
           "line": {
            "color": "#2a3f5f"
           }
          },
          "ternary": {
           "aaxis": {
            "gridcolor": "white",
            "linecolor": "white",
            "ticks": ""
           },
           "baxis": {
            "gridcolor": "white",
            "linecolor": "white",
            "ticks": ""
           },
           "bgcolor": "#E5ECF6",
           "caxis": {
            "gridcolor": "white",
            "linecolor": "white",
            "ticks": ""
           }
          },
          "title": {
           "x": 0.05
          },
          "xaxis": {
           "automargin": true,
           "gridcolor": "white",
           "linecolor": "white",
           "ticks": "",
           "title": {
            "standoff": 15
           },
           "zerolinecolor": "white",
           "zerolinewidth": 2
          },
          "yaxis": {
           "automargin": true,
           "gridcolor": "white",
           "linecolor": "white",
           "ticks": "",
           "title": {
            "standoff": 15
           },
           "zerolinecolor": "white",
           "zerolinewidth": 2
          }
         }
        },
        "title": {
         "font": {
          "color": "black"
         },
         "text": "Hydropower Energy Consumption in China (epsilon=180, C=200)"
        },
        "xaxis": {
         "anchor": "y",
         "domain": [
          0,
          1
         ],
         "gridcolor": "lightgrey",
         "gridwidth": 1,
         "linecolor": "black",
         "linewidth": 1,
         "showgrid": true,
         "showline": true,
         "title": {
          "text": "Year"
         },
         "zeroline": true,
         "zerolinecolor": "lightgrey",
         "zerolinewidth": 1
        },
        "yaxis": {
         "anchor": "x",
         "domain": [
          0,
          1
         ],
         "gridcolor": "lightgrey",
         "gridwidth": 1,
         "linecolor": "black",
         "linewidth": 1,
         "showgrid": true,
         "showline": true,
         "title": {
          "text": "Hydropower (terawatt-hours)"
         },
         "zeroline": true,
         "zerolinecolor": "lightgrey",
         "zerolinewidth": 1
        }
       }
      },
      "text/html": [
       "<div>                            <div id=\"032b49e1-d41c-403a-824b-eeb58adf4bc6\" class=\"plotly-graph-div\" style=\"height:525px; width:100%;\"></div>            <script type=\"text/javascript\">                require([\"plotly\"], function(Plotly) {                    window.PLOTLYENV=window.PLOTLYENV || {};                                    if (document.getElementById(\"032b49e1-d41c-403a-824b-eeb58adf4bc6\")) {                    Plotly.newPlot(                        \"032b49e1-d41c-403a-824b-eeb58adf4bc6\",                        [{\"hovertemplate\":\"Year=%{x}<br>Hydropower (terawatt-hours)=%{y}<extra></extra>\",\"legendgroup\":\"\",\"marker\":{\"color\":\"black\",\"opacity\":0.8,\"symbol\":\"circle\",\"size\":3},\"mode\":\"markers\",\"name\":\"\",\"orientation\":\"v\",\"showlegend\":false,\"x\":[1990,1991,1992,1993,1994,1995,1996,1997,1998,1999,2000,2001,2002,2003,2004,2005,2006,2007,2008,2009,2010,2011,2012,2013,2014,2015,2016,2017],\"xaxis\":\"x\",\"y\":[126.7439726,124.6889516,130.6860774,151.8461646,167.428969,190.58,187.97,195.98,198.89,196.58,222.41,277.43,287.97,283.68,353.544,397.017,435.786,485.264,636.96,615.64,711.38314,688.045,862.79411,909.6112734,1051.1466737,1114.51541,1153.2695,1165.07],\"yaxis\":\"y\",\"type\":\"scatter\"},{\"line\":{\"color\":\"limegreen\"},\"name\":\"Linear Regression\",\"x\":[1990.0,1990.2727272727273,1990.5454545454545,1990.8181818181818,1991.090909090909,1991.3636363636363,1991.6363636363637,1991.909090909091,1992.1818181818182,1992.4545454545455,1992.7272727272727,1993.0,1993.2727272727273,1993.5454545454545,1993.8181818181818,1994.090909090909,1994.3636363636363,1994.6363636363637,1994.909090909091,1995.1818181818182,1995.4545454545455,1995.7272727272727,1996.0,1996.2727272727273,1996.5454545454545,1996.8181818181818,1997.090909090909,1997.3636363636363,1997.6363636363637,1997.909090909091,1998.1818181818182,1998.4545454545455,1998.7272727272727,1999.0,1999.2727272727273,1999.5454545454545,1999.8181818181818,2000.090909090909,2000.3636363636363,2000.6363636363637,2000.909090909091,2001.1818181818182,2001.4545454545455,2001.7272727272727,2002.0,2002.2727272727273,2002.5454545454545,2002.8181818181818,2003.090909090909,2003.3636363636363,2003.6363636363637,2003.909090909091,2004.1818181818182,2004.4545454545455,2004.7272727272727,2005.0,2005.2727272727273,2005.5454545454545,2005.8181818181818,2006.090909090909,2006.3636363636363,2006.6363636363637,2006.909090909091,2007.1818181818182,2007.4545454545455,2007.7272727272727,2008.0,2008.2727272727273,2008.5454545454545,2008.8181818181818,2009.090909090909,2009.3636363636363,2009.6363636363637,2009.909090909091,2010.1818181818182,2010.4545454545455,2010.7272727272727,2011.0,2011.2727272727273,2011.5454545454545,2011.8181818181818,2012.090909090909,2012.3636363636363,2012.6363636363637,2012.909090909091,2013.1818181818182,2013.4545454545455,2013.7272727272727,2014.0,2014.2727272727273,2014.5454545454545,2014.8181818181818,2015.090909090909,2015.3636363636363,2015.6363636363637,2015.909090909091,2016.1818181818182,2016.4545454545455,2016.7272727272727,2017.0],\"y\":[-24.380806870292872,-14.39173306475277,-4.402659259198117,5.5864145463419845,15.575488351896638,25.56456215743674,35.55363596299139,45.54270976854605,55.53178357408615,65.5208573796408,75.5099311851809,85.499004990721,95.48807879627566,105.47715260181576,115.46622640737041,125.45530021291052,135.44437401846517,145.43344782401982,155.42252162955992,165.41159543511458,175.40066924065468,185.38974304620933,195.37881685174943,205.3678906573041,215.3569644628442,225.34603826839884,235.33511207393894,245.3241858794936,255.31325968504825,265.30233349058835,275.291407296143,285.2804811016831,295.26955490723776,305.25862871277786,315.2477025183325,325.2367763238726,335.2258501294273,345.2149239349674,355.203997740522,365.1930715460767,375.1821453516168,385.17121915717144,395.16029296271154,405.1493667682662,415.1384405738063,425.1275143793464,435.11658818490105,445.10566199044115,455.0947357959958,465.0838096015359,475.07288340709056,485.0619572126452,495.0510310181853,505.04010482373997,515.0291786292801,525.0182524348347,535.0073262403748,544.9964000459295,554.9854738514696,564.9745476570242,574.9636214625643,584.952695268119,594.9417690736736,604.9308428792137,614.9199166847684,624.9089904903085,634.8980642958632,644.8871381014033,654.8762119069579,664.865285712498,674.8543595180527,684.8434333235928,694.8325071291474,704.8215809347021,714.8106547402422,724.7997285457968,734.7888023513369,744.7778761568916,754.7669499624317,764.7560237679863,774.7450975735264,784.7341713790665,794.7232451846212,804.7123189901758,814.701392795716,824.6904666012706,834.6795404068107,844.6686142123654,854.6576880179055,864.6467618234601,874.6358356290002,884.6249094345549,894.613983240095,904.6030570456496,914.5921308512043,924.5812046567444,934.570278462299,944.5593522678391,954.5484260733938,964.5374998789339],\"type\":\"scatter\",\"marker\":{\"size\":3}},{\"line\":{\"color\":\"red\"},\"name\":\"Support Vector Regression\",\"x\":[1990.0,1990.2727272727273,1990.5454545454545,1990.8181818181818,1991.090909090909,1991.3636363636363,1991.6363636363637,1991.909090909091,1992.1818181818182,1992.4545454545455,1992.7272727272727,1993.0,1993.2727272727273,1993.5454545454545,1993.8181818181818,1994.090909090909,1994.3636363636363,1994.6363636363637,1994.909090909091,1995.1818181818182,1995.4545454545455,1995.7272727272727,1996.0,1996.2727272727273,1996.5454545454545,1996.8181818181818,1997.090909090909,1997.3636363636363,1997.6363636363637,1997.909090909091,1998.1818181818182,1998.4545454545455,1998.7272727272727,1999.0,1999.2727272727273,1999.5454545454545,1999.8181818181818,2000.090909090909,2000.3636363636363,2000.6363636363637,2000.909090909091,2001.1818181818182,2001.4545454545455,2001.7272727272727,2002.0,2002.2727272727273,2002.5454545454545,2002.8181818181818,2003.090909090909,2003.3636363636363,2003.6363636363637,2003.909090909091,2004.1818181818182,2004.4545454545455,2004.7272727272727,2005.0,2005.2727272727273,2005.5454545454545,2005.8181818181818,2006.090909090909,2006.3636363636363,2006.6363636363637,2006.909090909091,2007.1818181818182,2007.4545454545455,2007.7272727272727,2008.0,2008.2727272727273,2008.5454545454545,2008.8181818181818,2009.090909090909,2009.3636363636363,2009.6363636363637,2009.909090909091,2010.1818181818182,2010.4545454545455,2010.7272727272727,2011.0,2011.2727272727273,2011.5454545454545,2011.8181818181818,2012.090909090909,2012.3636363636363,2012.6363636363637,2012.909090909091,2013.1818181818182,2013.4545454545455,2013.7272727272727,2014.0,2014.2727272727273,2014.5454545454545,2014.8181818181818,2015.090909090909,2015.3636363636363,2015.6363636363637,2015.909090909091,2016.1818181818182,2016.4545454545455,2016.7272727272727,2017.0],\"y\":[-38.25602735730354,-27.75145127030555,-17.246875064098276,-6.74229897710029,3.762277229106985,14.26685343531426,24.771429522312246,35.27600560931023,45.7805819347268,56.28515802172478,66.78973410872277,77.29431019572075,87.79888640192803,98.30346248892602,108.80803869513329,119.31261490134057,129.81719110754784,140.32176707533654,150.8263432815438,161.3309194877511,171.83549569395836,182.34007166174706,192.84464786795434,203.3492240741616,213.8538001611596,224.35837636736687,234.86295245436486,245.36752877978142,255.87210462836083,266.3766808345681,276.88125715998467,287.38583336619195,297.89040933398064,308.3949855401879,318.8995616271859,329.4041378333932,339.9087138011819,350.41329012659844,360.9178663328057,371.4224423005944,381.9270185068017,392.43159483221825,402.9361710384255,413.4407470062142,423.9453232124215,434.4498992994195,444.95447550562676,455.45905147341546,465.963627798832,476.4682040050393,486.972779972828,497.47735617903527,507.98193250445183,518.4865085914498,528.9910846784478,539.4956607654458,550.0002369716531,560.504813058651,571.009389145649,581.5139654710656,592.0185416772729,602.5231175258523,613.0276938512689,623.5322700574761,634.0368462636834,644.5414222314721,655.0459984376794,665.5505746438866,676.0551507308846,686.5597268178826,697.0643030240899,707.5688793495065,718.0734551980859,728.5780314042931,739.0826077297097,749.587183935917,760.0917599037057,770.596336109913,781.1009121969109,791.6054884031182,802.1100643709069,812.6146406963235,823.1192169025308,833.6237928703194,844.1283690765267,854.6329454019433,865.1375214889413,875.6420975759393,886.1466736629372,896.6512498691445,907.1558259561425,917.6604020431405,928.1649783685571,938.6695545747643,949.174130542553,959.6787067487603,970.1832830741769,980.6878591611749,991.1924352481728,1001.6970113351708],\"type\":\"scatter\",\"marker\":{\"size\":3}},{\"line\":{\"color\":\"red\",\"dash\":\"dot\"},\"name\":\"+epsilon\",\"x\":[1990.0,1990.2727272727273,1990.5454545454545,1990.8181818181818,1991.090909090909,1991.3636363636363,1991.6363636363637,1991.909090909091,1992.1818181818182,1992.4545454545455,1992.7272727272727,1993.0,1993.2727272727273,1993.5454545454545,1993.8181818181818,1994.090909090909,1994.3636363636363,1994.6363636363637,1994.909090909091,1995.1818181818182,1995.4545454545455,1995.7272727272727,1996.0,1996.2727272727273,1996.5454545454545,1996.8181818181818,1997.090909090909,1997.3636363636363,1997.6363636363637,1997.909090909091,1998.1818181818182,1998.4545454545455,1998.7272727272727,1999.0,1999.2727272727273,1999.5454545454545,1999.8181818181818,2000.090909090909,2000.3636363636363,2000.6363636363637,2000.909090909091,2001.1818181818182,2001.4545454545455,2001.7272727272727,2002.0,2002.2727272727273,2002.5454545454545,2002.8181818181818,2003.090909090909,2003.3636363636363,2003.6363636363637,2003.909090909091,2004.1818181818182,2004.4545454545455,2004.7272727272727,2005.0,2005.2727272727273,2005.5454545454545,2005.8181818181818,2006.090909090909,2006.3636363636363,2006.6363636363637,2006.909090909091,2007.1818181818182,2007.4545454545455,2007.7272727272727,2008.0,2008.2727272727273,2008.5454545454545,2008.8181818181818,2009.090909090909,2009.3636363636363,2009.6363636363637,2009.909090909091,2010.1818181818182,2010.4545454545455,2010.7272727272727,2011.0,2011.2727272727273,2011.5454545454545,2011.8181818181818,2012.090909090909,2012.3636363636363,2012.6363636363637,2012.909090909091,2013.1818181818182,2013.4545454545455,2013.7272727272727,2014.0,2014.2727272727273,2014.5454545454545,2014.8181818181818,2015.090909090909,2015.3636363636363,2015.6363636363637,2015.909090909091,2016.1818181818182,2016.4545454545455,2016.7272727272727,2017.0],\"y\":[126.74397264269646,137.24854872969445,147.75312493590172,158.2577010228997,168.76227722910699,179.26685343531426,189.77142952231225,200.27600560931023,210.7805819347268,221.28515802172478,231.78973410872277,242.29431019572075,252.79888640192803,263.303462488926,273.8080386951333,284.31261490134057,294.81719110754784,305.32176707533654,315.8263432815438,326.3309194877511,336.83549569395836,347.34007166174706,357.84464786795434,368.3492240741616,378.8538001611596,389.3583763673669,399.86295245436486,410.3675287797814,420.87210462836083,431.3766808345681,441.88125715998467,452.38583336619195,462.89040933398064,473.3949855401879,483.8995616271859,494.4041378333932,504.9087138011819,515.4132901265984,525.9178663328057,536.4224423005944,546.9270185068017,557.4315948322183,567.9361710384255,578.4407470062142,588.9453232124215,599.4498992994195,609.9544755056268,620.4590514734155,630.963627798832,641.4682040050393,651.972779972828,662.4773561790353,672.9819325044518,683.4865085914498,693.9910846784478,704.4956607654458,715.0002369716531,725.504813058651,736.009389145649,746.5139654710656,757.0185416772729,767.5231175258523,778.0276938512689,788.5322700574761,799.0368462636834,809.5414222314721,820.0459984376794,830.5505746438866,841.0551507308846,851.5597268178826,862.0643030240899,872.5688793495065,883.0734551980859,893.5780314042931,904.0826077297097,914.587183935917,925.0917599037057,935.596336109913,946.1009121969109,956.6054884031182,967.1100643709069,977.6146406963235,988.1192169025308,998.6237928703194,1009.1283690765267,1019.6329454019433,1030.1375214889413,1040.6420975759393,1051.1466736629372,1061.6512498691445,1072.1558259561425,1082.6604020431405,1093.164978368557,1103.6695545747643,1114.174130542553,1124.6787067487603,1135.1832830741769,1145.6878591611749,1156.1924352481728,1166.6970113351708],\"type\":\"scatter\",\"marker\":{\"size\":3}},{\"line\":{\"color\":\"red\",\"dash\":\"dot\"},\"name\":\"-epsilon\",\"x\":[1990.0,1990.2727272727273,1990.5454545454545,1990.8181818181818,1991.090909090909,1991.3636363636363,1991.6363636363637,1991.909090909091,1992.1818181818182,1992.4545454545455,1992.7272727272727,1993.0,1993.2727272727273,1993.5454545454545,1993.8181818181818,1994.090909090909,1994.3636363636363,1994.6363636363637,1994.909090909091,1995.1818181818182,1995.4545454545455,1995.7272727272727,1996.0,1996.2727272727273,1996.5454545454545,1996.8181818181818,1997.090909090909,1997.3636363636363,1997.6363636363637,1997.909090909091,1998.1818181818182,1998.4545454545455,1998.7272727272727,1999.0,1999.2727272727273,1999.5454545454545,1999.8181818181818,2000.090909090909,2000.3636363636363,2000.6363636363637,2000.909090909091,2001.1818181818182,2001.4545454545455,2001.7272727272727,2002.0,2002.2727272727273,2002.5454545454545,2002.8181818181818,2003.090909090909,2003.3636363636363,2003.6363636363637,2003.909090909091,2004.1818181818182,2004.4545454545455,2004.7272727272727,2005.0,2005.2727272727273,2005.5454545454545,2005.8181818181818,2006.090909090909,2006.3636363636363,2006.6363636363637,2006.909090909091,2007.1818181818182,2007.4545454545455,2007.7272727272727,2008.0,2008.2727272727273,2008.5454545454545,2008.8181818181818,2009.090909090909,2009.3636363636363,2009.6363636363637,2009.909090909091,2010.1818181818182,2010.4545454545455,2010.7272727272727,2011.0,2011.2727272727273,2011.5454545454545,2011.8181818181818,2012.090909090909,2012.3636363636363,2012.6363636363637,2012.909090909091,2013.1818181818182,2013.4545454545455,2013.7272727272727,2014.0,2014.2727272727273,2014.5454545454545,2014.8181818181818,2015.090909090909,2015.3636363636363,2015.6363636363637,2015.909090909091,2016.1818181818182,2016.4545454545455,2016.7272727272727,2017.0],\"y\":[-203.25602735730354,-192.75145127030555,-182.24687506409828,-171.7422989771003,-161.23772277089301,-150.73314656468574,-140.22857047768775,-129.72399439068977,-119.2194180652732,-108.71484197827522,-98.21026589127723,-87.70568980427925,-77.20111359807197,-66.69653751107398,-56.19196130486671,-45.68738509865943,-35.18280889245216,-24.67823292466346,-14.173656718456186,-3.669080512248911,6.835495693958364,17.34007166174706,27.844647867954336,38.34922407416161,48.8538001611596,59.35837636736687,69.86295245436486,80.36752877978142,90.87210462836083,101.3766808345681,111.88125715998467,122.38583336619195,132.89040933398064,143.39498554018792,153.8995616271859,164.40413783339318,174.90871380118188,185.41329012659844,195.91786633280572,206.4224423005944,216.9270185068017,227.43159483221825,237.93617103842553,248.44074700621422,258.9453232124215,269.4498992994195,279.95447550562676,290.45905147341546,300.963627798832,311.4682040050393,321.972779972828,332.47735617903527,342.98193250445183,353.4865085914498,363.9910846784478,374.4956607654458,385.00023697165307,395.50481305865105,406.00938914564904,416.5139654710656,427.0185416772729,437.5231175258523,448.02769385126885,458.5322700574761,469.0368462636834,479.5414222314721,490.0459984376794,500.55057464388665,511.05515073088463,521.5597268178826,532.0643030240899,542.5688793495065,553.0734551980859,563.5780314042931,574.0826077297097,584.587183935917,595.0917599037057,605.596336109913,616.1009121969109,626.6054884031182,637.1100643709069,647.6146406963235,658.1192169025308,668.6237928703194,679.1283690765267,689.6329454019433,700.1375214889413,710.6420975759393,721.1466736629372,731.6512498691445,742.1558259561425,752.6604020431405,763.1649783685571,773.6695545747643,784.174130542553,794.6787067487603,805.1832830741769,815.6878591611749,826.1924352481728,836.6970113351708],\"type\":\"scatter\",\"marker\":{\"size\":3}}],                        {\"template\":{\"data\":{\"bar\":[{\"error_x\":{\"color\":\"#2a3f5f\"},\"error_y\":{\"color\":\"#2a3f5f\"},\"marker\":{\"line\":{\"color\":\"#E5ECF6\",\"width\":0.5},\"pattern\":{\"fillmode\":\"overlay\",\"size\":10,\"solidity\":0.2}},\"type\":\"bar\"}],\"barpolar\":[{\"marker\":{\"line\":{\"color\":\"#E5ECF6\",\"width\":0.5},\"pattern\":{\"fillmode\":\"overlay\",\"size\":10,\"solidity\":0.2}},\"type\":\"barpolar\"}],\"carpet\":[{\"aaxis\":{\"endlinecolor\":\"#2a3f5f\",\"gridcolor\":\"white\",\"linecolor\":\"white\",\"minorgridcolor\":\"white\",\"startlinecolor\":\"#2a3f5f\"},\"baxis\":{\"endlinecolor\":\"#2a3f5f\",\"gridcolor\":\"white\",\"linecolor\":\"white\",\"minorgridcolor\":\"white\",\"startlinecolor\":\"#2a3f5f\"},\"type\":\"carpet\"}],\"choropleth\":[{\"colorbar\":{\"outlinewidth\":0,\"ticks\":\"\"},\"type\":\"choropleth\"}],\"contour\":[{\"colorbar\":{\"outlinewidth\":0,\"ticks\":\"\"},\"colorscale\":[[0.0,\"#0d0887\"],[0.1111111111111111,\"#46039f\"],[0.2222222222222222,\"#7201a8\"],[0.3333333333333333,\"#9c179e\"],[0.4444444444444444,\"#bd3786\"],[0.5555555555555556,\"#d8576b\"],[0.6666666666666666,\"#ed7953\"],[0.7777777777777778,\"#fb9f3a\"],[0.8888888888888888,\"#fdca26\"],[1.0,\"#f0f921\"]],\"type\":\"contour\"}],\"contourcarpet\":[{\"colorbar\":{\"outlinewidth\":0,\"ticks\":\"\"},\"type\":\"contourcarpet\"}],\"heatmap\":[{\"colorbar\":{\"outlinewidth\":0,\"ticks\":\"\"},\"colorscale\":[[0.0,\"#0d0887\"],[0.1111111111111111,\"#46039f\"],[0.2222222222222222,\"#7201a8\"],[0.3333333333333333,\"#9c179e\"],[0.4444444444444444,\"#bd3786\"],[0.5555555555555556,\"#d8576b\"],[0.6666666666666666,\"#ed7953\"],[0.7777777777777778,\"#fb9f3a\"],[0.8888888888888888,\"#fdca26\"],[1.0,\"#f0f921\"]],\"type\":\"heatmap\"}],\"heatmapgl\":[{\"colorbar\":{\"outlinewidth\":0,\"ticks\":\"\"},\"colorscale\":[[0.0,\"#0d0887\"],[0.1111111111111111,\"#46039f\"],[0.2222222222222222,\"#7201a8\"],[0.3333333333333333,\"#9c179e\"],[0.4444444444444444,\"#bd3786\"],[0.5555555555555556,\"#d8576b\"],[0.6666666666666666,\"#ed7953\"],[0.7777777777777778,\"#fb9f3a\"],[0.8888888888888888,\"#fdca26\"],[1.0,\"#f0f921\"]],\"type\":\"heatmapgl\"}],\"histogram\":[{\"marker\":{\"pattern\":{\"fillmode\":\"overlay\",\"size\":10,\"solidity\":0.2}},\"type\":\"histogram\"}],\"histogram2d\":[{\"colorbar\":{\"outlinewidth\":0,\"ticks\":\"\"},\"colorscale\":[[0.0,\"#0d0887\"],[0.1111111111111111,\"#46039f\"],[0.2222222222222222,\"#7201a8\"],[0.3333333333333333,\"#9c179e\"],[0.4444444444444444,\"#bd3786\"],[0.5555555555555556,\"#d8576b\"],[0.6666666666666666,\"#ed7953\"],[0.7777777777777778,\"#fb9f3a\"],[0.8888888888888888,\"#fdca26\"],[1.0,\"#f0f921\"]],\"type\":\"histogram2d\"}],\"histogram2dcontour\":[{\"colorbar\":{\"outlinewidth\":0,\"ticks\":\"\"},\"colorscale\":[[0.0,\"#0d0887\"],[0.1111111111111111,\"#46039f\"],[0.2222222222222222,\"#7201a8\"],[0.3333333333333333,\"#9c179e\"],[0.4444444444444444,\"#bd3786\"],[0.5555555555555556,\"#d8576b\"],[0.6666666666666666,\"#ed7953\"],[0.7777777777777778,\"#fb9f3a\"],[0.8888888888888888,\"#fdca26\"],[1.0,\"#f0f921\"]],\"type\":\"histogram2dcontour\"}],\"mesh3d\":[{\"colorbar\":{\"outlinewidth\":0,\"ticks\":\"\"},\"type\":\"mesh3d\"}],\"parcoords\":[{\"line\":{\"colorbar\":{\"outlinewidth\":0,\"ticks\":\"\"}},\"type\":\"parcoords\"}],\"pie\":[{\"automargin\":true,\"type\":\"pie\"}],\"scatter\":[{\"marker\":{\"colorbar\":{\"outlinewidth\":0,\"ticks\":\"\"}},\"type\":\"scatter\"}],\"scatter3d\":[{\"line\":{\"colorbar\":{\"outlinewidth\":0,\"ticks\":\"\"}},\"marker\":{\"colorbar\":{\"outlinewidth\":0,\"ticks\":\"\"}},\"type\":\"scatter3d\"}],\"scattercarpet\":[{\"marker\":{\"colorbar\":{\"outlinewidth\":0,\"ticks\":\"\"}},\"type\":\"scattercarpet\"}],\"scattergeo\":[{\"marker\":{\"colorbar\":{\"outlinewidth\":0,\"ticks\":\"\"}},\"type\":\"scattergeo\"}],\"scattergl\":[{\"marker\":{\"colorbar\":{\"outlinewidth\":0,\"ticks\":\"\"}},\"type\":\"scattergl\"}],\"scattermapbox\":[{\"marker\":{\"colorbar\":{\"outlinewidth\":0,\"ticks\":\"\"}},\"type\":\"scattermapbox\"}],\"scatterpolar\":[{\"marker\":{\"colorbar\":{\"outlinewidth\":0,\"ticks\":\"\"}},\"type\":\"scatterpolar\"}],\"scatterpolargl\":[{\"marker\":{\"colorbar\":{\"outlinewidth\":0,\"ticks\":\"\"}},\"type\":\"scatterpolargl\"}],\"scatterternary\":[{\"marker\":{\"colorbar\":{\"outlinewidth\":0,\"ticks\":\"\"}},\"type\":\"scatterternary\"}],\"surface\":[{\"colorbar\":{\"outlinewidth\":0,\"ticks\":\"\"},\"colorscale\":[[0.0,\"#0d0887\"],[0.1111111111111111,\"#46039f\"],[0.2222222222222222,\"#7201a8\"],[0.3333333333333333,\"#9c179e\"],[0.4444444444444444,\"#bd3786\"],[0.5555555555555556,\"#d8576b\"],[0.6666666666666666,\"#ed7953\"],[0.7777777777777778,\"#fb9f3a\"],[0.8888888888888888,\"#fdca26\"],[1.0,\"#f0f921\"]],\"type\":\"surface\"}],\"table\":[{\"cells\":{\"fill\":{\"color\":\"#EBF0F8\"},\"line\":{\"color\":\"white\"}},\"header\":{\"fill\":{\"color\":\"#C8D4E3\"},\"line\":{\"color\":\"white\"}},\"type\":\"table\"}]},\"layout\":{\"annotationdefaults\":{\"arrowcolor\":\"#2a3f5f\",\"arrowhead\":0,\"arrowwidth\":1},\"autotypenumbers\":\"strict\",\"coloraxis\":{\"colorbar\":{\"outlinewidth\":0,\"ticks\":\"\"}},\"colorscale\":{\"diverging\":[[0,\"#8e0152\"],[0.1,\"#c51b7d\"],[0.2,\"#de77ae\"],[0.3,\"#f1b6da\"],[0.4,\"#fde0ef\"],[0.5,\"#f7f7f7\"],[0.6,\"#e6f5d0\"],[0.7,\"#b8e186\"],[0.8,\"#7fbc41\"],[0.9,\"#4d9221\"],[1,\"#276419\"]],\"sequential\":[[0.0,\"#0d0887\"],[0.1111111111111111,\"#46039f\"],[0.2222222222222222,\"#7201a8\"],[0.3333333333333333,\"#9c179e\"],[0.4444444444444444,\"#bd3786\"],[0.5555555555555556,\"#d8576b\"],[0.6666666666666666,\"#ed7953\"],[0.7777777777777778,\"#fb9f3a\"],[0.8888888888888888,\"#fdca26\"],[1.0,\"#f0f921\"]],\"sequentialminus\":[[0.0,\"#0d0887\"],[0.1111111111111111,\"#46039f\"],[0.2222222222222222,\"#7201a8\"],[0.3333333333333333,\"#9c179e\"],[0.4444444444444444,\"#bd3786\"],[0.5555555555555556,\"#d8576b\"],[0.6666666666666666,\"#ed7953\"],[0.7777777777777778,\"#fb9f3a\"],[0.8888888888888888,\"#fdca26\"],[1.0,\"#f0f921\"]]},\"colorway\":[\"#636efa\",\"#EF553B\",\"#00cc96\",\"#ab63fa\",\"#FFA15A\",\"#19d3f3\",\"#FF6692\",\"#B6E880\",\"#FF97FF\",\"#FECB52\"],\"font\":{\"color\":\"#2a3f5f\"},\"geo\":{\"bgcolor\":\"white\",\"lakecolor\":\"white\",\"landcolor\":\"#E5ECF6\",\"showlakes\":true,\"showland\":true,\"subunitcolor\":\"white\"},\"hoverlabel\":{\"align\":\"left\"},\"hovermode\":\"closest\",\"mapbox\":{\"style\":\"light\"},\"paper_bgcolor\":\"white\",\"plot_bgcolor\":\"#E5ECF6\",\"polar\":{\"angularaxis\":{\"gridcolor\":\"white\",\"linecolor\":\"white\",\"ticks\":\"\"},\"bgcolor\":\"#E5ECF6\",\"radialaxis\":{\"gridcolor\":\"white\",\"linecolor\":\"white\",\"ticks\":\"\"}},\"scene\":{\"xaxis\":{\"backgroundcolor\":\"#E5ECF6\",\"gridcolor\":\"white\",\"gridwidth\":2,\"linecolor\":\"white\",\"showbackground\":true,\"ticks\":\"\",\"zerolinecolor\":\"white\"},\"yaxis\":{\"backgroundcolor\":\"#E5ECF6\",\"gridcolor\":\"white\",\"gridwidth\":2,\"linecolor\":\"white\",\"showbackground\":true,\"ticks\":\"\",\"zerolinecolor\":\"white\"},\"zaxis\":{\"backgroundcolor\":\"#E5ECF6\",\"gridcolor\":\"white\",\"gridwidth\":2,\"linecolor\":\"white\",\"showbackground\":true,\"ticks\":\"\",\"zerolinecolor\":\"white\"}},\"shapedefaults\":{\"line\":{\"color\":\"#2a3f5f\"}},\"ternary\":{\"aaxis\":{\"gridcolor\":\"white\",\"linecolor\":\"white\",\"ticks\":\"\"},\"baxis\":{\"gridcolor\":\"white\",\"linecolor\":\"white\",\"ticks\":\"\"},\"bgcolor\":\"#E5ECF6\",\"caxis\":{\"gridcolor\":\"white\",\"linecolor\":\"white\",\"ticks\":\"\"}},\"title\":{\"x\":0.05},\"xaxis\":{\"automargin\":true,\"gridcolor\":\"white\",\"linecolor\":\"white\",\"ticks\":\"\",\"title\":{\"standoff\":15},\"zerolinecolor\":\"white\",\"zerolinewidth\":2},\"yaxis\":{\"automargin\":true,\"gridcolor\":\"white\",\"linecolor\":\"white\",\"ticks\":\"\",\"title\":{\"standoff\":15},\"zerolinecolor\":\"white\",\"zerolinewidth\":2}}},\"xaxis\":{\"anchor\":\"y\",\"domain\":[0.0,1.0],\"title\":{\"text\":\"Year\"},\"showgrid\":true,\"gridwidth\":1,\"gridcolor\":\"lightgrey\",\"zeroline\":true,\"zerolinewidth\":1,\"zerolinecolor\":\"lightgrey\",\"showline\":true,\"linewidth\":1,\"linecolor\":\"black\"},\"yaxis\":{\"anchor\":\"x\",\"domain\":[0.0,1.0],\"title\":{\"text\":\"Hydropower (terawatt-hours)\"},\"showgrid\":true,\"gridwidth\":1,\"gridcolor\":\"lightgrey\",\"zeroline\":true,\"zerolinewidth\":1,\"zerolinecolor\":\"lightgrey\",\"showline\":true,\"linewidth\":1,\"linecolor\":\"black\"},\"legend\":{\"tracegroupgap\":0},\"margin\":{\"t\":60},\"plot_bgcolor\":\"white\",\"title\":{\"font\":{\"color\":\"black\"},\"text\":\"Hydropower Energy Consumption in China (epsilon=180, C=200)\"}},                        {\"responsive\": true}                    ).then(function(){\n",
       "                            \n",
       "var gd = document.getElementById('032b49e1-d41c-403a-824b-eeb58adf4bc6');\n",
       "var x = new MutationObserver(function (mutations, observer) {{\n",
       "        var display = window.getComputedStyle(gd).display;\n",
       "        if (!display || display === 'none') {{\n",
       "            console.log([gd, 'removed!']);\n",
       "            Plotly.purge(gd);\n",
       "            observer.disconnect();\n",
       "        }}\n",
       "}});\n",
       "\n",
       "// Listen for the removal of the full notebook cells\n",
       "var notebookContainer = gd.closest('#notebook-container');\n",
       "if (notebookContainer) {{\n",
       "    x.observe(notebookContainer, {childList: true});\n",
       "}}\n",
       "\n",
       "// Listen for the clearing of the current output cell\n",
       "var outputEl = gd.closest('.output');\n",
       "if (outputEl) {{\n",
       "    x.observe(outputEl, {childList: true});\n",
       "}}\n",
       "\n",
       "                        })                };                });            </script>        </div>"
      ]
     },
     "metadata": {},
     "output_type": "display_data"
    }
   ],
   "source": [
    "# Create a scatter plot\n",
    "fig = px.scatter(df, x=df['Year'], y=df['Hydropower (terawatt-hours)'], \n",
    "                 opacity=0.8, color_discrete_sequence=['black'])\n",
    "# Add a best-fit line\n",
    "fig.add_traces(go.Scatter(x=x_range, y=y_lr, name='Linear Regression', line=dict(color='limegreen')))\n",
    "fig.add_traces(go.Scatter(x=x_range, y=y_svr, name='Support Vector Regression', line=dict(color='red')))\n",
    "fig.add_traces(go.Scatter(x=x_range, y=y_svr+165, name='+epsilon', line=dict(color='red', dash='dot')))\n",
    "fig.add_traces(go.Scatter(x=x_range, y=y_svr-165, name='-epsilon', line=dict(color='red', dash='dot')))\n",
    "\n",
    "# Change chart background color\n",
    "fig.update_layout(dict(plot_bgcolor = 'white'))\n",
    "\n",
    "# Update axes lines\n",
    "fig.update_xaxes(showgrid=True, gridwidth=1, gridcolor='lightgrey', \n",
    "                 zeroline=True, zerolinewidth=1, zerolinecolor='lightgrey', \n",
    "                 showline=True, linewidth=1, linecolor='black')\n",
    "\n",
    "fig.update_yaxes(showgrid=True, gridwidth=1, gridcolor='lightgrey', \n",
    "                 zeroline=True, zerolinewidth=1, zerolinecolor='lightgrey', \n",
    "                 showline=True, linewidth=1, linecolor='black')\n",
    "\n",
    "# Set figure title\n",
    "fig.update_layout(title=dict(text=\"Hydropower Energy Consumption in China (epsilon=180, C=200)\", \n",
    "                             font=dict(color='black')))\n",
    "\n",
    "# Update marker size\n",
    "fig.update_traces(marker=dict(size=3))\n",
    "\n",
    "fig.show()"
   ]
  },
  {
   "cell_type": "code",
   "execution_count": 471,
   "id": "2dede20f",
   "metadata": {
    "colab": {
     "base_uri": "https://localhost:8080/"
    },
    "id": "2dede20f",
    "outputId": "55c14858-ab91-4402-910a-e761682de2e4"
   },
   "outputs": [
    {
     "data": {
      "text/plain": [
       "array([308.39498554, 963.18023215, 770.59633611, 423.94532321,\n",
       "       154.32786868, 385.42854403, 924.66345297, 809.11311529,\n",
       "       192.84464787])"
      ]
     },
     "execution_count": 471,
     "metadata": {},
     "output_type": "execute_result"
    }
   ],
   "source": [
    "#5 Predicting a new result\n",
    "y_pred = svr.predict(X_test)\n",
    "y_pred"
   ]
  },
  {
   "cell_type": "code",
   "execution_count": 472,
   "id": "d2095d54",
   "metadata": {
    "colab": {
     "base_uri": "https://localhost:8080/"
    },
    "id": "d2095d54",
    "outputId": "8adbd540-0dad-407e-93c1-f120943a692b"
   },
   "outputs": [
    {
     "name": "stdout",
     "output_type": "stream",
     "text": [
      "R squared: 88.45\n",
      "Mean Absolute Error is:  101.45435418481912\n",
      "Mean Squared Error is:  13985.290207788397\n",
      "Root Mean Squared Error is:  118.25941910811332\n"
     ]
    }
   ],
   "source": [
    "#Accuracy for SVR\n",
    "mse = metrics.mean_squared_error(y_test, y_pred)\n",
    "rmse = np.sqrt(mse)\n",
    "meanAbErr = metrics.mean_absolute_error(y_test, y_pred)\n",
    "\n",
    "\n",
    "print('R squared: {:.2f}'.format(svr.score(X,y)*100))\n",
    "print('Mean Absolute Error is: ', meanAbErr)\n",
    "print(\"Mean Squared Error is: \", mse)\n",
    "print(\"Root Mean Squared Error is: \", rmse)"
   ]
  },
  {
   "cell_type": "code",
   "execution_count": 473,
   "id": "25f1d919",
   "metadata": {
    "colab": {
     "base_uri": "https://localhost:8080/",
     "height": 328
    },
    "id": "25f1d919",
    "outputId": "8f1c58cd-3b35-4ef1-a538-59220847cb55"
   },
   "outputs": [
    {
     "data": {
      "text/html": [
       "<div>\n",
       "<style scoped>\n",
       "    .dataframe tbody tr th:only-of-type {\n",
       "        vertical-align: middle;\n",
       "    }\n",
       "\n",
       "    .dataframe tbody tr th {\n",
       "        vertical-align: top;\n",
       "    }\n",
       "\n",
       "    .dataframe thead th {\n",
       "        text-align: right;\n",
       "    }\n",
       "</style>\n",
       "<table border=\"1\" class=\"dataframe\">\n",
       "  <thead>\n",
       "    <tr style=\"text-align: right;\">\n",
       "      <th></th>\n",
       "      <th>Predicted</th>\n",
       "      <th>Actual</th>\n",
       "    </tr>\n",
       "  </thead>\n",
       "  <tbody>\n",
       "    <tr>\n",
       "      <th>0</th>\n",
       "      <td>308.394986</td>\n",
       "      <td>196.58000</td>\n",
       "    </tr>\n",
       "    <tr>\n",
       "      <th>1</th>\n",
       "      <td>963.180232</td>\n",
       "      <td>1153.26950</td>\n",
       "    </tr>\n",
       "    <tr>\n",
       "      <th>2</th>\n",
       "      <td>770.596336</td>\n",
       "      <td>688.04500</td>\n",
       "    </tr>\n",
       "    <tr>\n",
       "      <th>3</th>\n",
       "      <td>423.945323</td>\n",
       "      <td>287.97000</td>\n",
       "    </tr>\n",
       "    <tr>\n",
       "      <th>4</th>\n",
       "      <td>154.327869</td>\n",
       "      <td>190.58000</td>\n",
       "    </tr>\n",
       "    <tr>\n",
       "      <th>5</th>\n",
       "      <td>385.428544</td>\n",
       "      <td>277.43000</td>\n",
       "    </tr>\n",
       "    <tr>\n",
       "      <th>6</th>\n",
       "      <td>924.663453</td>\n",
       "      <td>1114.51541</td>\n",
       "    </tr>\n",
       "    <tr>\n",
       "      <th>7</th>\n",
       "      <td>809.113115</td>\n",
       "      <td>862.79411</td>\n",
       "    </tr>\n",
       "    <tr>\n",
       "      <th>8</th>\n",
       "      <td>192.844648</td>\n",
       "      <td>187.97000</td>\n",
       "    </tr>\n",
       "  </tbody>\n",
       "</table>\n",
       "</div>"
      ],
      "text/plain": [
       "    Predicted      Actual\n",
       "0  308.394986   196.58000\n",
       "1  963.180232  1153.26950\n",
       "2  770.596336   688.04500\n",
       "3  423.945323   287.97000\n",
       "4  154.327869   190.58000\n",
       "5  385.428544   277.43000\n",
       "6  924.663453  1114.51541\n",
       "7  809.113115   862.79411\n",
       "8  192.844648   187.97000"
      ]
     },
     "execution_count": 473,
     "metadata": {},
     "output_type": "execute_result"
    }
   ],
   "source": [
    "data = {'Predicted':y_pred, 'Actual':y_test}\n",
    "\n",
    "comparison = pd.DataFrame(data)\n",
    "comparison"
   ]
  },
  {
   "cell_type": "code",
   "execution_count": 474,
   "id": "397a676c",
   "metadata": {},
   "outputs": [
    {
     "data": {
      "text/plain": [
       "array([305.25862871, 927.91089593, 744.77787616, 415.13844057,\n",
       "       158.7522129 , 378.51183662, 891.28429197, 781.40448011,\n",
       "       195.37881685])"
      ]
     },
     "execution_count": 474,
     "metadata": {},
     "output_type": "execute_result"
    }
   ],
   "source": [
    "#5 Predicting a new result\n",
    "y_pred = lr.predict(X_test)\n",
    "y_pred"
   ]
  },
  {
   "cell_type": "code",
   "execution_count": 475,
   "id": "e330675e",
   "metadata": {},
   "outputs": [
    {
     "name": "stdout",
     "output_type": "stream",
     "text": [
      "R squared: 87.92\n",
      "Mean Absolute Error is:  106.98641533442948\n",
      "Mean Squared Error is:  16636.64627640129\n",
      "Root Mean Squared Error is:  128.98312399845682\n"
     ]
    }
   ],
   "source": [
    "#Accuracy for Linear Regression\n",
    "mse = metrics.mean_squared_error(y_test, y_pred)\n",
    "rmse = np.sqrt(mse)\n",
    "meanAbErr = metrics.mean_absolute_error(y_test, y_pred)\n",
    "\n",
    "\n",
    "print('R squared: {:.2f}'.format(lr.score(X,y)*100))\n",
    "print('Mean Absolute Error is: ', meanAbErr)\n",
    "print(\"Mean Squared Error is: \", mse)\n",
    "print(\"Root Mean Squared Error is: \", rmse)"
   ]
  },
  {
   "cell_type": "code",
   "execution_count": 476,
   "id": "85caf0d8",
   "metadata": {},
   "outputs": [
    {
     "data": {
      "text/html": [
       "<div>\n",
       "<style scoped>\n",
       "    .dataframe tbody tr th:only-of-type {\n",
       "        vertical-align: middle;\n",
       "    }\n",
       "\n",
       "    .dataframe tbody tr th {\n",
       "        vertical-align: top;\n",
       "    }\n",
       "\n",
       "    .dataframe thead th {\n",
       "        text-align: right;\n",
       "    }\n",
       "</style>\n",
       "<table border=\"1\" class=\"dataframe\">\n",
       "  <thead>\n",
       "    <tr style=\"text-align: right;\">\n",
       "      <th></th>\n",
       "      <th>Predicted</th>\n",
       "      <th>Actual</th>\n",
       "    </tr>\n",
       "  </thead>\n",
       "  <tbody>\n",
       "    <tr>\n",
       "      <th>0</th>\n",
       "      <td>305.258629</td>\n",
       "      <td>196.58000</td>\n",
       "    </tr>\n",
       "    <tr>\n",
       "      <th>1</th>\n",
       "      <td>927.910896</td>\n",
       "      <td>1153.26950</td>\n",
       "    </tr>\n",
       "    <tr>\n",
       "      <th>2</th>\n",
       "      <td>744.777876</td>\n",
       "      <td>688.04500</td>\n",
       "    </tr>\n",
       "    <tr>\n",
       "      <th>3</th>\n",
       "      <td>415.138441</td>\n",
       "      <td>287.97000</td>\n",
       "    </tr>\n",
       "    <tr>\n",
       "      <th>4</th>\n",
       "      <td>158.752213</td>\n",
       "      <td>190.58000</td>\n",
       "    </tr>\n",
       "    <tr>\n",
       "      <th>5</th>\n",
       "      <td>378.511837</td>\n",
       "      <td>277.43000</td>\n",
       "    </tr>\n",
       "    <tr>\n",
       "      <th>6</th>\n",
       "      <td>891.284292</td>\n",
       "      <td>1114.51541</td>\n",
       "    </tr>\n",
       "    <tr>\n",
       "      <th>7</th>\n",
       "      <td>781.404480</td>\n",
       "      <td>862.79411</td>\n",
       "    </tr>\n",
       "    <tr>\n",
       "      <th>8</th>\n",
       "      <td>195.378817</td>\n",
       "      <td>187.97000</td>\n",
       "    </tr>\n",
       "  </tbody>\n",
       "</table>\n",
       "</div>"
      ],
      "text/plain": [
       "    Predicted      Actual\n",
       "0  305.258629   196.58000\n",
       "1  927.910896  1153.26950\n",
       "2  744.777876   688.04500\n",
       "3  415.138441   287.97000\n",
       "4  158.752213   190.58000\n",
       "5  378.511837   277.43000\n",
       "6  891.284292  1114.51541\n",
       "7  781.404480   862.79411\n",
       "8  195.378817   187.97000"
      ]
     },
     "execution_count": 476,
     "metadata": {},
     "output_type": "execute_result"
    }
   ],
   "source": [
    "data = {'Predicted':y_pred, 'Actual':y_test}\n",
    "\n",
    "comparison = pd.DataFrame(data)\n",
    "comparison"
   ]
  },
  {
   "cell_type": "code",
   "execution_count": 477,
   "id": "68a36e67",
   "metadata": {
    "id": "68a36e67"
   },
   "outputs": [],
   "source": [
    "# ------- Support Vector regression using entire dataset as training set -------\n",
    "model2 = SVR(kernel='linear', C=400, epsilon=165) # set kernel and hyperparameters\n",
    "svr = model2.fit(X, y)\n"
   ]
  },
  {
   "cell_type": "code",
   "execution_count": 478,
   "id": "102693b0",
   "metadata": {
    "colab": {
     "base_uri": "https://localhost:8080/"
    },
    "id": "102693b0",
    "outputId": "b7e31851-c3a7-4522-9bc5-e4d1ed9a15e4"
   },
   "outputs": [
    {
     "data": {
      "text/plain": [
       "array([1068.04798245, 1107.55883992, 1147.06969738, 1186.58055496,\n",
       "       1226.09141243, 1265.60226989, 1305.11312747, 1344.62398493,\n",
       "       1384.13484252, 1423.64569986, 1463.15655732, 1502.6674149 ,\n",
       "       1542.17827237, 1581.68912983, 1621.19998741, 1660.71084487,\n",
       "       1700.22170246, 1739.73255992, 1779.24341726, 1818.75427485,\n",
       "       1858.26513231, 1897.77598977, 1937.28684735, 1976.79770482,\n",
       "       2016.3085624 , 2055.81941986, 2095.33027732, 2134.84113491,\n",
       "       2174.35199225, 2213.86284971, 2253.37370729, 2292.88456476,\n",
       "       2332.39542234])"
      ]
     },
     "execution_count": 478,
     "metadata": {},
     "output_type": "execute_result"
    }
   ],
   "source": [
    "#predicting y values for future years using updated SVR model\n",
    "x_future = [[2018],[2019],[2020],[2021],[2022],[2023],[2024],[2025],[2026],[2027],[2028],[2029],[2030],[2031],[2032],[2033],[2034],[2035],[2036],[2037],[2038],[2039],[2040],[2041],[2042],[2043],[2044],[2045],[2046],[2047],[2048],[2049],[2050]]\n",
    "y_pred = svr.predict(x_future)\n",
    "y_pred"
   ]
  },
  {
   "cell_type": "code",
   "execution_count": 479,
   "id": "14e024cc",
   "metadata": {},
   "outputs": [
    {
     "data": {
      "text/plain": [
       "array([1068.04798245, 1107.55883992, 1147.06969738, 1186.58055496,\n",
       "       1226.09141243, 1265.60226989, 1305.11312747, 1344.62398493,\n",
       "       1384.13484252, 1423.64569986, 1463.15655732, 1502.6674149 ,\n",
       "       1542.17827237, 1581.68912983, 1621.19998741, 1660.71084487,\n",
       "       1700.22170246, 1739.73255992, 1779.24341726, 1818.75427485,\n",
       "       1858.26513231, 1897.77598977, 1937.28684735, 1976.79770482,\n",
       "       2016.3085624 , 2055.81941986, 2095.33027732, 2134.84113491,\n",
       "       2174.35199225, 2213.86284971, 2253.37370729, 2292.88456476,\n",
       "       2332.39542234])"
      ]
     },
     "execution_count": 479,
     "metadata": {},
     "output_type": "execute_result"
    }
   ],
   "source": [
    "net_consumption=y_pred\n",
    "net_consumption"
   ]
  },
  {
   "cell_type": "code",
   "execution_count": 480,
   "id": "PzFy1BSeA0MU",
   "metadata": {
    "colab": {
     "base_uri": "https://localhost:8080/"
    },
    "id": "PzFy1BSeA0MU",
    "outputId": "7d623e6a-cd14-4bb5-a296-ec94149471b1"
   },
   "outputs": [
    {
     "name": "stdout",
     "output_type": "stream",
     "text": [
      "Rate of Increase: 43.5686557380095\n"
     ]
    }
   ],
   "source": [
    "# Finding the Rate of Increase for Hydropower Consumption\n",
    "print (\"Rate of Increase:\", (y_pred[2] - 711.38314)/10)"
   ]
  },
  {
   "cell_type": "code",
   "execution_count": 481,
   "id": "c0612e43",
   "metadata": {},
   "outputs": [
    {
     "data": {
      "image/png": "[encoded data removed]",
      "text/plain": [
       "<Figure size 432x288 with 1 Axes>"
      ]
     },
     "metadata": {
      "needs_background": "light"
     },
     "output_type": "display_data"
    }
   ],
   "source": [
    "fig, ax = plt.subplots()\n",
    "ax.scatter(years,y_pred)\n",
    "ax.set_title('Predicted Hydropower Energy Consumption in China (epsilon=180, C=200)')\n",
    "ax.set_xlabel('Years')\n",
    "ax.set_ylabel('Energy Consumption')\n",
    "\n",
    "\n",
    "plt.show()"
   ]
  },
  {
   "cell_type": "markdown",
   "id": "10b21c03",
   "metadata": {
    "id": "10b21c03"
   },
   "source": [
    "# Solar"
   ]
  },
  {
   "cell_type": "code",
   "execution_count": 395,
   "id": "1660217f",
   "metadata": {
    "id": "1660217f"
   },
   "outputs": [],
   "source": [
    "# Use MinMax Scaling on Year and Solar\n",
    "df['Year (scaled)']=scaler.fit_transform(df[['Year']])\n",
    "df['Solar (scaled)']=scaler.fit_transform(df[['Solar (terawatt-hours)']])"
   ]
  },
  {
   "cell_type": "code",
   "execution_count": 482,
   "id": "86f32496",
   "metadata": {
    "colab": {
     "base_uri": "https://localhost:8080/",
     "height": 542
    },
    "id": "86f32496",
    "outputId": "a59ef5b7-c7a6-44dd-8f26-30270f0df736"
   },
   "outputs": [
    {
     "data": {
      "application/vnd.plotly.v1+json": {
       "config": {
        "plotlyServerURL": "https://plot.ly"
       },
       "data": [
        {
         "hovertemplate": "Year=%{x}<br>Solar (terawatt-hours)=%{y}<extra></extra>",
         "legendgroup": "",
         "marker": {
          "color": "black",
          "opacity": 0.8,
          "size": 5,
          "symbol": "circle"
         },
         "mode": "markers",
         "name": "",
         "orientation": "v",
         "showlegend": false,
         "type": "scatter",
         "x": [
          1990,
          1991,
          1992,
          1993,
          1994,
          1995,
          1996,
          1997,
          1998,
          1999,
          2000,
          2001,
          2002,
          2003,
          2004,
          2005,
          2006,
          2007,
          2008,
          2009,
          2010,
          2011,
          2012,
          2013,
          2014,
          2015,
          2016,
          2017
         ],
         "xaxis": "x",
         "y": [
          0.002,
          0.002,
          0.003,
          0.004,
          0.005,
          0.007,
          0.009,
          0.011,
          0.014,
          0.017,
          0.022,
          0.031,
          0.048,
          0.064,
          0.076,
          0.084,
          0.095,
          0.114,
          0.152,
          0.279,
          0.701,
          2.61,
          3.5945099,
          8.3738865,
          23.512156643,
          43.56,
          61.686,
          117.8
         ],
         "yaxis": "y"
        }
       ],
       "layout": {
        "legend": {
         "tracegroupgap": 0
        },
        "margin": {
         "t": 60
        },
        "plot_bgcolor": "white",
        "template": {
         "data": {
          "bar": [
           {
            "error_x": {
             "color": "#2a3f5f"
            },
            "error_y": {
             "color": "#2a3f5f"
            },
            "marker": {
             "line": {
              "color": "#E5ECF6",
              "width": 0.5
             },
             "pattern": {
              "fillmode": "overlay",
              "size": 10,
              "solidity": 0.2
             }
            },
            "type": "bar"
           }
          ],
          "barpolar": [
           {
            "marker": {
             "line": {
              "color": "#E5ECF6",
              "width": 0.5
             },
             "pattern": {
              "fillmode": "overlay",
              "size": 10,
              "solidity": 0.2
             }
            },
            "type": "barpolar"
           }
          ],
          "carpet": [
           {
            "aaxis": {
             "endlinecolor": "#2a3f5f",
             "gridcolor": "white",
             "linecolor": "white",
             "minorgridcolor": "white",
             "startlinecolor": "#2a3f5f"
            },
            "baxis": {
             "endlinecolor": "#2a3f5f",
             "gridcolor": "white",
             "linecolor": "white",
             "minorgridcolor": "white",
             "startlinecolor": "#2a3f5f"
            },
            "type": "carpet"
           }
          ],
          "choropleth": [
           {
            "colorbar": {
             "outlinewidth": 0,
             "ticks": ""
            },
            "type": "choropleth"
           }
          ],
          "contour": [
           {
            "colorbar": {
             "outlinewidth": 0,
             "ticks": ""
            },
            "colorscale": [
             [
              0,
              "#0d0887"
             ],
             [
              0.1111111111111111,
              "#46039f"
             ],
             [
              0.2222222222222222,
              "#7201a8"
             ],
             [
              0.3333333333333333,
              "#9c179e"
             ],
             [
              0.4444444444444444,
              "#bd3786"
             ],
             [
              0.5555555555555556,
              "#d8576b"
             ],
             [
              0.6666666666666666,
              "#ed7953"
             ],
             [
              0.7777777777777778,
              "#fb9f3a"
             ],
             [
              0.8888888888888888,
              "#fdca26"
             ],
             [
              1,
              "#f0f921"
             ]
            ],
            "type": "contour"
           }
          ],
          "contourcarpet": [
           {
            "colorbar": {
             "outlinewidth": 0,
             "ticks": ""
            },
            "type": "contourcarpet"
           }
          ],
          "heatmap": [
           {
            "colorbar": {
             "outlinewidth": 0,
             "ticks": ""
            },
            "colorscale": [
             [
              0,
              "#0d0887"
             ],
             [
              0.1111111111111111,
              "#46039f"
             ],
             [
              0.2222222222222222,
              "#7201a8"
             ],
             [
              0.3333333333333333,
              "#9c179e"
             ],
             [
              0.4444444444444444,
              "#bd3786"
             ],
             [
              0.5555555555555556,
              "#d8576b"
             ],
             [
              0.6666666666666666,
              "#ed7953"
             ],
             [
              0.7777777777777778,
              "#fb9f3a"
             ],
             [
              0.8888888888888888,
              "#fdca26"
             ],
             [
              1,
              "#f0f921"
             ]
            ],
            "type": "heatmap"
           }
          ],
          "heatmapgl": [
           {
            "colorbar": {
             "outlinewidth": 0,
             "ticks": ""
            },
            "colorscale": [
             [
              0,
              "#0d0887"
             ],
             [
              0.1111111111111111,
              "#46039f"
             ],
             [
              0.2222222222222222,
              "#7201a8"
             ],
             [
              0.3333333333333333,
              "#9c179e"
             ],
             [
              0.4444444444444444,
              "#bd3786"
             ],
             [
              0.5555555555555556,
              "#d8576b"
             ],
             [
              0.6666666666666666,
              "#ed7953"
             ],
             [
              0.7777777777777778,
              "#fb9f3a"
             ],
             [
              0.8888888888888888,
              "#fdca26"
             ],
             [
              1,
              "#f0f921"
             ]
            ],
            "type": "heatmapgl"
           }
          ],
          "histogram": [
           {
            "marker": {
             "pattern": {
              "fillmode": "overlay",
              "size": 10,
              "solidity": 0.2
             }
            },
            "type": "histogram"
           }
          ],
          "histogram2d": [
           {
            "colorbar": {
             "outlinewidth": 0,
             "ticks": ""
            },
            "colorscale": [
             [
              0,
              "#0d0887"
             ],
             [
              0.1111111111111111,
              "#46039f"
             ],
             [
              0.2222222222222222,
              "#7201a8"
             ],
             [
              0.3333333333333333,
              "#9c179e"
             ],
             [
              0.4444444444444444,
              "#bd3786"
             ],
             [
              0.5555555555555556,
              "#d8576b"
             ],
             [
              0.6666666666666666,
              "#ed7953"
             ],
             [
              0.7777777777777778,
              "#fb9f3a"
             ],
             [
              0.8888888888888888,
              "#fdca26"
             ],
             [
              1,
              "#f0f921"
             ]
            ],
            "type": "histogram2d"
           }
          ],
          "histogram2dcontour": [
           {
            "colorbar": {
             "outlinewidth": 0,
             "ticks": ""
            },
            "colorscale": [
             [
              0,
              "#0d0887"
             ],
             [
              0.1111111111111111,
              "#46039f"
             ],
             [
              0.2222222222222222,
              "#7201a8"
             ],
             [
              0.3333333333333333,
              "#9c179e"
             ],
             [
              0.4444444444444444,
              "#bd3786"
             ],
             [
              0.5555555555555556,
              "#d8576b"
             ],
             [
              0.6666666666666666,
              "#ed7953"
             ],
             [
              0.7777777777777778,
              "#fb9f3a"
             ],
             [
              0.8888888888888888,
              "#fdca26"
             ],
             [
              1,
              "#f0f921"
             ]
            ],
            "type": "histogram2dcontour"
           }
          ],
          "mesh3d": [
           {
            "colorbar": {
             "outlinewidth": 0,
             "ticks": ""
            },
            "type": "mesh3d"
           }
          ],
          "parcoords": [
           {
            "line": {
             "colorbar": {
              "outlinewidth": 0,
              "ticks": ""
             }
            },
            "type": "parcoords"
           }
          ],
          "pie": [
           {
            "automargin": true,
            "type": "pie"
           }
          ],
          "scatter": [
           {
            "marker": {
             "colorbar": {
              "outlinewidth": 0,
              "ticks": ""
             }
            },
            "type": "scatter"
           }
          ],
          "scatter3d": [
           {
            "line": {
             "colorbar": {
              "outlinewidth": 0,
              "ticks": ""
             }
            },
            "marker": {
             "colorbar": {
              "outlinewidth": 0,
              "ticks": ""
             }
            },
            "type": "scatter3d"
           }
          ],
          "scattercarpet": [
           {
            "marker": {
             "colorbar": {
              "outlinewidth": 0,
              "ticks": ""
             }
            },
            "type": "scattercarpet"
           }
          ],
          "scattergeo": [
           {
            "marker": {
             "colorbar": {
              "outlinewidth": 0,
              "ticks": ""
             }
            },
            "type": "scattergeo"
           }
          ],
          "scattergl": [
           {
            "marker": {
             "colorbar": {
              "outlinewidth": 0,
              "ticks": ""
             }
            },
            "type": "scattergl"
           }
          ],
          "scattermapbox": [
           {
            "marker": {
             "colorbar": {
              "outlinewidth": 0,
              "ticks": ""
             }
            },
            "type": "scattermapbox"
           }
          ],
          "scatterpolar": [
           {
            "marker": {
             "colorbar": {
              "outlinewidth": 0,
              "ticks": ""
             }
            },
            "type": "scatterpolar"
           }
          ],
          "scatterpolargl": [
           {
            "marker": {
             "colorbar": {
              "outlinewidth": 0,
              "ticks": ""
             }
            },
            "type": "scatterpolargl"
           }
          ],
          "scatterternary": [
           {
            "marker": {
             "colorbar": {
              "outlinewidth": 0,
              "ticks": ""
             }
            },
            "type": "scatterternary"
           }
          ],
          "surface": [
           {
            "colorbar": {
             "outlinewidth": 0,
             "ticks": ""
            },
            "colorscale": [
             [
              0,
              "#0d0887"
             ],
             [
              0.1111111111111111,
              "#46039f"
             ],
             [
              0.2222222222222222,
              "#7201a8"
             ],
             [
              0.3333333333333333,
              "#9c179e"
             ],
             [
              0.4444444444444444,
              "#bd3786"
             ],
             [
              0.5555555555555556,
              "#d8576b"
             ],
             [
              0.6666666666666666,
              "#ed7953"
             ],
             [
              0.7777777777777778,
              "#fb9f3a"
             ],
             [
              0.8888888888888888,
              "#fdca26"
             ],
             [
              1,
              "#f0f921"
             ]
            ],
            "type": "surface"
           }
          ],
          "table": [
           {
            "cells": {
             "fill": {
              "color": "#EBF0F8"
             },
             "line": {
              "color": "white"
             }
            },
            "header": {
             "fill": {
              "color": "#C8D4E3"
             },
             "line": {
              "color": "white"
             }
            },
            "type": "table"
           }
          ]
         },
         "layout": {
          "annotationdefaults": {
           "arrowcolor": "#2a3f5f",
           "arrowhead": 0,
           "arrowwidth": 1
          },
          "autotypenumbers": "strict",
          "coloraxis": {
           "colorbar": {
            "outlinewidth": 0,
            "ticks": ""
           }
          },
          "colorscale": {
           "diverging": [
            [
             0,
             "#8e0152"
            ],
            [
             0.1,
             "#c51b7d"
            ],
            [
             0.2,
             "#de77ae"
            ],
            [
             0.3,
             "#f1b6da"
            ],
            [
             0.4,
             "#fde0ef"
            ],
            [
             0.5,
             "#f7f7f7"
            ],
            [
             0.6,
             "#e6f5d0"
            ],
            [
             0.7,
             "#b8e186"
            ],
            [
             0.8,
             "#7fbc41"
            ],
            [
             0.9,
             "#4d9221"
            ],
            [
             1,
             "#276419"
            ]
           ],
           "sequential": [
            [
             0,
             "#0d0887"
            ],
            [
             0.1111111111111111,
             "#46039f"
            ],
            [
             0.2222222222222222,
             "#7201a8"
            ],
            [
             0.3333333333333333,
             "#9c179e"
            ],
            [
             0.4444444444444444,
             "#bd3786"
            ],
            [
             0.5555555555555556,
             "#d8576b"
            ],
            [
             0.6666666666666666,
             "#ed7953"
            ],
            [
             0.7777777777777778,
             "#fb9f3a"
            ],
            [
             0.8888888888888888,
             "#fdca26"
            ],
            [
             1,
             "#f0f921"
            ]
           ],
           "sequentialminus": [
            [
             0,
             "#0d0887"
            ],
            [
             0.1111111111111111,
             "#46039f"
            ],
            [
             0.2222222222222222,
             "#7201a8"
            ],
            [
             0.3333333333333333,
             "#9c179e"
            ],
            [
             0.4444444444444444,
             "#bd3786"
            ],
            [
             0.5555555555555556,
             "#d8576b"
            ],
            [
             0.6666666666666666,
             "#ed7953"
            ],
            [
             0.7777777777777778,
             "#fb9f3a"
            ],
            [
             0.8888888888888888,
             "#fdca26"
            ],
            [
             1,
             "#f0f921"
            ]
           ]
          },
          "colorway": [
           "#636efa",
           "#EF553B",
           "#00cc96",
           "#ab63fa",
           "#FFA15A",
           "#19d3f3",
           "#FF6692",
           "#B6E880",
           "#FF97FF",
           "#FECB52"
          ],
          "font": {
           "color": "#2a3f5f"
          },
          "geo": {
           "bgcolor": "white",
           "lakecolor": "white",
           "landcolor": "#E5ECF6",
           "showlakes": true,
           "showland": true,
           "subunitcolor": "white"
          },
          "hoverlabel": {
           "align": "left"
          },
          "hovermode": "closest",
          "mapbox": {
           "style": "light"
          },
          "paper_bgcolor": "white",
          "plot_bgcolor": "#E5ECF6",
          "polar": {
           "angularaxis": {
            "gridcolor": "white",
            "linecolor": "white",
            "ticks": ""
           },
           "bgcolor": "#E5ECF6",
           "radialaxis": {
            "gridcolor": "white",
            "linecolor": "white",
            "ticks": ""
           }
          },
          "scene": {
           "xaxis": {
            "backgroundcolor": "#E5ECF6",
            "gridcolor": "white",
            "gridwidth": 2,
            "linecolor": "white",
            "showbackground": true,
            "ticks": "",
            "zerolinecolor": "white"
           },
           "yaxis": {
            "backgroundcolor": "#E5ECF6",
            "gridcolor": "white",
            "gridwidth": 2,
            "linecolor": "white",
            "showbackground": true,
            "ticks": "",
            "zerolinecolor": "white"
           },
           "zaxis": {
            "backgroundcolor": "#E5ECF6",
            "gridcolor": "white",
            "gridwidth": 2,
            "linecolor": "white",
            "showbackground": true,
            "ticks": "",
            "zerolinecolor": "white"
           }
          },
          "shapedefaults": {
           "line": {
            "color": "#2a3f5f"
           }
          },
          "ternary": {
           "aaxis": {
            "gridcolor": "white",
            "linecolor": "white",
            "ticks": ""
           },
           "baxis": {
            "gridcolor": "white",
            "linecolor": "white",
            "ticks": ""
           },
           "bgcolor": "#E5ECF6",
           "caxis": {
            "gridcolor": "white",
            "linecolor": "white",
            "ticks": ""
           }
          },
          "title": {
           "x": 0.05
          },
          "xaxis": {
           "automargin": true,
           "gridcolor": "white",
           "linecolor": "white",
           "ticks": "",
           "title": {
            "standoff": 15
           },
           "zerolinecolor": "white",
           "zerolinewidth": 2
          },
          "yaxis": {
           "automargin": true,
           "gridcolor": "white",
           "linecolor": "white",
           "ticks": "",
           "title": {
            "standoff": 15
           },
           "zerolinecolor": "white",
           "zerolinewidth": 2
          }
         }
        },
        "title": {
         "font": {
          "color": "black"
         },
         "text": "Solar Energy Consumption in China"
        },
        "xaxis": {
         "anchor": "y",
         "domain": [
          0,
          1
         ],
         "gridcolor": "lightgrey",
         "gridwidth": 1,
         "linecolor": "black",
         "linewidth": 1,
         "showgrid": true,
         "showline": true,
         "title": {
          "text": "Year"
         },
         "zeroline": true,
         "zerolinecolor": "lightgrey",
         "zerolinewidth": 1
        },
        "yaxis": {
         "anchor": "x",
         "domain": [
          0,
          1
         ],
         "gridcolor": "lightgrey",
         "gridwidth": 1,
         "linecolor": "black",
         "linewidth": 1,
         "showgrid": true,
         "showline": true,
         "title": {
          "text": "Solar (terawatt-hours)"
         },
         "zeroline": true,
         "zerolinecolor": "lightgrey",
         "zerolinewidth": 1
        }
       }
      },
      "text/html": [
       "<div>                            <div id=\"80573252-71f4-4d21-badc-2816ab9dac75\" class=\"plotly-graph-div\" style=\"height:525px; width:100%;\"></div>            <script type=\"text/javascript\">                require([\"plotly\"], function(Plotly) {                    window.PLOTLYENV=window.PLOTLYENV || {};                                    if (document.getElementById(\"80573252-71f4-4d21-badc-2816ab9dac75\")) {                    Plotly.newPlot(                        \"80573252-71f4-4d21-badc-2816ab9dac75\",                        [{\"hovertemplate\":\"Year=%{x}<br>Solar (terawatt-hours)=%{y}<extra></extra>\",\"legendgroup\":\"\",\"marker\":{\"color\":\"black\",\"opacity\":0.8,\"symbol\":\"circle\",\"size\":5},\"mode\":\"markers\",\"name\":\"\",\"orientation\":\"v\",\"showlegend\":false,\"x\":[1990,1991,1992,1993,1994,1995,1996,1997,1998,1999,2000,2001,2002,2003,2004,2005,2006,2007,2008,2009,2010,2011,2012,2013,2014,2015,2016,2017],\"xaxis\":\"x\",\"y\":[0.002,0.002,0.003,0.004,0.005,0.007,0.009,0.011,0.014,0.017,0.022,0.031,0.048,0.064,0.076,0.084,0.095,0.114,0.152,0.279,0.701,2.61,3.5945099,8.3738865,23.512156643,43.56,61.686,117.8],\"yaxis\":\"y\",\"type\":\"scatter\"}],                        {\"template\":{\"data\":{\"bar\":[{\"error_x\":{\"color\":\"#2a3f5f\"},\"error_y\":{\"color\":\"#2a3f5f\"},\"marker\":{\"line\":{\"color\":\"#E5ECF6\",\"width\":0.5},\"pattern\":{\"fillmode\":\"overlay\",\"size\":10,\"solidity\":0.2}},\"type\":\"bar\"}],\"barpolar\":[{\"marker\":{\"line\":{\"color\":\"#E5ECF6\",\"width\":0.5},\"pattern\":{\"fillmode\":\"overlay\",\"size\":10,\"solidity\":0.2}},\"type\":\"barpolar\"}],\"carpet\":[{\"aaxis\":{\"endlinecolor\":\"#2a3f5f\",\"gridcolor\":\"white\",\"linecolor\":\"white\",\"minorgridcolor\":\"white\",\"startlinecolor\":\"#2a3f5f\"},\"baxis\":{\"endlinecolor\":\"#2a3f5f\",\"gridcolor\":\"white\",\"linecolor\":\"white\",\"minorgridcolor\":\"white\",\"startlinecolor\":\"#2a3f5f\"},\"type\":\"carpet\"}],\"choropleth\":[{\"colorbar\":{\"outlinewidth\":0,\"ticks\":\"\"},\"type\":\"choropleth\"}],\"contour\":[{\"colorbar\":{\"outlinewidth\":0,\"ticks\":\"\"},\"colorscale\":[[0.0,\"#0d0887\"],[0.1111111111111111,\"#46039f\"],[0.2222222222222222,\"#7201a8\"],[0.3333333333333333,\"#9c179e\"],[0.4444444444444444,\"#bd3786\"],[0.5555555555555556,\"#d8576b\"],[0.6666666666666666,\"#ed7953\"],[0.7777777777777778,\"#fb9f3a\"],[0.8888888888888888,\"#fdca26\"],[1.0,\"#f0f921\"]],\"type\":\"contour\"}],\"contourcarpet\":[{\"colorbar\":{\"outlinewidth\":0,\"ticks\":\"\"},\"type\":\"contourcarpet\"}],\"heatmap\":[{\"colorbar\":{\"outlinewidth\":0,\"ticks\":\"\"},\"colorscale\":[[0.0,\"#0d0887\"],[0.1111111111111111,\"#46039f\"],[0.2222222222222222,\"#7201a8\"],[0.3333333333333333,\"#9c179e\"],[0.4444444444444444,\"#bd3786\"],[0.5555555555555556,\"#d8576b\"],[0.6666666666666666,\"#ed7953\"],[0.7777777777777778,\"#fb9f3a\"],[0.8888888888888888,\"#fdca26\"],[1.0,\"#f0f921\"]],\"type\":\"heatmap\"}],\"heatmapgl\":[{\"colorbar\":{\"outlinewidth\":0,\"ticks\":\"\"},\"colorscale\":[[0.0,\"#0d0887\"],[0.1111111111111111,\"#46039f\"],[0.2222222222222222,\"#7201a8\"],[0.3333333333333333,\"#9c179e\"],[0.4444444444444444,\"#bd3786\"],[0.5555555555555556,\"#d8576b\"],[0.6666666666666666,\"#ed7953\"],[0.7777777777777778,\"#fb9f3a\"],[0.8888888888888888,\"#fdca26\"],[1.0,\"#f0f921\"]],\"type\":\"heatmapgl\"}],\"histogram\":[{\"marker\":{\"pattern\":{\"fillmode\":\"overlay\",\"size\":10,\"solidity\":0.2}},\"type\":\"histogram\"}],\"histogram2d\":[{\"colorbar\":{\"outlinewidth\":0,\"ticks\":\"\"},\"colorscale\":[[0.0,\"#0d0887\"],[0.1111111111111111,\"#46039f\"],[0.2222222222222222,\"#7201a8\"],[0.3333333333333333,\"#9c179e\"],[0.4444444444444444,\"#bd3786\"],[0.5555555555555556,\"#d8576b\"],[0.6666666666666666,\"#ed7953\"],[0.7777777777777778,\"#fb9f3a\"],[0.8888888888888888,\"#fdca26\"],[1.0,\"#f0f921\"]],\"type\":\"histogram2d\"}],\"histogram2dcontour\":[{\"colorbar\":{\"outlinewidth\":0,\"ticks\":\"\"},\"colorscale\":[[0.0,\"#0d0887\"],[0.1111111111111111,\"#46039f\"],[0.2222222222222222,\"#7201a8\"],[0.3333333333333333,\"#9c179e\"],[0.4444444444444444,\"#bd3786\"],[0.5555555555555556,\"#d8576b\"],[0.6666666666666666,\"#ed7953\"],[0.7777777777777778,\"#fb9f3a\"],[0.8888888888888888,\"#fdca26\"],[1.0,\"#f0f921\"]],\"type\":\"histogram2dcontour\"}],\"mesh3d\":[{\"colorbar\":{\"outlinewidth\":0,\"ticks\":\"\"},\"type\":\"mesh3d\"}],\"parcoords\":[{\"line\":{\"colorbar\":{\"outlinewidth\":0,\"ticks\":\"\"}},\"type\":\"parcoords\"}],\"pie\":[{\"automargin\":true,\"type\":\"pie\"}],\"scatter\":[{\"marker\":{\"colorbar\":{\"outlinewidth\":0,\"ticks\":\"\"}},\"type\":\"scatter\"}],\"scatter3d\":[{\"line\":{\"colorbar\":{\"outlinewidth\":0,\"ticks\":\"\"}},\"marker\":{\"colorbar\":{\"outlinewidth\":0,\"ticks\":\"\"}},\"type\":\"scatter3d\"}],\"scattercarpet\":[{\"marker\":{\"colorbar\":{\"outlinewidth\":0,\"ticks\":\"\"}},\"type\":\"scattercarpet\"}],\"scattergeo\":[{\"marker\":{\"colorbar\":{\"outlinewidth\":0,\"ticks\":\"\"}},\"type\":\"scattergeo\"}],\"scattergl\":[{\"marker\":{\"colorbar\":{\"outlinewidth\":0,\"ticks\":\"\"}},\"type\":\"scattergl\"}],\"scattermapbox\":[{\"marker\":{\"colorbar\":{\"outlinewidth\":0,\"ticks\":\"\"}},\"type\":\"scattermapbox\"}],\"scatterpolar\":[{\"marker\":{\"colorbar\":{\"outlinewidth\":0,\"ticks\":\"\"}},\"type\":\"scatterpolar\"}],\"scatterpolargl\":[{\"marker\":{\"colorbar\":{\"outlinewidth\":0,\"ticks\":\"\"}},\"type\":\"scatterpolargl\"}],\"scatterternary\":[{\"marker\":{\"colorbar\":{\"outlinewidth\":0,\"ticks\":\"\"}},\"type\":\"scatterternary\"}],\"surface\":[{\"colorbar\":{\"outlinewidth\":0,\"ticks\":\"\"},\"colorscale\":[[0.0,\"#0d0887\"],[0.1111111111111111,\"#46039f\"],[0.2222222222222222,\"#7201a8\"],[0.3333333333333333,\"#9c179e\"],[0.4444444444444444,\"#bd3786\"],[0.5555555555555556,\"#d8576b\"],[0.6666666666666666,\"#ed7953\"],[0.7777777777777778,\"#fb9f3a\"],[0.8888888888888888,\"#fdca26\"],[1.0,\"#f0f921\"]],\"type\":\"surface\"}],\"table\":[{\"cells\":{\"fill\":{\"color\":\"#EBF0F8\"},\"line\":{\"color\":\"white\"}},\"header\":{\"fill\":{\"color\":\"#C8D4E3\"},\"line\":{\"color\":\"white\"}},\"type\":\"table\"}]},\"layout\":{\"annotationdefaults\":{\"arrowcolor\":\"#2a3f5f\",\"arrowhead\":0,\"arrowwidth\":1},\"autotypenumbers\":\"strict\",\"coloraxis\":{\"colorbar\":{\"outlinewidth\":0,\"ticks\":\"\"}},\"colorscale\":{\"diverging\":[[0,\"#8e0152\"],[0.1,\"#c51b7d\"],[0.2,\"#de77ae\"],[0.3,\"#f1b6da\"],[0.4,\"#fde0ef\"],[0.5,\"#f7f7f7\"],[0.6,\"#e6f5d0\"],[0.7,\"#b8e186\"],[0.8,\"#7fbc41\"],[0.9,\"#4d9221\"],[1,\"#276419\"]],\"sequential\":[[0.0,\"#0d0887\"],[0.1111111111111111,\"#46039f\"],[0.2222222222222222,\"#7201a8\"],[0.3333333333333333,\"#9c179e\"],[0.4444444444444444,\"#bd3786\"],[0.5555555555555556,\"#d8576b\"],[0.6666666666666666,\"#ed7953\"],[0.7777777777777778,\"#fb9f3a\"],[0.8888888888888888,\"#fdca26\"],[1.0,\"#f0f921\"]],\"sequentialminus\":[[0.0,\"#0d0887\"],[0.1111111111111111,\"#46039f\"],[0.2222222222222222,\"#7201a8\"],[0.3333333333333333,\"#9c179e\"],[0.4444444444444444,\"#bd3786\"],[0.5555555555555556,\"#d8576b\"],[0.6666666666666666,\"#ed7953\"],[0.7777777777777778,\"#fb9f3a\"],[0.8888888888888888,\"#fdca26\"],[1.0,\"#f0f921\"]]},\"colorway\":[\"#636efa\",\"#EF553B\",\"#00cc96\",\"#ab63fa\",\"#FFA15A\",\"#19d3f3\",\"#FF6692\",\"#B6E880\",\"#FF97FF\",\"#FECB52\"],\"font\":{\"color\":\"#2a3f5f\"},\"geo\":{\"bgcolor\":\"white\",\"lakecolor\":\"white\",\"landcolor\":\"#E5ECF6\",\"showlakes\":true,\"showland\":true,\"subunitcolor\":\"white\"},\"hoverlabel\":{\"align\":\"left\"},\"hovermode\":\"closest\",\"mapbox\":{\"style\":\"light\"},\"paper_bgcolor\":\"white\",\"plot_bgcolor\":\"#E5ECF6\",\"polar\":{\"angularaxis\":{\"gridcolor\":\"white\",\"linecolor\":\"white\",\"ticks\":\"\"},\"bgcolor\":\"#E5ECF6\",\"radialaxis\":{\"gridcolor\":\"white\",\"linecolor\":\"white\",\"ticks\":\"\"}},\"scene\":{\"xaxis\":{\"backgroundcolor\":\"#E5ECF6\",\"gridcolor\":\"white\",\"gridwidth\":2,\"linecolor\":\"white\",\"showbackground\":true,\"ticks\":\"\",\"zerolinecolor\":\"white\"},\"yaxis\":{\"backgroundcolor\":\"#E5ECF6\",\"gridcolor\":\"white\",\"gridwidth\":2,\"linecolor\":\"white\",\"showbackground\":true,\"ticks\":\"\",\"zerolinecolor\":\"white\"},\"zaxis\":{\"backgroundcolor\":\"#E5ECF6\",\"gridcolor\":\"white\",\"gridwidth\":2,\"linecolor\":\"white\",\"showbackground\":true,\"ticks\":\"\",\"zerolinecolor\":\"white\"}},\"shapedefaults\":{\"line\":{\"color\":\"#2a3f5f\"}},\"ternary\":{\"aaxis\":{\"gridcolor\":\"white\",\"linecolor\":\"white\",\"ticks\":\"\"},\"baxis\":{\"gridcolor\":\"white\",\"linecolor\":\"white\",\"ticks\":\"\"},\"bgcolor\":\"#E5ECF6\",\"caxis\":{\"gridcolor\":\"white\",\"linecolor\":\"white\",\"ticks\":\"\"}},\"title\":{\"x\":0.05},\"xaxis\":{\"automargin\":true,\"gridcolor\":\"white\",\"linecolor\":\"white\",\"ticks\":\"\",\"title\":{\"standoff\":15},\"zerolinecolor\":\"white\",\"zerolinewidth\":2},\"yaxis\":{\"automargin\":true,\"gridcolor\":\"white\",\"linecolor\":\"white\",\"ticks\":\"\",\"title\":{\"standoff\":15},\"zerolinecolor\":\"white\",\"zerolinewidth\":2}}},\"xaxis\":{\"anchor\":\"y\",\"domain\":[0.0,1.0],\"title\":{\"text\":\"Year\"},\"showgrid\":true,\"gridwidth\":1,\"gridcolor\":\"lightgrey\",\"zeroline\":true,\"zerolinewidth\":1,\"zerolinecolor\":\"lightgrey\",\"showline\":true,\"linewidth\":1,\"linecolor\":\"black\"},\"yaxis\":{\"anchor\":\"x\",\"domain\":[0.0,1.0],\"title\":{\"text\":\"Solar (terawatt-hours)\"},\"showgrid\":true,\"gridwidth\":1,\"gridcolor\":\"lightgrey\",\"zeroline\":true,\"zerolinewidth\":1,\"zerolinecolor\":\"lightgrey\",\"showline\":true,\"linewidth\":1,\"linecolor\":\"black\"},\"legend\":{\"tracegroupgap\":0},\"margin\":{\"t\":60},\"plot_bgcolor\":\"white\",\"title\":{\"font\":{\"color\":\"black\"},\"text\":\"Solar Energy Consumption in China\"}},                        {\"responsive\": true}                    ).then(function(){\n",
       "                            \n",
       "var gd = document.getElementById('80573252-71f4-4d21-badc-2816ab9dac75');\n",
       "var x = new MutationObserver(function (mutations, observer) {{\n",
       "        var display = window.getComputedStyle(gd).display;\n",
       "        if (!display || display === 'none') {{\n",
       "            console.log([gd, 'removed!']);\n",
       "            Plotly.purge(gd);\n",
       "            observer.disconnect();\n",
       "        }}\n",
       "}});\n",
       "\n",
       "// Listen for the removal of the full notebook cells\n",
       "var notebookContainer = gd.closest('#notebook-container');\n",
       "if (notebookContainer) {{\n",
       "    x.observe(notebookContainer, {childList: true});\n",
       "}}\n",
       "\n",
       "// Listen for the clearing of the current output cell\n",
       "var outputEl = gd.closest('.output');\n",
       "if (outputEl) {{\n",
       "    x.observe(outputEl, {childList: true});\n",
       "}}\n",
       "\n",
       "                        })                };                });            </script>        </div>"
      ]
     },
     "metadata": {},
     "output_type": "display_data"
    }
   ],
   "source": [
    "# Create a scatter plot\n",
    "fig = px.scatter(df, x=df['Year'], y=df['Solar (terawatt-hours)'], \n",
    "                 opacity=0.8, color_discrete_sequence=['black'])\n",
    "# Change chart background color\n",
    "fig.update_layout(dict(plot_bgcolor = 'white'))\n",
    "\n",
    "# Update axes lines\n",
    "fig.update_xaxes(showgrid=True, gridwidth=1, gridcolor='lightgrey', \n",
    "                 zeroline=True, zerolinewidth=1, zerolinecolor='lightgrey', \n",
    "                 showline=True, linewidth=1, linecolor='black')\n",
    "\n",
    "fig.update_yaxes(showgrid=True, gridwidth=1, gridcolor='lightgrey', \n",
    "                 zeroline=True, zerolinewidth=1, zerolinecolor='lightgrey', \n",
    "                 showline=True, linewidth=1, linecolor='black')\n",
    "\n",
    "fig.update_yaxes(showgrid=True, gridwidth=1, gridcolor='lightgrey', \n",
    "                 zeroline=True, zerolinewidth=1, zerolinecolor='lightgrey', \n",
    "                 showline=True, linewidth=1, linecolor='black')\n",
    "\n",
    "# Set figure title\n",
    "fig.update_layout(title=dict(text=\"Solar Energy Consumption in China\", \n",
    "                             font=dict(color='black')))\n",
    "# Update marker size\n",
    "fig.update_traces(marker=dict(size=5))\n",
    "\n",
    "fig.show()\n",
    "\n"
   ]
  },
  {
   "cell_type": "code",
   "execution_count": 483,
   "id": "74bbb0fd",
   "metadata": {
    "id": "74bbb0fd"
   },
   "outputs": [],
   "source": [
    "# Note, we need X to be a 2D array, hence reshape\n",
    "X=df['Year'].values.reshape(-1,1)\n",
    "y=df['Solar (terawatt-hours)'].values\n",
    "\n",
    "X_train, X_test, y_train, y_test = train_test_split(X ,y, test_size=0.30, random_state=100)\n",
    "\n",
    "\n",
    "# ------- Linear regression -------\n",
    "model1 = LinearRegression()\n",
    "lr = model1.fit(X_train, y_train)\n",
    "\n",
    "# ------- Support Vector regression -------\n",
    "model2 = SVR(kernel='rbf', C=100, epsilon=15) # set kernel and hyperparameters\n",
    "svr = model2.fit(X_train, y_train)\n",
    "\n",
    "# ------- Predict a range of values based on the models for visualization -------\n",
    "# Create 100 evenly spaced points from smallest X to largest X\n",
    "x_range = np.linspace(X.min(), X.max(), 100)\n",
    "\n",
    "# Predict y values for our set of X values\n",
    "y_lr = model1.predict(x_range.reshape(-1, 1)) # Linear regression\n",
    "y_svr = model2.predict(x_range.reshape(-1, 1)) # SVR"
   ]
  },
  {
   "cell_type": "code",
   "execution_count": 484,
   "id": "507a8c25",
   "metadata": {
    "colab": {
     "base_uri": "https://localhost:8080/",
     "height": 542
    },
    "id": "507a8c25",
    "outputId": "88dc90a5-c0c8-4021-a983-716506deda05"
   },
   "outputs": [
    {
     "data": {
      "application/vnd.plotly.v1+json": {
       "config": {
        "plotlyServerURL": "https://plot.ly"
       },
       "data": [
        {
         "hovertemplate": "Year=%{x}<br>Solar (terawatt-hours)=%{y}<extra></extra>",
         "legendgroup": "",
         "marker": {
          "color": "black",
          "opacity": 0.8,
          "size": 3,
          "symbol": "circle"
         },
         "mode": "markers",
         "name": "",
         "orientation": "v",
         "showlegend": false,
         "type": "scatter",
         "x": [
          1990,
          1991,
          1992,
          1993,
          1994,
          1995,
          1996,
          1997,
          1998,
          1999,
          2000,
          2001,
          2002,
          2003,
          2004,
          2005,
          2006,
          2007,
          2008,
          2009,
          2010,
          2011,
          2012,
          2013,
          2014,
          2015,
          2016,
          2017
         ],
         "xaxis": "x",
         "y": [
          0.002,
          0.002,
          0.003,
          0.004,
          0.005,
          0.007,
          0.009,
          0.011,
          0.014,
          0.017,
          0.022,
          0.031,
          0.048,
          0.064,
          0.076,
          0.084,
          0.095,
          0.114,
          0.152,
          0.279,
          0.701,
          2.61,
          3.5945099,
          8.3738865,
          23.512156643,
          43.56,
          61.686,
          117.8
         ],
         "yaxis": "y"
        },
        {
         "line": {
          "color": "limegreen"
         },
         "marker": {
          "size": 3
         },
         "name": "Linear Regression",
         "type": "scatter",
         "x": [
          1990,
          1990.2727272727273,
          1990.5454545454545,
          1990.8181818181818,
          1991.090909090909,
          1991.3636363636363,
          1991.6363636363637,
          1991.909090909091,
          1992.1818181818182,
          1992.4545454545455,
          1992.7272727272727,
          1993,
          1993.2727272727273,
          1993.5454545454545,
          1993.8181818181818,
          1994.090909090909,
          1994.3636363636363,
          1994.6363636363637,
          1994.909090909091,
          1995.1818181818182,
          1995.4545454545455,
          1995.7272727272727,
          1996,
          1996.2727272727273,
          1996.5454545454545,
          1996.8181818181818,
          1997.090909090909,
          1997.3636363636363,
          1997.6363636363637,
          1997.909090909091,
          1998.1818181818182,
          1998.4545454545455,
          1998.7272727272727,
          1999,
          1999.2727272727273,
          1999.5454545454545,
          1999.8181818181818,
          2000.090909090909,
          2000.3636363636363,
          2000.6363636363637,
          2000.909090909091,
          2001.1818181818182,
          2001.4545454545455,
          2001.7272727272727,
          2002,
          2002.2727272727273,
          2002.5454545454545,
          2002.8181818181818,
          2003.090909090909,
          2003.3636363636363,
          2003.6363636363637,
          2003.909090909091,
          2004.1818181818182,
          2004.4545454545455,
          2004.7272727272727,
          2005,
          2005.2727272727273,
          2005.5454545454545,
          2005.8181818181818,
          2006.090909090909,
          2006.3636363636363,
          2006.6363636363637,
          2006.909090909091,
          2007.1818181818182,
          2007.4545454545455,
          2007.7272727272727,
          2008,
          2008.2727272727273,
          2008.5454545454545,
          2008.8181818181818,
          2009.090909090909,
          2009.3636363636363,
          2009.6363636363637,
          2009.909090909091,
          2010.1818181818182,
          2010.4545454545455,
          2010.7272727272727,
          2011,
          2011.2727272727273,
          2011.5454545454545,
          2011.8181818181818,
          2012.090909090909,
          2012.3636363636363,
          2012.6363636363637,
          2012.909090909091,
          2013.1818181818182,
          2013.4545454545455,
          2013.7272727272727,
          2014,
          2014.2727272727273,
          2014.5454545454545,
          2014.8181818181818,
          2015.090909090909,
          2015.3636363636363,
          2015.6363636363637,
          2015.909090909091,
          2016.1818181818182,
          2016.4545454545455,
          2016.7272727272727,
          2017
         ],
         "y": [
          -12.9766931290701,
          -12.526442794182913,
          -12.076192459295726,
          -11.625942124408539,
          -11.175691789521352,
          -10.725441454634165,
          -10.275191119746523,
          -9.824940784859336,
          -9.37469044997215,
          -8.924440115084963,
          -8.474189780197776,
          -8.023939445310589,
          -7.573689110423402,
          -7.123438775536215,
          -6.673188440649028,
          -6.222938105761841,
          -5.772687770875109,
          -5.322437435987467,
          -4.87218710110028,
          -4.4219367662130935,
          -3.9716864313259066,
          -3.5214360964387197,
          -3.071185761551533,
          -2.620935426664346,
          -2.170685091777159,
          -1.720434756889972,
          -1.2701844220027851,
          -0.8199340871155982,
          -0.3696837522279566,
          0.08056658265923033,
          0.5308169175464172,
          0.9810672524336042,
          1.431317587320791,
          1.8815679222075232,
          2.33181825709471,
          2.782068591981897,
          3.232318926869084,
          3.682569261756271,
          4.132819596643458,
          4.583069931531099,
          5.033320266418286,
          5.483570601305473,
          5.93382093619266,
          6.384071271079847,
          6.834321605967034,
          7.284571940854221,
          7.734822275741408,
          8.185072610628595,
          8.635322945515782,
          9.085573280402969,
          9.535823615290155,
          9.986073950177342,
          10.43632428506453,
          10.886574619951716,
          11.336824954838903,
          11.78707528972609,
          12.237325624613277,
          12.687575959500464,
          13.13782629438765,
          13.588076629274838,
          14.038326964162025,
          14.488577299049666,
          14.938827633936853,
          15.38907796882404,
          15.839328303711227,
          16.289578638598414,
          16.7398289734856,
          17.190079308372788,
          17.640329643259975,
          18.090579978146707,
          18.540830313033894,
          18.99108064792108,
          19.441330982808722,
          19.89158131769591,
          20.341831652583096,
          20.792081987470283,
          21.24233232235747,
          21.692582657244657,
          22.142832992131844,
          22.59308332701903,
          23.043333661906217,
          23.493583996793404,
          23.94383433168059,
          24.394084666568233,
          24.84433500145542,
          25.294585336342152,
          25.74483567122934,
          26.195086006116526,
          26.645336341003713,
          27.0955866758909,
          27.545837010778087,
          27.996087345665273,
          28.44633768055246,
          28.896588015439647,
          29.34683835032729,
          29.797088685214476,
          30.247339020101663,
          30.69758935498885,
          31.147839689876037,
          31.598090024763223
         ]
        },
        {
         "line": {
          "color": "red"
         },
         "marker": {
          "size": 3
         },
         "name": "Support Vector Regression",
         "type": "scatter",
         "x": [
          1990,
          1990.2727272727273,
          1990.5454545454545,
          1990.8181818181818,
          1991.090909090909,
          1991.3636363636363,
          1991.6363636363637,
          1991.909090909091,
          1992.1818181818182,
          1992.4545454545455,
          1992.7272727272727,
          1993,
          1993.2727272727273,
          1993.5454545454545,
          1993.8181818181818,
          1994.090909090909,
          1994.3636363636363,
          1994.6363636363637,
          1994.909090909091,
          1995.1818181818182,
          1995.4545454545455,
          1995.7272727272727,
          1996,
          1996.2727272727273,
          1996.5454545454545,
          1996.8181818181818,
          1997.090909090909,
          1997.3636363636363,
          1997.6363636363637,
          1997.909090909091,
          1998.1818181818182,
          1998.4545454545455,
          1998.7272727272727,
          1999,
          1999.2727272727273,
          1999.5454545454545,
          1999.8181818181818,
          2000.090909090909,
          2000.3636363636363,
          2000.6363636363637,
          2000.909090909091,
          2001.1818181818182,
          2001.4545454545455,
          2001.7272727272727,
          2002,
          2002.2727272727273,
          2002.5454545454545,
          2002.8181818181818,
          2003.090909090909,
          2003.3636363636363,
          2003.6363636363637,
          2003.909090909091,
          2004.1818181818182,
          2004.4545454545455,
          2004.7272727272727,
          2005,
          2005.2727272727273,
          2005.5454545454545,
          2005.8181818181818,
          2006.090909090909,
          2006.3636363636363,
          2006.6363636363637,
          2006.909090909091,
          2007.1818181818182,
          2007.4545454545455,
          2007.7272727272727,
          2008,
          2008.2727272727273,
          2008.5454545454545,
          2008.8181818181818,
          2009.090909090909,
          2009.3636363636363,
          2009.6363636363637,
          2009.909090909091,
          2010.1818181818182,
          2010.4545454545455,
          2010.7272727272727,
          2011,
          2011.2727272727273,
          2011.5454545454545,
          2011.8181818181818,
          2012.090909090909,
          2012.3636363636363,
          2012.6363636363637,
          2012.909090909091,
          2013.1818181818182,
          2013.4545454545455,
          2013.7272727272727,
          2014,
          2014.2727272727273,
          2014.5454545454545,
          2014.8181818181818,
          2015.090909090909,
          2015.3636363636363,
          2015.6363636363637,
          2015.909090909091,
          2016.1818181818182,
          2016.4545454545455,
          2016.7272727272727,
          2017
         ],
         "y": [
          15.00178575269192,
          14.83370238069055,
          14.68316075192225,
          14.550263067287077,
          14.434994102184868,
          14.337221515625398,
          14.25669680569418,
          14.193056796486113,
          14.145825535266425,
          14.114416476615528,
          14.098134832884647,
          14.09617997755474,
          14.107647800035295,
          14.131532926925669,
          14.166730745519729,
          14.21203918996796,
          14.26616027850116,
          14.327701420832023,
          14.395176547548072,
          14.467007147164523,
          14.54152333061133,
          14.616965076329722,
          14.69148384084249,
          14.763144748623489,
          14.82992960030493,
          14.889740958730917,
          14.940407587142406,
          14.979691521978062,
          15.005297063603265,
          15.014881961048967,
          15.00607105099971,
          14.976472586407152,
          14.923697455987547,
          14.845381452431356,
          14.73921069455911,
          14.602950247256125,
          14.434475913390068,
          14.231809094868122,
          13.993154536566323,
          13.716940678333831,
          13.40186224814122,
          13.046924635408743,
          12.651489489550858,
          12.21532089686654,
          11.738631401356194,
          11.222127054184437,
          10.667050604758249,
          10.07522188618832,
          9.449074401650805,
          8.791687088176577,
          8.106810222815913,
          7.398884444887404,
          6.673051898732446,
          5.935158555376297,
          5.191746849513198,
          4.450037870710698,
          3.717902474430119,
          3.0038208286319446,
          2.316830083978971,
          1.6664600479395801,
          1.0626569527618237,
          0.5156956310496668,
          0.03608064665441546,
          -0.36556283162667924,
          -0.678607385306286,
          -0.8925496657587679,
          -0.9971431867507192,
          -0.9825358874034258,
          -0.8394105728441374,
          -0.5591261761159032,
          -0.13385765290237828,
          0.4432677750081844,
          1.1780403667512687,
          2.0750459504646876,
          3.1375546680321804,
          4.367422609366383,
          5.765008438255009,
          7.329106933503134,
          9.056901145349414,
          10.943934600991607,
          12.984104688773634,
          15.169678013478501,
          17.491328151531818,
          19.938195851887002,
          22.497971333736604,
          25.15699793437106,
          27.900395967928148,
          30.712205277395086,
          33.57554460633219,
          36.47278559172241,
          39.38573889262193,
          42.29584972768575,
          45.184399903953356,
          48.03271328413561,
          50.82236156339333,
          53.535367211186454,
          56.15440047980816,
          58.66296748756667,
          61.045586549165265,
          63.287950144611784
         ]
        },
        {
         "line": {
          "color": "red",
          "dash": "dot"
         },
         "marker": {
          "size": 3
         },
         "name": "+epsilon",
         "type": "scatter",
         "x": [
          1990,
          1990.2727272727273,
          1990.5454545454545,
          1990.8181818181818,
          1991.090909090909,
          1991.3636363636363,
          1991.6363636363637,
          1991.909090909091,
          1992.1818181818182,
          1992.4545454545455,
          1992.7272727272727,
          1993,
          1993.2727272727273,
          1993.5454545454545,
          1993.8181818181818,
          1994.090909090909,
          1994.3636363636363,
          1994.6363636363637,
          1994.909090909091,
          1995.1818181818182,
          1995.4545454545455,
          1995.7272727272727,
          1996,
          1996.2727272727273,
          1996.5454545454545,
          1996.8181818181818,
          1997.090909090909,
          1997.3636363636363,
          1997.6363636363637,
          1997.909090909091,
          1998.1818181818182,
          1998.4545454545455,
          1998.7272727272727,
          1999,
          1999.2727272727273,
          1999.5454545454545,
          1999.8181818181818,
          2000.090909090909,
          2000.3636363636363,
          2000.6363636363637,
          2000.909090909091,
          2001.1818181818182,
          2001.4545454545455,
          2001.7272727272727,
          2002,
          2002.2727272727273,
          2002.5454545454545,
          2002.8181818181818,
          2003.090909090909,
          2003.3636363636363,
          2003.6363636363637,
          2003.909090909091,
          2004.1818181818182,
          2004.4545454545455,
          2004.7272727272727,
          2005,
          2005.2727272727273,
          2005.5454545454545,
          2005.8181818181818,
          2006.090909090909,
          2006.3636363636363,
          2006.6363636363637,
          2006.909090909091,
          2007.1818181818182,
          2007.4545454545455,
          2007.7272727272727,
          2008,
          2008.2727272727273,
          2008.5454545454545,
          2008.8181818181818,
          2009.090909090909,
          2009.3636363636363,
          2009.6363636363637,
          2009.909090909091,
          2010.1818181818182,
          2010.4545454545455,
          2010.7272727272727,
          2011,
          2011.2727272727273,
          2011.5454545454545,
          2011.8181818181818,
          2012.090909090909,
          2012.3636363636363,
          2012.6363636363637,
          2012.909090909091,
          2013.1818181818182,
          2013.4545454545455,
          2013.7272727272727,
          2014,
          2014.2727272727273,
          2014.5454545454545,
          2014.8181818181818,
          2015.090909090909,
          2015.3636363636363,
          2015.6363636363637,
          2015.909090909091,
          2016.1818181818182,
          2016.4545454545455,
          2016.7272727272727,
          2017
         ],
         "y": [
          30.00178575269192,
          29.83370238069055,
          29.68316075192225,
          29.550263067287077,
          29.434994102184866,
          29.337221515625398,
          29.25669680569418,
          29.19305679648611,
          29.145825535266425,
          29.114416476615528,
          29.098134832884647,
          29.09617997755474,
          29.107647800035295,
          29.13153292692567,
          29.16673074551973,
          29.21203918996796,
          29.26616027850116,
          29.32770142083202,
          29.395176547548072,
          29.467007147164523,
          29.54152333061133,
          29.61696507632972,
          29.69148384084249,
          29.76314474862349,
          29.82992960030493,
          29.88974095873092,
          29.940407587142406,
          29.97969152197806,
          30.005297063603265,
          30.014881961048967,
          30.006071050999708,
          29.97647258640715,
          29.923697455987547,
          29.845381452431354,
          29.739210694559112,
          29.602950247256125,
          29.434475913390067,
          29.231809094868122,
          28.993154536566323,
          28.71694067833383,
          28.40186224814122,
          28.046924635408743,
          27.65148948955086,
          27.21532089686654,
          26.738631401356194,
          26.222127054184437,
          25.66705060475825,
          25.07522188618832,
          24.449074401650805,
          23.791687088176577,
          23.106810222815913,
          22.398884444887404,
          21.673051898732446,
          20.935158555376297,
          20.191746849513198,
          19.4500378707107,
          18.71790247443012,
          18.003820828631945,
          17.31683008397897,
          16.66646004793958,
          16.062656952761824,
          15.515695631049667,
          15.036080646654415,
          14.63443716837332,
          14.321392614693714,
          14.107450334241232,
          14.00285681324928,
          14.017464112596574,
          14.160589427155863,
          14.440873823884097,
          14.866142347097622,
          15.443267775008184,
          16.17804036675127,
          17.075045950464688,
          18.13755466803218,
          19.367422609366383,
          20.76500843825501,
          22.329106933503134,
          24.056901145349414,
          25.943934600991607,
          27.984104688773634,
          30.169678013478503,
          32.49132815153182,
          34.938195851887,
          37.4979713337366,
          40.15699793437106,
          42.90039596792815,
          45.712205277395086,
          48.57554460633219,
          51.47278559172241,
          54.38573889262193,
          57.29584972768575,
          60.184399903953356,
          63.03271328413561,
          65.82236156339333,
          68.53536721118645,
          71.15440047980816,
          73.66296748756668,
          76.04558654916526,
          78.28795014461178
         ]
        },
        {
         "line": {
          "color": "red",
          "dash": "dot"
         },
         "marker": {
          "size": 3
         },
         "name": "-epsilon",
         "type": "scatter",
         "x": [
          1990,
          1990.2727272727273,
          1990.5454545454545,
          1990.8181818181818,
          1991.090909090909,
          1991.3636363636363,
          1991.6363636363637,
          1991.909090909091,
          1992.1818181818182,
          1992.4545454545455,
          1992.7272727272727,
          1993,
          1993.2727272727273,
          1993.5454545454545,
          1993.8181818181818,
          1994.090909090909,
          1994.3636363636363,
          1994.6363636363637,
          1994.909090909091,
          1995.1818181818182,
          1995.4545454545455,
          1995.7272727272727,
          1996,
          1996.2727272727273,
          1996.5454545454545,
          1996.8181818181818,
          1997.090909090909,
          1997.3636363636363,
          1997.6363636363637,
          1997.909090909091,
          1998.1818181818182,
          1998.4545454545455,
          1998.7272727272727,
          1999,
          1999.2727272727273,
          1999.5454545454545,
          1999.8181818181818,
          2000.090909090909,
          2000.3636363636363,
          2000.6363636363637,
          2000.909090909091,
          2001.1818181818182,
          2001.4545454545455,
          2001.7272727272727,
          2002,
          2002.2727272727273,
          2002.5454545454545,
          2002.8181818181818,
          2003.090909090909,
          2003.3636363636363,
          2003.6363636363637,
          2003.909090909091,
          2004.1818181818182,
          2004.4545454545455,
          2004.7272727272727,
          2005,
          2005.2727272727273,
          2005.5454545454545,
          2005.8181818181818,
          2006.090909090909,
          2006.3636363636363,
          2006.6363636363637,
          2006.909090909091,
          2007.1818181818182,
          2007.4545454545455,
          2007.7272727272727,
          2008,
          2008.2727272727273,
          2008.5454545454545,
          2008.8181818181818,
          2009.090909090909,
          2009.3636363636363,
          2009.6363636363637,
          2009.909090909091,
          2010.1818181818182,
          2010.4545454545455,
          2010.7272727272727,
          2011,
          2011.2727272727273,
          2011.5454545454545,
          2011.8181818181818,
          2012.090909090909,
          2012.3636363636363,
          2012.6363636363637,
          2012.909090909091,
          2013.1818181818182,
          2013.4545454545455,
          2013.7272727272727,
          2014,
          2014.2727272727273,
          2014.5454545454545,
          2014.8181818181818,
          2015.090909090909,
          2015.3636363636363,
          2015.6363636363637,
          2015.909090909091,
          2016.1818181818182,
          2016.4545454545455,
          2016.7272727272727,
          2017
         ],
         "y": [
          0.0017857526919193845,
          -0.16629761930945008,
          -0.3168392480777502,
          -0.4497369327129235,
          -0.5650058978151318,
          -0.6627784843746021,
          -0.7433031943058204,
          -0.806943203513887,
          -0.8541744647335747,
          -0.8855835233844722,
          -0.9018651671153535,
          -0.9038200224452595,
          -0.892352199964705,
          -0.8684670730743314,
          -0.8332692544802711,
          -0.7879608100320397,
          -0.7338397214988408,
          -0.6722985791679772,
          -0.604823452451928,
          -0.532992852835477,
          -0.45847666938866993,
          -0.38303492367027836,
          -0.3085161591575094,
          -0.23685525137651098,
          -0.17007039969507076,
          -0.11025904126908337,
          -0.05959241285759376,
          -0.02030847802193847,
          0.005297063603265428,
          0.01488196104896744,
          0.006071050999709726,
          -0.02352741359284849,
          -0.07630254401245296,
          -0.1546185475686439,
          -0.2607893054408894,
          -0.3970497527438752,
          -0.5655240866099316,
          -0.7681909051318776,
          -1.0068454634336774,
          -1.283059321666169,
          -1.5981377518587792,
          -1.9530753645912569,
          -2.3485105104491417,
          -2.7846791031334597,
          -3.2613685986438057,
          -3.777872945815563,
          -4.3329493952417515,
          -4.92477811381168,
          -5.550925598349195,
          -6.208312911823423,
          -6.893189777184087,
          -7.601115555112596,
          -8.326948101267554,
          -9.064841444623703,
          -9.808253150486802,
          -10.549962129289302,
          -11.282097525569881,
          -11.996179171368055,
          -12.68316991602103,
          -13.33353995206042,
          -13.937343047238176,
          -14.484304368950333,
          -14.963919353345585,
          -15.36556283162668,
          -15.678607385306286,
          -15.892549665758768,
          -15.99714318675072,
          -15.982535887403426,
          -15.839410572844137,
          -15.559126176115903,
          -15.133857652902378,
          -14.556732224991816,
          -13.821959633248731,
          -12.924954049535312,
          -11.86244533196782,
          -10.632577390633617,
          -9.234991561744991,
          -7.670893066496866,
          -5.943098854650586,
          -4.056065399008393,
          -2.015895311226366,
          0.1696780134785012,
          2.4913281515318175,
          4.938195851887002,
          7.497971333736604,
          10.15699793437106,
          12.900395967928148,
          15.712205277395086,
          18.575544606332187,
          21.472785591722413,
          24.38573889262193,
          27.29584972768575,
          30.184399903953356,
          33.03271328413561,
          35.82236156339333,
          38.535367211186454,
          41.15440047980816,
          43.66296748756667,
          46.045586549165265,
          48.287950144611784
         ]
        }
       ],
       "layout": {
        "legend": {
         "tracegroupgap": 0
        },
        "margin": {
         "t": 60
        },
        "plot_bgcolor": "white",
        "template": {
         "data": {
          "bar": [
           {
            "error_x": {
             "color": "#2a3f5f"
            },
            "error_y": {
             "color": "#2a3f5f"
            },
            "marker": {
             "line": {
              "color": "#E5ECF6",
              "width": 0.5
             },
             "pattern": {
              "fillmode": "overlay",
              "size": 10,
              "solidity": 0.2
             }
            },
            "type": "bar"
           }
          ],
          "barpolar": [
           {
            "marker": {
             "line": {
              "color": "#E5ECF6",
              "width": 0.5
             },
             "pattern": {
              "fillmode": "overlay",
              "size": 10,
              "solidity": 0.2
             }
            },
            "type": "barpolar"
           }
          ],
          "carpet": [
           {
            "aaxis": {
             "endlinecolor": "#2a3f5f",
             "gridcolor": "white",
             "linecolor": "white",
             "minorgridcolor": "white",
             "startlinecolor": "#2a3f5f"
            },
            "baxis": {
             "endlinecolor": "#2a3f5f",
             "gridcolor": "white",
             "linecolor": "white",
             "minorgridcolor": "white",
             "startlinecolor": "#2a3f5f"
            },
            "type": "carpet"
           }
          ],
          "choropleth": [
           {
            "colorbar": {
             "outlinewidth": 0,
             "ticks": ""
            },
            "type": "choropleth"
           }
          ],
          "contour": [
           {
            "colorbar": {
             "outlinewidth": 0,
             "ticks": ""
            },
            "colorscale": [
             [
              0,
              "#0d0887"
             ],
             [
              0.1111111111111111,
              "#46039f"
             ],
             [
              0.2222222222222222,
              "#7201a8"
             ],
             [
              0.3333333333333333,
              "#9c179e"
             ],
             [
              0.4444444444444444,
              "#bd3786"
             ],
             [
              0.5555555555555556,
              "#d8576b"
             ],
             [
              0.6666666666666666,
              "#ed7953"
             ],
             [
              0.7777777777777778,
              "#fb9f3a"
             ],
             [
              0.8888888888888888,
              "#fdca26"
             ],
             [
              1,
              "#f0f921"
             ]
            ],
            "type": "contour"
           }
          ],
          "contourcarpet": [
           {
            "colorbar": {
             "outlinewidth": 0,
             "ticks": ""
            },
            "type": "contourcarpet"
           }
          ],
          "heatmap": [
           {
            "colorbar": {
             "outlinewidth": 0,
             "ticks": ""
            },
            "colorscale": [
             [
              0,
              "#0d0887"
             ],
             [
              0.1111111111111111,
              "#46039f"
             ],
             [
              0.2222222222222222,
              "#7201a8"
             ],
             [
              0.3333333333333333,
              "#9c179e"
             ],
             [
              0.4444444444444444,
              "#bd3786"
             ],
             [
              0.5555555555555556,
              "#d8576b"
             ],
             [
              0.6666666666666666,
              "#ed7953"
             ],
             [
              0.7777777777777778,
              "#fb9f3a"
             ],
             [
              0.8888888888888888,
              "#fdca26"
             ],
             [
              1,
              "#f0f921"
             ]
            ],
            "type": "heatmap"
           }
          ],
          "heatmapgl": [
           {
            "colorbar": {
             "outlinewidth": 0,
             "ticks": ""
            },
            "colorscale": [
             [
              0,
              "#0d0887"
             ],
             [
              0.1111111111111111,
              "#46039f"
             ],
             [
              0.2222222222222222,
              "#7201a8"
             ],
             [
              0.3333333333333333,
              "#9c179e"
             ],
             [
              0.4444444444444444,
              "#bd3786"
             ],
             [
              0.5555555555555556,
              "#d8576b"
             ],
             [
              0.6666666666666666,
              "#ed7953"
             ],
             [
              0.7777777777777778,
              "#fb9f3a"
             ],
             [
              0.8888888888888888,
              "#fdca26"
             ],
             [
              1,
              "#f0f921"
             ]
            ],
            "type": "heatmapgl"
           }
          ],
          "histogram": [
           {
            "marker": {
             "pattern": {
              "fillmode": "overlay",
              "size": 10,
              "solidity": 0.2
             }
            },
            "type": "histogram"
           }
          ],
          "histogram2d": [
           {
            "colorbar": {
             "outlinewidth": 0,
             "ticks": ""
            },
            "colorscale": [
             [
              0,
              "#0d0887"
             ],
             [
              0.1111111111111111,
              "#46039f"
             ],
             [
              0.2222222222222222,
              "#7201a8"
             ],
             [
              0.3333333333333333,
              "#9c179e"
             ],
             [
              0.4444444444444444,
              "#bd3786"
             ],
             [
              0.5555555555555556,
              "#d8576b"
             ],
             [
              0.6666666666666666,
              "#ed7953"
             ],
             [
              0.7777777777777778,
              "#fb9f3a"
             ],
             [
              0.8888888888888888,
              "#fdca26"
             ],
             [
              1,
              "#f0f921"
             ]
            ],
            "type": "histogram2d"
           }
          ],
          "histogram2dcontour": [
           {
            "colorbar": {
             "outlinewidth": 0,
             "ticks": ""
            },
            "colorscale": [
             [
              0,
              "#0d0887"
             ],
             [
              0.1111111111111111,
              "#46039f"
             ],
             [
              0.2222222222222222,
              "#7201a8"
             ],
             [
              0.3333333333333333,
              "#9c179e"
             ],
             [
              0.4444444444444444,
              "#bd3786"
             ],
             [
              0.5555555555555556,
              "#d8576b"
             ],
             [
              0.6666666666666666,
              "#ed7953"
             ],
             [
              0.7777777777777778,
              "#fb9f3a"
             ],
             [
              0.8888888888888888,
              "#fdca26"
             ],
             [
              1,
              "#f0f921"
             ]
            ],
            "type": "histogram2dcontour"
           }
          ],
          "mesh3d": [
           {
            "colorbar": {
             "outlinewidth": 0,
             "ticks": ""
            },
            "type": "mesh3d"
           }
          ],
          "parcoords": [
           {
            "line": {
             "colorbar": {
              "outlinewidth": 0,
              "ticks": ""
             }
            },
            "type": "parcoords"
           }
          ],
          "pie": [
           {
            "automargin": true,
            "type": "pie"
           }
          ],
          "scatter": [
           {
            "marker": {
             "colorbar": {
              "outlinewidth": 0,
              "ticks": ""
             }
            },
            "type": "scatter"
           }
          ],
          "scatter3d": [
           {
            "line": {
             "colorbar": {
              "outlinewidth": 0,
              "ticks": ""
             }
            },
            "marker": {
             "colorbar": {
              "outlinewidth": 0,
              "ticks": ""
             }
            },
            "type": "scatter3d"
           }
          ],
          "scattercarpet": [
           {
            "marker": {
             "colorbar": {
              "outlinewidth": 0,
              "ticks": ""
             }
            },
            "type": "scattercarpet"
           }
          ],
          "scattergeo": [
           {
            "marker": {
             "colorbar": {
              "outlinewidth": 0,
              "ticks": ""
             }
            },
            "type": "scattergeo"
           }
          ],
          "scattergl": [
           {
            "marker": {
             "colorbar": {
              "outlinewidth": 0,
              "ticks": ""
             }
            },
            "type": "scattergl"
           }
          ],
          "scattermapbox": [
           {
            "marker": {
             "colorbar": {
              "outlinewidth": 0,
              "ticks": ""
             }
            },
            "type": "scattermapbox"
           }
          ],
          "scatterpolar": [
           {
            "marker": {
             "colorbar": {
              "outlinewidth": 0,
              "ticks": ""
             }
            },
            "type": "scatterpolar"
           }
          ],
          "scatterpolargl": [
           {
            "marker": {
             "colorbar": {
              "outlinewidth": 0,
              "ticks": ""
             }
            },
            "type": "scatterpolargl"
           }
          ],
          "scatterternary": [
           {
            "marker": {
             "colorbar": {
              "outlinewidth": 0,
              "ticks": ""
             }
            },
            "type": "scatterternary"
           }
          ],
          "surface": [
           {
            "colorbar": {
             "outlinewidth": 0,
             "ticks": ""
            },
            "colorscale": [
             [
              0,
              "#0d0887"
             ],
             [
              0.1111111111111111,
              "#46039f"
             ],
             [
              0.2222222222222222,
              "#7201a8"
             ],
             [
              0.3333333333333333,
              "#9c179e"
             ],
             [
              0.4444444444444444,
              "#bd3786"
             ],
             [
              0.5555555555555556,
              "#d8576b"
             ],
             [
              0.6666666666666666,
              "#ed7953"
             ],
             [
              0.7777777777777778,
              "#fb9f3a"
             ],
             [
              0.8888888888888888,
              "#fdca26"
             ],
             [
              1,
              "#f0f921"
             ]
            ],
            "type": "surface"
           }
          ],
          "table": [
           {
            "cells": {
             "fill": {
              "color": "#EBF0F8"
             },
             "line": {
              "color": "white"
             }
            },
            "header": {
             "fill": {
              "color": "#C8D4E3"
             },
             "line": {
              "color": "white"
             }
            },
            "type": "table"
           }
          ]
         },
         "layout": {
          "annotationdefaults": {
           "arrowcolor": "#2a3f5f",
           "arrowhead": 0,
           "arrowwidth": 1
          },
          "autotypenumbers": "strict",
          "coloraxis": {
           "colorbar": {
            "outlinewidth": 0,
            "ticks": ""
           }
          },
          "colorscale": {
           "diverging": [
            [
             0,
             "#8e0152"
            ],
            [
             0.1,
             "#c51b7d"
            ],
            [
             0.2,
             "#de77ae"
            ],
            [
             0.3,
             "#f1b6da"
            ],
            [
             0.4,
             "#fde0ef"
            ],
            [
             0.5,
             "#f7f7f7"
            ],
            [
             0.6,
             "#e6f5d0"
            ],
            [
             0.7,
             "#b8e186"
            ],
            [
             0.8,
             "#7fbc41"
            ],
            [
             0.9,
             "#4d9221"
            ],
            [
             1,
             "#276419"
            ]
           ],
           "sequential": [
            [
             0,
             "#0d0887"
            ],
            [
             0.1111111111111111,
             "#46039f"
            ],
            [
             0.2222222222222222,
             "#7201a8"
            ],
            [
             0.3333333333333333,
             "#9c179e"
            ],
            [
             0.4444444444444444,
             "#bd3786"
            ],
            [
             0.5555555555555556,
             "#d8576b"
            ],
            [
             0.6666666666666666,
             "#ed7953"
            ],
            [
             0.7777777777777778,
             "#fb9f3a"
            ],
            [
             0.8888888888888888,
             "#fdca26"
            ],
            [
             1,
             "#f0f921"
            ]
           ],
           "sequentialminus": [
            [
             0,
             "#0d0887"
            ],
            [
             0.1111111111111111,
             "#46039f"
            ],
            [
             0.2222222222222222,
             "#7201a8"
            ],
            [
             0.3333333333333333,
             "#9c179e"
            ],
            [
             0.4444444444444444,
             "#bd3786"
            ],
            [
             0.5555555555555556,
             "#d8576b"
            ],
            [
             0.6666666666666666,
             "#ed7953"
            ],
            [
             0.7777777777777778,
             "#fb9f3a"
            ],
            [
             0.8888888888888888,
             "#fdca26"
            ],
            [
             1,
             "#f0f921"
            ]
           ]
          },
          "colorway": [
           "#636efa",
           "#EF553B",
           "#00cc96",
           "#ab63fa",
           "#FFA15A",
           "#19d3f3",
           "#FF6692",
           "#B6E880",
           "#FF97FF",
           "#FECB52"
          ],
          "font": {
           "color": "#2a3f5f"
          },
          "geo": {
           "bgcolor": "white",
           "lakecolor": "white",
           "landcolor": "#E5ECF6",
           "showlakes": true,
           "showland": true,
           "subunitcolor": "white"
          },
          "hoverlabel": {
           "align": "left"
          },
          "hovermode": "closest",
          "mapbox": {
           "style": "light"
          },
          "paper_bgcolor": "white",
          "plot_bgcolor": "#E5ECF6",
          "polar": {
           "angularaxis": {
            "gridcolor": "white",
            "linecolor": "white",
            "ticks": ""
           },
           "bgcolor": "#E5ECF6",
           "radialaxis": {
            "gridcolor": "white",
            "linecolor": "white",
            "ticks": ""
           }
          },
          "scene": {
           "xaxis": {
            "backgroundcolor": "#E5ECF6",
            "gridcolor": "white",
            "gridwidth": 2,
            "linecolor": "white",
            "showbackground": true,
            "ticks": "",
            "zerolinecolor": "white"
           },
           "yaxis": {
            "backgroundcolor": "#E5ECF6",
            "gridcolor": "white",
            "gridwidth": 2,
            "linecolor": "white",
            "showbackground": true,
            "ticks": "",
            "zerolinecolor": "white"
           },
           "zaxis": {
            "backgroundcolor": "#E5ECF6",
            "gridcolor": "white",
            "gridwidth": 2,
            "linecolor": "white",
            "showbackground": true,
            "ticks": "",
            "zerolinecolor": "white"
           }
          },
          "shapedefaults": {
           "line": {
            "color": "#2a3f5f"
           }
          },
          "ternary": {
           "aaxis": {
            "gridcolor": "white",
            "linecolor": "white",
            "ticks": ""
           },
           "baxis": {
            "gridcolor": "white",
            "linecolor": "white",
            "ticks": ""
           },
           "bgcolor": "#E5ECF6",
           "caxis": {
            "gridcolor": "white",
            "linecolor": "white",
            "ticks": ""
           }
          },
          "title": {
           "x": 0.05
          },
          "xaxis": {
           "automargin": true,
           "gridcolor": "white",
           "linecolor": "white",
           "ticks": "",
           "title": {
            "standoff": 15
           },
           "zerolinecolor": "white",
           "zerolinewidth": 2
          },
          "yaxis": {
           "automargin": true,
           "gridcolor": "white",
           "linecolor": "white",
           "ticks": "",
           "title": {
            "standoff": 15
           },
           "zerolinecolor": "white",
           "zerolinewidth": 2
          }
         }
        },
        "title": {
         "font": {
          "color": "black"
         },
         "text": "Solar Energy Consumption in China (epsilon=200, C=200)"
        },
        "xaxis": {
         "anchor": "y",
         "domain": [
          0,
          1
         ],
         "gridcolor": "lightgrey",
         "gridwidth": 1,
         "linecolor": "black",
         "linewidth": 1,
         "showgrid": true,
         "showline": true,
         "title": {
          "text": "Year"
         },
         "zeroline": true,
         "zerolinecolor": "lightgrey",
         "zerolinewidth": 1
        },
        "yaxis": {
         "anchor": "x",
         "domain": [
          0,
          1
         ],
         "gridcolor": "lightgrey",
         "gridwidth": 1,
         "linecolor": "black",
         "linewidth": 1,
         "showgrid": true,
         "showline": true,
         "title": {
          "text": "Solar (terawatt-hours)"
         },
         "zeroline": true,
         "zerolinecolor": "lightgrey",
         "zerolinewidth": 1
        }
       }
      },
      "text/html": [
       "<div>                            <div id=\"3198d310-e6a6-46d0-92a4-70308456d975\" class=\"plotly-graph-div\" style=\"height:525px; width:100%;\"></div>            <script type=\"text/javascript\">                require([\"plotly\"], function(Plotly) {                    window.PLOTLYENV=window.PLOTLYENV || {};                                    if (document.getElementById(\"3198d310-e6a6-46d0-92a4-70308456d975\")) {                    Plotly.newPlot(                        \"3198d310-e6a6-46d0-92a4-70308456d975\",                        [{\"hovertemplate\":\"Year=%{x}<br>Solar (terawatt-hours)=%{y}<extra></extra>\",\"legendgroup\":\"\",\"marker\":{\"color\":\"black\",\"opacity\":0.8,\"symbol\":\"circle\",\"size\":3},\"mode\":\"markers\",\"name\":\"\",\"orientation\":\"v\",\"showlegend\":false,\"x\":[1990,1991,1992,1993,1994,1995,1996,1997,1998,1999,2000,2001,2002,2003,2004,2005,2006,2007,2008,2009,2010,2011,2012,2013,2014,2015,2016,2017],\"xaxis\":\"x\",\"y\":[0.002,0.002,0.003,0.004,0.005,0.007,0.009,0.011,0.014,0.017,0.022,0.031,0.048,0.064,0.076,0.084,0.095,0.114,0.152,0.279,0.701,2.61,3.5945099,8.3738865,23.512156643,43.56,61.686,117.8],\"yaxis\":\"y\",\"type\":\"scatter\"},{\"line\":{\"color\":\"limegreen\"},\"name\":\"Linear Regression\",\"x\":[1990.0,1990.2727272727273,1990.5454545454545,1990.8181818181818,1991.090909090909,1991.3636363636363,1991.6363636363637,1991.909090909091,1992.1818181818182,1992.4545454545455,1992.7272727272727,1993.0,1993.2727272727273,1993.5454545454545,1993.8181818181818,1994.090909090909,1994.3636363636363,1994.6363636363637,1994.909090909091,1995.1818181818182,1995.4545454545455,1995.7272727272727,1996.0,1996.2727272727273,1996.5454545454545,1996.8181818181818,1997.090909090909,1997.3636363636363,1997.6363636363637,1997.909090909091,1998.1818181818182,1998.4545454545455,1998.7272727272727,1999.0,1999.2727272727273,1999.5454545454545,1999.8181818181818,2000.090909090909,2000.3636363636363,2000.6363636363637,2000.909090909091,2001.1818181818182,2001.4545454545455,2001.7272727272727,2002.0,2002.2727272727273,2002.5454545454545,2002.8181818181818,2003.090909090909,2003.3636363636363,2003.6363636363637,2003.909090909091,2004.1818181818182,2004.4545454545455,2004.7272727272727,2005.0,2005.2727272727273,2005.5454545454545,2005.8181818181818,2006.090909090909,2006.3636363636363,2006.6363636363637,2006.909090909091,2007.1818181818182,2007.4545454545455,2007.7272727272727,2008.0,2008.2727272727273,2008.5454545454545,2008.8181818181818,2009.090909090909,2009.3636363636363,2009.6363636363637,2009.909090909091,2010.1818181818182,2010.4545454545455,2010.7272727272727,2011.0,2011.2727272727273,2011.5454545454545,2011.8181818181818,2012.090909090909,2012.3636363636363,2012.6363636363637,2012.909090909091,2013.1818181818182,2013.4545454545455,2013.7272727272727,2014.0,2014.2727272727273,2014.5454545454545,2014.8181818181818,2015.090909090909,2015.3636363636363,2015.6363636363637,2015.909090909091,2016.1818181818182,2016.4545454545455,2016.7272727272727,2017.0],\"y\":[-12.9766931290701,-12.526442794182913,-12.076192459295726,-11.625942124408539,-11.175691789521352,-10.725441454634165,-10.275191119746523,-9.824940784859336,-9.37469044997215,-8.924440115084963,-8.474189780197776,-8.023939445310589,-7.573689110423402,-7.123438775536215,-6.673188440649028,-6.222938105761841,-5.772687770875109,-5.322437435987467,-4.87218710110028,-4.4219367662130935,-3.9716864313259066,-3.5214360964387197,-3.071185761551533,-2.620935426664346,-2.170685091777159,-1.720434756889972,-1.2701844220027851,-0.8199340871155982,-0.3696837522279566,0.08056658265923033,0.5308169175464172,0.9810672524336042,1.431317587320791,1.8815679222075232,2.33181825709471,2.782068591981897,3.232318926869084,3.682569261756271,4.132819596643458,4.583069931531099,5.033320266418286,5.483570601305473,5.93382093619266,6.384071271079847,6.834321605967034,7.284571940854221,7.734822275741408,8.185072610628595,8.635322945515782,9.085573280402969,9.535823615290155,9.986073950177342,10.43632428506453,10.886574619951716,11.336824954838903,11.78707528972609,12.237325624613277,12.687575959500464,13.13782629438765,13.588076629274838,14.038326964162025,14.488577299049666,14.938827633936853,15.38907796882404,15.839328303711227,16.289578638598414,16.7398289734856,17.190079308372788,17.640329643259975,18.090579978146707,18.540830313033894,18.99108064792108,19.441330982808722,19.89158131769591,20.341831652583096,20.792081987470283,21.24233232235747,21.692582657244657,22.142832992131844,22.59308332701903,23.043333661906217,23.493583996793404,23.94383433168059,24.394084666568233,24.84433500145542,25.294585336342152,25.74483567122934,26.195086006116526,26.645336341003713,27.0955866758909,27.545837010778087,27.996087345665273,28.44633768055246,28.896588015439647,29.34683835032729,29.797088685214476,30.247339020101663,30.69758935498885,31.147839689876037,31.598090024763223],\"type\":\"scatter\",\"marker\":{\"size\":3}},{\"line\":{\"color\":\"red\"},\"name\":\"Support Vector Regression\",\"x\":[1990.0,1990.2727272727273,1990.5454545454545,1990.8181818181818,1991.090909090909,1991.3636363636363,1991.6363636363637,1991.909090909091,1992.1818181818182,1992.4545454545455,1992.7272727272727,1993.0,1993.2727272727273,1993.5454545454545,1993.8181818181818,1994.090909090909,1994.3636363636363,1994.6363636363637,1994.909090909091,1995.1818181818182,1995.4545454545455,1995.7272727272727,1996.0,1996.2727272727273,1996.5454545454545,1996.8181818181818,1997.090909090909,1997.3636363636363,1997.6363636363637,1997.909090909091,1998.1818181818182,1998.4545454545455,1998.7272727272727,1999.0,1999.2727272727273,1999.5454545454545,1999.8181818181818,2000.090909090909,2000.3636363636363,2000.6363636363637,2000.909090909091,2001.1818181818182,2001.4545454545455,2001.7272727272727,2002.0,2002.2727272727273,2002.5454545454545,2002.8181818181818,2003.090909090909,2003.3636363636363,2003.6363636363637,2003.909090909091,2004.1818181818182,2004.4545454545455,2004.7272727272727,2005.0,2005.2727272727273,2005.5454545454545,2005.8181818181818,2006.090909090909,2006.3636363636363,2006.6363636363637,2006.909090909091,2007.1818181818182,2007.4545454545455,2007.7272727272727,2008.0,2008.2727272727273,2008.5454545454545,2008.8181818181818,2009.090909090909,2009.3636363636363,2009.6363636363637,2009.909090909091,2010.1818181818182,2010.4545454545455,2010.7272727272727,2011.0,2011.2727272727273,2011.5454545454545,2011.8181818181818,2012.090909090909,2012.3636363636363,2012.6363636363637,2012.909090909091,2013.1818181818182,2013.4545454545455,2013.7272727272727,2014.0,2014.2727272727273,2014.5454545454545,2014.8181818181818,2015.090909090909,2015.3636363636363,2015.6363636363637,2015.909090909091,2016.1818181818182,2016.4545454545455,2016.7272727272727,2017.0],\"y\":[15.00178575269192,14.83370238069055,14.68316075192225,14.550263067287077,14.434994102184868,14.337221515625398,14.25669680569418,14.193056796486113,14.145825535266425,14.114416476615528,14.098134832884647,14.09617997755474,14.107647800035295,14.131532926925669,14.166730745519729,14.21203918996796,14.26616027850116,14.327701420832023,14.395176547548072,14.467007147164523,14.54152333061133,14.616965076329722,14.69148384084249,14.763144748623489,14.82992960030493,14.889740958730917,14.940407587142406,14.979691521978062,15.005297063603265,15.014881961048967,15.00607105099971,14.976472586407152,14.923697455987547,14.845381452431356,14.73921069455911,14.602950247256125,14.434475913390068,14.231809094868122,13.993154536566323,13.716940678333831,13.40186224814122,13.046924635408743,12.651489489550858,12.21532089686654,11.738631401356194,11.222127054184437,10.667050604758249,10.07522188618832,9.449074401650805,8.791687088176577,8.106810222815913,7.398884444887404,6.673051898732446,5.935158555376297,5.191746849513198,4.450037870710698,3.717902474430119,3.0038208286319446,2.316830083978971,1.6664600479395801,1.0626569527618237,0.5156956310496668,0.03608064665441546,-0.36556283162667924,-0.678607385306286,-0.8925496657587679,-0.9971431867507192,-0.9825358874034258,-0.8394105728441374,-0.5591261761159032,-0.13385765290237828,0.4432677750081844,1.1780403667512687,2.0750459504646876,3.1375546680321804,4.367422609366383,5.765008438255009,7.329106933503134,9.056901145349414,10.943934600991607,12.984104688773634,15.169678013478501,17.491328151531818,19.938195851887002,22.497971333736604,25.15699793437106,27.900395967928148,30.712205277395086,33.57554460633219,36.47278559172241,39.38573889262193,42.29584972768575,45.184399903953356,48.03271328413561,50.82236156339333,53.535367211186454,56.15440047980816,58.66296748756667,61.045586549165265,63.287950144611784],\"type\":\"scatter\",\"marker\":{\"size\":3}},{\"line\":{\"color\":\"red\",\"dash\":\"dot\"},\"name\":\"+epsilon\",\"x\":[1990.0,1990.2727272727273,1990.5454545454545,1990.8181818181818,1991.090909090909,1991.3636363636363,1991.6363636363637,1991.909090909091,1992.1818181818182,1992.4545454545455,1992.7272727272727,1993.0,1993.2727272727273,1993.5454545454545,1993.8181818181818,1994.090909090909,1994.3636363636363,1994.6363636363637,1994.909090909091,1995.1818181818182,1995.4545454545455,1995.7272727272727,1996.0,1996.2727272727273,1996.5454545454545,1996.8181818181818,1997.090909090909,1997.3636363636363,1997.6363636363637,1997.909090909091,1998.1818181818182,1998.4545454545455,1998.7272727272727,1999.0,1999.2727272727273,1999.5454545454545,1999.8181818181818,2000.090909090909,2000.3636363636363,2000.6363636363637,2000.909090909091,2001.1818181818182,2001.4545454545455,2001.7272727272727,2002.0,2002.2727272727273,2002.5454545454545,2002.8181818181818,2003.090909090909,2003.3636363636363,2003.6363636363637,2003.909090909091,2004.1818181818182,2004.4545454545455,2004.7272727272727,2005.0,2005.2727272727273,2005.5454545454545,2005.8181818181818,2006.090909090909,2006.3636363636363,2006.6363636363637,2006.909090909091,2007.1818181818182,2007.4545454545455,2007.7272727272727,2008.0,2008.2727272727273,2008.5454545454545,2008.8181818181818,2009.090909090909,2009.3636363636363,2009.6363636363637,2009.909090909091,2010.1818181818182,2010.4545454545455,2010.7272727272727,2011.0,2011.2727272727273,2011.5454545454545,2011.8181818181818,2012.090909090909,2012.3636363636363,2012.6363636363637,2012.909090909091,2013.1818181818182,2013.4545454545455,2013.7272727272727,2014.0,2014.2727272727273,2014.5454545454545,2014.8181818181818,2015.090909090909,2015.3636363636363,2015.6363636363637,2015.909090909091,2016.1818181818182,2016.4545454545455,2016.7272727272727,2017.0],\"y\":[30.00178575269192,29.83370238069055,29.68316075192225,29.550263067287077,29.434994102184866,29.337221515625398,29.25669680569418,29.19305679648611,29.145825535266425,29.114416476615528,29.098134832884647,29.09617997755474,29.107647800035295,29.13153292692567,29.16673074551973,29.21203918996796,29.26616027850116,29.32770142083202,29.395176547548072,29.467007147164523,29.54152333061133,29.61696507632972,29.69148384084249,29.76314474862349,29.82992960030493,29.88974095873092,29.940407587142406,29.97969152197806,30.005297063603265,30.014881961048967,30.006071050999708,29.97647258640715,29.923697455987547,29.845381452431354,29.739210694559112,29.602950247256125,29.434475913390067,29.231809094868122,28.993154536566323,28.71694067833383,28.40186224814122,28.046924635408743,27.65148948955086,27.21532089686654,26.738631401356194,26.222127054184437,25.66705060475825,25.07522188618832,24.449074401650805,23.791687088176577,23.106810222815913,22.398884444887404,21.673051898732446,20.935158555376297,20.191746849513198,19.4500378707107,18.71790247443012,18.003820828631945,17.31683008397897,16.66646004793958,16.062656952761824,15.515695631049667,15.036080646654415,14.63443716837332,14.321392614693714,14.107450334241232,14.00285681324928,14.017464112596574,14.160589427155863,14.440873823884097,14.866142347097622,15.443267775008184,16.17804036675127,17.075045950464688,18.13755466803218,19.367422609366383,20.76500843825501,22.329106933503134,24.056901145349414,25.943934600991607,27.984104688773634,30.169678013478503,32.49132815153182,34.938195851887,37.4979713337366,40.15699793437106,42.90039596792815,45.712205277395086,48.57554460633219,51.47278559172241,54.38573889262193,57.29584972768575,60.184399903953356,63.03271328413561,65.82236156339333,68.53536721118645,71.15440047980816,73.66296748756668,76.04558654916526,78.28795014461178],\"type\":\"scatter\",\"marker\":{\"size\":3}},{\"line\":{\"color\":\"red\",\"dash\":\"dot\"},\"name\":\"-epsilon\",\"x\":[1990.0,1990.2727272727273,1990.5454545454545,1990.8181818181818,1991.090909090909,1991.3636363636363,1991.6363636363637,1991.909090909091,1992.1818181818182,1992.4545454545455,1992.7272727272727,1993.0,1993.2727272727273,1993.5454545454545,1993.8181818181818,1994.090909090909,1994.3636363636363,1994.6363636363637,1994.909090909091,1995.1818181818182,1995.4545454545455,1995.7272727272727,1996.0,1996.2727272727273,1996.5454545454545,1996.8181818181818,1997.090909090909,1997.3636363636363,1997.6363636363637,1997.909090909091,1998.1818181818182,1998.4545454545455,1998.7272727272727,1999.0,1999.2727272727273,1999.5454545454545,1999.8181818181818,2000.090909090909,2000.3636363636363,2000.6363636363637,2000.909090909091,2001.1818181818182,2001.4545454545455,2001.7272727272727,2002.0,2002.2727272727273,2002.5454545454545,2002.8181818181818,2003.090909090909,2003.3636363636363,2003.6363636363637,2003.909090909091,2004.1818181818182,2004.4545454545455,2004.7272727272727,2005.0,2005.2727272727273,2005.5454545454545,2005.8181818181818,2006.090909090909,2006.3636363636363,2006.6363636363637,2006.909090909091,2007.1818181818182,2007.4545454545455,2007.7272727272727,2008.0,2008.2727272727273,2008.5454545454545,2008.8181818181818,2009.090909090909,2009.3636363636363,2009.6363636363637,2009.909090909091,2010.1818181818182,2010.4545454545455,2010.7272727272727,2011.0,2011.2727272727273,2011.5454545454545,2011.8181818181818,2012.090909090909,2012.3636363636363,2012.6363636363637,2012.909090909091,2013.1818181818182,2013.4545454545455,2013.7272727272727,2014.0,2014.2727272727273,2014.5454545454545,2014.8181818181818,2015.090909090909,2015.3636363636363,2015.6363636363637,2015.909090909091,2016.1818181818182,2016.4545454545455,2016.7272727272727,2017.0],\"y\":[0.0017857526919193845,-0.16629761930945008,-0.3168392480777502,-0.4497369327129235,-0.5650058978151318,-0.6627784843746021,-0.7433031943058204,-0.806943203513887,-0.8541744647335747,-0.8855835233844722,-0.9018651671153535,-0.9038200224452595,-0.892352199964705,-0.8684670730743314,-0.8332692544802711,-0.7879608100320397,-0.7338397214988408,-0.6722985791679772,-0.604823452451928,-0.532992852835477,-0.45847666938866993,-0.38303492367027836,-0.3085161591575094,-0.23685525137651098,-0.17007039969507076,-0.11025904126908337,-0.05959241285759376,-0.02030847802193847,0.005297063603265428,0.01488196104896744,0.006071050999709726,-0.02352741359284849,-0.07630254401245296,-0.1546185475686439,-0.2607893054408894,-0.3970497527438752,-0.5655240866099316,-0.7681909051318776,-1.0068454634336774,-1.283059321666169,-1.5981377518587792,-1.9530753645912569,-2.3485105104491417,-2.7846791031334597,-3.2613685986438057,-3.777872945815563,-4.3329493952417515,-4.92477811381168,-5.550925598349195,-6.208312911823423,-6.893189777184087,-7.601115555112596,-8.326948101267554,-9.064841444623703,-9.808253150486802,-10.549962129289302,-11.282097525569881,-11.996179171368055,-12.68316991602103,-13.33353995206042,-13.937343047238176,-14.484304368950333,-14.963919353345585,-15.36556283162668,-15.678607385306286,-15.892549665758768,-15.99714318675072,-15.982535887403426,-15.839410572844137,-15.559126176115903,-15.133857652902378,-14.556732224991816,-13.821959633248731,-12.924954049535312,-11.86244533196782,-10.632577390633617,-9.234991561744991,-7.670893066496866,-5.943098854650586,-4.056065399008393,-2.015895311226366,0.1696780134785012,2.4913281515318175,4.938195851887002,7.497971333736604,10.15699793437106,12.900395967928148,15.712205277395086,18.575544606332187,21.472785591722413,24.38573889262193,27.29584972768575,30.184399903953356,33.03271328413561,35.82236156339333,38.535367211186454,41.15440047980816,43.66296748756667,46.045586549165265,48.287950144611784],\"type\":\"scatter\",\"marker\":{\"size\":3}}],                        {\"template\":{\"data\":{\"bar\":[{\"error_x\":{\"color\":\"#2a3f5f\"},\"error_y\":{\"color\":\"#2a3f5f\"},\"marker\":{\"line\":{\"color\":\"#E5ECF6\",\"width\":0.5},\"pattern\":{\"fillmode\":\"overlay\",\"size\":10,\"solidity\":0.2}},\"type\":\"bar\"}],\"barpolar\":[{\"marker\":{\"line\":{\"color\":\"#E5ECF6\",\"width\":0.5},\"pattern\":{\"fillmode\":\"overlay\",\"size\":10,\"solidity\":0.2}},\"type\":\"barpolar\"}],\"carpet\":[{\"aaxis\":{\"endlinecolor\":\"#2a3f5f\",\"gridcolor\":\"white\",\"linecolor\":\"white\",\"minorgridcolor\":\"white\",\"startlinecolor\":\"#2a3f5f\"},\"baxis\":{\"endlinecolor\":\"#2a3f5f\",\"gridcolor\":\"white\",\"linecolor\":\"white\",\"minorgridcolor\":\"white\",\"startlinecolor\":\"#2a3f5f\"},\"type\":\"carpet\"}],\"choropleth\":[{\"colorbar\":{\"outlinewidth\":0,\"ticks\":\"\"},\"type\":\"choropleth\"}],\"contour\":[{\"colorbar\":{\"outlinewidth\":0,\"ticks\":\"\"},\"colorscale\":[[0.0,\"#0d0887\"],[0.1111111111111111,\"#46039f\"],[0.2222222222222222,\"#7201a8\"],[0.3333333333333333,\"#9c179e\"],[0.4444444444444444,\"#bd3786\"],[0.5555555555555556,\"#d8576b\"],[0.6666666666666666,\"#ed7953\"],[0.7777777777777778,\"#fb9f3a\"],[0.8888888888888888,\"#fdca26\"],[1.0,\"#f0f921\"]],\"type\":\"contour\"}],\"contourcarpet\":[{\"colorbar\":{\"outlinewidth\":0,\"ticks\":\"\"},\"type\":\"contourcarpet\"}],\"heatmap\":[{\"colorbar\":{\"outlinewidth\":0,\"ticks\":\"\"},\"colorscale\":[[0.0,\"#0d0887\"],[0.1111111111111111,\"#46039f\"],[0.2222222222222222,\"#7201a8\"],[0.3333333333333333,\"#9c179e\"],[0.4444444444444444,\"#bd3786\"],[0.5555555555555556,\"#d8576b\"],[0.6666666666666666,\"#ed7953\"],[0.7777777777777778,\"#fb9f3a\"],[0.8888888888888888,\"#fdca26\"],[1.0,\"#f0f921\"]],\"type\":\"heatmap\"}],\"heatmapgl\":[{\"colorbar\":{\"outlinewidth\":0,\"ticks\":\"\"},\"colorscale\":[[0.0,\"#0d0887\"],[0.1111111111111111,\"#46039f\"],[0.2222222222222222,\"#7201a8\"],[0.3333333333333333,\"#9c179e\"],[0.4444444444444444,\"#bd3786\"],[0.5555555555555556,\"#d8576b\"],[0.6666666666666666,\"#ed7953\"],[0.7777777777777778,\"#fb9f3a\"],[0.8888888888888888,\"#fdca26\"],[1.0,\"#f0f921\"]],\"type\":\"heatmapgl\"}],\"histogram\":[{\"marker\":{\"pattern\":{\"fillmode\":\"overlay\",\"size\":10,\"solidity\":0.2}},\"type\":\"histogram\"}],\"histogram2d\":[{\"colorbar\":{\"outlinewidth\":0,\"ticks\":\"\"},\"colorscale\":[[0.0,\"#0d0887\"],[0.1111111111111111,\"#46039f\"],[0.2222222222222222,\"#7201a8\"],[0.3333333333333333,\"#9c179e\"],[0.4444444444444444,\"#bd3786\"],[0.5555555555555556,\"#d8576b\"],[0.6666666666666666,\"#ed7953\"],[0.7777777777777778,\"#fb9f3a\"],[0.8888888888888888,\"#fdca26\"],[1.0,\"#f0f921\"]],\"type\":\"histogram2d\"}],\"histogram2dcontour\":[{\"colorbar\":{\"outlinewidth\":0,\"ticks\":\"\"},\"colorscale\":[[0.0,\"#0d0887\"],[0.1111111111111111,\"#46039f\"],[0.2222222222222222,\"#7201a8\"],[0.3333333333333333,\"#9c179e\"],[0.4444444444444444,\"#bd3786\"],[0.5555555555555556,\"#d8576b\"],[0.6666666666666666,\"#ed7953\"],[0.7777777777777778,\"#fb9f3a\"],[0.8888888888888888,\"#fdca26\"],[1.0,\"#f0f921\"]],\"type\":\"histogram2dcontour\"}],\"mesh3d\":[{\"colorbar\":{\"outlinewidth\":0,\"ticks\":\"\"},\"type\":\"mesh3d\"}],\"parcoords\":[{\"line\":{\"colorbar\":{\"outlinewidth\":0,\"ticks\":\"\"}},\"type\":\"parcoords\"}],\"pie\":[{\"automargin\":true,\"type\":\"pie\"}],\"scatter\":[{\"marker\":{\"colorbar\":{\"outlinewidth\":0,\"ticks\":\"\"}},\"type\":\"scatter\"}],\"scatter3d\":[{\"line\":{\"colorbar\":{\"outlinewidth\":0,\"ticks\":\"\"}},\"marker\":{\"colorbar\":{\"outlinewidth\":0,\"ticks\":\"\"}},\"type\":\"scatter3d\"}],\"scattercarpet\":[{\"marker\":{\"colorbar\":{\"outlinewidth\":0,\"ticks\":\"\"}},\"type\":\"scattercarpet\"}],\"scattergeo\":[{\"marker\":{\"colorbar\":{\"outlinewidth\":0,\"ticks\":\"\"}},\"type\":\"scattergeo\"}],\"scattergl\":[{\"marker\":{\"colorbar\":{\"outlinewidth\":0,\"ticks\":\"\"}},\"type\":\"scattergl\"}],\"scattermapbox\":[{\"marker\":{\"colorbar\":{\"outlinewidth\":0,\"ticks\":\"\"}},\"type\":\"scattermapbox\"}],\"scatterpolar\":[{\"marker\":{\"colorbar\":{\"outlinewidth\":0,\"ticks\":\"\"}},\"type\":\"scatterpolar\"}],\"scatterpolargl\":[{\"marker\":{\"colorbar\":{\"outlinewidth\":0,\"ticks\":\"\"}},\"type\":\"scatterpolargl\"}],\"scatterternary\":[{\"marker\":{\"colorbar\":{\"outlinewidth\":0,\"ticks\":\"\"}},\"type\":\"scatterternary\"}],\"surface\":[{\"colorbar\":{\"outlinewidth\":0,\"ticks\":\"\"},\"colorscale\":[[0.0,\"#0d0887\"],[0.1111111111111111,\"#46039f\"],[0.2222222222222222,\"#7201a8\"],[0.3333333333333333,\"#9c179e\"],[0.4444444444444444,\"#bd3786\"],[0.5555555555555556,\"#d8576b\"],[0.6666666666666666,\"#ed7953\"],[0.7777777777777778,\"#fb9f3a\"],[0.8888888888888888,\"#fdca26\"],[1.0,\"#f0f921\"]],\"type\":\"surface\"}],\"table\":[{\"cells\":{\"fill\":{\"color\":\"#EBF0F8\"},\"line\":{\"color\":\"white\"}},\"header\":{\"fill\":{\"color\":\"#C8D4E3\"},\"line\":{\"color\":\"white\"}},\"type\":\"table\"}]},\"layout\":{\"annotationdefaults\":{\"arrowcolor\":\"#2a3f5f\",\"arrowhead\":0,\"arrowwidth\":1},\"autotypenumbers\":\"strict\",\"coloraxis\":{\"colorbar\":{\"outlinewidth\":0,\"ticks\":\"\"}},\"colorscale\":{\"diverging\":[[0,\"#8e0152\"],[0.1,\"#c51b7d\"],[0.2,\"#de77ae\"],[0.3,\"#f1b6da\"],[0.4,\"#fde0ef\"],[0.5,\"#f7f7f7\"],[0.6,\"#e6f5d0\"],[0.7,\"#b8e186\"],[0.8,\"#7fbc41\"],[0.9,\"#4d9221\"],[1,\"#276419\"]],\"sequential\":[[0.0,\"#0d0887\"],[0.1111111111111111,\"#46039f\"],[0.2222222222222222,\"#7201a8\"],[0.3333333333333333,\"#9c179e\"],[0.4444444444444444,\"#bd3786\"],[0.5555555555555556,\"#d8576b\"],[0.6666666666666666,\"#ed7953\"],[0.7777777777777778,\"#fb9f3a\"],[0.8888888888888888,\"#fdca26\"],[1.0,\"#f0f921\"]],\"sequentialminus\":[[0.0,\"#0d0887\"],[0.1111111111111111,\"#46039f\"],[0.2222222222222222,\"#7201a8\"],[0.3333333333333333,\"#9c179e\"],[0.4444444444444444,\"#bd3786\"],[0.5555555555555556,\"#d8576b\"],[0.6666666666666666,\"#ed7953\"],[0.7777777777777778,\"#fb9f3a\"],[0.8888888888888888,\"#fdca26\"],[1.0,\"#f0f921\"]]},\"colorway\":[\"#636efa\",\"#EF553B\",\"#00cc96\",\"#ab63fa\",\"#FFA15A\",\"#19d3f3\",\"#FF6692\",\"#B6E880\",\"#FF97FF\",\"#FECB52\"],\"font\":{\"color\":\"#2a3f5f\"},\"geo\":{\"bgcolor\":\"white\",\"lakecolor\":\"white\",\"landcolor\":\"#E5ECF6\",\"showlakes\":true,\"showland\":true,\"subunitcolor\":\"white\"},\"hoverlabel\":{\"align\":\"left\"},\"hovermode\":\"closest\",\"mapbox\":{\"style\":\"light\"},\"paper_bgcolor\":\"white\",\"plot_bgcolor\":\"#E5ECF6\",\"polar\":{\"angularaxis\":{\"gridcolor\":\"white\",\"linecolor\":\"white\",\"ticks\":\"\"},\"bgcolor\":\"#E5ECF6\",\"radialaxis\":{\"gridcolor\":\"white\",\"linecolor\":\"white\",\"ticks\":\"\"}},\"scene\":{\"xaxis\":{\"backgroundcolor\":\"#E5ECF6\",\"gridcolor\":\"white\",\"gridwidth\":2,\"linecolor\":\"white\",\"showbackground\":true,\"ticks\":\"\",\"zerolinecolor\":\"white\"},\"yaxis\":{\"backgroundcolor\":\"#E5ECF6\",\"gridcolor\":\"white\",\"gridwidth\":2,\"linecolor\":\"white\",\"showbackground\":true,\"ticks\":\"\",\"zerolinecolor\":\"white\"},\"zaxis\":{\"backgroundcolor\":\"#E5ECF6\",\"gridcolor\":\"white\",\"gridwidth\":2,\"linecolor\":\"white\",\"showbackground\":true,\"ticks\":\"\",\"zerolinecolor\":\"white\"}},\"shapedefaults\":{\"line\":{\"color\":\"#2a3f5f\"}},\"ternary\":{\"aaxis\":{\"gridcolor\":\"white\",\"linecolor\":\"white\",\"ticks\":\"\"},\"baxis\":{\"gridcolor\":\"white\",\"linecolor\":\"white\",\"ticks\":\"\"},\"bgcolor\":\"#E5ECF6\",\"caxis\":{\"gridcolor\":\"white\",\"linecolor\":\"white\",\"ticks\":\"\"}},\"title\":{\"x\":0.05},\"xaxis\":{\"automargin\":true,\"gridcolor\":\"white\",\"linecolor\":\"white\",\"ticks\":\"\",\"title\":{\"standoff\":15},\"zerolinecolor\":\"white\",\"zerolinewidth\":2},\"yaxis\":{\"automargin\":true,\"gridcolor\":\"white\",\"linecolor\":\"white\",\"ticks\":\"\",\"title\":{\"standoff\":15},\"zerolinecolor\":\"white\",\"zerolinewidth\":2}}},\"xaxis\":{\"anchor\":\"y\",\"domain\":[0.0,1.0],\"title\":{\"text\":\"Year\"},\"showgrid\":true,\"gridwidth\":1,\"gridcolor\":\"lightgrey\",\"zeroline\":true,\"zerolinewidth\":1,\"zerolinecolor\":\"lightgrey\",\"showline\":true,\"linewidth\":1,\"linecolor\":\"black\"},\"yaxis\":{\"anchor\":\"x\",\"domain\":[0.0,1.0],\"title\":{\"text\":\"Solar (terawatt-hours)\"},\"showgrid\":true,\"gridwidth\":1,\"gridcolor\":\"lightgrey\",\"zeroline\":true,\"zerolinewidth\":1,\"zerolinecolor\":\"lightgrey\",\"showline\":true,\"linewidth\":1,\"linecolor\":\"black\"},\"legend\":{\"tracegroupgap\":0},\"margin\":{\"t\":60},\"plot_bgcolor\":\"white\",\"title\":{\"font\":{\"color\":\"black\"},\"text\":\"Solar Energy Consumption in China (epsilon=200, C=200)\"}},                        {\"responsive\": true}                    ).then(function(){\n",
       "                            \n",
       "var gd = document.getElementById('3198d310-e6a6-46d0-92a4-70308456d975');\n",
       "var x = new MutationObserver(function (mutations, observer) {{\n",
       "        var display = window.getComputedStyle(gd).display;\n",
       "        if (!display || display === 'none') {{\n",
       "            console.log([gd, 'removed!']);\n",
       "            Plotly.purge(gd);\n",
       "            observer.disconnect();\n",
       "        }}\n",
       "}});\n",
       "\n",
       "// Listen for the removal of the full notebook cells\n",
       "var notebookContainer = gd.closest('#notebook-container');\n",
       "if (notebookContainer) {{\n",
       "    x.observe(notebookContainer, {childList: true});\n",
       "}}\n",
       "\n",
       "// Listen for the clearing of the current output cell\n",
       "var outputEl = gd.closest('.output');\n",
       "if (outputEl) {{\n",
       "    x.observe(outputEl, {childList: true});\n",
       "}}\n",
       "\n",
       "                        })                };                });            </script>        </div>"
      ]
     },
     "metadata": {},
     "output_type": "display_data"
    }
   ],
   "source": [
    "# Create a scatter plot\n",
    "fig = px.scatter(df, x=df['Year'], y=df['Solar (terawatt-hours)'], \n",
    "                 opacity=0.8, color_discrete_sequence=['black'])\n",
    "# Add a best-fit line\n",
    "fig.add_traces(go.Scatter(x=x_range, y=y_lr, name='Linear Regression', line=dict(color='limegreen')))\n",
    "fig.add_traces(go.Scatter(x=x_range, y=y_svr, name='Support Vector Regression', line=dict(color='red')))\n",
    "fig.add_traces(go.Scatter(x=x_range, y=y_svr+15, name='+epsilon', line=dict(color='red', dash='dot')))\n",
    "fig.add_traces(go.Scatter(x=x_range, y=y_svr-15, name='-epsilon', line=dict(color='red', dash='dot')))\n",
    "\n",
    "# Change chart background color\n",
    "fig.update_layout(dict(plot_bgcolor = 'white'))\n",
    "\n",
    "# Update axes lines\n",
    "fig.update_xaxes(showgrid=True, gridwidth=1, gridcolor='lightgrey', \n",
    "                 zeroline=True, zerolinewidth=1, zerolinecolor='lightgrey', \n",
    "                 showline=True, linewidth=1, linecolor='black')\n",
    "\n",
    "fig.update_yaxes(showgrid=True, gridwidth=1, gridcolor='lightgrey', \n",
    "                 zeroline=True, zerolinewidth=1, zerolinecolor='lightgrey', \n",
    "                 showline=True, linewidth=1, linecolor='black')\n",
    "\n",
    "# Set figure title\n",
    "fig.update_layout(title=dict(text=\"Solar Energy Consumption in China (epsilon=200, C=200)\", \n",
    "                             font=dict(color='black')))\n",
    "\n",
    "# Update marker size\n",
    "fig.update_traces(marker=dict(size=3))\n",
    "\n",
    "fig.show()"
   ]
  },
  {
   "cell_type": "code",
   "execution_count": 485,
   "id": "0cffb065",
   "metadata": {
    "colab": {
     "base_uri": "https://localhost:8080/"
    },
    "id": "0cffb065",
    "outputId": "7f4ef4d0-fe26-4320-bfc8-06e9dc0affd5"
   },
   "outputs": [
    {
     "data": {
      "text/plain": [
       "array([14.84538145, 54.41965314,  7.32910693, 11.7386314 , 14.41871673,\n",
       "       13.2880178 , 44.22510145, 14.42554115, 14.69148384])"
      ]
     },
     "execution_count": 485,
     "metadata": {},
     "output_type": "execute_result"
    }
   ],
   "source": [
    "#5 Predicting a new result\n",
    "y_pred = svr.predict(X_test)\n",
    "y_pred"
   ]
  },
  {
   "cell_type": "code",
   "execution_count": 486,
   "id": "1d524a6a",
   "metadata": {
    "colab": {
     "base_uri": "https://localhost:8080/"
    },
    "id": "1d524a6a",
    "outputId": "3f1068e6-a829-4c34-c9d2-e266de7ba31c"
   },
   "outputs": [
    {
     "name": "stdout",
     "output_type": "stream",
     "text": [
      "R squared: 64.51\n",
      "Mean Squared Error is:  127.59961732537909\n",
      "Root Mean Squared Error is:  11.296000058665859\n"
     ]
    }
   ],
   "source": [
    "mse = metrics.mean_squared_error(y_test, y_pred)\n",
    "rmse = np.sqrt(mse)\n",
    "\n",
    "print('R squared: {:.2f}'.format(svr.score(X,y)*100))\n",
    "print(\"Mean Squared Error is: \", mse)\n",
    "print(\"Root Mean Squared Error is: \", rmse)"
   ]
  },
  {
   "cell_type": "code",
   "execution_count": 487,
   "id": "714bd845",
   "metadata": {
    "colab": {
     "base_uri": "https://localhost:8080/",
     "height": 328
    },
    "id": "714bd845",
    "outputId": "18be335d-cf55-48f3-a0a6-b53ae0056595"
   },
   "outputs": [
    {
     "data": {
      "text/html": [
       "<div>\n",
       "<style scoped>\n",
       "    .dataframe tbody tr th:only-of-type {\n",
       "        vertical-align: middle;\n",
       "    }\n",
       "\n",
       "    .dataframe tbody tr th {\n",
       "        vertical-align: top;\n",
       "    }\n",
       "\n",
       "    .dataframe thead th {\n",
       "        text-align: right;\n",
       "    }\n",
       "</style>\n",
       "<table border=\"1\" class=\"dataframe\">\n",
       "  <thead>\n",
       "    <tr style=\"text-align: right;\">\n",
       "      <th></th>\n",
       "      <th>Predicted</th>\n",
       "      <th>Actual</th>\n",
       "    </tr>\n",
       "  </thead>\n",
       "  <tbody>\n",
       "    <tr>\n",
       "      <th>0</th>\n",
       "      <td>14.845381</td>\n",
       "      <td>0.01700</td>\n",
       "    </tr>\n",
       "    <tr>\n",
       "      <th>1</th>\n",
       "      <td>54.419653</td>\n",
       "      <td>61.68600</td>\n",
       "    </tr>\n",
       "    <tr>\n",
       "      <th>2</th>\n",
       "      <td>7.329107</td>\n",
       "      <td>2.61000</td>\n",
       "    </tr>\n",
       "    <tr>\n",
       "      <th>3</th>\n",
       "      <td>11.738631</td>\n",
       "      <td>0.04800</td>\n",
       "    </tr>\n",
       "    <tr>\n",
       "      <th>4</th>\n",
       "      <td>14.418717</td>\n",
       "      <td>0.00700</td>\n",
       "    </tr>\n",
       "    <tr>\n",
       "      <th>5</th>\n",
       "      <td>13.288018</td>\n",
       "      <td>0.03100</td>\n",
       "    </tr>\n",
       "    <tr>\n",
       "      <th>6</th>\n",
       "      <td>44.225101</td>\n",
       "      <td>43.56000</td>\n",
       "    </tr>\n",
       "    <tr>\n",
       "      <th>7</th>\n",
       "      <td>14.425541</td>\n",
       "      <td>3.59451</td>\n",
       "    </tr>\n",
       "    <tr>\n",
       "      <th>8</th>\n",
       "      <td>14.691484</td>\n",
       "      <td>0.00900</td>\n",
       "    </tr>\n",
       "  </tbody>\n",
       "</table>\n",
       "</div>"
      ],
      "text/plain": [
       "   Predicted    Actual\n",
       "0  14.845381   0.01700\n",
       "1  54.419653  61.68600\n",
       "2   7.329107   2.61000\n",
       "3  11.738631   0.04800\n",
       "4  14.418717   0.00700\n",
       "5  13.288018   0.03100\n",
       "6  44.225101  43.56000\n",
       "7  14.425541   3.59451\n",
       "8  14.691484   0.00900"
      ]
     },
     "execution_count": 487,
     "metadata": {},
     "output_type": "execute_result"
    }
   ],
   "source": [
    "data = {'Predicted':y_pred, 'Actual':y_test}\n",
    "\n",
    "comparison = pd.DataFrame(data)\n",
    "comparison"
   ]
  },
  {
   "cell_type": "code",
   "execution_count": 488,
   "id": "517c62d6",
   "metadata": {
    "colab": {
     "base_uri": "https://localhost:8080/"
    },
    "id": "517c62d6",
    "outputId": "3adb1a44-8194-4454-c609-15b1895b086b"
   },
   "outputs": [
    {
     "data": {
      "text/plain": [
       "array([ 1.88156792, 29.94717213, 21.69258266,  6.83432161, -4.72210366,\n",
       "        5.18340371, 28.29625424, 23.34350055, -3.07118576])"
      ]
     },
     "execution_count": 488,
     "metadata": {},
     "output_type": "execute_result"
    }
   ],
   "source": [
    "#5 Predicting a new result\n",
    "y_pred = lr.predict(X_test)\n",
    "y_pred"
   ]
  },
  {
   "cell_type": "code",
   "execution_count": 489,
   "id": "4e6b9a7d",
   "metadata": {},
   "outputs": [
    {
     "name": "stdout",
     "output_type": "stream",
     "text": [
      "R squared: 32.31\n",
      "Mean Squared Error is:  233.6036362383153\n",
      "Root Mean Squared Error is:  15.284097495053977\n"
     ]
    }
   ],
   "source": [
    "mse = metrics.mean_squared_error(y_test, y_pred)\n",
    "rmse = np.sqrt(mse)\n",
    "\n",
    "print('R squared: {:.2f}'.format(lr.score(X,y)*100))\n",
    "print(\"Mean Squared Error is: \", mse)\n",
    "print(\"Root Mean Squared Error is: \", rmse)"
   ]
  },
  {
   "cell_type": "code",
   "execution_count": 490,
   "id": "fd65b873",
   "metadata": {},
   "outputs": [
    {
     "data": {
      "text/html": [
       "<div>\n",
       "<style scoped>\n",
       "    .dataframe tbody tr th:only-of-type {\n",
       "        vertical-align: middle;\n",
       "    }\n",
       "\n",
       "    .dataframe tbody tr th {\n",
       "        vertical-align: top;\n",
       "    }\n",
       "\n",
       "    .dataframe thead th {\n",
       "        text-align: right;\n",
       "    }\n",
       "</style>\n",
       "<table border=\"1\" class=\"dataframe\">\n",
       "  <thead>\n",
       "    <tr style=\"text-align: right;\">\n",
       "      <th></th>\n",
       "      <th>Predicted</th>\n",
       "      <th>Actual</th>\n",
       "    </tr>\n",
       "  </thead>\n",
       "  <tbody>\n",
       "    <tr>\n",
       "      <th>0</th>\n",
       "      <td>1.881568</td>\n",
       "      <td>0.01700</td>\n",
       "    </tr>\n",
       "    <tr>\n",
       "      <th>1</th>\n",
       "      <td>29.947172</td>\n",
       "      <td>61.68600</td>\n",
       "    </tr>\n",
       "    <tr>\n",
       "      <th>2</th>\n",
       "      <td>21.692583</td>\n",
       "      <td>2.61000</td>\n",
       "    </tr>\n",
       "    <tr>\n",
       "      <th>3</th>\n",
       "      <td>6.834322</td>\n",
       "      <td>0.04800</td>\n",
       "    </tr>\n",
       "    <tr>\n",
       "      <th>4</th>\n",
       "      <td>-4.722104</td>\n",
       "      <td>0.00700</td>\n",
       "    </tr>\n",
       "    <tr>\n",
       "      <th>5</th>\n",
       "      <td>5.183404</td>\n",
       "      <td>0.03100</td>\n",
       "    </tr>\n",
       "    <tr>\n",
       "      <th>6</th>\n",
       "      <td>28.296254</td>\n",
       "      <td>43.56000</td>\n",
       "    </tr>\n",
       "    <tr>\n",
       "      <th>7</th>\n",
       "      <td>23.343501</td>\n",
       "      <td>3.59451</td>\n",
       "    </tr>\n",
       "    <tr>\n",
       "      <th>8</th>\n",
       "      <td>-3.071186</td>\n",
       "      <td>0.00900</td>\n",
       "    </tr>\n",
       "  </tbody>\n",
       "</table>\n",
       "</div>"
      ],
      "text/plain": [
       "   Predicted    Actual\n",
       "0   1.881568   0.01700\n",
       "1  29.947172  61.68600\n",
       "2  21.692583   2.61000\n",
       "3   6.834322   0.04800\n",
       "4  -4.722104   0.00700\n",
       "5   5.183404   0.03100\n",
       "6  28.296254  43.56000\n",
       "7  23.343501   3.59451\n",
       "8  -3.071186   0.00900"
      ]
     },
     "execution_count": 490,
     "metadata": {},
     "output_type": "execute_result"
    }
   ],
   "source": [
    "data = {'Predicted':y_pred, 'Actual':y_test}\n",
    "\n",
    "comparison = pd.DataFrame(data)\n",
    "comparison"
   ]
  },
  {
   "cell_type": "code",
   "execution_count": 491,
   "id": "e4f8fc95",
   "metadata": {
    "colab": {
     "base_uri": "https://localhost:8080/"
    },
    "id": "e4f8fc95",
    "outputId": "4bd369fe-6300-425c-9987-a98bf532b097"
   },
   "outputs": [
    {
     "data": {
      "text/plain": [
       "array([70.12604548, 74.45343507, 76.12284207, 75.27754973, 72.30866605,\n",
       "       67.77015483, 62.28108051, 56.43483496, 50.73021443, 45.53185312,\n",
       "       41.06002577, 37.40407944, 34.55071852, 32.41805465, 30.88803939,\n",
       "       29.83260775, 29.13162342, 28.68288748, 28.40578015, 28.24059084,\n",
       "       28.14547729, 28.09255508, 28.06408789, 28.04927935, 28.04182741,\n",
       "       28.03819892, 28.03648899, 28.03570896, 28.03536445, 28.03521712,\n",
       "       28.0351561 , 28.03513162, 28.03512211])"
      ]
     },
     "execution_count": 491,
     "metadata": {},
     "output_type": "execute_result"
    }
   ],
   "source": [
    "model2 = SVR(kernel='rbf', C=100, epsilon=15)\n",
    "svr = model2.fit(X, y)\n",
    "x_future = [[2018],[2019],[2020],[2021],[2022],[2023],[2024],[2025],[2026],[2027],[2028],[2029],[2030],[2031],[2032],[2033],[2034],[2035],[2036],[2037],[2038],[2039],[2040],[2041],[2042],[2043],[2044],[2045],[2046],[2047],[2048],[2049],[2050]]\n",
    "y_pred = svr.predict(x_future)\n",
    "y_pred"
   ]
  },
  {
   "cell_type": "code",
   "execution_count": 492,
   "id": "7cb1bbc4",
   "metadata": {},
   "outputs": [
    {
     "data": {
      "text/plain": [
       "array([1138.17402794, 1182.01227499, 1223.19253945, 1261.85810469,\n",
       "       1298.40007848, 1333.37242472, 1367.39420798, 1401.05881989,\n",
       "       1434.86505694, 1469.17755298, 1504.21658309, 1540.07149434,\n",
       "       1576.72899089, 1614.10718448, 1652.08802681, 1690.54345263,\n",
       "       1729.35332588, 1768.4154474 , 1807.64919741, 1846.99486568,\n",
       "       1886.4106096 , 1925.86854485, 1965.35093524, 2004.84698416,\n",
       "       2044.35038981, 2083.85761878, 2123.36676631, 2162.87684387,\n",
       "       2202.3873567 , 2241.89806683, 2281.40886339, 2320.91969638,\n",
       "       2360.43054445])"
      ]
     },
     "execution_count": 492,
     "metadata": {},
     "output_type": "execute_result"
    }
   ],
   "source": [
    "net_consumption+=y_pred\n",
    "net_consumption"
   ]
  },
  {
   "cell_type": "code",
   "execution_count": 493,
   "id": "SQhSAPovBKep",
   "metadata": {
    "colab": {
     "base_uri": "https://localhost:8080/"
    },
    "id": "SQhSAPovBKep",
    "outputId": "f33d4715-cf1a-4d66-e2e1-b5a78b61b1c2"
   },
   "outputs": [
    {
     "name": "stdout",
     "output_type": "stream",
     "text": [
      "Rate of Increase: 7.542184206946592\n"
     ]
    }
   ],
   "source": [
    "# Finding the Rate of Increase for Solar power Consumption\n",
    "print (\"Rate of Increase:\", (y_pred[2] - 0.701)/10)"
   ]
  },
  {
   "cell_type": "code",
   "execution_count": 494,
   "id": "0753af3d",
   "metadata": {},
   "outputs": [
    {
     "data": {
      "image/png": "[encoded data removed]",
      "text/plain": [
       "<Figure size 432x288 with 1 Axes>"
      ]
     },
     "metadata": {
      "needs_background": "light"
     },
     "output_type": "display_data"
    }
   ],
   "source": [
    "fig, ax = plt.subplots()\n",
    "ax.scatter(years,y_pred)\n",
    "ax.set_title('Predicted Solar Energy Consumption in China (epsilon=200, C=200)')\n",
    "ax.set_xlabel('Years')\n",
    "ax.set_ylabel('Energy Consumption')\n",
    "\n",
    "\n",
    "plt.show()"
   ]
  },
  {
   "cell_type": "markdown",
   "id": "91887098",
   "metadata": {
    "id": "91887098"
   },
   "source": [
    "# Wind"
   ]
  },
  {
   "cell_type": "code",
   "execution_count": 495,
   "id": "c76489bb",
   "metadata": {
    "id": "c76489bb"
   },
   "outputs": [],
   "source": [
    "# Use MinMax Scaling on Year and Solar\n",
    "df['Year (scaled)']=scaler.fit_transform(df[['Year']])\n",
    "df['Solar (scaled)']=scaler.fit_transform(df[['Wind (terawatt-hours)']])"
   ]
  },
  {
   "cell_type": "code",
   "execution_count": 496,
   "id": "1056d1e4",
   "metadata": {
    "colab": {
     "base_uri": "https://localhost:8080/",
     "height": 542
    },
    "id": "1056d1e4",
    "outputId": "c4c51c58-5f32-4ca2-94c0-b796619292c3"
   },
   "outputs": [
    {
     "data": {
      "application/vnd.plotly.v1+json": {
       "config": {
        "plotlyServerURL": "https://plot.ly"
       },
       "data": [
        {
         "hovertemplate": "Year=%{x}<br>Wind (terawatt-hours)=%{y}<extra></extra>",
         "legendgroup": "",
         "marker": {
          "color": "black",
          "opacity": 0.8,
          "size": 5,
          "symbol": "circle"
         },
         "mode": "markers",
         "name": "",
         "orientation": "v",
         "showlegend": false,
         "type": "scatter",
         "x": [
          1990,
          1991,
          1992,
          1993,
          1994,
          1995,
          1996,
          1997,
          1998,
          1999,
          2000,
          2001,
          2002,
          2003,
          2004,
          2005,
          2006,
          2007,
          2008,
          2009,
          2010,
          2011,
          2012,
          2013,
          2014,
          2015,
          2016,
          2017
         ],
         "xaxis": "x",
         "y": [
          0.002020202020202,
          0.0090909090909089,
          0.13131313131313,
          0.21212121212121,
          0.383838383838379,
          0.61616161616161,
          0.0939393939393926,
          0.197979797979796,
          0.355555555555551,
          0.473737373737366,
          0.589898989898982,
          0.71919191919191,
          0.837373737373726,
          0.996969696969687,
          1.27777777777776,
          1.94606060606058,
          3.71181818181814,
          5.47929292929288,
          13.1,
          27.6,
          44.622,
          70.331,
          95.978,
          141.197,
          156.078,
          185.766,
          237.071,
          295
         ],
         "yaxis": "y"
        }
       ],
       "layout": {
        "legend": {
         "tracegroupgap": 0
        },
        "margin": {
         "t": 60
        },
        "plot_bgcolor": "white",
        "template": {
         "data": {
          "bar": [
           {
            "error_x": {
             "color": "#2a3f5f"
            },
            "error_y": {
             "color": "#2a3f5f"
            },
            "marker": {
             "line": {
              "color": "#E5ECF6",
              "width": 0.5
             },
             "pattern": {
              "fillmode": "overlay",
              "size": 10,
              "solidity": 0.2
             }
            },
            "type": "bar"
           }
          ],
          "barpolar": [
           {
            "marker": {
             "line": {
              "color": "#E5ECF6",
              "width": 0.5
             },
             "pattern": {
              "fillmode": "overlay",
              "size": 10,
              "solidity": 0.2
             }
            },
            "type": "barpolar"
           }
          ],
          "carpet": [
           {
            "aaxis": {
             "endlinecolor": "#2a3f5f",
             "gridcolor": "white",
             "linecolor": "white",
             "minorgridcolor": "white",
             "startlinecolor": "#2a3f5f"
            },
            "baxis": {
             "endlinecolor": "#2a3f5f",
             "gridcolor": "white",
             "linecolor": "white",
             "minorgridcolor": "white",
             "startlinecolor": "#2a3f5f"
            },
            "type": "carpet"
           }
          ],
          "choropleth": [
           {
            "colorbar": {
             "outlinewidth": 0,
             "ticks": ""
            },
            "type": "choropleth"
           }
          ],
          "contour": [
           {
            "colorbar": {
             "outlinewidth": 0,
             "ticks": ""
            },
            "colorscale": [
             [
              0,
              "#0d0887"
             ],
             [
              0.1111111111111111,
              "#46039f"
             ],
             [
              0.2222222222222222,
              "#7201a8"
             ],
             [
              0.3333333333333333,
              "#9c179e"
             ],
             [
              0.4444444444444444,
              "#bd3786"
             ],
             [
              0.5555555555555556,
              "#d8576b"
             ],
             [
              0.6666666666666666,
              "#ed7953"
             ],
             [
              0.7777777777777778,
              "#fb9f3a"
             ],
             [
              0.8888888888888888,
              "#fdca26"
             ],
             [
              1,
              "#f0f921"
             ]
            ],
            "type": "contour"
           }
          ],
          "contourcarpet": [
           {
            "colorbar": {
             "outlinewidth": 0,
             "ticks": ""
            },
            "type": "contourcarpet"
           }
          ],
          "heatmap": [
           {
            "colorbar": {
             "outlinewidth": 0,
             "ticks": ""
            },
            "colorscale": [
             [
              0,
              "#0d0887"
             ],
             [
              0.1111111111111111,
              "#46039f"
             ],
             [
              0.2222222222222222,
              "#7201a8"
             ],
             [
              0.3333333333333333,
              "#9c179e"
             ],
             [
              0.4444444444444444,
              "#bd3786"
             ],
             [
              0.5555555555555556,
              "#d8576b"
             ],
             [
              0.6666666666666666,
              "#ed7953"
             ],
             [
              0.7777777777777778,
              "#fb9f3a"
             ],
             [
              0.8888888888888888,
              "#fdca26"
             ],
             [
              1,
              "#f0f921"
             ]
            ],
            "type": "heatmap"
           }
          ],
          "heatmapgl": [
           {
            "colorbar": {
             "outlinewidth": 0,
             "ticks": ""
            },
            "colorscale": [
             [
              0,
              "#0d0887"
             ],
             [
              0.1111111111111111,
              "#46039f"
             ],
             [
              0.2222222222222222,
              "#7201a8"
             ],
             [
              0.3333333333333333,
              "#9c179e"
             ],
             [
              0.4444444444444444,
              "#bd3786"
             ],
             [
              0.5555555555555556,
              "#d8576b"
             ],
             [
              0.6666666666666666,
              "#ed7953"
             ],
             [
              0.7777777777777778,
              "#fb9f3a"
             ],
             [
              0.8888888888888888,
              "#fdca26"
             ],
             [
              1,
              "#f0f921"
             ]
            ],
            "type": "heatmapgl"
           }
          ],
          "histogram": [
           {
            "marker": {
             "pattern": {
              "fillmode": "overlay",
              "size": 10,
              "solidity": 0.2
             }
            },
            "type": "histogram"
           }
          ],
          "histogram2d": [
           {
            "colorbar": {
             "outlinewidth": 0,
             "ticks": ""
            },
            "colorscale": [
             [
              0,
              "#0d0887"
             ],
             [
              0.1111111111111111,
              "#46039f"
             ],
             [
              0.2222222222222222,
              "#7201a8"
             ],
             [
              0.3333333333333333,
              "#9c179e"
             ],
             [
              0.4444444444444444,
              "#bd3786"
             ],
             [
              0.5555555555555556,
              "#d8576b"
             ],
             [
              0.6666666666666666,
              "#ed7953"
             ],
             [
              0.7777777777777778,
              "#fb9f3a"
             ],
             [
              0.8888888888888888,
              "#fdca26"
             ],
             [
              1,
              "#f0f921"
             ]
            ],
            "type": "histogram2d"
           }
          ],
          "histogram2dcontour": [
           {
            "colorbar": {
             "outlinewidth": 0,
             "ticks": ""
            },
            "colorscale": [
             [
              0,
              "#0d0887"
             ],
             [
              0.1111111111111111,
              "#46039f"
             ],
             [
              0.2222222222222222,
              "#7201a8"
             ],
             [
              0.3333333333333333,
              "#9c179e"
             ],
             [
              0.4444444444444444,
              "#bd3786"
             ],
             [
              0.5555555555555556,
              "#d8576b"
             ],
             [
              0.6666666666666666,
              "#ed7953"
             ],
             [
              0.7777777777777778,
              "#fb9f3a"
             ],
             [
              0.8888888888888888,
              "#fdca26"
             ],
             [
              1,
              "#f0f921"
             ]
            ],
            "type": "histogram2dcontour"
           }
          ],
          "mesh3d": [
           {
            "colorbar": {
             "outlinewidth": 0,
             "ticks": ""
            },
            "type": "mesh3d"
           }
          ],
          "parcoords": [
           {
            "line": {
             "colorbar": {
              "outlinewidth": 0,
              "ticks": ""
             }
            },
            "type": "parcoords"
           }
          ],
          "pie": [
           {
            "automargin": true,
            "type": "pie"
           }
          ],
          "scatter": [
           {
            "marker": {
             "colorbar": {
              "outlinewidth": 0,
              "ticks": ""
             }
            },
            "type": "scatter"
           }
          ],
          "scatter3d": [
           {
            "line": {
             "colorbar": {
              "outlinewidth": 0,
              "ticks": ""
             }
            },
            "marker": {
             "colorbar": {
              "outlinewidth": 0,
              "ticks": ""
             }
            },
            "type": "scatter3d"
           }
          ],
          "scattercarpet": [
           {
            "marker": {
             "colorbar": {
              "outlinewidth": 0,
              "ticks": ""
             }
            },
            "type": "scattercarpet"
           }
          ],
          "scattergeo": [
           {
            "marker": {
             "colorbar": {
              "outlinewidth": 0,
              "ticks": ""
             }
            },
            "type": "scattergeo"
           }
          ],
          "scattergl": [
           {
            "marker": {
             "colorbar": {
              "outlinewidth": 0,
              "ticks": ""
             }
            },
            "type": "scattergl"
           }
          ],
          "scattermapbox": [
           {
            "marker": {
             "colorbar": {
              "outlinewidth": 0,
              "ticks": ""
             }
            },
            "type": "scattermapbox"
           }
          ],
          "scatterpolar": [
           {
            "marker": {
             "colorbar": {
              "outlinewidth": 0,
              "ticks": ""
             }
            },
            "type": "scatterpolar"
           }
          ],
          "scatterpolargl": [
           {
            "marker": {
             "colorbar": {
              "outlinewidth": 0,
              "ticks": ""
             }
            },
            "type": "scatterpolargl"
           }
          ],
          "scatterternary": [
           {
            "marker": {
             "colorbar": {
              "outlinewidth": 0,
              "ticks": ""
             }
            },
            "type": "scatterternary"
           }
          ],
          "surface": [
           {
            "colorbar": {
             "outlinewidth": 0,
             "ticks": ""
            },
            "colorscale": [
             [
              0,
              "#0d0887"
             ],
             [
              0.1111111111111111,
              "#46039f"
             ],
             [
              0.2222222222222222,
              "#7201a8"
             ],
             [
              0.3333333333333333,
              "#9c179e"
             ],
             [
              0.4444444444444444,
              "#bd3786"
             ],
             [
              0.5555555555555556,
              "#d8576b"
             ],
             [
              0.6666666666666666,
              "#ed7953"
             ],
             [
              0.7777777777777778,
              "#fb9f3a"
             ],
             [
              0.8888888888888888,
              "#fdca26"
             ],
             [
              1,
              "#f0f921"
             ]
            ],
            "type": "surface"
           }
          ],
          "table": [
           {
            "cells": {
             "fill": {
              "color": "#EBF0F8"
             },
             "line": {
              "color": "white"
             }
            },
            "header": {
             "fill": {
              "color": "#C8D4E3"
             },
             "line": {
              "color": "white"
             }
            },
            "type": "table"
           }
          ]
         },
         "layout": {
          "annotationdefaults": {
           "arrowcolor": "#2a3f5f",
           "arrowhead": 0,
           "arrowwidth": 1
          },
          "autotypenumbers": "strict",
          "coloraxis": {
           "colorbar": {
            "outlinewidth": 0,
            "ticks": ""
           }
          },
          "colorscale": {
           "diverging": [
            [
             0,
             "#8e0152"
            ],
            [
             0.1,
             "#c51b7d"
            ],
            [
             0.2,
             "#de77ae"
            ],
            [
             0.3,
             "#f1b6da"
            ],
            [
             0.4,
             "#fde0ef"
            ],
            [
             0.5,
             "#f7f7f7"
            ],
            [
             0.6,
             "#e6f5d0"
            ],
            [
             0.7,
             "#b8e186"
            ],
            [
             0.8,
             "#7fbc41"
            ],
            [
             0.9,
             "#4d9221"
            ],
            [
             1,
             "#276419"
            ]
           ],
           "sequential": [
            [
             0,
             "#0d0887"
            ],
            [
             0.1111111111111111,
             "#46039f"
            ],
            [
             0.2222222222222222,
             "#7201a8"
            ],
            [
             0.3333333333333333,
             "#9c179e"
            ],
            [
             0.4444444444444444,
             "#bd3786"
            ],
            [
             0.5555555555555556,
             "#d8576b"
            ],
            [
             0.6666666666666666,
             "#ed7953"
            ],
            [
             0.7777777777777778,
             "#fb9f3a"
            ],
            [
             0.8888888888888888,
             "#fdca26"
            ],
            [
             1,
             "#f0f921"
            ]
           ],
           "sequentialminus": [
            [
             0,
             "#0d0887"
            ],
            [
             0.1111111111111111,
             "#46039f"
            ],
            [
             0.2222222222222222,
             "#7201a8"
            ],
            [
             0.3333333333333333,
             "#9c179e"
            ],
            [
             0.4444444444444444,
             "#bd3786"
            ],
            [
             0.5555555555555556,
             "#d8576b"
            ],
            [
             0.6666666666666666,
             "#ed7953"
            ],
            [
             0.7777777777777778,
             "#fb9f3a"
            ],
            [
             0.8888888888888888,
             "#fdca26"
            ],
            [
             1,
             "#f0f921"
            ]
           ]
          },
          "colorway": [
           "#636efa",
           "#EF553B",
           "#00cc96",
           "#ab63fa",
           "#FFA15A",
           "#19d3f3",
           "#FF6692",
           "#B6E880",
           "#FF97FF",
           "#FECB52"
          ],
          "font": {
           "color": "#2a3f5f"
          },
          "geo": {
           "bgcolor": "white",
           "lakecolor": "white",
           "landcolor": "#E5ECF6",
           "showlakes": true,
           "showland": true,
           "subunitcolor": "white"
          },
          "hoverlabel": {
           "align": "left"
          },
          "hovermode": "closest",
          "mapbox": {
           "style": "light"
          },
          "paper_bgcolor": "white",
          "plot_bgcolor": "#E5ECF6",
          "polar": {
           "angularaxis": {
            "gridcolor": "white",
            "linecolor": "white",
            "ticks": ""
           },
           "bgcolor": "#E5ECF6",
           "radialaxis": {
            "gridcolor": "white",
            "linecolor": "white",
            "ticks": ""
           }
          },
          "scene": {
           "xaxis": {
            "backgroundcolor": "#E5ECF6",
            "gridcolor": "white",
            "gridwidth": 2,
            "linecolor": "white",
            "showbackground": true,
            "ticks": "",
            "zerolinecolor": "white"
           },
           "yaxis": {
            "backgroundcolor": "#E5ECF6",
            "gridcolor": "white",
            "gridwidth": 2,
            "linecolor": "white",
            "showbackground": true,
            "ticks": "",
            "zerolinecolor": "white"
           },
           "zaxis": {
            "backgroundcolor": "#E5ECF6",
            "gridcolor": "white",
            "gridwidth": 2,
            "linecolor": "white",
            "showbackground": true,
            "ticks": "",
            "zerolinecolor": "white"
           }
          },
          "shapedefaults": {
           "line": {
            "color": "#2a3f5f"
           }
          },
          "ternary": {
           "aaxis": {
            "gridcolor": "white",
            "linecolor": "white",
            "ticks": ""
           },
           "baxis": {
            "gridcolor": "white",
            "linecolor": "white",
            "ticks": ""
           },
           "bgcolor": "#E5ECF6",
           "caxis": {
            "gridcolor": "white",
            "linecolor": "white",
            "ticks": ""
           }
          },
          "title": {
           "x": 0.05
          },
          "xaxis": {
           "automargin": true,
           "gridcolor": "white",
           "linecolor": "white",
           "ticks": "",
           "title": {
            "standoff": 15
           },
           "zerolinecolor": "white",
           "zerolinewidth": 2
          },
          "yaxis": {
           "automargin": true,
           "gridcolor": "white",
           "linecolor": "white",
           "ticks": "",
           "title": {
            "standoff": 15
           },
           "zerolinecolor": "white",
           "zerolinewidth": 2
          }
         }
        },
        "title": {
         "font": {
          "color": "black"
         },
         "text": "Wind Energy Consumption in China"
        },
        "xaxis": {
         "anchor": "y",
         "domain": [
          0,
          1
         ],
         "gridcolor": "lightgrey",
         "gridwidth": 1,
         "linecolor": "black",
         "linewidth": 1,
         "showgrid": true,
         "showline": true,
         "title": {
          "text": "Year"
         },
         "zeroline": true,
         "zerolinecolor": "lightgrey",
         "zerolinewidth": 1
        },
        "yaxis": {
         "anchor": "x",
         "domain": [
          0,
          1
         ],
         "gridcolor": "lightgrey",
         "gridwidth": 1,
         "linecolor": "black",
         "linewidth": 1,
         "showgrid": true,
         "showline": true,
         "title": {
          "text": "Wind (terawatt-hours)"
         },
         "zeroline": true,
         "zerolinecolor": "lightgrey",
         "zerolinewidth": 1
        }
       }
      },
      "text/html": [
       "<div>                            <div id=\"bef2e519-a9b7-4192-b27d-d12f7257f96b\" class=\"plotly-graph-div\" style=\"height:525px; width:100%;\"></div>            <script type=\"text/javascript\">                require([\"plotly\"], function(Plotly) {                    window.PLOTLYENV=window.PLOTLYENV || {};                                    if (document.getElementById(\"bef2e519-a9b7-4192-b27d-d12f7257f96b\")) {                    Plotly.newPlot(                        \"bef2e519-a9b7-4192-b27d-d12f7257f96b\",                        [{\"hovertemplate\":\"Year=%{x}<br>Wind (terawatt-hours)=%{y}<extra></extra>\",\"legendgroup\":\"\",\"marker\":{\"color\":\"black\",\"opacity\":0.8,\"symbol\":\"circle\",\"size\":5},\"mode\":\"markers\",\"name\":\"\",\"orientation\":\"v\",\"showlegend\":false,\"x\":[1990,1991,1992,1993,1994,1995,1996,1997,1998,1999,2000,2001,2002,2003,2004,2005,2006,2007,2008,2009,2010,2011,2012,2013,2014,2015,2016,2017],\"xaxis\":\"x\",\"y\":[0.002020202020202,0.0090909090909089,0.13131313131313,0.21212121212121,0.383838383838379,0.61616161616161,0.0939393939393926,0.197979797979796,0.355555555555551,0.473737373737366,0.589898989898982,0.71919191919191,0.837373737373726,0.996969696969687,1.27777777777776,1.94606060606058,3.71181818181814,5.47929292929288,13.1,27.6,44.622,70.331,95.978,141.197,156.078,185.766,237.071,295.0],\"yaxis\":\"y\",\"type\":\"scatter\"}],                        {\"template\":{\"data\":{\"bar\":[{\"error_x\":{\"color\":\"#2a3f5f\"},\"error_y\":{\"color\":\"#2a3f5f\"},\"marker\":{\"line\":{\"color\":\"#E5ECF6\",\"width\":0.5},\"pattern\":{\"fillmode\":\"overlay\",\"size\":10,\"solidity\":0.2}},\"type\":\"bar\"}],\"barpolar\":[{\"marker\":{\"line\":{\"color\":\"#E5ECF6\",\"width\":0.5},\"pattern\":{\"fillmode\":\"overlay\",\"size\":10,\"solidity\":0.2}},\"type\":\"barpolar\"}],\"carpet\":[{\"aaxis\":{\"endlinecolor\":\"#2a3f5f\",\"gridcolor\":\"white\",\"linecolor\":\"white\",\"minorgridcolor\":\"white\",\"startlinecolor\":\"#2a3f5f\"},\"baxis\":{\"endlinecolor\":\"#2a3f5f\",\"gridcolor\":\"white\",\"linecolor\":\"white\",\"minorgridcolor\":\"white\",\"startlinecolor\":\"#2a3f5f\"},\"type\":\"carpet\"}],\"choropleth\":[{\"colorbar\":{\"outlinewidth\":0,\"ticks\":\"\"},\"type\":\"choropleth\"}],\"contour\":[{\"colorbar\":{\"outlinewidth\":0,\"ticks\":\"\"},\"colorscale\":[[0.0,\"#0d0887\"],[0.1111111111111111,\"#46039f\"],[0.2222222222222222,\"#7201a8\"],[0.3333333333333333,\"#9c179e\"],[0.4444444444444444,\"#bd3786\"],[0.5555555555555556,\"#d8576b\"],[0.6666666666666666,\"#ed7953\"],[0.7777777777777778,\"#fb9f3a\"],[0.8888888888888888,\"#fdca26\"],[1.0,\"#f0f921\"]],\"type\":\"contour\"}],\"contourcarpet\":[{\"colorbar\":{\"outlinewidth\":0,\"ticks\":\"\"},\"type\":\"contourcarpet\"}],\"heatmap\":[{\"colorbar\":{\"outlinewidth\":0,\"ticks\":\"\"},\"colorscale\":[[0.0,\"#0d0887\"],[0.1111111111111111,\"#46039f\"],[0.2222222222222222,\"#7201a8\"],[0.3333333333333333,\"#9c179e\"],[0.4444444444444444,\"#bd3786\"],[0.5555555555555556,\"#d8576b\"],[0.6666666666666666,\"#ed7953\"],[0.7777777777777778,\"#fb9f3a\"],[0.8888888888888888,\"#fdca26\"],[1.0,\"#f0f921\"]],\"type\":\"heatmap\"}],\"heatmapgl\":[{\"colorbar\":{\"outlinewidth\":0,\"ticks\":\"\"},\"colorscale\":[[0.0,\"#0d0887\"],[0.1111111111111111,\"#46039f\"],[0.2222222222222222,\"#7201a8\"],[0.3333333333333333,\"#9c179e\"],[0.4444444444444444,\"#bd3786\"],[0.5555555555555556,\"#d8576b\"],[0.6666666666666666,\"#ed7953\"],[0.7777777777777778,\"#fb9f3a\"],[0.8888888888888888,\"#fdca26\"],[1.0,\"#f0f921\"]],\"type\":\"heatmapgl\"}],\"histogram\":[{\"marker\":{\"pattern\":{\"fillmode\":\"overlay\",\"size\":10,\"solidity\":0.2}},\"type\":\"histogram\"}],\"histogram2d\":[{\"colorbar\":{\"outlinewidth\":0,\"ticks\":\"\"},\"colorscale\":[[0.0,\"#0d0887\"],[0.1111111111111111,\"#46039f\"],[0.2222222222222222,\"#7201a8\"],[0.3333333333333333,\"#9c179e\"],[0.4444444444444444,\"#bd3786\"],[0.5555555555555556,\"#d8576b\"],[0.6666666666666666,\"#ed7953\"],[0.7777777777777778,\"#fb9f3a\"],[0.8888888888888888,\"#fdca26\"],[1.0,\"#f0f921\"]],\"type\":\"histogram2d\"}],\"histogram2dcontour\":[{\"colorbar\":{\"outlinewidth\":0,\"ticks\":\"\"},\"colorscale\":[[0.0,\"#0d0887\"],[0.1111111111111111,\"#46039f\"],[0.2222222222222222,\"#7201a8\"],[0.3333333333333333,\"#9c179e\"],[0.4444444444444444,\"#bd3786\"],[0.5555555555555556,\"#d8576b\"],[0.6666666666666666,\"#ed7953\"],[0.7777777777777778,\"#fb9f3a\"],[0.8888888888888888,\"#fdca26\"],[1.0,\"#f0f921\"]],\"type\":\"histogram2dcontour\"}],\"mesh3d\":[{\"colorbar\":{\"outlinewidth\":0,\"ticks\":\"\"},\"type\":\"mesh3d\"}],\"parcoords\":[{\"line\":{\"colorbar\":{\"outlinewidth\":0,\"ticks\":\"\"}},\"type\":\"parcoords\"}],\"pie\":[{\"automargin\":true,\"type\":\"pie\"}],\"scatter\":[{\"marker\":{\"colorbar\":{\"outlinewidth\":0,\"ticks\":\"\"}},\"type\":\"scatter\"}],\"scatter3d\":[{\"line\":{\"colorbar\":{\"outlinewidth\":0,\"ticks\":\"\"}},\"marker\":{\"colorbar\":{\"outlinewidth\":0,\"ticks\":\"\"}},\"type\":\"scatter3d\"}],\"scattercarpet\":[{\"marker\":{\"colorbar\":{\"outlinewidth\":0,\"ticks\":\"\"}},\"type\":\"scattercarpet\"}],\"scattergeo\":[{\"marker\":{\"colorbar\":{\"outlinewidth\":0,\"ticks\":\"\"}},\"type\":\"scattergeo\"}],\"scattergl\":[{\"marker\":{\"colorbar\":{\"outlinewidth\":0,\"ticks\":\"\"}},\"type\":\"scattergl\"}],\"scattermapbox\":[{\"marker\":{\"colorbar\":{\"outlinewidth\":0,\"ticks\":\"\"}},\"type\":\"scattermapbox\"}],\"scatterpolar\":[{\"marker\":{\"colorbar\":{\"outlinewidth\":0,\"ticks\":\"\"}},\"type\":\"scatterpolar\"}],\"scatterpolargl\":[{\"marker\":{\"colorbar\":{\"outlinewidth\":0,\"ticks\":\"\"}},\"type\":\"scatterpolargl\"}],\"scatterternary\":[{\"marker\":{\"colorbar\":{\"outlinewidth\":0,\"ticks\":\"\"}},\"type\":\"scatterternary\"}],\"surface\":[{\"colorbar\":{\"outlinewidth\":0,\"ticks\":\"\"},\"colorscale\":[[0.0,\"#0d0887\"],[0.1111111111111111,\"#46039f\"],[0.2222222222222222,\"#7201a8\"],[0.3333333333333333,\"#9c179e\"],[0.4444444444444444,\"#bd3786\"],[0.5555555555555556,\"#d8576b\"],[0.6666666666666666,\"#ed7953\"],[0.7777777777777778,\"#fb9f3a\"],[0.8888888888888888,\"#fdca26\"],[1.0,\"#f0f921\"]],\"type\":\"surface\"}],\"table\":[{\"cells\":{\"fill\":{\"color\":\"#EBF0F8\"},\"line\":{\"color\":\"white\"}},\"header\":{\"fill\":{\"color\":\"#C8D4E3\"},\"line\":{\"color\":\"white\"}},\"type\":\"table\"}]},\"layout\":{\"annotationdefaults\":{\"arrowcolor\":\"#2a3f5f\",\"arrowhead\":0,\"arrowwidth\":1},\"autotypenumbers\":\"strict\",\"coloraxis\":{\"colorbar\":{\"outlinewidth\":0,\"ticks\":\"\"}},\"colorscale\":{\"diverging\":[[0,\"#8e0152\"],[0.1,\"#c51b7d\"],[0.2,\"#de77ae\"],[0.3,\"#f1b6da\"],[0.4,\"#fde0ef\"],[0.5,\"#f7f7f7\"],[0.6,\"#e6f5d0\"],[0.7,\"#b8e186\"],[0.8,\"#7fbc41\"],[0.9,\"#4d9221\"],[1,\"#276419\"]],\"sequential\":[[0.0,\"#0d0887\"],[0.1111111111111111,\"#46039f\"],[0.2222222222222222,\"#7201a8\"],[0.3333333333333333,\"#9c179e\"],[0.4444444444444444,\"#bd3786\"],[0.5555555555555556,\"#d8576b\"],[0.6666666666666666,\"#ed7953\"],[0.7777777777777778,\"#fb9f3a\"],[0.8888888888888888,\"#fdca26\"],[1.0,\"#f0f921\"]],\"sequentialminus\":[[0.0,\"#0d0887\"],[0.1111111111111111,\"#46039f\"],[0.2222222222222222,\"#7201a8\"],[0.3333333333333333,\"#9c179e\"],[0.4444444444444444,\"#bd3786\"],[0.5555555555555556,\"#d8576b\"],[0.6666666666666666,\"#ed7953\"],[0.7777777777777778,\"#fb9f3a\"],[0.8888888888888888,\"#fdca26\"],[1.0,\"#f0f921\"]]},\"colorway\":[\"#636efa\",\"#EF553B\",\"#00cc96\",\"#ab63fa\",\"#FFA15A\",\"#19d3f3\",\"#FF6692\",\"#B6E880\",\"#FF97FF\",\"#FECB52\"],\"font\":{\"color\":\"#2a3f5f\"},\"geo\":{\"bgcolor\":\"white\",\"lakecolor\":\"white\",\"landcolor\":\"#E5ECF6\",\"showlakes\":true,\"showland\":true,\"subunitcolor\":\"white\"},\"hoverlabel\":{\"align\":\"left\"},\"hovermode\":\"closest\",\"mapbox\":{\"style\":\"light\"},\"paper_bgcolor\":\"white\",\"plot_bgcolor\":\"#E5ECF6\",\"polar\":{\"angularaxis\":{\"gridcolor\":\"white\",\"linecolor\":\"white\",\"ticks\":\"\"},\"bgcolor\":\"#E5ECF6\",\"radialaxis\":{\"gridcolor\":\"white\",\"linecolor\":\"white\",\"ticks\":\"\"}},\"scene\":{\"xaxis\":{\"backgroundcolor\":\"#E5ECF6\",\"gridcolor\":\"white\",\"gridwidth\":2,\"linecolor\":\"white\",\"showbackground\":true,\"ticks\":\"\",\"zerolinecolor\":\"white\"},\"yaxis\":{\"backgroundcolor\":\"#E5ECF6\",\"gridcolor\":\"white\",\"gridwidth\":2,\"linecolor\":\"white\",\"showbackground\":true,\"ticks\":\"\",\"zerolinecolor\":\"white\"},\"zaxis\":{\"backgroundcolor\":\"#E5ECF6\",\"gridcolor\":\"white\",\"gridwidth\":2,\"linecolor\":\"white\",\"showbackground\":true,\"ticks\":\"\",\"zerolinecolor\":\"white\"}},\"shapedefaults\":{\"line\":{\"color\":\"#2a3f5f\"}},\"ternary\":{\"aaxis\":{\"gridcolor\":\"white\",\"linecolor\":\"white\",\"ticks\":\"\"},\"baxis\":{\"gridcolor\":\"white\",\"linecolor\":\"white\",\"ticks\":\"\"},\"bgcolor\":\"#E5ECF6\",\"caxis\":{\"gridcolor\":\"white\",\"linecolor\":\"white\",\"ticks\":\"\"}},\"title\":{\"x\":0.05},\"xaxis\":{\"automargin\":true,\"gridcolor\":\"white\",\"linecolor\":\"white\",\"ticks\":\"\",\"title\":{\"standoff\":15},\"zerolinecolor\":\"white\",\"zerolinewidth\":2},\"yaxis\":{\"automargin\":true,\"gridcolor\":\"white\",\"linecolor\":\"white\",\"ticks\":\"\",\"title\":{\"standoff\":15},\"zerolinecolor\":\"white\",\"zerolinewidth\":2}}},\"xaxis\":{\"anchor\":\"y\",\"domain\":[0.0,1.0],\"title\":{\"text\":\"Year\"},\"showgrid\":true,\"gridwidth\":1,\"gridcolor\":\"lightgrey\",\"zeroline\":true,\"zerolinewidth\":1,\"zerolinecolor\":\"lightgrey\",\"showline\":true,\"linewidth\":1,\"linecolor\":\"black\"},\"yaxis\":{\"anchor\":\"x\",\"domain\":[0.0,1.0],\"title\":{\"text\":\"Wind (terawatt-hours)\"},\"showgrid\":true,\"gridwidth\":1,\"gridcolor\":\"lightgrey\",\"zeroline\":true,\"zerolinewidth\":1,\"zerolinecolor\":\"lightgrey\",\"showline\":true,\"linewidth\":1,\"linecolor\":\"black\"},\"legend\":{\"tracegroupgap\":0},\"margin\":{\"t\":60},\"plot_bgcolor\":\"white\",\"title\":{\"font\":{\"color\":\"black\"},\"text\":\"Wind Energy Consumption in China\"}},                        {\"responsive\": true}                    ).then(function(){\n",
       "                            \n",
       "var gd = document.getElementById('bef2e519-a9b7-4192-b27d-d12f7257f96b');\n",
       "var x = new MutationObserver(function (mutations, observer) {{\n",
       "        var display = window.getComputedStyle(gd).display;\n",
       "        if (!display || display === 'none') {{\n",
       "            console.log([gd, 'removed!']);\n",
       "            Plotly.purge(gd);\n",
       "            observer.disconnect();\n",
       "        }}\n",
       "}});\n",
       "\n",
       "// Listen for the removal of the full notebook cells\n",
       "var notebookContainer = gd.closest('#notebook-container');\n",
       "if (notebookContainer) {{\n",
       "    x.observe(notebookContainer, {childList: true});\n",
       "}}\n",
       "\n",
       "// Listen for the clearing of the current output cell\n",
       "var outputEl = gd.closest('.output');\n",
       "if (outputEl) {{\n",
       "    x.observe(outputEl, {childList: true});\n",
       "}}\n",
       "\n",
       "                        })                };                });            </script>        </div>"
      ]
     },
     "metadata": {},
     "output_type": "display_data"
    }
   ],
   "source": [
    "# Create a scatter plot\n",
    "fig = px.scatter(df, x=df['Year'], y=df['Wind (terawatt-hours)'], \n",
    "                 opacity=0.8, color_discrete_sequence=['black'])\n",
    "# Change chart background color\n",
    "fig.update_layout(dict(plot_bgcolor = 'white'))\n",
    "\n",
    "# Update axes lines\n",
    "fig.update_xaxes(showgrid=True, gridwidth=1, gridcolor='lightgrey', \n",
    "                 zeroline=True, zerolinewidth=1, zerolinecolor='lightgrey', \n",
    "                 showline=True, linewidth=1, linecolor='black')\n",
    "\n",
    "fig.update_yaxes(showgrid=True, gridwidth=1, gridcolor='lightgrey', \n",
    "                 zeroline=True, zerolinewidth=1, zerolinecolor='lightgrey', \n",
    "                 showline=True, linewidth=1, linecolor='black')\n",
    "\n",
    "fig.update_yaxes(showgrid=True, gridwidth=1, gridcolor='lightgrey', \n",
    "                 zeroline=True, zerolinewidth=1, zerolinecolor='lightgrey', \n",
    "                 showline=True, linewidth=1, linecolor='black')\n",
    "\n",
    "# Set figure title\n",
    "fig.update_layout(title=dict(text=\"Wind Energy Consumption in China\", \n",
    "                             font=dict(color='black')))\n",
    "# Update marker size\n",
    "fig.update_traces(marker=dict(size=5))\n",
    "\n",
    "fig.show()\n"
   ]
  },
  {
   "cell_type": "code",
   "execution_count": 497,
   "id": "12faa947",
   "metadata": {
    "id": "12faa947"
   },
   "outputs": [],
   "source": [
    "# Note, we need X to be a 2D array, hence reshape\n",
    "X=df['Year'].values.reshape(-1,1)\n",
    "y=df['Wind (terawatt-hours)'].values\n",
    "\n",
    "X_train, X_test, y_train, y_test = train_test_split(X ,y, test_size=0.30, random_state=100)\n",
    "\n",
    "\n",
    "# ------- Linear regression -------\n",
    "model1 = LinearRegression()\n",
    "lr = model1.fit(X_train, y_train)\n",
    "\n",
    "# ------- Support Vector regression -------\n",
    "model2 = SVR(kernel='rbf', C=400, epsilon=25) # set kernel and hyperparameters\n",
    "svr = model2.fit(X_train, y_train)\n",
    "\n",
    "# ------- Predict a range of values based on the models for visualization -------\n",
    "# Create 100 evenly spaced points from smallest X to largest X\n",
    "x_range = np.linspace(X.min(), X.max(), 100)\n",
    "\n",
    "# Predict y values for our set of X values\n",
    "y_lr = model1.predict(x_range.reshape(-1, 1)) # Linear regression\n",
    "y_svr = model2.predict(x_range.reshape(-1, 1)) # SVR"
   ]
  },
  {
   "cell_type": "code",
   "execution_count": 498,
   "id": "fc53a2be",
   "metadata": {
    "colab": {
     "base_uri": "https://localhost:8080/",
     "height": 542
    },
    "id": "fc53a2be",
    "outputId": "900fcbf9-60f4-49f5-affe-5f68e930a8a2"
   },
   "outputs": [
    {
     "data": {
      "application/vnd.plotly.v1+json": {
       "config": {
        "plotlyServerURL": "https://plot.ly"
       },
       "data": [
        {
         "hovertemplate": "Year=%{x}<br>Wind (terawatt-hours)=%{y}<extra></extra>",
         "legendgroup": "",
         "marker": {
          "color": "black",
          "opacity": 0.8,
          "size": 3,
          "symbol": "circle"
         },
         "mode": "markers",
         "name": "",
         "orientation": "v",
         "showlegend": false,
         "type": "scatter",
         "x": [
          1990,
          1991,
          1992,
          1993,
          1994,
          1995,
          1996,
          1997,
          1998,
          1999,
          2000,
          2001,
          2002,
          2003,
          2004,
          2005,
          2006,
          2007,
          2008,
          2009,
          2010,
          2011,
          2012,
          2013,
          2014,
          2015,
          2016,
          2017
         ],
         "xaxis": "x",
         "y": [
          0.002020202020202,
          0.0090909090909089,
          0.13131313131313,
          0.21212121212121,
          0.383838383838379,
          0.61616161616161,
          0.0939393939393926,
          0.197979797979796,
          0.355555555555551,
          0.473737373737366,
          0.589898989898982,
          0.71919191919191,
          0.837373737373726,
          0.996969696969687,
          1.27777777777776,
          1.94606060606058,
          3.71181818181814,
          5.47929292929288,
          13.1,
          27.6,
          44.622,
          70.331,
          95.978,
          141.197,
          156.078,
          185.766,
          237.071,
          295
         ],
         "yaxis": "y"
        },
        {
         "line": {
          "color": "limegreen"
         },
         "marker": {
          "size": 3
         },
         "name": "Linear Regression",
         "type": "scatter",
         "x": [
          1990,
          1990.2727272727273,
          1990.5454545454545,
          1990.8181818181818,
          1991.090909090909,
          1991.3636363636363,
          1991.6363636363637,
          1991.909090909091,
          1992.1818181818182,
          1992.4545454545455,
          1992.7272727272727,
          1993,
          1993.2727272727273,
          1993.5454545454545,
          1993.8181818181818,
          1994.090909090909,
          1994.3636363636363,
          1994.6363636363637,
          1994.909090909091,
          1995.1818181818182,
          1995.4545454545455,
          1995.7272727272727,
          1996,
          1996.2727272727273,
          1996.5454545454545,
          1996.8181818181818,
          1997.090909090909,
          1997.3636363636363,
          1997.6363636363637,
          1997.909090909091,
          1998.1818181818182,
          1998.4545454545455,
          1998.7272727272727,
          1999,
          1999.2727272727273,
          1999.5454545454545,
          1999.8181818181818,
          2000.090909090909,
          2000.3636363636363,
          2000.6363636363637,
          2000.909090909091,
          2001.1818181818182,
          2001.4545454545455,
          2001.7272727272727,
          2002,
          2002.2727272727273,
          2002.5454545454545,
          2002.8181818181818,
          2003.090909090909,
          2003.3636363636363,
          2003.6363636363637,
          2003.909090909091,
          2004.1818181818182,
          2004.4545454545455,
          2004.7272727272727,
          2005,
          2005.2727272727273,
          2005.5454545454545,
          2005.8181818181818,
          2006.090909090909,
          2006.3636363636363,
          2006.6363636363637,
          2006.909090909091,
          2007.1818181818182,
          2007.4545454545455,
          2007.7272727272727,
          2008,
          2008.2727272727273,
          2008.5454545454545,
          2008.8181818181818,
          2009.090909090909,
          2009.3636363636363,
          2009.6363636363637,
          2009.909090909091,
          2010.1818181818182,
          2010.4545454545455,
          2010.7272727272727,
          2011,
          2011.2727272727273,
          2011.5454545454545,
          2011.8181818181818,
          2012.090909090909,
          2012.3636363636363,
          2012.6363636363637,
          2012.909090909091,
          2013.1818181818182,
          2013.4545454545455,
          2013.7272727272727,
          2014,
          2014.2727272727273,
          2014.5454545454545,
          2014.8181818181818,
          2015.090909090909,
          2015.3636363636363,
          2015.6363636363637,
          2015.909090909091,
          2016.1818181818182,
          2016.4545454545455,
          2016.7272727272727,
          2017
         ],
         "y": [
          -45.84377655512799,
          -44.07396611538206,
          -42.30415567563796,
          -40.53434523589385,
          -38.76453479614793,
          -36.99472435640382,
          -35.2249139166579,
          -33.45510347691379,
          -31.685293037167867,
          -29.91548259742376,
          -28.145672157679655,
          -26.37586171793373,
          -24.606051278189625,
          -22.83624083844552,
          -21.066430398699595,
          -19.29661995895549,
          -17.526809519211383,
          -15.756999079465459,
          -13.987188639719534,
          -12.217378199975428,
          -10.447567760231323,
          -8.677757320485398,
          -6.907946880741292,
          -5.138136440997187,
          -3.368326001253081,
          -1.5985155615071562,
          0.17129487823694944,
          1.9411053179810551,
          3.710915757728799,
          5.4807261974729045,
          7.25053663721701,
          9.020347076962935,
          10.79015751670704,
          12.559967956451146,
          14.329778396195252,
          16.099588835941177,
          17.869399275685282,
          19.639209715429388,
          21.409020155175313,
          23.178830594921237,
          24.948641034665343,
          26.71845147440945,
          28.488261914155373,
          30.25807235389948,
          32.027882793643585,
          33.79769323338951,
          35.567503673133615,
          37.33731411287772,
          39.107124552623645,
          40.87693499236775,
          42.646745432113676,
          44.41655587185778,
          46.186366311603706,
          47.95617675134781,
          49.72598719109192,
          51.49579763083784,
          53.26560807058195,
          55.03541851032605,
          56.80522895007198,
          58.575039389816084,
          60.34484982956019,
          62.114660269306114,
          63.88447070905204,
          65.65428114879614,
          67.42409158854025,
          69.19390202828617,
          70.96371246803028,
          72.73352290777439,
          74.50333334752031,
          76.27314378726442,
          78.04295422700852,
          79.81276466675263,
          81.58257510650037,
          83.35238554624448,
          85.12219598598858,
          86.89200642573451,
          88.66181686547861,
          90.43162730522272,
          92.20143774496682,
          93.97124818471275,
          95.74105862445685,
          97.51086906420096,
          99.28067950394689,
          101.05048994369281,
          102.82030038343692,
          104.59011082318102,
          106.35992126292695,
          108.12973170267105,
          109.89954214241516,
          111.66935258216108,
          113.43916302190519,
          115.2089734616493,
          116.97878390139522,
          118.74859434113932,
          120.51840478088525,
          122.28821522062935,
          124.05802566037528,
          125.82783610011938,
          127.59764653986349,
          129.36745697960941
         ]
        },
        {
         "line": {
          "color": "red"
         },
         "marker": {
          "size": 3
         },
         "name": "Support Vector Regression",
         "type": "scatter",
         "x": [
          1990,
          1990.2727272727273,
          1990.5454545454545,
          1990.8181818181818,
          1991.090909090909,
          1991.3636363636363,
          1991.6363636363637,
          1991.909090909091,
          1992.1818181818182,
          1992.4545454545455,
          1992.7272727272727,
          1993,
          1993.2727272727273,
          1993.5454545454545,
          1993.8181818181818,
          1994.090909090909,
          1994.3636363636363,
          1994.6363636363637,
          1994.909090909091,
          1995.1818181818182,
          1995.4545454545455,
          1995.7272727272727,
          1996,
          1996.2727272727273,
          1996.5454545454545,
          1996.8181818181818,
          1997.090909090909,
          1997.3636363636363,
          1997.6363636363637,
          1997.909090909091,
          1998.1818181818182,
          1998.4545454545455,
          1998.7272727272727,
          1999,
          1999.2727272727273,
          1999.5454545454545,
          1999.8181818181818,
          2000.090909090909,
          2000.3636363636363,
          2000.6363636363637,
          2000.909090909091,
          2001.1818181818182,
          2001.4545454545455,
          2001.7272727272727,
          2002,
          2002.2727272727273,
          2002.5454545454545,
          2002.8181818181818,
          2003.090909090909,
          2003.3636363636363,
          2003.6363636363637,
          2003.909090909091,
          2004.1818181818182,
          2004.4545454545455,
          2004.7272727272727,
          2005,
          2005.2727272727273,
          2005.5454545454545,
          2005.8181818181818,
          2006.090909090909,
          2006.3636363636363,
          2006.6363636363637,
          2006.909090909091,
          2007.1818181818182,
          2007.4545454545455,
          2007.7272727272727,
          2008,
          2008.2727272727273,
          2008.5454545454545,
          2008.8181818181818,
          2009.090909090909,
          2009.3636363636363,
          2009.6363636363637,
          2009.909090909091,
          2010.1818181818182,
          2010.4545454545455,
          2010.7272727272727,
          2011,
          2011.2727272727273,
          2011.5454545454545,
          2011.8181818181818,
          2012.090909090909,
          2012.3636363636363,
          2012.6363636363637,
          2012.909090909091,
          2013.1818181818182,
          2013.4545454545455,
          2013.7272727272727,
          2014,
          2014.2727272727273,
          2014.5454545454545,
          2014.8181818181818,
          2015.090909090909,
          2015.3636363636363,
          2015.6363636363637,
          2015.909090909091,
          2016.1818181818182,
          2016.4545454545455,
          2016.7272727272727,
          2017
         ],
         "y": [
          25.002259516062722,
          24.112656687098266,
          23.32569294771723,
          22.63954119757092,
          22.05164125561609,
          21.558749499699488,
          21.156996851680773,
          20.841953952156786,
          20.60870223011132,
          20.45190946300731,
          20.365908345046194,
          20.344776537963526,
          20.382416671349674,
          20.472634788778493,
          20.60921580177829,
          20.785994614754784,
          20.996921718338584,
          21.236122213378735,
          21.497947419226193,
          21.777018433621876,
          22.068261242338977,
          22.366933219181334,
          22.668641105023255,
          22.969350802102397,
          23.265389560433448,
          23.55344136073802,
          23.830536506621954,
          24.094036622140877,
          24.341616404130917,
          24.5712435970769,
          24.78115873791498,
          24.969856255866475,
          25.136068505964417,
          25.278754263057593,
          25.397093105502094,
          25.490486975229487,
          25.558570015213064,
          25.601227559369576,
          25.618624887458623,
          25.611246063352,
          25.579942854805168,
          25.525993393026425,
          25.451169878075163,
          25.35781427916588,
          25.248920625519347,
          25.128222141993973,
          25.000281163029257,
          24.870579467103,
          24.745606420435365,
          24.63294211119228,
          24.541332501530547,
          24.480753531335196,
          24.462461080350963,
          24.499023739437632,
          24.604335460424323,
          24.793605349628052,
          25.083322143071257,
          25.491191250632966,
          26.0360426788597,
          26.737708633168253,
          27.61687015305762,
          28.69487274023956,
          29.993511589056553,
          31.534787709335006,
          33.34063693049872,
          35.43263447784645,
          37.8316785016934,
          40.5576566014077,
          43.62910000265917,
          47.06283060097461,
          50.87360656199098,
          55.07377255358156,
          59.672920963635704,
          64.67757061779125,
          70.09086954433204,
          75.91232823131975,
          82.13758958013597,
          88.75824137837864,
          95.76167659609968,
          103.13100615821534,
          110.8450280717382,
          118.87825590173412,
          127.20100861022831,
          135.77956271619823,
          144.5763666232343,
          153.55031581773562,
          162.65708648858492,
          171.84952398546136,
          181.0780814421227,
          190.2913028690109,
          199.43634409036804,
          208.45952408722792,
          217.3068986292454,
          225.92484755250084,
          234.26066668085173,
          242.26315520490257,
          249.88318933113888,
          257.07427319498436,
          263.7930583932873,
          269.99982402570095
         ]
        },
        {
         "line": {
          "color": "red",
          "dash": "dot"
         },
         "marker": {
          "size": 3
         },
         "name": "+epsilon",
         "type": "scatter",
         "x": [
          1990,
          1990.2727272727273,
          1990.5454545454545,
          1990.8181818181818,
          1991.090909090909,
          1991.3636363636363,
          1991.6363636363637,
          1991.909090909091,
          1992.1818181818182,
          1992.4545454545455,
          1992.7272727272727,
          1993,
          1993.2727272727273,
          1993.5454545454545,
          1993.8181818181818,
          1994.090909090909,
          1994.3636363636363,
          1994.6363636363637,
          1994.909090909091,
          1995.1818181818182,
          1995.4545454545455,
          1995.7272727272727,
          1996,
          1996.2727272727273,
          1996.5454545454545,
          1996.8181818181818,
          1997.090909090909,
          1997.3636363636363,
          1997.6363636363637,
          1997.909090909091,
          1998.1818181818182,
          1998.4545454545455,
          1998.7272727272727,
          1999,
          1999.2727272727273,
          1999.5454545454545,
          1999.8181818181818,
          2000.090909090909,
          2000.3636363636363,
          2000.6363636363637,
          2000.909090909091,
          2001.1818181818182,
          2001.4545454545455,
          2001.7272727272727,
          2002,
          2002.2727272727273,
          2002.5454545454545,
          2002.8181818181818,
          2003.090909090909,
          2003.3636363636363,
          2003.6363636363637,
          2003.909090909091,
          2004.1818181818182,
          2004.4545454545455,
          2004.7272727272727,
          2005,
          2005.2727272727273,
          2005.5454545454545,
          2005.8181818181818,
          2006.090909090909,
          2006.3636363636363,
          2006.6363636363637,
          2006.909090909091,
          2007.1818181818182,
          2007.4545454545455,
          2007.7272727272727,
          2008,
          2008.2727272727273,
          2008.5454545454545,
          2008.8181818181818,
          2009.090909090909,
          2009.3636363636363,
          2009.6363636363637,
          2009.909090909091,
          2010.1818181818182,
          2010.4545454545455,
          2010.7272727272727,
          2011,
          2011.2727272727273,
          2011.5454545454545,
          2011.8181818181818,
          2012.090909090909,
          2012.3636363636363,
          2012.6363636363637,
          2012.909090909091,
          2013.1818181818182,
          2013.4545454545455,
          2013.7272727272727,
          2014,
          2014.2727272727273,
          2014.5454545454545,
          2014.8181818181818,
          2015.090909090909,
          2015.3636363636363,
          2015.6363636363637,
          2015.909090909091,
          2016.1818181818182,
          2016.4545454545455,
          2016.7272727272727,
          2017
         ],
         "y": [
          50.00225951606272,
          49.112656687098266,
          48.32569294771723,
          47.63954119757092,
          47.05164125561609,
          46.55874949969949,
          46.15699685168077,
          45.841953952156786,
          45.60870223011132,
          45.45190946300731,
          45.36590834504619,
          45.344776537963526,
          45.382416671349674,
          45.47263478877849,
          45.60921580177829,
          45.785994614754784,
          45.996921718338584,
          46.236122213378735,
          46.49794741922619,
          46.777018433621876,
          47.06826124233898,
          47.366933219181334,
          47.668641105023255,
          47.9693508021024,
          48.26538956043345,
          48.55344136073802,
          48.830536506621954,
          49.09403662214088,
          49.34161640413092,
          49.5712435970769,
          49.78115873791498,
          49.969856255866475,
          50.13606850596442,
          50.27875426305759,
          50.397093105502094,
          50.49048697522949,
          50.558570015213064,
          50.601227559369576,
          50.61862488745862,
          50.611246063352,
          50.57994285480517,
          50.525993393026425,
          50.45116987807516,
          50.35781427916588,
          50.24892062551935,
          50.12822214199397,
          50.00028116302926,
          49.870579467103,
          49.745606420435365,
          49.63294211119228,
          49.54133250153055,
          49.480753531335196,
          49.46246108035096,
          49.49902373943763,
          49.60433546042432,
          49.79360534962805,
          50.08332214307126,
          50.491191250632966,
          51.0360426788597,
          51.73770863316825,
          52.61687015305762,
          53.69487274023956,
          54.99351158905655,
          56.534787709335006,
          58.34063693049872,
          60.43263447784645,
          62.8316785016934,
          65.5576566014077,
          68.62910000265917,
          72.0628306009746,
          75.87360656199098,
          80.07377255358156,
          84.6729209636357,
          89.67757061779125,
          95.09086954433204,
          100.91232823131975,
          107.13758958013597,
          113.75824137837864,
          120.76167659609968,
          128.13100615821534,
          135.8450280717382,
          143.87825590173412,
          152.2010086102283,
          160.77956271619823,
          169.5763666232343,
          178.55031581773562,
          187.65708648858492,
          196.84952398546136,
          206.0780814421227,
          215.2913028690109,
          224.43634409036804,
          233.45952408722792,
          242.3068986292454,
          250.92484755250084,
          259.2606666808517,
          267.26315520490255,
          274.88318933113885,
          282.07427319498436,
          288.7930583932873,
          294.99982402570095
         ]
        },
        {
         "line": {
          "color": "red",
          "dash": "dot"
         },
         "marker": {
          "size": 3
         },
         "name": "-epsilon",
         "type": "scatter",
         "x": [
          1990,
          1990.2727272727273,
          1990.5454545454545,
          1990.8181818181818,
          1991.090909090909,
          1991.3636363636363,
          1991.6363636363637,
          1991.909090909091,
          1992.1818181818182,
          1992.4545454545455,
          1992.7272727272727,
          1993,
          1993.2727272727273,
          1993.5454545454545,
          1993.8181818181818,
          1994.090909090909,
          1994.3636363636363,
          1994.6363636363637,
          1994.909090909091,
          1995.1818181818182,
          1995.4545454545455,
          1995.7272727272727,
          1996,
          1996.2727272727273,
          1996.5454545454545,
          1996.8181818181818,
          1997.090909090909,
          1997.3636363636363,
          1997.6363636363637,
          1997.909090909091,
          1998.1818181818182,
          1998.4545454545455,
          1998.7272727272727,
          1999,
          1999.2727272727273,
          1999.5454545454545,
          1999.8181818181818,
          2000.090909090909,
          2000.3636363636363,
          2000.6363636363637,
          2000.909090909091,
          2001.1818181818182,
          2001.4545454545455,
          2001.7272727272727,
          2002,
          2002.2727272727273,
          2002.5454545454545,
          2002.8181818181818,
          2003.090909090909,
          2003.3636363636363,
          2003.6363636363637,
          2003.909090909091,
          2004.1818181818182,
          2004.4545454545455,
          2004.7272727272727,
          2005,
          2005.2727272727273,
          2005.5454545454545,
          2005.8181818181818,
          2006.090909090909,
          2006.3636363636363,
          2006.6363636363637,
          2006.909090909091,
          2007.1818181818182,
          2007.4545454545455,
          2007.7272727272727,
          2008,
          2008.2727272727273,
          2008.5454545454545,
          2008.8181818181818,
          2009.090909090909,
          2009.3636363636363,
          2009.6363636363637,
          2009.909090909091,
          2010.1818181818182,
          2010.4545454545455,
          2010.7272727272727,
          2011,
          2011.2727272727273,
          2011.5454545454545,
          2011.8181818181818,
          2012.090909090909,
          2012.3636363636363,
          2012.6363636363637,
          2012.909090909091,
          2013.1818181818182,
          2013.4545454545455,
          2013.7272727272727,
          2014,
          2014.2727272727273,
          2014.5454545454545,
          2014.8181818181818,
          2015.090909090909,
          2015.3636363636363,
          2015.6363636363637,
          2015.909090909091,
          2016.1818181818182,
          2016.4545454545455,
          2016.7272727272727,
          2017
         ],
         "y": [
          0.0022595160627219,
          -0.8873433129017343,
          -1.6743070522827708,
          -2.360458802429079,
          -2.94835874438391,
          -3.4412505003005123,
          -3.8430031483192266,
          -4.158046047843214,
          -4.391297769888681,
          -4.548090536992689,
          -4.6340916549538065,
          -4.655223462036474,
          -4.617583328650326,
          -4.5273652112215075,
          -4.390784198221709,
          -4.2140053852452155,
          -4.003078281661416,
          -3.763877786621265,
          -3.5020525807738068,
          -3.222981566378124,
          -2.931738757661023,
          -2.633066780818666,
          -2.331358894976745,
          -2.0306491978976027,
          -1.734610439566552,
          -1.4465586392619798,
          -1.1694634933780463,
          -0.9059633778591234,
          -0.6583835958690827,
          -0.42875640292309924,
          -0.21884126208502153,
          -0.030143744133525274,
          0.13606850596441689,
          0.27875426305759277,
          0.3970931055020941,
          0.49048697522948714,
          0.5585700152130642,
          0.6012275593695762,
          0.6186248874586227,
          0.6112460633519987,
          0.5799428548051679,
          0.5259933930264253,
          0.45116987807516296,
          0.35781427916587916,
          0.24892062551934657,
          0.12822214199397308,
          0.0002811630292569589,
          -0.12942053289700084,
          -0.2543935795646348,
          -0.3670578888077216,
          -0.45866749846945254,
          -0.5192464686648037,
          -0.5375389196490374,
          -0.5009762605623678,
          -0.3956645395756766,
          -0.20639465037194782,
          0.08332214307125696,
          0.49119125063296565,
          1.036042678859701,
          1.7377086331682534,
          2.6168701530576186,
          3.6948727402395605,
          4.993511589056553,
          6.534787709335006,
          8.340636930498718,
          10.432634477846449,
          12.831678501693403,
          15.5576566014077,
          18.62910000265917,
          22.062830600974607,
          25.873606561990982,
          30.073772553581563,
          34.672920963635704,
          39.67757061779125,
          45.09086954433204,
          50.91232823131975,
          57.137589580135966,
          63.75824137837864,
          70.76167659609968,
          78.13100615821534,
          85.8450280717382,
          93.87825590173412,
          102.20100861022831,
          110.77956271619823,
          119.57636662323429,
          128.55031581773562,
          137.65708648858492,
          146.84952398546136,
          156.0780814421227,
          165.2913028690109,
          174.43634409036804,
          183.45952408722792,
          192.3068986292454,
          200.92484755250084,
          209.26066668085173,
          217.26315520490257,
          224.88318933113888,
          232.07427319498436,
          238.7930583932873,
          244.99982402570095
         ]
        }
       ],
       "layout": {
        "legend": {
         "tracegroupgap": 0
        },
        "margin": {
         "t": 60
        },
        "plot_bgcolor": "white",
        "template": {
         "data": {
          "bar": [
           {
            "error_x": {
             "color": "#2a3f5f"
            },
            "error_y": {
             "color": "#2a3f5f"
            },
            "marker": {
             "line": {
              "color": "#E5ECF6",
              "width": 0.5
             },
             "pattern": {
              "fillmode": "overlay",
              "size": 10,
              "solidity": 0.2
             }
            },
            "type": "bar"
           }
          ],
          "barpolar": [
           {
            "marker": {
             "line": {
              "color": "#E5ECF6",
              "width": 0.5
             },
             "pattern": {
              "fillmode": "overlay",
              "size": 10,
              "solidity": 0.2
             }
            },
            "type": "barpolar"
           }
          ],
          "carpet": [
           {
            "aaxis": {
             "endlinecolor": "#2a3f5f",
             "gridcolor": "white",
             "linecolor": "white",
             "minorgridcolor": "white",
             "startlinecolor": "#2a3f5f"
            },
            "baxis": {
             "endlinecolor": "#2a3f5f",
             "gridcolor": "white",
             "linecolor": "white",
             "minorgridcolor": "white",
             "startlinecolor": "#2a3f5f"
            },
            "type": "carpet"
           }
          ],
          "choropleth": [
           {
            "colorbar": {
             "outlinewidth": 0,
             "ticks": ""
            },
            "type": "choropleth"
           }
          ],
          "contour": [
           {
            "colorbar": {
             "outlinewidth": 0,
             "ticks": ""
            },
            "colorscale": [
             [
              0,
              "#0d0887"
             ],
             [
              0.1111111111111111,
              "#46039f"
             ],
             [
              0.2222222222222222,
              "#7201a8"
             ],
             [
              0.3333333333333333,
              "#9c179e"
             ],
             [
              0.4444444444444444,
              "#bd3786"
             ],
             [
              0.5555555555555556,
              "#d8576b"
             ],
             [
              0.6666666666666666,
              "#ed7953"
             ],
             [
              0.7777777777777778,
              "#fb9f3a"
             ],
             [
              0.8888888888888888,
              "#fdca26"
             ],
             [
              1,
              "#f0f921"
             ]
            ],
            "type": "contour"
           }
          ],
          "contourcarpet": [
           {
            "colorbar": {
             "outlinewidth": 0,
             "ticks": ""
            },
            "type": "contourcarpet"
           }
          ],
          "heatmap": [
           {
            "colorbar": {
             "outlinewidth": 0,
             "ticks": ""
            },
            "colorscale": [
             [
              0,
              "#0d0887"
             ],
             [
              0.1111111111111111,
              "#46039f"
             ],
             [
              0.2222222222222222,
              "#7201a8"
             ],
             [
              0.3333333333333333,
              "#9c179e"
             ],
             [
              0.4444444444444444,
              "#bd3786"
             ],
             [
              0.5555555555555556,
              "#d8576b"
             ],
             [
              0.6666666666666666,
              "#ed7953"
             ],
             [
              0.7777777777777778,
              "#fb9f3a"
             ],
             [
              0.8888888888888888,
              "#fdca26"
             ],
             [
              1,
              "#f0f921"
             ]
            ],
            "type": "heatmap"
           }
          ],
          "heatmapgl": [
           {
            "colorbar": {
             "outlinewidth": 0,
             "ticks": ""
            },
            "colorscale": [
             [
              0,
              "#0d0887"
             ],
             [
              0.1111111111111111,
              "#46039f"
             ],
             [
              0.2222222222222222,
              "#7201a8"
             ],
             [
              0.3333333333333333,
              "#9c179e"
             ],
             [
              0.4444444444444444,
              "#bd3786"
             ],
             [
              0.5555555555555556,
              "#d8576b"
             ],
             [
              0.6666666666666666,
              "#ed7953"
             ],
             [
              0.7777777777777778,
              "#fb9f3a"
             ],
             [
              0.8888888888888888,
              "#fdca26"
             ],
             [
              1,
              "#f0f921"
             ]
            ],
            "type": "heatmapgl"
           }
          ],
          "histogram": [
           {
            "marker": {
             "pattern": {
              "fillmode": "overlay",
              "size": 10,
              "solidity": 0.2
             }
            },
            "type": "histogram"
           }
          ],
          "histogram2d": [
           {
            "colorbar": {
             "outlinewidth": 0,
             "ticks": ""
            },
            "colorscale": [
             [
              0,
              "#0d0887"
             ],
             [
              0.1111111111111111,
              "#46039f"
             ],
             [
              0.2222222222222222,
              "#7201a8"
             ],
             [
              0.3333333333333333,
              "#9c179e"
             ],
             [
              0.4444444444444444,
              "#bd3786"
             ],
             [
              0.5555555555555556,
              "#d8576b"
             ],
             [
              0.6666666666666666,
              "#ed7953"
             ],
             [
              0.7777777777777778,
              "#fb9f3a"
             ],
             [
              0.8888888888888888,
              "#fdca26"
             ],
             [
              1,
              "#f0f921"
             ]
            ],
            "type": "histogram2d"
           }
          ],
          "histogram2dcontour": [
           {
            "colorbar": {
             "outlinewidth": 0,
             "ticks": ""
            },
            "colorscale": [
             [
              0,
              "#0d0887"
             ],
             [
              0.1111111111111111,
              "#46039f"
             ],
             [
              0.2222222222222222,
              "#7201a8"
             ],
             [
              0.3333333333333333,
              "#9c179e"
             ],
             [
              0.4444444444444444,
              "#bd3786"
             ],
             [
              0.5555555555555556,
              "#d8576b"
             ],
             [
              0.6666666666666666,
              "#ed7953"
             ],
             [
              0.7777777777777778,
              "#fb9f3a"
             ],
             [
              0.8888888888888888,
              "#fdca26"
             ],
             [
              1,
              "#f0f921"
             ]
            ],
            "type": "histogram2dcontour"
           }
          ],
          "mesh3d": [
           {
            "colorbar": {
             "outlinewidth": 0,
             "ticks": ""
            },
            "type": "mesh3d"
           }
          ],
          "parcoords": [
           {
            "line": {
             "colorbar": {
              "outlinewidth": 0,
              "ticks": ""
             }
            },
            "type": "parcoords"
           }
          ],
          "pie": [
           {
            "automargin": true,
            "type": "pie"
           }
          ],
          "scatter": [
           {
            "marker": {
             "colorbar": {
              "outlinewidth": 0,
              "ticks": ""
             }
            },
            "type": "scatter"
           }
          ],
          "scatter3d": [
           {
            "line": {
             "colorbar": {
              "outlinewidth": 0,
              "ticks": ""
             }
            },
            "marker": {
             "colorbar": {
              "outlinewidth": 0,
              "ticks": ""
             }
            },
            "type": "scatter3d"
           }
          ],
          "scattercarpet": [
           {
            "marker": {
             "colorbar": {
              "outlinewidth": 0,
              "ticks": ""
             }
            },
            "type": "scattercarpet"
           }
          ],
          "scattergeo": [
           {
            "marker": {
             "colorbar": {
              "outlinewidth": 0,
              "ticks": ""
             }
            },
            "type": "scattergeo"
           }
          ],
          "scattergl": [
           {
            "marker": {
             "colorbar": {
              "outlinewidth": 0,
              "ticks": ""
             }
            },
            "type": "scattergl"
           }
          ],
          "scattermapbox": [
           {
            "marker": {
             "colorbar": {
              "outlinewidth": 0,
              "ticks": ""
             }
            },
            "type": "scattermapbox"
           }
          ],
          "scatterpolar": [
           {
            "marker": {
             "colorbar": {
              "outlinewidth": 0,
              "ticks": ""
             }
            },
            "type": "scatterpolar"
           }
          ],
          "scatterpolargl": [
           {
            "marker": {
             "colorbar": {
              "outlinewidth": 0,
              "ticks": ""
             }
            },
            "type": "scatterpolargl"
           }
          ],
          "scatterternary": [
           {
            "marker": {
             "colorbar": {
              "outlinewidth": 0,
              "ticks": ""
             }
            },
            "type": "scatterternary"
           }
          ],
          "surface": [
           {
            "colorbar": {
             "outlinewidth": 0,
             "ticks": ""
            },
            "colorscale": [
             [
              0,
              "#0d0887"
             ],
             [
              0.1111111111111111,
              "#46039f"
             ],
             [
              0.2222222222222222,
              "#7201a8"
             ],
             [
              0.3333333333333333,
              "#9c179e"
             ],
             [
              0.4444444444444444,
              "#bd3786"
             ],
             [
              0.5555555555555556,
              "#d8576b"
             ],
             [
              0.6666666666666666,
              "#ed7953"
             ],
             [
              0.7777777777777778,
              "#fb9f3a"
             ],
             [
              0.8888888888888888,
              "#fdca26"
             ],
             [
              1,
              "#f0f921"
             ]
            ],
            "type": "surface"
           }
          ],
          "table": [
           {
            "cells": {
             "fill": {
              "color": "#EBF0F8"
             },
             "line": {
              "color": "white"
             }
            },
            "header": {
             "fill": {
              "color": "#C8D4E3"
             },
             "line": {
              "color": "white"
             }
            },
            "type": "table"
           }
          ]
         },
         "layout": {
          "annotationdefaults": {
           "arrowcolor": "#2a3f5f",
           "arrowhead": 0,
           "arrowwidth": 1
          },
          "autotypenumbers": "strict",
          "coloraxis": {
           "colorbar": {
            "outlinewidth": 0,
            "ticks": ""
           }
          },
          "colorscale": {
           "diverging": [
            [
             0,
             "#8e0152"
            ],
            [
             0.1,
             "#c51b7d"
            ],
            [
             0.2,
             "#de77ae"
            ],
            [
             0.3,
             "#f1b6da"
            ],
            [
             0.4,
             "#fde0ef"
            ],
            [
             0.5,
             "#f7f7f7"
            ],
            [
             0.6,
             "#e6f5d0"
            ],
            [
             0.7,
             "#b8e186"
            ],
            [
             0.8,
             "#7fbc41"
            ],
            [
             0.9,
             "#4d9221"
            ],
            [
             1,
             "#276419"
            ]
           ],
           "sequential": [
            [
             0,
             "#0d0887"
            ],
            [
             0.1111111111111111,
             "#46039f"
            ],
            [
             0.2222222222222222,
             "#7201a8"
            ],
            [
             0.3333333333333333,
             "#9c179e"
            ],
            [
             0.4444444444444444,
             "#bd3786"
            ],
            [
             0.5555555555555556,
             "#d8576b"
            ],
            [
             0.6666666666666666,
             "#ed7953"
            ],
            [
             0.7777777777777778,
             "#fb9f3a"
            ],
            [
             0.8888888888888888,
             "#fdca26"
            ],
            [
             1,
             "#f0f921"
            ]
           ],
           "sequentialminus": [
            [
             0,
             "#0d0887"
            ],
            [
             0.1111111111111111,
             "#46039f"
            ],
            [
             0.2222222222222222,
             "#7201a8"
            ],
            [
             0.3333333333333333,
             "#9c179e"
            ],
            [
             0.4444444444444444,
             "#bd3786"
            ],
            [
             0.5555555555555556,
             "#d8576b"
            ],
            [
             0.6666666666666666,
             "#ed7953"
            ],
            [
             0.7777777777777778,
             "#fb9f3a"
            ],
            [
             0.8888888888888888,
             "#fdca26"
            ],
            [
             1,
             "#f0f921"
            ]
           ]
          },
          "colorway": [
           "#636efa",
           "#EF553B",
           "#00cc96",
           "#ab63fa",
           "#FFA15A",
           "#19d3f3",
           "#FF6692",
           "#B6E880",
           "#FF97FF",
           "#FECB52"
          ],
          "font": {
           "color": "#2a3f5f"
          },
          "geo": {
           "bgcolor": "white",
           "lakecolor": "white",
           "landcolor": "#E5ECF6",
           "showlakes": true,
           "showland": true,
           "subunitcolor": "white"
          },
          "hoverlabel": {
           "align": "left"
          },
          "hovermode": "closest",
          "mapbox": {
           "style": "light"
          },
          "paper_bgcolor": "white",
          "plot_bgcolor": "#E5ECF6",
          "polar": {
           "angularaxis": {
            "gridcolor": "white",
            "linecolor": "white",
            "ticks": ""
           },
           "bgcolor": "#E5ECF6",
           "radialaxis": {
            "gridcolor": "white",
            "linecolor": "white",
            "ticks": ""
           }
          },
          "scene": {
           "xaxis": {
            "backgroundcolor": "#E5ECF6",
            "gridcolor": "white",
            "gridwidth": 2,
            "linecolor": "white",
            "showbackground": true,
            "ticks": "",
            "zerolinecolor": "white"
           },
           "yaxis": {
            "backgroundcolor": "#E5ECF6",
            "gridcolor": "white",
            "gridwidth": 2,
            "linecolor": "white",
            "showbackground": true,
            "ticks": "",
            "zerolinecolor": "white"
           },
           "zaxis": {
            "backgroundcolor": "#E5ECF6",
            "gridcolor": "white",
            "gridwidth": 2,
            "linecolor": "white",
            "showbackground": true,
            "ticks": "",
            "zerolinecolor": "white"
           }
          },
          "shapedefaults": {
           "line": {
            "color": "#2a3f5f"
           }
          },
          "ternary": {
           "aaxis": {
            "gridcolor": "white",
            "linecolor": "white",
            "ticks": ""
           },
           "baxis": {
            "gridcolor": "white",
            "linecolor": "white",
            "ticks": ""
           },
           "bgcolor": "#E5ECF6",
           "caxis": {
            "gridcolor": "white",
            "linecolor": "white",
            "ticks": ""
           }
          },
          "title": {
           "x": 0.05
          },
          "xaxis": {
           "automargin": true,
           "gridcolor": "white",
           "linecolor": "white",
           "ticks": "",
           "title": {
            "standoff": 15
           },
           "zerolinecolor": "white",
           "zerolinewidth": 2
          },
          "yaxis": {
           "automargin": true,
           "gridcolor": "white",
           "linecolor": "white",
           "ticks": "",
           "title": {
            "standoff": 15
           },
           "zerolinecolor": "white",
           "zerolinewidth": 2
          }
         }
        },
        "title": {
         "font": {
          "color": "black"
         },
         "text": "Wind Energy Consumption in China (epsilon=200, C=500)"
        },
        "xaxis": {
         "anchor": "y",
         "domain": [
          0,
          1
         ],
         "gridcolor": "lightgrey",
         "gridwidth": 1,
         "linecolor": "black",
         "linewidth": 1,
         "showgrid": true,
         "showline": true,
         "title": {
          "text": "Year"
         },
         "zeroline": true,
         "zerolinecolor": "lightgrey",
         "zerolinewidth": 1
        },
        "yaxis": {
         "anchor": "x",
         "domain": [
          0,
          1
         ],
         "gridcolor": "lightgrey",
         "gridwidth": 1,
         "linecolor": "black",
         "linewidth": 1,
         "showgrid": true,
         "showline": true,
         "title": {
          "text": "Wind (terawatt-hours)"
         },
         "zeroline": true,
         "zerolinecolor": "lightgrey",
         "zerolinewidth": 1
        }
       }
      },
      "text/html": [
       "<div>                            <div id=\"a98d006a-50c6-4290-b352-2c170568a378\" class=\"plotly-graph-div\" style=\"height:525px; width:100%;\"></div>            <script type=\"text/javascript\">                require([\"plotly\"], function(Plotly) {                    window.PLOTLYENV=window.PLOTLYENV || {};                                    if (document.getElementById(\"a98d006a-50c6-4290-b352-2c170568a378\")) {                    Plotly.newPlot(                        \"a98d006a-50c6-4290-b352-2c170568a378\",                        [{\"hovertemplate\":\"Year=%{x}<br>Wind (terawatt-hours)=%{y}<extra></extra>\",\"legendgroup\":\"\",\"marker\":{\"color\":\"black\",\"opacity\":0.8,\"symbol\":\"circle\",\"size\":3},\"mode\":\"markers\",\"name\":\"\",\"orientation\":\"v\",\"showlegend\":false,\"x\":[1990,1991,1992,1993,1994,1995,1996,1997,1998,1999,2000,2001,2002,2003,2004,2005,2006,2007,2008,2009,2010,2011,2012,2013,2014,2015,2016,2017],\"xaxis\":\"x\",\"y\":[0.002020202020202,0.0090909090909089,0.13131313131313,0.21212121212121,0.383838383838379,0.61616161616161,0.0939393939393926,0.197979797979796,0.355555555555551,0.473737373737366,0.589898989898982,0.71919191919191,0.837373737373726,0.996969696969687,1.27777777777776,1.94606060606058,3.71181818181814,5.47929292929288,13.1,27.6,44.622,70.331,95.978,141.197,156.078,185.766,237.071,295.0],\"yaxis\":\"y\",\"type\":\"scatter\"},{\"line\":{\"color\":\"limegreen\"},\"name\":\"Linear Regression\",\"x\":[1990.0,1990.2727272727273,1990.5454545454545,1990.8181818181818,1991.090909090909,1991.3636363636363,1991.6363636363637,1991.909090909091,1992.1818181818182,1992.4545454545455,1992.7272727272727,1993.0,1993.2727272727273,1993.5454545454545,1993.8181818181818,1994.090909090909,1994.3636363636363,1994.6363636363637,1994.909090909091,1995.1818181818182,1995.4545454545455,1995.7272727272727,1996.0,1996.2727272727273,1996.5454545454545,1996.8181818181818,1997.090909090909,1997.3636363636363,1997.6363636363637,1997.909090909091,1998.1818181818182,1998.4545454545455,1998.7272727272727,1999.0,1999.2727272727273,1999.5454545454545,1999.8181818181818,2000.090909090909,2000.3636363636363,2000.6363636363637,2000.909090909091,2001.1818181818182,2001.4545454545455,2001.7272727272727,2002.0,2002.2727272727273,2002.5454545454545,2002.8181818181818,2003.090909090909,2003.3636363636363,2003.6363636363637,2003.909090909091,2004.1818181818182,2004.4545454545455,2004.7272727272727,2005.0,2005.2727272727273,2005.5454545454545,2005.8181818181818,2006.090909090909,2006.3636363636363,2006.6363636363637,2006.909090909091,2007.1818181818182,2007.4545454545455,2007.7272727272727,2008.0,2008.2727272727273,2008.5454545454545,2008.8181818181818,2009.090909090909,2009.3636363636363,2009.6363636363637,2009.909090909091,2010.1818181818182,2010.4545454545455,2010.7272727272727,2011.0,2011.2727272727273,2011.5454545454545,2011.8181818181818,2012.090909090909,2012.3636363636363,2012.6363636363637,2012.909090909091,2013.1818181818182,2013.4545454545455,2013.7272727272727,2014.0,2014.2727272727273,2014.5454545454545,2014.8181818181818,2015.090909090909,2015.3636363636363,2015.6363636363637,2015.909090909091,2016.1818181818182,2016.4545454545455,2016.7272727272727,2017.0],\"y\":[-45.84377655512799,-44.07396611538206,-42.30415567563796,-40.53434523589385,-38.76453479614793,-36.99472435640382,-35.2249139166579,-33.45510347691379,-31.685293037167867,-29.91548259742376,-28.145672157679655,-26.37586171793373,-24.606051278189625,-22.83624083844552,-21.066430398699595,-19.29661995895549,-17.526809519211383,-15.756999079465459,-13.987188639719534,-12.217378199975428,-10.447567760231323,-8.677757320485398,-6.907946880741292,-5.138136440997187,-3.368326001253081,-1.5985155615071562,0.17129487823694944,1.9411053179810551,3.710915757728799,5.4807261974729045,7.25053663721701,9.020347076962935,10.79015751670704,12.559967956451146,14.329778396195252,16.099588835941177,17.869399275685282,19.639209715429388,21.409020155175313,23.178830594921237,24.948641034665343,26.71845147440945,28.488261914155373,30.25807235389948,32.027882793643585,33.79769323338951,35.567503673133615,37.33731411287772,39.107124552623645,40.87693499236775,42.646745432113676,44.41655587185778,46.186366311603706,47.95617675134781,49.72598719109192,51.49579763083784,53.26560807058195,55.03541851032605,56.80522895007198,58.575039389816084,60.34484982956019,62.114660269306114,63.88447070905204,65.65428114879614,67.42409158854025,69.19390202828617,70.96371246803028,72.73352290777439,74.50333334752031,76.27314378726442,78.04295422700852,79.81276466675263,81.58257510650037,83.35238554624448,85.12219598598858,86.89200642573451,88.66181686547861,90.43162730522272,92.20143774496682,93.97124818471275,95.74105862445685,97.51086906420096,99.28067950394689,101.05048994369281,102.82030038343692,104.59011082318102,106.35992126292695,108.12973170267105,109.89954214241516,111.66935258216108,113.43916302190519,115.2089734616493,116.97878390139522,118.74859434113932,120.51840478088525,122.28821522062935,124.05802566037528,125.82783610011938,127.59764653986349,129.36745697960941],\"type\":\"scatter\",\"marker\":{\"size\":3}},{\"line\":{\"color\":\"red\"},\"name\":\"Support Vector Regression\",\"x\":[1990.0,1990.2727272727273,1990.5454545454545,1990.8181818181818,1991.090909090909,1991.3636363636363,1991.6363636363637,1991.909090909091,1992.1818181818182,1992.4545454545455,1992.7272727272727,1993.0,1993.2727272727273,1993.5454545454545,1993.8181818181818,1994.090909090909,1994.3636363636363,1994.6363636363637,1994.909090909091,1995.1818181818182,1995.4545454545455,1995.7272727272727,1996.0,1996.2727272727273,1996.5454545454545,1996.8181818181818,1997.090909090909,1997.3636363636363,1997.6363636363637,1997.909090909091,1998.1818181818182,1998.4545454545455,1998.7272727272727,1999.0,1999.2727272727273,1999.5454545454545,1999.8181818181818,2000.090909090909,2000.3636363636363,2000.6363636363637,2000.909090909091,2001.1818181818182,2001.4545454545455,2001.7272727272727,2002.0,2002.2727272727273,2002.5454545454545,2002.8181818181818,2003.090909090909,2003.3636363636363,2003.6363636363637,2003.909090909091,2004.1818181818182,2004.4545454545455,2004.7272727272727,2005.0,2005.2727272727273,2005.5454545454545,2005.8181818181818,2006.090909090909,2006.3636363636363,2006.6363636363637,2006.909090909091,2007.1818181818182,2007.4545454545455,2007.7272727272727,2008.0,2008.2727272727273,2008.5454545454545,2008.8181818181818,2009.090909090909,2009.3636363636363,2009.6363636363637,2009.909090909091,2010.1818181818182,2010.4545454545455,2010.7272727272727,2011.0,2011.2727272727273,2011.5454545454545,2011.8181818181818,2012.090909090909,2012.3636363636363,2012.6363636363637,2012.909090909091,2013.1818181818182,2013.4545454545455,2013.7272727272727,2014.0,2014.2727272727273,2014.5454545454545,2014.8181818181818,2015.090909090909,2015.3636363636363,2015.6363636363637,2015.909090909091,2016.1818181818182,2016.4545454545455,2016.7272727272727,2017.0],\"y\":[25.002259516062722,24.112656687098266,23.32569294771723,22.63954119757092,22.05164125561609,21.558749499699488,21.156996851680773,20.841953952156786,20.60870223011132,20.45190946300731,20.365908345046194,20.344776537963526,20.382416671349674,20.472634788778493,20.60921580177829,20.785994614754784,20.996921718338584,21.236122213378735,21.497947419226193,21.777018433621876,22.068261242338977,22.366933219181334,22.668641105023255,22.969350802102397,23.265389560433448,23.55344136073802,23.830536506621954,24.094036622140877,24.341616404130917,24.5712435970769,24.78115873791498,24.969856255866475,25.136068505964417,25.278754263057593,25.397093105502094,25.490486975229487,25.558570015213064,25.601227559369576,25.618624887458623,25.611246063352,25.579942854805168,25.525993393026425,25.451169878075163,25.35781427916588,25.248920625519347,25.128222141993973,25.000281163029257,24.870579467103,24.745606420435365,24.63294211119228,24.541332501530547,24.480753531335196,24.462461080350963,24.499023739437632,24.604335460424323,24.793605349628052,25.083322143071257,25.491191250632966,26.0360426788597,26.737708633168253,27.61687015305762,28.69487274023956,29.993511589056553,31.534787709335006,33.34063693049872,35.43263447784645,37.8316785016934,40.5576566014077,43.62910000265917,47.06283060097461,50.87360656199098,55.07377255358156,59.672920963635704,64.67757061779125,70.09086954433204,75.91232823131975,82.13758958013597,88.75824137837864,95.76167659609968,103.13100615821534,110.8450280717382,118.87825590173412,127.20100861022831,135.77956271619823,144.5763666232343,153.55031581773562,162.65708648858492,171.84952398546136,181.0780814421227,190.2913028690109,199.43634409036804,208.45952408722792,217.3068986292454,225.92484755250084,234.26066668085173,242.26315520490257,249.88318933113888,257.07427319498436,263.7930583932873,269.99982402570095],\"type\":\"scatter\",\"marker\":{\"size\":3}},{\"line\":{\"color\":\"red\",\"dash\":\"dot\"},\"name\":\"+epsilon\",\"x\":[1990.0,1990.2727272727273,1990.5454545454545,1990.8181818181818,1991.090909090909,1991.3636363636363,1991.6363636363637,1991.909090909091,1992.1818181818182,1992.4545454545455,1992.7272727272727,1993.0,1993.2727272727273,1993.5454545454545,1993.8181818181818,1994.090909090909,1994.3636363636363,1994.6363636363637,1994.909090909091,1995.1818181818182,1995.4545454545455,1995.7272727272727,1996.0,1996.2727272727273,1996.5454545454545,1996.8181818181818,1997.090909090909,1997.3636363636363,1997.6363636363637,1997.909090909091,1998.1818181818182,1998.4545454545455,1998.7272727272727,1999.0,1999.2727272727273,1999.5454545454545,1999.8181818181818,2000.090909090909,2000.3636363636363,2000.6363636363637,2000.909090909091,2001.1818181818182,2001.4545454545455,2001.7272727272727,2002.0,2002.2727272727273,2002.5454545454545,2002.8181818181818,2003.090909090909,2003.3636363636363,2003.6363636363637,2003.909090909091,2004.1818181818182,2004.4545454545455,2004.7272727272727,2005.0,2005.2727272727273,2005.5454545454545,2005.8181818181818,2006.090909090909,2006.3636363636363,2006.6363636363637,2006.909090909091,2007.1818181818182,2007.4545454545455,2007.7272727272727,2008.0,2008.2727272727273,2008.5454545454545,2008.8181818181818,2009.090909090909,2009.3636363636363,2009.6363636363637,2009.909090909091,2010.1818181818182,2010.4545454545455,2010.7272727272727,2011.0,2011.2727272727273,2011.5454545454545,2011.8181818181818,2012.090909090909,2012.3636363636363,2012.6363636363637,2012.909090909091,2013.1818181818182,2013.4545454545455,2013.7272727272727,2014.0,2014.2727272727273,2014.5454545454545,2014.8181818181818,2015.090909090909,2015.3636363636363,2015.6363636363637,2015.909090909091,2016.1818181818182,2016.4545454545455,2016.7272727272727,2017.0],\"y\":[50.00225951606272,49.112656687098266,48.32569294771723,47.63954119757092,47.05164125561609,46.55874949969949,46.15699685168077,45.841953952156786,45.60870223011132,45.45190946300731,45.36590834504619,45.344776537963526,45.382416671349674,45.47263478877849,45.60921580177829,45.785994614754784,45.996921718338584,46.236122213378735,46.49794741922619,46.777018433621876,47.06826124233898,47.366933219181334,47.668641105023255,47.9693508021024,48.26538956043345,48.55344136073802,48.830536506621954,49.09403662214088,49.34161640413092,49.5712435970769,49.78115873791498,49.969856255866475,50.13606850596442,50.27875426305759,50.397093105502094,50.49048697522949,50.558570015213064,50.601227559369576,50.61862488745862,50.611246063352,50.57994285480517,50.525993393026425,50.45116987807516,50.35781427916588,50.24892062551935,50.12822214199397,50.00028116302926,49.870579467103,49.745606420435365,49.63294211119228,49.54133250153055,49.480753531335196,49.46246108035096,49.49902373943763,49.60433546042432,49.79360534962805,50.08332214307126,50.491191250632966,51.0360426788597,51.73770863316825,52.61687015305762,53.69487274023956,54.99351158905655,56.534787709335006,58.34063693049872,60.43263447784645,62.8316785016934,65.5576566014077,68.62910000265917,72.0628306009746,75.87360656199098,80.07377255358156,84.6729209636357,89.67757061779125,95.09086954433204,100.91232823131975,107.13758958013597,113.75824137837864,120.76167659609968,128.13100615821534,135.8450280717382,143.87825590173412,152.2010086102283,160.77956271619823,169.5763666232343,178.55031581773562,187.65708648858492,196.84952398546136,206.0780814421227,215.2913028690109,224.43634409036804,233.45952408722792,242.3068986292454,250.92484755250084,259.2606666808517,267.26315520490255,274.88318933113885,282.07427319498436,288.7930583932873,294.99982402570095],\"type\":\"scatter\",\"marker\":{\"size\":3}},{\"line\":{\"color\":\"red\",\"dash\":\"dot\"},\"name\":\"-epsilon\",\"x\":[1990.0,1990.2727272727273,1990.5454545454545,1990.8181818181818,1991.090909090909,1991.3636363636363,1991.6363636363637,1991.909090909091,1992.1818181818182,1992.4545454545455,1992.7272727272727,1993.0,1993.2727272727273,1993.5454545454545,1993.8181818181818,1994.090909090909,1994.3636363636363,1994.6363636363637,1994.909090909091,1995.1818181818182,1995.4545454545455,1995.7272727272727,1996.0,1996.2727272727273,1996.5454545454545,1996.8181818181818,1997.090909090909,1997.3636363636363,1997.6363636363637,1997.909090909091,1998.1818181818182,1998.4545454545455,1998.7272727272727,1999.0,1999.2727272727273,1999.5454545454545,1999.8181818181818,2000.090909090909,2000.3636363636363,2000.6363636363637,2000.909090909091,2001.1818181818182,2001.4545454545455,2001.7272727272727,2002.0,2002.2727272727273,2002.5454545454545,2002.8181818181818,2003.090909090909,2003.3636363636363,2003.6363636363637,2003.909090909091,2004.1818181818182,2004.4545454545455,2004.7272727272727,2005.0,2005.2727272727273,2005.5454545454545,2005.8181818181818,2006.090909090909,2006.3636363636363,2006.6363636363637,2006.909090909091,2007.1818181818182,2007.4545454545455,2007.7272727272727,2008.0,2008.2727272727273,2008.5454545454545,2008.8181818181818,2009.090909090909,2009.3636363636363,2009.6363636363637,2009.909090909091,2010.1818181818182,2010.4545454545455,2010.7272727272727,2011.0,2011.2727272727273,2011.5454545454545,2011.8181818181818,2012.090909090909,2012.3636363636363,2012.6363636363637,2012.909090909091,2013.1818181818182,2013.4545454545455,2013.7272727272727,2014.0,2014.2727272727273,2014.5454545454545,2014.8181818181818,2015.090909090909,2015.3636363636363,2015.6363636363637,2015.909090909091,2016.1818181818182,2016.4545454545455,2016.7272727272727,2017.0],\"y\":[0.0022595160627219,-0.8873433129017343,-1.6743070522827708,-2.360458802429079,-2.94835874438391,-3.4412505003005123,-3.8430031483192266,-4.158046047843214,-4.391297769888681,-4.548090536992689,-4.6340916549538065,-4.655223462036474,-4.617583328650326,-4.5273652112215075,-4.390784198221709,-4.2140053852452155,-4.003078281661416,-3.763877786621265,-3.5020525807738068,-3.222981566378124,-2.931738757661023,-2.633066780818666,-2.331358894976745,-2.0306491978976027,-1.734610439566552,-1.4465586392619798,-1.1694634933780463,-0.9059633778591234,-0.6583835958690827,-0.42875640292309924,-0.21884126208502153,-0.030143744133525274,0.13606850596441689,0.27875426305759277,0.3970931055020941,0.49048697522948714,0.5585700152130642,0.6012275593695762,0.6186248874586227,0.6112460633519987,0.5799428548051679,0.5259933930264253,0.45116987807516296,0.35781427916587916,0.24892062551934657,0.12822214199397308,0.0002811630292569589,-0.12942053289700084,-0.2543935795646348,-0.3670578888077216,-0.45866749846945254,-0.5192464686648037,-0.5375389196490374,-0.5009762605623678,-0.3956645395756766,-0.20639465037194782,0.08332214307125696,0.49119125063296565,1.036042678859701,1.7377086331682534,2.6168701530576186,3.6948727402395605,4.993511589056553,6.534787709335006,8.340636930498718,10.432634477846449,12.831678501693403,15.5576566014077,18.62910000265917,22.062830600974607,25.873606561990982,30.073772553581563,34.672920963635704,39.67757061779125,45.09086954433204,50.91232823131975,57.137589580135966,63.75824137837864,70.76167659609968,78.13100615821534,85.8450280717382,93.87825590173412,102.20100861022831,110.77956271619823,119.57636662323429,128.55031581773562,137.65708648858492,146.84952398546136,156.0780814421227,165.2913028690109,174.43634409036804,183.45952408722792,192.3068986292454,200.92484755250084,209.26066668085173,217.26315520490257,224.88318933113888,232.07427319498436,238.7930583932873,244.99982402570095],\"type\":\"scatter\",\"marker\":{\"size\":3}}],                        {\"template\":{\"data\":{\"bar\":[{\"error_x\":{\"color\":\"#2a3f5f\"},\"error_y\":{\"color\":\"#2a3f5f\"},\"marker\":{\"line\":{\"color\":\"#E5ECF6\",\"width\":0.5},\"pattern\":{\"fillmode\":\"overlay\",\"size\":10,\"solidity\":0.2}},\"type\":\"bar\"}],\"barpolar\":[{\"marker\":{\"line\":{\"color\":\"#E5ECF6\",\"width\":0.5},\"pattern\":{\"fillmode\":\"overlay\",\"size\":10,\"solidity\":0.2}},\"type\":\"barpolar\"}],\"carpet\":[{\"aaxis\":{\"endlinecolor\":\"#2a3f5f\",\"gridcolor\":\"white\",\"linecolor\":\"white\",\"minorgridcolor\":\"white\",\"startlinecolor\":\"#2a3f5f\"},\"baxis\":{\"endlinecolor\":\"#2a3f5f\",\"gridcolor\":\"white\",\"linecolor\":\"white\",\"minorgridcolor\":\"white\",\"startlinecolor\":\"#2a3f5f\"},\"type\":\"carpet\"}],\"choropleth\":[{\"colorbar\":{\"outlinewidth\":0,\"ticks\":\"\"},\"type\":\"choropleth\"}],\"contour\":[{\"colorbar\":{\"outlinewidth\":0,\"ticks\":\"\"},\"colorscale\":[[0.0,\"#0d0887\"],[0.1111111111111111,\"#46039f\"],[0.2222222222222222,\"#7201a8\"],[0.3333333333333333,\"#9c179e\"],[0.4444444444444444,\"#bd3786\"],[0.5555555555555556,\"#d8576b\"],[0.6666666666666666,\"#ed7953\"],[0.7777777777777778,\"#fb9f3a\"],[0.8888888888888888,\"#fdca26\"],[1.0,\"#f0f921\"]],\"type\":\"contour\"}],\"contourcarpet\":[{\"colorbar\":{\"outlinewidth\":0,\"ticks\":\"\"},\"type\":\"contourcarpet\"}],\"heatmap\":[{\"colorbar\":{\"outlinewidth\":0,\"ticks\":\"\"},\"colorscale\":[[0.0,\"#0d0887\"],[0.1111111111111111,\"#46039f\"],[0.2222222222222222,\"#7201a8\"],[0.3333333333333333,\"#9c179e\"],[0.4444444444444444,\"#bd3786\"],[0.5555555555555556,\"#d8576b\"],[0.6666666666666666,\"#ed7953\"],[0.7777777777777778,\"#fb9f3a\"],[0.8888888888888888,\"#fdca26\"],[1.0,\"#f0f921\"]],\"type\":\"heatmap\"}],\"heatmapgl\":[{\"colorbar\":{\"outlinewidth\":0,\"ticks\":\"\"},\"colorscale\":[[0.0,\"#0d0887\"],[0.1111111111111111,\"#46039f\"],[0.2222222222222222,\"#7201a8\"],[0.3333333333333333,\"#9c179e\"],[0.4444444444444444,\"#bd3786\"],[0.5555555555555556,\"#d8576b\"],[0.6666666666666666,\"#ed7953\"],[0.7777777777777778,\"#fb9f3a\"],[0.8888888888888888,\"#fdca26\"],[1.0,\"#f0f921\"]],\"type\":\"heatmapgl\"}],\"histogram\":[{\"marker\":{\"pattern\":{\"fillmode\":\"overlay\",\"size\":10,\"solidity\":0.2}},\"type\":\"histogram\"}],\"histogram2d\":[{\"colorbar\":{\"outlinewidth\":0,\"ticks\":\"\"},\"colorscale\":[[0.0,\"#0d0887\"],[0.1111111111111111,\"#46039f\"],[0.2222222222222222,\"#7201a8\"],[0.3333333333333333,\"#9c179e\"],[0.4444444444444444,\"#bd3786\"],[0.5555555555555556,\"#d8576b\"],[0.6666666666666666,\"#ed7953\"],[0.7777777777777778,\"#fb9f3a\"],[0.8888888888888888,\"#fdca26\"],[1.0,\"#f0f921\"]],\"type\":\"histogram2d\"}],\"histogram2dcontour\":[{\"colorbar\":{\"outlinewidth\":0,\"ticks\":\"\"},\"colorscale\":[[0.0,\"#0d0887\"],[0.1111111111111111,\"#46039f\"],[0.2222222222222222,\"#7201a8\"],[0.3333333333333333,\"#9c179e\"],[0.4444444444444444,\"#bd3786\"],[0.5555555555555556,\"#d8576b\"],[0.6666666666666666,\"#ed7953\"],[0.7777777777777778,\"#fb9f3a\"],[0.8888888888888888,\"#fdca26\"],[1.0,\"#f0f921\"]],\"type\":\"histogram2dcontour\"}],\"mesh3d\":[{\"colorbar\":{\"outlinewidth\":0,\"ticks\":\"\"},\"type\":\"mesh3d\"}],\"parcoords\":[{\"line\":{\"colorbar\":{\"outlinewidth\":0,\"ticks\":\"\"}},\"type\":\"parcoords\"}],\"pie\":[{\"automargin\":true,\"type\":\"pie\"}],\"scatter\":[{\"marker\":{\"colorbar\":{\"outlinewidth\":0,\"ticks\":\"\"}},\"type\":\"scatter\"}],\"scatter3d\":[{\"line\":{\"colorbar\":{\"outlinewidth\":0,\"ticks\":\"\"}},\"marker\":{\"colorbar\":{\"outlinewidth\":0,\"ticks\":\"\"}},\"type\":\"scatter3d\"}],\"scattercarpet\":[{\"marker\":{\"colorbar\":{\"outlinewidth\":0,\"ticks\":\"\"}},\"type\":\"scattercarpet\"}],\"scattergeo\":[{\"marker\":{\"colorbar\":{\"outlinewidth\":0,\"ticks\":\"\"}},\"type\":\"scattergeo\"}],\"scattergl\":[{\"marker\":{\"colorbar\":{\"outlinewidth\":0,\"ticks\":\"\"}},\"type\":\"scattergl\"}],\"scattermapbox\":[{\"marker\":{\"colorbar\":{\"outlinewidth\":0,\"ticks\":\"\"}},\"type\":\"scattermapbox\"}],\"scatterpolar\":[{\"marker\":{\"colorbar\":{\"outlinewidth\":0,\"ticks\":\"\"}},\"type\":\"scatterpolar\"}],\"scatterpolargl\":[{\"marker\":{\"colorbar\":{\"outlinewidth\":0,\"ticks\":\"\"}},\"type\":\"scatterpolargl\"}],\"scatterternary\":[{\"marker\":{\"colorbar\":{\"outlinewidth\":0,\"ticks\":\"\"}},\"type\":\"scatterternary\"}],\"surface\":[{\"colorbar\":{\"outlinewidth\":0,\"ticks\":\"\"},\"colorscale\":[[0.0,\"#0d0887\"],[0.1111111111111111,\"#46039f\"],[0.2222222222222222,\"#7201a8\"],[0.3333333333333333,\"#9c179e\"],[0.4444444444444444,\"#bd3786\"],[0.5555555555555556,\"#d8576b\"],[0.6666666666666666,\"#ed7953\"],[0.7777777777777778,\"#fb9f3a\"],[0.8888888888888888,\"#fdca26\"],[1.0,\"#f0f921\"]],\"type\":\"surface\"}],\"table\":[{\"cells\":{\"fill\":{\"color\":\"#EBF0F8\"},\"line\":{\"color\":\"white\"}},\"header\":{\"fill\":{\"color\":\"#C8D4E3\"},\"line\":{\"color\":\"white\"}},\"type\":\"table\"}]},\"layout\":{\"annotationdefaults\":{\"arrowcolor\":\"#2a3f5f\",\"arrowhead\":0,\"arrowwidth\":1},\"autotypenumbers\":\"strict\",\"coloraxis\":{\"colorbar\":{\"outlinewidth\":0,\"ticks\":\"\"}},\"colorscale\":{\"diverging\":[[0,\"#8e0152\"],[0.1,\"#c51b7d\"],[0.2,\"#de77ae\"],[0.3,\"#f1b6da\"],[0.4,\"#fde0ef\"],[0.5,\"#f7f7f7\"],[0.6,\"#e6f5d0\"],[0.7,\"#b8e186\"],[0.8,\"#7fbc41\"],[0.9,\"#4d9221\"],[1,\"#276419\"]],\"sequential\":[[0.0,\"#0d0887\"],[0.1111111111111111,\"#46039f\"],[0.2222222222222222,\"#7201a8\"],[0.3333333333333333,\"#9c179e\"],[0.4444444444444444,\"#bd3786\"],[0.5555555555555556,\"#d8576b\"],[0.6666666666666666,\"#ed7953\"],[0.7777777777777778,\"#fb9f3a\"],[0.8888888888888888,\"#fdca26\"],[1.0,\"#f0f921\"]],\"sequentialminus\":[[0.0,\"#0d0887\"],[0.1111111111111111,\"#46039f\"],[0.2222222222222222,\"#7201a8\"],[0.3333333333333333,\"#9c179e\"],[0.4444444444444444,\"#bd3786\"],[0.5555555555555556,\"#d8576b\"],[0.6666666666666666,\"#ed7953\"],[0.7777777777777778,\"#fb9f3a\"],[0.8888888888888888,\"#fdca26\"],[1.0,\"#f0f921\"]]},\"colorway\":[\"#636efa\",\"#EF553B\",\"#00cc96\",\"#ab63fa\",\"#FFA15A\",\"#19d3f3\",\"#FF6692\",\"#B6E880\",\"#FF97FF\",\"#FECB52\"],\"font\":{\"color\":\"#2a3f5f\"},\"geo\":{\"bgcolor\":\"white\",\"lakecolor\":\"white\",\"landcolor\":\"#E5ECF6\",\"showlakes\":true,\"showland\":true,\"subunitcolor\":\"white\"},\"hoverlabel\":{\"align\":\"left\"},\"hovermode\":\"closest\",\"mapbox\":{\"style\":\"light\"},\"paper_bgcolor\":\"white\",\"plot_bgcolor\":\"#E5ECF6\",\"polar\":{\"angularaxis\":{\"gridcolor\":\"white\",\"linecolor\":\"white\",\"ticks\":\"\"},\"bgcolor\":\"#E5ECF6\",\"radialaxis\":{\"gridcolor\":\"white\",\"linecolor\":\"white\",\"ticks\":\"\"}},\"scene\":{\"xaxis\":{\"backgroundcolor\":\"#E5ECF6\",\"gridcolor\":\"white\",\"gridwidth\":2,\"linecolor\":\"white\",\"showbackground\":true,\"ticks\":\"\",\"zerolinecolor\":\"white\"},\"yaxis\":{\"backgroundcolor\":\"#E5ECF6\",\"gridcolor\":\"white\",\"gridwidth\":2,\"linecolor\":\"white\",\"showbackground\":true,\"ticks\":\"\",\"zerolinecolor\":\"white\"},\"zaxis\":{\"backgroundcolor\":\"#E5ECF6\",\"gridcolor\":\"white\",\"gridwidth\":2,\"linecolor\":\"white\",\"showbackground\":true,\"ticks\":\"\",\"zerolinecolor\":\"white\"}},\"shapedefaults\":{\"line\":{\"color\":\"#2a3f5f\"}},\"ternary\":{\"aaxis\":{\"gridcolor\":\"white\",\"linecolor\":\"white\",\"ticks\":\"\"},\"baxis\":{\"gridcolor\":\"white\",\"linecolor\":\"white\",\"ticks\":\"\"},\"bgcolor\":\"#E5ECF6\",\"caxis\":{\"gridcolor\":\"white\",\"linecolor\":\"white\",\"ticks\":\"\"}},\"title\":{\"x\":0.05},\"xaxis\":{\"automargin\":true,\"gridcolor\":\"white\",\"linecolor\":\"white\",\"ticks\":\"\",\"title\":{\"standoff\":15},\"zerolinecolor\":\"white\",\"zerolinewidth\":2},\"yaxis\":{\"automargin\":true,\"gridcolor\":\"white\",\"linecolor\":\"white\",\"ticks\":\"\",\"title\":{\"standoff\":15},\"zerolinecolor\":\"white\",\"zerolinewidth\":2}}},\"xaxis\":{\"anchor\":\"y\",\"domain\":[0.0,1.0],\"title\":{\"text\":\"Year\"},\"showgrid\":true,\"gridwidth\":1,\"gridcolor\":\"lightgrey\",\"zeroline\":true,\"zerolinewidth\":1,\"zerolinecolor\":\"lightgrey\",\"showline\":true,\"linewidth\":1,\"linecolor\":\"black\"},\"yaxis\":{\"anchor\":\"x\",\"domain\":[0.0,1.0],\"title\":{\"text\":\"Wind (terawatt-hours)\"},\"showgrid\":true,\"gridwidth\":1,\"gridcolor\":\"lightgrey\",\"zeroline\":true,\"zerolinewidth\":1,\"zerolinecolor\":\"lightgrey\",\"showline\":true,\"linewidth\":1,\"linecolor\":\"black\"},\"legend\":{\"tracegroupgap\":0},\"margin\":{\"t\":60},\"plot_bgcolor\":\"white\",\"title\":{\"font\":{\"color\":\"black\"},\"text\":\"Wind Energy Consumption in China (epsilon=200, C=500)\"}},                        {\"responsive\": true}                    ).then(function(){\n",
       "                            \n",
       "var gd = document.getElementById('a98d006a-50c6-4290-b352-2c170568a378');\n",
       "var x = new MutationObserver(function (mutations, observer) {{\n",
       "        var display = window.getComputedStyle(gd).display;\n",
       "        if (!display || display === 'none') {{\n",
       "            console.log([gd, 'removed!']);\n",
       "            Plotly.purge(gd);\n",
       "            observer.disconnect();\n",
       "        }}\n",
       "}});\n",
       "\n",
       "// Listen for the removal of the full notebook cells\n",
       "var notebookContainer = gd.closest('#notebook-container');\n",
       "if (notebookContainer) {{\n",
       "    x.observe(notebookContainer, {childList: true});\n",
       "}}\n",
       "\n",
       "// Listen for the clearing of the current output cell\n",
       "var outputEl = gd.closest('.output');\n",
       "if (outputEl) {{\n",
       "    x.observe(outputEl, {childList: true});\n",
       "}}\n",
       "\n",
       "                        })                };                });            </script>        </div>"
      ]
     },
     "metadata": {},
     "output_type": "display_data"
    }
   ],
   "source": [
    "# Create a scatter plot\n",
    "fig = px.scatter(df, x=df['Year'], y=df['Wind (terawatt-hours)'], \n",
    "                 opacity=0.8, color_discrete_sequence=['black'])\n",
    "# Add a best-fit line\n",
    "fig.add_traces(go.Scatter(x=x_range, y=y_lr, name='Linear Regression', line=dict(color='limegreen')))\n",
    "fig.add_traces(go.Scatter(x=x_range, y=y_svr, name='Support Vector Regression', line=dict(color='red')))\n",
    "fig.add_traces(go.Scatter(x=x_range, y=y_svr+25, name='+epsilon', line=dict(color='red', dash='dot')))\n",
    "fig.add_traces(go.Scatter(x=x_range, y=y_svr-25, name='-epsilon', line=dict(color='red', dash='dot')))\n",
    "\n",
    "# Change chart background color\n",
    "fig.update_layout(dict(plot_bgcolor = 'white'))\n",
    "\n",
    "# Update axes lines\n",
    "fig.update_xaxes(showgrid=True, gridwidth=1, gridcolor='lightgrey', \n",
    "                 zeroline=True, zerolinewidth=1, zerolinecolor='lightgrey', \n",
    "                 showline=True, linewidth=1, linecolor='black')\n",
    "\n",
    "fig.update_yaxes(showgrid=True, gridwidth=1, gridcolor='lightgrey', \n",
    "                 zeroline=True, zerolinewidth=1, zerolinecolor='lightgrey', \n",
    "                 showline=True, linewidth=1, linecolor='black')\n",
    "\n",
    "# Set figure title\n",
    "fig.update_layout(title=dict(text=\"Wind Energy Consumption in China (epsilon=200, C=500)\", \n",
    "                             font=dict(color='black')))\n",
    "\n",
    "# Update marker size\n",
    "fig.update_traces(marker=dict(size=3))\n",
    "\n",
    "fig.show()"
   ]
  },
  {
   "cell_type": "code",
   "execution_count": 499,
   "id": "e1e3f942",
   "metadata": {
    "colab": {
     "base_uri": "https://localhost:8080/"
    },
    "id": "e1e3f942",
    "outputId": "764b6467-d099-4f48-e16e-55b67f67d1a9"
   },
   "outputs": [
    {
     "data": {
      "text/plain": [
       "array([ 25.27875426, 244.84801682,  88.75824138,  25.24892063,\n",
       "        21.58931202,  25.5643993 , 214.38063077, 116.16679322,\n",
       "        22.66864111])"
      ]
     },
     "execution_count": 499,
     "metadata": {},
     "output_type": "execute_result"
    }
   ],
   "source": [
    "#5 Predicting a new result\n",
    "y_pred = svr.predict(X_test)\n",
    "y_pred"
   ]
  },
  {
   "cell_type": "code",
   "execution_count": 500,
   "id": "f1452cc4",
   "metadata": {
    "colab": {
     "base_uri": "https://localhost:8080/"
    },
    "id": "f1452cc4",
    "outputId": "1a31c061-b877-4c1e-cc36-4f2a3e106f4e"
   },
   "outputs": [
    {
     "name": "stdout",
     "output_type": "stream",
     "text": [
      "R squared: 92.14\n",
      "Mean Squared Error is:  489.3796323138799\n",
      "Root Mean Squared Error is:  22.12192650548048\n"
     ]
    }
   ],
   "source": [
    "mse = metrics.mean_squared_error(y_test, y_pred)\n",
    "rmse = np.sqrt(mse)\n",
    "print('R squared: {:.2f}'.format(svr.score(X,y)*100))\n",
    "print(\"Mean Squared Error is: \", mse)\n",
    "print(\"Root Mean Squared Error is: \", rmse)"
   ]
  },
  {
   "cell_type": "code",
   "execution_count": 501,
   "id": "0b32fc3b",
   "metadata": {
    "colab": {
     "base_uri": "https://localhost:8080/",
     "height": 328
    },
    "id": "0b32fc3b",
    "outputId": "ab012047-2233-42a8-bd18-71704ce9d4f6"
   },
   "outputs": [
    {
     "data": {
      "text/html": [
       "<div>\n",
       "<style scoped>\n",
       "    .dataframe tbody tr th:only-of-type {\n",
       "        vertical-align: middle;\n",
       "    }\n",
       "\n",
       "    .dataframe tbody tr th {\n",
       "        vertical-align: top;\n",
       "    }\n",
       "\n",
       "    .dataframe thead th {\n",
       "        text-align: right;\n",
       "    }\n",
       "</style>\n",
       "<table border=\"1\" class=\"dataframe\">\n",
       "  <thead>\n",
       "    <tr style=\"text-align: right;\">\n",
       "      <th></th>\n",
       "      <th>Predicted</th>\n",
       "      <th>Actual</th>\n",
       "    </tr>\n",
       "  </thead>\n",
       "  <tbody>\n",
       "    <tr>\n",
       "      <th>0</th>\n",
       "      <td>25.278754</td>\n",
       "      <td>0.473737</td>\n",
       "    </tr>\n",
       "    <tr>\n",
       "      <th>1</th>\n",
       "      <td>244.848017</td>\n",
       "      <td>237.071000</td>\n",
       "    </tr>\n",
       "    <tr>\n",
       "      <th>2</th>\n",
       "      <td>88.758241</td>\n",
       "      <td>70.331000</td>\n",
       "    </tr>\n",
       "    <tr>\n",
       "      <th>3</th>\n",
       "      <td>25.248921</td>\n",
       "      <td>0.837374</td>\n",
       "    </tr>\n",
       "    <tr>\n",
       "      <th>4</th>\n",
       "      <td>21.589312</td>\n",
       "      <td>0.616162</td>\n",
       "    </tr>\n",
       "    <tr>\n",
       "      <th>5</th>\n",
       "      <td>25.564399</td>\n",
       "      <td>0.719192</td>\n",
       "    </tr>\n",
       "    <tr>\n",
       "      <th>6</th>\n",
       "      <td>214.380631</td>\n",
       "      <td>185.766000</td>\n",
       "    </tr>\n",
       "    <tr>\n",
       "      <th>7</th>\n",
       "      <td>116.166793</td>\n",
       "      <td>95.978000</td>\n",
       "    </tr>\n",
       "    <tr>\n",
       "      <th>8</th>\n",
       "      <td>22.668641</td>\n",
       "      <td>0.093939</td>\n",
       "    </tr>\n",
       "  </tbody>\n",
       "</table>\n",
       "</div>"
      ],
      "text/plain": [
       "    Predicted      Actual\n",
       "0   25.278754    0.473737\n",
       "1  244.848017  237.071000\n",
       "2   88.758241   70.331000\n",
       "3   25.248921    0.837374\n",
       "4   21.589312    0.616162\n",
       "5   25.564399    0.719192\n",
       "6  214.380631  185.766000\n",
       "7  116.166793   95.978000\n",
       "8   22.668641    0.093939"
      ]
     },
     "execution_count": 501,
     "metadata": {},
     "output_type": "execute_result"
    }
   ],
   "source": [
    "data = {'Predicted':y_pred, 'Actual':y_test}\n",
    "\n",
    "comparison = pd.DataFrame(data)\n",
    "comparison"
   ]
  },
  {
   "cell_type": "code",
   "execution_count": 502,
   "id": "dee858a8",
   "metadata": {
    "colab": {
     "base_uri": "https://localhost:8080/"
    },
    "id": "dee858a8",
    "outputId": "bc6e23b1-44fe-4ad9-ea90-b84573f9949c"
   },
   "outputs": [
    {
     "data": {
      "text/plain": [
       "array([ 12.55996796, 122.87815203,  90.43162731,  32.02788279,\n",
       "       -13.39725183,  25.53857785, 116.38884709,  96.92093225,\n",
       "        -6.90794688])"
      ]
     },
     "execution_count": 502,
     "metadata": {},
     "output_type": "execute_result"
    }
   ],
   "source": [
    "#5 Predicting a new result\n",
    "y_pred = lr.predict(X_test)\n",
    "y_pred"
   ]
  },
  {
   "cell_type": "code",
   "execution_count": 503,
   "id": "5dba6c71",
   "metadata": {},
   "outputs": [
    {
     "name": "stdout",
     "output_type": "stream",
     "text": [
      "R squared: 57.25\n",
      "Mean Squared Error is:  2248.71656917181\n",
      "Root Mean Squared Error is:  47.420634423970014\n"
     ]
    }
   ],
   "source": [
    "mse = metrics.mean_squared_error(y_test, y_pred)\n",
    "rmse = np.sqrt(mse)\n",
    "print('R squared: {:.2f}'.format(lr.score(X,y)*100))\n",
    "print(\"Mean Squared Error is: \", mse)\n",
    "print(\"Root Mean Squared Error is: \", rmse)"
   ]
  },
  {
   "cell_type": "code",
   "execution_count": 504,
   "id": "2dc83c0b",
   "metadata": {},
   "outputs": [
    {
     "data": {
      "text/html": [
       "<div>\n",
       "<style scoped>\n",
       "    .dataframe tbody tr th:only-of-type {\n",
       "        vertical-align: middle;\n",
       "    }\n",
       "\n",
       "    .dataframe tbody tr th {\n",
       "        vertical-align: top;\n",
       "    }\n",
       "\n",
       "    .dataframe thead th {\n",
       "        text-align: right;\n",
       "    }\n",
       "</style>\n",
       "<table border=\"1\" class=\"dataframe\">\n",
       "  <thead>\n",
       "    <tr style=\"text-align: right;\">\n",
       "      <th></th>\n",
       "      <th>Predicted</th>\n",
       "      <th>Actual</th>\n",
       "    </tr>\n",
       "  </thead>\n",
       "  <tbody>\n",
       "    <tr>\n",
       "      <th>0</th>\n",
       "      <td>12.559968</td>\n",
       "      <td>0.473737</td>\n",
       "    </tr>\n",
       "    <tr>\n",
       "      <th>1</th>\n",
       "      <td>122.878152</td>\n",
       "      <td>237.071000</td>\n",
       "    </tr>\n",
       "    <tr>\n",
       "      <th>2</th>\n",
       "      <td>90.431627</td>\n",
       "      <td>70.331000</td>\n",
       "    </tr>\n",
       "    <tr>\n",
       "      <th>3</th>\n",
       "      <td>32.027883</td>\n",
       "      <td>0.837374</td>\n",
       "    </tr>\n",
       "    <tr>\n",
       "      <th>4</th>\n",
       "      <td>-13.397252</td>\n",
       "      <td>0.616162</td>\n",
       "    </tr>\n",
       "    <tr>\n",
       "      <th>5</th>\n",
       "      <td>25.538578</td>\n",
       "      <td>0.719192</td>\n",
       "    </tr>\n",
       "    <tr>\n",
       "      <th>6</th>\n",
       "      <td>116.388847</td>\n",
       "      <td>185.766000</td>\n",
       "    </tr>\n",
       "    <tr>\n",
       "      <th>7</th>\n",
       "      <td>96.920932</td>\n",
       "      <td>95.978000</td>\n",
       "    </tr>\n",
       "    <tr>\n",
       "      <th>8</th>\n",
       "      <td>-6.907947</td>\n",
       "      <td>0.093939</td>\n",
       "    </tr>\n",
       "  </tbody>\n",
       "</table>\n",
       "</div>"
      ],
      "text/plain": [
       "    Predicted      Actual\n",
       "0   12.559968    0.473737\n",
       "1  122.878152  237.071000\n",
       "2   90.431627   70.331000\n",
       "3   32.027883    0.837374\n",
       "4  -13.397252    0.616162\n",
       "5   25.538578    0.719192\n",
       "6  116.388847  185.766000\n",
       "7   96.920932   95.978000\n",
       "8   -6.907947    0.093939"
      ]
     },
     "execution_count": 504,
     "metadata": {},
     "output_type": "execute_result"
    }
   ],
   "source": [
    "data = {'Predicted':y_pred, 'Actual':y_test}\n",
    "\n",
    "comparison = pd.DataFrame(data)\n",
    "comparison"
   ]
  },
  {
   "cell_type": "code",
   "execution_count": 505,
   "id": "b3be6854",
   "metadata": {
    "colab": {
     "base_uri": "https://localhost:8080/"
    },
    "id": "b3be6854",
    "outputId": "66fe7e36-9cbc-4a7a-979e-4ddd5ab2ba0f"
   },
   "outputs": [
    {
     "data": {
      "text/plain": [
       "array([273.882502  , 280.81932867, 279.92922312, 271.90320681,\n",
       "       258.05694282, 240.10358059, 219.89292434, 199.16738039,\n",
       "       179.37464856, 161.55914587, 146.33444929, 133.92283873,\n",
       "       124.23852963, 116.98909615, 111.77346526, 108.16210865,\n",
       "       105.75297345, 104.20325342, 103.24130569, 102.66479421,\n",
       "       102.33103457, 102.14430731, 102.04331636, 101.99049742,\n",
       "       101.96377697, 101.95069887, 101.94450473, 101.94166531,\n",
       "       101.94040534, 101.93986404, 101.93963887, 101.93954816,\n",
       "       101.93951277])"
      ]
     },
     "execution_count": 505,
     "metadata": {},
     "output_type": "execute_result"
    }
   ],
   "source": [
    "model2 = SVR(kernel='rbf', C=400, epsilon=25) # set kernel and hyperparameters\n",
    "svr = model2.fit(X, y)\n",
    "x_future = [[2018],[2019],[2020],[2021],[2022],[2023],[2024],[2025],[2026],[2027],[2028],[2029],[2030],[2031],[2032],[2033],[2034],[2035],[2036],[2037],[2038],[2039],[2040],[2041],[2042],[2043],[2044],[2045],[2046],[2047],[2048],[2049],[2050]]\n",
    "y_pred = svr.predict(x_future)\n",
    "y_pred"
   ]
  },
  {
   "cell_type": "code",
   "execution_count": 506,
   "id": "ba080463",
   "metadata": {},
   "outputs": [
    {
     "data": {
      "text/plain": [
       "array([1412.05652993, 1462.83160366, 1503.12176257, 1533.7613115 ,\n",
       "       1556.4570213 , 1573.47600531, 1587.28713232, 1600.22620029,\n",
       "       1614.2397055 , 1630.73669885, 1650.55103239, 1673.99433307,\n",
       "       1700.96752051, 1731.09628064, 1763.86149206, 1798.70556127,\n",
       "       1835.10629933, 1872.61870082, 1910.89050311, 1949.65965989,\n",
       "       1988.74164417, 2028.01285217, 2067.3942516 , 2106.83748158,\n",
       "       2146.31416678, 2185.80831765, 2225.31127104, 2264.81850917,\n",
       "       2304.32776204, 2343.83793087, 2383.34850226, 2422.85924454,\n",
       "       2462.37005722])"
      ]
     },
     "execution_count": 506,
     "metadata": {},
     "output_type": "execute_result"
    }
   ],
   "source": [
    "net_consumption+=y_pred\n",
    "net_consumption"
   ]
  },
  {
   "cell_type": "code",
   "execution_count": 507,
   "id": "urQnZJmuBdgF",
   "metadata": {
    "colab": {
     "base_uri": "https://localhost:8080/"
    },
    "id": "urQnZJmuBdgF",
    "outputId": "ebbf349f-c299-4294-943c-860a01cf7d6c"
   },
   "outputs": [
    {
     "name": "stdout",
     "output_type": "stream",
     "text": [
      "Rate of Increase: 23.530722311562243\n"
     ]
    }
   ],
   "source": [
    "# Finding the Rate of Increase for Wind power Consumption\n",
    "print (\"Rate of Increase:\", (y_pred[2] - 44.622)/10)"
   ]
  },
  {
   "cell_type": "code",
   "execution_count": 508,
   "id": "7d408c09",
   "metadata": {},
   "outputs": [
    {
     "data": {
      "image/png": "[encoded data removed]",
      "text/plain": [
       "<Figure size 432x288 with 1 Axes>"
      ]
     },
     "metadata": {
      "needs_background": "light"
     },
     "output_type": "display_data"
    }
   ],
   "source": [
    "fig, ax = plt.subplots()\n",
    "ax.scatter(years,y_pred)\n",
    "ax.set_title('Predicted Wind Energy Consumption in China (epsilon=200, C=500)')\n",
    "ax.set_xlabel('Years')\n",
    "ax.set_ylabel('Energy Consumption')\n",
    "\n",
    "\n",
    "plt.show()"
   ]
  },
  {
   "cell_type": "markdown",
   "id": "dc0a2bb0",
   "metadata": {
    "id": "dc0a2bb0"
   },
   "source": [
    "# Other Renewables"
   ]
  },
  {
   "cell_type": "code",
   "execution_count": 509,
   "id": "c4ac79bf",
   "metadata": {
    "id": "c4ac79bf"
   },
   "outputs": [],
   "source": [
    "# Use MinMax Scaling on Year and Other\n",
    "df['Year (scaled)']=scaler.fit_transform(df[['Year']])\n",
    "df['Solar (scaled)']=scaler.fit_transform(df[['Other renewables (terawatt-hours)']])"
   ]
  },
  {
   "cell_type": "code",
   "execution_count": 510,
   "id": "06637a28",
   "metadata": {
    "colab": {
     "base_uri": "https://localhost:8080/",
     "height": 542
    },
    "id": "06637a28",
    "outputId": "26a4ac4d-df88-44e8-a7e8-f063a35a6c72"
   },
   "outputs": [
    {
     "data": {
      "application/vnd.plotly.v1+json": {
       "config": {
        "plotlyServerURL": "https://plot.ly"
       },
       "data": [
        {
         "hovertemplate": "Year=%{x}<br>Other renewables (terawatt-hours)=%{y}<extra></extra>",
         "legendgroup": "",
         "marker": {
          "color": "black",
          "opacity": 0.8,
          "size": 5,
          "symbol": "circle"
         },
         "mode": "markers",
         "name": "",
         "orientation": "v",
         "showlegend": false,
         "type": "scatter",
         "x": [
          1990,
          1991,
          1992,
          1993,
          1994,
          1995,
          1996,
          1997,
          1998,
          1999,
          2000,
          2001,
          2002,
          2003,
          2004,
          2005,
          2006,
          2007,
          2008,
          2009,
          2010,
          2011,
          2012,
          2013,
          2014,
          2015,
          2016,
          2017
         ],
         "xaxis": "x",
         "y": [
          0.064,
          0.064,
          0.113,
          0.117,
          0.46,
          3.014,
          1.533,
          2.722,
          2.48,
          2.52,
          2.537,
          2.554,
          2.546,
          2.536,
          2.528,
          5.322,
          7.133,
          9.863,
          14.866,
          20.85932,
          24.90023,
          27.707,
          30.484845,
          37.2864287,
          46.4216487,
          54.07029,
          62.134767,
          79.5971459591602
         ],
         "yaxis": "y"
        }
       ],
       "layout": {
        "legend": {
         "tracegroupgap": 0
        },
        "margin": {
         "t": 60
        },
        "plot_bgcolor": "white",
        "template": {
         "data": {
          "bar": [
           {
            "error_x": {
             "color": "#2a3f5f"
            },
            "error_y": {
             "color": "#2a3f5f"
            },
            "marker": {
             "line": {
              "color": "#E5ECF6",
              "width": 0.5
             },
             "pattern": {
              "fillmode": "overlay",
              "size": 10,
              "solidity": 0.2
             }
            },
            "type": "bar"
           }
          ],
          "barpolar": [
           {
            "marker": {
             "line": {
              "color": "#E5ECF6",
              "width": 0.5
             },
             "pattern": {
              "fillmode": "overlay",
              "size": 10,
              "solidity": 0.2
             }
            },
            "type": "barpolar"
           }
          ],
          "carpet": [
           {
            "aaxis": {
             "endlinecolor": "#2a3f5f",
             "gridcolor": "white",
             "linecolor": "white",
             "minorgridcolor": "white",
             "startlinecolor": "#2a3f5f"
            },
            "baxis": {
             "endlinecolor": "#2a3f5f",
             "gridcolor": "white",
             "linecolor": "white",
             "minorgridcolor": "white",
             "startlinecolor": "#2a3f5f"
            },
            "type": "carpet"
           }
          ],
          "choropleth": [
           {
            "colorbar": {
             "outlinewidth": 0,
             "ticks": ""
            },
            "type": "choropleth"
           }
          ],
          "contour": [
           {
            "colorbar": {
             "outlinewidth": 0,
             "ticks": ""
            },
            "colorscale": [
             [
              0,
              "#0d0887"
             ],
             [
              0.1111111111111111,
              "#46039f"
             ],
             [
              0.2222222222222222,
              "#7201a8"
             ],
             [
              0.3333333333333333,
              "#9c179e"
             ],
             [
              0.4444444444444444,
              "#bd3786"
             ],
             [
              0.5555555555555556,
              "#d8576b"
             ],
             [
              0.6666666666666666,
              "#ed7953"
             ],
             [
              0.7777777777777778,
              "#fb9f3a"
             ],
             [
              0.8888888888888888,
              "#fdca26"
             ],
             [
              1,
              "#f0f921"
             ]
            ],
            "type": "contour"
           }
          ],
          "contourcarpet": [
           {
            "colorbar": {
             "outlinewidth": 0,
             "ticks": ""
            },
            "type": "contourcarpet"
           }
          ],
          "heatmap": [
           {
            "colorbar": {
             "outlinewidth": 0,
             "ticks": ""
            },
            "colorscale": [
             [
              0,
              "#0d0887"
             ],
             [
              0.1111111111111111,
              "#46039f"
             ],
             [
              0.2222222222222222,
              "#7201a8"
             ],
             [
              0.3333333333333333,
              "#9c179e"
             ],
             [
              0.4444444444444444,
              "#bd3786"
             ],
             [
              0.5555555555555556,
              "#d8576b"
             ],
             [
              0.6666666666666666,
              "#ed7953"
             ],
             [
              0.7777777777777778,
              "#fb9f3a"
             ],
             [
              0.8888888888888888,
              "#fdca26"
             ],
             [
              1,
              "#f0f921"
             ]
            ],
            "type": "heatmap"
           }
          ],
          "heatmapgl": [
           {
            "colorbar": {
             "outlinewidth": 0,
             "ticks": ""
            },
            "colorscale": [
             [
              0,
              "#0d0887"
             ],
             [
              0.1111111111111111,
              "#46039f"
             ],
             [
              0.2222222222222222,
              "#7201a8"
             ],
             [
              0.3333333333333333,
              "#9c179e"
             ],
             [
              0.4444444444444444,
              "#bd3786"
             ],
             [
              0.5555555555555556,
              "#d8576b"
             ],
             [
              0.6666666666666666,
              "#ed7953"
             ],
             [
              0.7777777777777778,
              "#fb9f3a"
             ],
             [
              0.8888888888888888,
              "#fdca26"
             ],
             [
              1,
              "#f0f921"
             ]
            ],
            "type": "heatmapgl"
           }
          ],
          "histogram": [
           {
            "marker": {
             "pattern": {
              "fillmode": "overlay",
              "size": 10,
              "solidity": 0.2
             }
            },
            "type": "histogram"
           }
          ],
          "histogram2d": [
           {
            "colorbar": {
             "outlinewidth": 0,
             "ticks": ""
            },
            "colorscale": [
             [
              0,
              "#0d0887"
             ],
             [
              0.1111111111111111,
              "#46039f"
             ],
             [
              0.2222222222222222,
              "#7201a8"
             ],
             [
              0.3333333333333333,
              "#9c179e"
             ],
             [
              0.4444444444444444,
              "#bd3786"
             ],
             [
              0.5555555555555556,
              "#d8576b"
             ],
             [
              0.6666666666666666,
              "#ed7953"
             ],
             [
              0.7777777777777778,
              "#fb9f3a"
             ],
             [
              0.8888888888888888,
              "#fdca26"
             ],
             [
              1,
              "#f0f921"
             ]
            ],
            "type": "histogram2d"
           }
          ],
          "histogram2dcontour": [
           {
            "colorbar": {
             "outlinewidth": 0,
             "ticks": ""
            },
            "colorscale": [
             [
              0,
              "#0d0887"
             ],
             [
              0.1111111111111111,
              "#46039f"
             ],
             [
              0.2222222222222222,
              "#7201a8"
             ],
             [
              0.3333333333333333,
              "#9c179e"
             ],
             [
              0.4444444444444444,
              "#bd3786"
             ],
             [
              0.5555555555555556,
              "#d8576b"
             ],
             [
              0.6666666666666666,
              "#ed7953"
             ],
             [
              0.7777777777777778,
              "#fb9f3a"
             ],
             [
              0.8888888888888888,
              "#fdca26"
             ],
             [
              1,
              "#f0f921"
             ]
            ],
            "type": "histogram2dcontour"
           }
          ],
          "mesh3d": [
           {
            "colorbar": {
             "outlinewidth": 0,
             "ticks": ""
            },
            "type": "mesh3d"
           }
          ],
          "parcoords": [
           {
            "line": {
             "colorbar": {
              "outlinewidth": 0,
              "ticks": ""
             }
            },
            "type": "parcoords"
           }
          ],
          "pie": [
           {
            "automargin": true,
            "type": "pie"
           }
          ],
          "scatter": [
           {
            "marker": {
             "colorbar": {
              "outlinewidth": 0,
              "ticks": ""
             }
            },
            "type": "scatter"
           }
          ],
          "scatter3d": [
           {
            "line": {
             "colorbar": {
              "outlinewidth": 0,
              "ticks": ""
             }
            },
            "marker": {
             "colorbar": {
              "outlinewidth": 0,
              "ticks": ""
             }
            },
            "type": "scatter3d"
           }
          ],
          "scattercarpet": [
           {
            "marker": {
             "colorbar": {
              "outlinewidth": 0,
              "ticks": ""
             }
            },
            "type": "scattercarpet"
           }
          ],
          "scattergeo": [
           {
            "marker": {
             "colorbar": {
              "outlinewidth": 0,
              "ticks": ""
             }
            },
            "type": "scattergeo"
           }
          ],
          "scattergl": [
           {
            "marker": {
             "colorbar": {
              "outlinewidth": 0,
              "ticks": ""
             }
            },
            "type": "scattergl"
           }
          ],
          "scattermapbox": [
           {
            "marker": {
             "colorbar": {
              "outlinewidth": 0,
              "ticks": ""
             }
            },
            "type": "scattermapbox"
           }
          ],
          "scatterpolar": [
           {
            "marker": {
             "colorbar": {
              "outlinewidth": 0,
              "ticks": ""
             }
            },
            "type": "scatterpolar"
           }
          ],
          "scatterpolargl": [
           {
            "marker": {
             "colorbar": {
              "outlinewidth": 0,
              "ticks": ""
             }
            },
            "type": "scatterpolargl"
           }
          ],
          "scatterternary": [
           {
            "marker": {
             "colorbar": {
              "outlinewidth": 0,
              "ticks": ""
             }
            },
            "type": "scatterternary"
           }
          ],
          "surface": [
           {
            "colorbar": {
             "outlinewidth": 0,
             "ticks": ""
            },
            "colorscale": [
             [
              0,
              "#0d0887"
             ],
             [
              0.1111111111111111,
              "#46039f"
             ],
             [
              0.2222222222222222,
              "#7201a8"
             ],
             [
              0.3333333333333333,
              "#9c179e"
             ],
             [
              0.4444444444444444,
              "#bd3786"
             ],
             [
              0.5555555555555556,
              "#d8576b"
             ],
             [
              0.6666666666666666,
              "#ed7953"
             ],
             [
              0.7777777777777778,
              "#fb9f3a"
             ],
             [
              0.8888888888888888,
              "#fdca26"
             ],
             [
              1,
              "#f0f921"
             ]
            ],
            "type": "surface"
           }
          ],
          "table": [
           {
            "cells": {
             "fill": {
              "color": "#EBF0F8"
             },
             "line": {
              "color": "white"
             }
            },
            "header": {
             "fill": {
              "color": "#C8D4E3"
             },
             "line": {
              "color": "white"
             }
            },
            "type": "table"
           }
          ]
         },
         "layout": {
          "annotationdefaults": {
           "arrowcolor": "#2a3f5f",
           "arrowhead": 0,
           "arrowwidth": 1
          },
          "autotypenumbers": "strict",
          "coloraxis": {
           "colorbar": {
            "outlinewidth": 0,
            "ticks": ""
           }
          },
          "colorscale": {
           "diverging": [
            [
             0,
             "#8e0152"
            ],
            [
             0.1,
             "#c51b7d"
            ],
            [
             0.2,
             "#de77ae"
            ],
            [
             0.3,
             "#f1b6da"
            ],
            [
             0.4,
             "#fde0ef"
            ],
            [
             0.5,
             "#f7f7f7"
            ],
            [
             0.6,
             "#e6f5d0"
            ],
            [
             0.7,
             "#b8e186"
            ],
            [
             0.8,
             "#7fbc41"
            ],
            [
             0.9,
             "#4d9221"
            ],
            [
             1,
             "#276419"
            ]
           ],
           "sequential": [
            [
             0,
             "#0d0887"
            ],
            [
             0.1111111111111111,
             "#46039f"
            ],
            [
             0.2222222222222222,
             "#7201a8"
            ],
            [
             0.3333333333333333,
             "#9c179e"
            ],
            [
             0.4444444444444444,
             "#bd3786"
            ],
            [
             0.5555555555555556,
             "#d8576b"
            ],
            [
             0.6666666666666666,
             "#ed7953"
            ],
            [
             0.7777777777777778,
             "#fb9f3a"
            ],
            [
             0.8888888888888888,
             "#fdca26"
            ],
            [
             1,
             "#f0f921"
            ]
           ],
           "sequentialminus": [
            [
             0,
             "#0d0887"
            ],
            [
             0.1111111111111111,
             "#46039f"
            ],
            [
             0.2222222222222222,
             "#7201a8"
            ],
            [
             0.3333333333333333,
             "#9c179e"
            ],
            [
             0.4444444444444444,
             "#bd3786"
            ],
            [
             0.5555555555555556,
             "#d8576b"
            ],
            [
             0.6666666666666666,
             "#ed7953"
            ],
            [
             0.7777777777777778,
             "#fb9f3a"
            ],
            [
             0.8888888888888888,
             "#fdca26"
            ],
            [
             1,
             "#f0f921"
            ]
           ]
          },
          "colorway": [
           "#636efa",
           "#EF553B",
           "#00cc96",
           "#ab63fa",
           "#FFA15A",
           "#19d3f3",
           "#FF6692",
           "#B6E880",
           "#FF97FF",
           "#FECB52"
          ],
          "font": {
           "color": "#2a3f5f"
          },
          "geo": {
           "bgcolor": "white",
           "lakecolor": "white",
           "landcolor": "#E5ECF6",
           "showlakes": true,
           "showland": true,
           "subunitcolor": "white"
          },
          "hoverlabel": {
           "align": "left"
          },
          "hovermode": "closest",
          "mapbox": {
           "style": "light"
          },
          "paper_bgcolor": "white",
          "plot_bgcolor": "#E5ECF6",
          "polar": {
           "angularaxis": {
            "gridcolor": "white",
            "linecolor": "white",
            "ticks": ""
           },
           "bgcolor": "#E5ECF6",
           "radialaxis": {
            "gridcolor": "white",
            "linecolor": "white",
            "ticks": ""
           }
          },
          "scene": {
           "xaxis": {
            "backgroundcolor": "#E5ECF6",
            "gridcolor": "white",
            "gridwidth": 2,
            "linecolor": "white",
            "showbackground": true,
            "ticks": "",
            "zerolinecolor": "white"
           },
           "yaxis": {
            "backgroundcolor": "#E5ECF6",
            "gridcolor": "white",
            "gridwidth": 2,
            "linecolor": "white",
            "showbackground": true,
            "ticks": "",
            "zerolinecolor": "white"
           },
           "zaxis": {
            "backgroundcolor": "#E5ECF6",
            "gridcolor": "white",
            "gridwidth": 2,
            "linecolor": "white",
            "showbackground": true,
            "ticks": "",
            "zerolinecolor": "white"
           }
          },
          "shapedefaults": {
           "line": {
            "color": "#2a3f5f"
           }
          },
          "ternary": {
           "aaxis": {
            "gridcolor": "white",
            "linecolor": "white",
            "ticks": ""
           },
           "baxis": {
            "gridcolor": "white",
            "linecolor": "white",
            "ticks": ""
           },
           "bgcolor": "#E5ECF6",
           "caxis": {
            "gridcolor": "white",
            "linecolor": "white",
            "ticks": ""
           }
          },
          "title": {
           "x": 0.05
          },
          "xaxis": {
           "automargin": true,
           "gridcolor": "white",
           "linecolor": "white",
           "ticks": "",
           "title": {
            "standoff": 15
           },
           "zerolinecolor": "white",
           "zerolinewidth": 2
          },
          "yaxis": {
           "automargin": true,
           "gridcolor": "white",
           "linecolor": "white",
           "ticks": "",
           "title": {
            "standoff": 15
           },
           "zerolinecolor": "white",
           "zerolinewidth": 2
          }
         }
        },
        "title": {
         "font": {
          "color": "black"
         },
         "text": "Wind Energy Consumption in China"
        },
        "xaxis": {
         "anchor": "y",
         "domain": [
          0,
          1
         ],
         "gridcolor": "lightgrey",
         "gridwidth": 1,
         "linecolor": "black",
         "linewidth": 1,
         "showgrid": true,
         "showline": true,
         "title": {
          "text": "Year"
         },
         "zeroline": true,
         "zerolinecolor": "lightgrey",
         "zerolinewidth": 1
        },
        "yaxis": {
         "anchor": "x",
         "domain": [
          0,
          1
         ],
         "gridcolor": "lightgrey",
         "gridwidth": 1,
         "linecolor": "black",
         "linewidth": 1,
         "showgrid": true,
         "showline": true,
         "title": {
          "text": "Other renewables (terawatt-hours)"
         },
         "zeroline": true,
         "zerolinecolor": "lightgrey",
         "zerolinewidth": 1
        }
       }
      },
      "text/html": [
       "<div>                            <div id=\"5ec162ea-1ded-428f-8f13-b647418b580d\" class=\"plotly-graph-div\" style=\"height:525px; width:100%;\"></div>            <script type=\"text/javascript\">                require([\"plotly\"], function(Plotly) {                    window.PLOTLYENV=window.PLOTLYENV || {};                                    if (document.getElementById(\"5ec162ea-1ded-428f-8f13-b647418b580d\")) {                    Plotly.newPlot(                        \"5ec162ea-1ded-428f-8f13-b647418b580d\",                        [{\"hovertemplate\":\"Year=%{x}<br>Other renewables (terawatt-hours)=%{y}<extra></extra>\",\"legendgroup\":\"\",\"marker\":{\"color\":\"black\",\"opacity\":0.8,\"symbol\":\"circle\",\"size\":5},\"mode\":\"markers\",\"name\":\"\",\"orientation\":\"v\",\"showlegend\":false,\"x\":[1990,1991,1992,1993,1994,1995,1996,1997,1998,1999,2000,2001,2002,2003,2004,2005,2006,2007,2008,2009,2010,2011,2012,2013,2014,2015,2016,2017],\"xaxis\":\"x\",\"y\":[0.064,0.064,0.113,0.117,0.46,3.014,1.533,2.722,2.48,2.52,2.537,2.554,2.546,2.536,2.528,5.322,7.133,9.863,14.866,20.85932,24.90023,27.707,30.484845,37.2864287,46.4216487,54.07029,62.134767,79.5971459591602],\"yaxis\":\"y\",\"type\":\"scatter\"}],                        {\"template\":{\"data\":{\"bar\":[{\"error_x\":{\"color\":\"#2a3f5f\"},\"error_y\":{\"color\":\"#2a3f5f\"},\"marker\":{\"line\":{\"color\":\"#E5ECF6\",\"width\":0.5},\"pattern\":{\"fillmode\":\"overlay\",\"size\":10,\"solidity\":0.2}},\"type\":\"bar\"}],\"barpolar\":[{\"marker\":{\"line\":{\"color\":\"#E5ECF6\",\"width\":0.5},\"pattern\":{\"fillmode\":\"overlay\",\"size\":10,\"solidity\":0.2}},\"type\":\"barpolar\"}],\"carpet\":[{\"aaxis\":{\"endlinecolor\":\"#2a3f5f\",\"gridcolor\":\"white\",\"linecolor\":\"white\",\"minorgridcolor\":\"white\",\"startlinecolor\":\"#2a3f5f\"},\"baxis\":{\"endlinecolor\":\"#2a3f5f\",\"gridcolor\":\"white\",\"linecolor\":\"white\",\"minorgridcolor\":\"white\",\"startlinecolor\":\"#2a3f5f\"},\"type\":\"carpet\"}],\"choropleth\":[{\"colorbar\":{\"outlinewidth\":0,\"ticks\":\"\"},\"type\":\"choropleth\"}],\"contour\":[{\"colorbar\":{\"outlinewidth\":0,\"ticks\":\"\"},\"colorscale\":[[0.0,\"#0d0887\"],[0.1111111111111111,\"#46039f\"],[0.2222222222222222,\"#7201a8\"],[0.3333333333333333,\"#9c179e\"],[0.4444444444444444,\"#bd3786\"],[0.5555555555555556,\"#d8576b\"],[0.6666666666666666,\"#ed7953\"],[0.7777777777777778,\"#fb9f3a\"],[0.8888888888888888,\"#fdca26\"],[1.0,\"#f0f921\"]],\"type\":\"contour\"}],\"contourcarpet\":[{\"colorbar\":{\"outlinewidth\":0,\"ticks\":\"\"},\"type\":\"contourcarpet\"}],\"heatmap\":[{\"colorbar\":{\"outlinewidth\":0,\"ticks\":\"\"},\"colorscale\":[[0.0,\"#0d0887\"],[0.1111111111111111,\"#46039f\"],[0.2222222222222222,\"#7201a8\"],[0.3333333333333333,\"#9c179e\"],[0.4444444444444444,\"#bd3786\"],[0.5555555555555556,\"#d8576b\"],[0.6666666666666666,\"#ed7953\"],[0.7777777777777778,\"#fb9f3a\"],[0.8888888888888888,\"#fdca26\"],[1.0,\"#f0f921\"]],\"type\":\"heatmap\"}],\"heatmapgl\":[{\"colorbar\":{\"outlinewidth\":0,\"ticks\":\"\"},\"colorscale\":[[0.0,\"#0d0887\"],[0.1111111111111111,\"#46039f\"],[0.2222222222222222,\"#7201a8\"],[0.3333333333333333,\"#9c179e\"],[0.4444444444444444,\"#bd3786\"],[0.5555555555555556,\"#d8576b\"],[0.6666666666666666,\"#ed7953\"],[0.7777777777777778,\"#fb9f3a\"],[0.8888888888888888,\"#fdca26\"],[1.0,\"#f0f921\"]],\"type\":\"heatmapgl\"}],\"histogram\":[{\"marker\":{\"pattern\":{\"fillmode\":\"overlay\",\"size\":10,\"solidity\":0.2}},\"type\":\"histogram\"}],\"histogram2d\":[{\"colorbar\":{\"outlinewidth\":0,\"ticks\":\"\"},\"colorscale\":[[0.0,\"#0d0887\"],[0.1111111111111111,\"#46039f\"],[0.2222222222222222,\"#7201a8\"],[0.3333333333333333,\"#9c179e\"],[0.4444444444444444,\"#bd3786\"],[0.5555555555555556,\"#d8576b\"],[0.6666666666666666,\"#ed7953\"],[0.7777777777777778,\"#fb9f3a\"],[0.8888888888888888,\"#fdca26\"],[1.0,\"#f0f921\"]],\"type\":\"histogram2d\"}],\"histogram2dcontour\":[{\"colorbar\":{\"outlinewidth\":0,\"ticks\":\"\"},\"colorscale\":[[0.0,\"#0d0887\"],[0.1111111111111111,\"#46039f\"],[0.2222222222222222,\"#7201a8\"],[0.3333333333333333,\"#9c179e\"],[0.4444444444444444,\"#bd3786\"],[0.5555555555555556,\"#d8576b\"],[0.6666666666666666,\"#ed7953\"],[0.7777777777777778,\"#fb9f3a\"],[0.8888888888888888,\"#fdca26\"],[1.0,\"#f0f921\"]],\"type\":\"histogram2dcontour\"}],\"mesh3d\":[{\"colorbar\":{\"outlinewidth\":0,\"ticks\":\"\"},\"type\":\"mesh3d\"}],\"parcoords\":[{\"line\":{\"colorbar\":{\"outlinewidth\":0,\"ticks\":\"\"}},\"type\":\"parcoords\"}],\"pie\":[{\"automargin\":true,\"type\":\"pie\"}],\"scatter\":[{\"marker\":{\"colorbar\":{\"outlinewidth\":0,\"ticks\":\"\"}},\"type\":\"scatter\"}],\"scatter3d\":[{\"line\":{\"colorbar\":{\"outlinewidth\":0,\"ticks\":\"\"}},\"marker\":{\"colorbar\":{\"outlinewidth\":0,\"ticks\":\"\"}},\"type\":\"scatter3d\"}],\"scattercarpet\":[{\"marker\":{\"colorbar\":{\"outlinewidth\":0,\"ticks\":\"\"}},\"type\":\"scattercarpet\"}],\"scattergeo\":[{\"marker\":{\"colorbar\":{\"outlinewidth\":0,\"ticks\":\"\"}},\"type\":\"scattergeo\"}],\"scattergl\":[{\"marker\":{\"colorbar\":{\"outlinewidth\":0,\"ticks\":\"\"}},\"type\":\"scattergl\"}],\"scattermapbox\":[{\"marker\":{\"colorbar\":{\"outlinewidth\":0,\"ticks\":\"\"}},\"type\":\"scattermapbox\"}],\"scatterpolar\":[{\"marker\":{\"colorbar\":{\"outlinewidth\":0,\"ticks\":\"\"}},\"type\":\"scatterpolar\"}],\"scatterpolargl\":[{\"marker\":{\"colorbar\":{\"outlinewidth\":0,\"ticks\":\"\"}},\"type\":\"scatterpolargl\"}],\"scatterternary\":[{\"marker\":{\"colorbar\":{\"outlinewidth\":0,\"ticks\":\"\"}},\"type\":\"scatterternary\"}],\"surface\":[{\"colorbar\":{\"outlinewidth\":0,\"ticks\":\"\"},\"colorscale\":[[0.0,\"#0d0887\"],[0.1111111111111111,\"#46039f\"],[0.2222222222222222,\"#7201a8\"],[0.3333333333333333,\"#9c179e\"],[0.4444444444444444,\"#bd3786\"],[0.5555555555555556,\"#d8576b\"],[0.6666666666666666,\"#ed7953\"],[0.7777777777777778,\"#fb9f3a\"],[0.8888888888888888,\"#fdca26\"],[1.0,\"#f0f921\"]],\"type\":\"surface\"}],\"table\":[{\"cells\":{\"fill\":{\"color\":\"#EBF0F8\"},\"line\":{\"color\":\"white\"}},\"header\":{\"fill\":{\"color\":\"#C8D4E3\"},\"line\":{\"color\":\"white\"}},\"type\":\"table\"}]},\"layout\":{\"annotationdefaults\":{\"arrowcolor\":\"#2a3f5f\",\"arrowhead\":0,\"arrowwidth\":1},\"autotypenumbers\":\"strict\",\"coloraxis\":{\"colorbar\":{\"outlinewidth\":0,\"ticks\":\"\"}},\"colorscale\":{\"diverging\":[[0,\"#8e0152\"],[0.1,\"#c51b7d\"],[0.2,\"#de77ae\"],[0.3,\"#f1b6da\"],[0.4,\"#fde0ef\"],[0.5,\"#f7f7f7\"],[0.6,\"#e6f5d0\"],[0.7,\"#b8e186\"],[0.8,\"#7fbc41\"],[0.9,\"#4d9221\"],[1,\"#276419\"]],\"sequential\":[[0.0,\"#0d0887\"],[0.1111111111111111,\"#46039f\"],[0.2222222222222222,\"#7201a8\"],[0.3333333333333333,\"#9c179e\"],[0.4444444444444444,\"#bd3786\"],[0.5555555555555556,\"#d8576b\"],[0.6666666666666666,\"#ed7953\"],[0.7777777777777778,\"#fb9f3a\"],[0.8888888888888888,\"#fdca26\"],[1.0,\"#f0f921\"]],\"sequentialminus\":[[0.0,\"#0d0887\"],[0.1111111111111111,\"#46039f\"],[0.2222222222222222,\"#7201a8\"],[0.3333333333333333,\"#9c179e\"],[0.4444444444444444,\"#bd3786\"],[0.5555555555555556,\"#d8576b\"],[0.6666666666666666,\"#ed7953\"],[0.7777777777777778,\"#fb9f3a\"],[0.8888888888888888,\"#fdca26\"],[1.0,\"#f0f921\"]]},\"colorway\":[\"#636efa\",\"#EF553B\",\"#00cc96\",\"#ab63fa\",\"#FFA15A\",\"#19d3f3\",\"#FF6692\",\"#B6E880\",\"#FF97FF\",\"#FECB52\"],\"font\":{\"color\":\"#2a3f5f\"},\"geo\":{\"bgcolor\":\"white\",\"lakecolor\":\"white\",\"landcolor\":\"#E5ECF6\",\"showlakes\":true,\"showland\":true,\"subunitcolor\":\"white\"},\"hoverlabel\":{\"align\":\"left\"},\"hovermode\":\"closest\",\"mapbox\":{\"style\":\"light\"},\"paper_bgcolor\":\"white\",\"plot_bgcolor\":\"#E5ECF6\",\"polar\":{\"angularaxis\":{\"gridcolor\":\"white\",\"linecolor\":\"white\",\"ticks\":\"\"},\"bgcolor\":\"#E5ECF6\",\"radialaxis\":{\"gridcolor\":\"white\",\"linecolor\":\"white\",\"ticks\":\"\"}},\"scene\":{\"xaxis\":{\"backgroundcolor\":\"#E5ECF6\",\"gridcolor\":\"white\",\"gridwidth\":2,\"linecolor\":\"white\",\"showbackground\":true,\"ticks\":\"\",\"zerolinecolor\":\"white\"},\"yaxis\":{\"backgroundcolor\":\"#E5ECF6\",\"gridcolor\":\"white\",\"gridwidth\":2,\"linecolor\":\"white\",\"showbackground\":true,\"ticks\":\"\",\"zerolinecolor\":\"white\"},\"zaxis\":{\"backgroundcolor\":\"#E5ECF6\",\"gridcolor\":\"white\",\"gridwidth\":2,\"linecolor\":\"white\",\"showbackground\":true,\"ticks\":\"\",\"zerolinecolor\":\"white\"}},\"shapedefaults\":{\"line\":{\"color\":\"#2a3f5f\"}},\"ternary\":{\"aaxis\":{\"gridcolor\":\"white\",\"linecolor\":\"white\",\"ticks\":\"\"},\"baxis\":{\"gridcolor\":\"white\",\"linecolor\":\"white\",\"ticks\":\"\"},\"bgcolor\":\"#E5ECF6\",\"caxis\":{\"gridcolor\":\"white\",\"linecolor\":\"white\",\"ticks\":\"\"}},\"title\":{\"x\":0.05},\"xaxis\":{\"automargin\":true,\"gridcolor\":\"white\",\"linecolor\":\"white\",\"ticks\":\"\",\"title\":{\"standoff\":15},\"zerolinecolor\":\"white\",\"zerolinewidth\":2},\"yaxis\":{\"automargin\":true,\"gridcolor\":\"white\",\"linecolor\":\"white\",\"ticks\":\"\",\"title\":{\"standoff\":15},\"zerolinecolor\":\"white\",\"zerolinewidth\":2}}},\"xaxis\":{\"anchor\":\"y\",\"domain\":[0.0,1.0],\"title\":{\"text\":\"Year\"},\"showgrid\":true,\"gridwidth\":1,\"gridcolor\":\"lightgrey\",\"zeroline\":true,\"zerolinewidth\":1,\"zerolinecolor\":\"lightgrey\",\"showline\":true,\"linewidth\":1,\"linecolor\":\"black\"},\"yaxis\":{\"anchor\":\"x\",\"domain\":[0.0,1.0],\"title\":{\"text\":\"Other renewables (terawatt-hours)\"},\"showgrid\":true,\"gridwidth\":1,\"gridcolor\":\"lightgrey\",\"zeroline\":true,\"zerolinewidth\":1,\"zerolinecolor\":\"lightgrey\",\"showline\":true,\"linewidth\":1,\"linecolor\":\"black\"},\"legend\":{\"tracegroupgap\":0},\"margin\":{\"t\":60},\"plot_bgcolor\":\"white\",\"title\":{\"font\":{\"color\":\"black\"},\"text\":\"Wind Energy Consumption in China\"}},                        {\"responsive\": true}                    ).then(function(){\n",
       "                            \n",
       "var gd = document.getElementById('5ec162ea-1ded-428f-8f13-b647418b580d');\n",
       "var x = new MutationObserver(function (mutations, observer) {{\n",
       "        var display = window.getComputedStyle(gd).display;\n",
       "        if (!display || display === 'none') {{\n",
       "            console.log([gd, 'removed!']);\n",
       "            Plotly.purge(gd);\n",
       "            observer.disconnect();\n",
       "        }}\n",
       "}});\n",
       "\n",
       "// Listen for the removal of the full notebook cells\n",
       "var notebookContainer = gd.closest('#notebook-container');\n",
       "if (notebookContainer) {{\n",
       "    x.observe(notebookContainer, {childList: true});\n",
       "}}\n",
       "\n",
       "// Listen for the clearing of the current output cell\n",
       "var outputEl = gd.closest('.output');\n",
       "if (outputEl) {{\n",
       "    x.observe(outputEl, {childList: true});\n",
       "}}\n",
       "\n",
       "                        })                };                });            </script>        </div>"
      ]
     },
     "metadata": {},
     "output_type": "display_data"
    }
   ],
   "source": [
    "# Create a scatter plot\n",
    "fig = px.scatter(df, x=df['Year'], y=df['Other renewables (terawatt-hours)'], \n",
    "                 opacity=0.8, color_discrete_sequence=['black'])\n",
    "# Change chart background color\n",
    "fig.update_layout(dict(plot_bgcolor = 'white'))\n",
    "\n",
    "# Update axes lines\n",
    "fig.update_xaxes(showgrid=True, gridwidth=1, gridcolor='lightgrey', \n",
    "                 zeroline=True, zerolinewidth=1, zerolinecolor='lightgrey', \n",
    "                 showline=True, linewidth=1, linecolor='black')\n",
    "\n",
    "fig.update_yaxes(showgrid=True, gridwidth=1, gridcolor='lightgrey', \n",
    "                 zeroline=True, zerolinewidth=1, zerolinecolor='lightgrey', \n",
    "                 showline=True, linewidth=1, linecolor='black')\n",
    "\n",
    "fig.update_yaxes(showgrid=True, gridwidth=1, gridcolor='lightgrey', \n",
    "                 zeroline=True, zerolinewidth=1, zerolinecolor='lightgrey', \n",
    "                 showline=True, linewidth=1, linecolor='black')\n",
    "\n",
    "# Set figure title\n",
    "fig.update_layout(title=dict(text=\"Wind Energy Consumption in China\", \n",
    "                             font=dict(color='black')))\n",
    "# Update marker size\n",
    "fig.update_traces(marker=dict(size=5))\n",
    "\n",
    "fig.show()\n"
   ]
  },
  {
   "cell_type": "code",
   "execution_count": 511,
   "id": "b343c7d2",
   "metadata": {
    "id": "b343c7d2"
   },
   "outputs": [],
   "source": [
    "# Note, we need X to be a 2D array, hence reshape\n",
    "X=df['Year'].values.reshape(-1,1)\n",
    "y=df['Other renewables (terawatt-hours)'].values\n",
    "\n",
    "X_train, X_test, y_train, y_test = train_test_split(X ,y, test_size=0.30, random_state=100)\n",
    "\n",
    "\n",
    "# ------- Linear regression -------\n",
    "model1 = LinearRegression()\n",
    "lr = model1.fit(X_train, y_train)\n",
    "\n",
    "# ------- Support Vector regression -------\n",
    "model2 = SVR(kernel='rbf', C=400, epsilon=12) # set kernel and hyperparameters\n",
    "svr = model2.fit(X_train, y_train)\n",
    "\n",
    "# ------- Predict a range of values based on the models for visualization -------\n",
    "# Create 100 evenly spaced points from smallest X to largest X\n",
    "x_range = np.linspace(X.min(), X.max(), 100)\n",
    "\n",
    "# Predict y values for our set of X values\n",
    "y_lr = model1.predict(x_range.reshape(-1, 1)) # Linear regression\n",
    "y_svr = model2.predict(x_range.reshape(-1, 1)) # SVR"
   ]
  },
  {
   "cell_type": "code",
   "execution_count": 512,
   "id": "e7b3b96f",
   "metadata": {
    "colab": {
     "base_uri": "https://localhost:8080/",
     "height": 542
    },
    "id": "e7b3b96f",
    "outputId": "512e4d94-f760-4781-922d-27e391d2abb1"
   },
   "outputs": [
    {
     "data": {
      "application/vnd.plotly.v1+json": {
       "config": {
        "plotlyServerURL": "https://plot.ly"
       },
       "data": [
        {
         "hovertemplate": "Year=%{x}<br>Other renewables (terawatt-hours)=%{y}<extra></extra>",
         "legendgroup": "",
         "marker": {
          "color": "black",
          "opacity": 0.8,
          "size": 3,
          "symbol": "circle"
         },
         "mode": "markers",
         "name": "",
         "orientation": "v",
         "showlegend": false,
         "type": "scatter",
         "x": [
          1990,
          1991,
          1992,
          1993,
          1994,
          1995,
          1996,
          1997,
          1998,
          1999,
          2000,
          2001,
          2002,
          2003,
          2004,
          2005,
          2006,
          2007,
          2008,
          2009,
          2010,
          2011,
          2012,
          2013,
          2014,
          2015,
          2016,
          2017
         ],
         "xaxis": "x",
         "y": [
          0.064,
          0.064,
          0.113,
          0.117,
          0.46,
          3.014,
          1.533,
          2.722,
          2.48,
          2.52,
          2.537,
          2.554,
          2.546,
          2.536,
          2.528,
          5.322,
          7.133,
          9.863,
          14.866,
          20.85932,
          24.90023,
          27.707,
          30.484845,
          37.2864287,
          46.4216487,
          54.07029,
          62.134767,
          79.5971459591602
         ],
         "yaxis": "y"
        },
        {
         "line": {
          "color": "limegreen"
         },
         "marker": {
          "size": 3
         },
         "name": "Linear Regression",
         "type": "scatter",
         "x": [
          1990,
          1990.2727272727273,
          1990.5454545454545,
          1990.8181818181818,
          1991.090909090909,
          1991.3636363636363,
          1991.6363636363637,
          1991.909090909091,
          1992.1818181818182,
          1992.4545454545455,
          1992.7272727272727,
          1993,
          1993.2727272727273,
          1993.5454545454545,
          1993.8181818181818,
          1994.090909090909,
          1994.3636363636363,
          1994.6363636363637,
          1994.909090909091,
          1995.1818181818182,
          1995.4545454545455,
          1995.7272727272727,
          1996,
          1996.2727272727273,
          1996.5454545454545,
          1996.8181818181818,
          1997.090909090909,
          1997.3636363636363,
          1997.6363636363637,
          1997.909090909091,
          1998.1818181818182,
          1998.4545454545455,
          1998.7272727272727,
          1999,
          1999.2727272727273,
          1999.5454545454545,
          1999.8181818181818,
          2000.090909090909,
          2000.3636363636363,
          2000.6363636363637,
          2000.909090909091,
          2001.1818181818182,
          2001.4545454545455,
          2001.7272727272727,
          2002,
          2002.2727272727273,
          2002.5454545454545,
          2002.8181818181818,
          2003.090909090909,
          2003.3636363636363,
          2003.6363636363637,
          2003.909090909091,
          2004.1818181818182,
          2004.4545454545455,
          2004.7272727272727,
          2005,
          2005.2727272727273,
          2005.5454545454545,
          2005.8181818181818,
          2006.090909090909,
          2006.3636363636363,
          2006.6363636363637,
          2006.909090909091,
          2007.1818181818182,
          2007.4545454545455,
          2007.7272727272727,
          2008,
          2008.2727272727273,
          2008.5454545454545,
          2008.8181818181818,
          2009.090909090909,
          2009.3636363636363,
          2009.6363636363637,
          2009.909090909091,
          2010.1818181818182,
          2010.4545454545455,
          2010.7272727272727,
          2011,
          2011.2727272727273,
          2011.5454545454545,
          2011.8181818181818,
          2012.090909090909,
          2012.3636363636363,
          2012.6363636363637,
          2012.909090909091,
          2013.1818181818182,
          2013.4545454545455,
          2013.7272727272727,
          2014,
          2014.2727272727273,
          2014.5454545454545,
          2014.8181818181818,
          2015.090909090909,
          2015.3636363636363,
          2015.6363636363637,
          2015.909090909091,
          2016.1818181818182,
          2016.4545454545455,
          2016.7272727272727,
          2017
         ],
         "y": [
          -11.722062638012176,
          -11.175941592955951,
          -10.629820547899726,
          -10.083699502843501,
          -9.537578457787276,
          -8.991457412731052,
          -8.445336367674372,
          -7.899215322618147,
          -7.353094277561922,
          -6.8069732325056975,
          -6.260852187449473,
          -5.714731142393248,
          -5.168610097337023,
          -4.622489052280798,
          -4.076368007224573,
          -3.5302469621683485,
          -2.9841259171121237,
          -2.438004872055444,
          -1.8918838269992193,
          -1.3457627819429945,
          -0.7996417368867696,
          -0.2535206918305448,
          0.29260035322568,
          0.8387213982819048,
          1.3848424433381297,
          1.9309634883943545,
          2.4770845334505793,
          3.023205578506804,
          3.5693266235634837,
          4.115447668619709,
          4.661568713675933,
          5.207689758732158,
          5.753810803788383,
          6.299931848844608,
          6.846052893900833,
          7.3921739389570575,
          7.938294984013282,
          8.484416029069507,
          9.030537074125732,
          9.576658119182412,
          10.122779164238636,
          10.668900209294861,
          11.215021254351086,
          11.761142299407311,
          12.307263344463536,
          12.85338438951976,
          13.39950543457644,
          13.945626479632665,
          14.49174752468889,
          15.037868569745115,
          15.583989614801794,
          16.13011065985802,
          16.676231704914244,
          17.22235274997047,
          17.768473795026694,
          18.31459484008292,
          18.860715885139143,
          19.406836930195368,
          19.952957975251593,
          20.499079020307818,
          21.045200065364043,
          21.591321110420722,
          22.137442155476947,
          22.68356320053317,
          23.229684245589397,
          23.77580529064562,
          24.321926335701846,
          24.86804738075807,
          25.414168425814296,
          25.96028947087052,
          26.506410515926746,
          27.05253156098297,
          27.59865260603965,
          28.144773651095875,
          28.6908946961521,
          29.237015741208324,
          29.78313678626455,
          30.329257831320774,
          30.875378876377,
          31.421499921433224,
          31.96762096648945,
          32.51374201154567,
          33.0598630566019,
          33.60598410165858,
          34.1521051467148,
          34.69822619177103,
          35.24434723682725,
          35.79046828188348,
          36.3365893269397,
          36.88271037199593,
          37.42883141705215,
          37.97495246210838,
          38.5210735071646,
          39.067194552220826,
          39.613315597277506,
          40.15943664233373,
          40.705557687389955,
          41.25167873244618,
          41.797799777502405,
          42.34392082255863
         ]
        },
        {
         "line": {
          "color": "red"
         },
         "marker": {
          "size": 3
         },
         "name": "Support Vector Regression",
         "type": "scatter",
         "x": [
          1990,
          1990.2727272727273,
          1990.5454545454545,
          1990.8181818181818,
          1991.090909090909,
          1991.3636363636363,
          1991.6363636363637,
          1991.909090909091,
          1992.1818181818182,
          1992.4545454545455,
          1992.7272727272727,
          1993,
          1993.2727272727273,
          1993.5454545454545,
          1993.8181818181818,
          1994.090909090909,
          1994.3636363636363,
          1994.6363636363637,
          1994.909090909091,
          1995.1818181818182,
          1995.4545454545455,
          1995.7272727272727,
          1996,
          1996.2727272727273,
          1996.5454545454545,
          1996.8181818181818,
          1997.090909090909,
          1997.3636363636363,
          1997.6363636363637,
          1997.909090909091,
          1998.1818181818182,
          1998.4545454545455,
          1998.7272727272727,
          1999,
          1999.2727272727273,
          1999.5454545454545,
          1999.8181818181818,
          2000.090909090909,
          2000.3636363636363,
          2000.6363636363637,
          2000.909090909091,
          2001.1818181818182,
          2001.4545454545455,
          2001.7272727272727,
          2002,
          2002.2727272727273,
          2002.5454545454545,
          2002.8181818181818,
          2003.090909090909,
          2003.3636363636363,
          2003.6363636363637,
          2003.909090909091,
          2004.1818181818182,
          2004.4545454545455,
          2004.7272727272727,
          2005,
          2005.2727272727273,
          2005.5454545454545,
          2005.8181818181818,
          2006.090909090909,
          2006.3636363636363,
          2006.6363636363637,
          2006.909090909091,
          2007.1818181818182,
          2007.4545454545455,
          2007.7272727272727,
          2008,
          2008.2727272727273,
          2008.5454545454545,
          2008.8181818181818,
          2009.090909090909,
          2009.3636363636363,
          2009.6363636363637,
          2009.909090909091,
          2010.1818181818182,
          2010.4545454545455,
          2010.7272727272727,
          2011,
          2011.2727272727273,
          2011.5454545454545,
          2011.8181818181818,
          2012.090909090909,
          2012.3636363636363,
          2012.6363636363637,
          2012.909090909091,
          2013.1818181818182,
          2013.4545454545455,
          2013.7272727272727,
          2014,
          2014.2727272727273,
          2014.5454545454545,
          2014.8181818181818,
          2015.090909090909,
          2015.3636363636363,
          2015.6363636363637,
          2015.909090909091,
          2016.1818181818182,
          2016.4545454545455,
          2016.7272727272727,
          2017
         ],
         "y": [
          12.063970737092937,
          11.910811772899471,
          11.788956990877349,
          11.69793067000553,
          11.636993621901059,
          11.605150101482067,
          11.601157979075293,
          11.623542077551626,
          11.670610529859587,
          11.740473966197232,
          11.831067296860052,
          11.9401738173143,
          12.06545132699026,
          12.20445992330228,
          12.354691108020464,
          12.51359782477359,
          12.678625034471697,
          12.847240429994798,
          13.016964892672522,
          13.185402300828244,
          13.35026831478907,
          13.509417782986123,
          13.660870439651177,
          13.802834595639595,
          13.933728559440855,
          14.052199564759874,
          14.15714002336837,
          14.247700966377664,
          14.323302582767862,
          14.383641809987498,
          14.4286969767698,
          14.45872954205274,
          14.474283015138099,
          14.476179180109607,
          14.465511781262663,
          14.443637855169492,
          14.41216691841517,
          14.372948237515526,
          14.328056418733254,
          14.279775560261314,
          14.230582207526304,
          14.183127344330902,
          14.140217638535674,
          14.104796141472853,
          14.07992261596241,
          14.068753639486722,
          14.07452259774287,
          14.100519650518457,
          14.150071717810658,
          14.226522500576824,
          14.333212518747516,
          14.473459120422312,
          14.650536391738243,
          14.867654877886359,
          15.127941013186195,
          15.43441615285476,
          15.789975101791532,
          16.197364046764207,
          16.659157817989577,
          17.177736434146706,
          17.75526092093104,
          18.39364843665955,
          19.094546788172007,
          19.85930847509647,
          20.68896445889415,
          21.584197913302546,
          22.5453182728792,
          23.572235954321474,
          24.664438178980696,
          25.820966372401315,
          27.04039565575337,
          28.320816972774708,
          29.65982241258103,
          31.054494291964605,
          32.50139854948596,
          33.996582976894814,
          35.535580770973176,
          37.1134198307062,
          38.724638151378834,
          40.36330557971884,
          42.023052094012726,
          43.69710266207511,
          45.37831861031396,
          47.05924531149212,
          48.73216586999733,
          50.38916035460436,
          52.02217000291022,
          53.623065702223684,
          55.18371994166387,
          56.69608133267329,
          58.15225071277561,
          59.54455778264166,
          60.865637181389694,
          62.10850288109751,
          63.26661977979077,
          64.33397139318393,
          65.30512258914717,
          66.17527637453017,
          66.94032383050624,
          67.59688639815411
         ]
        },
        {
         "line": {
          "color": "red",
          "dash": "dot"
         },
         "marker": {
          "size": 3
         },
         "name": "+epsilon",
         "type": "scatter",
         "x": [
          1990,
          1990.2727272727273,
          1990.5454545454545,
          1990.8181818181818,
          1991.090909090909,
          1991.3636363636363,
          1991.6363636363637,
          1991.909090909091,
          1992.1818181818182,
          1992.4545454545455,
          1992.7272727272727,
          1993,
          1993.2727272727273,
          1993.5454545454545,
          1993.8181818181818,
          1994.090909090909,
          1994.3636363636363,
          1994.6363636363637,
          1994.909090909091,
          1995.1818181818182,
          1995.4545454545455,
          1995.7272727272727,
          1996,
          1996.2727272727273,
          1996.5454545454545,
          1996.8181818181818,
          1997.090909090909,
          1997.3636363636363,
          1997.6363636363637,
          1997.909090909091,
          1998.1818181818182,
          1998.4545454545455,
          1998.7272727272727,
          1999,
          1999.2727272727273,
          1999.5454545454545,
          1999.8181818181818,
          2000.090909090909,
          2000.3636363636363,
          2000.6363636363637,
          2000.909090909091,
          2001.1818181818182,
          2001.4545454545455,
          2001.7272727272727,
          2002,
          2002.2727272727273,
          2002.5454545454545,
          2002.8181818181818,
          2003.090909090909,
          2003.3636363636363,
          2003.6363636363637,
          2003.909090909091,
          2004.1818181818182,
          2004.4545454545455,
          2004.7272727272727,
          2005,
          2005.2727272727273,
          2005.5454545454545,
          2005.8181818181818,
          2006.090909090909,
          2006.3636363636363,
          2006.6363636363637,
          2006.909090909091,
          2007.1818181818182,
          2007.4545454545455,
          2007.7272727272727,
          2008,
          2008.2727272727273,
          2008.5454545454545,
          2008.8181818181818,
          2009.090909090909,
          2009.3636363636363,
          2009.6363636363637,
          2009.909090909091,
          2010.1818181818182,
          2010.4545454545455,
          2010.7272727272727,
          2011,
          2011.2727272727273,
          2011.5454545454545,
          2011.8181818181818,
          2012.090909090909,
          2012.3636363636363,
          2012.6363636363637,
          2012.909090909091,
          2013.1818181818182,
          2013.4545454545455,
          2013.7272727272727,
          2014,
          2014.2727272727273,
          2014.5454545454545,
          2014.8181818181818,
          2015.090909090909,
          2015.3636363636363,
          2015.6363636363637,
          2015.909090909091,
          2016.1818181818182,
          2016.4545454545455,
          2016.7272727272727,
          2017
         ],
         "y": [
          24.063970737092937,
          23.91081177289947,
          23.78895699087735,
          23.69793067000553,
          23.63699362190106,
          23.605150101482067,
          23.601157979075293,
          23.623542077551626,
          23.670610529859587,
          23.740473966197232,
          23.831067296860052,
          23.9401738173143,
          24.06545132699026,
          24.20445992330228,
          24.354691108020464,
          24.51359782477359,
          24.678625034471697,
          24.847240429994798,
          25.016964892672522,
          25.185402300828244,
          25.35026831478907,
          25.509417782986123,
          25.660870439651177,
          25.802834595639595,
          25.933728559440855,
          26.052199564759874,
          26.15714002336837,
          26.247700966377664,
          26.323302582767862,
          26.3836418099875,
          26.4286969767698,
          26.45872954205274,
          26.4742830151381,
          26.476179180109607,
          26.465511781262663,
          26.44363785516949,
          26.41216691841517,
          26.372948237515526,
          26.328056418733254,
          26.279775560261314,
          26.230582207526304,
          26.183127344330902,
          26.140217638535674,
          26.104796141472853,
          26.07992261596241,
          26.068753639486722,
          26.07452259774287,
          26.100519650518457,
          26.150071717810658,
          26.226522500576824,
          26.333212518747516,
          26.473459120422312,
          26.650536391738243,
          26.86765487788636,
          27.127941013186195,
          27.43441615285476,
          27.789975101791534,
          28.197364046764207,
          28.659157817989577,
          29.177736434146706,
          29.75526092093104,
          30.39364843665955,
          31.094546788172007,
          31.85930847509647,
          32.68896445889415,
          33.584197913302546,
          34.5453182728792,
          35.57223595432147,
          36.664438178980696,
          37.820966372401315,
          39.04039565575337,
          40.32081697277471,
          41.65982241258103,
          43.0544942919646,
          44.50139854948596,
          45.996582976894814,
          47.535580770973176,
          49.1134198307062,
          50.724638151378834,
          52.36330557971884,
          54.023052094012726,
          55.69710266207511,
          57.37831861031396,
          59.05924531149212,
          60.73216586999733,
          62.38916035460436,
          64.02217000291023,
          65.62306570222368,
          67.18371994166387,
          68.69608133267329,
          70.15225071277561,
          71.54455778264166,
          72.8656371813897,
          74.10850288109751,
          75.26661977979077,
          76.33397139318393,
          77.30512258914717,
          78.17527637453017,
          78.94032383050624,
          79.59688639815411
         ]
        },
        {
         "line": {
          "color": "red",
          "dash": "dot"
         },
         "marker": {
          "size": 3
         },
         "name": "-epsilon",
         "type": "scatter",
         "x": [
          1990,
          1990.2727272727273,
          1990.5454545454545,
          1990.8181818181818,
          1991.090909090909,
          1991.3636363636363,
          1991.6363636363637,
          1991.909090909091,
          1992.1818181818182,
          1992.4545454545455,
          1992.7272727272727,
          1993,
          1993.2727272727273,
          1993.5454545454545,
          1993.8181818181818,
          1994.090909090909,
          1994.3636363636363,
          1994.6363636363637,
          1994.909090909091,
          1995.1818181818182,
          1995.4545454545455,
          1995.7272727272727,
          1996,
          1996.2727272727273,
          1996.5454545454545,
          1996.8181818181818,
          1997.090909090909,
          1997.3636363636363,
          1997.6363636363637,
          1997.909090909091,
          1998.1818181818182,
          1998.4545454545455,
          1998.7272727272727,
          1999,
          1999.2727272727273,
          1999.5454545454545,
          1999.8181818181818,
          2000.090909090909,
          2000.3636363636363,
          2000.6363636363637,
          2000.909090909091,
          2001.1818181818182,
          2001.4545454545455,
          2001.7272727272727,
          2002,
          2002.2727272727273,
          2002.5454545454545,
          2002.8181818181818,
          2003.090909090909,
          2003.3636363636363,
          2003.6363636363637,
          2003.909090909091,
          2004.1818181818182,
          2004.4545454545455,
          2004.7272727272727,
          2005,
          2005.2727272727273,
          2005.5454545454545,
          2005.8181818181818,
          2006.090909090909,
          2006.3636363636363,
          2006.6363636363637,
          2006.909090909091,
          2007.1818181818182,
          2007.4545454545455,
          2007.7272727272727,
          2008,
          2008.2727272727273,
          2008.5454545454545,
          2008.8181818181818,
          2009.090909090909,
          2009.3636363636363,
          2009.6363636363637,
          2009.909090909091,
          2010.1818181818182,
          2010.4545454545455,
          2010.7272727272727,
          2011,
          2011.2727272727273,
          2011.5454545454545,
          2011.8181818181818,
          2012.090909090909,
          2012.3636363636363,
          2012.6363636363637,
          2012.909090909091,
          2013.1818181818182,
          2013.4545454545455,
          2013.7272727272727,
          2014,
          2014.2727272727273,
          2014.5454545454545,
          2014.8181818181818,
          2015.090909090909,
          2015.3636363636363,
          2015.6363636363637,
          2015.909090909091,
          2016.1818181818182,
          2016.4545454545455,
          2016.7272727272727,
          2017
         ],
         "y": [
          0.06397073709293721,
          -0.08918822710052865,
          -0.21104300912265117,
          -0.30206932999447034,
          -0.363006378098941,
          -0.39484989851793273,
          -0.39884202092470744,
          -0.37645792244837395,
          -0.32938947014041275,
          -0.25952603380276784,
          -0.1689327031399479,
          -0.0598261826857005,
          0.06545132699026013,
          0.2044599233022808,
          0.35469110802046444,
          0.5135978247735906,
          0.6786250344716969,
          0.8472404299947982,
          1.0169648926725223,
          1.185402300828244,
          1.3502683147890693,
          1.509417782986123,
          1.6608704396511769,
          1.8028345956395952,
          1.9337285594408549,
          2.0521995647598743,
          2.1571400233683704,
          2.247700966377664,
          2.3233025827678624,
          2.3836418099874983,
          2.4286969767697997,
          2.4587295420527404,
          2.4742830151380986,
          2.4761791801096074,
          2.465511781262663,
          2.4436378551694915,
          2.4121669184151706,
          2.3729482375155264,
          2.3280564187332544,
          2.2797755602613137,
          2.2305822075263038,
          2.1831273443309023,
          2.140217638535674,
          2.1047961414728533,
          2.07992261596241,
          2.0687536394867223,
          2.0745225977428703,
          2.100519650518457,
          2.1500717178106576,
          2.2265225005768237,
          2.3332125187475157,
          2.473459120422312,
          2.6505363917382425,
          2.867654877886359,
          3.127941013186195,
          3.4344161528547605,
          3.7899751017915317,
          4.197364046764207,
          4.659157817989577,
          5.177736434146706,
          5.75526092093104,
          6.39364843665955,
          7.094546788172007,
          7.859308475096469,
          8.688964458894151,
          9.584197913302546,
          10.5453182728792,
          11.572235954321474,
          12.664438178980696,
          13.820966372401315,
          15.040395655753368,
          16.320816972774708,
          17.65982241258103,
          19.054494291964605,
          20.501398549485963,
          21.996582976894814,
          23.535580770973176,
          25.1134198307062,
          26.724638151378834,
          28.36330557971884,
          30.023052094012726,
          31.69710266207511,
          33.37831861031396,
          35.05924531149212,
          36.73216586999733,
          38.38916035460436,
          40.02217000291022,
          41.623065702223684,
          43.18371994166387,
          44.69608133267329,
          46.15225071277561,
          47.54455778264166,
          48.865637181389694,
          50.10850288109751,
          51.26661977979077,
          52.33397139318393,
          53.305122589147174,
          54.17527637453017,
          54.940323830506244,
          55.59688639815411
         ]
        }
       ],
       "layout": {
        "legend": {
         "tracegroupgap": 0
        },
        "margin": {
         "t": 60
        },
        "plot_bgcolor": "white",
        "template": {
         "data": {
          "bar": [
           {
            "error_x": {
             "color": "#2a3f5f"
            },
            "error_y": {
             "color": "#2a3f5f"
            },
            "marker": {
             "line": {
              "color": "#E5ECF6",
              "width": 0.5
             },
             "pattern": {
              "fillmode": "overlay",
              "size": 10,
              "solidity": 0.2
             }
            },
            "type": "bar"
           }
          ],
          "barpolar": [
           {
            "marker": {
             "line": {
              "color": "#E5ECF6",
              "width": 0.5
             },
             "pattern": {
              "fillmode": "overlay",
              "size": 10,
              "solidity": 0.2
             }
            },
            "type": "barpolar"
           }
          ],
          "carpet": [
           {
            "aaxis": {
             "endlinecolor": "#2a3f5f",
             "gridcolor": "white",
             "linecolor": "white",
             "minorgridcolor": "white",
             "startlinecolor": "#2a3f5f"
            },
            "baxis": {
             "endlinecolor": "#2a3f5f",
             "gridcolor": "white",
             "linecolor": "white",
             "minorgridcolor": "white",
             "startlinecolor": "#2a3f5f"
            },
            "type": "carpet"
           }
          ],
          "choropleth": [
           {
            "colorbar": {
             "outlinewidth": 0,
             "ticks": ""
            },
            "type": "choropleth"
           }
          ],
          "contour": [
           {
            "colorbar": {
             "outlinewidth": 0,
             "ticks": ""
            },
            "colorscale": [
             [
              0,
              "#0d0887"
             ],
             [
              0.1111111111111111,
              "#46039f"
             ],
             [
              0.2222222222222222,
              "#7201a8"
             ],
             [
              0.3333333333333333,
              "#9c179e"
             ],
             [
              0.4444444444444444,
              "#bd3786"
             ],
             [
              0.5555555555555556,
              "#d8576b"
             ],
             [
              0.6666666666666666,
              "#ed7953"
             ],
             [
              0.7777777777777778,
              "#fb9f3a"
             ],
             [
              0.8888888888888888,
              "#fdca26"
             ],
             [
              1,
              "#f0f921"
             ]
            ],
            "type": "contour"
           }
          ],
          "contourcarpet": [
           {
            "colorbar": {
             "outlinewidth": 0,
             "ticks": ""
            },
            "type": "contourcarpet"
           }
          ],
          "heatmap": [
           {
            "colorbar": {
             "outlinewidth": 0,
             "ticks": ""
            },
            "colorscale": [
             [
              0,
              "#0d0887"
             ],
             [
              0.1111111111111111,
              "#46039f"
             ],
             [
              0.2222222222222222,
              "#7201a8"
             ],
             [
              0.3333333333333333,
              "#9c179e"
             ],
             [
              0.4444444444444444,
              "#bd3786"
             ],
             [
              0.5555555555555556,
              "#d8576b"
             ],
             [
              0.6666666666666666,
              "#ed7953"
             ],
             [
              0.7777777777777778,
              "#fb9f3a"
             ],
             [
              0.8888888888888888,
              "#fdca26"
             ],
             [
              1,
              "#f0f921"
             ]
            ],
            "type": "heatmap"
           }
          ],
          "heatmapgl": [
           {
            "colorbar": {
             "outlinewidth": 0,
             "ticks": ""
            },
            "colorscale": [
             [
              0,
              "#0d0887"
             ],
             [
              0.1111111111111111,
              "#46039f"
             ],
             [
              0.2222222222222222,
              "#7201a8"
             ],
             [
              0.3333333333333333,
              "#9c179e"
             ],
             [
              0.4444444444444444,
              "#bd3786"
             ],
             [
              0.5555555555555556,
              "#d8576b"
             ],
             [
              0.6666666666666666,
              "#ed7953"
             ],
             [
              0.7777777777777778,
              "#fb9f3a"
             ],
             [
              0.8888888888888888,
              "#fdca26"
             ],
             [
              1,
              "#f0f921"
             ]
            ],
            "type": "heatmapgl"
           }
          ],
          "histogram": [
           {
            "marker": {
             "pattern": {
              "fillmode": "overlay",
              "size": 10,
              "solidity": 0.2
             }
            },
            "type": "histogram"
           }
          ],
          "histogram2d": [
           {
            "colorbar": {
             "outlinewidth": 0,
             "ticks": ""
            },
            "colorscale": [
             [
              0,
              "#0d0887"
             ],
             [
              0.1111111111111111,
              "#46039f"
             ],
             [
              0.2222222222222222,
              "#7201a8"
             ],
             [
              0.3333333333333333,
              "#9c179e"
             ],
             [
              0.4444444444444444,
              "#bd3786"
             ],
             [
              0.5555555555555556,
              "#d8576b"
             ],
             [
              0.6666666666666666,
              "#ed7953"
             ],
             [
              0.7777777777777778,
              "#fb9f3a"
             ],
             [
              0.8888888888888888,
              "#fdca26"
             ],
             [
              1,
              "#f0f921"
             ]
            ],
            "type": "histogram2d"
           }
          ],
          "histogram2dcontour": [
           {
            "colorbar": {
             "outlinewidth": 0,
             "ticks": ""
            },
            "colorscale": [
             [
              0,
              "#0d0887"
             ],
             [
              0.1111111111111111,
              "#46039f"
             ],
             [
              0.2222222222222222,
              "#7201a8"
             ],
             [
              0.3333333333333333,
              "#9c179e"
             ],
             [
              0.4444444444444444,
              "#bd3786"
             ],
             [
              0.5555555555555556,
              "#d8576b"
             ],
             [
              0.6666666666666666,
              "#ed7953"
             ],
             [
              0.7777777777777778,
              "#fb9f3a"
             ],
             [
              0.8888888888888888,
              "#fdca26"
             ],
             [
              1,
              "#f0f921"
             ]
            ],
            "type": "histogram2dcontour"
           }
          ],
          "mesh3d": [
           {
            "colorbar": {
             "outlinewidth": 0,
             "ticks": ""
            },
            "type": "mesh3d"
           }
          ],
          "parcoords": [
           {
            "line": {
             "colorbar": {
              "outlinewidth": 0,
              "ticks": ""
             }
            },
            "type": "parcoords"
           }
          ],
          "pie": [
           {
            "automargin": true,
            "type": "pie"
           }
          ],
          "scatter": [
           {
            "marker": {
             "colorbar": {
              "outlinewidth": 0,
              "ticks": ""
             }
            },
            "type": "scatter"
           }
          ],
          "scatter3d": [
           {
            "line": {
             "colorbar": {
              "outlinewidth": 0,
              "ticks": ""
             }
            },
            "marker": {
             "colorbar": {
              "outlinewidth": 0,
              "ticks": ""
             }
            },
            "type": "scatter3d"
           }
          ],
          "scattercarpet": [
           {
            "marker": {
             "colorbar": {
              "outlinewidth": 0,
              "ticks": ""
             }
            },
            "type": "scattercarpet"
           }
          ],
          "scattergeo": [
           {
            "marker": {
             "colorbar": {
              "outlinewidth": 0,
              "ticks": ""
             }
            },
            "type": "scattergeo"
           }
          ],
          "scattergl": [
           {
            "marker": {
             "colorbar": {
              "outlinewidth": 0,
              "ticks": ""
             }
            },
            "type": "scattergl"
           }
          ],
          "scattermapbox": [
           {
            "marker": {
             "colorbar": {
              "outlinewidth": 0,
              "ticks": ""
             }
            },
            "type": "scattermapbox"
           }
          ],
          "scatterpolar": [
           {
            "marker": {
             "colorbar": {
              "outlinewidth": 0,
              "ticks": ""
             }
            },
            "type": "scatterpolar"
           }
          ],
          "scatterpolargl": [
           {
            "marker": {
             "colorbar": {
              "outlinewidth": 0,
              "ticks": ""
             }
            },
            "type": "scatterpolargl"
           }
          ],
          "scatterternary": [
           {
            "marker": {
             "colorbar": {
              "outlinewidth": 0,
              "ticks": ""
             }
            },
            "type": "scatterternary"
           }
          ],
          "surface": [
           {
            "colorbar": {
             "outlinewidth": 0,
             "ticks": ""
            },
            "colorscale": [
             [
              0,
              "#0d0887"
             ],
             [
              0.1111111111111111,
              "#46039f"
             ],
             [
              0.2222222222222222,
              "#7201a8"
             ],
             [
              0.3333333333333333,
              "#9c179e"
             ],
             [
              0.4444444444444444,
              "#bd3786"
             ],
             [
              0.5555555555555556,
              "#d8576b"
             ],
             [
              0.6666666666666666,
              "#ed7953"
             ],
             [
              0.7777777777777778,
              "#fb9f3a"
             ],
             [
              0.8888888888888888,
              "#fdca26"
             ],
             [
              1,
              "#f0f921"
             ]
            ],
            "type": "surface"
           }
          ],
          "table": [
           {
            "cells": {
             "fill": {
              "color": "#EBF0F8"
             },
             "line": {
              "color": "white"
             }
            },
            "header": {
             "fill": {
              "color": "#C8D4E3"
             },
             "line": {
              "color": "white"
             }
            },
            "type": "table"
           }
          ]
         },
         "layout": {
          "annotationdefaults": {
           "arrowcolor": "#2a3f5f",
           "arrowhead": 0,
           "arrowwidth": 1
          },
          "autotypenumbers": "strict",
          "coloraxis": {
           "colorbar": {
            "outlinewidth": 0,
            "ticks": ""
           }
          },
          "colorscale": {
           "diverging": [
            [
             0,
             "#8e0152"
            ],
            [
             0.1,
             "#c51b7d"
            ],
            [
             0.2,
             "#de77ae"
            ],
            [
             0.3,
             "#f1b6da"
            ],
            [
             0.4,
             "#fde0ef"
            ],
            [
             0.5,
             "#f7f7f7"
            ],
            [
             0.6,
             "#e6f5d0"
            ],
            [
             0.7,
             "#b8e186"
            ],
            [
             0.8,
             "#7fbc41"
            ],
            [
             0.9,
             "#4d9221"
            ],
            [
             1,
             "#276419"
            ]
           ],
           "sequential": [
            [
             0,
             "#0d0887"
            ],
            [
             0.1111111111111111,
             "#46039f"
            ],
            [
             0.2222222222222222,
             "#7201a8"
            ],
            [
             0.3333333333333333,
             "#9c179e"
            ],
            [
             0.4444444444444444,
             "#bd3786"
            ],
            [
             0.5555555555555556,
             "#d8576b"
            ],
            [
             0.6666666666666666,
             "#ed7953"
            ],
            [
             0.7777777777777778,
             "#fb9f3a"
            ],
            [
             0.8888888888888888,
             "#fdca26"
            ],
            [
             1,
             "#f0f921"
            ]
           ],
           "sequentialminus": [
            [
             0,
             "#0d0887"
            ],
            [
             0.1111111111111111,
             "#46039f"
            ],
            [
             0.2222222222222222,
             "#7201a8"
            ],
            [
             0.3333333333333333,
             "#9c179e"
            ],
            [
             0.4444444444444444,
             "#bd3786"
            ],
            [
             0.5555555555555556,
             "#d8576b"
            ],
            [
             0.6666666666666666,
             "#ed7953"
            ],
            [
             0.7777777777777778,
             "#fb9f3a"
            ],
            [
             0.8888888888888888,
             "#fdca26"
            ],
            [
             1,
             "#f0f921"
            ]
           ]
          },
          "colorway": [
           "#636efa",
           "#EF553B",
           "#00cc96",
           "#ab63fa",
           "#FFA15A",
           "#19d3f3",
           "#FF6692",
           "#B6E880",
           "#FF97FF",
           "#FECB52"
          ],
          "font": {
           "color": "#2a3f5f"
          },
          "geo": {
           "bgcolor": "white",
           "lakecolor": "white",
           "landcolor": "#E5ECF6",
           "showlakes": true,
           "showland": true,
           "subunitcolor": "white"
          },
          "hoverlabel": {
           "align": "left"
          },
          "hovermode": "closest",
          "mapbox": {
           "style": "light"
          },
          "paper_bgcolor": "white",
          "plot_bgcolor": "#E5ECF6",
          "polar": {
           "angularaxis": {
            "gridcolor": "white",
            "linecolor": "white",
            "ticks": ""
           },
           "bgcolor": "#E5ECF6",
           "radialaxis": {
            "gridcolor": "white",
            "linecolor": "white",
            "ticks": ""
           }
          },
          "scene": {
           "xaxis": {
            "backgroundcolor": "#E5ECF6",
            "gridcolor": "white",
            "gridwidth": 2,
            "linecolor": "white",
            "showbackground": true,
            "ticks": "",
            "zerolinecolor": "white"
           },
           "yaxis": {
            "backgroundcolor": "#E5ECF6",
            "gridcolor": "white",
            "gridwidth": 2,
            "linecolor": "white",
            "showbackground": true,
            "ticks": "",
            "zerolinecolor": "white"
           },
           "zaxis": {
            "backgroundcolor": "#E5ECF6",
            "gridcolor": "white",
            "gridwidth": 2,
            "linecolor": "white",
            "showbackground": true,
            "ticks": "",
            "zerolinecolor": "white"
           }
          },
          "shapedefaults": {
           "line": {
            "color": "#2a3f5f"
           }
          },
          "ternary": {
           "aaxis": {
            "gridcolor": "white",
            "linecolor": "white",
            "ticks": ""
           },
           "baxis": {
            "gridcolor": "white",
            "linecolor": "white",
            "ticks": ""
           },
           "bgcolor": "#E5ECF6",
           "caxis": {
            "gridcolor": "white",
            "linecolor": "white",
            "ticks": ""
           }
          },
          "title": {
           "x": 0.05
          },
          "xaxis": {
           "automargin": true,
           "gridcolor": "white",
           "linecolor": "white",
           "ticks": "",
           "title": {
            "standoff": 15
           },
           "zerolinecolor": "white",
           "zerolinewidth": 2
          },
          "yaxis": {
           "automargin": true,
           "gridcolor": "white",
           "linecolor": "white",
           "ticks": "",
           "title": {
            "standoff": 15
           },
           "zerolinecolor": "white",
           "zerolinewidth": 2
          }
         }
        },
        "title": {
         "font": {
          "color": "black"
         },
         "text": "Other Energy Consumption in China (epsilon=15, C=400)"
        },
        "xaxis": {
         "anchor": "y",
         "domain": [
          0,
          1
         ],
         "gridcolor": "lightgrey",
         "gridwidth": 1,
         "linecolor": "black",
         "linewidth": 1,
         "showgrid": true,
         "showline": true,
         "title": {
          "text": "Year"
         },
         "zeroline": true,
         "zerolinecolor": "lightgrey",
         "zerolinewidth": 1
        },
        "yaxis": {
         "anchor": "x",
         "domain": [
          0,
          1
         ],
         "gridcolor": "lightgrey",
         "gridwidth": 1,
         "linecolor": "black",
         "linewidth": 1,
         "showgrid": true,
         "showline": true,
         "title": {
          "text": "Other renewables (terawatt-hours)"
         },
         "zeroline": true,
         "zerolinecolor": "lightgrey",
         "zerolinewidth": 1
        }
       }
      },
      "text/html": [
       "<div>                            <div id=\"0857cf6c-969e-4944-90c4-c54f38de9586\" class=\"plotly-graph-div\" style=\"height:525px; width:100%;\"></div>            <script type=\"text/javascript\">                require([\"plotly\"], function(Plotly) {                    window.PLOTLYENV=window.PLOTLYENV || {};                                    if (document.getElementById(\"0857cf6c-969e-4944-90c4-c54f38de9586\")) {                    Plotly.newPlot(                        \"0857cf6c-969e-4944-90c4-c54f38de9586\",                        [{\"hovertemplate\":\"Year=%{x}<br>Other renewables (terawatt-hours)=%{y}<extra></extra>\",\"legendgroup\":\"\",\"marker\":{\"color\":\"black\",\"opacity\":0.8,\"symbol\":\"circle\",\"size\":3},\"mode\":\"markers\",\"name\":\"\",\"orientation\":\"v\",\"showlegend\":false,\"x\":[1990,1991,1992,1993,1994,1995,1996,1997,1998,1999,2000,2001,2002,2003,2004,2005,2006,2007,2008,2009,2010,2011,2012,2013,2014,2015,2016,2017],\"xaxis\":\"x\",\"y\":[0.064,0.064,0.113,0.117,0.46,3.014,1.533,2.722,2.48,2.52,2.537,2.554,2.546,2.536,2.528,5.322,7.133,9.863,14.866,20.85932,24.90023,27.707,30.484845,37.2864287,46.4216487,54.07029,62.134767,79.5971459591602],\"yaxis\":\"y\",\"type\":\"scatter\"},{\"line\":{\"color\":\"limegreen\"},\"name\":\"Linear Regression\",\"x\":[1990.0,1990.2727272727273,1990.5454545454545,1990.8181818181818,1991.090909090909,1991.3636363636363,1991.6363636363637,1991.909090909091,1992.1818181818182,1992.4545454545455,1992.7272727272727,1993.0,1993.2727272727273,1993.5454545454545,1993.8181818181818,1994.090909090909,1994.3636363636363,1994.6363636363637,1994.909090909091,1995.1818181818182,1995.4545454545455,1995.7272727272727,1996.0,1996.2727272727273,1996.5454545454545,1996.8181818181818,1997.090909090909,1997.3636363636363,1997.6363636363637,1997.909090909091,1998.1818181818182,1998.4545454545455,1998.7272727272727,1999.0,1999.2727272727273,1999.5454545454545,1999.8181818181818,2000.090909090909,2000.3636363636363,2000.6363636363637,2000.909090909091,2001.1818181818182,2001.4545454545455,2001.7272727272727,2002.0,2002.2727272727273,2002.5454545454545,2002.8181818181818,2003.090909090909,2003.3636363636363,2003.6363636363637,2003.909090909091,2004.1818181818182,2004.4545454545455,2004.7272727272727,2005.0,2005.2727272727273,2005.5454545454545,2005.8181818181818,2006.090909090909,2006.3636363636363,2006.6363636363637,2006.909090909091,2007.1818181818182,2007.4545454545455,2007.7272727272727,2008.0,2008.2727272727273,2008.5454545454545,2008.8181818181818,2009.090909090909,2009.3636363636363,2009.6363636363637,2009.909090909091,2010.1818181818182,2010.4545454545455,2010.7272727272727,2011.0,2011.2727272727273,2011.5454545454545,2011.8181818181818,2012.090909090909,2012.3636363636363,2012.6363636363637,2012.909090909091,2013.1818181818182,2013.4545454545455,2013.7272727272727,2014.0,2014.2727272727273,2014.5454545454545,2014.8181818181818,2015.090909090909,2015.3636363636363,2015.6363636363637,2015.909090909091,2016.1818181818182,2016.4545454545455,2016.7272727272727,2017.0],\"y\":[-11.722062638012176,-11.175941592955951,-10.629820547899726,-10.083699502843501,-9.537578457787276,-8.991457412731052,-8.445336367674372,-7.899215322618147,-7.353094277561922,-6.8069732325056975,-6.260852187449473,-5.714731142393248,-5.168610097337023,-4.622489052280798,-4.076368007224573,-3.5302469621683485,-2.9841259171121237,-2.438004872055444,-1.8918838269992193,-1.3457627819429945,-0.7996417368867696,-0.2535206918305448,0.29260035322568,0.8387213982819048,1.3848424433381297,1.9309634883943545,2.4770845334505793,3.023205578506804,3.5693266235634837,4.115447668619709,4.661568713675933,5.207689758732158,5.753810803788383,6.299931848844608,6.846052893900833,7.3921739389570575,7.938294984013282,8.484416029069507,9.030537074125732,9.576658119182412,10.122779164238636,10.668900209294861,11.215021254351086,11.761142299407311,12.307263344463536,12.85338438951976,13.39950543457644,13.945626479632665,14.49174752468889,15.037868569745115,15.583989614801794,16.13011065985802,16.676231704914244,17.22235274997047,17.768473795026694,18.31459484008292,18.860715885139143,19.406836930195368,19.952957975251593,20.499079020307818,21.045200065364043,21.591321110420722,22.137442155476947,22.68356320053317,23.229684245589397,23.77580529064562,24.321926335701846,24.86804738075807,25.414168425814296,25.96028947087052,26.506410515926746,27.05253156098297,27.59865260603965,28.144773651095875,28.6908946961521,29.237015741208324,29.78313678626455,30.329257831320774,30.875378876377,31.421499921433224,31.96762096648945,32.51374201154567,33.0598630566019,33.60598410165858,34.1521051467148,34.69822619177103,35.24434723682725,35.79046828188348,36.3365893269397,36.88271037199593,37.42883141705215,37.97495246210838,38.5210735071646,39.067194552220826,39.613315597277506,40.15943664233373,40.705557687389955,41.25167873244618,41.797799777502405,42.34392082255863],\"type\":\"scatter\",\"marker\":{\"size\":3}},{\"line\":{\"color\":\"red\"},\"name\":\"Support Vector Regression\",\"x\":[1990.0,1990.2727272727273,1990.5454545454545,1990.8181818181818,1991.090909090909,1991.3636363636363,1991.6363636363637,1991.909090909091,1992.1818181818182,1992.4545454545455,1992.7272727272727,1993.0,1993.2727272727273,1993.5454545454545,1993.8181818181818,1994.090909090909,1994.3636363636363,1994.6363636363637,1994.909090909091,1995.1818181818182,1995.4545454545455,1995.7272727272727,1996.0,1996.2727272727273,1996.5454545454545,1996.8181818181818,1997.090909090909,1997.3636363636363,1997.6363636363637,1997.909090909091,1998.1818181818182,1998.4545454545455,1998.7272727272727,1999.0,1999.2727272727273,1999.5454545454545,1999.8181818181818,2000.090909090909,2000.3636363636363,2000.6363636363637,2000.909090909091,2001.1818181818182,2001.4545454545455,2001.7272727272727,2002.0,2002.2727272727273,2002.5454545454545,2002.8181818181818,2003.090909090909,2003.3636363636363,2003.6363636363637,2003.909090909091,2004.1818181818182,2004.4545454545455,2004.7272727272727,2005.0,2005.2727272727273,2005.5454545454545,2005.8181818181818,2006.090909090909,2006.3636363636363,2006.6363636363637,2006.909090909091,2007.1818181818182,2007.4545454545455,2007.7272727272727,2008.0,2008.2727272727273,2008.5454545454545,2008.8181818181818,2009.090909090909,2009.3636363636363,2009.6363636363637,2009.909090909091,2010.1818181818182,2010.4545454545455,2010.7272727272727,2011.0,2011.2727272727273,2011.5454545454545,2011.8181818181818,2012.090909090909,2012.3636363636363,2012.6363636363637,2012.909090909091,2013.1818181818182,2013.4545454545455,2013.7272727272727,2014.0,2014.2727272727273,2014.5454545454545,2014.8181818181818,2015.090909090909,2015.3636363636363,2015.6363636363637,2015.909090909091,2016.1818181818182,2016.4545454545455,2016.7272727272727,2017.0],\"y\":[12.063970737092937,11.910811772899471,11.788956990877349,11.69793067000553,11.636993621901059,11.605150101482067,11.601157979075293,11.623542077551626,11.670610529859587,11.740473966197232,11.831067296860052,11.9401738173143,12.06545132699026,12.20445992330228,12.354691108020464,12.51359782477359,12.678625034471697,12.847240429994798,13.016964892672522,13.185402300828244,13.35026831478907,13.509417782986123,13.660870439651177,13.802834595639595,13.933728559440855,14.052199564759874,14.15714002336837,14.247700966377664,14.323302582767862,14.383641809987498,14.4286969767698,14.45872954205274,14.474283015138099,14.476179180109607,14.465511781262663,14.443637855169492,14.41216691841517,14.372948237515526,14.328056418733254,14.279775560261314,14.230582207526304,14.183127344330902,14.140217638535674,14.104796141472853,14.07992261596241,14.068753639486722,14.07452259774287,14.100519650518457,14.150071717810658,14.226522500576824,14.333212518747516,14.473459120422312,14.650536391738243,14.867654877886359,15.127941013186195,15.43441615285476,15.789975101791532,16.197364046764207,16.659157817989577,17.177736434146706,17.75526092093104,18.39364843665955,19.094546788172007,19.85930847509647,20.68896445889415,21.584197913302546,22.5453182728792,23.572235954321474,24.664438178980696,25.820966372401315,27.04039565575337,28.320816972774708,29.65982241258103,31.054494291964605,32.50139854948596,33.996582976894814,35.535580770973176,37.1134198307062,38.724638151378834,40.36330557971884,42.023052094012726,43.69710266207511,45.37831861031396,47.05924531149212,48.73216586999733,50.38916035460436,52.02217000291022,53.623065702223684,55.18371994166387,56.69608133267329,58.15225071277561,59.54455778264166,60.865637181389694,62.10850288109751,63.26661977979077,64.33397139318393,65.30512258914717,66.17527637453017,66.94032383050624,67.59688639815411],\"type\":\"scatter\",\"marker\":{\"size\":3}},{\"line\":{\"color\":\"red\",\"dash\":\"dot\"},\"name\":\"+epsilon\",\"x\":[1990.0,1990.2727272727273,1990.5454545454545,1990.8181818181818,1991.090909090909,1991.3636363636363,1991.6363636363637,1991.909090909091,1992.1818181818182,1992.4545454545455,1992.7272727272727,1993.0,1993.2727272727273,1993.5454545454545,1993.8181818181818,1994.090909090909,1994.3636363636363,1994.6363636363637,1994.909090909091,1995.1818181818182,1995.4545454545455,1995.7272727272727,1996.0,1996.2727272727273,1996.5454545454545,1996.8181818181818,1997.090909090909,1997.3636363636363,1997.6363636363637,1997.909090909091,1998.1818181818182,1998.4545454545455,1998.7272727272727,1999.0,1999.2727272727273,1999.5454545454545,1999.8181818181818,2000.090909090909,2000.3636363636363,2000.6363636363637,2000.909090909091,2001.1818181818182,2001.4545454545455,2001.7272727272727,2002.0,2002.2727272727273,2002.5454545454545,2002.8181818181818,2003.090909090909,2003.3636363636363,2003.6363636363637,2003.909090909091,2004.1818181818182,2004.4545454545455,2004.7272727272727,2005.0,2005.2727272727273,2005.5454545454545,2005.8181818181818,2006.090909090909,2006.3636363636363,2006.6363636363637,2006.909090909091,2007.1818181818182,2007.4545454545455,2007.7272727272727,2008.0,2008.2727272727273,2008.5454545454545,2008.8181818181818,2009.090909090909,2009.3636363636363,2009.6363636363637,2009.909090909091,2010.1818181818182,2010.4545454545455,2010.7272727272727,2011.0,2011.2727272727273,2011.5454545454545,2011.8181818181818,2012.090909090909,2012.3636363636363,2012.6363636363637,2012.909090909091,2013.1818181818182,2013.4545454545455,2013.7272727272727,2014.0,2014.2727272727273,2014.5454545454545,2014.8181818181818,2015.090909090909,2015.3636363636363,2015.6363636363637,2015.909090909091,2016.1818181818182,2016.4545454545455,2016.7272727272727,2017.0],\"y\":[24.063970737092937,23.91081177289947,23.78895699087735,23.69793067000553,23.63699362190106,23.605150101482067,23.601157979075293,23.623542077551626,23.670610529859587,23.740473966197232,23.831067296860052,23.9401738173143,24.06545132699026,24.20445992330228,24.354691108020464,24.51359782477359,24.678625034471697,24.847240429994798,25.016964892672522,25.185402300828244,25.35026831478907,25.509417782986123,25.660870439651177,25.802834595639595,25.933728559440855,26.052199564759874,26.15714002336837,26.247700966377664,26.323302582767862,26.3836418099875,26.4286969767698,26.45872954205274,26.4742830151381,26.476179180109607,26.465511781262663,26.44363785516949,26.41216691841517,26.372948237515526,26.328056418733254,26.279775560261314,26.230582207526304,26.183127344330902,26.140217638535674,26.104796141472853,26.07992261596241,26.068753639486722,26.07452259774287,26.100519650518457,26.150071717810658,26.226522500576824,26.333212518747516,26.473459120422312,26.650536391738243,26.86765487788636,27.127941013186195,27.43441615285476,27.789975101791534,28.197364046764207,28.659157817989577,29.177736434146706,29.75526092093104,30.39364843665955,31.094546788172007,31.85930847509647,32.68896445889415,33.584197913302546,34.5453182728792,35.57223595432147,36.664438178980696,37.820966372401315,39.04039565575337,40.32081697277471,41.65982241258103,43.0544942919646,44.50139854948596,45.996582976894814,47.535580770973176,49.1134198307062,50.724638151378834,52.36330557971884,54.023052094012726,55.69710266207511,57.37831861031396,59.05924531149212,60.73216586999733,62.38916035460436,64.02217000291023,65.62306570222368,67.18371994166387,68.69608133267329,70.15225071277561,71.54455778264166,72.8656371813897,74.10850288109751,75.26661977979077,76.33397139318393,77.30512258914717,78.17527637453017,78.94032383050624,79.59688639815411],\"type\":\"scatter\",\"marker\":{\"size\":3}},{\"line\":{\"color\":\"red\",\"dash\":\"dot\"},\"name\":\"-epsilon\",\"x\":[1990.0,1990.2727272727273,1990.5454545454545,1990.8181818181818,1991.090909090909,1991.3636363636363,1991.6363636363637,1991.909090909091,1992.1818181818182,1992.4545454545455,1992.7272727272727,1993.0,1993.2727272727273,1993.5454545454545,1993.8181818181818,1994.090909090909,1994.3636363636363,1994.6363636363637,1994.909090909091,1995.1818181818182,1995.4545454545455,1995.7272727272727,1996.0,1996.2727272727273,1996.5454545454545,1996.8181818181818,1997.090909090909,1997.3636363636363,1997.6363636363637,1997.909090909091,1998.1818181818182,1998.4545454545455,1998.7272727272727,1999.0,1999.2727272727273,1999.5454545454545,1999.8181818181818,2000.090909090909,2000.3636363636363,2000.6363636363637,2000.909090909091,2001.1818181818182,2001.4545454545455,2001.7272727272727,2002.0,2002.2727272727273,2002.5454545454545,2002.8181818181818,2003.090909090909,2003.3636363636363,2003.6363636363637,2003.909090909091,2004.1818181818182,2004.4545454545455,2004.7272727272727,2005.0,2005.2727272727273,2005.5454545454545,2005.8181818181818,2006.090909090909,2006.3636363636363,2006.6363636363637,2006.909090909091,2007.1818181818182,2007.4545454545455,2007.7272727272727,2008.0,2008.2727272727273,2008.5454545454545,2008.8181818181818,2009.090909090909,2009.3636363636363,2009.6363636363637,2009.909090909091,2010.1818181818182,2010.4545454545455,2010.7272727272727,2011.0,2011.2727272727273,2011.5454545454545,2011.8181818181818,2012.090909090909,2012.3636363636363,2012.6363636363637,2012.909090909091,2013.1818181818182,2013.4545454545455,2013.7272727272727,2014.0,2014.2727272727273,2014.5454545454545,2014.8181818181818,2015.090909090909,2015.3636363636363,2015.6363636363637,2015.909090909091,2016.1818181818182,2016.4545454545455,2016.7272727272727,2017.0],\"y\":[0.06397073709293721,-0.08918822710052865,-0.21104300912265117,-0.30206932999447034,-0.363006378098941,-0.39484989851793273,-0.39884202092470744,-0.37645792244837395,-0.32938947014041275,-0.25952603380276784,-0.1689327031399479,-0.0598261826857005,0.06545132699026013,0.2044599233022808,0.35469110802046444,0.5135978247735906,0.6786250344716969,0.8472404299947982,1.0169648926725223,1.185402300828244,1.3502683147890693,1.509417782986123,1.6608704396511769,1.8028345956395952,1.9337285594408549,2.0521995647598743,2.1571400233683704,2.247700966377664,2.3233025827678624,2.3836418099874983,2.4286969767697997,2.4587295420527404,2.4742830151380986,2.4761791801096074,2.465511781262663,2.4436378551694915,2.4121669184151706,2.3729482375155264,2.3280564187332544,2.2797755602613137,2.2305822075263038,2.1831273443309023,2.140217638535674,2.1047961414728533,2.07992261596241,2.0687536394867223,2.0745225977428703,2.100519650518457,2.1500717178106576,2.2265225005768237,2.3332125187475157,2.473459120422312,2.6505363917382425,2.867654877886359,3.127941013186195,3.4344161528547605,3.7899751017915317,4.197364046764207,4.659157817989577,5.177736434146706,5.75526092093104,6.39364843665955,7.094546788172007,7.859308475096469,8.688964458894151,9.584197913302546,10.5453182728792,11.572235954321474,12.664438178980696,13.820966372401315,15.040395655753368,16.320816972774708,17.65982241258103,19.054494291964605,20.501398549485963,21.996582976894814,23.535580770973176,25.1134198307062,26.724638151378834,28.36330557971884,30.023052094012726,31.69710266207511,33.37831861031396,35.05924531149212,36.73216586999733,38.38916035460436,40.02217000291022,41.623065702223684,43.18371994166387,44.69608133267329,46.15225071277561,47.54455778264166,48.865637181389694,50.10850288109751,51.26661977979077,52.33397139318393,53.305122589147174,54.17527637453017,54.940323830506244,55.59688639815411],\"type\":\"scatter\",\"marker\":{\"size\":3}}],                        {\"template\":{\"data\":{\"bar\":[{\"error_x\":{\"color\":\"#2a3f5f\"},\"error_y\":{\"color\":\"#2a3f5f\"},\"marker\":{\"line\":{\"color\":\"#E5ECF6\",\"width\":0.5},\"pattern\":{\"fillmode\":\"overlay\",\"size\":10,\"solidity\":0.2}},\"type\":\"bar\"}],\"barpolar\":[{\"marker\":{\"line\":{\"color\":\"#E5ECF6\",\"width\":0.5},\"pattern\":{\"fillmode\":\"overlay\",\"size\":10,\"solidity\":0.2}},\"type\":\"barpolar\"}],\"carpet\":[{\"aaxis\":{\"endlinecolor\":\"#2a3f5f\",\"gridcolor\":\"white\",\"linecolor\":\"white\",\"minorgridcolor\":\"white\",\"startlinecolor\":\"#2a3f5f\"},\"baxis\":{\"endlinecolor\":\"#2a3f5f\",\"gridcolor\":\"white\",\"linecolor\":\"white\",\"minorgridcolor\":\"white\",\"startlinecolor\":\"#2a3f5f\"},\"type\":\"carpet\"}],\"choropleth\":[{\"colorbar\":{\"outlinewidth\":0,\"ticks\":\"\"},\"type\":\"choropleth\"}],\"contour\":[{\"colorbar\":{\"outlinewidth\":0,\"ticks\":\"\"},\"colorscale\":[[0.0,\"#0d0887\"],[0.1111111111111111,\"#46039f\"],[0.2222222222222222,\"#7201a8\"],[0.3333333333333333,\"#9c179e\"],[0.4444444444444444,\"#bd3786\"],[0.5555555555555556,\"#d8576b\"],[0.6666666666666666,\"#ed7953\"],[0.7777777777777778,\"#fb9f3a\"],[0.8888888888888888,\"#fdca26\"],[1.0,\"#f0f921\"]],\"type\":\"contour\"}],\"contourcarpet\":[{\"colorbar\":{\"outlinewidth\":0,\"ticks\":\"\"},\"type\":\"contourcarpet\"}],\"heatmap\":[{\"colorbar\":{\"outlinewidth\":0,\"ticks\":\"\"},\"colorscale\":[[0.0,\"#0d0887\"],[0.1111111111111111,\"#46039f\"],[0.2222222222222222,\"#7201a8\"],[0.3333333333333333,\"#9c179e\"],[0.4444444444444444,\"#bd3786\"],[0.5555555555555556,\"#d8576b\"],[0.6666666666666666,\"#ed7953\"],[0.7777777777777778,\"#fb9f3a\"],[0.8888888888888888,\"#fdca26\"],[1.0,\"#f0f921\"]],\"type\":\"heatmap\"}],\"heatmapgl\":[{\"colorbar\":{\"outlinewidth\":0,\"ticks\":\"\"},\"colorscale\":[[0.0,\"#0d0887\"],[0.1111111111111111,\"#46039f\"],[0.2222222222222222,\"#7201a8\"],[0.3333333333333333,\"#9c179e\"],[0.4444444444444444,\"#bd3786\"],[0.5555555555555556,\"#d8576b\"],[0.6666666666666666,\"#ed7953\"],[0.7777777777777778,\"#fb9f3a\"],[0.8888888888888888,\"#fdca26\"],[1.0,\"#f0f921\"]],\"type\":\"heatmapgl\"}],\"histogram\":[{\"marker\":{\"pattern\":{\"fillmode\":\"overlay\",\"size\":10,\"solidity\":0.2}},\"type\":\"histogram\"}],\"histogram2d\":[{\"colorbar\":{\"outlinewidth\":0,\"ticks\":\"\"},\"colorscale\":[[0.0,\"#0d0887\"],[0.1111111111111111,\"#46039f\"],[0.2222222222222222,\"#7201a8\"],[0.3333333333333333,\"#9c179e\"],[0.4444444444444444,\"#bd3786\"],[0.5555555555555556,\"#d8576b\"],[0.6666666666666666,\"#ed7953\"],[0.7777777777777778,\"#fb9f3a\"],[0.8888888888888888,\"#fdca26\"],[1.0,\"#f0f921\"]],\"type\":\"histogram2d\"}],\"histogram2dcontour\":[{\"colorbar\":{\"outlinewidth\":0,\"ticks\":\"\"},\"colorscale\":[[0.0,\"#0d0887\"],[0.1111111111111111,\"#46039f\"],[0.2222222222222222,\"#7201a8\"],[0.3333333333333333,\"#9c179e\"],[0.4444444444444444,\"#bd3786\"],[0.5555555555555556,\"#d8576b\"],[0.6666666666666666,\"#ed7953\"],[0.7777777777777778,\"#fb9f3a\"],[0.8888888888888888,\"#fdca26\"],[1.0,\"#f0f921\"]],\"type\":\"histogram2dcontour\"}],\"mesh3d\":[{\"colorbar\":{\"outlinewidth\":0,\"ticks\":\"\"},\"type\":\"mesh3d\"}],\"parcoords\":[{\"line\":{\"colorbar\":{\"outlinewidth\":0,\"ticks\":\"\"}},\"type\":\"parcoords\"}],\"pie\":[{\"automargin\":true,\"type\":\"pie\"}],\"scatter\":[{\"marker\":{\"colorbar\":{\"outlinewidth\":0,\"ticks\":\"\"}},\"type\":\"scatter\"}],\"scatter3d\":[{\"line\":{\"colorbar\":{\"outlinewidth\":0,\"ticks\":\"\"}},\"marker\":{\"colorbar\":{\"outlinewidth\":0,\"ticks\":\"\"}},\"type\":\"scatter3d\"}],\"scattercarpet\":[{\"marker\":{\"colorbar\":{\"outlinewidth\":0,\"ticks\":\"\"}},\"type\":\"scattercarpet\"}],\"scattergeo\":[{\"marker\":{\"colorbar\":{\"outlinewidth\":0,\"ticks\":\"\"}},\"type\":\"scattergeo\"}],\"scattergl\":[{\"marker\":{\"colorbar\":{\"outlinewidth\":0,\"ticks\":\"\"}},\"type\":\"scattergl\"}],\"scattermapbox\":[{\"marker\":{\"colorbar\":{\"outlinewidth\":0,\"ticks\":\"\"}},\"type\":\"scattermapbox\"}],\"scatterpolar\":[{\"marker\":{\"colorbar\":{\"outlinewidth\":0,\"ticks\":\"\"}},\"type\":\"scatterpolar\"}],\"scatterpolargl\":[{\"marker\":{\"colorbar\":{\"outlinewidth\":0,\"ticks\":\"\"}},\"type\":\"scatterpolargl\"}],\"scatterternary\":[{\"marker\":{\"colorbar\":{\"outlinewidth\":0,\"ticks\":\"\"}},\"type\":\"scatterternary\"}],\"surface\":[{\"colorbar\":{\"outlinewidth\":0,\"ticks\":\"\"},\"colorscale\":[[0.0,\"#0d0887\"],[0.1111111111111111,\"#46039f\"],[0.2222222222222222,\"#7201a8\"],[0.3333333333333333,\"#9c179e\"],[0.4444444444444444,\"#bd3786\"],[0.5555555555555556,\"#d8576b\"],[0.6666666666666666,\"#ed7953\"],[0.7777777777777778,\"#fb9f3a\"],[0.8888888888888888,\"#fdca26\"],[1.0,\"#f0f921\"]],\"type\":\"surface\"}],\"table\":[{\"cells\":{\"fill\":{\"color\":\"#EBF0F8\"},\"line\":{\"color\":\"white\"}},\"header\":{\"fill\":{\"color\":\"#C8D4E3\"},\"line\":{\"color\":\"white\"}},\"type\":\"table\"}]},\"layout\":{\"annotationdefaults\":{\"arrowcolor\":\"#2a3f5f\",\"arrowhead\":0,\"arrowwidth\":1},\"autotypenumbers\":\"strict\",\"coloraxis\":{\"colorbar\":{\"outlinewidth\":0,\"ticks\":\"\"}},\"colorscale\":{\"diverging\":[[0,\"#8e0152\"],[0.1,\"#c51b7d\"],[0.2,\"#de77ae\"],[0.3,\"#f1b6da\"],[0.4,\"#fde0ef\"],[0.5,\"#f7f7f7\"],[0.6,\"#e6f5d0\"],[0.7,\"#b8e186\"],[0.8,\"#7fbc41\"],[0.9,\"#4d9221\"],[1,\"#276419\"]],\"sequential\":[[0.0,\"#0d0887\"],[0.1111111111111111,\"#46039f\"],[0.2222222222222222,\"#7201a8\"],[0.3333333333333333,\"#9c179e\"],[0.4444444444444444,\"#bd3786\"],[0.5555555555555556,\"#d8576b\"],[0.6666666666666666,\"#ed7953\"],[0.7777777777777778,\"#fb9f3a\"],[0.8888888888888888,\"#fdca26\"],[1.0,\"#f0f921\"]],\"sequentialminus\":[[0.0,\"#0d0887\"],[0.1111111111111111,\"#46039f\"],[0.2222222222222222,\"#7201a8\"],[0.3333333333333333,\"#9c179e\"],[0.4444444444444444,\"#bd3786\"],[0.5555555555555556,\"#d8576b\"],[0.6666666666666666,\"#ed7953\"],[0.7777777777777778,\"#fb9f3a\"],[0.8888888888888888,\"#fdca26\"],[1.0,\"#f0f921\"]]},\"colorway\":[\"#636efa\",\"#EF553B\",\"#00cc96\",\"#ab63fa\",\"#FFA15A\",\"#19d3f3\",\"#FF6692\",\"#B6E880\",\"#FF97FF\",\"#FECB52\"],\"font\":{\"color\":\"#2a3f5f\"},\"geo\":{\"bgcolor\":\"white\",\"lakecolor\":\"white\",\"landcolor\":\"#E5ECF6\",\"showlakes\":true,\"showland\":true,\"subunitcolor\":\"white\"},\"hoverlabel\":{\"align\":\"left\"},\"hovermode\":\"closest\",\"mapbox\":{\"style\":\"light\"},\"paper_bgcolor\":\"white\",\"plot_bgcolor\":\"#E5ECF6\",\"polar\":{\"angularaxis\":{\"gridcolor\":\"white\",\"linecolor\":\"white\",\"ticks\":\"\"},\"bgcolor\":\"#E5ECF6\",\"radialaxis\":{\"gridcolor\":\"white\",\"linecolor\":\"white\",\"ticks\":\"\"}},\"scene\":{\"xaxis\":{\"backgroundcolor\":\"#E5ECF6\",\"gridcolor\":\"white\",\"gridwidth\":2,\"linecolor\":\"white\",\"showbackground\":true,\"ticks\":\"\",\"zerolinecolor\":\"white\"},\"yaxis\":{\"backgroundcolor\":\"#E5ECF6\",\"gridcolor\":\"white\",\"gridwidth\":2,\"linecolor\":\"white\",\"showbackground\":true,\"ticks\":\"\",\"zerolinecolor\":\"white\"},\"zaxis\":{\"backgroundcolor\":\"#E5ECF6\",\"gridcolor\":\"white\",\"gridwidth\":2,\"linecolor\":\"white\",\"showbackground\":true,\"ticks\":\"\",\"zerolinecolor\":\"white\"}},\"shapedefaults\":{\"line\":{\"color\":\"#2a3f5f\"}},\"ternary\":{\"aaxis\":{\"gridcolor\":\"white\",\"linecolor\":\"white\",\"ticks\":\"\"},\"baxis\":{\"gridcolor\":\"white\",\"linecolor\":\"white\",\"ticks\":\"\"},\"bgcolor\":\"#E5ECF6\",\"caxis\":{\"gridcolor\":\"white\",\"linecolor\":\"white\",\"ticks\":\"\"}},\"title\":{\"x\":0.05},\"xaxis\":{\"automargin\":true,\"gridcolor\":\"white\",\"linecolor\":\"white\",\"ticks\":\"\",\"title\":{\"standoff\":15},\"zerolinecolor\":\"white\",\"zerolinewidth\":2},\"yaxis\":{\"automargin\":true,\"gridcolor\":\"white\",\"linecolor\":\"white\",\"ticks\":\"\",\"title\":{\"standoff\":15},\"zerolinecolor\":\"white\",\"zerolinewidth\":2}}},\"xaxis\":{\"anchor\":\"y\",\"domain\":[0.0,1.0],\"title\":{\"text\":\"Year\"},\"showgrid\":true,\"gridwidth\":1,\"gridcolor\":\"lightgrey\",\"zeroline\":true,\"zerolinewidth\":1,\"zerolinecolor\":\"lightgrey\",\"showline\":true,\"linewidth\":1,\"linecolor\":\"black\"},\"yaxis\":{\"anchor\":\"x\",\"domain\":[0.0,1.0],\"title\":{\"text\":\"Other renewables (terawatt-hours)\"},\"showgrid\":true,\"gridwidth\":1,\"gridcolor\":\"lightgrey\",\"zeroline\":true,\"zerolinewidth\":1,\"zerolinecolor\":\"lightgrey\",\"showline\":true,\"linewidth\":1,\"linecolor\":\"black\"},\"legend\":{\"tracegroupgap\":0},\"margin\":{\"t\":60},\"plot_bgcolor\":\"white\",\"title\":{\"font\":{\"color\":\"black\"},\"text\":\"Other Energy Consumption in China (epsilon=15, C=400)\"}},                        {\"responsive\": true}                    ).then(function(){\n",
       "                            \n",
       "var gd = document.getElementById('0857cf6c-969e-4944-90c4-c54f38de9586');\n",
       "var x = new MutationObserver(function (mutations, observer) {{\n",
       "        var display = window.getComputedStyle(gd).display;\n",
       "        if (!display || display === 'none') {{\n",
       "            console.log([gd, 'removed!']);\n",
       "            Plotly.purge(gd);\n",
       "            observer.disconnect();\n",
       "        }}\n",
       "}});\n",
       "\n",
       "// Listen for the removal of the full notebook cells\n",
       "var notebookContainer = gd.closest('#notebook-container');\n",
       "if (notebookContainer) {{\n",
       "    x.observe(notebookContainer, {childList: true});\n",
       "}}\n",
       "\n",
       "// Listen for the clearing of the current output cell\n",
       "var outputEl = gd.closest('.output');\n",
       "if (outputEl) {{\n",
       "    x.observe(outputEl, {childList: true});\n",
       "}}\n",
       "\n",
       "                        })                };                });            </script>        </div>"
      ]
     },
     "metadata": {},
     "output_type": "display_data"
    }
   ],
   "source": [
    "# Create a scatter plot\n",
    "fig = px.scatter(df, x=df['Year'], y=df['Other renewables (terawatt-hours)'], \n",
    "                 opacity=0.8, color_discrete_sequence=['black'])\n",
    "# Add a best-fit line\n",
    "fig.add_traces(go.Scatter(x=x_range, y=y_lr, name='Linear Regression', line=dict(color='limegreen')))\n",
    "fig.add_traces(go.Scatter(x=x_range, y=y_svr, name='Support Vector Regression', line=dict(color='red')))\n",
    "fig.add_traces(go.Scatter(x=x_range, y=y_svr+12, name='+epsilon', line=dict(color='red', dash='dot')))\n",
    "fig.add_traces(go.Scatter(x=x_range, y=y_svr-12, name='-epsilon', line=dict(color='red', dash='dot')))\n",
    "\n",
    "# Change chart background color\n",
    "fig.update_layout(dict(plot_bgcolor = 'white'))\n",
    "\n",
    "# Update axes lines\n",
    "fig.update_xaxes(showgrid=True, gridwidth=1, gridcolor='lightgrey', \n",
    "                 zeroline=True, zerolinewidth=1, zerolinecolor='lightgrey', \n",
    "                 showline=True, linewidth=1, linecolor='black')\n",
    "\n",
    "fig.update_yaxes(showgrid=True, gridwidth=1, gridcolor='lightgrey', \n",
    "                 zeroline=True, zerolinewidth=1, zerolinecolor='lightgrey', \n",
    "                 showline=True, linewidth=1, linecolor='black')\n",
    "\n",
    "# Set figure title\n",
    "fig.update_layout(title=dict(text=\"Other Energy Consumption in China (epsilon=15, C=400)\", \n",
    "                             font=dict(color='black')))\n",
    "\n",
    "# Update marker size\n",
    "fig.update_traces(marker=dict(size=3))\n",
    "\n",
    "fig.show()"
   ]
  },
  {
   "cell_type": "code",
   "execution_count": 513,
   "id": "5c08ce99",
   "metadata": {
    "colab": {
     "base_uri": "https://localhost:8080/"
    },
    "id": "5c08ce99",
    "outputId": "541d9386-7386-49d9-99dc-ac79a3d16fed"
   },
   "outputs": [
    {
     "data": {
      "text/plain": [
       "array([14.47617918, 64.66862792, 37.11341983, 14.07992262, 13.07336908,\n",
       "       14.21443517, 60.43363141, 43.13793014, 13.66087044])"
      ]
     },
     "execution_count": 513,
     "metadata": {},
     "output_type": "execute_result"
    }
   ],
   "source": [
    "#5 Predicting a new result\n",
    "y_pred = svr.predict(X_test)\n",
    "y_pred"
   ]
  },
  {
   "cell_type": "code",
   "execution_count": 514,
   "id": "0417230f",
   "metadata": {
    "colab": {
     "base_uri": "https://localhost:8080/"
    },
    "id": "0417230f",
    "outputId": "4a142c64-2a0c-48b6-f11a-65ec2636705c"
   },
   "outputs": [
    {
     "name": "stdout",
     "output_type": "stream",
     "text": [
      "R squared: 75.46\n",
      "Mean Squared Error is:  106.19081669403211\n",
      "Root Mean Squared Error is:  10.304892852137382\n"
     ]
    }
   ],
   "source": [
    "mse = metrics.mean_squared_error(y_test, y_pred)\n",
    "rmse = np.sqrt(mse)\n",
    "\n",
    "print('R squared: {:.2f}'.format(svr.score(X,y)*100))\n",
    "print(\"Mean Squared Error is: \", mse)\n",
    "print(\"Root Mean Squared Error is: \", rmse)"
   ]
  },
  {
   "cell_type": "code",
   "execution_count": 515,
   "id": "7e064873",
   "metadata": {
    "colab": {
     "base_uri": "https://localhost:8080/",
     "height": 328
    },
    "id": "7e064873",
    "outputId": "d1a7c0b6-8c47-4eb2-d4a2-029412c9ef67"
   },
   "outputs": [
    {
     "data": {
      "text/html": [
       "<div>\n",
       "<style scoped>\n",
       "    .dataframe tbody tr th:only-of-type {\n",
       "        vertical-align: middle;\n",
       "    }\n",
       "\n",
       "    .dataframe tbody tr th {\n",
       "        vertical-align: top;\n",
       "    }\n",
       "\n",
       "    .dataframe thead th {\n",
       "        text-align: right;\n",
       "    }\n",
       "</style>\n",
       "<table border=\"1\" class=\"dataframe\">\n",
       "  <thead>\n",
       "    <tr style=\"text-align: right;\">\n",
       "      <th></th>\n",
       "      <th>Predicted</th>\n",
       "      <th>Actual</th>\n",
       "    </tr>\n",
       "  </thead>\n",
       "  <tbody>\n",
       "    <tr>\n",
       "      <th>0</th>\n",
       "      <td>14.476179</td>\n",
       "      <td>2.520000</td>\n",
       "    </tr>\n",
       "    <tr>\n",
       "      <th>1</th>\n",
       "      <td>64.668628</td>\n",
       "      <td>62.134767</td>\n",
       "    </tr>\n",
       "    <tr>\n",
       "      <th>2</th>\n",
       "      <td>37.113420</td>\n",
       "      <td>27.707000</td>\n",
       "    </tr>\n",
       "    <tr>\n",
       "      <th>3</th>\n",
       "      <td>14.079923</td>\n",
       "      <td>2.546000</td>\n",
       "    </tr>\n",
       "    <tr>\n",
       "      <th>4</th>\n",
       "      <td>13.073369</td>\n",
       "      <td>3.014000</td>\n",
       "    </tr>\n",
       "    <tr>\n",
       "      <th>5</th>\n",
       "      <td>14.214435</td>\n",
       "      <td>2.554000</td>\n",
       "    </tr>\n",
       "    <tr>\n",
       "      <th>6</th>\n",
       "      <td>60.433631</td>\n",
       "      <td>54.070290</td>\n",
       "    </tr>\n",
       "    <tr>\n",
       "      <th>7</th>\n",
       "      <td>43.137930</td>\n",
       "      <td>30.484845</td>\n",
       "    </tr>\n",
       "    <tr>\n",
       "      <th>8</th>\n",
       "      <td>13.660870</td>\n",
       "      <td>1.533000</td>\n",
       "    </tr>\n",
       "  </tbody>\n",
       "</table>\n",
       "</div>"
      ],
      "text/plain": [
       "   Predicted     Actual\n",
       "0  14.476179   2.520000\n",
       "1  64.668628  62.134767\n",
       "2  37.113420  27.707000\n",
       "3  14.079923   2.546000\n",
       "4  13.073369   3.014000\n",
       "5  14.214435   2.554000\n",
       "6  60.433631  54.070290\n",
       "7  43.137930  30.484845\n",
       "8  13.660870   1.533000"
      ]
     },
     "execution_count": 515,
     "metadata": {},
     "output_type": "execute_result"
    }
   ],
   "source": [
    "data = {'Predicted':y_pred, 'Actual':y_test}\n",
    "\n",
    "comparison = pd.DataFrame(data)\n",
    "comparison"
   ]
  },
  {
   "cell_type": "code",
   "execution_count": 516,
   "id": "64da3b7f",
   "metadata": {
    "colab": {
     "base_uri": "https://localhost:8080/"
    },
    "id": "64da3b7f",
    "outputId": "08c3b673-8c3d-480f-b2d0-53ed49e5d65f"
   },
   "outputs": [
    {
     "data": {
      "text/plain": [
       "array([ 6.29993185, 40.34147699, 30.32925783, 12.30726334, -1.70984348,\n",
       "       10.30481951, 38.33903316, 32.33170166,  0.29260035])"
      ]
     },
     "execution_count": 516,
     "metadata": {},
     "output_type": "execute_result"
    }
   ],
   "source": [
    "#5 Predicting a new result\n",
    "y_pred = lr.predict(X_test)\n",
    "y_pred"
   ]
  },
  {
   "cell_type": "code",
   "execution_count": 517,
   "id": "1e846e89",
   "metadata": {},
   "outputs": [
    {
     "name": "stdout",
     "output_type": "stream",
     "text": [
      "R squared: 70.49\n",
      "Mean Squared Error is:  102.91174281943294\n",
      "Root Mean Squared Error is:  10.144542514053207\n"
     ]
    }
   ],
   "source": [
    "mse = metrics.mean_squared_error(y_test, y_pred)\n",
    "rmse = np.sqrt(mse)\n",
    "\n",
    "print('R squared: {:.2f}'.format(lr.score(X,y)*100))\n",
    "print(\"Mean Squared Error is: \", mse)\n",
    "print(\"Root Mean Squared Error is: \", rmse)"
   ]
  },
  {
   "cell_type": "code",
   "execution_count": 518,
   "id": "cd237abf",
   "metadata": {},
   "outputs": [
    {
     "data": {
      "text/html": [
       "<div>\n",
       "<style scoped>\n",
       "    .dataframe tbody tr th:only-of-type {\n",
       "        vertical-align: middle;\n",
       "    }\n",
       "\n",
       "    .dataframe tbody tr th {\n",
       "        vertical-align: top;\n",
       "    }\n",
       "\n",
       "    .dataframe thead th {\n",
       "        text-align: right;\n",
       "    }\n",
       "</style>\n",
       "<table border=\"1\" class=\"dataframe\">\n",
       "  <thead>\n",
       "    <tr style=\"text-align: right;\">\n",
       "      <th></th>\n",
       "      <th>Predicted</th>\n",
       "      <th>Actual</th>\n",
       "    </tr>\n",
       "  </thead>\n",
       "  <tbody>\n",
       "    <tr>\n",
       "      <th>0</th>\n",
       "      <td>6.299932</td>\n",
       "      <td>2.520000</td>\n",
       "    </tr>\n",
       "    <tr>\n",
       "      <th>1</th>\n",
       "      <td>40.341477</td>\n",
       "      <td>62.134767</td>\n",
       "    </tr>\n",
       "    <tr>\n",
       "      <th>2</th>\n",
       "      <td>30.329258</td>\n",
       "      <td>27.707000</td>\n",
       "    </tr>\n",
       "    <tr>\n",
       "      <th>3</th>\n",
       "      <td>12.307263</td>\n",
       "      <td>2.546000</td>\n",
       "    </tr>\n",
       "    <tr>\n",
       "      <th>4</th>\n",
       "      <td>-1.709843</td>\n",
       "      <td>3.014000</td>\n",
       "    </tr>\n",
       "    <tr>\n",
       "      <th>5</th>\n",
       "      <td>10.304820</td>\n",
       "      <td>2.554000</td>\n",
       "    </tr>\n",
       "    <tr>\n",
       "      <th>6</th>\n",
       "      <td>38.339033</td>\n",
       "      <td>54.070290</td>\n",
       "    </tr>\n",
       "    <tr>\n",
       "      <th>7</th>\n",
       "      <td>32.331702</td>\n",
       "      <td>30.484845</td>\n",
       "    </tr>\n",
       "    <tr>\n",
       "      <th>8</th>\n",
       "      <td>0.292600</td>\n",
       "      <td>1.533000</td>\n",
       "    </tr>\n",
       "  </tbody>\n",
       "</table>\n",
       "</div>"
      ],
      "text/plain": [
       "   Predicted     Actual\n",
       "0   6.299932   2.520000\n",
       "1  40.341477  62.134767\n",
       "2  30.329258  27.707000\n",
       "3  12.307263   2.546000\n",
       "4  -1.709843   3.014000\n",
       "5  10.304820   2.554000\n",
       "6  38.339033  54.070290\n",
       "7  32.331702  30.484845\n",
       "8   0.292600   1.533000"
      ]
     },
     "execution_count": 518,
     "metadata": {},
     "output_type": "execute_result"
    }
   ],
   "source": [
    "data = {'Predicted':y_pred, 'Actual':y_test}\n",
    "\n",
    "comparison = pd.DataFrame(data)\n",
    "comparison"
   ]
  },
  {
   "cell_type": "code",
   "execution_count": 519,
   "id": "b9c34002",
   "metadata": {
    "colab": {
     "base_uri": "https://localhost:8080/"
    },
    "id": "b9c34002",
    "outputId": "03ffb7e1-5666-455b-fdeb-e859e65d4ae8"
   },
   "outputs": [
    {
     "data": {
      "text/plain": [
       "array([69.06113569, 68.96260567, 67.41930198, 64.6731628 , 61.05030445,\n",
       "       56.9126399 , 52.61051456, 48.44431038, 44.63998698, 41.33994783,\n",
       "       38.60742209, 36.44043032, 34.79061387, 33.5826044 , 32.73077985,\n",
       "       32.15170475, 31.77187371, 31.53131965, 31.38414125, 31.29710791,\n",
       "       31.24734499, 31.21982506, 31.20510088, 31.19747725, 31.19365667,\n",
       "       31.19180309, 31.19093237, 31.19053629, 31.19036179, 31.19028732,\n",
       "       31.19025654, 31.19024422, 31.19023943])"
      ]
     },
     "execution_count": 519,
     "metadata": {},
     "output_type": "execute_result"
    }
   ],
   "source": [
    "model2 = SVR(kernel='rbf', C=400, epsilon=12) # set kernel and hyperparameters\n",
    "svr = model2.fit(X, y)\n",
    "x_future = [[2018],[2019],[2020],[2021],[2022],[2023],[2024],[2025],[2026],[2027],[2028],[2029],[2030],[2031],[2032],[2033],[2034],[2035],[2036],[2037],[2038],[2039],[2040],[2041],[2042],[2043],[2044],[2045],[2046],[2047],[2048],[2049],[2050]]\n",
    "y_pred = svr.predict(x_future)\n",
    "y_pred"
   ]
  },
  {
   "cell_type": "code",
   "execution_count": 520,
   "id": "7df17b47",
   "metadata": {},
   "outputs": [
    {
     "data": {
      "text/plain": [
       "array([1481.11766562, 1531.79420932, 1570.54106455, 1598.4344743 ,\n",
       "       1617.50732576, 1630.38864521, 1639.89764687, 1648.67051066,\n",
       "       1658.87969248, 1672.07664668, 1689.15845448, 1710.43476339,\n",
       "       1735.75813439, 1764.67888504, 1796.59227191, 1830.85726602,\n",
       "       1866.87817304, 1904.15002047, 1942.27464436, 1980.9567678 ,\n",
       "       2019.98898916, 2059.23267723, 2098.59935248, 2138.03495884,\n",
       "       2177.50782345, 2217.00012074, 2256.50220342, 2296.00904546,\n",
       "       2335.51812383, 2375.0282182 , 2414.53875881, 2454.04948876,\n",
       "       2493.56029666])"
      ]
     },
     "execution_count": 520,
     "metadata": {},
     "output_type": "execute_result"
    }
   ],
   "source": [
    "net_consumption+=y_pred\n",
    "net_consumption"
   ]
  },
  {
   "cell_type": "code",
   "execution_count": 521,
   "id": "Oe3YPe7yBqLi",
   "metadata": {
    "colab": {
     "base_uri": "https://localhost:8080/"
    },
    "id": "Oe3YPe7yBqLi",
    "outputId": "0020bd23-cc40-49ea-e240-1b9d71094858"
   },
   "outputs": [
    {
     "name": "stdout",
     "output_type": "stream",
     "text": [
      "Rate of Increase: 4.251907198049901\n"
     ]
    }
   ],
   "source": [
    "# Finding the Rate of Increase for other renewables Consumption\n",
    "print (\"Rate of Increase:\", (y_pred[2] - 24.90023)/10)"
   ]
  },
  {
   "cell_type": "code",
   "execution_count": 522,
   "id": "d65ad490",
   "metadata": {},
   "outputs": [
    {
     "data": {
      "image/png": "[encoded data removed]",
      "text/plain": [
       "<Figure size 432x288 with 1 Axes>"
      ]
     },
     "metadata": {
      "needs_background": "light"
     },
     "output_type": "display_data"
    }
   ],
   "source": [
    "fig, ax = plt.subplots()\n",
    "ax.scatter(years,y_pred)\n",
    "ax.set_title('Predicted Other Energy Consumption in China (epsilon=15, C=400)')\n",
    "ax.set_xlabel('Years')\n",
    "ax.set_ylabel('Energy Consumption')\n",
    "\n",
    "\n",
    "plt.show()"
   ]
  },
  {
   "cell_type": "markdown",
   "id": "cde1695d",
   "metadata": {
    "id": "cde1695d"
   },
   "source": [
    "# Population"
   ]
  },
  {
   "cell_type": "code",
   "execution_count": 523,
   "id": "a884b3fd",
   "metadata": {
    "id": "a884b3fd"
   },
   "outputs": [],
   "source": [
    "# Use MinMax Scaling on Year and Population\n",
    "df['Year (scaled)']=scaler.fit_transform(df[['Year']])\n",
    "df['Population (scaled)']=scaler.fit_transform(df[['Population']])"
   ]
  },
  {
   "cell_type": "code",
   "execution_count": 524,
   "id": "3bdd2030",
   "metadata": {
    "colab": {
     "base_uri": "https://localhost:8080/",
     "height": 542
    },
    "id": "3bdd2030",
    "outputId": "d1fa3b05-bc42-4f3e-9d80-6e7b82e600de"
   },
   "outputs": [
    {
     "data": {
      "application/vnd.plotly.v1+json": {
       "config": {
        "plotlyServerURL": "https://plot.ly"
       },
       "data": [
        {
         "hovertemplate": "Year=%{x}<br>Population=%{y}<extra></extra>",
         "legendgroup": "",
         "marker": {
          "color": "black",
          "opacity": 0.8,
          "size": 5,
          "symbol": "circle"
         },
         "mode": "markers",
         "name": "",
         "orientation": "v",
         "showlegend": false,
         "type": "scatter",
         "x": [
          1990,
          1991,
          1992,
          1993,
          1994,
          1995,
          1996,
          1997,
          1998,
          1999,
          2000,
          2001,
          2002,
          2003,
          2004,
          2005,
          2006,
          2007,
          2008,
          2009,
          2010,
          2011,
          2012,
          2013,
          2014,
          2015,
          2016,
          2017
         ],
         "xaxis": "x",
         "y": [
          1135185000,
          1150780000,
          1164970000,
          1178440000,
          1191835000,
          1204855000,
          1217550000,
          1230075000,
          1241935000,
          1252735000,
          1262645000,
          1271850000,
          1280400000,
          1288400000,
          1296075000,
          1303720000,
          1311020000,
          1317885000,
          1324655000,
          1331260000,
          1337705000,
          1344130000,
          1350695000,
          1357380000,
          1364270000,
          1371220000,
          1378665000,
          1386395000
         ],
         "yaxis": "y"
        }
       ],
       "layout": {
        "legend": {
         "tracegroupgap": 0
        },
        "margin": {
         "t": 60
        },
        "plot_bgcolor": "white",
        "template": {
         "data": {
          "bar": [
           {
            "error_x": {
             "color": "#2a3f5f"
            },
            "error_y": {
             "color": "#2a3f5f"
            },
            "marker": {
             "line": {
              "color": "#E5ECF6",
              "width": 0.5
             },
             "pattern": {
              "fillmode": "overlay",
              "size": 10,
              "solidity": 0.2
             }
            },
            "type": "bar"
           }
          ],
          "barpolar": [
           {
            "marker": {
             "line": {
              "color": "#E5ECF6",
              "width": 0.5
             },
             "pattern": {
              "fillmode": "overlay",
              "size": 10,
              "solidity": 0.2
             }
            },
            "type": "barpolar"
           }
          ],
          "carpet": [
           {
            "aaxis": {
             "endlinecolor": "#2a3f5f",
             "gridcolor": "white",
             "linecolor": "white",
             "minorgridcolor": "white",
             "startlinecolor": "#2a3f5f"
            },
            "baxis": {
             "endlinecolor": "#2a3f5f",
             "gridcolor": "white",
             "linecolor": "white",
             "minorgridcolor": "white",
             "startlinecolor": "#2a3f5f"
            },
            "type": "carpet"
           }
          ],
          "choropleth": [
           {
            "colorbar": {
             "outlinewidth": 0,
             "ticks": ""
            },
            "type": "choropleth"
           }
          ],
          "contour": [
           {
            "colorbar": {
             "outlinewidth": 0,
             "ticks": ""
            },
            "colorscale": [
             [
              0,
              "#0d0887"
             ],
             [
              0.1111111111111111,
              "#46039f"
             ],
             [
              0.2222222222222222,
              "#7201a8"
             ],
             [
              0.3333333333333333,
              "#9c179e"
             ],
             [
              0.4444444444444444,
              "#bd3786"
             ],
             [
              0.5555555555555556,
              "#d8576b"
             ],
             [
              0.6666666666666666,
              "#ed7953"
             ],
             [
              0.7777777777777778,
              "#fb9f3a"
             ],
             [
              0.8888888888888888,
              "#fdca26"
             ],
             [
              1,
              "#f0f921"
             ]
            ],
            "type": "contour"
           }
          ],
          "contourcarpet": [
           {
            "colorbar": {
             "outlinewidth": 0,
             "ticks": ""
            },
            "type": "contourcarpet"
           }
          ],
          "heatmap": [
           {
            "colorbar": {
             "outlinewidth": 0,
             "ticks": ""
            },
            "colorscale": [
             [
              0,
              "#0d0887"
             ],
             [
              0.1111111111111111,
              "#46039f"
             ],
             [
              0.2222222222222222,
              "#7201a8"
             ],
             [
              0.3333333333333333,
              "#9c179e"
             ],
             [
              0.4444444444444444,
              "#bd3786"
             ],
             [
              0.5555555555555556,
              "#d8576b"
             ],
             [
              0.6666666666666666,
              "#ed7953"
             ],
             [
              0.7777777777777778,
              "#fb9f3a"
             ],
             [
              0.8888888888888888,
              "#fdca26"
             ],
             [
              1,
              "#f0f921"
             ]
            ],
            "type": "heatmap"
           }
          ],
          "heatmapgl": [
           {
            "colorbar": {
             "outlinewidth": 0,
             "ticks": ""
            },
            "colorscale": [
             [
              0,
              "#0d0887"
             ],
             [
              0.1111111111111111,
              "#46039f"
             ],
             [
              0.2222222222222222,
              "#7201a8"
             ],
             [
              0.3333333333333333,
              "#9c179e"
             ],
             [
              0.4444444444444444,
              "#bd3786"
             ],
             [
              0.5555555555555556,
              "#d8576b"
             ],
             [
              0.6666666666666666,
              "#ed7953"
             ],
             [
              0.7777777777777778,
              "#fb9f3a"
             ],
             [
              0.8888888888888888,
              "#fdca26"
             ],
             [
              1,
              "#f0f921"
             ]
            ],
            "type": "heatmapgl"
           }
          ],
          "histogram": [
           {
            "marker": {
             "pattern": {
              "fillmode": "overlay",
              "size": 10,
              "solidity": 0.2
             }
            },
            "type": "histogram"
           }
          ],
          "histogram2d": [
           {
            "colorbar": {
             "outlinewidth": 0,
             "ticks": ""
            },
            "colorscale": [
             [
              0,
              "#0d0887"
             ],
             [
              0.1111111111111111,
              "#46039f"
             ],
             [
              0.2222222222222222,
              "#7201a8"
             ],
             [
              0.3333333333333333,
              "#9c179e"
             ],
             [
              0.4444444444444444,
              "#bd3786"
             ],
             [
              0.5555555555555556,
              "#d8576b"
             ],
             [
              0.6666666666666666,
              "#ed7953"
             ],
             [
              0.7777777777777778,
              "#fb9f3a"
             ],
             [
              0.8888888888888888,
              "#fdca26"
             ],
             [
              1,
              "#f0f921"
             ]
            ],
            "type": "histogram2d"
           }
          ],
          "histogram2dcontour": [
           {
            "colorbar": {
             "outlinewidth": 0,
             "ticks": ""
            },
            "colorscale": [
             [
              0,
              "#0d0887"
             ],
             [
              0.1111111111111111,
              "#46039f"
             ],
             [
              0.2222222222222222,
              "#7201a8"
             ],
             [
              0.3333333333333333,
              "#9c179e"
             ],
             [
              0.4444444444444444,
              "#bd3786"
             ],
             [
              0.5555555555555556,
              "#d8576b"
             ],
             [
              0.6666666666666666,
              "#ed7953"
             ],
             [
              0.7777777777777778,
              "#fb9f3a"
             ],
             [
              0.8888888888888888,
              "#fdca26"
             ],
             [
              1,
              "#f0f921"
             ]
            ],
            "type": "histogram2dcontour"
           }
          ],
          "mesh3d": [
           {
            "colorbar": {
             "outlinewidth": 0,
             "ticks": ""
            },
            "type": "mesh3d"
           }
          ],
          "parcoords": [
           {
            "line": {
             "colorbar": {
              "outlinewidth": 0,
              "ticks": ""
             }
            },
            "type": "parcoords"
           }
          ],
          "pie": [
           {
            "automargin": true,
            "type": "pie"
           }
          ],
          "scatter": [
           {
            "marker": {
             "colorbar": {
              "outlinewidth": 0,
              "ticks": ""
             }
            },
            "type": "scatter"
           }
          ],
          "scatter3d": [
           {
            "line": {
             "colorbar": {
              "outlinewidth": 0,
              "ticks": ""
             }
            },
            "marker": {
             "colorbar": {
              "outlinewidth": 0,
              "ticks": ""
             }
            },
            "type": "scatter3d"
           }
          ],
          "scattercarpet": [
           {
            "marker": {
             "colorbar": {
              "outlinewidth": 0,
              "ticks": ""
             }
            },
            "type": "scattercarpet"
           }
          ],
          "scattergeo": [
           {
            "marker": {
             "colorbar": {
              "outlinewidth": 0,
              "ticks": ""
             }
            },
            "type": "scattergeo"
           }
          ],
          "scattergl": [
           {
            "marker": {
             "colorbar": {
              "outlinewidth": 0,
              "ticks": ""
             }
            },
            "type": "scattergl"
           }
          ],
          "scattermapbox": [
           {
            "marker": {
             "colorbar": {
              "outlinewidth": 0,
              "ticks": ""
             }
            },
            "type": "scattermapbox"
           }
          ],
          "scatterpolar": [
           {
            "marker": {
             "colorbar": {
              "outlinewidth": 0,
              "ticks": ""
             }
            },
            "type": "scatterpolar"
           }
          ],
          "scatterpolargl": [
           {
            "marker": {
             "colorbar": {
              "outlinewidth": 0,
              "ticks": ""
             }
            },
            "type": "scatterpolargl"
           }
          ],
          "scatterternary": [
           {
            "marker": {
             "colorbar": {
              "outlinewidth": 0,
              "ticks": ""
             }
            },
            "type": "scatterternary"
           }
          ],
          "surface": [
           {
            "colorbar": {
             "outlinewidth": 0,
             "ticks": ""
            },
            "colorscale": [
             [
              0,
              "#0d0887"
             ],
             [
              0.1111111111111111,
              "#46039f"
             ],
             [
              0.2222222222222222,
              "#7201a8"
             ],
             [
              0.3333333333333333,
              "#9c179e"
             ],
             [
              0.4444444444444444,
              "#bd3786"
             ],
             [
              0.5555555555555556,
              "#d8576b"
             ],
             [
              0.6666666666666666,
              "#ed7953"
             ],
             [
              0.7777777777777778,
              "#fb9f3a"
             ],
             [
              0.8888888888888888,
              "#fdca26"
             ],
             [
              1,
              "#f0f921"
             ]
            ],
            "type": "surface"
           }
          ],
          "table": [
           {
            "cells": {
             "fill": {
              "color": "#EBF0F8"
             },
             "line": {
              "color": "white"
             }
            },
            "header": {
             "fill": {
              "color": "#C8D4E3"
             },
             "line": {
              "color": "white"
             }
            },
            "type": "table"
           }
          ]
         },
         "layout": {
          "annotationdefaults": {
           "arrowcolor": "#2a3f5f",
           "arrowhead": 0,
           "arrowwidth": 1
          },
          "autotypenumbers": "strict",
          "coloraxis": {
           "colorbar": {
            "outlinewidth": 0,
            "ticks": ""
           }
          },
          "colorscale": {
           "diverging": [
            [
             0,
             "#8e0152"
            ],
            [
             0.1,
             "#c51b7d"
            ],
            [
             0.2,
             "#de77ae"
            ],
            [
             0.3,
             "#f1b6da"
            ],
            [
             0.4,
             "#fde0ef"
            ],
            [
             0.5,
             "#f7f7f7"
            ],
            [
             0.6,
             "#e6f5d0"
            ],
            [
             0.7,
             "#b8e186"
            ],
            [
             0.8,
             "#7fbc41"
            ],
            [
             0.9,
             "#4d9221"
            ],
            [
             1,
             "#276419"
            ]
           ],
           "sequential": [
            [
             0,
             "#0d0887"
            ],
            [
             0.1111111111111111,
             "#46039f"
            ],
            [
             0.2222222222222222,
             "#7201a8"
            ],
            [
             0.3333333333333333,
             "#9c179e"
            ],
            [
             0.4444444444444444,
             "#bd3786"
            ],
            [
             0.5555555555555556,
             "#d8576b"
            ],
            [
             0.6666666666666666,
             "#ed7953"
            ],
            [
             0.7777777777777778,
             "#fb9f3a"
            ],
            [
             0.8888888888888888,
             "#fdca26"
            ],
            [
             1,
             "#f0f921"
            ]
           ],
           "sequentialminus": [
            [
             0,
             "#0d0887"
            ],
            [
             0.1111111111111111,
             "#46039f"
            ],
            [
             0.2222222222222222,
             "#7201a8"
            ],
            [
             0.3333333333333333,
             "#9c179e"
            ],
            [
             0.4444444444444444,
             "#bd3786"
            ],
            [
             0.5555555555555556,
             "#d8576b"
            ],
            [
             0.6666666666666666,
             "#ed7953"
            ],
            [
             0.7777777777777778,
             "#fb9f3a"
            ],
            [
             0.8888888888888888,
             "#fdca26"
            ],
            [
             1,
             "#f0f921"
            ]
           ]
          },
          "colorway": [
           "#636efa",
           "#EF553B",
           "#00cc96",
           "#ab63fa",
           "#FFA15A",
           "#19d3f3",
           "#FF6692",
           "#B6E880",
           "#FF97FF",
           "#FECB52"
          ],
          "font": {
           "color": "#2a3f5f"
          },
          "geo": {
           "bgcolor": "white",
           "lakecolor": "white",
           "landcolor": "#E5ECF6",
           "showlakes": true,
           "showland": true,
           "subunitcolor": "white"
          },
          "hoverlabel": {
           "align": "left"
          },
          "hovermode": "closest",
          "mapbox": {
           "style": "light"
          },
          "paper_bgcolor": "white",
          "plot_bgcolor": "#E5ECF6",
          "polar": {
           "angularaxis": {
            "gridcolor": "white",
            "linecolor": "white",
            "ticks": ""
           },
           "bgcolor": "#E5ECF6",
           "radialaxis": {
            "gridcolor": "white",
            "linecolor": "white",
            "ticks": ""
           }
          },
          "scene": {
           "xaxis": {
            "backgroundcolor": "#E5ECF6",
            "gridcolor": "white",
            "gridwidth": 2,
            "linecolor": "white",
            "showbackground": true,
            "ticks": "",
            "zerolinecolor": "white"
           },
           "yaxis": {
            "backgroundcolor": "#E5ECF6",
            "gridcolor": "white",
            "gridwidth": 2,
            "linecolor": "white",
            "showbackground": true,
            "ticks": "",
            "zerolinecolor": "white"
           },
           "zaxis": {
            "backgroundcolor": "#E5ECF6",
            "gridcolor": "white",
            "gridwidth": 2,
            "linecolor": "white",
            "showbackground": true,
            "ticks": "",
            "zerolinecolor": "white"
           }
          },
          "shapedefaults": {
           "line": {
            "color": "#2a3f5f"
           }
          },
          "ternary": {
           "aaxis": {
            "gridcolor": "white",
            "linecolor": "white",
            "ticks": ""
           },
           "baxis": {
            "gridcolor": "white",
            "linecolor": "white",
            "ticks": ""
           },
           "bgcolor": "#E5ECF6",
           "caxis": {
            "gridcolor": "white",
            "linecolor": "white",
            "ticks": ""
           }
          },
          "title": {
           "x": 0.05
          },
          "xaxis": {
           "automargin": true,
           "gridcolor": "white",
           "linecolor": "white",
           "ticks": "",
           "title": {
            "standoff": 15
           },
           "zerolinecolor": "white",
           "zerolinewidth": 2
          },
          "yaxis": {
           "automargin": true,
           "gridcolor": "white",
           "linecolor": "white",
           "ticks": "",
           "title": {
            "standoff": 15
           },
           "zerolinecolor": "white",
           "zerolinewidth": 2
          }
         }
        },
        "title": {
         "font": {
          "color": "black"
         },
         "text": "Population in China"
        },
        "xaxis": {
         "anchor": "y",
         "domain": [
          0,
          1
         ],
         "gridcolor": "lightgrey",
         "gridwidth": 1,
         "linecolor": "black",
         "linewidth": 1,
         "showgrid": true,
         "showline": true,
         "title": {
          "text": "Year"
         },
         "zeroline": true,
         "zerolinecolor": "lightgrey",
         "zerolinewidth": 1
        },
        "yaxis": {
         "anchor": "x",
         "domain": [
          0,
          1
         ],
         "gridcolor": "lightgrey",
         "gridwidth": 1,
         "linecolor": "black",
         "linewidth": 1,
         "showgrid": true,
         "showline": true,
         "title": {
          "text": "Population"
         },
         "zeroline": true,
         "zerolinecolor": "lightgrey",
         "zerolinewidth": 1
        }
       }
      },
      "text/html": [
       "<div>                            <div id=\"a43d5f0f-7cf3-4b9a-bb8c-bb77b59947b0\" class=\"plotly-graph-div\" style=\"height:525px; width:100%;\"></div>            <script type=\"text/javascript\">                require([\"plotly\"], function(Plotly) {                    window.PLOTLYENV=window.PLOTLYENV || {};                                    if (document.getElementById(\"a43d5f0f-7cf3-4b9a-bb8c-bb77b59947b0\")) {                    Plotly.newPlot(                        \"a43d5f0f-7cf3-4b9a-bb8c-bb77b59947b0\",                        [{\"hovertemplate\":\"Year=%{x}<br>Population=%{y}<extra></extra>\",\"legendgroup\":\"\",\"marker\":{\"color\":\"black\",\"opacity\":0.8,\"symbol\":\"circle\",\"size\":5},\"mode\":\"markers\",\"name\":\"\",\"orientation\":\"v\",\"showlegend\":false,\"x\":[1990,1991,1992,1993,1994,1995,1996,1997,1998,1999,2000,2001,2002,2003,2004,2005,2006,2007,2008,2009,2010,2011,2012,2013,2014,2015,2016,2017],\"xaxis\":\"x\",\"y\":[1135185000,1150780000,1164970000,1178440000,1191835000,1204855000,1217550000,1230075000,1241935000,1252735000,1262645000,1271850000,1280400000,1288400000,1296075000,1303720000,1311020000,1317885000,1324655000,1331260000,1337705000,1344130000,1350695000,1357380000,1364270000,1371220000,1378665000,1386395000],\"yaxis\":\"y\",\"type\":\"scatter\"}],                        {\"template\":{\"data\":{\"bar\":[{\"error_x\":{\"color\":\"#2a3f5f\"},\"error_y\":{\"color\":\"#2a3f5f\"},\"marker\":{\"line\":{\"color\":\"#E5ECF6\",\"width\":0.5},\"pattern\":{\"fillmode\":\"overlay\",\"size\":10,\"solidity\":0.2}},\"type\":\"bar\"}],\"barpolar\":[{\"marker\":{\"line\":{\"color\":\"#E5ECF6\",\"width\":0.5},\"pattern\":{\"fillmode\":\"overlay\",\"size\":10,\"solidity\":0.2}},\"type\":\"barpolar\"}],\"carpet\":[{\"aaxis\":{\"endlinecolor\":\"#2a3f5f\",\"gridcolor\":\"white\",\"linecolor\":\"white\",\"minorgridcolor\":\"white\",\"startlinecolor\":\"#2a3f5f\"},\"baxis\":{\"endlinecolor\":\"#2a3f5f\",\"gridcolor\":\"white\",\"linecolor\":\"white\",\"minorgridcolor\":\"white\",\"startlinecolor\":\"#2a3f5f\"},\"type\":\"carpet\"}],\"choropleth\":[{\"colorbar\":{\"outlinewidth\":0,\"ticks\":\"\"},\"type\":\"choropleth\"}],\"contour\":[{\"colorbar\":{\"outlinewidth\":0,\"ticks\":\"\"},\"colorscale\":[[0.0,\"#0d0887\"],[0.1111111111111111,\"#46039f\"],[0.2222222222222222,\"#7201a8\"],[0.3333333333333333,\"#9c179e\"],[0.4444444444444444,\"#bd3786\"],[0.5555555555555556,\"#d8576b\"],[0.6666666666666666,\"#ed7953\"],[0.7777777777777778,\"#fb9f3a\"],[0.8888888888888888,\"#fdca26\"],[1.0,\"#f0f921\"]],\"type\":\"contour\"}],\"contourcarpet\":[{\"colorbar\":{\"outlinewidth\":0,\"ticks\":\"\"},\"type\":\"contourcarpet\"}],\"heatmap\":[{\"colorbar\":{\"outlinewidth\":0,\"ticks\":\"\"},\"colorscale\":[[0.0,\"#0d0887\"],[0.1111111111111111,\"#46039f\"],[0.2222222222222222,\"#7201a8\"],[0.3333333333333333,\"#9c179e\"],[0.4444444444444444,\"#bd3786\"],[0.5555555555555556,\"#d8576b\"],[0.6666666666666666,\"#ed7953\"],[0.7777777777777778,\"#fb9f3a\"],[0.8888888888888888,\"#fdca26\"],[1.0,\"#f0f921\"]],\"type\":\"heatmap\"}],\"heatmapgl\":[{\"colorbar\":{\"outlinewidth\":0,\"ticks\":\"\"},\"colorscale\":[[0.0,\"#0d0887\"],[0.1111111111111111,\"#46039f\"],[0.2222222222222222,\"#7201a8\"],[0.3333333333333333,\"#9c179e\"],[0.4444444444444444,\"#bd3786\"],[0.5555555555555556,\"#d8576b\"],[0.6666666666666666,\"#ed7953\"],[0.7777777777777778,\"#fb9f3a\"],[0.8888888888888888,\"#fdca26\"],[1.0,\"#f0f921\"]],\"type\":\"heatmapgl\"}],\"histogram\":[{\"marker\":{\"pattern\":{\"fillmode\":\"overlay\",\"size\":10,\"solidity\":0.2}},\"type\":\"histogram\"}],\"histogram2d\":[{\"colorbar\":{\"outlinewidth\":0,\"ticks\":\"\"},\"colorscale\":[[0.0,\"#0d0887\"],[0.1111111111111111,\"#46039f\"],[0.2222222222222222,\"#7201a8\"],[0.3333333333333333,\"#9c179e\"],[0.4444444444444444,\"#bd3786\"],[0.5555555555555556,\"#d8576b\"],[0.6666666666666666,\"#ed7953\"],[0.7777777777777778,\"#fb9f3a\"],[0.8888888888888888,\"#fdca26\"],[1.0,\"#f0f921\"]],\"type\":\"histogram2d\"}],\"histogram2dcontour\":[{\"colorbar\":{\"outlinewidth\":0,\"ticks\":\"\"},\"colorscale\":[[0.0,\"#0d0887\"],[0.1111111111111111,\"#46039f\"],[0.2222222222222222,\"#7201a8\"],[0.3333333333333333,\"#9c179e\"],[0.4444444444444444,\"#bd3786\"],[0.5555555555555556,\"#d8576b\"],[0.6666666666666666,\"#ed7953\"],[0.7777777777777778,\"#fb9f3a\"],[0.8888888888888888,\"#fdca26\"],[1.0,\"#f0f921\"]],\"type\":\"histogram2dcontour\"}],\"mesh3d\":[{\"colorbar\":{\"outlinewidth\":0,\"ticks\":\"\"},\"type\":\"mesh3d\"}],\"parcoords\":[{\"line\":{\"colorbar\":{\"outlinewidth\":0,\"ticks\":\"\"}},\"type\":\"parcoords\"}],\"pie\":[{\"automargin\":true,\"type\":\"pie\"}],\"scatter\":[{\"marker\":{\"colorbar\":{\"outlinewidth\":0,\"ticks\":\"\"}},\"type\":\"scatter\"}],\"scatter3d\":[{\"line\":{\"colorbar\":{\"outlinewidth\":0,\"ticks\":\"\"}},\"marker\":{\"colorbar\":{\"outlinewidth\":0,\"ticks\":\"\"}},\"type\":\"scatter3d\"}],\"scattercarpet\":[{\"marker\":{\"colorbar\":{\"outlinewidth\":0,\"ticks\":\"\"}},\"type\":\"scattercarpet\"}],\"scattergeo\":[{\"marker\":{\"colorbar\":{\"outlinewidth\":0,\"ticks\":\"\"}},\"type\":\"scattergeo\"}],\"scattergl\":[{\"marker\":{\"colorbar\":{\"outlinewidth\":0,\"ticks\":\"\"}},\"type\":\"scattergl\"}],\"scattermapbox\":[{\"marker\":{\"colorbar\":{\"outlinewidth\":0,\"ticks\":\"\"}},\"type\":\"scattermapbox\"}],\"scatterpolar\":[{\"marker\":{\"colorbar\":{\"outlinewidth\":0,\"ticks\":\"\"}},\"type\":\"scatterpolar\"}],\"scatterpolargl\":[{\"marker\":{\"colorbar\":{\"outlinewidth\":0,\"ticks\":\"\"}},\"type\":\"scatterpolargl\"}],\"scatterternary\":[{\"marker\":{\"colorbar\":{\"outlinewidth\":0,\"ticks\":\"\"}},\"type\":\"scatterternary\"}],\"surface\":[{\"colorbar\":{\"outlinewidth\":0,\"ticks\":\"\"},\"colorscale\":[[0.0,\"#0d0887\"],[0.1111111111111111,\"#46039f\"],[0.2222222222222222,\"#7201a8\"],[0.3333333333333333,\"#9c179e\"],[0.4444444444444444,\"#bd3786\"],[0.5555555555555556,\"#d8576b\"],[0.6666666666666666,\"#ed7953\"],[0.7777777777777778,\"#fb9f3a\"],[0.8888888888888888,\"#fdca26\"],[1.0,\"#f0f921\"]],\"type\":\"surface\"}],\"table\":[{\"cells\":{\"fill\":{\"color\":\"#EBF0F8\"},\"line\":{\"color\":\"white\"}},\"header\":{\"fill\":{\"color\":\"#C8D4E3\"},\"line\":{\"color\":\"white\"}},\"type\":\"table\"}]},\"layout\":{\"annotationdefaults\":{\"arrowcolor\":\"#2a3f5f\",\"arrowhead\":0,\"arrowwidth\":1},\"autotypenumbers\":\"strict\",\"coloraxis\":{\"colorbar\":{\"outlinewidth\":0,\"ticks\":\"\"}},\"colorscale\":{\"diverging\":[[0,\"#8e0152\"],[0.1,\"#c51b7d\"],[0.2,\"#de77ae\"],[0.3,\"#f1b6da\"],[0.4,\"#fde0ef\"],[0.5,\"#f7f7f7\"],[0.6,\"#e6f5d0\"],[0.7,\"#b8e186\"],[0.8,\"#7fbc41\"],[0.9,\"#4d9221\"],[1,\"#276419\"]],\"sequential\":[[0.0,\"#0d0887\"],[0.1111111111111111,\"#46039f\"],[0.2222222222222222,\"#7201a8\"],[0.3333333333333333,\"#9c179e\"],[0.4444444444444444,\"#bd3786\"],[0.5555555555555556,\"#d8576b\"],[0.6666666666666666,\"#ed7953\"],[0.7777777777777778,\"#fb9f3a\"],[0.8888888888888888,\"#fdca26\"],[1.0,\"#f0f921\"]],\"sequentialminus\":[[0.0,\"#0d0887\"],[0.1111111111111111,\"#46039f\"],[0.2222222222222222,\"#7201a8\"],[0.3333333333333333,\"#9c179e\"],[0.4444444444444444,\"#bd3786\"],[0.5555555555555556,\"#d8576b\"],[0.6666666666666666,\"#ed7953\"],[0.7777777777777778,\"#fb9f3a\"],[0.8888888888888888,\"#fdca26\"],[1.0,\"#f0f921\"]]},\"colorway\":[\"#636efa\",\"#EF553B\",\"#00cc96\",\"#ab63fa\",\"#FFA15A\",\"#19d3f3\",\"#FF6692\",\"#B6E880\",\"#FF97FF\",\"#FECB52\"],\"font\":{\"color\":\"#2a3f5f\"},\"geo\":{\"bgcolor\":\"white\",\"lakecolor\":\"white\",\"landcolor\":\"#E5ECF6\",\"showlakes\":true,\"showland\":true,\"subunitcolor\":\"white\"},\"hoverlabel\":{\"align\":\"left\"},\"hovermode\":\"closest\",\"mapbox\":{\"style\":\"light\"},\"paper_bgcolor\":\"white\",\"plot_bgcolor\":\"#E5ECF6\",\"polar\":{\"angularaxis\":{\"gridcolor\":\"white\",\"linecolor\":\"white\",\"ticks\":\"\"},\"bgcolor\":\"#E5ECF6\",\"radialaxis\":{\"gridcolor\":\"white\",\"linecolor\":\"white\",\"ticks\":\"\"}},\"scene\":{\"xaxis\":{\"backgroundcolor\":\"#E5ECF6\",\"gridcolor\":\"white\",\"gridwidth\":2,\"linecolor\":\"white\",\"showbackground\":true,\"ticks\":\"\",\"zerolinecolor\":\"white\"},\"yaxis\":{\"backgroundcolor\":\"#E5ECF6\",\"gridcolor\":\"white\",\"gridwidth\":2,\"linecolor\":\"white\",\"showbackground\":true,\"ticks\":\"\",\"zerolinecolor\":\"white\"},\"zaxis\":{\"backgroundcolor\":\"#E5ECF6\",\"gridcolor\":\"white\",\"gridwidth\":2,\"linecolor\":\"white\",\"showbackground\":true,\"ticks\":\"\",\"zerolinecolor\":\"white\"}},\"shapedefaults\":{\"line\":{\"color\":\"#2a3f5f\"}},\"ternary\":{\"aaxis\":{\"gridcolor\":\"white\",\"linecolor\":\"white\",\"ticks\":\"\"},\"baxis\":{\"gridcolor\":\"white\",\"linecolor\":\"white\",\"ticks\":\"\"},\"bgcolor\":\"#E5ECF6\",\"caxis\":{\"gridcolor\":\"white\",\"linecolor\":\"white\",\"ticks\":\"\"}},\"title\":{\"x\":0.05},\"xaxis\":{\"automargin\":true,\"gridcolor\":\"white\",\"linecolor\":\"white\",\"ticks\":\"\",\"title\":{\"standoff\":15},\"zerolinecolor\":\"white\",\"zerolinewidth\":2},\"yaxis\":{\"automargin\":true,\"gridcolor\":\"white\",\"linecolor\":\"white\",\"ticks\":\"\",\"title\":{\"standoff\":15},\"zerolinecolor\":\"white\",\"zerolinewidth\":2}}},\"xaxis\":{\"anchor\":\"y\",\"domain\":[0.0,1.0],\"title\":{\"text\":\"Year\"},\"showgrid\":true,\"gridwidth\":1,\"gridcolor\":\"lightgrey\",\"zeroline\":true,\"zerolinewidth\":1,\"zerolinecolor\":\"lightgrey\",\"showline\":true,\"linewidth\":1,\"linecolor\":\"black\"},\"yaxis\":{\"anchor\":\"x\",\"domain\":[0.0,1.0],\"title\":{\"text\":\"Population\"},\"showgrid\":true,\"gridwidth\":1,\"gridcolor\":\"lightgrey\",\"zeroline\":true,\"zerolinewidth\":1,\"zerolinecolor\":\"lightgrey\",\"showline\":true,\"linewidth\":1,\"linecolor\":\"black\"},\"legend\":{\"tracegroupgap\":0},\"margin\":{\"t\":60},\"plot_bgcolor\":\"white\",\"title\":{\"font\":{\"color\":\"black\"},\"text\":\"Population in China\"}},                        {\"responsive\": true}                    ).then(function(){\n",
       "                            \n",
       "var gd = document.getElementById('a43d5f0f-7cf3-4b9a-bb8c-bb77b59947b0');\n",
       "var x = new MutationObserver(function (mutations, observer) {{\n",
       "        var display = window.getComputedStyle(gd).display;\n",
       "        if (!display || display === 'none') {{\n",
       "            console.log([gd, 'removed!']);\n",
       "            Plotly.purge(gd);\n",
       "            observer.disconnect();\n",
       "        }}\n",
       "}});\n",
       "\n",
       "// Listen for the removal of the full notebook cells\n",
       "var notebookContainer = gd.closest('#notebook-container');\n",
       "if (notebookContainer) {{\n",
       "    x.observe(notebookContainer, {childList: true});\n",
       "}}\n",
       "\n",
       "// Listen for the clearing of the current output cell\n",
       "var outputEl = gd.closest('.output');\n",
       "if (outputEl) {{\n",
       "    x.observe(outputEl, {childList: true});\n",
       "}}\n",
       "\n",
       "                        })                };                });            </script>        </div>"
      ]
     },
     "metadata": {},
     "output_type": "display_data"
    }
   ],
   "source": [
    "# Create a scatter plot\n",
    "fig = px.scatter(df, x=df['Year'], y=df['Population'], \n",
    "                 opacity=0.8, color_discrete_sequence=['black'])\n",
    "# Change chart background color\n",
    "fig.update_layout(dict(plot_bgcolor = 'white'))\n",
    "\n",
    "# Update axes lines\n",
    "fig.update_xaxes(showgrid=True, gridwidth=1, gridcolor='lightgrey', \n",
    "                 zeroline=True, zerolinewidth=1, zerolinecolor='lightgrey', \n",
    "                 showline=True, linewidth=1, linecolor='black')\n",
    "\n",
    "fig.update_yaxes(showgrid=True, gridwidth=1, gridcolor='lightgrey', \n",
    "                 zeroline=True, zerolinewidth=1, zerolinecolor='lightgrey', \n",
    "                 showline=True, linewidth=1, linecolor='black')\n",
    "\n",
    "fig.update_yaxes(showgrid=True, gridwidth=1, gridcolor='lightgrey', \n",
    "                 zeroline=True, zerolinewidth=1, zerolinecolor='lightgrey', \n",
    "                 showline=True, linewidth=1, linecolor='black')\n",
    "\n",
    "# Set figure title\n",
    "fig.update_layout(title=dict(text=\"Population in China\", \n",
    "                             font=dict(color='black')))\n",
    "# Update marker size\n",
    "fig.update_traces(marker=dict(size=5))\n",
    "\n",
    "fig.show()\n"
   ]
  },
  {
   "cell_type": "code",
   "execution_count": 525,
   "id": "8ea8dd59",
   "metadata": {
    "id": "8ea8dd59"
   },
   "outputs": [],
   "source": [
    "# Note, we need X to be a 2D array, hence reshape\n",
    "X=df['Year'].values.reshape(-1,1)\n",
    "y=df['Population'].values\n",
    "\n",
    "X_train, X_test, y_train, y_test = train_test_split(X ,y, test_size=0.30, random_state=100)\n",
    "\n",
    "\n",
    "# ------- Linear regression -------\n",
    "model1 = LinearRegression()\n",
    "lr = model1.fit(X_train, y_train)\n",
    "\n",
    "# ------- Support Vector regression -------\n",
    "model2 = SVR(kernel='linear', C=1000000000, epsilon=20000000) # set kernel and hyperparameters\n",
    "svr = model2.fit(X_train, y_train)\n",
    "\n",
    "# ------- Predict a range of values based on the models for visualization -------\n",
    "# Create 100 evenly spaced points from smallest X to largest X\n",
    "x_range = np.linspace(X.min(), X.max(), 100)\n",
    "\n",
    "# Predict y values for our set of X values\n",
    "y_lr = model1.predict(x_range.reshape(-1, 1)) # Linear regression\n",
    "y_svr = model2.predict(x_range.reshape(-1, 1)) # SVR"
   ]
  },
  {
   "cell_type": "code",
   "execution_count": 526,
   "id": "3c9425b5",
   "metadata": {
    "colab": {
     "base_uri": "https://localhost:8080/",
     "height": 542
    },
    "id": "3c9425b5",
    "outputId": "1171fd55-cdaa-4fcb-d881-4646ec6f4330"
   },
   "outputs": [
    {
     "data": {
      "application/vnd.plotly.v1+json": {
       "config": {
        "plotlyServerURL": "https://plot.ly"
       },
       "data": [
        {
         "hovertemplate": "Year=%{x}<br>Population=%{y}<extra></extra>",
         "legendgroup": "",
         "marker": {
          "color": "black",
          "opacity": 0.8,
          "size": 3,
          "symbol": "circle"
         },
         "mode": "markers",
         "name": "",
         "orientation": "v",
         "showlegend": false,
         "type": "scatter",
         "x": [
          1990,
          1991,
          1992,
          1993,
          1994,
          1995,
          1996,
          1997,
          1998,
          1999,
          2000,
          2001,
          2002,
          2003,
          2004,
          2005,
          2006,
          2007,
          2008,
          2009,
          2010,
          2011,
          2012,
          2013,
          2014,
          2015,
          2016,
          2017
         ],
         "xaxis": "x",
         "y": [
          1135185000,
          1150780000,
          1164970000,
          1178440000,
          1191835000,
          1204855000,
          1217550000,
          1230075000,
          1241935000,
          1252735000,
          1262645000,
          1271850000,
          1280400000,
          1288400000,
          1296075000,
          1303720000,
          1311020000,
          1317885000,
          1324655000,
          1331260000,
          1337705000,
          1344130000,
          1350695000,
          1357380000,
          1364270000,
          1371220000,
          1378665000,
          1386395000
         ],
         "yaxis": "y"
        },
        {
         "line": {
          "color": "limegreen"
         },
         "marker": {
          "size": 3
         },
         "name": "Linear Regression",
         "type": "scatter",
         "x": [
          1990,
          1990.2727272727273,
          1990.5454545454545,
          1990.8181818181818,
          1991.090909090909,
          1991.3636363636363,
          1991.6363636363637,
          1991.909090909091,
          1992.1818181818182,
          1992.4545454545455,
          1992.7272727272727,
          1993,
          1993.2727272727273,
          1993.5454545454545,
          1993.8181818181818,
          1994.090909090909,
          1994.3636363636363,
          1994.6363636363637,
          1994.909090909091,
          1995.1818181818182,
          1995.4545454545455,
          1995.7272727272727,
          1996,
          1996.2727272727273,
          1996.5454545454545,
          1996.8181818181818,
          1997.090909090909,
          1997.3636363636363,
          1997.6363636363637,
          1997.909090909091,
          1998.1818181818182,
          1998.4545454545455,
          1998.7272727272727,
          1999,
          1999.2727272727273,
          1999.5454545454545,
          1999.8181818181818,
          2000.090909090909,
          2000.3636363636363,
          2000.6363636363637,
          2000.909090909091,
          2001.1818181818182,
          2001.4545454545455,
          2001.7272727272727,
          2002,
          2002.2727272727273,
          2002.5454545454545,
          2002.8181818181818,
          2003.090909090909,
          2003.3636363636363,
          2003.6363636363637,
          2003.909090909091,
          2004.1818181818182,
          2004.4545454545455,
          2004.7272727272727,
          2005,
          2005.2727272727273,
          2005.5454545454545,
          2005.8181818181818,
          2006.090909090909,
          2006.3636363636363,
          2006.6363636363637,
          2006.909090909091,
          2007.1818181818182,
          2007.4545454545455,
          2007.7272727272727,
          2008,
          2008.2727272727273,
          2008.5454545454545,
          2008.8181818181818,
          2009.090909090909,
          2009.3636363636363,
          2009.6363636363637,
          2009.909090909091,
          2010.1818181818182,
          2010.4545454545455,
          2010.7272727272727,
          2011,
          2011.2727272727273,
          2011.5454545454545,
          2011.8181818181818,
          2012.090909090909,
          2012.3636363636363,
          2012.6363636363637,
          2012.909090909091,
          2013.1818181818182,
          2013.4545454545455,
          2013.7272727272727,
          2014,
          2014.2727272727273,
          2014.5454545454545,
          2014.8181818181818,
          2015.090909090909,
          2015.3636363636363,
          2015.6363636363637,
          2015.909090909091,
          2016.1818181818182,
          2016.4545454545455,
          2016.7272727272727,
          2017
         ],
         "y": [
          1155368837.3228035,
          1157884064.1325378,
          1160399290.9422684,
          1162914517.751999,
          1165429744.5617332,
          1167944971.3714638,
          1170460198.1811981,
          1172975424.9909286,
          1175490651.800663,
          1178005878.6103935,
          1180521105.4201279,
          1183036332.2298584,
          1185551559.039589,
          1188066785.8493233,
          1190582012.6590538,
          1193097239.4687843,
          1195612466.2785187,
          1198127693.088253,
          1200642919.8979836,
          1203158146.707718,
          1205673373.5174484,
          1208188600.327179,
          1210703827.1369133,
          1213219053.9466438,
          1215734280.7563744,
          1218249507.5661087,
          1220764734.3758392,
          1223279961.1855736,
          1225795187.995304,
          1228310414.8050385,
          1230825641.614769,
          1233340868.4245033,
          1235856095.2342339,
          1238371322.0439644,
          1240886548.8536987,
          1243401775.6634293,
          1245917002.4731598,
          1248432229.2828941,
          1250947456.0926247,
          1253462682.902359,
          1255977909.7120934,
          1258493136.521824,
          1261008363.3315544,
          1263523590.1412888,
          1266038816.9510193,
          1268554043.7607498,
          1271069270.5704842,
          1273584497.3802147,
          1276099724.189949,
          1278614950.9996796,
          1281130177.809414,
          1283645404.6191444,
          1286160631.4288788,
          1288675858.2386093,
          1291191085.0483398,
          1293706311.8580742,
          1296221538.6678047,
          1298736765.477539,
          1301251992.2872696,
          1303767219.0970001,
          1306282445.9067345,
          1308797672.7164688,
          1311312899.5261993,
          1313828126.3359299,
          1316343353.1456642,
          1318858579.9553947,
          1321373806.7651253,
          1323889033.5748596,
          1326404260.3845901,
          1328919487.1943245,
          1331434714.004055,
          1333949940.8137856,
          1336465167.62352,
          1338980394.4332542,
          1341495621.2429848,
          1344010848.0527153,
          1346526074.8624496,
          1349041301.6721802,
          1351556528.4819145,
          1354071755.291645,
          1356586982.1013756,
          1359102208.91111,
          1361617435.7208405,
          1364132662.5305748,
          1366647889.3403053,
          1369163116.1500397,
          1371678342.9597702,
          1374193569.7695007,
          1376708796.579235,
          1379224023.3889656,
          1381739250.1987,
          1384254477.0084305,
          1386769703.818161,
          1389284930.6278954,
          1391800157.4376297,
          1394315384.2473602,
          1396830611.0570908,
          1399345837.866825,
          1401861064.6765556,
          1404376291.48629
         ]
        },
        {
         "line": {
          "color": "red"
         },
         "marker": {
          "size": 3
         },
         "name": "Support Vector Regression",
         "type": "scatter",
         "x": [
          1990,
          1990.2727272727273,
          1990.5454545454545,
          1990.8181818181818,
          1991.090909090909,
          1991.3636363636363,
          1991.6363636363637,
          1991.909090909091,
          1992.1818181818182,
          1992.4545454545455,
          1992.7272727272727,
          1993,
          1993.2727272727273,
          1993.5454545454545,
          1993.8181818181818,
          1994.090909090909,
          1994.3636363636363,
          1994.6363636363637,
          1994.909090909091,
          1995.1818181818182,
          1995.4545454545455,
          1995.7272727272727,
          1996,
          1996.2727272727273,
          1996.5454545454545,
          1996.8181818181818,
          1997.090909090909,
          1997.3636363636363,
          1997.6363636363637,
          1997.909090909091,
          1998.1818181818182,
          1998.4545454545455,
          1998.7272727272727,
          1999,
          1999.2727272727273,
          1999.5454545454545,
          1999.8181818181818,
          2000.090909090909,
          2000.3636363636363,
          2000.6363636363637,
          2000.909090909091,
          2001.1818181818182,
          2001.4545454545455,
          2001.7272727272727,
          2002,
          2002.2727272727273,
          2002.5454545454545,
          2002.8181818181818,
          2003.090909090909,
          2003.3636363636363,
          2003.6363636363637,
          2003.909090909091,
          2004.1818181818182,
          2004.4545454545455,
          2004.7272727272727,
          2005,
          2005.2727272727273,
          2005.5454545454545,
          2005.8181818181818,
          2006.090909090909,
          2006.3636363636363,
          2006.6363636363637,
          2006.909090909091,
          2007.1818181818182,
          2007.4545454545455,
          2007.7272727272727,
          2008,
          2008.2727272727273,
          2008.5454545454545,
          2008.8181818181818,
          2009.090909090909,
          2009.3636363636363,
          2009.6363636363637,
          2009.909090909091,
          2010.1818181818182,
          2010.4545454545455,
          2010.7272727272727,
          2011,
          2011.2727272727273,
          2011.5454545454545,
          2011.8181818181818,
          2012.090909090909,
          2012.3636363636363,
          2012.6363636363637,
          2012.909090909091,
          2013.1818181818182,
          2013.4545454545455,
          2013.7272727272727,
          2014,
          2014.2727272727273,
          2014.5454545454545,
          2014.8181818181818,
          2015.090909090909,
          2015.3636363636363,
          2015.6363636363637,
          2015.909090909091,
          2016.1818181818182,
          2016.4545454545455,
          2016.7272727272727,
          2017
         ],
         "y": [
          1155184999.9996986,
          1157570272.7272377,
          1159955545.4542885,
          1162340818.1813393,
          1164726090.9088783,
          1167111363.6364174,
          1169496636.3634682,
          1171881909.0910072,
          1174267181.818058,
          1176652454.545597,
          1179037727.2721596,
          1181423000.000187,
          1183808272.7272377,
          1186193545.4547768,
          1188578818.1813393,
          1190964090.9093666,
          1193349363.6364174,
          1195734636.3634682,
          1198119909.0910072,
          1200505181.818058,
          1202890454.545597,
          1205275727.2726479,
          1207661000.000187,
          1210046272.7272377,
          1212431545.4547768,
          1214816818.1818275,
          1217202090.9093666,
          1219587363.635929,
          1221972636.3639565,
          1224357909.0910072,
          1226743181.8185463,
          1229128454.545597,
          1231513727.2726479,
          1233899000.000187,
          1236284272.727726,
          1238669545.4547768,
          1241054818.1818275,
          1243440090.9093666,
          1245825363.6364174,
          1248210636.3639565,
          1250595909.0914955,
          1252981181.8185463,
          1255366454.5460854,
          1257751727.2726479,
          1260137000.0006752,
          1262522272.727726,
          1264907545.455265,
          1267292818.1818275,
          1269678090.909855,
          1272063363.6364174,
          1274448636.3639565,
          1276833909.0914955,
          1279219181.8185463,
          1281604454.5460854,
          1283989727.2726479,
          1286375000.0006752,
          1288760272.727726,
          1291145545.455265,
          1293530818.1818275,
          1295916090.909855,
          1298301363.6364174,
          1300686636.3644447,
          1303071909.0914955,
          1305457181.8190346,
          1307842454.5460854,
          1310227727.2731361,
          1312613000.0006752,
          1314998272.7282143,
          1317383545.455265,
          1319768818.1823158,
          1322154090.909855,
          1324539363.6369057,
          1326924636.3644447,
          1329309909.0914955,
          1331695181.8190346,
          1334080454.5465736,
          1336465727.2731361,
          1338851000.0006752,
          1341236272.7282143,
          1343621545.455265,
          1346006818.1823158,
          1348392090.909855,
          1350777363.6369057,
          1353162636.3644447,
          1355547909.0919838,
          1357933181.8190346,
          1360318454.5460854,
          1362703727.2731361,
          1365089000.0011635,
          1367474272.7282143,
          1369859545.4557533,
          1372244818.1823158,
          1374630090.9103432,
          1377015363.6369057,
          1379400636.364933,
          1381785909.0919838,
          1384171181.8190346,
          1386556454.5460854,
          1388941727.2736244,
          1391327000.0011635
         ]
        },
        {
         "line": {
          "color": "red",
          "dash": "dot"
         },
         "marker": {
          "size": 3
         },
         "name": "+epsilon",
         "type": "scatter",
         "x": [
          1990,
          1990.2727272727273,
          1990.5454545454545,
          1990.8181818181818,
          1991.090909090909,
          1991.3636363636363,
          1991.6363636363637,
          1991.909090909091,
          1992.1818181818182,
          1992.4545454545455,
          1992.7272727272727,
          1993,
          1993.2727272727273,
          1993.5454545454545,
          1993.8181818181818,
          1994.090909090909,
          1994.3636363636363,
          1994.6363636363637,
          1994.909090909091,
          1995.1818181818182,
          1995.4545454545455,
          1995.7272727272727,
          1996,
          1996.2727272727273,
          1996.5454545454545,
          1996.8181818181818,
          1997.090909090909,
          1997.3636363636363,
          1997.6363636363637,
          1997.909090909091,
          1998.1818181818182,
          1998.4545454545455,
          1998.7272727272727,
          1999,
          1999.2727272727273,
          1999.5454545454545,
          1999.8181818181818,
          2000.090909090909,
          2000.3636363636363,
          2000.6363636363637,
          2000.909090909091,
          2001.1818181818182,
          2001.4545454545455,
          2001.7272727272727,
          2002,
          2002.2727272727273,
          2002.5454545454545,
          2002.8181818181818,
          2003.090909090909,
          2003.3636363636363,
          2003.6363636363637,
          2003.909090909091,
          2004.1818181818182,
          2004.4545454545455,
          2004.7272727272727,
          2005,
          2005.2727272727273,
          2005.5454545454545,
          2005.8181818181818,
          2006.090909090909,
          2006.3636363636363,
          2006.6363636363637,
          2006.909090909091,
          2007.1818181818182,
          2007.4545454545455,
          2007.7272727272727,
          2008,
          2008.2727272727273,
          2008.5454545454545,
          2008.8181818181818,
          2009.090909090909,
          2009.3636363636363,
          2009.6363636363637,
          2009.909090909091,
          2010.1818181818182,
          2010.4545454545455,
          2010.7272727272727,
          2011,
          2011.2727272727273,
          2011.5454545454545,
          2011.8181818181818,
          2012.090909090909,
          2012.3636363636363,
          2012.6363636363637,
          2012.909090909091,
          2013.1818181818182,
          2013.4545454545455,
          2013.7272727272727,
          2014,
          2014.2727272727273,
          2014.5454545454545,
          2014.8181818181818,
          2015.090909090909,
          2015.3636363636363,
          2015.6363636363637,
          2015.909090909091,
          2016.1818181818182,
          2016.4545454545455,
          2016.7272727272727,
          2017
         ],
         "y": [
          1175184999.9996986,
          1177570272.7272377,
          1179955545.4542885,
          1182340818.1813393,
          1184726090.9088783,
          1187111363.6364174,
          1189496636.3634682,
          1191881909.0910072,
          1194267181.818058,
          1196652454.545597,
          1199037727.2721596,
          1201423000.000187,
          1203808272.7272377,
          1206193545.4547768,
          1208578818.1813393,
          1210964090.9093666,
          1213349363.6364174,
          1215734636.3634682,
          1218119909.0910072,
          1220505181.818058,
          1222890454.545597,
          1225275727.2726479,
          1227661000.000187,
          1230046272.7272377,
          1232431545.4547768,
          1234816818.1818275,
          1237202090.9093666,
          1239587363.635929,
          1241972636.3639565,
          1244357909.0910072,
          1246743181.8185463,
          1249128454.545597,
          1251513727.2726479,
          1253899000.000187,
          1256284272.727726,
          1258669545.4547768,
          1261054818.1818275,
          1263440090.9093666,
          1265825363.6364174,
          1268210636.3639565,
          1270595909.0914955,
          1272981181.8185463,
          1275366454.5460854,
          1277751727.2726479,
          1280137000.0006752,
          1282522272.727726,
          1284907545.455265,
          1287292818.1818275,
          1289678090.909855,
          1292063363.6364174,
          1294448636.3639565,
          1296833909.0914955,
          1299219181.8185463,
          1301604454.5460854,
          1303989727.2726479,
          1306375000.0006752,
          1308760272.727726,
          1311145545.455265,
          1313530818.1818275,
          1315916090.909855,
          1318301363.6364174,
          1320686636.3644447,
          1323071909.0914955,
          1325457181.8190346,
          1327842454.5460854,
          1330227727.2731361,
          1332613000.0006752,
          1334998272.7282143,
          1337383545.455265,
          1339768818.1823158,
          1342154090.909855,
          1344539363.6369057,
          1346924636.3644447,
          1349309909.0914955,
          1351695181.8190346,
          1354080454.5465736,
          1356465727.2731361,
          1358851000.0006752,
          1361236272.7282143,
          1363621545.455265,
          1366006818.1823158,
          1368392090.909855,
          1370777363.6369057,
          1373162636.3644447,
          1375547909.0919838,
          1377933181.8190346,
          1380318454.5460854,
          1382703727.2731361,
          1385089000.0011635,
          1387474272.7282143,
          1389859545.4557533,
          1392244818.1823158,
          1394630090.9103432,
          1397015363.6369057,
          1399400636.364933,
          1401785909.0919838,
          1404171181.8190346,
          1406556454.5460854,
          1408941727.2736244,
          1411327000.0011635
         ]
        },
        {
         "line": {
          "color": "red",
          "dash": "dot"
         },
         "marker": {
          "size": 3
         },
         "name": "-epsilon",
         "type": "scatter",
         "x": [
          1990,
          1990.2727272727273,
          1990.5454545454545,
          1990.8181818181818,
          1991.090909090909,
          1991.3636363636363,
          1991.6363636363637,
          1991.909090909091,
          1992.1818181818182,
          1992.4545454545455,
          1992.7272727272727,
          1993,
          1993.2727272727273,
          1993.5454545454545,
          1993.8181818181818,
          1994.090909090909,
          1994.3636363636363,
          1994.6363636363637,
          1994.909090909091,
          1995.1818181818182,
          1995.4545454545455,
          1995.7272727272727,
          1996,
          1996.2727272727273,
          1996.5454545454545,
          1996.8181818181818,
          1997.090909090909,
          1997.3636363636363,
          1997.6363636363637,
          1997.909090909091,
          1998.1818181818182,
          1998.4545454545455,
          1998.7272727272727,
          1999,
          1999.2727272727273,
          1999.5454545454545,
          1999.8181818181818,
          2000.090909090909,
          2000.3636363636363,
          2000.6363636363637,
          2000.909090909091,
          2001.1818181818182,
          2001.4545454545455,
          2001.7272727272727,
          2002,
          2002.2727272727273,
          2002.5454545454545,
          2002.8181818181818,
          2003.090909090909,
          2003.3636363636363,
          2003.6363636363637,
          2003.909090909091,
          2004.1818181818182,
          2004.4545454545455,
          2004.7272727272727,
          2005,
          2005.2727272727273,
          2005.5454545454545,
          2005.8181818181818,
          2006.090909090909,
          2006.3636363636363,
          2006.6363636363637,
          2006.909090909091,
          2007.1818181818182,
          2007.4545454545455,
          2007.7272727272727,
          2008,
          2008.2727272727273,
          2008.5454545454545,
          2008.8181818181818,
          2009.090909090909,
          2009.3636363636363,
          2009.6363636363637,
          2009.909090909091,
          2010.1818181818182,
          2010.4545454545455,
          2010.7272727272727,
          2011,
          2011.2727272727273,
          2011.5454545454545,
          2011.8181818181818,
          2012.090909090909,
          2012.3636363636363,
          2012.6363636363637,
          2012.909090909091,
          2013.1818181818182,
          2013.4545454545455,
          2013.7272727272727,
          2014,
          2014.2727272727273,
          2014.5454545454545,
          2014.8181818181818,
          2015.090909090909,
          2015.3636363636363,
          2015.6363636363637,
          2015.909090909091,
          2016.1818181818182,
          2016.4545454545455,
          2016.7272727272727,
          2017
         ],
         "y": [
          1135184999.9996986,
          1137570272.7272377,
          1139955545.4542885,
          1142340818.1813393,
          1144726090.9088783,
          1147111363.6364174,
          1149496636.3634682,
          1151881909.0910072,
          1154267181.818058,
          1156652454.545597,
          1159037727.2721596,
          1161423000.000187,
          1163808272.7272377,
          1166193545.4547768,
          1168578818.1813393,
          1170964090.9093666,
          1173349363.6364174,
          1175734636.3634682,
          1178119909.0910072,
          1180505181.818058,
          1182890454.545597,
          1185275727.2726479,
          1187661000.000187,
          1190046272.7272377,
          1192431545.4547768,
          1194816818.1818275,
          1197202090.9093666,
          1199587363.635929,
          1201972636.3639565,
          1204357909.0910072,
          1206743181.8185463,
          1209128454.545597,
          1211513727.2726479,
          1213899000.000187,
          1216284272.727726,
          1218669545.4547768,
          1221054818.1818275,
          1223440090.9093666,
          1225825363.6364174,
          1228210636.3639565,
          1230595909.0914955,
          1232981181.8185463,
          1235366454.5460854,
          1237751727.2726479,
          1240137000.0006752,
          1242522272.727726,
          1244907545.455265,
          1247292818.1818275,
          1249678090.909855,
          1252063363.6364174,
          1254448636.3639565,
          1256833909.0914955,
          1259219181.8185463,
          1261604454.5460854,
          1263989727.2726479,
          1266375000.0006752,
          1268760272.727726,
          1271145545.455265,
          1273530818.1818275,
          1275916090.909855,
          1278301363.6364174,
          1280686636.3644447,
          1283071909.0914955,
          1285457181.8190346,
          1287842454.5460854,
          1290227727.2731361,
          1292613000.0006752,
          1294998272.7282143,
          1297383545.455265,
          1299768818.1823158,
          1302154090.909855,
          1304539363.6369057,
          1306924636.3644447,
          1309309909.0914955,
          1311695181.8190346,
          1314080454.5465736,
          1316465727.2731361,
          1318851000.0006752,
          1321236272.7282143,
          1323621545.455265,
          1326006818.1823158,
          1328392090.909855,
          1330777363.6369057,
          1333162636.3644447,
          1335547909.0919838,
          1337933181.8190346,
          1340318454.5460854,
          1342703727.2731361,
          1345089000.0011635,
          1347474272.7282143,
          1349859545.4557533,
          1352244818.1823158,
          1354630090.9103432,
          1357015363.6369057,
          1359400636.364933,
          1361785909.0919838,
          1364171181.8190346,
          1366556454.5460854,
          1368941727.2736244,
          1371327000.0011635
         ]
        }
       ],
       "layout": {
        "legend": {
         "tracegroupgap": 0
        },
        "margin": {
         "t": 60
        },
        "plot_bgcolor": "white",
        "template": {
         "data": {
          "bar": [
           {
            "error_x": {
             "color": "#2a3f5f"
            },
            "error_y": {
             "color": "#2a3f5f"
            },
            "marker": {
             "line": {
              "color": "#E5ECF6",
              "width": 0.5
             },
             "pattern": {
              "fillmode": "overlay",
              "size": 10,
              "solidity": 0.2
             }
            },
            "type": "bar"
           }
          ],
          "barpolar": [
           {
            "marker": {
             "line": {
              "color": "#E5ECF6",
              "width": 0.5
             },
             "pattern": {
              "fillmode": "overlay",
              "size": 10,
              "solidity": 0.2
             }
            },
            "type": "barpolar"
           }
          ],
          "carpet": [
           {
            "aaxis": {
             "endlinecolor": "#2a3f5f",
             "gridcolor": "white",
             "linecolor": "white",
             "minorgridcolor": "white",
             "startlinecolor": "#2a3f5f"
            },
            "baxis": {
             "endlinecolor": "#2a3f5f",
             "gridcolor": "white",
             "linecolor": "white",
             "minorgridcolor": "white",
             "startlinecolor": "#2a3f5f"
            },
            "type": "carpet"
           }
          ],
          "choropleth": [
           {
            "colorbar": {
             "outlinewidth": 0,
             "ticks": ""
            },
            "type": "choropleth"
           }
          ],
          "contour": [
           {
            "colorbar": {
             "outlinewidth": 0,
             "ticks": ""
            },
            "colorscale": [
             [
              0,
              "#0d0887"
             ],
             [
              0.1111111111111111,
              "#46039f"
             ],
             [
              0.2222222222222222,
              "#7201a8"
             ],
             [
              0.3333333333333333,
              "#9c179e"
             ],
             [
              0.4444444444444444,
              "#bd3786"
             ],
             [
              0.5555555555555556,
              "#d8576b"
             ],
             [
              0.6666666666666666,
              "#ed7953"
             ],
             [
              0.7777777777777778,
              "#fb9f3a"
             ],
             [
              0.8888888888888888,
              "#fdca26"
             ],
             [
              1,
              "#f0f921"
             ]
            ],
            "type": "contour"
           }
          ],
          "contourcarpet": [
           {
            "colorbar": {
             "outlinewidth": 0,
             "ticks": ""
            },
            "type": "contourcarpet"
           }
          ],
          "heatmap": [
           {
            "colorbar": {
             "outlinewidth": 0,
             "ticks": ""
            },
            "colorscale": [
             [
              0,
              "#0d0887"
             ],
             [
              0.1111111111111111,
              "#46039f"
             ],
             [
              0.2222222222222222,
              "#7201a8"
             ],
             [
              0.3333333333333333,
              "#9c179e"
             ],
             [
              0.4444444444444444,
              "#bd3786"
             ],
             [
              0.5555555555555556,
              "#d8576b"
             ],
             [
              0.6666666666666666,
              "#ed7953"
             ],
             [
              0.7777777777777778,
              "#fb9f3a"
             ],
             [
              0.8888888888888888,
              "#fdca26"
             ],
             [
              1,
              "#f0f921"
             ]
            ],
            "type": "heatmap"
           }
          ],
          "heatmapgl": [
           {
            "colorbar": {
             "outlinewidth": 0,
             "ticks": ""
            },
            "colorscale": [
             [
              0,
              "#0d0887"
             ],
             [
              0.1111111111111111,
              "#46039f"
             ],
             [
              0.2222222222222222,
              "#7201a8"
             ],
             [
              0.3333333333333333,
              "#9c179e"
             ],
             [
              0.4444444444444444,
              "#bd3786"
             ],
             [
              0.5555555555555556,
              "#d8576b"
             ],
             [
              0.6666666666666666,
              "#ed7953"
             ],
             [
              0.7777777777777778,
              "#fb9f3a"
             ],
             [
              0.8888888888888888,
              "#fdca26"
             ],
             [
              1,
              "#f0f921"
             ]
            ],
            "type": "heatmapgl"
           }
          ],
          "histogram": [
           {
            "marker": {
             "pattern": {
              "fillmode": "overlay",
              "size": 10,
              "solidity": 0.2
             }
            },
            "type": "histogram"
           }
          ],
          "histogram2d": [
           {
            "colorbar": {
             "outlinewidth": 0,
             "ticks": ""
            },
            "colorscale": [
             [
              0,
              "#0d0887"
             ],
             [
              0.1111111111111111,
              "#46039f"
             ],
             [
              0.2222222222222222,
              "#7201a8"
             ],
             [
              0.3333333333333333,
              "#9c179e"
             ],
             [
              0.4444444444444444,
              "#bd3786"
             ],
             [
              0.5555555555555556,
              "#d8576b"
             ],
             [
              0.6666666666666666,
              "#ed7953"
             ],
             [
              0.7777777777777778,
              "#fb9f3a"
             ],
             [
              0.8888888888888888,
              "#fdca26"
             ],
             [
              1,
              "#f0f921"
             ]
            ],
            "type": "histogram2d"
           }
          ],
          "histogram2dcontour": [
           {
            "colorbar": {
             "outlinewidth": 0,
             "ticks": ""
            },
            "colorscale": [
             [
              0,
              "#0d0887"
             ],
             [
              0.1111111111111111,
              "#46039f"
             ],
             [
              0.2222222222222222,
              "#7201a8"
             ],
             [
              0.3333333333333333,
              "#9c179e"
             ],
             [
              0.4444444444444444,
              "#bd3786"
             ],
             [
              0.5555555555555556,
              "#d8576b"
             ],
             [
              0.6666666666666666,
              "#ed7953"
             ],
             [
              0.7777777777777778,
              "#fb9f3a"
             ],
             [
              0.8888888888888888,
              "#fdca26"
             ],
             [
              1,
              "#f0f921"
             ]
            ],
            "type": "histogram2dcontour"
           }
          ],
          "mesh3d": [
           {
            "colorbar": {
             "outlinewidth": 0,
             "ticks": ""
            },
            "type": "mesh3d"
           }
          ],
          "parcoords": [
           {
            "line": {
             "colorbar": {
              "outlinewidth": 0,
              "ticks": ""
             }
            },
            "type": "parcoords"
           }
          ],
          "pie": [
           {
            "automargin": true,
            "type": "pie"
           }
          ],
          "scatter": [
           {
            "marker": {
             "colorbar": {
              "outlinewidth": 0,
              "ticks": ""
             }
            },
            "type": "scatter"
           }
          ],
          "scatter3d": [
           {
            "line": {
             "colorbar": {
              "outlinewidth": 0,
              "ticks": ""
             }
            },
            "marker": {
             "colorbar": {
              "outlinewidth": 0,
              "ticks": ""
             }
            },
            "type": "scatter3d"
           }
          ],
          "scattercarpet": [
           {
            "marker": {
             "colorbar": {
              "outlinewidth": 0,
              "ticks": ""
             }
            },
            "type": "scattercarpet"
           }
          ],
          "scattergeo": [
           {
            "marker": {
             "colorbar": {
              "outlinewidth": 0,
              "ticks": ""
             }
            },
            "type": "scattergeo"
           }
          ],
          "scattergl": [
           {
            "marker": {
             "colorbar": {
              "outlinewidth": 0,
              "ticks": ""
             }
            },
            "type": "scattergl"
           }
          ],
          "scattermapbox": [
           {
            "marker": {
             "colorbar": {
              "outlinewidth": 0,
              "ticks": ""
             }
            },
            "type": "scattermapbox"
           }
          ],
          "scatterpolar": [
           {
            "marker": {
             "colorbar": {
              "outlinewidth": 0,
              "ticks": ""
             }
            },
            "type": "scatterpolar"
           }
          ],
          "scatterpolargl": [
           {
            "marker": {
             "colorbar": {
              "outlinewidth": 0,
              "ticks": ""
             }
            },
            "type": "scatterpolargl"
           }
          ],
          "scatterternary": [
           {
            "marker": {
             "colorbar": {
              "outlinewidth": 0,
              "ticks": ""
             }
            },
            "type": "scatterternary"
           }
          ],
          "surface": [
           {
            "colorbar": {
             "outlinewidth": 0,
             "ticks": ""
            },
            "colorscale": [
             [
              0,
              "#0d0887"
             ],
             [
              0.1111111111111111,
              "#46039f"
             ],
             [
              0.2222222222222222,
              "#7201a8"
             ],
             [
              0.3333333333333333,
              "#9c179e"
             ],
             [
              0.4444444444444444,
              "#bd3786"
             ],
             [
              0.5555555555555556,
              "#d8576b"
             ],
             [
              0.6666666666666666,
              "#ed7953"
             ],
             [
              0.7777777777777778,
              "#fb9f3a"
             ],
             [
              0.8888888888888888,
              "#fdca26"
             ],
             [
              1,
              "#f0f921"
             ]
            ],
            "type": "surface"
           }
          ],
          "table": [
           {
            "cells": {
             "fill": {
              "color": "#EBF0F8"
             },
             "line": {
              "color": "white"
             }
            },
            "header": {
             "fill": {
              "color": "#C8D4E3"
             },
             "line": {
              "color": "white"
             }
            },
            "type": "table"
           }
          ]
         },
         "layout": {
          "annotationdefaults": {
           "arrowcolor": "#2a3f5f",
           "arrowhead": 0,
           "arrowwidth": 1
          },
          "autotypenumbers": "strict",
          "coloraxis": {
           "colorbar": {
            "outlinewidth": 0,
            "ticks": ""
           }
          },
          "colorscale": {
           "diverging": [
            [
             0,
             "#8e0152"
            ],
            [
             0.1,
             "#c51b7d"
            ],
            [
             0.2,
             "#de77ae"
            ],
            [
             0.3,
             "#f1b6da"
            ],
            [
             0.4,
             "#fde0ef"
            ],
            [
             0.5,
             "#f7f7f7"
            ],
            [
             0.6,
             "#e6f5d0"
            ],
            [
             0.7,
             "#b8e186"
            ],
            [
             0.8,
             "#7fbc41"
            ],
            [
             0.9,
             "#4d9221"
            ],
            [
             1,
             "#276419"
            ]
           ],
           "sequential": [
            [
             0,
             "#0d0887"
            ],
            [
             0.1111111111111111,
             "#46039f"
            ],
            [
             0.2222222222222222,
             "#7201a8"
            ],
            [
             0.3333333333333333,
             "#9c179e"
            ],
            [
             0.4444444444444444,
             "#bd3786"
            ],
            [
             0.5555555555555556,
             "#d8576b"
            ],
            [
             0.6666666666666666,
             "#ed7953"
            ],
            [
             0.7777777777777778,
             "#fb9f3a"
            ],
            [
             0.8888888888888888,
             "#fdca26"
            ],
            [
             1,
             "#f0f921"
            ]
           ],
           "sequentialminus": [
            [
             0,
             "#0d0887"
            ],
            [
             0.1111111111111111,
             "#46039f"
            ],
            [
             0.2222222222222222,
             "#7201a8"
            ],
            [
             0.3333333333333333,
             "#9c179e"
            ],
            [
             0.4444444444444444,
             "#bd3786"
            ],
            [
             0.5555555555555556,
             "#d8576b"
            ],
            [
             0.6666666666666666,
             "#ed7953"
            ],
            [
             0.7777777777777778,
             "#fb9f3a"
            ],
            [
             0.8888888888888888,
             "#fdca26"
            ],
            [
             1,
             "#f0f921"
            ]
           ]
          },
          "colorway": [
           "#636efa",
           "#EF553B",
           "#00cc96",
           "#ab63fa",
           "#FFA15A",
           "#19d3f3",
           "#FF6692",
           "#B6E880",
           "#FF97FF",
           "#FECB52"
          ],
          "font": {
           "color": "#2a3f5f"
          },
          "geo": {
           "bgcolor": "white",
           "lakecolor": "white",
           "landcolor": "#E5ECF6",
           "showlakes": true,
           "showland": true,
           "subunitcolor": "white"
          },
          "hoverlabel": {
           "align": "left"
          },
          "hovermode": "closest",
          "mapbox": {
           "style": "light"
          },
          "paper_bgcolor": "white",
          "plot_bgcolor": "#E5ECF6",
          "polar": {
           "angularaxis": {
            "gridcolor": "white",
            "linecolor": "white",
            "ticks": ""
           },
           "bgcolor": "#E5ECF6",
           "radialaxis": {
            "gridcolor": "white",
            "linecolor": "white",
            "ticks": ""
           }
          },
          "scene": {
           "xaxis": {
            "backgroundcolor": "#E5ECF6",
            "gridcolor": "white",
            "gridwidth": 2,
            "linecolor": "white",
            "showbackground": true,
            "ticks": "",
            "zerolinecolor": "white"
           },
           "yaxis": {
            "backgroundcolor": "#E5ECF6",
            "gridcolor": "white",
            "gridwidth": 2,
            "linecolor": "white",
            "showbackground": true,
            "ticks": "",
            "zerolinecolor": "white"
           },
           "zaxis": {
            "backgroundcolor": "#E5ECF6",
            "gridcolor": "white",
            "gridwidth": 2,
            "linecolor": "white",
            "showbackground": true,
            "ticks": "",
            "zerolinecolor": "white"
           }
          },
          "shapedefaults": {
           "line": {
            "color": "#2a3f5f"
           }
          },
          "ternary": {
           "aaxis": {
            "gridcolor": "white",
            "linecolor": "white",
            "ticks": ""
           },
           "baxis": {
            "gridcolor": "white",
            "linecolor": "white",
            "ticks": ""
           },
           "bgcolor": "#E5ECF6",
           "caxis": {
            "gridcolor": "white",
            "linecolor": "white",
            "ticks": ""
           }
          },
          "title": {
           "x": 0.05
          },
          "xaxis": {
           "automargin": true,
           "gridcolor": "white",
           "linecolor": "white",
           "ticks": "",
           "title": {
            "standoff": 15
           },
           "zerolinecolor": "white",
           "zerolinewidth": 2
          },
          "yaxis": {
           "automargin": true,
           "gridcolor": "white",
           "linecolor": "white",
           "ticks": "",
           "title": {
            "standoff": 15
           },
           "zerolinecolor": "white",
           "zerolinewidth": 2
          }
         }
        },
        "title": {
         "font": {
          "color": "black"
         },
         "text": "Population in China (epsilon=20000000, C=1000000000)"
        },
        "xaxis": {
         "anchor": "y",
         "domain": [
          0,
          1
         ],
         "gridcolor": "lightgrey",
         "gridwidth": 1,
         "linecolor": "black",
         "linewidth": 1,
         "showgrid": true,
         "showline": true,
         "title": {
          "text": "Year"
         },
         "zeroline": true,
         "zerolinecolor": "lightgrey",
         "zerolinewidth": 1
        },
        "yaxis": {
         "anchor": "x",
         "domain": [
          0,
          1
         ],
         "gridcolor": "lightgrey",
         "gridwidth": 1,
         "linecolor": "black",
         "linewidth": 1,
         "showgrid": true,
         "showline": true,
         "title": {
          "text": "Population"
         },
         "zeroline": true,
         "zerolinecolor": "lightgrey",
         "zerolinewidth": 1
        }
       }
      },
      "text/html": [
       "<div>                            <div id=\"9542886a-1e15-40de-9643-34e3bb3aaa78\" class=\"plotly-graph-div\" style=\"height:525px; width:100%;\"></div>            <script type=\"text/javascript\">                require([\"plotly\"], function(Plotly) {                    window.PLOTLYENV=window.PLOTLYENV || {};                                    if (document.getElementById(\"9542886a-1e15-40de-9643-34e3bb3aaa78\")) {                    Plotly.newPlot(                        \"9542886a-1e15-40de-9643-34e3bb3aaa78\",                        [{\"hovertemplate\":\"Year=%{x}<br>Population=%{y}<extra></extra>\",\"legendgroup\":\"\",\"marker\":{\"color\":\"black\",\"opacity\":0.8,\"symbol\":\"circle\",\"size\":3},\"mode\":\"markers\",\"name\":\"\",\"orientation\":\"v\",\"showlegend\":false,\"x\":[1990,1991,1992,1993,1994,1995,1996,1997,1998,1999,2000,2001,2002,2003,2004,2005,2006,2007,2008,2009,2010,2011,2012,2013,2014,2015,2016,2017],\"xaxis\":\"x\",\"y\":[1135185000,1150780000,1164970000,1178440000,1191835000,1204855000,1217550000,1230075000,1241935000,1252735000,1262645000,1271850000,1280400000,1288400000,1296075000,1303720000,1311020000,1317885000,1324655000,1331260000,1337705000,1344130000,1350695000,1357380000,1364270000,1371220000,1378665000,1386395000],\"yaxis\":\"y\",\"type\":\"scatter\"},{\"line\":{\"color\":\"limegreen\"},\"name\":\"Linear Regression\",\"x\":[1990.0,1990.2727272727273,1990.5454545454545,1990.8181818181818,1991.090909090909,1991.3636363636363,1991.6363636363637,1991.909090909091,1992.1818181818182,1992.4545454545455,1992.7272727272727,1993.0,1993.2727272727273,1993.5454545454545,1993.8181818181818,1994.090909090909,1994.3636363636363,1994.6363636363637,1994.909090909091,1995.1818181818182,1995.4545454545455,1995.7272727272727,1996.0,1996.2727272727273,1996.5454545454545,1996.8181818181818,1997.090909090909,1997.3636363636363,1997.6363636363637,1997.909090909091,1998.1818181818182,1998.4545454545455,1998.7272727272727,1999.0,1999.2727272727273,1999.5454545454545,1999.8181818181818,2000.090909090909,2000.3636363636363,2000.6363636363637,2000.909090909091,2001.1818181818182,2001.4545454545455,2001.7272727272727,2002.0,2002.2727272727273,2002.5454545454545,2002.8181818181818,2003.090909090909,2003.3636363636363,2003.6363636363637,2003.909090909091,2004.1818181818182,2004.4545454545455,2004.7272727272727,2005.0,2005.2727272727273,2005.5454545454545,2005.8181818181818,2006.090909090909,2006.3636363636363,2006.6363636363637,2006.909090909091,2007.1818181818182,2007.4545454545455,2007.7272727272727,2008.0,2008.2727272727273,2008.5454545454545,2008.8181818181818,2009.090909090909,2009.3636363636363,2009.6363636363637,2009.909090909091,2010.1818181818182,2010.4545454545455,2010.7272727272727,2011.0,2011.2727272727273,2011.5454545454545,2011.8181818181818,2012.090909090909,2012.3636363636363,2012.6363636363637,2012.909090909091,2013.1818181818182,2013.4545454545455,2013.7272727272727,2014.0,2014.2727272727273,2014.5454545454545,2014.8181818181818,2015.090909090909,2015.3636363636363,2015.6363636363637,2015.909090909091,2016.1818181818182,2016.4545454545455,2016.7272727272727,2017.0],\"y\":[1155368837.3228035,1157884064.1325378,1160399290.9422684,1162914517.751999,1165429744.5617332,1167944971.3714638,1170460198.1811981,1172975424.9909286,1175490651.800663,1178005878.6103935,1180521105.4201279,1183036332.2298584,1185551559.039589,1188066785.8493233,1190582012.6590538,1193097239.4687843,1195612466.2785187,1198127693.088253,1200642919.8979836,1203158146.707718,1205673373.5174484,1208188600.327179,1210703827.1369133,1213219053.9466438,1215734280.7563744,1218249507.5661087,1220764734.3758392,1223279961.1855736,1225795187.995304,1228310414.8050385,1230825641.614769,1233340868.4245033,1235856095.2342339,1238371322.0439644,1240886548.8536987,1243401775.6634293,1245917002.4731598,1248432229.2828941,1250947456.0926247,1253462682.902359,1255977909.7120934,1258493136.521824,1261008363.3315544,1263523590.1412888,1266038816.9510193,1268554043.7607498,1271069270.5704842,1273584497.3802147,1276099724.189949,1278614950.9996796,1281130177.809414,1283645404.6191444,1286160631.4288788,1288675858.2386093,1291191085.0483398,1293706311.8580742,1296221538.6678047,1298736765.477539,1301251992.2872696,1303767219.0970001,1306282445.9067345,1308797672.7164688,1311312899.5261993,1313828126.3359299,1316343353.1456642,1318858579.9553947,1321373806.7651253,1323889033.5748596,1326404260.3845901,1328919487.1943245,1331434714.004055,1333949940.8137856,1336465167.62352,1338980394.4332542,1341495621.2429848,1344010848.0527153,1346526074.8624496,1349041301.6721802,1351556528.4819145,1354071755.291645,1356586982.1013756,1359102208.91111,1361617435.7208405,1364132662.5305748,1366647889.3403053,1369163116.1500397,1371678342.9597702,1374193569.7695007,1376708796.579235,1379224023.3889656,1381739250.1987,1384254477.0084305,1386769703.818161,1389284930.6278954,1391800157.4376297,1394315384.2473602,1396830611.0570908,1399345837.866825,1401861064.6765556,1404376291.48629],\"type\":\"scatter\",\"marker\":{\"size\":3}},{\"line\":{\"color\":\"red\"},\"name\":\"Support Vector Regression\",\"x\":[1990.0,1990.2727272727273,1990.5454545454545,1990.8181818181818,1991.090909090909,1991.3636363636363,1991.6363636363637,1991.909090909091,1992.1818181818182,1992.4545454545455,1992.7272727272727,1993.0,1993.2727272727273,1993.5454545454545,1993.8181818181818,1994.090909090909,1994.3636363636363,1994.6363636363637,1994.909090909091,1995.1818181818182,1995.4545454545455,1995.7272727272727,1996.0,1996.2727272727273,1996.5454545454545,1996.8181818181818,1997.090909090909,1997.3636363636363,1997.6363636363637,1997.909090909091,1998.1818181818182,1998.4545454545455,1998.7272727272727,1999.0,1999.2727272727273,1999.5454545454545,1999.8181818181818,2000.090909090909,2000.3636363636363,2000.6363636363637,2000.909090909091,2001.1818181818182,2001.4545454545455,2001.7272727272727,2002.0,2002.2727272727273,2002.5454545454545,2002.8181818181818,2003.090909090909,2003.3636363636363,2003.6363636363637,2003.909090909091,2004.1818181818182,2004.4545454545455,2004.7272727272727,2005.0,2005.2727272727273,2005.5454545454545,2005.8181818181818,2006.090909090909,2006.3636363636363,2006.6363636363637,2006.909090909091,2007.1818181818182,2007.4545454545455,2007.7272727272727,2008.0,2008.2727272727273,2008.5454545454545,2008.8181818181818,2009.090909090909,2009.3636363636363,2009.6363636363637,2009.909090909091,2010.1818181818182,2010.4545454545455,2010.7272727272727,2011.0,2011.2727272727273,2011.5454545454545,2011.8181818181818,2012.090909090909,2012.3636363636363,2012.6363636363637,2012.909090909091,2013.1818181818182,2013.4545454545455,2013.7272727272727,2014.0,2014.2727272727273,2014.5454545454545,2014.8181818181818,2015.090909090909,2015.3636363636363,2015.6363636363637,2015.909090909091,2016.1818181818182,2016.4545454545455,2016.7272727272727,2017.0],\"y\":[1155184999.9996986,1157570272.7272377,1159955545.4542885,1162340818.1813393,1164726090.9088783,1167111363.6364174,1169496636.3634682,1171881909.0910072,1174267181.818058,1176652454.545597,1179037727.2721596,1181423000.000187,1183808272.7272377,1186193545.4547768,1188578818.1813393,1190964090.9093666,1193349363.6364174,1195734636.3634682,1198119909.0910072,1200505181.818058,1202890454.545597,1205275727.2726479,1207661000.000187,1210046272.7272377,1212431545.4547768,1214816818.1818275,1217202090.9093666,1219587363.635929,1221972636.3639565,1224357909.0910072,1226743181.8185463,1229128454.545597,1231513727.2726479,1233899000.000187,1236284272.727726,1238669545.4547768,1241054818.1818275,1243440090.9093666,1245825363.6364174,1248210636.3639565,1250595909.0914955,1252981181.8185463,1255366454.5460854,1257751727.2726479,1260137000.0006752,1262522272.727726,1264907545.455265,1267292818.1818275,1269678090.909855,1272063363.6364174,1274448636.3639565,1276833909.0914955,1279219181.8185463,1281604454.5460854,1283989727.2726479,1286375000.0006752,1288760272.727726,1291145545.455265,1293530818.1818275,1295916090.909855,1298301363.6364174,1300686636.3644447,1303071909.0914955,1305457181.8190346,1307842454.5460854,1310227727.2731361,1312613000.0006752,1314998272.7282143,1317383545.455265,1319768818.1823158,1322154090.909855,1324539363.6369057,1326924636.3644447,1329309909.0914955,1331695181.8190346,1334080454.5465736,1336465727.2731361,1338851000.0006752,1341236272.7282143,1343621545.455265,1346006818.1823158,1348392090.909855,1350777363.6369057,1353162636.3644447,1355547909.0919838,1357933181.8190346,1360318454.5460854,1362703727.2731361,1365089000.0011635,1367474272.7282143,1369859545.4557533,1372244818.1823158,1374630090.9103432,1377015363.6369057,1379400636.364933,1381785909.0919838,1384171181.8190346,1386556454.5460854,1388941727.2736244,1391327000.0011635],\"type\":\"scatter\",\"marker\":{\"size\":3}},{\"line\":{\"color\":\"red\",\"dash\":\"dot\"},\"name\":\"+epsilon\",\"x\":[1990.0,1990.2727272727273,1990.5454545454545,1990.8181818181818,1991.090909090909,1991.3636363636363,1991.6363636363637,1991.909090909091,1992.1818181818182,1992.4545454545455,1992.7272727272727,1993.0,1993.2727272727273,1993.5454545454545,1993.8181818181818,1994.090909090909,1994.3636363636363,1994.6363636363637,1994.909090909091,1995.1818181818182,1995.4545454545455,1995.7272727272727,1996.0,1996.2727272727273,1996.5454545454545,1996.8181818181818,1997.090909090909,1997.3636363636363,1997.6363636363637,1997.909090909091,1998.1818181818182,1998.4545454545455,1998.7272727272727,1999.0,1999.2727272727273,1999.5454545454545,1999.8181818181818,2000.090909090909,2000.3636363636363,2000.6363636363637,2000.909090909091,2001.1818181818182,2001.4545454545455,2001.7272727272727,2002.0,2002.2727272727273,2002.5454545454545,2002.8181818181818,2003.090909090909,2003.3636363636363,2003.6363636363637,2003.909090909091,2004.1818181818182,2004.4545454545455,2004.7272727272727,2005.0,2005.2727272727273,2005.5454545454545,2005.8181818181818,2006.090909090909,2006.3636363636363,2006.6363636363637,2006.909090909091,2007.1818181818182,2007.4545454545455,2007.7272727272727,2008.0,2008.2727272727273,2008.5454545454545,2008.8181818181818,2009.090909090909,2009.3636363636363,2009.6363636363637,2009.909090909091,2010.1818181818182,2010.4545454545455,2010.7272727272727,2011.0,2011.2727272727273,2011.5454545454545,2011.8181818181818,2012.090909090909,2012.3636363636363,2012.6363636363637,2012.909090909091,2013.1818181818182,2013.4545454545455,2013.7272727272727,2014.0,2014.2727272727273,2014.5454545454545,2014.8181818181818,2015.090909090909,2015.3636363636363,2015.6363636363637,2015.909090909091,2016.1818181818182,2016.4545454545455,2016.7272727272727,2017.0],\"y\":[1175184999.9996986,1177570272.7272377,1179955545.4542885,1182340818.1813393,1184726090.9088783,1187111363.6364174,1189496636.3634682,1191881909.0910072,1194267181.818058,1196652454.545597,1199037727.2721596,1201423000.000187,1203808272.7272377,1206193545.4547768,1208578818.1813393,1210964090.9093666,1213349363.6364174,1215734636.3634682,1218119909.0910072,1220505181.818058,1222890454.545597,1225275727.2726479,1227661000.000187,1230046272.7272377,1232431545.4547768,1234816818.1818275,1237202090.9093666,1239587363.635929,1241972636.3639565,1244357909.0910072,1246743181.8185463,1249128454.545597,1251513727.2726479,1253899000.000187,1256284272.727726,1258669545.4547768,1261054818.1818275,1263440090.9093666,1265825363.6364174,1268210636.3639565,1270595909.0914955,1272981181.8185463,1275366454.5460854,1277751727.2726479,1280137000.0006752,1282522272.727726,1284907545.455265,1287292818.1818275,1289678090.909855,1292063363.6364174,1294448636.3639565,1296833909.0914955,1299219181.8185463,1301604454.5460854,1303989727.2726479,1306375000.0006752,1308760272.727726,1311145545.455265,1313530818.1818275,1315916090.909855,1318301363.6364174,1320686636.3644447,1323071909.0914955,1325457181.8190346,1327842454.5460854,1330227727.2731361,1332613000.0006752,1334998272.7282143,1337383545.455265,1339768818.1823158,1342154090.909855,1344539363.6369057,1346924636.3644447,1349309909.0914955,1351695181.8190346,1354080454.5465736,1356465727.2731361,1358851000.0006752,1361236272.7282143,1363621545.455265,1366006818.1823158,1368392090.909855,1370777363.6369057,1373162636.3644447,1375547909.0919838,1377933181.8190346,1380318454.5460854,1382703727.2731361,1385089000.0011635,1387474272.7282143,1389859545.4557533,1392244818.1823158,1394630090.9103432,1397015363.6369057,1399400636.364933,1401785909.0919838,1404171181.8190346,1406556454.5460854,1408941727.2736244,1411327000.0011635],\"type\":\"scatter\",\"marker\":{\"size\":3}},{\"line\":{\"color\":\"red\",\"dash\":\"dot\"},\"name\":\"-epsilon\",\"x\":[1990.0,1990.2727272727273,1990.5454545454545,1990.8181818181818,1991.090909090909,1991.3636363636363,1991.6363636363637,1991.909090909091,1992.1818181818182,1992.4545454545455,1992.7272727272727,1993.0,1993.2727272727273,1993.5454545454545,1993.8181818181818,1994.090909090909,1994.3636363636363,1994.6363636363637,1994.909090909091,1995.1818181818182,1995.4545454545455,1995.7272727272727,1996.0,1996.2727272727273,1996.5454545454545,1996.8181818181818,1997.090909090909,1997.3636363636363,1997.6363636363637,1997.909090909091,1998.1818181818182,1998.4545454545455,1998.7272727272727,1999.0,1999.2727272727273,1999.5454545454545,1999.8181818181818,2000.090909090909,2000.3636363636363,2000.6363636363637,2000.909090909091,2001.1818181818182,2001.4545454545455,2001.7272727272727,2002.0,2002.2727272727273,2002.5454545454545,2002.8181818181818,2003.090909090909,2003.3636363636363,2003.6363636363637,2003.909090909091,2004.1818181818182,2004.4545454545455,2004.7272727272727,2005.0,2005.2727272727273,2005.5454545454545,2005.8181818181818,2006.090909090909,2006.3636363636363,2006.6363636363637,2006.909090909091,2007.1818181818182,2007.4545454545455,2007.7272727272727,2008.0,2008.2727272727273,2008.5454545454545,2008.8181818181818,2009.090909090909,2009.3636363636363,2009.6363636363637,2009.909090909091,2010.1818181818182,2010.4545454545455,2010.7272727272727,2011.0,2011.2727272727273,2011.5454545454545,2011.8181818181818,2012.090909090909,2012.3636363636363,2012.6363636363637,2012.909090909091,2013.1818181818182,2013.4545454545455,2013.7272727272727,2014.0,2014.2727272727273,2014.5454545454545,2014.8181818181818,2015.090909090909,2015.3636363636363,2015.6363636363637,2015.909090909091,2016.1818181818182,2016.4545454545455,2016.7272727272727,2017.0],\"y\":[1135184999.9996986,1137570272.7272377,1139955545.4542885,1142340818.1813393,1144726090.9088783,1147111363.6364174,1149496636.3634682,1151881909.0910072,1154267181.818058,1156652454.545597,1159037727.2721596,1161423000.000187,1163808272.7272377,1166193545.4547768,1168578818.1813393,1170964090.9093666,1173349363.6364174,1175734636.3634682,1178119909.0910072,1180505181.818058,1182890454.545597,1185275727.2726479,1187661000.000187,1190046272.7272377,1192431545.4547768,1194816818.1818275,1197202090.9093666,1199587363.635929,1201972636.3639565,1204357909.0910072,1206743181.8185463,1209128454.545597,1211513727.2726479,1213899000.000187,1216284272.727726,1218669545.4547768,1221054818.1818275,1223440090.9093666,1225825363.6364174,1228210636.3639565,1230595909.0914955,1232981181.8185463,1235366454.5460854,1237751727.2726479,1240137000.0006752,1242522272.727726,1244907545.455265,1247292818.1818275,1249678090.909855,1252063363.6364174,1254448636.3639565,1256833909.0914955,1259219181.8185463,1261604454.5460854,1263989727.2726479,1266375000.0006752,1268760272.727726,1271145545.455265,1273530818.1818275,1275916090.909855,1278301363.6364174,1280686636.3644447,1283071909.0914955,1285457181.8190346,1287842454.5460854,1290227727.2731361,1292613000.0006752,1294998272.7282143,1297383545.455265,1299768818.1823158,1302154090.909855,1304539363.6369057,1306924636.3644447,1309309909.0914955,1311695181.8190346,1314080454.5465736,1316465727.2731361,1318851000.0006752,1321236272.7282143,1323621545.455265,1326006818.1823158,1328392090.909855,1330777363.6369057,1333162636.3644447,1335547909.0919838,1337933181.8190346,1340318454.5460854,1342703727.2731361,1345089000.0011635,1347474272.7282143,1349859545.4557533,1352244818.1823158,1354630090.9103432,1357015363.6369057,1359400636.364933,1361785909.0919838,1364171181.8190346,1366556454.5460854,1368941727.2736244,1371327000.0011635],\"type\":\"scatter\",\"marker\":{\"size\":3}}],                        {\"template\":{\"data\":{\"bar\":[{\"error_x\":{\"color\":\"#2a3f5f\"},\"error_y\":{\"color\":\"#2a3f5f\"},\"marker\":{\"line\":{\"color\":\"#E5ECF6\",\"width\":0.5},\"pattern\":{\"fillmode\":\"overlay\",\"size\":10,\"solidity\":0.2}},\"type\":\"bar\"}],\"barpolar\":[{\"marker\":{\"line\":{\"color\":\"#E5ECF6\",\"width\":0.5},\"pattern\":{\"fillmode\":\"overlay\",\"size\":10,\"solidity\":0.2}},\"type\":\"barpolar\"}],\"carpet\":[{\"aaxis\":{\"endlinecolor\":\"#2a3f5f\",\"gridcolor\":\"white\",\"linecolor\":\"white\",\"minorgridcolor\":\"white\",\"startlinecolor\":\"#2a3f5f\"},\"baxis\":{\"endlinecolor\":\"#2a3f5f\",\"gridcolor\":\"white\",\"linecolor\":\"white\",\"minorgridcolor\":\"white\",\"startlinecolor\":\"#2a3f5f\"},\"type\":\"carpet\"}],\"choropleth\":[{\"colorbar\":{\"outlinewidth\":0,\"ticks\":\"\"},\"type\":\"choropleth\"}],\"contour\":[{\"colorbar\":{\"outlinewidth\":0,\"ticks\":\"\"},\"colorscale\":[[0.0,\"#0d0887\"],[0.1111111111111111,\"#46039f\"],[0.2222222222222222,\"#7201a8\"],[0.3333333333333333,\"#9c179e\"],[0.4444444444444444,\"#bd3786\"],[0.5555555555555556,\"#d8576b\"],[0.6666666666666666,\"#ed7953\"],[0.7777777777777778,\"#fb9f3a\"],[0.8888888888888888,\"#fdca26\"],[1.0,\"#f0f921\"]],\"type\":\"contour\"}],\"contourcarpet\":[{\"colorbar\":{\"outlinewidth\":0,\"ticks\":\"\"},\"type\":\"contourcarpet\"}],\"heatmap\":[{\"colorbar\":{\"outlinewidth\":0,\"ticks\":\"\"},\"colorscale\":[[0.0,\"#0d0887\"],[0.1111111111111111,\"#46039f\"],[0.2222222222222222,\"#7201a8\"],[0.3333333333333333,\"#9c179e\"],[0.4444444444444444,\"#bd3786\"],[0.5555555555555556,\"#d8576b\"],[0.6666666666666666,\"#ed7953\"],[0.7777777777777778,\"#fb9f3a\"],[0.8888888888888888,\"#fdca26\"],[1.0,\"#f0f921\"]],\"type\":\"heatmap\"}],\"heatmapgl\":[{\"colorbar\":{\"outlinewidth\":0,\"ticks\":\"\"},\"colorscale\":[[0.0,\"#0d0887\"],[0.1111111111111111,\"#46039f\"],[0.2222222222222222,\"#7201a8\"],[0.3333333333333333,\"#9c179e\"],[0.4444444444444444,\"#bd3786\"],[0.5555555555555556,\"#d8576b\"],[0.6666666666666666,\"#ed7953\"],[0.7777777777777778,\"#fb9f3a\"],[0.8888888888888888,\"#fdca26\"],[1.0,\"#f0f921\"]],\"type\":\"heatmapgl\"}],\"histogram\":[{\"marker\":{\"pattern\":{\"fillmode\":\"overlay\",\"size\":10,\"solidity\":0.2}},\"type\":\"histogram\"}],\"histogram2d\":[{\"colorbar\":{\"outlinewidth\":0,\"ticks\":\"\"},\"colorscale\":[[0.0,\"#0d0887\"],[0.1111111111111111,\"#46039f\"],[0.2222222222222222,\"#7201a8\"],[0.3333333333333333,\"#9c179e\"],[0.4444444444444444,\"#bd3786\"],[0.5555555555555556,\"#d8576b\"],[0.6666666666666666,\"#ed7953\"],[0.7777777777777778,\"#fb9f3a\"],[0.8888888888888888,\"#fdca26\"],[1.0,\"#f0f921\"]],\"type\":\"histogram2d\"}],\"histogram2dcontour\":[{\"colorbar\":{\"outlinewidth\":0,\"ticks\":\"\"},\"colorscale\":[[0.0,\"#0d0887\"],[0.1111111111111111,\"#46039f\"],[0.2222222222222222,\"#7201a8\"],[0.3333333333333333,\"#9c179e\"],[0.4444444444444444,\"#bd3786\"],[0.5555555555555556,\"#d8576b\"],[0.6666666666666666,\"#ed7953\"],[0.7777777777777778,\"#fb9f3a\"],[0.8888888888888888,\"#fdca26\"],[1.0,\"#f0f921\"]],\"type\":\"histogram2dcontour\"}],\"mesh3d\":[{\"colorbar\":{\"outlinewidth\":0,\"ticks\":\"\"},\"type\":\"mesh3d\"}],\"parcoords\":[{\"line\":{\"colorbar\":{\"outlinewidth\":0,\"ticks\":\"\"}},\"type\":\"parcoords\"}],\"pie\":[{\"automargin\":true,\"type\":\"pie\"}],\"scatter\":[{\"marker\":{\"colorbar\":{\"outlinewidth\":0,\"ticks\":\"\"}},\"type\":\"scatter\"}],\"scatter3d\":[{\"line\":{\"colorbar\":{\"outlinewidth\":0,\"ticks\":\"\"}},\"marker\":{\"colorbar\":{\"outlinewidth\":0,\"ticks\":\"\"}},\"type\":\"scatter3d\"}],\"scattercarpet\":[{\"marker\":{\"colorbar\":{\"outlinewidth\":0,\"ticks\":\"\"}},\"type\":\"scattercarpet\"}],\"scattergeo\":[{\"marker\":{\"colorbar\":{\"outlinewidth\":0,\"ticks\":\"\"}},\"type\":\"scattergeo\"}],\"scattergl\":[{\"marker\":{\"colorbar\":{\"outlinewidth\":0,\"ticks\":\"\"}},\"type\":\"scattergl\"}],\"scattermapbox\":[{\"marker\":{\"colorbar\":{\"outlinewidth\":0,\"ticks\":\"\"}},\"type\":\"scattermapbox\"}],\"scatterpolar\":[{\"marker\":{\"colorbar\":{\"outlinewidth\":0,\"ticks\":\"\"}},\"type\":\"scatterpolar\"}],\"scatterpolargl\":[{\"marker\":{\"colorbar\":{\"outlinewidth\":0,\"ticks\":\"\"}},\"type\":\"scatterpolargl\"}],\"scatterternary\":[{\"marker\":{\"colorbar\":{\"outlinewidth\":0,\"ticks\":\"\"}},\"type\":\"scatterternary\"}],\"surface\":[{\"colorbar\":{\"outlinewidth\":0,\"ticks\":\"\"},\"colorscale\":[[0.0,\"#0d0887\"],[0.1111111111111111,\"#46039f\"],[0.2222222222222222,\"#7201a8\"],[0.3333333333333333,\"#9c179e\"],[0.4444444444444444,\"#bd3786\"],[0.5555555555555556,\"#d8576b\"],[0.6666666666666666,\"#ed7953\"],[0.7777777777777778,\"#fb9f3a\"],[0.8888888888888888,\"#fdca26\"],[1.0,\"#f0f921\"]],\"type\":\"surface\"}],\"table\":[{\"cells\":{\"fill\":{\"color\":\"#EBF0F8\"},\"line\":{\"color\":\"white\"}},\"header\":{\"fill\":{\"color\":\"#C8D4E3\"},\"line\":{\"color\":\"white\"}},\"type\":\"table\"}]},\"layout\":{\"annotationdefaults\":{\"arrowcolor\":\"#2a3f5f\",\"arrowhead\":0,\"arrowwidth\":1},\"autotypenumbers\":\"strict\",\"coloraxis\":{\"colorbar\":{\"outlinewidth\":0,\"ticks\":\"\"}},\"colorscale\":{\"diverging\":[[0,\"#8e0152\"],[0.1,\"#c51b7d\"],[0.2,\"#de77ae\"],[0.3,\"#f1b6da\"],[0.4,\"#fde0ef\"],[0.5,\"#f7f7f7\"],[0.6,\"#e6f5d0\"],[0.7,\"#b8e186\"],[0.8,\"#7fbc41\"],[0.9,\"#4d9221\"],[1,\"#276419\"]],\"sequential\":[[0.0,\"#0d0887\"],[0.1111111111111111,\"#46039f\"],[0.2222222222222222,\"#7201a8\"],[0.3333333333333333,\"#9c179e\"],[0.4444444444444444,\"#bd3786\"],[0.5555555555555556,\"#d8576b\"],[0.6666666666666666,\"#ed7953\"],[0.7777777777777778,\"#fb9f3a\"],[0.8888888888888888,\"#fdca26\"],[1.0,\"#f0f921\"]],\"sequentialminus\":[[0.0,\"#0d0887\"],[0.1111111111111111,\"#46039f\"],[0.2222222222222222,\"#7201a8\"],[0.3333333333333333,\"#9c179e\"],[0.4444444444444444,\"#bd3786\"],[0.5555555555555556,\"#d8576b\"],[0.6666666666666666,\"#ed7953\"],[0.7777777777777778,\"#fb9f3a\"],[0.8888888888888888,\"#fdca26\"],[1.0,\"#f0f921\"]]},\"colorway\":[\"#636efa\",\"#EF553B\",\"#00cc96\",\"#ab63fa\",\"#FFA15A\",\"#19d3f3\",\"#FF6692\",\"#B6E880\",\"#FF97FF\",\"#FECB52\"],\"font\":{\"color\":\"#2a3f5f\"},\"geo\":{\"bgcolor\":\"white\",\"lakecolor\":\"white\",\"landcolor\":\"#E5ECF6\",\"showlakes\":true,\"showland\":true,\"subunitcolor\":\"white\"},\"hoverlabel\":{\"align\":\"left\"},\"hovermode\":\"closest\",\"mapbox\":{\"style\":\"light\"},\"paper_bgcolor\":\"white\",\"plot_bgcolor\":\"#E5ECF6\",\"polar\":{\"angularaxis\":{\"gridcolor\":\"white\",\"linecolor\":\"white\",\"ticks\":\"\"},\"bgcolor\":\"#E5ECF6\",\"radialaxis\":{\"gridcolor\":\"white\",\"linecolor\":\"white\",\"ticks\":\"\"}},\"scene\":{\"xaxis\":{\"backgroundcolor\":\"#E5ECF6\",\"gridcolor\":\"white\",\"gridwidth\":2,\"linecolor\":\"white\",\"showbackground\":true,\"ticks\":\"\",\"zerolinecolor\":\"white\"},\"yaxis\":{\"backgroundcolor\":\"#E5ECF6\",\"gridcolor\":\"white\",\"gridwidth\":2,\"linecolor\":\"white\",\"showbackground\":true,\"ticks\":\"\",\"zerolinecolor\":\"white\"},\"zaxis\":{\"backgroundcolor\":\"#E5ECF6\",\"gridcolor\":\"white\",\"gridwidth\":2,\"linecolor\":\"white\",\"showbackground\":true,\"ticks\":\"\",\"zerolinecolor\":\"white\"}},\"shapedefaults\":{\"line\":{\"color\":\"#2a3f5f\"}},\"ternary\":{\"aaxis\":{\"gridcolor\":\"white\",\"linecolor\":\"white\",\"ticks\":\"\"},\"baxis\":{\"gridcolor\":\"white\",\"linecolor\":\"white\",\"ticks\":\"\"},\"bgcolor\":\"#E5ECF6\",\"caxis\":{\"gridcolor\":\"white\",\"linecolor\":\"white\",\"ticks\":\"\"}},\"title\":{\"x\":0.05},\"xaxis\":{\"automargin\":true,\"gridcolor\":\"white\",\"linecolor\":\"white\",\"ticks\":\"\",\"title\":{\"standoff\":15},\"zerolinecolor\":\"white\",\"zerolinewidth\":2},\"yaxis\":{\"automargin\":true,\"gridcolor\":\"white\",\"linecolor\":\"white\",\"ticks\":\"\",\"title\":{\"standoff\":15},\"zerolinecolor\":\"white\",\"zerolinewidth\":2}}},\"xaxis\":{\"anchor\":\"y\",\"domain\":[0.0,1.0],\"title\":{\"text\":\"Year\"},\"showgrid\":true,\"gridwidth\":1,\"gridcolor\":\"lightgrey\",\"zeroline\":true,\"zerolinewidth\":1,\"zerolinecolor\":\"lightgrey\",\"showline\":true,\"linewidth\":1,\"linecolor\":\"black\"},\"yaxis\":{\"anchor\":\"x\",\"domain\":[0.0,1.0],\"title\":{\"text\":\"Population\"},\"showgrid\":true,\"gridwidth\":1,\"gridcolor\":\"lightgrey\",\"zeroline\":true,\"zerolinewidth\":1,\"zerolinecolor\":\"lightgrey\",\"showline\":true,\"linewidth\":1,\"linecolor\":\"black\"},\"legend\":{\"tracegroupgap\":0},\"margin\":{\"t\":60},\"plot_bgcolor\":\"white\",\"title\":{\"font\":{\"color\":\"black\"},\"text\":\"Population in China (epsilon=20000000, C=1000000000)\"}},                        {\"responsive\": true}                    ).then(function(){\n",
       "                            \n",
       "var gd = document.getElementById('9542886a-1e15-40de-9643-34e3bb3aaa78');\n",
       "var x = new MutationObserver(function (mutations, observer) {{\n",
       "        var display = window.getComputedStyle(gd).display;\n",
       "        if (!display || display === 'none') {{\n",
       "            console.log([gd, 'removed!']);\n",
       "            Plotly.purge(gd);\n",
       "            observer.disconnect();\n",
       "        }}\n",
       "}});\n",
       "\n",
       "// Listen for the removal of the full notebook cells\n",
       "var notebookContainer = gd.closest('#notebook-container');\n",
       "if (notebookContainer) {{\n",
       "    x.observe(notebookContainer, {childList: true});\n",
       "}}\n",
       "\n",
       "// Listen for the clearing of the current output cell\n",
       "var outputEl = gd.closest('.output');\n",
       "if (outputEl) {{\n",
       "    x.observe(outputEl, {childList: true});\n",
       "}}\n",
       "\n",
       "                        })                };                });            </script>        </div>"
      ]
     },
     "metadata": {},
     "output_type": "display_data"
    }
   ],
   "source": [
    "# Create a scatter plot\n",
    "fig = px.scatter(df, x=df['Year'], y=df['Population'], \n",
    "                 opacity=0.8, color_discrete_sequence=['black'])\n",
    "# Add a best-fit line\n",
    "fig.add_traces(go.Scatter(x=x_range, y=y_lr, name='Linear Regression', line=dict(color='limegreen')))\n",
    "fig.add_traces(go.Scatter(x=x_range, y=y_svr, name='Support Vector Regression', line=dict(color='red')))\n",
    "fig.add_traces(go.Scatter(x=x_range, y=y_svr+20000000, name='+epsilon', line=dict(color='red', dash='dot')))\n",
    "fig.add_traces(go.Scatter(x=x_range, y=y_svr-20000000, name='-epsilon', line=dict(color='red', dash='dot')))\n",
    "\n",
    "# Change chart background color\n",
    "fig.update_layout(dict(plot_bgcolor = 'white'))\n",
    "\n",
    "# Update axes lines\n",
    "fig.update_xaxes(showgrid=True, gridwidth=1, gridcolor='lightgrey', \n",
    "                 zeroline=True, zerolinewidth=1, zerolinecolor='lightgrey', \n",
    "                 showline=True, linewidth=1, linecolor='black')\n",
    "\n",
    "fig.update_yaxes(showgrid=True, gridwidth=1, gridcolor='lightgrey', \n",
    "                 zeroline=True, zerolinewidth=1, zerolinecolor='lightgrey', \n",
    "                 showline=True, linewidth=1, linecolor='black')\n",
    "\n",
    "# Set figure title\n",
    "fig.update_layout(title=dict(text=\"Population in China (epsilon=20000000, C=1000000000)\", \n",
    "                             font=dict(color='black')))\n",
    "\n",
    "# Update marker size\n",
    "fig.update_traces(marker=dict(size=3))\n",
    "\n",
    "fig.show()"
   ]
  },
  {
   "cell_type": "code",
   "execution_count": 527,
   "id": "facfa024",
   "metadata": {
    "colab": {
     "base_uri": "https://localhost:8080/"
    },
    "id": "facfa024",
    "outputId": "f1b94989-356b-4b2f-8097-b222304d42ce"
   },
   "outputs": [
    {
     "data": {
      "text/plain": [
       "array([1.233899e+09, 1.382581e+09, 1.338851e+09, 1.260137e+09,\n",
       "       1.198915e+09, 1.251391e+09, 1.373835e+09, 1.347597e+09,\n",
       "       1.207661e+09])"
      ]
     },
     "execution_count": 527,
     "metadata": {},
     "output_type": "execute_result"
    }
   ],
   "source": [
    "#5 Predicting a new result\n",
    "y_pred = svr.predict(X_test)\n",
    "y_pred"
   ]
  },
  {
   "cell_type": "code",
   "execution_count": 528,
   "id": "bcbd0348",
   "metadata": {
    "colab": {
     "base_uri": "https://localhost:8080/"
    },
    "id": "bcbd0348",
    "outputId": "ca5b6fa9-560b-481b-f0db-5a473d655556"
   },
   "outputs": [
    {
     "name": "stdout",
     "output_type": "stream",
     "text": [
      "R squared: 96.80\n",
      "Mean Squared Error is:  152963265883706.72\n",
      "Root Mean Squared Error is:  12367831.899072153\n"
     ]
    }
   ],
   "source": [
    "mse = metrics.mean_squared_error(y_test, y_pred)\n",
    "rmse = np.sqrt(mse)\n",
    "\n",
    "print('R squared: {:.2f}'.format(svr.score(X,y)*100))\n",
    "print(\"Mean Squared Error is: \", mse)\n",
    "print(\"Root Mean Squared Error is: \", rmse)"
   ]
  },
  {
   "cell_type": "code",
   "execution_count": 529,
   "id": "a00144d7",
   "metadata": {
    "colab": {
     "base_uri": "https://localhost:8080/",
     "height": 328
    },
    "id": "a00144d7",
    "outputId": "385e631c-b58a-46f0-dd5e-44b4487846f3"
   },
   "outputs": [
    {
     "data": {
      "text/html": [
       "<div>\n",
       "<style scoped>\n",
       "    .dataframe tbody tr th:only-of-type {\n",
       "        vertical-align: middle;\n",
       "    }\n",
       "\n",
       "    .dataframe tbody tr th {\n",
       "        vertical-align: top;\n",
       "    }\n",
       "\n",
       "    .dataframe thead th {\n",
       "        text-align: right;\n",
       "    }\n",
       "</style>\n",
       "<table border=\"1\" class=\"dataframe\">\n",
       "  <thead>\n",
       "    <tr style=\"text-align: right;\">\n",
       "      <th></th>\n",
       "      <th>Predicted</th>\n",
       "      <th>Actual</th>\n",
       "    </tr>\n",
       "  </thead>\n",
       "  <tbody>\n",
       "    <tr>\n",
       "      <th>0</th>\n",
       "      <td>1.233899e+09</td>\n",
       "      <td>1252735000</td>\n",
       "    </tr>\n",
       "    <tr>\n",
       "      <th>1</th>\n",
       "      <td>1.382581e+09</td>\n",
       "      <td>1378665000</td>\n",
       "    </tr>\n",
       "    <tr>\n",
       "      <th>2</th>\n",
       "      <td>1.338851e+09</td>\n",
       "      <td>1344130000</td>\n",
       "    </tr>\n",
       "    <tr>\n",
       "      <th>3</th>\n",
       "      <td>1.260137e+09</td>\n",
       "      <td>1280400000</td>\n",
       "    </tr>\n",
       "    <tr>\n",
       "      <th>4</th>\n",
       "      <td>1.198915e+09</td>\n",
       "      <td>1204855000</td>\n",
       "    </tr>\n",
       "    <tr>\n",
       "      <th>5</th>\n",
       "      <td>1.251391e+09</td>\n",
       "      <td>1271850000</td>\n",
       "    </tr>\n",
       "    <tr>\n",
       "      <th>6</th>\n",
       "      <td>1.373835e+09</td>\n",
       "      <td>1371220000</td>\n",
       "    </tr>\n",
       "    <tr>\n",
       "      <th>7</th>\n",
       "      <td>1.347597e+09</td>\n",
       "      <td>1350695000</td>\n",
       "    </tr>\n",
       "    <tr>\n",
       "      <th>8</th>\n",
       "      <td>1.207661e+09</td>\n",
       "      <td>1217550000</td>\n",
       "    </tr>\n",
       "  </tbody>\n",
       "</table>\n",
       "</div>"
      ],
      "text/plain": [
       "      Predicted      Actual\n",
       "0  1.233899e+09  1252735000\n",
       "1  1.382581e+09  1378665000\n",
       "2  1.338851e+09  1344130000\n",
       "3  1.260137e+09  1280400000\n",
       "4  1.198915e+09  1204855000\n",
       "5  1.251391e+09  1271850000\n",
       "6  1.373835e+09  1371220000\n",
       "7  1.347597e+09  1350695000\n",
       "8  1.207661e+09  1217550000"
      ]
     },
     "execution_count": 529,
     "metadata": {},
     "output_type": "execute_result"
    }
   ],
   "source": [
    "data = {'Predicted':y_pred, 'Actual':y_test}\n",
    "\n",
    "comparison = pd.DataFrame(data)\n",
    "comparison"
   ]
  },
  {
   "cell_type": "code",
   "execution_count": 530,
   "id": "f5fa220d",
   "metadata": {
    "colab": {
     "base_uri": "https://localhost:8080/"
    },
    "id": "f5fa220d",
    "outputId": "3c1e06e0-653f-4926-bf07-d39cd93e8195"
   },
   "outputs": [
    {
     "data": {
      "text/plain": [
       "array([1.23837132e+09, 1.39515379e+09, 1.34904130e+09, 1.26603882e+09,\n",
       "       1.20148133e+09, 1.25681632e+09, 1.38593129e+09, 1.35826380e+09,\n",
       "       1.21070383e+09])"
      ]
     },
     "execution_count": 530,
     "metadata": {},
     "output_type": "execute_result"
    }
   ],
   "source": [
    "#5 Predicting a new result\n",
    "y_pred = lr.predict(X_test)\n",
    "y_pred"
   ]
  },
  {
   "cell_type": "code",
   "execution_count": 531,
   "id": "7963a4af",
   "metadata": {},
   "outputs": [
    {
     "name": "stdout",
     "output_type": "stream",
     "text": [
      "R squared: 97.57\n",
      "Mean Squared Error is:  140725805877053.33\n",
      "Root Mean Squared Error is:  11862790.81317096\n"
     ]
    }
   ],
   "source": [
    "mse = metrics.mean_squared_error(y_test, y_pred)\n",
    "rmse = np.sqrt(mse)\n",
    "\n",
    "print('R squared: {:.2f}'.format(lr.score(X,y)*100))\n",
    "print(\"Mean Squared Error is: \", mse)\n",
    "print(\"Root Mean Squared Error is: \", rmse)"
   ]
  },
  {
   "cell_type": "code",
   "execution_count": 532,
   "id": "cba08267",
   "metadata": {},
   "outputs": [
    {
     "data": {
      "text/html": [
       "<div>\n",
       "<style scoped>\n",
       "    .dataframe tbody tr th:only-of-type {\n",
       "        vertical-align: middle;\n",
       "    }\n",
       "\n",
       "    .dataframe tbody tr th {\n",
       "        vertical-align: top;\n",
       "    }\n",
       "\n",
       "    .dataframe thead th {\n",
       "        text-align: right;\n",
       "    }\n",
       "</style>\n",
       "<table border=\"1\" class=\"dataframe\">\n",
       "  <thead>\n",
       "    <tr style=\"text-align: right;\">\n",
       "      <th></th>\n",
       "      <th>Predicted</th>\n",
       "      <th>Actual</th>\n",
       "    </tr>\n",
       "  </thead>\n",
       "  <tbody>\n",
       "    <tr>\n",
       "      <th>0</th>\n",
       "      <td>1.238371e+09</td>\n",
       "      <td>1252735000</td>\n",
       "    </tr>\n",
       "    <tr>\n",
       "      <th>1</th>\n",
       "      <td>1.395154e+09</td>\n",
       "      <td>1378665000</td>\n",
       "    </tr>\n",
       "    <tr>\n",
       "      <th>2</th>\n",
       "      <td>1.349041e+09</td>\n",
       "      <td>1344130000</td>\n",
       "    </tr>\n",
       "    <tr>\n",
       "      <th>3</th>\n",
       "      <td>1.266039e+09</td>\n",
       "      <td>1280400000</td>\n",
       "    </tr>\n",
       "    <tr>\n",
       "      <th>4</th>\n",
       "      <td>1.201481e+09</td>\n",
       "      <td>1204855000</td>\n",
       "    </tr>\n",
       "    <tr>\n",
       "      <th>5</th>\n",
       "      <td>1.256816e+09</td>\n",
       "      <td>1271850000</td>\n",
       "    </tr>\n",
       "    <tr>\n",
       "      <th>6</th>\n",
       "      <td>1.385931e+09</td>\n",
       "      <td>1371220000</td>\n",
       "    </tr>\n",
       "    <tr>\n",
       "      <th>7</th>\n",
       "      <td>1.358264e+09</td>\n",
       "      <td>1350695000</td>\n",
       "    </tr>\n",
       "    <tr>\n",
       "      <th>8</th>\n",
       "      <td>1.210704e+09</td>\n",
       "      <td>1217550000</td>\n",
       "    </tr>\n",
       "  </tbody>\n",
       "</table>\n",
       "</div>"
      ],
      "text/plain": [
       "      Predicted      Actual\n",
       "0  1.238371e+09  1252735000\n",
       "1  1.395154e+09  1378665000\n",
       "2  1.349041e+09  1344130000\n",
       "3  1.266039e+09  1280400000\n",
       "4  1.201481e+09  1204855000\n",
       "5  1.256816e+09  1271850000\n",
       "6  1.385931e+09  1371220000\n",
       "7  1.358264e+09  1350695000\n",
       "8  1.210704e+09  1217550000"
      ]
     },
     "execution_count": 532,
     "metadata": {},
     "output_type": "execute_result"
    }
   ],
   "source": [
    "data = {'Predicted':y_pred, 'Actual':y_test}\n",
    "\n",
    "comparison = pd.DataFrame(data)\n",
    "comparison"
   ]
  },
  {
   "cell_type": "code",
   "execution_count": 533,
   "id": "9f51bee0",
   "metadata": {
    "colab": {
     "base_uri": "https://localhost:8080/"
    },
    "id": "9f51bee0",
    "outputId": "f0accb02-bb94-4a67-94ac-b1eea1af1fa4"
   },
   "outputs": [
    {
     "data": {
      "text/plain": [
       "array([1.40124136e+09, 1.41002909e+09, 1.41881682e+09, 1.42760455e+09,\n",
       "       1.43639227e+09, 1.44518000e+09, 1.45396773e+09, 1.46275545e+09,\n",
       "       1.47154318e+09, 1.48033091e+09, 1.48911864e+09, 1.49790636e+09,\n",
       "       1.50669409e+09, 1.51548182e+09, 1.52426955e+09, 1.53305727e+09,\n",
       "       1.54184500e+09, 1.55063273e+09, 1.55942045e+09, 1.56820818e+09,\n",
       "       1.57699591e+09, 1.58578364e+09, 1.59457136e+09, 1.60335909e+09,\n",
       "       1.61214682e+09, 1.62093455e+09, 1.62972227e+09, 1.63851000e+09,\n",
       "       1.64729773e+09, 1.65608545e+09, 1.66487318e+09, 1.67366091e+09,\n",
       "       1.68244864e+09])"
      ]
     },
     "execution_count": 533,
     "metadata": {},
     "output_type": "execute_result"
    }
   ],
   "source": [
    "model2 = SVR(kernel='linear', C=1000000000, epsilon=20000000) # set kernel and hyperparameters\n",
    "svr = model2.fit(X, y)\n",
    "x_future = [[2018],[2019],[2020],[2021],[2022],[2023],[2024],[2025],[2026],[2027],[2028],[2029],[2030],[2031],[2032],[2033],[2034],[2035],[2036],[2037],[2038],[2039],[2040],[2041],[2042],[2043],[2044],[2045],[2046],[2047],[2048],[2049],[2050]]\n",
    "y_pred = svr.predict(x_future)\n",
    "y_pred"
   ]
  },
  {
   "cell_type": "code",
   "execution_count": 534,
   "id": "09ab99f4",
   "metadata": {},
   "outputs": [
    {
     "data": {
      "image/png": "[encoded data removed]",
      "text/plain": [
       "<Figure size 432x288 with 1 Axes>"
      ]
     },
     "metadata": {
      "needs_background": "light"
     },
     "output_type": "display_data"
    }
   ],
   "source": [
    "fig, ax = plt.subplots()\n",
    "ax.scatter(years,y_pred)\n",
    "ax.set_title('Predicted Population in China (epsilon=20000000, C=1000000000)')\n",
    "ax.set_xlabel('Years')\n",
    "ax.set_ylabel('Population (Billions)')\n",
    "\n",
    "\n",
    "plt.show()"
   ]
  },
  {
   "cell_type": "code",
   "execution_count": 535,
   "id": "4d98b637",
   "metadata": {},
   "outputs": [
    {
     "data": {
      "image/png": "[encoded data removed]",
      "text/plain": [
       "<Figure size 432x288 with 1 Axes>"
      ]
     },
     "metadata": {
      "needs_background": "light"
     },
     "output_type": "display_data"
    }
   ],
   "source": [
    "fig, ax = plt.subplots()\n",
    "ax.scatter(years,net_consumption)\n",
    "ax.set_title('Predicted Net Energy Consumption in China')\n",
    "ax.set_xlabel('Years')\n",
    "ax.set_ylabel('Energy Consumption')\n",
    "\n",
    "\n",
    "plt.show()"
   ]
  },
  {
   "cell_type": "code",
   "execution_count": 542,
   "id": "309b8e19",
   "metadata": {},
   "outputs": [
    {
     "name": "stdout",
     "output_type": "stream",
     "text": [
      "Pearsons correlation for Net Energy Consumption with Population in predicted values: 0.986\n"
     ]
    }
   ],
   "source": [
    "corr, _ = pearsonr(net_consumption, y_pred)\n",
    "print('Pearsons correlation for Net Energy Consumption with Population in predicted values: %.3f' % corr)"
   ]
  },
  {
   "cell_type": "code",
   "execution_count": 543,
   "id": "802a7b62",
   "metadata": {},
   "outputs": [
    {
     "name": "stdout",
     "output_type": "stream",
     "text": [
      "Rate of Increase: 39.49609441743728\n"
     ]
    }
   ],
   "source": [
    "# Finding the Rate of Increase for other renewables Consumption\n",
    "print (\"Rate of Increase:\", (net_consumption[32] - net_consumption[22])/10)"
   ]
  },
  {
   "cell_type": "code",
   "execution_count": null,
   "id": "64eb5d72",
   "metadata": {},
   "outputs": [],
   "source": []
  }
 ],
 "metadata": {
  "colab": {
   "collapsed_sections": [],
   "name": "Data_Mining_Final_Project_SVR_China_1990_Onwards21.ipynb",
   "provenance": []
  },
  "kernelspec": {
   "display_name": "Python 3 (ipykernel)",
   "language": "python",
   "name": "python3"
  },
  "language_info": {
   "codemirror_mode": {
    "name": "ipython",
    "version": 3
   },
   "file_extension": ".py",
   "mimetype": "text/x-python",
   "name": "python",
   "nbconvert_exporter": "python",
   "pygments_lexer": "ipython3",
   "version": "3.9.7"
  }
 },
 "nbformat": 4,
 "nbformat_minor": 5
}
