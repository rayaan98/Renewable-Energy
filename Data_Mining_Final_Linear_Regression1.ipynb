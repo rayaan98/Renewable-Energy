{
 "cells": [
  {
   "cell_type": "code",
   "execution_count": 1,
   "id": "93a2abfd",
   "metadata": {},
   "outputs": [],
   "source": [
    "#Importing Libraries\n",
    "import random as rd\n",
    "import numpy as np\n",
    "import pandas as pd\n",
    "import seaborn as sns\n",
    "from matplotlib import pyplot as plt\n",
    "\n",
    "from sklearn import preprocessing\n",
    "from sklearn import metrics\n",
    "from sklearn.model_selection import train_test_split \n",
    "from sklearn.neighbors import KNeighborsClassifier\n",
    "from sklearn.linear_model import LinearRegression\n",
    "\n",
    "import statsmodels.api as sm"
   ]
  },
  {
   "cell_type": "code",
   "execution_count": 2,
   "id": "a84838f4",
   "metadata": {},
   "outputs": [],
   "source": [
    "df = pd.read_csv('modern-renewable-energy-consumption-asia(1).csv')"
   ]
  },
  {
   "cell_type": "code",
   "execution_count": 3,
   "id": "42d4c918",
   "metadata": {},
   "outputs": [
    {
     "data": {
      "text/html": [
       "<div>\n",
       "<style scoped>\n",
       "    .dataframe tbody tr th:only-of-type {\n",
       "        vertical-align: middle;\n",
       "    }\n",
       "\n",
       "    .dataframe tbody tr th {\n",
       "        vertical-align: top;\n",
       "    }\n",
       "\n",
       "    .dataframe thead th {\n",
       "        text-align: right;\n",
       "    }\n",
       "</style>\n",
       "<table border=\"1\" class=\"dataframe\">\n",
       "  <thead>\n",
       "    <tr style=\"text-align: right;\">\n",
       "      <th></th>\n",
       "      <th>Entity</th>\n",
       "      <th>Year</th>\n",
       "      <th>Hydropower (terawatt-hours)</th>\n",
       "      <th>Solar (terawatt-hours)</th>\n",
       "      <th>Wind (terawatt-hours)</th>\n",
       "      <th>Other renewables (terawatt-hours)</th>\n",
       "    </tr>\n",
       "  </thead>\n",
       "  <tbody>\n",
       "    <tr>\n",
       "      <th>68</th>\n",
       "      <td>China</td>\n",
       "      <td>1985</td>\n",
       "      <td>92.387557</td>\n",
       "      <td>0.000000</td>\n",
       "      <td>0.000000</td>\n",
       "      <td>0.000000</td>\n",
       "    </tr>\n",
       "    <tr>\n",
       "      <th>69</th>\n",
       "      <td>China</td>\n",
       "      <td>1986</td>\n",
       "      <td>94.548644</td>\n",
       "      <td>0.000000</td>\n",
       "      <td>0.000000</td>\n",
       "      <td>0.000000</td>\n",
       "    </tr>\n",
       "    <tr>\n",
       "      <th>70</th>\n",
       "      <td>China</td>\n",
       "      <td>1987</td>\n",
       "      <td>100.024280</td>\n",
       "      <td>0.000000</td>\n",
       "      <td>0.000000</td>\n",
       "      <td>0.000000</td>\n",
       "    </tr>\n",
       "    <tr>\n",
       "      <th>71</th>\n",
       "      <td>China</td>\n",
       "      <td>1988</td>\n",
       "      <td>109.168019</td>\n",
       "      <td>0.000000</td>\n",
       "      <td>0.000000</td>\n",
       "      <td>0.000000</td>\n",
       "    </tr>\n",
       "    <tr>\n",
       "      <th>72</th>\n",
       "      <td>China</td>\n",
       "      <td>1989</td>\n",
       "      <td>118.408984</td>\n",
       "      <td>0.000000</td>\n",
       "      <td>0.000000</td>\n",
       "      <td>0.000000</td>\n",
       "    </tr>\n",
       "    <tr>\n",
       "      <th>73</th>\n",
       "      <td>China</td>\n",
       "      <td>1990</td>\n",
       "      <td>126.743973</td>\n",
       "      <td>0.002000</td>\n",
       "      <td>0.002020</td>\n",
       "      <td>0.064000</td>\n",
       "    </tr>\n",
       "    <tr>\n",
       "      <th>74</th>\n",
       "      <td>China</td>\n",
       "      <td>1991</td>\n",
       "      <td>124.688952</td>\n",
       "      <td>0.002000</td>\n",
       "      <td>0.009091</td>\n",
       "      <td>0.064000</td>\n",
       "    </tr>\n",
       "    <tr>\n",
       "      <th>75</th>\n",
       "      <td>China</td>\n",
       "      <td>1992</td>\n",
       "      <td>130.686077</td>\n",
       "      <td>0.003000</td>\n",
       "      <td>0.131313</td>\n",
       "      <td>0.113000</td>\n",
       "    </tr>\n",
       "    <tr>\n",
       "      <th>76</th>\n",
       "      <td>China</td>\n",
       "      <td>1993</td>\n",
       "      <td>151.846165</td>\n",
       "      <td>0.004000</td>\n",
       "      <td>0.212121</td>\n",
       "      <td>0.117000</td>\n",
       "    </tr>\n",
       "    <tr>\n",
       "      <th>77</th>\n",
       "      <td>China</td>\n",
       "      <td>1994</td>\n",
       "      <td>167.428969</td>\n",
       "      <td>0.005000</td>\n",
       "      <td>0.383838</td>\n",
       "      <td>0.460000</td>\n",
       "    </tr>\n",
       "    <tr>\n",
       "      <th>78</th>\n",
       "      <td>China</td>\n",
       "      <td>1995</td>\n",
       "      <td>190.580000</td>\n",
       "      <td>0.007000</td>\n",
       "      <td>0.616162</td>\n",
       "      <td>3.014000</td>\n",
       "    </tr>\n",
       "    <tr>\n",
       "      <th>79</th>\n",
       "      <td>China</td>\n",
       "      <td>1996</td>\n",
       "      <td>187.970000</td>\n",
       "      <td>0.009000</td>\n",
       "      <td>0.093939</td>\n",
       "      <td>1.533000</td>\n",
       "    </tr>\n",
       "    <tr>\n",
       "      <th>80</th>\n",
       "      <td>China</td>\n",
       "      <td>1997</td>\n",
       "      <td>195.980000</td>\n",
       "      <td>0.011000</td>\n",
       "      <td>0.197980</td>\n",
       "      <td>2.722000</td>\n",
       "    </tr>\n",
       "    <tr>\n",
       "      <th>81</th>\n",
       "      <td>China</td>\n",
       "      <td>1998</td>\n",
       "      <td>198.890000</td>\n",
       "      <td>0.014000</td>\n",
       "      <td>0.355556</td>\n",
       "      <td>2.480000</td>\n",
       "    </tr>\n",
       "    <tr>\n",
       "      <th>82</th>\n",
       "      <td>China</td>\n",
       "      <td>1999</td>\n",
       "      <td>196.580000</td>\n",
       "      <td>0.017000</td>\n",
       "      <td>0.473737</td>\n",
       "      <td>2.520000</td>\n",
       "    </tr>\n",
       "    <tr>\n",
       "      <th>83</th>\n",
       "      <td>China</td>\n",
       "      <td>2000</td>\n",
       "      <td>222.410000</td>\n",
       "      <td>0.022000</td>\n",
       "      <td>0.589899</td>\n",
       "      <td>2.537000</td>\n",
       "    </tr>\n",
       "    <tr>\n",
       "      <th>84</th>\n",
       "      <td>China</td>\n",
       "      <td>2001</td>\n",
       "      <td>277.430000</td>\n",
       "      <td>0.031000</td>\n",
       "      <td>0.719192</td>\n",
       "      <td>2.554000</td>\n",
       "    </tr>\n",
       "    <tr>\n",
       "      <th>85</th>\n",
       "      <td>China</td>\n",
       "      <td>2002</td>\n",
       "      <td>287.970000</td>\n",
       "      <td>0.048000</td>\n",
       "      <td>0.837374</td>\n",
       "      <td>2.546000</td>\n",
       "    </tr>\n",
       "    <tr>\n",
       "      <th>86</th>\n",
       "      <td>China</td>\n",
       "      <td>2003</td>\n",
       "      <td>283.680000</td>\n",
       "      <td>0.064000</td>\n",
       "      <td>0.996970</td>\n",
       "      <td>2.536000</td>\n",
       "    </tr>\n",
       "    <tr>\n",
       "      <th>87</th>\n",
       "      <td>China</td>\n",
       "      <td>2004</td>\n",
       "      <td>353.544000</td>\n",
       "      <td>0.076000</td>\n",
       "      <td>1.277778</td>\n",
       "      <td>2.528000</td>\n",
       "    </tr>\n",
       "    <tr>\n",
       "      <th>88</th>\n",
       "      <td>China</td>\n",
       "      <td>2005</td>\n",
       "      <td>397.017000</td>\n",
       "      <td>0.084000</td>\n",
       "      <td>1.946061</td>\n",
       "      <td>5.322000</td>\n",
       "    </tr>\n",
       "    <tr>\n",
       "      <th>89</th>\n",
       "      <td>China</td>\n",
       "      <td>2006</td>\n",
       "      <td>435.786000</td>\n",
       "      <td>0.095000</td>\n",
       "      <td>3.711818</td>\n",
       "      <td>7.133000</td>\n",
       "    </tr>\n",
       "    <tr>\n",
       "      <th>90</th>\n",
       "      <td>China</td>\n",
       "      <td>2007</td>\n",
       "      <td>485.264000</td>\n",
       "      <td>0.114000</td>\n",
       "      <td>5.479293</td>\n",
       "      <td>9.863000</td>\n",
       "    </tr>\n",
       "    <tr>\n",
       "      <th>91</th>\n",
       "      <td>China</td>\n",
       "      <td>2008</td>\n",
       "      <td>636.960000</td>\n",
       "      <td>0.152000</td>\n",
       "      <td>13.100000</td>\n",
       "      <td>14.866000</td>\n",
       "    </tr>\n",
       "    <tr>\n",
       "      <th>92</th>\n",
       "      <td>China</td>\n",
       "      <td>2009</td>\n",
       "      <td>615.640000</td>\n",
       "      <td>0.279000</td>\n",
       "      <td>27.600000</td>\n",
       "      <td>20.859320</td>\n",
       "    </tr>\n",
       "    <tr>\n",
       "      <th>93</th>\n",
       "      <td>China</td>\n",
       "      <td>2010</td>\n",
       "      <td>711.383140</td>\n",
       "      <td>0.701000</td>\n",
       "      <td>44.622000</td>\n",
       "      <td>24.900230</td>\n",
       "    </tr>\n",
       "    <tr>\n",
       "      <th>94</th>\n",
       "      <td>China</td>\n",
       "      <td>2011</td>\n",
       "      <td>688.045000</td>\n",
       "      <td>2.610000</td>\n",
       "      <td>70.331000</td>\n",
       "      <td>27.707000</td>\n",
       "    </tr>\n",
       "    <tr>\n",
       "      <th>95</th>\n",
       "      <td>China</td>\n",
       "      <td>2012</td>\n",
       "      <td>862.794110</td>\n",
       "      <td>3.594510</td>\n",
       "      <td>95.978000</td>\n",
       "      <td>30.484845</td>\n",
       "    </tr>\n",
       "    <tr>\n",
       "      <th>96</th>\n",
       "      <td>China</td>\n",
       "      <td>2013</td>\n",
       "      <td>909.611273</td>\n",
       "      <td>8.373886</td>\n",
       "      <td>141.197000</td>\n",
       "      <td>37.286429</td>\n",
       "    </tr>\n",
       "    <tr>\n",
       "      <th>97</th>\n",
       "      <td>China</td>\n",
       "      <td>2014</td>\n",
       "      <td>1051.146674</td>\n",
       "      <td>23.512157</td>\n",
       "      <td>156.078000</td>\n",
       "      <td>46.421649</td>\n",
       "    </tr>\n",
       "    <tr>\n",
       "      <th>98</th>\n",
       "      <td>China</td>\n",
       "      <td>2015</td>\n",
       "      <td>1114.515410</td>\n",
       "      <td>43.560000</td>\n",
       "      <td>185.766000</td>\n",
       "      <td>54.070290</td>\n",
       "    </tr>\n",
       "    <tr>\n",
       "      <th>99</th>\n",
       "      <td>China</td>\n",
       "      <td>2016</td>\n",
       "      <td>1153.269500</td>\n",
       "      <td>61.686000</td>\n",
       "      <td>237.071000</td>\n",
       "      <td>62.134767</td>\n",
       "    </tr>\n",
       "    <tr>\n",
       "      <th>100</th>\n",
       "      <td>China</td>\n",
       "      <td>2017</td>\n",
       "      <td>1165.070000</td>\n",
       "      <td>117.800000</td>\n",
       "      <td>295.000000</td>\n",
       "      <td>79.597146</td>\n",
       "    </tr>\n",
       "    <tr>\n",
       "      <th>101</th>\n",
       "      <td>China</td>\n",
       "      <td>2018</td>\n",
       "      <td>1202.430000</td>\n",
       "      <td>177.500000</td>\n",
       "      <td>366.000000</td>\n",
       "      <td>90.723462</td>\n",
       "    </tr>\n",
       "  </tbody>\n",
       "</table>\n",
       "</div>"
      ],
      "text/plain": [
       "    Entity  Year  Hydropower (terawatt-hours)  Solar (terawatt-hours)  \\\n",
       "68   China  1985                    92.387557                0.000000   \n",
       "69   China  1986                    94.548644                0.000000   \n",
       "70   China  1987                   100.024280                0.000000   \n",
       "71   China  1988                   109.168019                0.000000   \n",
       "72   China  1989                   118.408984                0.000000   \n",
       "73   China  1990                   126.743973                0.002000   \n",
       "74   China  1991                   124.688952                0.002000   \n",
       "75   China  1992                   130.686077                0.003000   \n",
       "76   China  1993                   151.846165                0.004000   \n",
       "77   China  1994                   167.428969                0.005000   \n",
       "78   China  1995                   190.580000                0.007000   \n",
       "79   China  1996                   187.970000                0.009000   \n",
       "80   China  1997                   195.980000                0.011000   \n",
       "81   China  1998                   198.890000                0.014000   \n",
       "82   China  1999                   196.580000                0.017000   \n",
       "83   China  2000                   222.410000                0.022000   \n",
       "84   China  2001                   277.430000                0.031000   \n",
       "85   China  2002                   287.970000                0.048000   \n",
       "86   China  2003                   283.680000                0.064000   \n",
       "87   China  2004                   353.544000                0.076000   \n",
       "88   China  2005                   397.017000                0.084000   \n",
       "89   China  2006                   435.786000                0.095000   \n",
       "90   China  2007                   485.264000                0.114000   \n",
       "91   China  2008                   636.960000                0.152000   \n",
       "92   China  2009                   615.640000                0.279000   \n",
       "93   China  2010                   711.383140                0.701000   \n",
       "94   China  2011                   688.045000                2.610000   \n",
       "95   China  2012                   862.794110                3.594510   \n",
       "96   China  2013                   909.611273                8.373886   \n",
       "97   China  2014                  1051.146674               23.512157   \n",
       "98   China  2015                  1114.515410               43.560000   \n",
       "99   China  2016                  1153.269500               61.686000   \n",
       "100  China  2017                  1165.070000              117.800000   \n",
       "101  China  2018                  1202.430000              177.500000   \n",
       "\n",
       "     Wind (terawatt-hours)  Other renewables (terawatt-hours)  \n",
       "68                0.000000                           0.000000  \n",
       "69                0.000000                           0.000000  \n",
       "70                0.000000                           0.000000  \n",
       "71                0.000000                           0.000000  \n",
       "72                0.000000                           0.000000  \n",
       "73                0.002020                           0.064000  \n",
       "74                0.009091                           0.064000  \n",
       "75                0.131313                           0.113000  \n",
       "76                0.212121                           0.117000  \n",
       "77                0.383838                           0.460000  \n",
       "78                0.616162                           3.014000  \n",
       "79                0.093939                           1.533000  \n",
       "80                0.197980                           2.722000  \n",
       "81                0.355556                           2.480000  \n",
       "82                0.473737                           2.520000  \n",
       "83                0.589899                           2.537000  \n",
       "84                0.719192                           2.554000  \n",
       "85                0.837374                           2.546000  \n",
       "86                0.996970                           2.536000  \n",
       "87                1.277778                           2.528000  \n",
       "88                1.946061                           5.322000  \n",
       "89                3.711818                           7.133000  \n",
       "90                5.479293                           9.863000  \n",
       "91               13.100000                          14.866000  \n",
       "92               27.600000                          20.859320  \n",
       "93               44.622000                          24.900230  \n",
       "94               70.331000                          27.707000  \n",
       "95               95.978000                          30.484845  \n",
       "96              141.197000                          37.286429  \n",
       "97              156.078000                          46.421649  \n",
       "98              185.766000                          54.070290  \n",
       "99              237.071000                          62.134767  \n",
       "100             295.000000                          79.597146  \n",
       "101             366.000000                          90.723462  "
      ]
     },
     "execution_count": 3,
     "metadata": {},
     "output_type": "execute_result"
    }
   ],
   "source": [
    "df = df[df['Entity'] == 'China']\n",
    "df = df.drop(['Unnamed: 0'], axis=1)\n",
    "#df.drop(df[df['Year'] <= 1998].index, inplace = True)\n",
    "df"
   ]
  },
  {
   "cell_type": "code",
   "execution_count": 4,
   "id": "c6a58bb2",
   "metadata": {},
   "outputs": [
    {
     "name": "stdout",
     "output_type": "stream",
     "text": [
      "<class 'pandas.core.frame.DataFrame'>\n",
      "Int64Index: 34 entries, 68 to 101\n",
      "Data columns (total 6 columns):\n",
      " #   Column                             Non-Null Count  Dtype  \n",
      "---  ------                             --------------  -----  \n",
      " 0   Entity                             34 non-null     object \n",
      " 1   Year                               34 non-null     int64  \n",
      " 2   Hydropower (terawatt-hours)        34 non-null     float64\n",
      " 3   Solar (terawatt-hours)             34 non-null     float64\n",
      " 4   Wind (terawatt-hours)              34 non-null     float64\n",
      " 5   Other renewables (terawatt-hours)  34 non-null     float64\n",
      "dtypes: float64(4), int64(1), object(1)\n",
      "memory usage: 1.9+ KB\n"
     ]
    }
   ],
   "source": [
    "df.info()"
   ]
  },
  {
   "cell_type": "code",
   "execution_count": 5,
   "id": "9a24deb5",
   "metadata": {
    "scrolled": true
   },
   "outputs": [
    {
     "data": {
      "text/plain": [
       "Entity                               0\n",
       "Year                                 0\n",
       "Hydropower (terawatt-hours)          0\n",
       "Solar (terawatt-hours)               0\n",
       "Wind (terawatt-hours)                0\n",
       "Other renewables (terawatt-hours)    0\n",
       "dtype: int64"
      ]
     },
     "execution_count": 5,
     "metadata": {},
     "output_type": "execute_result"
    }
   ],
   "source": [
    "df.isnull().sum()"
   ]
  },
  {
   "cell_type": "code",
   "execution_count": 6,
   "id": "f5f5c01b",
   "metadata": {},
   "outputs": [
    {
     "data": {
      "image/png": "[encoded data removed]",
      "text/plain": [
       "<Figure size 288x1152 with 4 Axes>"
      ]
     },
     "metadata": {
      "needs_background": "light"
     },
     "output_type": "display_data"
    }
   ],
   "source": [
    "# Using pairplot we'll visualize the data\n",
    "sns.pairplot(df, x_vars='Year', \n",
    "y_vars=['Hydropower (terawatt-hours)','Solar (terawatt-hours)', 'Wind (terawatt-hours)', 'Other renewables (terawatt-hours)'],\n",
    "height=4, aspect=1, kind='scatter')\n",
    "plt.show()"
   ]
  },
  {
   "cell_type": "code",
   "execution_count": 7,
   "id": "9e159ead",
   "metadata": {},
   "outputs": [
    {
     "data": {
      "image/png": "[encoded data removed]",
      "text/plain": [
       "<Figure size 432x288 with 2 Axes>"
      ]
     },
     "metadata": {
      "needs_background": "light"
     },
     "output_type": "display_data"
    }
   ],
   "source": [
    "# Visualizing the data using heatmap\n",
    "sns.heatmap(df.corr(), cmap=\"YlGnBu\", annot = True)\n",
    "plt.show()"
   ]
  },
  {
   "cell_type": "markdown",
   "id": "7a90b29e",
   "metadata": {},
   "source": [
    "# Doing Simple Linear Regression for each Energy Source                                    1) Hydropower"
   ]
  },
  {
   "cell_type": "code",
   "execution_count": 8,
   "id": "4962f3d8",
   "metadata": {},
   "outputs": [],
   "source": [
    "#Setting the value for X and Y\n",
    "x_vars = df['Year'].values.reshape(-1,1)\n",
    "y_vars = df['Hydropower (terawatt-hours)'].values.reshape(-1,1)"
   ]
  },
  {
   "cell_type": "code",
   "execution_count": 9,
   "id": "19cd1a61",
   "metadata": {},
   "outputs": [],
   "source": [
    "#Splitting the dataset: 70% train and 30% test\n",
    "from sklearn.model_selection import train_test_split\n",
    "x_train, x_test, y_train, y_test = train_test_split(x_vars, y_vars, test_size = 0.3,\n",
    "random_state = 100)"
   ]
  },
  {
   "cell_type": "code",
   "execution_count": 10,
   "id": "043bfe05",
   "metadata": {},
   "outputs": [
    {
     "data": {
      "text/plain": [
       "LinearRegression()"
      ]
     },
     "execution_count": 10,
     "metadata": {},
     "output_type": "execute_result"
    }
   ],
   "source": [
    "#Fitting the Simple Linear Regression model\n",
    "#To build a linear regression model, we need to create an instance of \n",
    "#LinearRegression() class and use x_train, y_train to train the model using the \n",
    "#fit() method of that class. Now, the variable lr is an instance of the\n",
    "#LinearRegression() class.\n",
    "from sklearn.linear_model import LinearRegression\n",
    "reg = LinearRegression()  \n",
    "reg.fit(x_train, y_train)"
   ]
  },
  {
   "cell_type": "code",
   "execution_count": 11,
   "id": "ac534c1a",
   "metadata": {},
   "outputs": [
    {
     "name": "stdout",
     "output_type": "stream",
     "text": [
      "31.993302811060172\n",
      "-63609.34695837198\n",
      "The linear model is: Y = -6.3609e+04 + 31.993X\n"
     ]
    }
   ],
   "source": [
    "print(reg.coef_[0][0])\n",
    "print(reg.intercept_[0])\n",
    "\n",
    "print(\"The linear model is: Y = {:.5} + {:.5}X\".format(reg.intercept_[0], reg.coef_[0][0]))"
   ]
  },
  {
   "cell_type": "code",
   "execution_count": 12,
   "id": "26f9548f",
   "metadata": {},
   "outputs": [
    {
     "data": {
      "image/png": "[encoded data removed]",
      "text/plain": [
       "<Figure size 1152x576 with 1 Axes>"
      ]
     },
     "metadata": {
      "needs_background": "light"
     },
     "output_type": "display_data"
    }
   ],
   "source": [
    "predictions = reg.predict(x_vars)\n",
    "\n",
    "plt.figure(figsize=(16, 8))\n",
    "plt.scatter(\n",
    "    df['Year'],\n",
    "    df['Hydropower (terawatt-hours)'],\n",
    "    c='black'\n",
    ")\n",
    "plt.plot(\n",
    "    df['Year'],\n",
    "    predictions,\n",
    "    c='blue',\n",
    "    linewidth=2\n",
    ")\n",
    "plt.xlabel(\"Year\")\n",
    "plt.ylabel(\"Hydropower (terawatt-hours)\")\n",
    "plt.show()"
   ]
  },
  {
   "cell_type": "code",
   "execution_count": 13,
   "id": "61d173b7",
   "metadata": {},
   "outputs": [
    {
     "name": "stdout",
     "output_type": "stream",
     "text": [
      "                                 OLS Regression Results                                \n",
      "=======================================================================================\n",
      "Dep. Variable:     Hydropower (terawatt-hours)   R-squared:                       0.857\n",
      "Model:                                     OLS   Adj. R-squared:                  0.853\n",
      "Method:                          Least Squares   F-statistic:                     191.8\n",
      "Date:                         Sat, 16 Apr 2022   Prob (F-statistic):           4.58e-15\n",
      "Time:                                 09:14:05   Log-Likelihood:                -215.67\n",
      "No. Observations:                           34   AIC:                             435.3\n",
      "Df Residuals:                               32   BIC:                             438.4\n",
      "Df Model:                                    1                                         \n",
      "Covariance Type:                     nonrobust                                         \n",
      "==============================================================================\n",
      "                 coef    std err          t      P>|t|      [0.025      0.975]\n",
      "------------------------------------------------------------------------------\n",
      "const      -6.829e+04   4962.528    -13.761      0.000   -7.84e+04   -5.82e+04\n",
      "Year          34.3397      2.479     13.850      0.000      29.289      39.390\n",
      "==============================================================================\n",
      "Omnibus:                       11.570   Durbin-Watson:                   0.112\n",
      "Prob(Omnibus):                  0.003   Jarque-Bera (JB):                2.757\n",
      "Skew:                           0.178   Prob(JB):                        0.252\n",
      "Kurtosis:                       1.651   Cond. No.                     4.08e+05\n",
      "==============================================================================\n",
      "\n",
      "Notes:\n",
      "[1] Standard Errors assume that the covariance matrix of the errors is correctly specified.\n",
      "[2] The condition number is large, 4.08e+05. This might indicate that there are\n",
      "strong multicollinearity or other numerical problems.\n"
     ]
    }
   ],
   "source": [
    "X = df['Year']\n",
    "y = df['Hydropower (terawatt-hours)']\n",
    "\n",
    "#Add a constant. Essentially, we are adding a new column (equal in length to x), which consits of only 1s\n",
    "X2 = sm.add_constant(X)\n",
    "#Fit the model according to OLS method with a dependent variable y\n",
    "est = sm.OLS(y, X2)\n",
    "est2 = est.fit()\n",
    "print(est2.summary())"
   ]
  },
  {
   "cell_type": "code",
   "execution_count": 14,
   "id": "5cdad3c4",
   "metadata": {},
   "outputs": [],
   "source": [
    "#From the summary table, we can say that the intercept (const) coefficient is -6.829e+04 and the \n",
    "#independent variable coefficient is 34.3397\n",
    "#(signifies if Year increases by 1 units, Hydropower increases by 34.3397 units)\n",
    "\n",
    "#If the p-value of the independent variable/s is greater than 0.050, we say that the variable is not \n",
    "#significant and we may drop the variable. In our case, the p-value of Year is 0.000 and as it is lesser \n",
    "#than 0.050, we can say that this variable is significant. [Also, if we think logically, Year is a significant \n",
    "#variable to predict Hydropower]\n",
    "\n",
    "#And finally, the R-squared, R² is nothing but the goodness of the fit of the model. \n",
    "#In other words, how well our model fitted the observation. R² ranges between 0\n",
    "#and 1. There is no clear universal range for the best R² but, it depends on a case-\n",
    "#to-case basis.\n",
    "\n",
    "#Adjusted R² on the other hand, is a modified version of R-squared that has been adjusted for the number of predictors \n",
    "#(inputs) in the model. The adjusted R-squared increases when the new independent term improves the model more than \n",
    "#would be expected by chance. It decreases when a predictor improves the model by less than expected."
   ]
  },
  {
   "cell_type": "code",
   "execution_count": 15,
   "id": "589b8f9a",
   "metadata": {},
   "outputs": [
    {
     "name": "stdout",
     "output_type": "stream",
     "text": [
      "Prediction for test set:\n",
      " [[697.19169186]\n",
      " [953.13811435]\n",
      " [857.15820591]\n",
      " [ 57.32563564]\n",
      " [-70.64757561]\n",
      " [313.27205813]\n",
      " [473.23857218]\n",
      " [889.15150873]\n",
      " [505.23187499]\n",
      " [ 89.31893845]\n",
      " [185.29884688]]\n",
      "Actual value for training set:\n",
      " [[ 711.38314  ]\n",
      " [1202.43     ]\n",
      " [1114.51541  ]\n",
      " [ 126.7439726]\n",
      " [  94.5486436]\n",
      " [ 198.89     ]\n",
      " [ 283.68     ]\n",
      " [1153.2695   ]\n",
      " [ 353.544    ]\n",
      " [ 124.6889516]\n",
      " [ 167.428969 ]]\n"
     ]
    }
   ],
   "source": [
    "#Prediction of test set\n",
    "y_pred_lr = reg.predict(x_test)\n",
    "#Predicted values\n",
    "print(\"Prediction for test set:\\n {}\".format(y_pred_lr))\n",
    "print(\"Actual value for training set:\\n {}\".format(y_test))"
   ]
  },
  {
   "cell_type": "code",
   "execution_count": 25,
   "id": "412e9e4b",
   "metadata": {},
   "outputs": [],
   "source": [
    "[int(item[0]) for item in y_pred_lr]\n",
    "[int(item[0]) for item in y_test]\n",
    "test_vs_real = {'Actual Value': y_test, 'Predicted value': y_pred_lr}\n",
    "#comparison = pd.DataFrame([test_vs_real])\n",
    "#comparison"
   ]
  },
  {
   "cell_type": "code",
   "execution_count": 26,
   "id": "38c26a64",
   "metadata": {},
   "outputs": [
    {
     "name": "stdout",
     "output_type": "stream",
     "text": [
      "R squared: 85.08\n",
      "Mean Absolute Error: 138.94922560511625\n",
      "Mean Square Error: 27640.260991214556\n",
      "Root Mean Square Error: 166.25360444578203\n"
     ]
    }
   ],
   "source": [
    "#Model Evaluation\n",
    "meanAbErr = metrics.mean_absolute_error(y_test, y_pred_lr)\n",
    "meanSqErr = metrics.mean_squared_error(y_test, y_pred_lr)\n",
    "rootMeanSqErr = np.sqrt(metrics.mean_squared_error(y_test, y_pred_lr))\n",
    "print('R squared: {:.2f}'.format(reg.score(x_vars,y_vars)*100))\n",
    "print('Mean Absolute Error:', meanAbErr)\n",
    "print('Mean Square Error:', meanSqErr)\n",
    "print('Root Mean Square Error:', rootMeanSqErr)"
   ]
  },
  {
   "cell_type": "markdown",
   "id": "475040f3",
   "metadata": {},
   "source": [
    "# 2) Solar "
   ]
  },
  {
   "cell_type": "code",
   "execution_count": 393,
   "id": "a431a058",
   "metadata": {},
   "outputs": [],
   "source": [
    "#Setting the value for X and Y\n",
    "x_vars = df['Year'].values.reshape(-1,1)\n",
    "y_vars = df['Solar (terawatt-hours)'].values.reshape(-1,1)"
   ]
  },
  {
   "cell_type": "code",
   "execution_count": 394,
   "id": "d79d578e",
   "metadata": {},
   "outputs": [],
   "source": [
    "#Splitting the dataset: 70% train and 30% test\n",
    "from sklearn.model_selection import train_test_split\n",
    "x_train, x_test, y_train, y_test = train_test_split(x_vars, y_vars, test_size = 0.3,\n",
    "random_state = 100)"
   ]
  },
  {
   "cell_type": "code",
   "execution_count": 395,
   "id": "53973f45",
   "metadata": {},
   "outputs": [
    {
     "data": {
      "text/plain": [
       "LinearRegression()"
      ]
     },
     "execution_count": 395,
     "metadata": {},
     "output_type": "execute_result"
    }
   ],
   "source": [
    "#Fitting the Simple Linear Regression model\n",
    "#To build a linear regression model, we need to create an instance of \n",
    "#LinearRegression() class and use x_train, y_train to train the model using the \n",
    "#fit() method of that class. Now, the variable lr is an instance of the\n",
    "#LinearRegression() class.\n",
    "reg = LinearRegression()  \n",
    "reg.fit(x_train, y_train)"
   ]
  },
  {
   "cell_type": "code",
   "execution_count": 396,
   "id": "3557c9c1",
   "metadata": {},
   "outputs": [
    {
     "name": "stdout",
     "output_type": "stream",
     "text": [
      "1.1866162189955478\n",
      "-2367.7578931498297\n",
      "The linear model is: Y = -2367.8 + 1.1866X\n"
     ]
    }
   ],
   "source": [
    "print(reg.coef_[0][0])\n",
    "print(reg.intercept_[0])\n",
    "\n",
    "print(\"The linear model is: Y = {:.5} + {:.5}X\".format(reg.intercept_[0], reg.coef_[0][0]))"
   ]
  },
  {
   "cell_type": "code",
   "execution_count": 397,
   "id": "3a9ca8a1",
   "metadata": {},
   "outputs": [
    {
     "data": {
      "image/png": "[encoded data removed]",
      "text/plain": [
       "<Figure size 1152x576 with 1 Axes>"
      ]
     },
     "metadata": {
      "needs_background": "light"
     },
     "output_type": "display_data"
    }
   ],
   "source": [
    "predictions = reg.predict(x_vars)\n",
    "\n",
    "plt.figure(figsize=(16, 8))\n",
    "plt.scatter(\n",
    "    df['Year'],\n",
    "    df['Solar (terawatt-hours)'],\n",
    "    c='black'\n",
    ")\n",
    "plt.plot(\n",
    "    df['Year'],\n",
    "    predictions,\n",
    "    c='blue',\n",
    "    linewidth=2\n",
    ")\n",
    "plt.xlabel(\"Year\")\n",
    "plt.ylabel(\"Solar (terawatt-hours)\")\n",
    "plt.show()"
   ]
  },
  {
   "cell_type": "code",
   "execution_count": 398,
   "id": "47d0e2c0",
   "metadata": {},
   "outputs": [
    {
     "name": "stdout",
     "output_type": "stream",
     "text": [
      "                              OLS Regression Results                              \n",
      "==================================================================================\n",
      "Dep. Variable:     Solar (terawatt-hours)   R-squared:                       0.298\n",
      "Model:                                OLS   Adj. R-squared:                  0.276\n",
      "Method:                     Least Squares   F-statistic:                     13.59\n",
      "Date:                    Thu, 14 Apr 2022   Prob (F-statistic):           0.000838\n",
      "Time:                            17:42:56   Log-Likelihood:                -164.81\n",
      "No. Observations:                      34   AIC:                             333.6\n",
      "Df Residuals:                          32   BIC:                             336.7\n",
      "Df Model:                               1                                         \n",
      "Covariance Type:                nonrobust                                         \n",
      "==============================================================================\n",
      "                 coef    std err          t      P>|t|      [0.025      0.975]\n",
      "------------------------------------------------------------------------------\n",
      "const      -4084.9485   1111.720     -3.674      0.001   -6349.448   -1820.449\n",
      "Year           2.0474      0.555      3.686      0.001       0.916       3.179\n",
      "==============================================================================\n",
      "Omnibus:                       37.616   Durbin-Watson:                   0.220\n",
      "Prob(Omnibus):                  0.000   Jarque-Bera (JB):              117.529\n",
      "Skew:                           2.476   Prob(JB):                     3.01e-26\n",
      "Kurtosis:                      10.645   Cond. No.                     4.08e+05\n",
      "==============================================================================\n",
      "\n",
      "Notes:\n",
      "[1] Standard Errors assume that the covariance matrix of the errors is correctly specified.\n",
      "[2] The condition number is large, 4.08e+05. This might indicate that there are\n",
      "strong multicollinearity or other numerical problems.\n"
     ]
    }
   ],
   "source": [
    "X = df['Year']\n",
    "y = df['Solar (terawatt-hours)']\n",
    "\n",
    "X2 = sm.add_constant(X)\n",
    "est = sm.OLS(y, X2)\n",
    "est2 = est.fit()\n",
    "print(est2.summary())"
   ]
  },
  {
   "cell_type": "code",
   "execution_count": 399,
   "id": "af91d947",
   "metadata": {},
   "outputs": [
    {
     "name": "stdout",
     "output_type": "stream",
     "text": [
      "Prediction for test set:\n",
      " [[ 17.34070703]\n",
      " [ 26.83363678]\n",
      " [ 23.27378813]\n",
      " [ -6.39161735]\n",
      " [-11.13808222]\n",
      " [  3.1013124 ]\n",
      " [  9.0343935 ]\n",
      " [ 24.46040435]\n",
      " [ 10.22100972]\n",
      " [ -5.20500113]\n",
      " [ -1.64515247]]\n",
      "Actual value for training set:\n",
      " [[7.0100e-01]\n",
      " [1.7750e+02]\n",
      " [4.3560e+01]\n",
      " [2.0000e-03]\n",
      " [0.0000e+00]\n",
      " [1.4000e-02]\n",
      " [6.4000e-02]\n",
      " [6.1686e+01]\n",
      " [7.6000e-02]\n",
      " [2.0000e-03]\n",
      " [5.0000e-03]]\n"
     ]
    }
   ],
   "source": [
    "#Prediction of test set\n",
    "y_pred_lr = reg.predict(x_test)\n",
    "#Predicted values\n",
    "print(\"Prediction for test set:\\n {}\".format(y_pred_lr))\n",
    "print(\"Actual value for training set:\\n {}\".format(y_test))"
   ]
  },
  {
   "cell_type": "code",
   "execution_count": null,
   "id": "107716b3",
   "metadata": {},
   "outputs": [],
   "source": []
  },
  {
   "cell_type": "markdown",
   "id": "c1eb5dfd",
   "metadata": {},
   "source": [
    "# 3) Wind "
   ]
  },
  {
   "cell_type": "code",
   "execution_count": 400,
   "id": "faa45adf",
   "metadata": {},
   "outputs": [],
   "source": [
    "#Setting the value for X and Y\n",
    "x_vars = df['Year'].values.reshape(-1,1)\n",
    "y_vars = df['Wind (terawatt-hours)'].values.reshape(-1,1)"
   ]
  },
  {
   "cell_type": "code",
   "execution_count": 401,
   "id": "64690669",
   "metadata": {},
   "outputs": [],
   "source": [
    "#Splitting the dataset: 70% train and 30% test\n",
    "from sklearn.model_selection import train_test_split\n",
    "x_train, x_test, y_train, y_test = train_test_split(x_vars, y_vars, test_size = 0.3,\n",
    "random_state = 100)"
   ]
  },
  {
   "cell_type": "code",
   "execution_count": 402,
   "id": "d013d256",
   "metadata": {},
   "outputs": [
    {
     "data": {
      "text/plain": [
       "LinearRegression()"
      ]
     },
     "execution_count": 402,
     "metadata": {},
     "output_type": "execute_result"
    }
   ],
   "source": [
    "#Fitting the Simple Linear Regression model\n",
    "#To build a linear regression model, we need to create an instance of \n",
    "#LinearRegression() class and use x_train, y_train to train the model using the \n",
    "#fit() method of that class. Now, the variable lr is an instance of the\n",
    "#LinearRegression() class.\n",
    "reg = LinearRegression()  \n",
    "reg.fit(x_train, y_train)"
   ]
  },
  {
   "cell_type": "code",
   "execution_count": 403,
   "id": "3604008f",
   "metadata": {},
   "outputs": [
    {
     "name": "stdout",
     "output_type": "stream",
     "text": [
      "5.302326621738656\n",
      "-10575.243139271935\n",
      "The linear model is: Y = -1.0575e+04 + 5.3023X\n"
     ]
    }
   ],
   "source": [
    "print(reg.coef_[0][0])\n",
    "print(reg.intercept_[0])\n",
    "\n",
    "print(\"The linear model is: Y = {:.5} + {:.5}X\".format(reg.intercept_[0], reg.coef_[0][0]))"
   ]
  },
  {
   "cell_type": "code",
   "execution_count": 404,
   "id": "7f190596",
   "metadata": {},
   "outputs": [
    {
     "data": {
      "image/png": "[encoded data removed]",
      "text/plain": [
       "<Figure size 1152x576 with 1 Axes>"
      ]
     },
     "metadata": {
      "needs_background": "light"
     },
     "output_type": "display_data"
    }
   ],
   "source": [
    "predictions = reg.predict(x_vars)\n",
    "\n",
    "plt.figure(figsize=(16, 8))\n",
    "plt.scatter(\n",
    "    df['Year'],\n",
    "    df['Wind (terawatt-hours)'],\n",
    "    c='black'\n",
    ")\n",
    "plt.plot(\n",
    "    df['Year'],\n",
    "    predictions,\n",
    "    c='blue',\n",
    "    linewidth=2\n",
    ")\n",
    "plt.xlabel(\"Year\")\n",
    "plt.ylabel(\"Wind(terawatt-hours)\")\n",
    "plt.show()"
   ]
  },
  {
   "cell_type": "code",
   "execution_count": 405,
   "id": "4a6874f9",
   "metadata": {},
   "outputs": [
    {
     "name": "stdout",
     "output_type": "stream",
     "text": [
      "                              OLS Regression Results                             \n",
      "=================================================================================\n",
      "Dep. Variable:     Wind (terawatt-hours)   R-squared:                       0.529\n",
      "Model:                               OLS   Adj. R-squared:                  0.514\n",
      "Method:                    Least Squares   F-statistic:                     35.95\n",
      "Date:                   Thu, 14 Apr 2022   Prob (F-statistic):           1.10e-06\n",
      "Time:                           17:43:07   Log-Likelihood:                -189.49\n",
      "No. Observations:                     34   AIC:                             383.0\n",
      "Df Residuals:                         32   BIC:                             386.0\n",
      "Df Model:                              1                                         \n",
      "Covariance Type:               nonrobust                                         \n",
      "==============================================================================\n",
      "                 coef    std err          t      P>|t|      [0.025      0.975]\n",
      "------------------------------------------------------------------------------\n",
      "const      -1.373e+04   2297.385     -5.975      0.000   -1.84e+04   -9046.910\n",
      "Year           6.8824      1.148      5.996      0.000       4.544       9.220\n",
      "==============================================================================\n",
      "Omnibus:                       10.280   Durbin-Watson:                   0.091\n",
      "Prob(Omnibus):                  0.006   Jarque-Bera (JB):                9.244\n",
      "Skew:                           1.076   Prob(JB):                      0.00983\n",
      "Kurtosis:                       4.378   Cond. No.                     4.08e+05\n",
      "==============================================================================\n",
      "\n",
      "Notes:\n",
      "[1] Standard Errors assume that the covariance matrix of the errors is correctly specified.\n",
      "[2] The condition number is large, 4.08e+05. This might indicate that there are\n",
      "strong multicollinearity or other numerical problems.\n"
     ]
    }
   ],
   "source": [
    "X = df['Year']\n",
    "y = df['Wind (terawatt-hours)']\n",
    "\n",
    "X2 = sm.add_constant(X)\n",
    "est = sm.OLS(y, X2)\n",
    "est2 = est.fit()\n",
    "print(est2.summary())"
   ]
  },
  {
   "cell_type": "markdown",
   "id": "5b3de076",
   "metadata": {},
   "source": [
    "# Other renewables"
   ]
  },
  {
   "cell_type": "code",
   "execution_count": 406,
   "id": "16bd8997",
   "metadata": {},
   "outputs": [],
   "source": [
    "#Setting the value for X and Y\n",
    "x_vars = df['Year'].values.reshape(-1,1)\n",
    "y_vars = df['Other renewables (terawatt-hours)'].values.reshape(-1,1)"
   ]
  },
  {
   "cell_type": "code",
   "execution_count": 407,
   "id": "b6affeff",
   "metadata": {},
   "outputs": [],
   "source": [
    "#Splitting the dataset: 70% train and 30% test\n",
    "from sklearn.model_selection import train_test_split\n",
    "x_train, x_test, y_train, y_test = train_test_split(x_vars, y_vars, test_size = 0.3,\n",
    "random_state = 100)"
   ]
  },
  {
   "cell_type": "code",
   "execution_count": 408,
   "id": "ad2dd048",
   "metadata": {},
   "outputs": [
    {
     "data": {
      "text/plain": [
       "LinearRegression()"
      ]
     },
     "execution_count": 408,
     "metadata": {},
     "output_type": "execute_result"
    }
   ],
   "source": [
    "#Fitting the Simple Linear Regression model\n",
    "#To build a linear regression model, we need to create an instance of \n",
    "#LinearRegression() class and use x_train, y_train to train the model using the \n",
    "#fit() method of that class. Now, the variable lr is an instance of the\n",
    "#LinearRegression() class.\n",
    "reg = LinearRegression()  \n",
    "reg.fit(x_train, y_train)"
   ]
  },
  {
   "cell_type": "code",
   "execution_count": 410,
   "id": "6fd4352e",
   "metadata": {},
   "outputs": [
    {
     "name": "stdout",
     "output_type": "stream",
     "text": [
      "1.64328486875454\n",
      "-3275.5057817798825\n",
      "The linear model is: Y = -3275.5 + 1.6433X\n"
     ]
    }
   ],
   "source": [
    "print(reg.coef_[0][0])\n",
    "print(reg.intercept_[0])\n",
    "\n",
    "print(\"The linear model is: Y = {:.5} + {:.5}X\".format(reg.intercept_[0], reg.coef_[0][0]))"
   ]
  },
  {
   "cell_type": "code",
   "execution_count": 411,
   "id": "26e2fdaf",
   "metadata": {},
   "outputs": [
    {
     "data": {
      "image/png": "[encoded data removed]",
      "text/plain": [
       "<Figure size 1152x576 with 1 Axes>"
      ]
     },
     "metadata": {
      "needs_background": "light"
     },
     "output_type": "display_data"
    }
   ],
   "source": [
    "predictions = reg.predict(x_vars)\n",
    "\n",
    "plt.figure(figsize=(16, 8))\n",
    "plt.scatter(\n",
    "    df['Year'],\n",
    "    df['Other renewables (terawatt-hours)'],\n",
    "    c='black'\n",
    ")\n",
    "plt.plot(\n",
    "    df['Year'],\n",
    "    predictions,\n",
    "    c='blue',\n",
    "    linewidth=2\n",
    ")\n",
    "plt.xlabel(\"Year\")\n",
    "plt.ylabel(\"Other renewables (terawatt-hours)\")\n",
    "plt.show()"
   ]
  },
  {
   "cell_type": "code",
   "execution_count": 412,
   "id": "167262cb",
   "metadata": {},
   "outputs": [
    {
     "name": "stdout",
     "output_type": "stream",
     "text": [
      "                                    OLS Regression Results                                   \n",
      "=============================================================================================\n",
      "Dep. Variable:     Other renewables (terawatt-hours)   R-squared:                       0.651\n",
      "Model:                                           OLS   Adj. R-squared:                  0.641\n",
      "Method:                                Least Squares   F-statistic:                     59.80\n",
      "Date:                               Thu, 14 Apr 2022   Prob (F-statistic):           8.11e-09\n",
      "Time:                                       17:43:19   Log-Likelihood:                -138.42\n",
      "No. Observations:                                 34   AIC:                             280.8\n",
      "Df Residuals:                                     32   BIC:                             283.9\n",
      "Df Model:                                          1                                         \n",
      "Covariance Type:                           nonrobust                                         \n",
      "==============================================================================\n",
      "                 coef    std err          t      P>|t|      [0.025      0.975]\n",
      "------------------------------------------------------------------------------\n",
      "const      -3939.9865    511.536     -7.702      0.000   -4981.950   -2898.022\n",
      "Year           1.9764      0.256      7.733      0.000       1.456       2.497\n",
      "==============================================================================\n",
      "Omnibus:                        7.927   Durbin-Watson:                   0.084\n",
      "Prob(Omnibus):                  0.019   Jarque-Bera (JB):                6.457\n",
      "Skew:                           0.980   Prob(JB):                       0.0396\n",
      "Kurtosis:                       3.845   Cond. No.                     4.08e+05\n",
      "==============================================================================\n",
      "\n",
      "Notes:\n",
      "[1] Standard Errors assume that the covariance matrix of the errors is correctly specified.\n",
      "[2] The condition number is large, 4.08e+05. This might indicate that there are\n",
      "strong multicollinearity or other numerical problems.\n"
     ]
    }
   ],
   "source": [
    "X = df['Year']\n",
    "y = df['Other renewables (terawatt-hours)']\n",
    "\n",
    "X2 = sm.add_constant(X)\n",
    "est = sm.OLS(y, X2)\n",
    "est2 = est.fit()\n",
    "print(est2.summary())"
   ]
  },
  {
   "cell_type": "code",
   "execution_count": 413,
   "id": "32ef83ad",
   "metadata": {},
   "outputs": [
    {
     "name": "stdout",
     "output_type": "stream",
     "text": [
      "Prediction for test set:\n",
      " [[ 27.49680442]\n",
      " [ 40.64308337]\n",
      " [ 35.71322876]\n",
      " [ -5.36889296]\n",
      " [-11.94203243]\n",
      " [  7.77738599]\n",
      " [ 15.99381034]\n",
      " [ 37.35651363]\n",
      " [ 17.6370952 ]\n",
      " [ -3.72560809]\n",
      " [  1.20424652]]\n",
      "Actual value for training set:\n",
      " [[2.49002300e+01]\n",
      " [9.07234617e+01]\n",
      " [5.40702900e+01]\n",
      " [6.40000000e-02]\n",
      " [0.00000000e+00]\n",
      " [2.48000000e+00]\n",
      " [2.53600000e+00]\n",
      " [6.21347670e+01]\n",
      " [2.52800000e+00]\n",
      " [6.40000000e-02]\n",
      " [4.60000000e-01]]\n"
     ]
    }
   ],
   "source": [
    "#Prediction of test set\n",
    "y_pred_lr = reg.predict(x_test)\n",
    "#Predicted values\n",
    "print(\"Prediction for test set:\\n {}\".format(y_pred_lr))\n",
    "print(\"Actual value for training set:\\n {}\".format(y_test))"
   ]
  }
 ],
 "metadata": {
  "kernelspec": {
   "display_name": "Python 3",
   "language": "python",
   "name": "python3"
  },
  "language_info": {
   "codemirror_mode": {
    "name": "ipython",
    "version": 3
   },
   "file_extension": ".py",
   "mimetype": "text/x-python",
   "name": "python",
   "nbconvert_exporter": "python",
   "pygments_lexer": "ipython3",
   "version": "3.8.8"
  }
 },
 "nbformat": 4,
 "nbformat_minor": 5
}
